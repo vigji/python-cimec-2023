{
 "cells": [
  {
   "cell_type": "markdown",
   "id": "3ca811a3",
   "metadata": {},
   "source": [
    "# Python for (open) Neuroscience\n",
    "\n",
    "_Lecture 2.1_ - Real world Python on real world data \n",
    "\n",
    "Luigi Petrucco\n",
    "\n",
    "Jean-Charles Mariani\n",
    "\n",
    "[![Open In Colab](https://colab.research.google.com/assets/colab-badge.svg)](https://colab.research.google.com/github/vigji/python-cimec/blob/main/lectures/Lecture2.0_Real-world-Python.ipynb)"
   ]
  },
  {
   "cell_type": "markdown",
   "id": "aa5fc3bc",
   "metadata": {},
   "source": [
    "## Working with images"
   ]
  },
  {
   "cell_type": "markdown",
   "id": "c3e00741",
   "metadata": {},
   "source": [
    "Two\n",
    "- 2D, single channel image: (n, m) matrix of pixels\n",
    "- 2D RGB image: (n, m, 3) matrix where the third dimension represents values over each of three color axes (Red, Green, Blue)\n",
    "- 3D, single channel image: ()"
   ]
  },
  {
   "cell_type": "code",
   "execution_count": null,
   "id": "0c46688e",
   "metadata": {},
   "outputs": [],
   "source": []
  },
  {
   "cell_type": "code",
   "execution_count": null,
   "id": "eb0cd7ea",
   "metadata": {},
   "outputs": [],
   "source": []
  },
  {
   "cell_type": "markdown",
   "id": "ac4a5d3c",
   "metadata": {},
   "source": [
    "(End of lecture - code below to create the example data structure)"
   ]
  },
  {
   "cell_type": "code",
   "execution_count": null,
   "id": "f4198653",
   "metadata": {},
   "outputs": [],
   "source": [
    "data_folder = Path(\"/Users/vigji/sample_data_folder\")\n",
    "path_to_move.mkdir(exist_ok=True)\n",
    "\n",
    "for subject_i in range(3):\n",
    "    for session_i in range(4):\n",
    "        with open(data_folder / f\"sub{subject_i}_ses{session_i}.data\", \"w\") as f:\n",
    "            f.write(\"a\")\n",
    "        with open(data_folder / f\"sub{subject_i}_ses{session_i}.metadata\", \"w\") as f:\n",
    "            f.write(\"a\")"
   ]
  },
  {
   "cell_type": "code",
   "execution_count": null,
   "id": "cd9dcf3c",
   "metadata": {},
   "outputs": [],
   "source": []
  }
 ],
 "metadata": {
  "celltoolbar": "Slideshow",
  "kernelspec": {
   "display_name": "Python [conda env:course_env]",
   "language": "python",
   "name": "conda-env-course_env-py"
  },
  "language_info": {
   "codemirror_mode": {
    "name": "ipython",
    "version": 3
   },
   "file_extension": ".py",
   "mimetype": "text/x-python",
   "name": "python",
   "nbconvert_exporter": "python",
   "pygments_lexer": "ipython3"
  }
 },
 "nbformat": 4,
 "nbformat_minor": 5
}
