{
 "cells": [
  {
   "cell_type": "markdown",
   "id": "3ca811a3",
   "metadata": {},
   "source": [
    "# Python for (open) Neuroscience\n",
    "\n",
    "_Lecture 0.0_: Introduction to Python (comments, variables, types)\n",
    "\n",
    "Luigi Petrucco\n",
    "\n",
    "Jean-Charles Mariani"
   ]
  },
  {
   "cell_type": "markdown",
   "id": "080ed674",
   "metadata": {},
   "source": [
    "## Introduction to Python syntax"
   ]
  },
  {
   "cell_type": "markdown",
   "id": "91449a81",
   "metadata": {},
   "source": [
    "A Python program constists of written instructions given to a <span style=\"color:indianred\">Python interpreter</span> "
   ]
  },
  {
   "cell_type": "code",
   "execution_count": null,
   "id": "0582e20d",
   "metadata": {},
   "outputs": [],
   "source": [
    "print(\"Hello World\")"
   ]
  },
  {
   "cell_type": "markdown",
   "id": "8db9d05e",
   "metadata": {},
   "source": [
    "Those lines could be written on a text file with extension `.py` (more on this later), or written in cells of a notebook."
   ]
  },
  {
   "cell_type": "markdown",
   "id": "da4331f7",
   "metadata": {},
   "source": [
    "Comments that have no effect on the program can be introduced"
   ]
  },
  {
   "cell_type": "code",
   "execution_count": null,
   "id": "3a2932ac",
   "metadata": {},
   "outputs": [],
   "source": [
    "# We're about to print Hello World:\n",
    "print(\"Hello World\")"
   ]
  },
  {
   "cell_type": "markdown",
   "id": "56bc3f42",
   "metadata": {},
   "source": [
    "### Python code layout"
   ]
  },
  {
   "cell_type": "markdown",
   "id": "e1f87b6b",
   "metadata": {},
   "source": [
    "New line separates instructions sent to Python, called <span style=\"color:indianred\">statements</span>"
   ]
  },
  {
   "cell_type": "code",
   "execution_count": null,
   "id": "5779c700",
   "metadata": {},
   "outputs": [],
   "source": [
    "print(\"We are adding numbers\")  # a statement\n",
    "a_sum = 1 + 2  # another statement\n",
    "print(a_sum)  # another statement"
   ]
  },
  {
   "cell_type": "markdown",
   "id": "2cec2728",
   "metadata": {},
   "source": [
    "Indentation counts to segregate logical blocks"
   ]
  },
  {
   "cell_type": "code",
   "execution_count": null,
   "id": "8e0bbb38",
   "metadata": {},
   "outputs": [],
   "source": [
    "for i in range(3):\n",
    "    print(i)  # everything that is indented at this level happend inside the loop\n",
    "print(\"Hello world!\")"
   ]
  },
  {
   "cell_type": "markdown",
   "id": "bcd935fc",
   "metadata": {},
   "source": [
    "## Variables"
   ]
  },
  {
   "cell_type": "markdown",
   "id": "d6662d46",
   "metadata": {},
   "source": [
    "We assign values to variables when we want to remember them, or refer to them elsewhere in our program. "
   ]
  },
  {
   "cell_type": "markdown",
   "id": "e38a226a",
   "metadata": {},
   "source": [
    "We define variables by using a single `=` sign. This tells Python that we want it to use a specific name to refer to a particular thing."
   ]
  },
  {
   "cell_type": "code",
   "execution_count": null,
   "id": "488b5e54",
   "metadata": {},
   "outputs": [],
   "source": [
    "an_int = 1\n",
    "\n",
    "print(an_int)"
   ]
  },
  {
   "cell_type": "markdown",
   "id": "6acf4727",
   "metadata": {},
   "source": [
    "Variables:\n",
    "\n",
    "- cannot contain spaces\n",
    "- cannot start with a number\n",
    "- cannot contain `$`, `@`, `#`, `\\`, \n",
    "- could contain unicode characters, but ASCII are recommended\n",
    "- cannot be named as  <span style=\"color:indianred\">reserved keywords</span>:"
   ]
  },
  {
   "cell_type": "code",
   "execution_count": null,
   "id": "3b44be10",
   "metadata": {},
   "outputs": [],
   "source": [
    "help(\"keywords\")"
   ]
  },
  {
   "cell_type": "markdown",
   "id": "facf7963",
   "metadata": {},
   "source": [
    "### What is a variable?"
   ]
  },
  {
   "cell_type": "markdown",
   "id": "3988a838",
   "metadata": {},
   "source": [
    "Representation inside the program of a location in memory - any variable requires the <span style=\"color:indianred\">allocation</span> of some  <span style=\"color:indianred\">computer memory</span>"
   ]
  },
  {
   "cell_type": "markdown",
   "id": "44d3d828",
   "metadata": {},
   "source": [
    "In memory variables are encoded as binary numbers and stored as one or more bytes (which are sequences of bits)"
   ]
  },
  {
   "cell_type": "markdown",
   "id": "bc73702e",
   "metadata": {},
   "source": [
    "![sometxt](./files/memory.svg)"
   ]
  },
  {
   "cell_type": "markdown",
   "id": "2c6162ec",
   "metadata": {},
   "source": [
    "### Encoding variables"
   ]
  },
  {
   "cell_type": "markdown",
   "id": "6a9f3a40",
   "metadata": {},
   "source": [
    "Numbers are stored with binary representations:"
   ]
  },
  {
   "cell_type": "markdown",
   "id": "9a59f305",
   "metadata": {},
   "source": [
    " - 1 byte -> 255 different numbers representable ($2^8$)\n",
    " - for bigger numbers, or decimal places, we'll need more bytes!"
   ]
  },
  {
   "cell_type": "markdown",
   "id": "39d3f1ed",
   "metadata": {},
   "source": [
    "Characters are stored as ASCII (or Unicode) numbers:\n",
    " - ASCII encoding: 1 byte (but only 125 possible characters including various spaces); very '60\n",
    " - Unicode encoding UTF-8: up to 4 bytes depending on word; ASCII compatible; Emojii! so modern 🍍"
   ]
  },
  {
   "cell_type": "markdown",
   "id": "eaa50834",
   "metadata": {},
   "source": [
    "Python 3.0 uses UTF-8 for text:"
   ]
  },
  {
   "cell_type": "code",
   "execution_count": null,
   "id": "3c37b855",
   "metadata": {},
   "outputs": [],
   "source": [
    "print(\n",
    "    \"In 2015, Oxford Dictionaries named the Face with Tears of Joy emoji (😂) the word of the year\"\n",
    ")"
   ]
  },
  {
   "cell_type": "markdown",
   "id": "ea340e6b",
   "metadata": {},
   "source": [
    "But you cannot use emoji as variable names (one of the major Python drawbacks):"
   ]
  },
  {
   "cell_type": "code",
   "execution_count": null,
   "id": "788383e4",
   "metadata": {},
   "outputs": [],
   "source": [
    "😂 = 12.5"
   ]
  },
  {
   "cell_type": "markdown",
   "id": "368bfaa1",
   "metadata": {},
   "source": [
    "## Types"
   ]
  },
  {
   "cell_type": "markdown",
   "id": "496366d7",
   "metadata": {},
   "source": [
    "Variables can have different types. The most basic are `str`, `int`, `float`, `bool`:"
   ]
  },
  {
   "cell_type": "code",
   "execution_count": null,
   "id": "15b769b2",
   "metadata": {},
   "outputs": [],
   "source": [
    "print(\"True\", type(\"True\"))\n",
    "print(1, type(1))\n",
    "print(1.0, type(1.0))\n",
    "print(True, type(True))"
   ]
  },
  {
   "cell_type": "markdown",
   "id": "274be00e",
   "metadata": {},
   "source": [
    "**Note**: `print()`, `type()` are  <span style=\"color:indianred\">functions</span> that we call by passing them arguments inside the parenteses:\n",
    "\n",
    "```\n",
    "function_name(argument)\n",
    "```\n",
    "\n",
    "We will see more about functions in the next lecture!\n",
    "\n",
    "---\n",
    "\n",
    "**Warning**: `type` or `print` are special terms that we should be cautious about when assigning variables. If you call a variable `type`, Python will overwrite it with whatever you say, and this function won't work anymore!"
   ]
  },
  {
   "cell_type": "code",
   "execution_count": null,
   "id": "1c015759",
   "metadata": {},
   "outputs": [],
   "source": [
    "# Don't do something like\n",
    "\n",
    "type = 1  # wrong!!!"
   ]
  },
  {
   "cell_type": "markdown",
   "id": "a791ea6e",
   "metadata": {},
   "source": [
    "### `int` "
   ]
  },
  {
   "cell_type": "markdown",
   "id": "10d15ace",
   "metadata": {},
   "source": [
    "Describe integer numbers, positive or negative"
   ]
  },
  {
   "cell_type": "code",
   "execution_count": null,
   "id": "24365b83",
   "metadata": {},
   "outputs": [],
   "source": [
    "an_integer = 1"
   ]
  },
  {
   "cell_type": "markdown",
   "id": "78cd0d48",
   "metadata": {},
   "source": [
    "Aritmetical operators are quite intuitive:\n",
    " - `+`, `-`, `*`, `/`; \n",
    " - `**` power, `//` integer division, `%` module"
   ]
  },
  {
   "cell_type": "code",
   "execution_count": null,
   "id": "9ecb562f",
   "metadata": {},
   "outputs": [],
   "source": [
    "a = 3\n",
    "a % 2"
   ]
  },
  {
   "cell_type": "markdown",
   "id": "4bd55055",
   "metadata": {},
   "source": [
    "### Look memory location of a variable"
   ]
  },
  {
   "cell_type": "markdown",
   "id": "d723c8be",
   "metadata": {},
   "source": [
    "In Python, we can check out the location in memory of a variable with another function, `id` (we'll probably not use this much):"
   ]
  },
  {
   "cell_type": "code",
   "execution_count": null,
   "id": "9af0c3aa",
   "metadata": {},
   "outputs": [],
   "source": [
    "a_variable = 2\n",
    "another_variable = a_variable\n",
    "\n",
    "print(id(a_variable), id(another_variable))\n",
    "\n",
    "a_variable = 5  # we redefine the variable\n",
    "print(id(a_variable), id(another_variable))"
   ]
  },
  {
   "cell_type": "markdown",
   "id": "248f8bb2",
   "metadata": {},
   "source": [
    "### Size in memory of a variable"
   ]
  },
  {
   "cell_type": "markdown",
   "id": "89cb71b3",
   "metadata": {},
   "source": [
    "To know the size in memory of a variable, we can 1) calculate it from the variable properties, or 2) use the `sys.getsizeof()` function. For this we will need to first write `import sys` (we will talk more about this import in the next lecture)"
   ]
  },
  {
   "cell_type": "code",
   "execution_count": null,
   "id": "fa1948bc",
   "metadata": {},
   "outputs": [],
   "source": [
    "import sys\n",
    "\n",
    "b = 0\n",
    "sys.getsizeof(b)  # size in bytes!"
   ]
  },
  {
   "cell_type": "markdown",
   "id": "d84aae3c",
   "metadata": {},
   "source": [
    "Python integers always have at least 24 bytes (depending on the pc). Only some of the bytes are used for the number encoding, the rest is \"overhead\" that comes from Python variables being complex objects"
   ]
  },
  {
   "cell_type": "markdown",
   "id": "3371129a",
   "metadata": {},
   "source": [
    "Python integers take variable amounts of memory depending on how big they are! (that's why they have no bounds)"
   ]
  },
  {
   "cell_type": "code",
   "execution_count": null,
   "id": "04658548",
   "metadata": {},
   "outputs": [],
   "source": [
    "a = 0\n",
    "print(sys.getsizeof(a))\n",
    "\n",
    "a = 10**64\n",
    "print(sys.getsizeof(a))"
   ]
  },
  {
   "cell_type": "code",
   "execution_count": null,
   "id": "01432c1c",
   "metadata": {},
   "outputs": [],
   "source": []
  },
  {
   "cell_type": "markdown",
   "id": "9929923e",
   "metadata": {},
   "source": [
    "### `float`"
   ]
  },
  {
   "cell_type": "markdown",
   "id": "32fc5f0d",
   "metadata": {},
   "source": [
    "The result of the division is `float`, not `int`!"
   ]
  },
  {
   "cell_type": "code",
   "execution_count": null,
   "id": "b8eca93a",
   "metadata": {},
   "outputs": [],
   "source": [
    "type(2 / 1)"
   ]
  },
  {
   "cell_type": "markdown",
   "id": "1ddd4c2f",
   "metadata": {},
   "source": [
    "Floats describe rational numbers"
   ]
  },
  {
   "cell_type": "code",
   "execution_count": null,
   "id": "ee15154f",
   "metadata": {},
   "outputs": [],
   "source": [
    "a = 2.33  # a float\n",
    "b = 1.0  # a float even if there is no decimals - the point is enough"
   ]
  },
  {
   "cell_type": "markdown",
   "id": "5b77e727",
   "metadata": {},
   "source": [
    "Floats have a fixed length in bytes: always 8 used for encoding the number. As a result, limited precision!"
   ]
  },
  {
   "cell_type": "code",
   "execution_count": null,
   "id": "bda36230",
   "metadata": {},
   "outputs": [],
   "source": [
    "a = 3.0**600\n",
    "a == 3**600"
   ]
  },
  {
   "cell_type": "code",
   "execution_count": null,
   "id": "20110f9c",
   "metadata": {},
   "outputs": [],
   "source": [
    "3**600"
   ]
  },
  {
   "cell_type": "markdown",
   "id": "ca807290",
   "metadata": {},
   "source": [
    "### `bool`"
   ]
  },
  {
   "cell_type": "markdown",
   "id": "c209664c",
   "metadata": {},
   "source": [
    "Describe logical (truth) values"
   ]
  },
  {
   "cell_type": "code",
   "execution_count": null,
   "id": "27e16e89",
   "metadata": {},
   "outputs": [],
   "source": [
    "a = True\n",
    "b = False"
   ]
  },
  {
   "cell_type": "markdown",
   "id": "9ec2c1ae",
   "metadata": {},
   "source": [
    " - Result from comparisons:\n",
    "     - `>`  `<`: bigger, smaller (excluding extremes)\n",
    "     - `>=`  `<=`: bigger, smaller (including extremes)\n",
    "     - `==`: equal\n",
    "     - `!=`: different"
   ]
  },
  {
   "cell_type": "code",
   "execution_count": null,
   "id": "af74b984",
   "metadata": {},
   "outputs": [],
   "source": [
    "a_result = 4 >= 3\n",
    "another_result = 5 < 8\n",
    "a_result and another_result"
   ]
  },
  {
   "cell_type": "markdown",
   "id": "749aac1f",
   "metadata": {},
   "source": [
    "### `str`"
   ]
  },
  {
   "cell_type": "markdown",
   "id": "49279b6d",
   "metadata": {},
   "source": [
    "A variable type to represent text (of any length!);\n",
    "\n",
    "Delimited by either `\"` or `'` (try to be consistent)"
   ]
  },
  {
   "cell_type": "code",
   "execution_count": null,
   "id": "38cebaef",
   "metadata": {},
   "outputs": [],
   "source": [
    "type(\"s\")"
   ]
  },
  {
   "cell_type": "markdown",
   "id": "4024b0bd",
   "metadata": {},
   "source": [
    " - some operators can be used on strings: \n",
    "   - `+` (with another string)\n",
    "   - `*` (with an `int`)"
   ]
  },
  {
   "cell_type": "code",
   "execution_count": null,
   "id": "4080b5ba",
   "metadata": {},
   "outputs": [],
   "source": [
    "print(\"a\" * 10)\n",
    "print(\"ab\" + \"biocco\")"
   ]
  },
  {
   "cell_type": "markdown",
   "id": "1640e9b8",
   "metadata": {},
   "source": [
    "### Special string methods"
   ]
  },
  {
   "cell_type": "markdown",
   "id": "88718c96",
   "metadata": {},
   "source": [
    "Strings have special  <span style=\"color:indianred\">methods</span> to do operations on them (we'll see what methods are later). "
   ]
  },
  {
   "cell_type": "code",
   "execution_count": null,
   "id": "4ac40e41",
   "metadata": {},
   "outputs": [],
   "source": [
    "# split the list:\n",
    "a_string = \"Some text with many features: {} <- what are those brackets?\"\n",
    "a_string.split()"
   ]
  },
  {
   "cell_type": "code",
   "execution_count": null,
   "id": "70027d80",
   "metadata": {},
   "outputs": [],
   "source": [
    "# Uppercase/lowercase\n",
    "print(a_string.upper())\n",
    "print(a_string.lower())"
   ]
  },
  {
   "cell_type": "code",
   "execution_count": null,
   "id": "23a97e51",
   "metadata": {},
   "outputs": [],
   "source": [
    "a_string.find(\"text\")"
   ]
  },
  {
   "cell_type": "markdown",
   "id": "212f083f",
   "metadata": {},
   "source": [
    "Strings can incorporate variables:"
   ]
  },
  {
   "cell_type": "code",
   "execution_count": null,
   "id": "42c2ef64",
   "metadata": {},
   "outputs": [],
   "source": [
    "print(a_string)\n",
    "print(a_string.format(1234))\n",
    "print(a_string.format(\"some text\"))"
   ]
  },
  {
   "cell_type": "markdown",
   "id": "c58c6609",
   "metadata": {},
   "source": [
    "An alternative syntax, often preferred for shortness, is `f\"{a_variable}\"`:"
   ]
  },
  {
   "cell_type": "code",
   "execution_count": null,
   "id": "e912269d",
   "metadata": {},
   "outputs": [],
   "source": [
    "a = 2\n",
    "f\"The 'a' variable's value is: {2}\""
   ]
  },
  {
   "cell_type": "markdown",
   "id": "a23f31cf",
   "metadata": {},
   "source": [
    "### Indexing"
   ]
  },
  {
   "cell_type": "markdown",
   "id": "0c7a4803",
   "metadata": {},
   "source": [
    "Strings can be indexed using integer numbers to get single characters. \n",
    "\n",
    "**Remember**: Python starts indexing from 0!"
   ]
  },
  {
   "cell_type": "code",
   "execution_count": null,
   "id": "3516ae5a",
   "metadata": {},
   "outputs": [],
   "source": [
    "a_long_string = \"Some long string of any kind\"\n",
    "a_long_string[0]"
   ]
  },
  {
   "cell_type": "markdown",
   "id": "34f95767",
   "metadata": {},
   "source": [
    "We can also index longer parts using the colons syntax:\n",
    " \n",
    "   `start_index : end_index : step`"
   ]
  },
  {
   "cell_type": "code",
   "execution_count": null,
   "id": "447a0334",
   "metadata": {},
   "outputs": [],
   "source": [
    "a_long_string[1:10:1]"
   ]
  },
  {
   "cell_type": "markdown",
   "id": "52614a4a",
   "metadata": {},
   "source": [
    "(First practical)"
   ]
  },
  {
   "cell_type": "markdown",
   "id": "b9ef6814",
   "metadata": {},
   "source": [
    "## Data containers\n",
    "\n",
    "We can store multiple values in a single variable.\n",
    "\n",
    "Built-in types:\n",
    " - `list`\n",
    " - `tuple`\n",
    " - `dictionary`\n",
    "\n",
    "From common libraries (we'll have a look at those later):\n",
    " - `numpy.array`\n",
    " - `pandas.DataSet`"
   ]
  },
  {
   "cell_type": "markdown",
   "id": "7e36da63",
   "metadata": {},
   "source": [
    "### `list`"
   ]
  },
  {
   "cell_type": "markdown",
   "id": "3409456b",
   "metadata": {},
   "source": [
    " A ordered list of values of any type."
   ]
  },
  {
   "cell_type": "code",
   "execution_count": null,
   "id": "c3f0c85e",
   "metadata": {},
   "outputs": [],
   "source": [
    "a_list = [1, True, \"something\", 3.14]\n",
    "print(a_list)\n",
    "print(len(a_list))"
   ]
  },
  {
   "cell_type": "markdown",
   "id": "8e11325b",
   "metadata": {},
   "source": [
    "Values are then retrieved with numerical indexing (**Note:** Numerical indexes start from 0!!!)"
   ]
  },
  {
   "cell_type": "code",
   "execution_count": null,
   "id": "5374572b",
   "metadata": {},
   "outputs": [],
   "source": [
    "# Index list:\n",
    "a_list[2]"
   ]
  },
  {
   "cell_type": "markdown",
   "id": "8acfabfd",
   "metadata": {},
   "source": [
    "The content of a list can be modified:"
   ]
  },
  {
   "cell_type": "code",
   "execution_count": null,
   "id": "53121c00",
   "metadata": {},
   "outputs": [],
   "source": [
    "a_list[2] = 3"
   ]
  },
  {
   "cell_type": "markdown",
   "id": "90816696",
   "metadata": {},
   "source": [
    "Lists are not bounded in length and can be extended...:"
   ]
  },
  {
   "cell_type": "code",
   "execution_count": null,
   "id": "a67ee44f",
   "metadata": {},
   "outputs": [],
   "source": [
    "# Append:\n",
    "a_list = [1, True, \"something\", True, 3.14]\n",
    "a_list.append(\"Something new\")\n",
    "print(a_list)"
   ]
  },
  {
   "cell_type": "markdown",
   "id": "689f0de0",
   "metadata": {},
   "source": [
    "...or shortened:"
   ]
  },
  {
   "cell_type": "code",
   "execution_count": null,
   "id": "96d3d672",
   "metadata": {},
   "outputs": [],
   "source": [
    "a_list = [1, True, \"something\", True, 3.14]\n",
    "pop = a_list.pop(0)\n",
    "print(f\"After popping out {pop}, the list is {a_list}\")"
   ]
  },
  {
   "cell_type": "markdown",
   "id": "148d62ad",
   "metadata": {},
   "source": [
    "### `dictionary`"
   ]
  },
  {
   "cell_type": "markdown",
   "id": "a0cb7e1b",
   "metadata": {},
   "source": [
    "A structure where values are associated with a key (and not with a position)"
   ]
  },
  {
   "cell_type": "code",
   "execution_count": null,
   "id": "ad0eb8b6",
   "metadata": {},
   "outputs": [],
   "source": [
    "a_dict = {\"item_a\": 1, \"item_b\": 2}\n",
    "same_dict = dict(item_a=1, item_b=2)\n",
    "\n",
    "a_dict[\"item_a\"]"
   ]
  },
  {
   "cell_type": "markdown",
   "id": "95abdb81",
   "metadata": {},
   "source": [
    "Values are then retrieved with a key; keys are usually strings but they do not have to"
   ]
  },
  {
   "cell_type": "code",
   "execution_count": null,
   "id": "c28b5db6",
   "metadata": {},
   "outputs": [],
   "source": [
    "{0: False, 2: True}"
   ]
  },
  {
   "cell_type": "markdown",
   "id": "707e64c8",
   "metadata": {},
   "source": [
    "Like a list, dictionary can be modified in its values:"
   ]
  },
  {
   "cell_type": "code",
   "execution_count": null,
   "id": "62379f19",
   "metadata": {},
   "outputs": [],
   "source": [
    "a_dict = dict(item_a=0, item_b=1)\n",
    "a_dict[\"item_a\"] = 5\n",
    "a_dict"
   ]
  },
  {
   "cell_type": "markdown",
   "id": "d219ded4",
   "metadata": {},
   "source": [
    "Like a list, a dictionary can be extended..."
   ]
  },
  {
   "cell_type": "code",
   "execution_count": null,
   "id": "311d34fb",
   "metadata": {},
   "outputs": [],
   "source": [
    "a_dict = dict(item_a=0, item_b=1)\n",
    "a_dict[\"new_item\"] = 5\n",
    "a_dict"
   ]
  },
  {
   "cell_type": "markdown",
   "id": "9f0b2bdb",
   "metadata": {},
   "source": [
    "...or shortened:"
   ]
  },
  {
   "cell_type": "code",
   "execution_count": null,
   "id": "e1cdddae",
   "metadata": {},
   "outputs": [],
   "source": [
    "a_dict = dict(item_a=0, item_b=1)\n",
    "a_dict.pop(\"item_a\")\n",
    "a_dict"
   ]
  },
  {
   "cell_type": "markdown",
   "id": "f6aa4fa3",
   "metadata": {},
   "source": [
    "### What happens when we make copies of lists and dictionaries?"
   ]
  },
  {
   "cell_type": "markdown",
   "id": "45362b76",
   "metadata": {},
   "source": [
    "**Careful!**: The behavior of lists and dictionaries is different from standard variables! \n",
    "If we make a copy, and change the content of the original, the copy will also change unless we use the `.copy()` method:"
   ]
  },
  {
   "cell_type": "code",
   "execution_count": null,
   "id": "a6cd3fd5",
   "metadata": {},
   "outputs": [],
   "source": [
    "a_list = [0, 1]\n",
    "another_list = a_list\n",
    "\n",
    "print(f\"List values: {a_list}, {another_list}\")\n",
    "print(f\"List pointers: {id(a_list)}, {id(another_list)}\")\n",
    "\n",
    "another_list[0] = 5  # we redefine the variable\n",
    "print(f\"List values: {a_list}, {another_list}\")\n",
    "print(f\"List pointers: {id(a_list)}, {id(another_list)}\")"
   ]
  },
  {
   "cell_type": "markdown",
   "id": "3d2033d2",
   "metadata": {},
   "source": [
    "### `tuple`"
   ]
  },
  {
   "cell_type": "markdown",
   "id": "63cbff44",
   "metadata": {},
   "source": [
    "Tuples are ordered collections, similar to lists, but **unchangeable** in length and content:"
   ]
  },
  {
   "cell_type": "code",
   "execution_count": null,
   "id": "92edbba9",
   "metadata": {},
   "outputs": [],
   "source": [
    "a_tuple = (1, 2, 3)"
   ]
  },
  {
   "cell_type": "markdown",
   "id": "018d7111",
   "metadata": {},
   "source": [
    "### `set`"
   ]
  },
  {
   "cell_type": "markdown",
   "id": "72e74fef",
   "metadata": {},
   "source": [
    "Unordered collection of items; useful when precise order does not matter"
   ]
  },
  {
   "cell_type": "code",
   "execution_count": null,
   "id": "be467f9a",
   "metadata": {},
   "outputs": [],
   "source": [
    "print([1, 2, 3] == [1, 3, 2])\n",
    "print({1, 2, 3} == {1, 3, 2})"
   ]
  },
  {
   "cell_type": "markdown",
   "id": "18e8c851",
   "metadata": {},
   "source": [
    "New items can be added or removed:"
   ]
  },
  {
   "cell_type": "code",
   "execution_count": null,
   "id": "5a07156a",
   "metadata": {},
   "outputs": [],
   "source": [
    "a_set = {\"a\", \"b\", \"c\", \"d\"}\n",
    "a_set.remove(\"a\")\n",
    "a_set.add(\"e\")\n",
    "a_set"
   ]
  },
  {
   "cell_type": "markdown",
   "id": "8f44c60e",
   "metadata": {},
   "source": [
    "Sets can be useful for set operations of difference / intersection / union:"
   ]
  },
  {
   "cell_type": "code",
   "execution_count": null,
   "id": "12096689",
   "metadata": {},
   "outputs": [],
   "source": [
    "set_a = {\"a\", \"b\", \"c\", \"d\"}\n",
    "set_b = {\"c\", \"d\", \"e\", \"f\"}\n",
    "\n",
    "print(f\"Difference: {set_a - set_b}\")\n",
    "print(f\"Union: {set_a.union(set_b)}\")\n",
    "print(f\"Intersection: {set_a.intersection(set_b)}\")"
   ]
  },
  {
   "cell_type": "markdown",
   "id": "724f2c52",
   "metadata": {},
   "source": [
    "(Second practical)"
   ]
  },
  {
   "cell_type": "markdown",
   "id": "9793fe35",
   "metadata": {},
   "source": [
    "## What can we do with variables?"
   ]
  },
  {
   "cell_type": "markdown",
   "id": "c2f9ba40",
   "metadata": {},
   "source": [
    "operations on variables and the flow of the program are managed with control structures:\n",
    " - `if` / `elif` / `else`\n",
    " - `for`\n",
    " - `while`"
   ]
  },
  {
   "cell_type": "markdown",
   "id": "5a462a1f",
   "metadata": {},
   "source": [
    "### `if` / `elif` / `else`"
   ]
  },
  {
   "cell_type": "markdown",
   "id": "86e5e978",
   "metadata": {},
   "source": [
    "With a `if` statement we can make the execution of some lines of code optional:"
   ]
  },
  {
   "cell_type": "code",
   "execution_count": null,
   "id": "5a225215",
   "metadata": {},
   "outputs": [],
   "source": [
    "a = 1\n",
    "if a == 10:\n",
    "    print(\"equal 10\")\n",
    "elif a == 5:  # optional\n",
    "    print(\"equal 5\")\n",
    "else:  # optional\n",
    "    print(\"neither 5 nor 10\")"
   ]
  },
  {
   "cell_type": "markdown",
   "id": "b093bb99",
   "metadata": {},
   "source": [
    "We can set multiple conditions:"
   ]
  },
  {
   "cell_type": "code",
   "execution_count": null,
   "id": "051255bb",
   "metadata": {},
   "outputs": [],
   "source": [
    "a, b = 2, 8\n",
    "if a > 1 and b < 10:\n",
    "    print(a, b)"
   ]
  },
  {
   "cell_type": "markdown",
   "id": "02536d0d",
   "metadata": {},
   "source": [
    "### `for`"
   ]
  },
  {
   "cell_type": "markdown",
   "id": "ecf329a2",
   "metadata": {},
   "source": [
    "With a `for` loop we can easily repeat many times the same code lines:"
   ]
  },
  {
   "cell_type": "code",
   "execution_count": null,
   "id": "2593c6d4",
   "metadata": {},
   "outputs": [],
   "source": [
    "for i in range(3):\n",
    "    print(i)"
   ]
  },
  {
   "cell_type": "markdown",
   "id": "8b0d0c8e",
   "metadata": {},
   "source": [
    "With `for` loops we can easily go through lists:"
   ]
  },
  {
   "cell_type": "code",
   "execution_count": null,
   "id": "1422301d",
   "metadata": {},
   "outputs": [],
   "source": [
    "a_list = [\"a\", \"simple\", \"list\"]\n",
    "\n",
    "for word in a_list:\n",
    "    print(word)"
   ]
  },
  {
   "cell_type": "markdown",
   "id": "f15b1d1a",
   "metadata": {},
   "source": [
    "We can use `for` loops to go over anything that is <span style=\"color:indianred\">iterable</span>: lists, tuples, but also dictionaries given the correct methods"
   ]
  },
  {
   "cell_type": "code",
   "execution_count": null,
   "id": "6a02ae6f",
   "metadata": {},
   "outputs": [],
   "source": [
    "a_dict = dict(sam=3, lisa=1, joe=0)\n",
    "\n",
    "for key in a_dict.keys():  # loop over keys\n",
    "    print(key)"
   ]
  },
  {
   "cell_type": "code",
   "execution_count": null,
   "id": "973c75f9",
   "metadata": {},
   "outputs": [],
   "source": [
    "a_dict = dict(sam=3, lisa=1, joe=0)\n",
    "\n",
    "for val in a_dict.values():  # loop over values\n",
    "    print(val)"
   ]
  },
  {
   "cell_type": "code",
   "execution_count": null,
   "id": "e028730a",
   "metadata": {},
   "outputs": [],
   "source": [
    "a_dict = dict(sam=3, lisa=1, joe=0)\n",
    "\n",
    "for key, val in a_dict.items():  # loop over values\n",
    "    print(key, val)"
   ]
  },
  {
   "cell_type": "markdown",
   "id": "940d70c6",
   "metadata": {},
   "source": [
    "We can loop over lists while having also indexes with `enumerate`:"
   ]
  },
  {
   "cell_type": "code",
   "execution_count": null,
   "id": "5eea4b65",
   "metadata": {},
   "outputs": [],
   "source": [
    "for idx, word in enumerate(a_list):\n",
    "    print(idx, word)"
   ]
  },
  {
   "cell_type": "markdown",
   "id": "ab886a67",
   "metadata": {},
   "source": [
    "Finally, we can iterate through multiple things at the same time with `zip`:\n"
   ]
  },
  {
   "cell_type": "code",
   "execution_count": null,
   "id": "dd2342d3",
   "metadata": {},
   "outputs": [],
   "source": [
    "for student, word in zip(a_dict.keys(), a_list):\n",
    "    print(f\"{student}, {word}\")"
   ]
  },
  {
   "cell_type": "markdown",
   "id": "f82d7b3e",
   "metadata": {},
   "source": [
    "### `for` loop meets `list`: list comprehension"
   ]
  },
  {
   "cell_type": "markdown",
   "id": "698863e6",
   "metadata": {},
   "source": [
    "Many times, the syntax for generating a list can be tediously long:"
   ]
  },
  {
   "cell_type": "code",
   "execution_count": null,
   "id": "f9f45f25",
   "metadata": {},
   "outputs": [],
   "source": [
    "word_list = [\n",
    "    \"many\",\n",
    "    \"times\",\n",
    "    \"the\",\n",
    "    \"syntax\",\n",
    "    \"for\",\n",
    "    \"generating\",\n",
    "    \"a\",\n",
    "    \"list\",\n",
    "    \"can\",\n",
    "    \"be\",\n",
    "    \"tediously\",\n",
    "    \"long\",\n",
    "]\n",
    "\n",
    "first_letters = []\n",
    "for word in word_list:\n",
    "    first_letters.append(word[0])"
   ]
  },
  {
   "cell_type": "markdown",
   "id": "78400cbb",
   "metadata": {},
   "source": [
    "Instead, we can use <span style=\"color:indianred\">list comprehensions</span>:"
   ]
  },
  {
   "cell_type": "code",
   "execution_count": null,
   "id": "a4a69259",
   "metadata": {},
   "outputs": [],
   "source": [
    "first_letters = [word[0] for word in word_list]"
   ]
  },
  {
   "cell_type": "markdown",
   "id": "1779cdfc",
   "metadata": {},
   "source": [
    "### `for` loop meets `dict`: dictionary comprehension"
   ]
  },
  {
   "cell_type": "markdown",
   "id": "d7b7a307",
   "metadata": {},
   "source": [
    "We can use a similar trick to define dictionaries; the logic will be:\n",
    "```python\n",
    "{key: val for something in something_iterable}\n",
    "```"
   ]
  },
  {
   "cell_type": "code",
   "execution_count": null,
   "id": "9b6316f8",
   "metadata": {},
   "outputs": [],
   "source": [
    "letters_count_dict = {word: len(word) for word in word_list}\n",
    "print(letters_count_dict)"
   ]
  },
  {
   "cell_type": "markdown",
   "id": "e45cc61f",
   "metadata": {},
   "source": [
    "### `while`"
   ]
  },
  {
   "cell_type": "markdown",
   "id": "6fba628a",
   "metadata": {},
   "source": [
    "With `while` we can keep repeating code until one condition is met instead of a fixed number of times, (like we do  when we use `for`):"
   ]
  },
  {
   "cell_type": "code",
   "execution_count": null,
   "id": "127153bc",
   "metadata": {},
   "outputs": [],
   "source": [
    "import random\n",
    "\n",
    "coin_flip = 0\n",
    "n_draw = 0\n",
    "while coin_flip != 1:\n",
    "    coin_flip = random.randint(0, 1)\n",
    "    print(f\"Draw n. {n_draw}; result: {coin_flip}\")\n",
    "\n",
    "    n_draw += 1"
   ]
  },
  {
   "cell_type": "markdown",
   "id": "12fe3058",
   "metadata": {},
   "source": [
    "### Bonus construct: `try` / `except`"
   ]
  },
  {
   "cell_type": "markdown",
   "id": "b4385a45",
   "metadata": {},
   "source": [
    "In Python, it's better to ask forgiveness than permission! Sometimes, we want to try executing some code and fail gracefully if something (not entirely unexpected) happens:\n",
    "\n",
    "```python\n",
    "try:\n",
    "    do_something_dangerous()\n",
    "except SomeException:\n",
    "    handle_the_error()\n",
    "```"
   ]
  },
  {
   "cell_type": "code",
   "execution_count": null,
   "id": "34592c13",
   "metadata": {},
   "outputs": [],
   "source": [
    "some_input_we_cant_control = \"a\"\n",
    "\n",
    "try:\n",
    "    some_input_we_cant_control += 1\n",
    "except TypeError:\n",
    "    print(\"Something went wrong while taking the sum\")"
   ]
  },
  {
   "cell_type": "code",
   "execution_count": null,
   "id": "34846b59",
   "metadata": {},
   "outputs": [],
   "source": []
  }
 ],
 "metadata": {
  "celltoolbar": "Slideshow",
  "kernelspec": {
   "display_name": "Python [conda env:course_env]",
   "language": "python",
   "name": "conda-env-course_env-py"
  },
  "language_info": {
   "codemirror_mode": {
    "name": "ipython",
    "version": 3
   },
   "file_extension": ".py",
   "mimetype": "text/x-python",
   "name": "python",
   "nbconvert_exporter": "python",
   "pygments_lexer": "ipython3"
  }
 },
 "nbformat": 4,
 "nbformat_minor": 5
}
