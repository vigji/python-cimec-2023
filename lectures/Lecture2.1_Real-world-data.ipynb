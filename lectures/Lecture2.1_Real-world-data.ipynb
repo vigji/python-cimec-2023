{
 "cells": [
  {
   "cell_type": "markdown",
   "id": "3ca811a3",
   "metadata": {},
   "source": [
    "# Python for (open) Neuroscience\n",
    "\n",
    "_Lecture 2.1_ - Real world Python on real world data \n",
    "\n",
    "Luigi Petrucco\n",
    "\n",
    "Jean-Charles Mariani\n",
    "\n",
    "[![Open In Colab](https://colab.research.google.com/assets/colab-badge.svg)](https://colab.research.google.com/github/vigji/python-cimec/blob/main/lectures/Lecture2.0_Real-world-Python.ipynb)"
   ]
  },
  {
   "cell_type": "markdown",
   "id": "eda7cc42",
   "metadata": {},
   "source": [
    "## Notebooks"
   ]
  },
  {
   "cell_type": "markdown",
   "id": "faf11289",
   "metadata": {},
   "source": [
    "Finally, what are notebooks?"
   ]
  },
  {
   "cell_type": "markdown",
   "id": "59542fa9",
   "metadata": {},
   "source": [
    "`Jupyter` notebooks: interactive Python development platform based on a browser interface (The whole thing is powered by some python and javascript code that is provided by the `Jupyter` project)"
   ]
  },
  {
   "cell_type": "markdown",
   "id": "8bd3d968",
   "metadata": {},
   "source": [
    "![folderschema](./files/folderschema-08.png)"
   ]
  },
  {
   "cell_type": "markdown",
   "id": "af29bcf1",
   "metadata": {},
   "source": [
    "### The user interface"
   ]
  },
  {
   "cell_type": "markdown",
   "id": "c9d6f62e",
   "metadata": {},
   "source": [
    "The user interface we see is a browser page divided in markdown cells (for comments) and Python code cells"
   ]
  },
  {
   "cell_type": "markdown",
   "id": "4116dcc7",
   "metadata": {},
   "source": [
    "![folderschema](./files/folderschema-09.png)"
   ]
  },
  {
   "cell_type": "markdown",
   "id": "1d456a8b",
   "metadata": {},
   "source": [
    "### The python kernel"
   ]
  },
  {
   "cell_type": "markdown",
   "id": "c4da59c4",
   "metadata": {},
   "source": [
    "A notebook is always executing code using its *kernel*, just a fancy word to call **a Python session opened using the Python interpreter** from one of your environments (depending on the configuration of the notebook)."
   ]
  },
  {
   "cell_type": "markdown",
   "id": "31c05ef2",
   "metadata": {},
   "source": [
    "![folderschema](./files/folderschema-10.png)"
   ]
  },
  {
   "cell_type": "markdown",
   "id": "cbdc01ae",
   "metadata": {},
   "source": [
    "Notebooks run in a browser but are **NOT** running online if you launch `jupyter notebook` from the terminal! \n",
    "\n",
    "Relying on the browser is a convenient way to have a nice graphical interface where you can divide and execute code in separated cells, add markdown comments, show plots, etc.\n",
    "\n",
    "Also, the same notebook can run online on remote computing platforms (e.g., colab). One of the nice things about notebooks!"
   ]
  },
  {
   "cell_type": "markdown",
   "id": "86a9ff16",
   "metadata": {},
   "source": [
    "Each notebook interacts with a new Python session! You can open more notebooks after you run jupyter, but each of them will open a new Python kernel, so it won't see the variables and code defined in another notebook!"
   ]
  },
  {
   "cell_type": "markdown",
   "id": "8a9bb376",
   "metadata": {},
   "source": [
    "Practical 2.1.0: \n",
    "\n",
    " - open jupyter from the terminal invoking `jupyter notebook` (from your `base` environment)\n",
    " - create a new notebook, selecting the `course-env` environment. Write a simple `test_function` function that prints `hallo` in that notebook.\n",
    " - open a second notebook using the same environment, and try to use `test_function` function without defining it. Can you do that?"
   ]
  },
  {
   "cell_type": "markdown",
   "id": "b2e92f25",
   "metadata": {},
   "source": [
    "### Share code across notebooks"
   ]
  },
  {
   "cell_type": "markdown",
   "id": "c4df3da4",
   "metadata": {},
   "source": [
    "There are multiple ways of making code available across notebooks (we can have a lecture on how to organize your code in a package). "
   ]
  },
  {
   "cell_type": "markdown",
   "id": "bc1ad095",
   "metadata": {},
   "source": [
    "The easiest is to put all functions you want to import from one notebook to the other in a python `.py` file in the same folder as the notebook, and to import the functions from there."
   ]
  },
  {
   "cell_type": "markdown",
   "id": "15ff5727",
   "metadata": {},
   "source": [
    "Practical 2.1.1: \n",
    "\n",
    " - Open a new text file in the folder where you created the two notebooks. You can do it in jupyter  \"New\" > \"Text file\"\n",
    " - Rename the file something like `utils.py` (the `.py` extension here is important!), and save it!\n",
    " - Restart the notebook kernel (\"Kernel\" > \"Restart\")\n",
    " - You can now import from the file! \n",
    " ```python\n",
    "import utils as ut\n",
    "ut.test_function\n",
    "```\n",
    "- Import the custom function and run it"
   ]
  },
  {
   "cell_type": "markdown",
   "id": "2a45ba1e",
   "metadata": {},
   "source": [
    "## Working with the filesystem"
   ]
  },
  {
   "cell_type": "markdown",
   "id": "4d8c9472",
   "metadata": {},
   "source": [
    "The first important skill when you start working with your local data!"
   ]
  },
  {
   "cell_type": "markdown",
   "id": "f0892e36",
   "metadata": {},
   "source": [
    "###  `Path` objects"
   ]
  },
  {
   "cell_type": "markdown",
   "id": "4f7b09a3",
   "metadata": {},
   "source": [
    "The fundamental tool for working with the filesystem is the `Path` class from the `pathlib` module.\n",
    "\n",
    "(You can find people doing it using the `os` module, but it is old and not recommended as of 2023)"
   ]
  },
  {
   "cell_type": "code",
   "execution_count": null,
   "id": "49bedb09",
   "metadata": {},
   "outputs": [],
   "source": [
    "from pathlib import Path"
   ]
  },
  {
   "cell_type": "markdown",
   "id": "02ea5245",
   "metadata": {},
   "source": [
    "A `Path` object is initialized with a string indicating a location:"
   ]
  },
  {
   "cell_type": "code",
   "execution_count": null,
   "id": "fde449d6",
   "metadata": {},
   "outputs": [],
   "source": [
    "a_path = Path(\"/Users/vigji/code\")\n",
    "# Note 1: to run those examples on your machine, you have to change the path strings!\n",
    "# Note 2: in windows backslashes are problematic! To fix, start string with r (for \"raw-string\"):\n",
    "# a_windows_path = Path(r\"C:\\Users\\vigji\\code\")"
   ]
  },
  {
   "cell_type": "markdown",
   "id": "dbf51236",
   "metadata": {},
   "source": [
    "We can define a Path object with a non-existing path, but we can check if a path exists using the exist() method:"
   ]
  },
  {
   "cell_type": "code",
   "execution_count": null,
   "id": "c34ca644",
   "metadata": {},
   "outputs": [],
   "source": [
    "a_path = Path(\"/Users/vigji/code/python-cimec/lectures/Lecture1.0_Numpy-intro.ipynb\")\n",
    "print(a_path.exists())"
   ]
  },
  {
   "cell_type": "code",
   "execution_count": null,
   "id": "67996061",
   "metadata": {},
   "outputs": [],
   "source": [
    "a_wrong_path = Path(\"/Users/pippo\")\n",
    "print(a_wrong_path.exists())"
   ]
  },
  {
   "cell_type": "markdown",
   "id": "a3986fd5",
   "metadata": {},
   "source": [
    "`Path` objects have some useful attributes:"
   ]
  },
  {
   "cell_type": "code",
   "execution_count": null,
   "id": "dafebc42",
   "metadata": {},
   "outputs": [],
   "source": [
    "a_path.name  # name of the file (string)  "
   ]
  },
  {
   "cell_type": "code",
   "execution_count": null,
   "id": "937227b6",
   "metadata": {},
   "outputs": [],
   "source": [
    "a_path.stem  # name of the file without extension (string)"
   ]
  },
  {
   "cell_type": "code",
   "execution_count": null,
   "id": "0e88e066",
   "metadata": {},
   "outputs": [],
   "source": [
    "a_path.parent  # folder containing the file (Path object)"
   ]
  },
  {
   "cell_type": "code",
   "execution_count": null,
   "id": "bb077fb1",
   "metadata": {},
   "outputs": [],
   "source": [
    "a_path.parent"
   ]
  },
  {
   "cell_type": "markdown",
   "id": "7285ef79",
   "metadata": {},
   "source": [
    "### `glob()` and regular expressions"
   ]
  },
  {
   "cell_type": "markdown",
   "id": "291b4f88",
   "metadata": {},
   "source": [
    "We can browse the filesystem using the `.glob()` method. `.glob()` finds all files in the folder from which it is called that match a specific pattern."
   ]
  },
  {
   "cell_type": "markdown",
   "id": "b0285370",
   "metadata": {},
   "source": [
    "The pattern we pass to `glob()` is a so-called <span style=\"color:indianred\">regular expression</span> (or regex). Regular expressions are strings that we can use to specify the features of the string we are looking for."
   ]
  },
  {
   "cell_type": "markdown",
   "id": "9951db34",
   "metadata": {},
   "source": [
    "The most common one is the symbol for \"any string\": `*`. If we just put `*` in our regular expression, we get any possible string match, that is to say, the whole content of the folder:"
   ]
  },
  {
   "cell_type": "code",
   "execution_count": null,
   "id": "30cd12db",
   "metadata": {},
   "outputs": [],
   "source": [
    "a_path = Path(\"/Users/vigji/code/python-cimec/lectures\")\n",
    "\n",
    "for path in a_path.glob(\"*\"):  # match all files in the folder\n",
    "    print(path)"
   ]
  },
  {
   "cell_type": "markdown",
   "id": "86d08723",
   "metadata": {},
   "source": [
    "We can create more complicated patterns to look for specific files, or files with a word in the name. \n",
    "\n",
    "For example, to look for all jupyter notebooks here (extension `\".ipynb\"`), we can write:"
   ]
  },
  {
   "cell_type": "code",
   "execution_count": null,
   "id": "2cf82e79",
   "metadata": {},
   "outputs": [],
   "source": [
    "# match all paths in the folder whose name finishes with .md (and starts with anything):\n",
    "for path in sorted(a_path.glob(\"*.ipynb\")):\n",
    "    print(path)"
   ]
  },
  {
   "cell_type": "markdown",
   "id": "3a8d6bd4",
   "metadata": {},
   "source": [
    "Or to look at all files of the second module - whose name starts with `\"Lecture1.\"`:"
   ]
  },
  {
   "cell_type": "code",
   "execution_count": null,
   "id": "4ef08fdd",
   "metadata": {},
   "outputs": [],
   "source": [
    "# match all paths in the folder whose name starts with python and (finishes with anything):\n",
    "for path in a_path.glob(\"Lecture1.\"):\n",
    "    print(path)"
   ]
  },
  {
   "cell_type": "markdown",
   "id": "10d4d645",
   "metadata": {},
   "source": [
    "Or look at all files whose name contains `\"pandas\"`:"
   ]
  },
  {
   "cell_type": "code",
   "execution_count": null,
   "id": "211da705",
   "metadata": {},
   "outputs": [],
   "source": [
    "# match all paths in the folder whose name contains pandas (could find anything before and after):\n",
    "for path in a_path.glob(\"*pandas*\"):\n",
    "    print(path)"
   ]
  },
  {
   "cell_type": "markdown",
   "id": "1d1ae7c5",
   "metadata": {},
   "source": [
    "If we want to look if a path is a folder (as opposed to a file name), we can use the `.isdir()` method:"
   ]
  },
  {
   "cell_type": "code",
   "execution_count": null,
   "id": "ea49767e",
   "metadata": {},
   "outputs": [],
   "source": [
    "# match all paths in the folder that are folders:\n",
    "for path in a_path.glob(\"*\"):\n",
    "    if path.is_dir():\n",
    "        print(path)"
   ]
  },
  {
   "cell_type": "markdown",
   "id": "5fd9ee0e",
   "metadata": {},
   "source": [
    "We can include subfolders in our search using `.rglob()` (short for recursive `.glob()`)"
   ]
  },
  {
   "cell_type": "code",
   "execution_count": null,
   "id": "4aef22ff",
   "metadata": {},
   "outputs": [],
   "source": [
    "# match all paths in the folder and its subfolders:\n",
    "for path in a_path.rglob(\"*\"):\n",
    "    print(path)"
   ]
  },
  {
   "cell_type": "markdown",
   "id": "ead8ccf6",
   "metadata": {},
   "source": [
    "Note that `.glob()` does not return a list, but a `generator` object - we can loop on a generator, but not index it!"
   ]
  },
  {
   "cell_type": "code",
   "execution_count": null,
   "id": "7de05c6e",
   "metadata": {},
   "outputs": [],
   "source": [
    "first_file = a_path.glob(\"*\")[1]  # this will give an error as a generator is not subscriptable"
   ]
  },
  {
   "cell_type": "markdown",
   "id": "655a1ad4",
   "metadata": {},
   "source": [
    "If you want to index a file path, you have to convert the result to list first!"
   ]
  },
  {
   "cell_type": "code",
   "execution_count": null,
   "id": "8ac73c33",
   "metadata": {},
   "outputs": [],
   "source": [
    "a_file_list = list(a_path.glob(\"*\"))\n",
    "a_file_list"
   ]
  },
  {
   "cell_type": "markdown",
   "id": "1d8b1d02",
   "metadata": {},
   "source": [
    "Also, note that you can't count on the files to be sorted. This can be [very important to remember](https://discuss.python.org/t/a-code-glitch-may-have-caused-errors-in-more-than-100-published-studies/2583/3)!\n",
    "\n",
    "If you want some sorting, you should do it yourself (e.g. using the `sorted()` function):"
   ]
  },
  {
   "cell_type": "code",
   "execution_count": null,
   "id": "50c74b98",
   "metadata": {},
   "outputs": [],
   "source": [
    "for path in sorted(a_path.glob(\"*\")):  # alphabetically sorted() files\n",
    "    print(path)"
   ]
  },
  {
   "cell_type": "markdown",
   "id": "10b99881",
   "metadata": {},
   "source": [
    "### Concatenating paths"
   ]
  },
  {
   "cell_type": "markdown",
   "id": "32a3df9a",
   "metadata": {},
   "source": [
    "We can use the `/` operator to concatenate parts of the path **independently from the OS we are on**. This is because here we use `/` as a python operator, **not as a string**! `pathlib` will know what are the OS requirements for slashes."
   ]
  },
  {
   "cell_type": "code",
   "execution_count": null,
   "id": "3cfa2cf3",
   "metadata": {},
   "outputs": [],
   "source": [
    "a_path = Path(\"/Users/vigji/code/python-cimec\")\n",
    "a_path / \"lectures\"  # this will work regardless of the OS"
   ]
  },
  {
   "cell_type": "markdown",
   "id": "79273ccf",
   "metadata": {},
   "source": [
    "### Create folders"
   ]
  },
  {
   "cell_type": "markdown",
   "id": "66114c97",
   "metadata": {},
   "source": [
    "`Path` objects can be used to write new directories in the filesystem using `.mkdir()`. It throws an error if the folder exists, unless we specify `exist_ok=True` argument:"
   ]
  },
  {
   "cell_type": "code",
   "execution_count": null,
   "id": "2c53f475",
   "metadata": {},
   "outputs": [],
   "source": [
    "a_path = Path(\"/Users/vigji/new_folder\")\n",
    "a_path.mkdir(exist_ok=True)"
   ]
  },
  {
   "cell_type": "markdown",
   "id": "2f303e57",
   "metadata": {},
   "source": [
    "If we want to create a path in a location that does not exist yet, we can create in one single shot the required parent folders using the `parents=True` argument (if we don't, the method will complain as we are trying to create a directory in a directory that does not exist)."
   ]
  },
  {
   "cell_type": "code",
   "execution_count": null,
   "id": "d4a3c2c2",
   "metadata": {},
   "outputs": [],
   "source": [
    "a_subfolder_path = a_path / \"subfolder\" / \"subsubfolder\" / \"subsubsubfolder\"\n",
    "a_subfolder_path.mkdir(parents=True)"
   ]
  },
  {
   "cell_type": "markdown",
   "id": "6545848e",
   "metadata": {},
   "source": [
    "### Move files"
   ]
  },
  {
   "cell_type": "markdown",
   "id": "b5ba5b8d",
   "metadata": {},
   "source": [
    "We can use the `.replace()` method of a path to move a file to a new location that we pass as input to the method. "
   ]
  },
  {
   "cell_type": "code",
   "execution_count": null,
   "id": "57ff8d0d",
   "metadata": {},
   "outputs": [],
   "source": [
    "a_path = Path(\"/Users/vigji/new_container_folder\")\n",
    "a_path.mkdir(exist_ok=True)\n",
    "\n",
    "path_to_move = Path(\"/Users/vigji/new_folder\")\n",
    "path_to_move.mkdir(exist_ok=True)\n",
    "\n",
    "new_path = path_to_move.replace(a_path / path_to_move.name)"
   ]
  },
  {
   "cell_type": "markdown",
   "id": "ff244409",
   "metadata": {},
   "source": [
    "## Automatically organize data folders"
   ]
  },
  {
   "cell_type": "markdown",
   "id": "a11cd6bb",
   "metadata": {},
   "source": [
    "Every time you end up manually moving and renaming files, consider doing it programmatically!"
   ]
  },
  {
   "cell_type": "code",
   "execution_count": null,
   "id": "d4b54a29",
   "metadata": {},
   "outputs": [],
   "source": [
    "data_folder = Path(\"/Users/vigji/sample_data_folder\")  # original data folder\n",
    "\n",
    "new_data_folder = Path(\"/Users/vigji/reorganized_data_folder\")  # new reorganized folder\n",
    "new_data_folder.mkdir(exist_ok=True)"
   ]
  },
  {
   "cell_type": "code",
   "execution_count": null,
   "id": "7de1dc1e",
   "metadata": {},
   "outputs": [],
   "source": [
    "for file in data_folder.glob(\"*\"):\n",
    "    subject, session = file.stem.split(\"_\")  # remove extension and separate using _\n",
    "    new_location = new_data_folder / subject / session  # create new path using subject and session\n",
    "    new_location.mkdir(exist_ok=True, parents=True)  # if necessary, create also parent folder\n",
    "    \n",
    "    file.replace(new_location / file.name)  # move the file"
   ]
  },
  {
   "cell_type": "markdown",
   "id": "326020d5",
   "metadata": {},
   "source": [
    "You can also automatically create dataframes from the filesystem structure as we go! (in the practical)"
   ]
  }
 ],
 "metadata": {
  "celltoolbar": "Slideshow",
  "kernelspec": {
   "display_name": "Python [conda env:course_env]",
   "language": "python",
   "name": "conda-env-course_env-py"
  },
  "language_info": {
   "codemirror_mode": {
    "name": "ipython",
    "version": 3
   },
   "file_extension": ".py",
   "mimetype": "text/x-python",
   "name": "python",
   "nbconvert_exporter": "python",
   "pygments_lexer": "ipython3"
  }
 },
 "nbformat": 4,
 "nbformat_minor": 5
}
