{
 "cells": [
  {
   "cell_type": "markdown",
   "id": "3ca811a3",
   "metadata": {},
   "source": [
    "# Python for (open) Neuroscience\n",
    "\n",
    "_Lecture 0.1_ - Data containers and flow controllers\n",
    "\n",
    "Luigi Petrucco\n",
    "\n",
    "Jean-Charles Mariani"
   ]
  },
  {
   "cell_type": "markdown",
   "id": "b9ef6814",
   "metadata": {},
   "source": [
    "## Data containers\n",
    "\n",
    "We can store multiple values in a single variable.\n",
    "\n",
    "<span style=\"color:indianred\">Built-in</span> data container types:\n",
    " - `list`\n",
    " - `tuple`\n",
    " - `dictionary`\n",
    "\n",
    "Data containers from common libraries (we'll have a look at those later):\n",
    " - `numpy.array`\n",
    " - `pandas.DataSet`"
   ]
  },
  {
   "cell_type": "markdown",
   "id": "7e36da63",
   "metadata": {},
   "source": [
    "### `list`"
   ]
  },
  {
   "cell_type": "markdown",
   "id": "3409456b",
   "metadata": {},
   "source": [
    " A **ordered** sequence of values of any type."
   ]
  },
  {
   "cell_type": "code",
   "execution_count": null,
   "id": "c3f0c85e",
   "metadata": {},
   "outputs": [],
   "source": [
    "a_list = [1, True, \"something\", 3.14]\n",
    "print(a_list)\n",
    "print(len(a_list))"
   ]
  },
  {
   "cell_type": "markdown",
   "id": "8e11325b",
   "metadata": {},
   "source": [
    "Values are then retrieved with numerical indexing (**Note:** Numerical indexes start from 0!!!)"
   ]
  },
  {
   "cell_type": "code",
   "execution_count": null,
   "id": "5374572b",
   "metadata": {},
   "outputs": [],
   "source": [
    "# Index list:\n",
    "a_list[2]"
   ]
  },
  {
   "cell_type": "markdown",
   "id": "8acfabfd",
   "metadata": {},
   "source": [
    "The content of a list can be modified:"
   ]
  },
  {
   "cell_type": "code",
   "execution_count": null,
   "id": "53121c00",
   "metadata": {},
   "outputs": [],
   "source": [
    "a_list[2] = 4"
   ]
  },
  {
   "cell_type": "markdown",
   "id": "e7bbeb45",
   "metadata": {},
   "source": [
    "We can simultaneously modify multiple parts of a list as long as indexing and assigned values match in length:"
   ]
  },
  {
   "cell_type": "code",
   "execution_count": null,
   "id": "9bc035bc",
   "metadata": {},
   "outputs": [],
   "source": [
    "a_list[2:3] = [4, 5]"
   ]
  },
  {
   "cell_type": "markdown",
   "id": "90816696",
   "metadata": {},
   "source": [
    "Lists are not bounded in length and can be extended...:"
   ]
  },
  {
   "cell_type": "code",
   "execution_count": null,
   "id": "a67ee44f",
   "metadata": {},
   "outputs": [],
   "source": [
    "# Append:\n",
    "a_list = [1, True, \"something\", True, 3.14]\n",
    "a_list.append(\"Something new\")\n",
    "print(a_list)"
   ]
  },
  {
   "cell_type": "markdown",
   "id": "689f0de0",
   "metadata": {},
   "source": [
    "...or shortened (this is not very common):"
   ]
  },
  {
   "cell_type": "code",
   "execution_count": null,
   "id": "96d3d672",
   "metadata": {},
   "outputs": [],
   "source": [
    "a_list = [1, True, \"something\", True, 3.14]\n",
    "pop = a_list.pop(0)\n",
    "print(f\"After popping out {pop}, the list is {a_list}\")"
   ]
  },
  {
   "cell_type": "markdown",
   "id": "3d318966",
   "metadata": {},
   "source": [
    "We can also do operations with lists! Very similar to operations on strings."
   ]
  },
  {
   "cell_type": "markdown",
   "id": "4027bcea",
   "metadata": {},
   "source": [
    "We can concatenate strings with `+`:"
   ]
  },
  {
   "cell_type": "code",
   "execution_count": null,
   "id": "7e9c08cd",
   "metadata": {},
   "outputs": [],
   "source": []
  },
  {
   "cell_type": "markdown",
   "id": "e232db16",
   "metadata": {},
   "source": [
    "Or repeat them with `-`:"
   ]
  },
  {
   "cell_type": "code",
   "execution_count": null,
   "id": "8ca47084",
   "metadata": {},
   "outputs": [],
   "source": []
  },
  {
   "cell_type": "markdown",
   "id": "1a9a8400",
   "metadata": {},
   "source": [
    "(Practical 0.1.0)"
   ]
  },
  {
   "cell_type": "markdown",
   "id": "148d62ad",
   "metadata": {},
   "source": [
    "### `dict`"
   ]
  },
  {
   "cell_type": "markdown",
   "id": "a0cb7e1b",
   "metadata": {},
   "source": [
    "A structure where values are associated with a key (and not with a position):"
   ]
  },
  {
   "cell_type": "code",
   "execution_count": null,
   "id": "ad0eb8b6",
   "metadata": {},
   "outputs": [],
   "source": [
    "a_dict = {\"item_a\": 1, \"item_b\": 2}\n",
    "same_dict = dict(item_a=1, item_b=2)\n",
    "\n",
    "a_dict[\"item_a\"]"
   ]
  },
  {
   "cell_type": "markdown",
   "id": "95abdb81",
   "metadata": {},
   "source": [
    "Values are then retrieved with a key; keys are usually strings, but they do not have to:"
   ]
  },
  {
   "cell_type": "code",
   "execution_count": null,
   "id": "c28b5db6",
   "metadata": {},
   "outputs": [],
   "source": [
    "{0: False, 2: True}"
   ]
  },
  {
   "cell_type": "markdown",
   "id": "707e64c8",
   "metadata": {},
   "source": [
    "Like a list, dictionary can be modified in its values:"
   ]
  },
  {
   "cell_type": "code",
   "execution_count": null,
   "id": "62379f19",
   "metadata": {},
   "outputs": [],
   "source": [
    "a_dict = dict(item_a=0, item_b=1)\n",
    "a_dict[\"item_a\"] = 5\n",
    "a_dict"
   ]
  },
  {
   "cell_type": "markdown",
   "id": "d219ded4",
   "metadata": {},
   "source": [
    "Like a list, a dictionary can be extended..."
   ]
  },
  {
   "cell_type": "code",
   "execution_count": null,
   "id": "311d34fb",
   "metadata": {},
   "outputs": [],
   "source": [
    "a_dict = dict(item_a=0, item_b=1)\n",
    "a_dict[\"new_item\"] = 5\n",
    "a_dict"
   ]
  },
  {
   "cell_type": "markdown",
   "id": "9f0b2bdb",
   "metadata": {},
   "source": [
    "...or shortened:"
   ]
  },
  {
   "cell_type": "code",
   "execution_count": null,
   "id": "e1cdddae",
   "metadata": {},
   "outputs": [],
   "source": [
    "a_dict = dict(item_a=0, item_b=1)\n",
    "a_dict.pop(\"item_a\")\n",
    "a_dict"
   ]
  },
  {
   "cell_type": "markdown",
   "id": "f6aa4fa3",
   "metadata": {},
   "source": [
    "### What happens when we make copies of lists and dictionaries?"
   ]
  },
  {
   "cell_type": "markdown",
   "id": "45362b76",
   "metadata": {},
   "source": [
    "**Careful!**: The behavior of lists and dictionaries is different from standard variables! \n",
    "If we make a copy, and change the content of the original, the copy will also change unless we use the `.copy()` method:"
   ]
  },
  {
   "cell_type": "code",
   "execution_count": null,
   "id": "a6cd3fd5",
   "metadata": {},
   "outputs": [],
   "source": [
    "a_list = [0, 1]\n",
    "another_list = a_list\n",
    "\n",
    "print(f\"List values: {a_list}, {another_list}\")\n",
    "print(f\"List pointers: {id(a_list)}, {id(another_list)}\")\n",
    "\n",
    "another_list[0] = 5 # we redefine the variable\n",
    "print(f\"List values: {a_list}, {another_list}\")\n",
    "print(f\"List pointers: {id(a_list)}, {id(another_list)}\")"
   ]
  },
  {
   "cell_type": "markdown",
   "id": "f6c12f3d",
   "metadata": {},
   "source": [
    "(Practical 0.1.1)"
   ]
  },
  {
   "cell_type": "markdown",
   "id": "3d2033d2",
   "metadata": {},
   "source": [
    "### `tuple`"
   ]
  },
  {
   "cell_type": "markdown",
   "id": "63cbff44",
   "metadata": {},
   "source": [
    "Tuples are ordered collections, similar to lists, but **unchangeable** in length and content:"
   ]
  },
  {
   "cell_type": "code",
   "execution_count": null,
   "id": "92edbba9",
   "metadata": {},
   "outputs": [],
   "source": [
    "a_tuple = (1, 2, 3)"
   ]
  },
  {
   "cell_type": "markdown",
   "id": "018d7111",
   "metadata": {},
   "source": [
    "### `set`"
   ]
  },
  {
   "cell_type": "markdown",
   "id": "72e74fef",
   "metadata": {},
   "source": [
    "Unordered collection of items; useful when precise order does not matter"
   ]
  },
  {
   "cell_type": "code",
   "execution_count": null,
   "id": "be467f9a",
   "metadata": {},
   "outputs": [],
   "source": [
    "print([1, 2, 3] == [1, 3, 2])\n",
    "print({1, 2, 3} == {1, 3, 2})"
   ]
  },
  {
   "cell_type": "markdown",
   "id": "18e8c851",
   "metadata": {},
   "source": [
    "New items can be added or removed:"
   ]
  },
  {
   "cell_type": "code",
   "execution_count": null,
   "id": "5a07156a",
   "metadata": {},
   "outputs": [],
   "source": [
    "a_set = {\"a\", \"b\", \"c\", \"d\"}\n",
    "a_set.remove(\"a\")\n",
    "a_set.add(\"e\")\n",
    "a_set"
   ]
  },
  {
   "cell_type": "markdown",
   "id": "8f44c60e",
   "metadata": {},
   "source": [
    "Sets can be useful for set operations of difference / intersection / union:"
   ]
  },
  {
   "cell_type": "code",
   "execution_count": null,
   "id": "12096689",
   "metadata": {},
   "outputs": [],
   "source": [
    "set_a = {\"a\", \"b\", \"c\", \"d\"}\n",
    "set_b = {\"c\", \"d\", \"e\", \"f\"}\n",
    "\n",
    "print(f\"Difference: {set_a - set_b}\")\n",
    "print(f\"Union: {set_a.union(set_b)}\")\n",
    "print(f\"Intersection: {set_a.intersection(set_b)}\")"
   ]
  },
  {
   "cell_type": "markdown",
   "id": "19ab4292",
   "metadata": {},
   "source": [
    "(Practical 0.1.2-3)"
   ]
  },
  {
   "cell_type": "markdown",
   "id": "9793fe35",
   "metadata": {},
   "source": [
    "## What can we do with variables?"
   ]
  },
  {
   "cell_type": "markdown",
   "id": "c2f9ba40",
   "metadata": {},
   "source": [
    "operations on variables and the flow of the program are managed with control structures:\n",
    " - `if` / `elif` / `else`\n",
    " - `for`\n",
    " - `while`"
   ]
  },
  {
   "cell_type": "markdown",
   "id": "5a462a1f",
   "metadata": {},
   "source": [
    "### `if` / `elif` / `else`"
   ]
  },
  {
   "cell_type": "markdown",
   "id": "86e5e978",
   "metadata": {},
   "source": [
    "With a `if` statement we can make the execution of some lines of code optional:"
   ]
  },
  {
   "cell_type": "code",
   "execution_count": null,
   "id": "5a225215",
   "metadata": {},
   "outputs": [],
   "source": [
    "a = 1\n",
    "if a == 10:\n",
    "    print(\"equal 10\")\n",
    "elif a == 5:  # optional\n",
    "    print(\"equal 5\")\n",
    "else:  # optional\n",
    "    print(\"neither 5 nor 10\")"
   ]
  },
  {
   "cell_type": "markdown",
   "id": "b093bb99",
   "metadata": {},
   "source": [
    "We can set multiple conditions:"
   ]
  },
  {
   "cell_type": "code",
   "execution_count": null,
   "id": "051255bb",
   "metadata": {},
   "outputs": [],
   "source": [
    "a, b = 2, 8\n",
    "if a > 1 and b < 10:\n",
    "    print(a, b)"
   ]
  },
  {
   "cell_type": "markdown",
   "id": "3562e97a",
   "metadata": {},
   "source": [
    "(Practical 0.1.4)"
   ]
  },
  {
   "cell_type": "markdown",
   "id": "02536d0d",
   "metadata": {},
   "source": [
    "### `for`"
   ]
  },
  {
   "cell_type": "markdown",
   "id": "ecf329a2",
   "metadata": {},
   "source": [
    "With a `for` loop we can easily repeat many times the same code lines:"
   ]
  },
  {
   "cell_type": "code",
   "execution_count": null,
   "id": "2593c6d4",
   "metadata": {},
   "outputs": [],
   "source": [
    "for i in range(3):\n",
    "    print(i)"
   ]
  },
  {
   "cell_type": "markdown",
   "id": "8b0d0c8e",
   "metadata": {},
   "source": [
    "With `for` loops we can easily go through lists:"
   ]
  },
  {
   "cell_type": "code",
   "execution_count": null,
   "id": "1422301d",
   "metadata": {},
   "outputs": [],
   "source": [
    "a_list = [\"a\", \"simple\", \"list\"]\n",
    "\n",
    "for word in a_list:\n",
    "    print(word)"
   ]
  },
  {
   "cell_type": "markdown",
   "id": "7f689932",
   "metadata": {},
   "source": [
    "We can loop over lists while having also indexes with `enumerate`:"
   ]
  },
  {
   "cell_type": "code",
   "execution_count": null,
   "id": "31165b5a",
   "metadata": {},
   "outputs": [],
   "source": [
    "for idx, word in enumerate(a_list):\n",
    "    print(idx, word)"
   ]
  },
  {
   "cell_type": "markdown",
   "id": "fbae133c",
   "metadata": {},
   "source": [
    "Finally, we can iterate through multiple things at the same time with `zip`:\n"
   ]
  },
  {
   "cell_type": "code",
   "execution_count": null,
   "id": "23e5990b",
   "metadata": {},
   "outputs": [],
   "source": [
    "a_list_of_words = [\"a\", \"simple\", \"list\"]\n",
    "another_list_of_numbers = [10, 30, 42]\n",
    "\n",
    "for word, number in zip(a_list_of_words, another_list_of_numbers):\n",
    "    print(f\"element from list 1:{word}   element from list 2: {number}\")"
   ]
  },
  {
   "cell_type": "markdown",
   "id": "f15b1d1a",
   "metadata": {},
   "source": [
    "We can use `for` loops to go over anything that is <span style=\"color:indianred\">iterable</span>: lists, tuples, but also dictionaries using the correct methods:"
   ]
  },
  {
   "cell_type": "code",
   "execution_count": null,
   "id": "6a02ae6f",
   "metadata": {},
   "outputs": [],
   "source": [
    "a_dict = dict(sam=3, lisa=1, joe=0)\n",
    "\n",
    "# loop over keys: \n",
    "for key in a_dict.keys():  \n",
    "    print(key)"
   ]
  },
  {
   "cell_type": "code",
   "execution_count": null,
   "id": "973c75f9",
   "metadata": {},
   "outputs": [],
   "source": [
    "# loop over values:\n",
    "for val in a_dict.values():  \n",
    "    print(val)"
   ]
  },
  {
   "cell_type": "code",
   "execution_count": null,
   "id": "e028730a",
   "metadata": {},
   "outputs": [],
   "source": [
    "# loop over keys and values:\n",
    "for key, val in a_dict.items():\n",
    "    print(key, val)"
   ]
  },
  {
   "cell_type": "markdown",
   "id": "f82d7b3e",
   "metadata": {},
   "source": [
    "### `for` loop meets `list`: list comprehension"
   ]
  },
  {
   "cell_type": "markdown",
   "id": "698863e6",
   "metadata": {},
   "source": [
    "Many times, the syntax for generating a list can be tediously long:"
   ]
  },
  {
   "cell_type": "code",
   "execution_count": null,
   "id": "f9f45f25",
   "metadata": {},
   "outputs": [],
   "source": [
    "word_list = ['many', 'times', 'the', 'syntax', 'for', 'generating', \n",
    "               'a', 'list', 'can', 'be', 'tediously', 'long']\n",
    "\n",
    "first_letters = []\n",
    "for word in word_list:\n",
    "    first_letters.append(word[0]) "
   ]
  },
  {
   "cell_type": "markdown",
   "id": "78400cbb",
   "metadata": {},
   "source": [
    "Instead, we can use <span style=\"color:indianred\">list comprehensions</span>:"
   ]
  },
  {
   "cell_type": "code",
   "execution_count": null,
   "id": "a4a69259",
   "metadata": {},
   "outputs": [],
   "source": [
    "first_letters = [word[0] for word in word_list]"
   ]
  },
  {
   "cell_type": "markdown",
   "id": "04bb0b13",
   "metadata": {},
   "source": [
    "Not just nicer sintax! It is also more efficient!"
   ]
  },
  {
   "cell_type": "markdown",
   "id": "ef2bdc34",
   "metadata": {},
   "source": [
    "🐍  **Very Pythonic!**"
   ]
  },
  {
   "cell_type": "markdown",
   "id": "5eda2e12",
   "metadata": {},
   "source": [
    "We can even incorporate conditions in list comprehensions:"
   ]
  },
  {
   "cell_type": "code",
   "execution_count": null,
   "id": "0814e29e",
   "metadata": {},
   "outputs": [],
   "source": [
    "first_letters = [word[0] for word in word_list if len(word) > 3]"
   ]
  },
  {
   "cell_type": "markdown",
   "id": "e7833ba6",
   "metadata": {},
   "source": [
    "...but remember!\n",
    "\n",
    "\n",
    "    🪷 The Zen of Python 🪷\n",
    "        \n",
    "        Readability counts."
   ]
  },
  {
   "cell_type": "markdown",
   "id": "1779cdfc",
   "metadata": {},
   "source": [
    "### `for` loop meets `dict`: dictionary comprehension"
   ]
  },
  {
   "cell_type": "markdown",
   "id": "d7b7a307",
   "metadata": {},
   "source": [
    "We can use a similar trick to define dictionaries; the syntax will be:\n",
    "```python\n",
    "{key: val for something in something_iterable}\n",
    "```"
   ]
  },
  {
   "cell_type": "code",
   "execution_count": null,
   "id": "9b6316f8",
   "metadata": {},
   "outputs": [],
   "source": [
    "letters_count_dict = {word: len(word) for word in word_list}\n",
    "print(letters_count_dict)"
   ]
  },
  {
   "cell_type": "markdown",
   "id": "2c54583a",
   "metadata": {},
   "source": [
    "(Practical 0.1.5)"
   ]
  },
  {
   "cell_type": "markdown",
   "id": "e45cc61f",
   "metadata": {},
   "source": [
    "### `while`"
   ]
  },
  {
   "cell_type": "markdown",
   "id": "6fba628a",
   "metadata": {},
   "source": [
    "With `while` we can keep repeating code until one condition is met instead of a fixed number of times, (like we do  when we use `for`):"
   ]
  },
  {
   "cell_type": "code",
   "execution_count": null,
   "id": "127153bc",
   "metadata": {},
   "outputs": [],
   "source": [
    "import random\n",
    "coin_flip = 0\n",
    "n_draw = 0\n",
    "while coin_flip != 1:\n",
    "    coin_flip = random.randint(0, 1)\n",
    "    print(f\"Draw n. {n_draw}; result: {coin_flip}\")\n",
    "    \n",
    "    n_draw += 1"
   ]
  },
  {
   "cell_type": "markdown",
   "id": "12fe3058",
   "metadata": {},
   "source": [
    "### Bonus construct: `try` / `except`"
   ]
  },
  {
   "cell_type": "markdown",
   "id": "b4385a45",
   "metadata": {},
   "source": [
    "In Python, it's better to ask forgiveness than permission! Sometimes, we want to try executing some code and fail gracefully if something (not entirely unexpected) happens:\n",
    "\n",
    "```python\n",
    "try:\n",
    "    do_something_dangerous()\n",
    "except SomeException:\n",
    "    handle_the_error()\n",
    "```"
   ]
  },
  {
   "cell_type": "code",
   "execution_count": null,
   "id": "34592c13",
   "metadata": {},
   "outputs": [],
   "source": [
    "some_input_we_cant_control = \"a\"\n",
    "\n",
    "try:\n",
    "    some_input_we_cant_control += 1\n",
    "except TypeError:\n",
    "    print(\"Something went wrong while taking the sum\")"
   ]
  },
  {
   "cell_type": "markdown",
   "id": "4388fd6b",
   "metadata": {},
   "source": [
    "(Practical 0.1.6)"
   ]
  },
  {
   "cell_type": "code",
   "execution_count": null,
   "id": "657f3bd7",
   "metadata": {},
   "outputs": [],
   "source": []
  }
 ],
 "metadata": {
  "celltoolbar": "Slideshow",
  "kernelspec": {
   "display_name": "Python 3 (ipykernel)",
   "language": "python",
   "name": "python3"
  },
  "language_info": {
   "codemirror_mode": {
    "name": "ipython",
    "version": 3
   },
   "file_extension": ".py",
   "mimetype": "text/x-python",
   "name": "python",
   "nbconvert_exporter": "python",
   "pygments_lexer": "ipython3"
  }
 },
 "nbformat": 4,
 "nbformat_minor": 5
}
