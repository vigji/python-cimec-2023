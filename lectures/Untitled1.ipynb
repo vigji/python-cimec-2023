{
 "cells": [
  {
   "cell_type": "code",
   "execution_count": null,
   "id": "aa6fdebf-a4e6-4040-9c22-66a7611fbf4c",
   "metadata": {},
   "outputs": [],
   "source": [
    "%matplotlib widget\n",
    "import numpy as np\n",
    "from matplotlib import pyplot as plt\n",
    "plt.figure(figsize=(3, 3))\n",
    "plt.plot(np.random.normal(1, 1, 500))\n",
    "plt.show()"
   ]
  },
  {
   "cell_type": "code",
   "execution_count": null,
   "id": "9ebe2848-d618-4232-ba15-ae0d7f246998",
   "metadata": {},
   "outputs": [],
   "source": []
  }
 ],
 "metadata": {
  "kernelspec": {
   "display_name": "Python [conda env:course_env]",
   "language": "python",
   "name": "conda-env-course_env-py"
  },
  "language_info": {
   "codemirror_mode": {
    "name": "ipython",
    "version": 3
   },
   "file_extension": ".py",
   "mimetype": "text/x-python",
   "name": "python",
   "nbconvert_exporter": "python",
   "pygments_lexer": "ipython3"
  }
 },
 "nbformat": 4,
 "nbformat_minor": 5
}
