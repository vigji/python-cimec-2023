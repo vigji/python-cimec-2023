{
 "cells": [
  {
   "cell_type": "markdown",
   "id": "3ca811a3",
   "metadata": {},
   "source": [
    "# Python for (open) Neuroscience\n",
    "\n",
    "_Lecture 0.0.0 - Introduction to Python_\n",
    "\n",
    "Luigi Petrucco\n",
    "\n",
    "Jean-Charles Mariani"
   ]
  },
  {
   "cell_type": "markdown",
   "id": "3cfa89e7-b2c6-4e1c-9bfc-fd88c9345c89",
   "metadata": {},
   "source": [
    "## Lectures outline\n",
    "\n",
    " - Course housekeeping stuff\n",
    " - General introduction to Python\n",
    " - Intro to Python syntax"
   ]
  },
  {
   "cell_type": "markdown",
   "id": "7f2385ea",
   "metadata": {},
   "source": [
    "### Time and location\n",
    "\n",
    "**Time**: \n",
    " - How is the current time? Should it /can it be shifted?"
   ]
  },
  {
   "cell_type": "markdown",
   "id": "7ebd7e83",
   "metadata": {},
   "source": [
    "**Location:**\n",
    "- This hall for all the frontal lectures\n",
    "- Maybe Manifattura for the \"office hours\"?"
   ]
  },
  {
   "cell_type": "markdown",
   "id": "ad9d1b9e",
   "metadata": {},
   "source": [
    "### Material and platforms\n",
    "\n",
    "- Material (lectures, exercises...) will always be accessible at https://github.com/vigji/python-cimec\n",
    "\n",
    "- Lectures material will be in the form of Jupyter Notebooks; assignments as well"
   ]
  },
  {
   "cell_type": "markdown",
   "id": "5874733e",
   "metadata": {},
   "source": [
    "**Platforms/IDE:**\n",
    "- **Google Colab** for the first part\n",
    "- **Local installation** for the second part"
   ]
  },
  {
   "cell_type": "markdown",
   "id": "385e7154",
   "metadata": {},
   "source": [
    "**Required accounts:**\n",
    "- **Google** account for Google Colab\n",
    "- **GitHub** account for exercises \n",
    "\n",
    "...a chat?"
   ]
  },
  {
   "cell_type": "markdown",
   "id": "2401af6e",
   "metadata": {},
   "source": [
    "### Lecture organization\n",
    "\n",
    "- The course will be organized in four modules. \n",
    "- Each module: 3 x sessions (2h; Monday-Thursday-Monday) and 1 x office hours (Thursday)\n",
    "- Each session: frontal lecture + hands-on peer coding"
   ]
  },
  {
   "cell_type": "markdown",
   "id": "bc560fc7",
   "metadata": {},
   "source": [
    "**Assignments**:\n",
    "- Short assignments at the end of each module (simple coding exercises)\n",
    "- Final assingment: small real-world project using Python for your work"
   ]
  },
  {
   "cell_type": "markdown",
   "id": "00bef00f",
   "metadata": {},
   "source": [
    "### Syllabus"
   ]
  },
  {
   "cell_type": "markdown",
   "id": "09c00aaf",
   "metadata": {},
   "source": [
    "Full syllabus at https://github.com/vigji/python-cimec\n",
    "\n",
    "- module 0: the fundamentals\n",
    "- module 1: the scientific stack\n",
    "- module 2: Python for neuroscientific data"
   ]
  },
  {
   "cell_type": "markdown",
   "id": "af4cde50",
   "metadata": {},
   "source": [
    "- **module 3: advanced topics in Python for neuroscience**"
   ]
  },
  {
   "cell_type": "markdown",
   "id": "f1c2fd34",
   "metadata": {},
   "source": [
    "## Module 3: optional lectures?\n",
    "\n",
    "Suggestion: we can organize 4/5 lectureson different topics depending on interests"
   ]
  },
  {
   "cell_type": "code",
   "execution_count": null,
   "id": "932455ed",
   "metadata": {},
   "outputs": [],
   "source": [
    "from matplotlib import pyplot as plt\n",
    "import pandas as pd\n",
    "\n",
    "df = pd.read_csv(\"files/questionnaire.csv\")  # read file\n",
    "\n",
    "choices = df[\"I would really like to learn how to...(max 3 answers)\"]\n",
    "answers_counts = pd.Series(\n",
    "    \";\".join(choices).split(\";\")\n",
    ").value_counts()  # merge all results\n",
    "\n",
    "plt.figure()\n",
    "answers_counts.plot(legend=False, kind=\"barh\", figsize=(25, 13), fontsize=30)\n",
    "plt.show()"
   ]
  },
  {
   "cell_type": "markdown",
   "id": "7bdf05ae",
   "metadata": {},
   "source": [
    "### Feedback\n",
    "\n",
    "- Bored faces will be monitored in real time\n",
    "- There will be a second brief anonim. evaluation module after the first two blocks.\n",
    "- But feedbacks and suggestions are welcome any time!"
   ]
  },
  {
   "cell_type": "markdown",
   "id": "7430d4f0",
   "metadata": {},
   "source": [
    "### Important note on the material\n",
    "\n",
    "Inspiration and code for part of the material will probably taken from the Nencki Open Lab Python Course ([link](www.nenckiopenlab.org/2021/10/04/nencki-open-lab-python-course-oct-jan-mondays-10-12-am/))\n",
    "\n",
    "Kindly shared by:\n",
    "- Mateusz Kostecki \n",
    "- Ula Włodkowska\n",
    "- Łucja Doradzińska\n",
    "- Andrew Want\n",
    "- Kasia Skowrońska"
   ]
  },
  {
   "cell_type": "markdown",
   "id": "acaa449c",
   "metadata": {},
   "source": [
    "And now, without further ado..\n"
   ]
  },
  {
   "cell_type": "markdown",
   "id": "b843c90a",
   "metadata": {},
   "source": [
    "...What is Python?"
   ]
  },
  {
   "cell_type": "markdown",
   "id": "2f490e6e",
   "metadata": {},
   "source": [
    "### Python"
   ]
  },
  {
   "cell_type": "markdown",
   "id": "66f9b668",
   "metadata": {},
   "source": [
    "<span style=\"color:indianred\">General purpose</span>, <span style=\"color:indianred\">high level</span> programming language  "
   ]
  },
  {
   "cell_type": "markdown",
   "id": "faad84c7",
   "metadata": {},
   "source": [
    "Created in the early '90s by Guido van Rossum"
   ]
  },
  {
   "cell_type": "markdown",
   "id": "9e72589c",
   "metadata": {},
   "source": [
    "Open-source + wide adoption --> massive number of open-source libraries"
   ]
  },
  {
   "cell_type": "markdown",
   "id": "d447595d",
   "metadata": {},
   "source": [
    "Named after the Monty Python's Flying Circus British TV show (not the animal)"
   ]
  },
  {
   "cell_type": "markdown",
   "id": "6e5d34fc",
   "metadata": {},
   "source": [
    "![Alt Text](https://media.giphy.com/media/TVupcr33Jpg7C/giphy.gif)"
   ]
  },
  {
   "cell_type": "markdown",
   "id": "41f08dd0",
   "metadata": {},
   "source": [
    "### General purpose language\n",
    "\n",
    "- wide range of applications (science, web, desktop applications, games, business...)\n",
    "- support object-oriented programming, but also functional programming"
   ]
  },
  {
   "cell_type": "markdown",
   "id": "02e0faf2",
   "metadata": {},
   "source": [
    "### High level language\n",
    "\n",
    "- Python (like MATLAB or R) is an <span style=\"color:indianred\">interpreted language</span>\n",
    "- Opposed to e.g. C, which is a <span style=\"color:indianred\">compiled language</span>"
   ]
  },
  {
   "cell_type": "markdown",
   "id": "f35cbef8",
   "metadata": {},
   "source": [
    "**Compiled language**: before any line of code can run, all the instructions of the program are translated in assembly code (the computer language)\n",
    " - slow to compile, but fast to run\n",
    " - generally, less user-friendly and harder to debug\n",
    " - code has to be compiled on every different machine\n",
    "\n",
    "**Interpreted language**: each line of code is sent to an <span style=\"color:indianred\">interpreter</span> that send instructions to the processor (using compiled code) and gives the response back\n",
    " - much slower than compiled code\n",
    " - user friendly and easier to interact with\n",
    " - code works across platforms"
   ]
  },
  {
   "cell_type": "markdown",
   "id": "db139813",
   "metadata": {},
   "source": [
    "### Massive number of packages"
   ]
  },
  {
   "cell_type": "markdown",
   "id": "50c7353e",
   "metadata": {},
   "source": [
    " - very large (and quite geek) community\n",
    " - literally tens of thousands of packages to do pretty much anything..."
   ]
  },
  {
   "cell_type": "markdown",
   "id": "7de1ee3a",
   "metadata": {},
   "source": [
    "...included plotting geek comics:"
   ]
  },
  {
   "cell_type": "code",
   "execution_count": null,
   "id": "fc9ef43f",
   "metadata": {},
   "outputs": [],
   "source": [
    "# Show geek comics:\n",
    "import xkcd\n",
    "from imageio.v2 import imread\n",
    "\n",
    "link = xkcd.Comic(353).getImageLink()  # get image link from number\n",
    "\n",
    "plt.figure(figsize=(6, 6))  # plot image\n",
    "plt.imshow(imread(link), cmap=\"gray\")\n",
    "plt.show()"
   ]
  },
  {
   "cell_type": "markdown",
   "id": "f91e8d85",
   "metadata": {},
   "source": [
    "### Comparison with R and MATLAB"
   ]
  },
  {
   "cell_type": "markdown",
   "id": "9a445581-a68b-472b-b7ad-cffac1da3247",
   "metadata": {},
   "source": [
    "**MATLAB**:\n",
    " - heavily engineering-oriented in the original design\n",
    " - much more focused on efficient numerical computation than statistics (eg, no smart data structures)\n",
    " - less versioning problems, but also never evolving\n",
    " - **not open-source**!"
   ]
  },
  {
   "cell_type": "markdown",
   "id": "dd99afb0",
   "metadata": {},
   "source": [
    "**R**:\n",
    " - have not really tried, so can't speak too much\n",
    " - overall, more focused on statistics: very good libraries for Bayesian modelling, bioinformatics...\n",
    " - more restrict in scope than Python"
   ]
  },
  {
   "cell_type": "markdown",
   "id": "14e2f2d1",
   "metadata": {},
   "source": [
    "### An additional Python strength: APIs"
   ]
  },
  {
   "cell_type": "markdown",
   "id": "3af06722",
   "metadata": {},
   "source": [
    "Many, many tools and websites offer Python <span style=\"color:indianred\">APIs</span> (Application Programming Interfaces). With APIs we can:\n",
    " - download data from servers\n",
    " - publish content online\n",
    " - interact with other software / databases in our lab\n",
    " - build programs that do things in the world (read frames from cameras/sensors, control hardware, etc.)"
   ]
  },
  {
   "cell_type": "markdown",
   "id": "c7ee36f1",
   "metadata": {},
   "source": [
    "A small example:"
   ]
  },
  {
   "cell_type": "code",
   "execution_count": null,
   "id": "55aa21ea",
   "metadata": {},
   "outputs": [],
   "source": [
    "import wikipedia\n",
    "\n",
    "wikipedia.summary(\"Rovereto\", sentences=1)"
   ]
  },
  {
   "cell_type": "markdown",
   "id": "1e662c63",
   "metadata": {},
   "source": [
    "With the advent of language models and code generators, this can become increasingly important in the future!"
   ]
  },
  {
   "cell_type": "markdown",
   "id": "e9d9ef53",
   "metadata": {},
   "source": [
    "Eg, great integration of OpenAI models such as GPT within Python:"
   ]
  },
  {
   "cell_type": "code",
   "execution_count": null,
   "id": "ef585358",
   "metadata": {},
   "outputs": [],
   "source": [
    "import openai\n",
    "\n",
    "openai.api_key_path = \"/Users/vigji/openai.txt\"\n",
    "\n",
    "messages = [\n",
    "    {\n",
    "        \"role\": \"user\",\n",
    "        \"content\": \"Send a small limerick to a class starting a Python course\",\n",
    "    }\n",
    "]\n",
    "\n",
    "response = openai.ChatCompletion.create(\n",
    "    model=\"gpt-3.5-turbo\", max_tokens=40, temperature=1.2, messages=messages\n",
    ")\n",
    "print(response[\"choices\"][0][\"message\"][\"content\"])"
   ]
  },
  {
   "cell_type": "markdown",
   "id": "f311b3ad",
   "metadata": {},
   "source": [
    "### Goals of the course"
   ]
  },
  {
   "cell_type": "markdown",
   "id": "692aec29",
   "metadata": {},
   "source": [
    "Learn the basics of Python - lingo and framework more than memorizing syntax!"
   ]
  },
  {
   "cell_type": "markdown",
   "id": "4e0071a4",
   "metadata": {},
   "source": [
    "You won't know everything but you'll now how to keep learning"
   ]
  },
  {
   "cell_type": "markdown",
   "id": "9a43dfa1",
   "metadata": {},
   "source": [
    "Ideally, develop a bit of taste for coding!"
   ]
  },
  {
   "cell_type": "markdown",
   "id": "da46f405",
   "metadata": {},
   "source": [
    "### The phylosophy of Python"
   ]
  },
  {
   "cell_type": "markdown",
   "id": "b03f5217",
   "metadata": {},
   "source": [
    "Around the Python community there are many (weird people) computer scientists and an interesting aesthetics. There is a  <span style=\"color:indianred\">pythonic</span> way of approaching problems."
   ]
  },
  {
   "cell_type": "markdown",
   "id": "f6b8b78b",
   "metadata": {},
   "source": [
    "Difficoult to express rationally and takes time to be learned - but gives an additional layer or reward!"
   ]
  },
  {
   "cell_type": "markdown",
   "id": "c27d1990",
   "metadata": {},
   "source": [
    "### The zen of Python"
   ]
  },
  {
   "cell_type": "code",
   "execution_count": null,
   "id": "69f7301a",
   "metadata": {},
   "outputs": [],
   "source": [
    "import this"
   ]
  },
  {
   "cell_type": "code",
   "execution_count": null,
   "id": "42a3d759",
   "metadata": {},
   "outputs": [],
   "source": []
  }
 ],
 "metadata": {
  "celltoolbar": "Slideshow",
  "kernelspec": {
   "display_name": "Python 3 (ipykernel)",
   "language": "python",
   "name": "python3"
  },
  "language_info": {
   "codemirror_mode": {
    "name": "ipython",
    "version": 3
   },
   "file_extension": ".py",
   "mimetype": "text/x-python",
   "name": "python",
   "nbconvert_exporter": "python",
   "pygments_lexer": "ipython3"
  }
 },
 "nbformat": 4,
 "nbformat_minor": 5
}
