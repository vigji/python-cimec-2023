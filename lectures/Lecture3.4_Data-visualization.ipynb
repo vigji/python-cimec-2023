{
 "cells": [
  {
   "cell_type": "markdown",
   "id": "2a6d21bd",
   "metadata": {},
   "source": [
    "# Python for (open) Neuroscience\n",
    "\n",
    "_Lecture 3.4_ - Data visualization\n",
    "\n",
    "Luigi Petrucco\n",
    "\n",
    "Jean-Charles Mariani\n",
    "\n",
    "[![Open In Colab](https://colab.research.google.com/assets/colab-badge.svg)](https://colab.research.google.com/github/vigji/python-cimec/blob/main/lectures/Lecture3.4_Data-visualization.ipynb)"
   ]
  },
  {
   "cell_type": "code",
   "execution_count": null,
   "id": "fb8e2e4a",
   "metadata": {},
   "outputs": [],
   "source": [
    "from matplotlib import pyplot as plt\n",
    "import seaborn as sns\n",
    "import numpy as np\n",
    "import pandas as pd\n",
    "\n",
    "cmaps = {}\n",
    "\n",
    "gradient = np.linspace(0, 1, 256)\n",
    "gradient = np.vstack((gradient, gradient))\n",
    "import matplotlib as mpl\n",
    "\n",
    "\n",
    "def plot_color_gradients(category, cmap_list):\n",
    "    # Create figure and adjust figure height to number of colormaps\n",
    "    nrows = len(cmap_list)\n",
    "    figh = 0.35 + 0.15 + (nrows + (nrows - 1) * 0.1) * 0.32\n",
    "    fig, axs = plt.subplots(nrows=nrows + 1, figsize=(6.4, figh))\n",
    "    fig.subplots_adjust(top=1 - 0.35 / figh, bottom=0.15 / figh,\n",
    "                        left=0.2, right=0.99)\n",
    "    axs[0].set_title(f'{category} colormaps', fontsize=14)\n",
    "\n",
    "    for ax, name in zip(axs, cmap_list):\n",
    "        ax.imshow(gradient, aspect='auto', cmap=mpl.colormaps[name])\n",
    "        ax.text(-0.01, 0.5, name, va='center', ha='right', fontsize=10,\n",
    "                transform=ax.transAxes)\n",
    "\n",
    "    # Turn off *all* ticks & spines, not just the ones with colormaps.\n",
    "    for ax in axs:\n",
    "        ax.set_axis_off()\n",
    "\n",
    "    # Save colormap list for later.\n",
    "    cmaps[category] = cmap_list"
   ]
  },
  {
   "cell_type": "markdown",
   "id": "63fc246f",
   "metadata": {},
   "source": [
    "## Outline\n",
    "\n",
    "\n",
    " - Some theory\n",
    " - The basic plot _galateo_\n",
    " - Interactive plots\n",
    " - Configuring `matplotlib`\n",
    " - `matplotlib` hacks\n",
    " - `seaborn` hacks\n",
    " - 3D visualizations with `napari`"
   ]
  },
  {
   "cell_type": "markdown",
   "id": "5d5561c6",
   "metadata": {},
   "source": [
    "A great reference"
   ]
  },
  {
   "cell_type": "markdown",
   "id": "49c74700",
   "metadata": {},
   "source": [
    "![tufte_book](https://kurtgippert.cdn.bibliopolis.com/pictures/015820.jpg?v=1498601505)"
   ]
  },
  {
   "cell_type": "markdown",
   "id": "465a0d63",
   "metadata": {},
   "source": [
    "## The data-to-ink ratio principle"
   ]
  },
  {
   "cell_type": "markdown",
   "id": "53ae8952",
   "metadata": {},
   "source": [
    "    “Graphical excellence is that which gives \n",
    "    the greatest number of ideas in the shortest \n",
    "    time with the least ink in the smallest space”"
   ]
  },
  {
   "cell_type": "markdown",
   "id": "366ae3b1",
   "metadata": {},
   "source": [
    "When plotting, always strive to maximise the information-per-ink amount!"
   ]
  },
  {
   "cell_type": "markdown",
   "id": "67d58945",
   "metadata": {},
   "source": [
    "### A low hanging fruit: dynamite plots"
   ]
  },
  {
   "cell_type": "markdown",
   "id": "a38ce391",
   "metadata": {},
   "source": [
    "![dynamite](./files/dynamite.png)"
   ]
  },
  {
   "cell_type": "markdown",
   "id": "f2955601",
   "metadata": {},
   "source": [
    "For example, dynamite plots are the worst kind of plot:\n",
    "Each bar is conveying only 2 numbers with a lot of space and ink! "
   ]
  },
  {
   "cell_type": "code",
   "execution_count": null,
   "id": "78cac87f",
   "metadata": {},
   "outputs": [],
   "source": [
    "np.random.seed(40)\n",
    "data1 = np.abs(np.random.normal(0, 2, 30)) + 5\n",
    "data2 = -data1\n",
    "data2 -= (np.mean(data2) - np.mean(data1)) "
   ]
  },
  {
   "cell_type": "code",
   "execution_count": null,
   "id": "19e99cca",
   "metadata": {},
   "outputs": [],
   "source": [
    "plt.figure(figsize=(2, 2))\n",
    "sns.barplot([data1, data2], errorbar=\"se\")\n",
    "plt.show()"
   ]
  },
  {
   "cell_type": "code",
   "execution_count": null,
   "id": "dd540892",
   "metadata": {},
   "outputs": [],
   "source": [
    "plt.figure(figsize=(2, 2))\n",
    "sns.swarmplot([data1, data2])\n",
    "plt.show()"
   ]
  },
  {
   "cell_type": "markdown",
   "id": "ec48a419",
   "metadata": {},
   "source": [
    "    Respect each data point! \n",
    "  \n",
    "They're costly and painful to get. If they're not out in your chart (and/or publicly available) they are lost forever!"
   ]
  },
  {
   "cell_type": "markdown",
   "id": "b696ee48",
   "metadata": {},
   "source": [
    "## Remove the clutter"
   ]
  },
  {
   "cell_type": "markdown",
   "id": "2ee5114a",
   "metadata": {},
   "source": [
    "Try to keep your plot as clean as possible. Remove boxes. Whitespace is enough to separate panels! Remove axes not conveying information."
   ]
  },
  {
   "cell_type": "code",
   "execution_count": null,
   "id": "d42fd2eb",
   "metadata": {},
   "outputs": [],
   "source": [
    "f, ax = plt.subplots(figsize=(1.5, 3))\n",
    "sns.swarmplot(data1)\n",
    "# sns.despine(bottom=True)\n",
    "ax.set(xlabel=\"Some data\", ylabel=\"Count\")\n",
    "plt.show()"
   ]
  },
  {
   "cell_type": "code",
   "execution_count": null,
   "id": "5253fb96",
   "metadata": {},
   "outputs": [],
   "source": [
    "f, ax = plt.subplots(figsize=(1.5, 3))\n",
    "sns.swarmplot(data1)\n",
    "sns.despine(bottom=True)\n",
    "ax.set(xlabel=\"Some data\", ylabel=\"Count\", xticks=[])\n",
    "plt.show()"
   ]
  },
  {
   "cell_type": "markdown",
   "id": "a5659514",
   "metadata": {},
   "source": [
    "### Avoid redundancy!"
   ]
  },
  {
   "cell_type": "markdown",
   "id": "ce2c12c9",
   "metadata": {},
   "source": [
    "Do not use different layers of information in a reduntant way:"
   ]
  },
  {
   "cell_type": "code",
   "execution_count": null,
   "id": "32a0aa2a",
   "metadata": {},
   "outputs": [],
   "source": [
    "x = np.random.normal(0, 1, 300)\n",
    "y = x + np.random.normal(0, 1, 300)\n",
    "plt.figure(figsize=(3,3))\n",
    "plt.scatter(x, y, c=y)\n",
    "plt.show()"
   ]
  },
  {
   "cell_type": "code",
   "execution_count": null,
   "id": "26f33d65",
   "metadata": {},
   "outputs": [],
   "source": [
    "x = np.random.normal(0, 1, 300)\n",
    "y = x + np.random.normal(0, 1, 300)\n",
    "plt.figure(figsize=(3,3))\n",
    "plt.scatter(x, y)\n",
    "plt.show()"
   ]
  },
  {
   "cell_type": "markdown",
   "id": "523ea614",
   "metadata": {},
   "source": [
    "### Stratify information in the plot"
   ]
  },
  {
   "cell_type": "markdown",
   "id": "ff4cba9a",
   "metadata": {},
   "source": [
    "Generally plots are good if they have a first clear message, and they can be further read to reveal more details:"
   ]
  },
  {
   "cell_type": "code",
   "execution_count": null,
   "id": "eab78fc4",
   "metadata": {},
   "outputs": [],
   "source": [
    "plt.figure(figsize=(5, 1.8))\n",
    "sns.swarmplot([data1, data2], orient=\"h\",zorder=-100,alpha=0.5)\n",
    "sns.boxplot(pd.DataFrame(dict(data1=data1, data2=data2)), \n",
    "            boxprops={'facecolor':'none'}, orient=\"h\")"
   ]
  },
  {
   "cell_type": "markdown",
   "id": "774d3d0b",
   "metadata": {},
   "source": [
    "### Link axes and colors"
   ]
  },
  {
   "cell_type": "markdown",
   "id": "f63644b1",
   "metadata": {},
   "source": [
    "To convey more in a clearer way, use shared axes across plots!"
   ]
  },
  {
   "cell_type": "code",
   "execution_count": null,
   "id": "1eb3d989",
   "metadata": {},
   "outputs": [],
   "source": [
    "fig, axs = plt.subplots(2, 1, figsize=(4, 1.8), sharex=True)\n",
    "sns.swarmplot(data1, orient=\"h\", ax=axs[1])\n",
    "axs[0].hist(data1)\n",
    "plt.show()"
   ]
  },
  {
   "cell_type": "markdown",
   "id": "5aeea2fc",
   "metadata": {},
   "source": [
    "Also, stick to consistent coloring of data points across panels!"
   ]
  },
  {
   "cell_type": "markdown",
   "id": "7c489633",
   "metadata": {},
   "source": [
    "## Colormaps!"
   ]
  },
  {
   "cell_type": "markdown",
   "id": "381f3b75",
   "metadata": {},
   "source": [
    "Colormaps do not only have to be beautiful, but also informative"
   ]
  },
  {
   "cell_type": "markdown",
   "id": "2f6ad288",
   "metadata": {},
   "source": [
    "Conveying info through color can be tricky"
   ]
  },
  {
   "cell_type": "markdown",
   "id": "84802561",
   "metadata": {},
   "source": [
    "### Perceptual linearity"
   ]
  },
  {
   "cell_type": "markdown",
   "id": "0e234c66",
   "metadata": {},
   "source": [
    "Perceptual linearity is important! That's why you should avoid jet colormaps!"
   ]
  },
  {
   "cell_type": "code",
   "execution_count": null,
   "id": "3e816d71",
   "metadata": {},
   "outputs": [],
   "source": [
    "import numpy as np\n",
    "from scipy.ndimage import gaussian_filter\n",
    "np.random.seed(42)\n",
    "img = np.random.normal(0, 1, (300, 300))\n",
    "img = gaussian_filter(-img, 50)"
   ]
  },
  {
   "cell_type": "code",
   "execution_count": null,
   "id": "5ce896ea",
   "metadata": {},
   "outputs": [],
   "source": [
    "f, axs = plt.subplots(2,2,figsize=(6, 6))\n",
    "for i, lims in enumerate([(0.008, None), (0.01, -0.01)]):\n",
    "    for j, cmap in enumerate([\"jet\", \"pink\"]):\n",
    "        axs[i, j].imshow(img, cmap=cmap, vmax=lims[0], vmin=lims[1])\n",
    "        axs[i, j].axis(\"off\")  # remove axes all around"
   ]
  },
  {
   "cell_type": "markdown",
   "id": "b2090bee",
   "metadata": {},
   "source": [
    "### Advanced colormap libraries"
   ]
  },
  {
   "cell_type": "markdown",
   "id": "c3539784",
   "metadata": {},
   "source": [
    "There's libraries offering more colormaps than default ones, with special attention to perceptual linearity:"
   ]
  },
  {
   "cell_type": "markdown",
   "id": "a12484f0",
   "metadata": {},
   "source": [
    "- [seaborn](https://seaborn.pydata.org/tutorial/color_palettes.html)\n",
    "- [colorcet](https://colorcet.holoviz.org/user_guide/index.html)\n",
    "- [oceancm](https://matplotlib.org/cmocean/)"
   ]
  },
  {
   "cell_type": "markdown",
   "id": "076ca695",
   "metadata": {},
   "source": [
    "### Colormap choice"
   ]
  },
  {
   "cell_type": "markdown",
   "id": "b1c53a64",
   "metadata": {},
   "source": [
    "**sequential**: Stick to sequential colormaps for monotonic, positive (or negative)- only data"
   ]
  },
  {
   "cell_type": "code",
   "execution_count": null,
   "id": "1e2c7d7c",
   "metadata": {},
   "outputs": [],
   "source": [
    "plot_color_gradients('Sequential',\n",
    "                     ['Greys', 'Purples', 'Blues', 'Greens', 'Oranges', 'Reds',\n",
    "                      ])"
   ]
  },
  {
   "cell_type": "markdown",
   "id": "2a04b955",
   "metadata": {},
   "source": [
    "**Diverging**: Diverging colormaps represent quantities departing from an origin. Make sure you make the white \n",
    "the zero of the image!"
   ]
  },
  {
   "cell_type": "code",
   "execution_count": null,
   "id": "d976ea86",
   "metadata": {},
   "outputs": [],
   "source": [
    "plot_color_gradients('Diverging',\n",
    "                     ['PiYG', 'PRGn', 'BrBG', 'PuOr', 'RdGy', 'RdBu', 'RdYlBu',\n",
    "                      'RdYlGn', 'Spectral', 'coolwarm', 'bwr'])"
   ]
  },
  {
   "cell_type": "markdown",
   "id": "ffb4fe1b",
   "metadata": {},
   "source": [
    "**Cyclic**: Colormaps where both edges have same values. Useful for circular data (orientation, angles, phase...)"
   ]
  },
  {
   "cell_type": "code",
   "execution_count": null,
   "id": "b7e0844d",
   "metadata": {},
   "outputs": [],
   "source": [
    "plot_color_gradients('Cyclic', ['twilight', 'twilight_shifted', 'hsv'])"
   ]
  },
  {
   "cell_type": "markdown",
   "id": "d832bdb8",
   "metadata": {},
   "source": [
    "Or from seaborn:"
   ]
  },
  {
   "cell_type": "code",
   "execution_count": null,
   "id": "4b0ef529",
   "metadata": {},
   "outputs": [],
   "source": [
    "sns.husl_palette(as_cmap=True)"
   ]
  },
  {
   "cell_type": "markdown",
   "id": "47394645",
   "metadata": {},
   "source": [
    "# `matplotlib` pro usage"
   ]
  },
  {
   "cell_type": "markdown",
   "id": "d7e41604",
   "metadata": {},
   "source": [
    "Let's introduce a bit more `matplotlib` and some more advanced tools there!"
   ]
  },
  {
   "cell_type": "markdown",
   "id": "eb0dfa3d",
   "metadata": {},
   "source": [
    "### Backends"
   ]
  },
  {
   "cell_type": "markdown",
   "id": "05aabc8a",
   "metadata": {},
   "source": [
    "Default Python would be text-only"
   ]
  },
  {
   "cell_type": "markdown",
   "id": "c738001e",
   "metadata": {},
   "source": [
    "To visualize images, we have to rely on <span style=\"color:indianred\">backends</span>!"
   ]
  },
  {
   "cell_type": "markdown",
   "id": "b0d71ac1",
   "metadata": {},
   "source": [
    "We can generate plots in a number of ways!\n",
    "\n",
    " - as panels opening up between notebooks' cells\n",
    " - as windows popping put when running a script\n",
    " - directly writing them as files\n",
    " - ..."
   ]
  },
  {
   "cell_type": "markdown",
   "id": "211d3825",
   "metadata": {},
   "source": [
    "Each of those use entirely different methods to render pixels on the screen...The backend is what takes care of converting plotting instructions into something that we can visualize"
   ]
  },
  {
   "cell_type": "markdown",
   "id": "c77af4ee",
   "metadata": {},
   "source": [
    "### Warning"
   ]
  },
  {
   "cell_type": "markdown",
   "id": "c8563c59",
   "metadata": {},
   "source": [
    "Backends are often interfaces between Python code and other languages/programs/frameworks! Configuring/switching them sometimes can be confusing. "
   ]
  },
  {
   "cell_type": "markdown",
   "id": "f19debf8",
   "metadata": {},
   "source": [
    "Be patient and google them out!"
   ]
  },
  {
   "cell_type": "markdown",
   "id": "dd8d8e30",
   "metadata": {},
   "source": [
    "### Interactive plots with different backends"
   ]
  },
  {
   "cell_type": "markdown",
   "id": "b8495e2d",
   "metadata": {},
   "source": [
    "Inside a notebook, we can specify different backends by using the magic notebook command\n",
    "```python\n",
    "%matplotlib name_of_the_backend\n",
    "```\n",
    "\n",
    "I recommend to use it only once at the beginning of the notebook!"
   ]
  },
  {
   "cell_type": "code",
   "execution_count": null,
   "id": "04ba7ffb",
   "metadata": {},
   "outputs": [],
   "source": [
    "## This is the default backend, which we get if we do not specify anything:\n",
    "%matplotlib inline"
   ]
  },
  {
   "cell_type": "code",
   "execution_count": null,
   "id": "ef352df4",
   "metadata": {},
   "outputs": [],
   "source": [
    "plt.figure()\n",
    "plt.plot(np.random.normal(0, 1, 500))\n",
    "plt.show()"
   ]
  },
  {
   "cell_type": "markdown",
   "id": "432cf9eb",
   "metadata": {},
   "source": [
    "### Other backends for interactive plots"
   ]
  },
  {
   "cell_type": "code",
   "execution_count": null,
   "id": "912d561c",
   "metadata": {},
   "outputs": [],
   "source": [
    "## This is the default interactive tool in jupyter notebooks\n",
    "%matplotlib notebook"
   ]
  },
  {
   "cell_type": "code",
   "execution_count": null,
   "id": "e56273ae",
   "metadata": {},
   "outputs": [],
   "source": [
    "# This is the best interactive backend. It requires to pip install ipympl.\n",
    "# (generally works better on jupyter lab - a fancier version of jupyter notebook)\n",
    "%matplotlib widget"
   ]
  },
  {
   "cell_type": "markdown",
   "id": "635c4e6c",
   "metadata": {},
   "source": [
    "## Practical plot hacks"
   ]
  },
  {
   "cell_type": "markdown",
   "id": "57fc5869",
   "metadata": {},
   "source": [
    "### Use matplotlib configuration tools!"
   ]
  },
  {
   "cell_type": "markdown",
   "id": "c919f488",
   "metadata": {},
   "source": [
    "We can change settings for all the plots that we are about to make in a notebook/script using configuration functions!\n",
    "\n",
    "Check out [here](https://matplotlib.org/stable/tutorials/introductory/customizing.html) a complete list of parameters you can change (the `matplotlibrc` file)"
   ]
  },
  {
   "cell_type": "code",
   "execution_count": null,
   "id": "f3c7ab17",
   "metadata": {},
   "outputs": [],
   "source": [
    "# For example, this switches permanently off the bounding box:\n",
    "plt.rc('axes.spines', bottom=True, left=True, right=False, top=False)\n",
    "plt.figure(figsize=(4, 2))\n",
    "plt.plot(data1)\n",
    "plt.show()"
   ]
  },
  {
   "cell_type": "code",
   "execution_count": null,
   "id": "2303bae3",
   "metadata": {},
   "outputs": [],
   "source": [
    "# We can change fonts, fontsizes, etc.\n",
    "plt.rc('font', size=14, family=\"serif\", serif=\"Palatino\")\n",
    "plt.figure(figsize=(4, 2))\n",
    "plt.plot(data1)\n",
    "plt.show()"
   ]
  },
  {
   "cell_type": "code",
   "execution_count": null,
   "id": "3b027f30",
   "metadata": {},
   "outputs": [],
   "source": [
    "# This restores defaults\n",
    "plt.rcdefaults()"
   ]
  },
  {
   "cell_type": "markdown",
   "id": "2e83b8b4",
   "metadata": {},
   "source": [
    "### Configuration files"
   ]
  },
  {
   "cell_type": "markdown",
   "id": "7b6b342f",
   "metadata": {},
   "source": [
    "Matplotlib has a bunch of different styles that you can choose from. Check them out [here](https://matplotlib.org/stable/gallery/style_sheets/style_sheets_reference.html)!"
   ]
  },
  {
   "cell_type": "code",
   "execution_count": null,
   "id": "aeb86f5c",
   "metadata": {},
   "outputs": [],
   "source": [
    "# To switch styles:\n",
    "plt.style.use('dark_background')"
   ]
  },
  {
   "cell_type": "code",
   "execution_count": null,
   "id": "198ef219",
   "metadata": {},
   "outputs": [],
   "source": [
    "plt.figure(figsize=(4, 3))\n",
    "plt.plot(data1)\n",
    "plt.scatter(np.arange(len(data1)), data1, c=\"C1\")\n",
    "plt.show()\n",
    "\n",
    "plt.style.use('default') # restore default"
   ]
  },
  {
   "cell_type": "markdown",
   "id": "3dd3fb78",
   "metadata": {},
   "source": [
    "## Custom configuration files"
   ]
  },
  {
   "cell_type": "markdown",
   "id": "d50591a2",
   "metadata": {},
   "source": [
    "We can also define custom style sheets! Highly advisable if we are generating figures for a paper across different scripts/notebooks. \n",
    "\n",
    "E.g., the `./lectures/files/example-stylesheet.mplstyle` contains the following:\n",
    "\n",
    "    font.size : 14\n",
    "    font.family : serif \n",
    "    font.serif : Palatino"
   ]
  },
  {
   "cell_type": "code",
   "execution_count": null,
   "id": "25fff95f",
   "metadata": {},
   "outputs": [],
   "source": [
    "plt.style.use('./files/example-stylesheet.mplstyle')  # use custom stylesheet\n",
    "plt.figure(figsize=(4, 2))\n",
    "plt.plot(data1)\n",
    "plt.show()\n",
    "\n",
    "plt.rcdefaults()  # restore default"
   ]
  },
  {
   "cell_type": "markdown",
   "id": "fb54dfdb",
   "metadata": {},
   "source": [
    "### Color names"
   ]
  },
  {
   "cell_type": "markdown",
   "id": "bd181944",
   "metadata": {},
   "source": [
    "Refer to colors in `matplotlib`:"
   ]
  },
  {
   "cell_type": "markdown",
   "id": "4e66cc65",
   "metadata": {},
   "source": [
    "- default colors: `\"C0\"`, `\"C1\"`, `\"C2\"`...\n",
    "\n",
    "- shades of gray: `\".3\"` `\".5\"` `\".7\"`...\n",
    "\n",
    "- color name: `\"red\"`, `\"green\"`, `\"maroon\"`, `\"teal\"`...(list [here](https://matplotlib.org/stable/gallery/color/named_colors.html))\n",
    "- normalized rgb value (between 0 and 1): `(0.8, 0.1, 0.2)`..."
   ]
  },
  {
   "cell_type": "code",
   "execution_count": null,
   "id": "7e260fd2",
   "metadata": {},
   "outputs": [],
   "source": [
    "plt.figure(figsize=(4, 1))\n",
    "plt.plot(data1, c=\"teal\")\n",
    "plt.plot(data2, c=(0.8, 0.1, 0.2))\n",
    "plt.show()"
   ]
  },
  {
   "cell_type": "markdown",
   "id": "f4762231",
   "metadata": {},
   "source": [
    "### Zorder"
   ]
  },
  {
   "cell_type": "markdown",
   "id": "ca5270e7",
   "metadata": {},
   "source": [
    "Use the `zorder=` argument to correct appearance overlapping"
   ]
  },
  {
   "cell_type": "code",
   "execution_count": null,
   "id": "c4355b3b",
   "metadata": {},
   "outputs": [],
   "source": [
    "plt.figure(figsize=(4, 3))\n",
    "plt.plot(data1)\n",
    "plt.scatter(np.arange(len(data1)), data1, \n",
    "           c=\"C1\")\n",
    "plt.show()"
   ]
  },
  {
   "cell_type": "code",
   "execution_count": null,
   "id": "f3c71a03",
   "metadata": {},
   "outputs": [],
   "source": [
    "plt.figure(figsize=(4, 3))\n",
    "plt.plot(data1)\n",
    "plt.scatter(np.arange(len(data1)), data1, \n",
    "           c=\"C1\", zorder=2)\n",
    "plt.show()"
   ]
  },
  {
   "cell_type": "markdown",
   "id": "1215d474",
   "metadata": {},
   "source": [
    "### `plt.axvline()`/`plt.axhline()`"
   ]
  },
  {
   "cell_type": "markdown",
   "id": "006ab7d5",
   "metadata": {},
   "source": [
    "For addin thresholds, onsets, etc."
   ]
  },
  {
   "cell_type": "code",
   "execution_count": null,
   "id": "4f76fff4",
   "metadata": {},
   "outputs": [],
   "source": [
    "plt.figure(figsize=(5, 3))\n",
    "plt.plot(np.random.normal(0, 1, 500))\n",
    "plt.axvline(300, c=\".6\")  # vertical line\n",
    "plt.axhline(1, c=\"k\", linestyle=\"dashed\")  # horizontal line\n",
    "plt.show()"
   ]
  },
  {
   "cell_type": "markdown",
   "id": "0f941b2a",
   "metadata": {},
   "source": [
    "### `plt.axhspan()`/`plt.axvspan()`"
   ]
  },
  {
   "cell_type": "markdown",
   "id": "ab3deea1",
   "metadata": {},
   "source": [
    "Highlight areas in the plot"
   ]
  },
  {
   "cell_type": "code",
   "execution_count": null,
   "id": "08821c7b",
   "metadata": {},
   "outputs": [],
   "source": [
    "plt.figure(figsize=(5, 3))\n",
    "plt.plot(np.random.normal(0, 1, 500))\n",
    "plt.axhspan(-1, -2, alpha=0.4)\n",
    "plt.axvspan(100, 200, fc=\".6\", ec=\"C1\")  # fc: facecolor, filling; ec: edgecolor, line\n",
    "plt.show()"
   ]
  },
  {
   "cell_type": "markdown",
   "id": "1de9f1b8",
   "metadata": {},
   "source": [
    "### Add labels on a plot"
   ]
  },
  {
   "cell_type": "markdown",
   "id": "cbc90e27",
   "metadata": {},
   "source": [
    "We can annotate our plot with text and text boxes!"
   ]
  },
  {
   "cell_type": "code",
   "execution_count": null,
   "id": "8c607a80",
   "metadata": {},
   "outputs": [],
   "source": [
    "fig = plt.figure(figsize=(3, 1.5))\n",
    "plt.text(0.4, 0.8, \"Python's awesome!\", size=10)\n",
    "\n",
    "plt.text(0.4, 0.4, \"Python's awesome!\", size=10, rotation=20.0,\n",
    "         ha=\"center\", va=\"center\",  # horizontal and vertical alignment e/r/t keypoint\n",
    "         bbox=dict(boxstyle=\"round\",  # some infos on the text box\n",
    "                  ec=\"none\",fc=(1.0, 0.8, 0.8)\n",
    "    ))\n",
    "\n",
    "plt.show()"
   ]
  },
  {
   "cell_type": "markdown",
   "id": "338c91e4",
   "metadata": {},
   "source": [
    "### Custom colormaps"
   ]
  },
  {
   "cell_type": "markdown",
   "id": "9dea2c98",
   "metadata": {},
   "source": [
    "We have seen colormaps when we learned about imshow. Matplotlib has many of them (see [here]( https://matplotlib.org/stable/tutorials/colors/colormaps.html )\\)!"
   ]
  },
  {
   "cell_type": "markdown",
   "id": "464fb58e",
   "metadata": {},
   "source": [
    "If you need a custom colormap, eg to integrate the plot better with an existing color scheme, you can create custom color maps! "
   ]
  },
  {
   "cell_type": "code",
   "execution_count": null,
   "id": "3b73be0b",
   "metadata": {},
   "outputs": [],
   "source": [
    "# Create new colormap with the LinearSegmentedColormap.from_list() method:\n",
    "import matplotlib.colors\n",
    "cmap = matplotlib.colors.LinearSegmentedColormap.from_list(\"\", [\"C0\", (1,1,1), \"orange\"])\n",
    "\n",
    "plt.figure(figsize=(3, 3))\n",
    "plt.imshow(np.random.normal(0, 1, (50, 50)), cmap=cmap)\n",
    "plt.colorbar(aspect=5, fraction=0.05, label=\"Values\")  # add colorbar with custom aspect ratio and size\n",
    "plt.show()"
   ]
  },
  {
   "cell_type": "markdown",
   "id": "2fb7c195",
   "metadata": {},
   "source": [
    "Usually it is better to rely on cmaps designed by experts to be isoluminant!"
   ]
  },
  {
   "cell_type": "markdown",
   "id": "df2227e9",
   "metadata": {},
   "source": [
    "## `plt.subplots()`"
   ]
  },
  {
   "cell_type": "markdown",
   "id": "c7ab0413",
   "metadata": {},
   "source": [
    "For granular control over a plot's appearance, it can be usefult to open new figures with the `plt.subplots()` function with no arguments. This will create only one axis, but give us the object as well.\n",
    "\n",
    "We can specify many things in the `gridspec_kw` dictionary argument!"
   ]
  },
  {
   "cell_type": "code",
   "execution_count": null,
   "id": "b0869dc5",
   "metadata": {},
   "outputs": [],
   "source": [
    "f, ax = plt.subplots(figsize=(3, 3))\n",
    "ax.set(xlabel=\"Something\", ylabel=\"Something else\")"
   ]
  },
  {
   "cell_type": "markdown",
   "id": "3e824d58",
   "metadata": {},
   "source": [
    "## Control multiple plots ratios"
   ]
  },
  {
   "cell_type": "code",
   "execution_count": null,
   "id": "ead39002",
   "metadata": {},
   "outputs": [],
   "source": [
    "f, ax = plt.subplots(2, 3, figsize=(3, 3), \n",
    "         gridspec_kw=dict(left=0.1,  # left padding; also right, top, bottom abailable\n",
    "                          width_ratios=[0.5, 1, 1],  # ratios of the plots, also \"height_ratios\"\n",
    "                          hspace=0,  # space between plots over height; also wspace for width space\n",
    "                          ))\n",
    "# ax.set(xlabel=\"Something\", ylabel=\"Something else\")"
   ]
  },
  {
   "cell_type": "markdown",
   "id": "2c2c3549",
   "metadata": {},
   "source": [
    "## From plots to figures"
   ]
  },
  {
   "cell_type": "markdown",
   "id": "24d42468",
   "metadata": {},
   "source": [
    "General recommandation:\n",
    "\n",
    "    Do **not** edit your figures in \n",
    "    Inkscape/illustrator after generating them!"
   ]
  },
  {
   "cell_type": "markdown",
   "id": "cc4ac81e",
   "metadata": {},
   "source": [
    "Data changes all the times (new inclusions/exclusions, different preprocessing...). You do not want to manually edit figures multiple times!"
   ]
  },
  {
   "cell_type": "markdown",
   "id": "8c223985",
   "metadata": {},
   "source": [
    "### A good general approach"
   ]
  },
  {
   "cell_type": "markdown",
   "id": "78be09af",
   "metadata": {},
   "source": [
    "Fix as much as possible already on the plot. This way if you have to make a similar figure or update if with new data (or new pipelines) it's 0 time."
   ]
  },
  {
   "cell_type": "markdown",
   "id": "dcc318d4",
   "metadata": {},
   "source": [
    "Illustrator can be use to compose the final figure just linking individual panels! In this way, consistent fontsizes, colors, linewidths, etc are ensured."
   ]
  },
  {
   "cell_type": "markdown",
   "id": "86be8bf2",
   "metadata": {},
   "source": [
    "## Export figures"
   ]
  },
  {
   "cell_type": "code",
   "execution_count": null,
   "id": "21fc7095",
   "metadata": {},
   "outputs": [],
   "source": [
    "f, axs = plt.subplots()\n",
    "axs.set(xlabel=\"Something\", ylabel=\"Else\")\n",
    "\n",
    "f.savefig(\"/Users/vigji/Desktop/testfig.pdf\")  # save"
   ]
  },
  {
   "cell_type": "markdown",
   "id": "5a817525",
   "metadata": {},
   "source": [
    "## Ensure Illustrator/inkscape compatible text:"
   ]
  },
  {
   "cell_type": "markdown",
   "id": "d1b72664",
   "metadata": {},
   "source": [
    "If we directly open those pdfs in illustrator, we will have funny text (each letter a different box). To fix we have to edit matplotlib config (you can do it in your custom style-sheet!)"
   ]
  },
  {
   "cell_type": "code",
   "execution_count": null,
   "id": "1c60992b",
   "metadata": {},
   "outputs": [],
   "source": [
    "plt.rc(\"pdf\", fonttype=42)  # I swear the number to put here is actually 42...\n",
    "plt.rc(\"ps\", fonttype=42)"
   ]
  },
  {
   "cell_type": "code",
   "execution_count": null,
   "id": "632f70f0",
   "metadata": {},
   "outputs": [],
   "source": [
    "f.savefig(\"/Users/vigji/Desktop/testfig.pdf\")"
   ]
  },
  {
   "cell_type": "markdown",
   "id": "468b437b",
   "metadata": {},
   "source": [
    "## `seaborn`"
   ]
  },
  {
   "cell_type": "markdown",
   "id": "1d47ea76",
   "metadata": {},
   "source": [
    " - Great library for quick visualizations"
   ]
  },
  {
   "cell_type": "markdown",
   "id": "77fcb236",
   "metadata": {},
   "source": [
    " - super well integrated with `pandas`. works very well for datasets having the right shape. (Can be clunky otherwise)"
   ]
  },
  {
   "cell_type": "markdown",
   "id": "c57b5094",
   "metadata": {},
   "source": [
    " - we will look at only some functions. You should check out more in the [gallery](https://seaborn.pydata.org/examples/index.html)"
   ]
  },
  {
   "cell_type": "markdown",
   "id": "3ad4f85a",
   "metadata": {},
   "source": [
    "### Basic seaborn plotting functions"
   ]
  },
  {
   "cell_type": "markdown",
   "id": "7095ae87",
   "metadata": {},
   "source": [
    "### `sns.swarmplot()`"
   ]
  },
  {
   "cell_type": "markdown",
   "id": "265ab40a",
   "metadata": {},
   "source": [
    "Nice visualization of many datapoints with self-adjusted spreading"
   ]
  },
  {
   "cell_type": "code",
   "execution_count": null,
   "id": "766453c3",
   "metadata": {},
   "outputs": [],
   "source": [
    "plt.figure(figsize=(3, 1))\n",
    "sns.swarmplot(pd.DataFrame(dict(data1=data1, data2=data2)), orient=\"h\")"
   ]
  },
  {
   "cell_type": "markdown",
   "id": "32886004",
   "metadata": {},
   "source": [
    "### `sns.boxplot()`"
   ]
  },
  {
   "cell_type": "markdown",
   "id": "2635bb56",
   "metadata": {},
   "source": [
    "Customizable boxplot. Adjusting properties can be a bit tricky, see example above in the intro!"
   ]
  },
  {
   "cell_type": "code",
   "execution_count": null,
   "id": "4ea2776d",
   "metadata": {},
   "outputs": [],
   "source": [
    "plt.figure(figsize=(3, 1))\n",
    "sns.boxplot(pd.DataFrame(dict(data1=data1, data2=data2)), orient=\"h\")"
   ]
  },
  {
   "cell_type": "markdown",
   "id": "02fe27fa",
   "metadata": {},
   "source": [
    "### `sns.violinplot()`"
   ]
  },
  {
   "cell_type": "markdown",
   "id": "65806adc",
   "metadata": {},
   "source": [
    "Kernel density estimation (KDE) is a way of estimating a continuous probability distribution from many many samples (my recommandation: use only with > 100s of points!)"
   ]
  },
  {
   "cell_type": "code",
   "execution_count": null,
   "id": "fd6ab1d4",
   "metadata": {},
   "outputs": [],
   "source": [
    "plt.figure(figsize=(3, 1))\n",
    "sns.violinplot(pd.DataFrame(dict(data1=data1, data2=data2)), orient=\"h\")"
   ]
  },
  {
   "cell_type": "markdown",
   "id": "d75089e0",
   "metadata": {},
   "source": [
    "### `sns.barplot()`"
   ]
  },
  {
   "cell_type": "markdown",
   "id": "80e166a7",
   "metadata": {},
   "source": [
    "Use this ONLY if you are showing also individual data points!"
   ]
  },
  {
   "cell_type": "code",
   "execution_count": null,
   "id": "5b7556f6",
   "metadata": {},
   "outputs": [],
   "source": [
    "plt.figure(figsize=(4, 1.5))\n",
    "ax = sns.barplot(pd.DataFrame(dict(data1=data1, data2=data2)), \n",
    "                 capsize=0.1,  # wisker width\n",
    "                 errwidth=1,  # error lines width\n",
    "                 orient=\"h\")  # horizontal orientation\n",
    "for bars in ax.containers:  # Loop over bars, and set color of the edges instead of color of the filling\n",
    "    for i, bar in enumerate(bars):\n",
    "        bar.set_edgecolor(f\"C{i}\")\n",
    "        bar.set_facecolor(\"None\")\n",
    "sns.swarmplot(pd.DataFrame(dict(data1=data1, data2=data2)), orient=\"h\", alpha=0.4, zorder=-100)"
   ]
  },
  {
   "cell_type": "markdown",
   "id": "2fcf06b2",
   "metadata": {},
   "source": [
    "### Advanced, multi-layer plots"
   ]
  },
  {
   "cell_type": "markdown",
   "id": "2dd3d91b",
   "metadata": {},
   "source": [
    "`seaborn` offers also some complex, multi-element (and multi-axis) tool for composite visualizations. Explore them in the gallery, but beware! They tend to work only if you need exctly what they offer!"
   ]
  },
  {
   "cell_type": "markdown",
   "id": "c8eabbad",
   "metadata": {},
   "source": [
    "### lineplot with error bars"
   ]
  },
  {
   "cell_type": "code",
   "execution_count": null,
   "id": "a81a61eb",
   "metadata": {},
   "outputs": [],
   "source": [
    "fmri = sns.load_dataset(\"fmri\")\n",
    "fmri.head()"
   ]
  },
  {
   "cell_type": "code",
   "execution_count": null,
   "id": "e2946945",
   "metadata": {},
   "outputs": [],
   "source": [
    "sns.lineplot(data=fmri, x=\"timepoint\", y=\"signal\", hue=\"event\")"
   ]
  },
  {
   "cell_type": "markdown",
   "id": "df6e0abb",
   "metadata": {},
   "source": [
    "### lineplot with colors based on feature"
   ]
  },
  {
   "cell_type": "code",
   "execution_count": null,
   "id": "9cb6ba03",
   "metadata": {},
   "outputs": [],
   "source": [
    "dots = sns.load_dataset(\"dots\").query(\"align == 'dots'\")\n",
    "dots.head()"
   ]
  },
  {
   "cell_type": "code",
   "execution_count": null,
   "id": "129832c3",
   "metadata": {},
   "outputs": [],
   "source": [
    "sns.lineplot(\n",
    "    data=dots, x=\"time\", y=\"firing_rate\", hue=\"coherence\", style=\"choice\",\n",
    ")"
   ]
  },
  {
   "cell_type": "markdown",
   "id": "e833fb28",
   "metadata": {},
   "source": [
    "### Multiple linear regression plots"
   ]
  },
  {
   "cell_type": "code",
   "execution_count": null,
   "id": "6f4eb1c0",
   "metadata": {},
   "outputs": [],
   "source": [
    "penguins = sns.load_dataset(\"penguins\")\n",
    "penguins.head()"
   ]
  },
  {
   "cell_type": "code",
   "execution_count": null,
   "id": "c47c1ea1",
   "metadata": {},
   "outputs": [],
   "source": [
    "g = sns.lmplot(\n",
    "    data=penguins,\n",
    "    x=\"bill_length_mm\", y=\"bill_depth_mm\", hue=\"species\",\n",
    "    height=3\n",
    ")"
   ]
  },
  {
   "cell_type": "markdown",
   "id": "9f07cca0",
   "metadata": {},
   "source": [
    "### KDE joint plot"
   ]
  },
  {
   "cell_type": "code",
   "execution_count": null,
   "id": "ee3f8c80",
   "metadata": {},
   "outputs": [],
   "source": [
    "\n",
    "f = plt.figure()\n",
    "# Show the joint distribution using kernel density estimation\n",
    "g = sns.jointplot(\n",
    "    data=penguins,\n",
    "    x=\"bill_length_mm\", y=\"bill_depth_mm\", hue=\"species\",\n",
    "    kind=\"kde\",\n",
    "    height=4\n",
    ")"
   ]
  },
  {
   "cell_type": "markdown",
   "id": "cc6c0322",
   "metadata": {},
   "source": [
    "## `napari`"
   ]
  },
  {
   "cell_type": "markdown",
   "id": "c5237c28",
   "metadata": {},
   "source": [
    "Napari is a truly awesome tool for 3D data/video visualization and annotation in Python"
   ]
  },
  {
   "cell_type": "markdown",
   "id": "60ca3aac",
   "metadata": {},
   "source": [
    "Developed by great people with state-of-the-art Python and open-source community management!"
   ]
  },
  {
   "cell_type": "markdown",
   "id": "1ec2a8dd",
   "metadata": {},
   "source": [
    "Works very well also integrated with notebooks."
   ]
  },
  {
   "cell_type": "markdown",
   "id": "e38d3231",
   "metadata": {},
   "source": [
    "Use `napari` from notebooks"
   ]
  },
  {
   "cell_type": "code",
   "execution_count": null,
   "id": "645ff7c9",
   "metadata": {},
   "outputs": [],
   "source": [
    "# Before starting, conda install \"napari[all]\". Pip installation could have issues on macOS!\n",
    "\n",
    "# we allow the notebook to handle a parallel event loop for the interface (see last lecture!)\n",
    "%gui qt5"
   ]
  },
  {
   "cell_type": "code",
   "execution_count": null,
   "id": "8fbb793c",
   "metadata": {},
   "outputs": [],
   "source": [
    "import napari\n",
    "import nibabel"
   ]
  },
  {
   "cell_type": "code",
   "execution_count": null,
   "id": "530851b3",
   "metadata": {},
   "outputs": [],
   "source": [
    "img = nibabel.load(\"/Users/vigji/Downloads/imaging_data/sub-001/ses-1/anat/sub-001_ses-1_acq-RARE_T2w.nii.gz\")\n",
    "stack = img.get_fdata()"
   ]
  },
  {
   "cell_type": "code",
   "execution_count": null,
   "id": "564dc0e0",
   "metadata": {},
   "outputs": [],
   "source": [
    "viewer = napari.Viewer()\n",
    "viewer.add_image(stack)"
   ]
  },
  {
   "cell_type": "code",
   "execution_count": null,
   "id": "63bec9a0",
   "metadata": {},
   "outputs": [],
   "source": [
    "points = viewer.layers[\"points_layer\"]"
   ]
  },
  {
   "cell_type": "code",
   "execution_count": null,
   "id": "310c8af5",
   "metadata": {},
   "outputs": [],
   "source": [
    "points.data"
   ]
  },
  {
   "cell_type": "markdown",
   "id": "0c3fa5d9",
   "metadata": {},
   "source": [
    "## Course wrapup"
   ]
  },
  {
   "cell_type": "markdown",
   "id": "da89cb7b",
   "metadata": {},
   "source": [
    "## Take home messages"
   ]
  },
  {
   "cell_type": "markdown",
   "id": "0b241b5f",
   "metadata": {},
   "source": [
    " - Use Python where you can..."
   ]
  },
  {
   "cell_type": "markdown",
   "id": "87ae3c44",
   "metadata": {},
   "source": [
    "- But if you don't, don't use MATLAB for statistics!"
   ]
  },
  {
   "cell_type": "markdown",
   "id": "e25369be",
   "metadata": {},
   "source": [
    "- Use GitHub, and publish your code (not on GitHub)"
   ]
  },
  {
   "cell_type": "markdown",
   "id": "f61a8f60",
   "metadata": {},
   "source": [
    "- Blow up dynamite plot! Together we can!"
   ]
  },
  {
   "cell_type": "markdown",
   "id": "4f590a3f",
   "metadata": {},
   "source": [
    "### Deadlines for the assignments\n",
    "\n"
   ]
  },
  {
   "cell_type": "markdown",
   "id": "153704a2",
   "metadata": {},
   "source": [
    " - **15 Jul 2023** for the Assignment 0 and Assignment 1\n",
    " - **08 Sep 2023** for the project (pending Leah's confirmation)"
   ]
  },
  {
   "cell_type": "markdown",
   "id": "29440647",
   "metadata": {},
   "source": []
  },
  {
   "cell_type": "markdown",
   "id": "59f210fb",
   "metadata": {},
   "source": [
    "## And now... "
   ]
  },
  {
   "cell_type": "markdown",
   "id": "350a49d9",
   "metadata": {},
   "source": [
    "##                🍻 ...beer! 🍻"
   ]
  }
 ],
 "metadata": {
  "celltoolbar": "Slideshow",
  "hide_code_all_hidden": false,
  "kernelspec": {
   "display_name": "Python [conda env:lab_env]",
   "language": "python",
   "name": "conda-env-lab_env-py"
  },
  "language_info": {
   "codemirror_mode": {
    "name": "ipython",
    "version": 3
   },
   "file_extension": ".py",
   "mimetype": "text/x-python",
   "name": "python",
   "nbconvert_exporter": "python",
   "pygments_lexer": "ipython3"
  }
 },
 "nbformat": 4,
 "nbformat_minor": 5
}
