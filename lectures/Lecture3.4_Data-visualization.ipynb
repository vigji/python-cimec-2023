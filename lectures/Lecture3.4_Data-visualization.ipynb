{
 "cells": [
  {
   "cell_type": "markdown",
   "id": "2a6d21bd",
   "metadata": {},
   "source": [
    "# Python for (open) Neuroscience\n",
    "\n",
    "_Lecture 3.4_ - Data visualization\n",
    "\n",
    "Luigi Petrucco\n",
    "\n",
    "Jean-Charles Mariani\n",
    "\n",
    "[![Open In Colab](https://colab.research.google.com/assets/colab-badge.svg)](https://colab.research.google.com/github/vigji/python-cimec/blob/main/lectures/Lecture3.4_Data-visualization.ipynb)"
   ]
  },
  {
   "cell_type": "markdown",
   "id": "63fc246f",
   "metadata": {},
   "source": [
    "## Outline\n",
    "\n",
    "<span style=\"color:indianred\">Some color</span>\n",
    "\n",
    " - Some theory\n",
    " - The basic plot _galateo_\n",
    " - Interactive plots\n",
    " - `seaborn` hacks\n",
    " - Configuring `matplotlib`\n",
    " - `matplotlib` hacks\n",
    " - 3D visualizations with `napari`"
   ]
  },
  {
   "cell_type": "markdown",
   "id": "5d5561c6",
   "metadata": {},
   "source": [
    "A great reference"
   ]
  },
  {
   "cell_type": "markdown",
   "id": "49c74700",
   "metadata": {},
   "source": [
    "![tufte_book](https://kurtgippert.cdn.bibliopolis.com/pictures/015820.jpg?v=1498601505)"
   ]
  },
  {
   "cell_type": "code",
   "execution_count": null,
   "id": "110877f2",
   "metadata": {},
   "outputs": [],
   "source": [
    "from matplotlib import pyplot as plt\n",
    "import seaborn as sns\n",
    "import numpy as np\n",
    "import pandas as pd"
   ]
  },
  {
   "cell_type": "markdown",
   "id": "465a0d63",
   "metadata": {},
   "source": [
    "## The data-to-ink ratio principle"
   ]
  },
  {
   "cell_type": "markdown",
   "id": "53ae8952",
   "metadata": {},
   "source": [
    "    “Graphical excellence is that which gives \n",
    "    the greatest number of ideas in the shortest \n",
    "    time with the least ink in the smallest space”"
   ]
  },
  {
   "cell_type": "markdown",
   "id": "366ae3b1",
   "metadata": {},
   "source": [
    "When plotting, always strive to maximise the information-per-ink amount!"
   ]
  },
  {
   "cell_type": "markdown",
   "id": "67d58945",
   "metadata": {},
   "source": [
    "### A low hanging fruit: ban dynamite plots!"
   ]
  },
  {
   "cell_type": "markdown",
   "id": "f2955601",
   "metadata": {},
   "source": [
    "Following this principle, dynamite plots are the worst kind of plot you can conceive:\n",
    " - each bar is conveying only 2 numbers with a lot of space! \n",
    " - SEMs hinder the understanding of data variability\n",
    " "
   ]
  },
  {
   "cell_type": "code",
   "execution_count": null,
   "id": "78cac87f",
   "metadata": {},
   "outputs": [],
   "source": [
    "plt.rc('axes.spines', **{'bottom':True, 'left':True, 'right':True, 'top':True})\n",
    "np.random.seed(40)\n",
    "data1 = np.abs(np.random.normal(0, 2, 30)) + 5\n",
    "data2 = -data1\n",
    "data2 -= (np.mean(data2) - np.mean(data1)) "
   ]
  },
  {
   "cell_type": "code",
   "execution_count": null,
   "id": "19e99cca",
   "metadata": {},
   "outputs": [],
   "source": [
    "plt.figure(figsize=(2, 2))\n",
    "sns.barplot([data1, data2], errorbar=\"se\")"
   ]
  },
  {
   "cell_type": "code",
   "execution_count": null,
   "id": "dd540892",
   "metadata": {},
   "outputs": [],
   "source": [
    "plt.figure(figsize=(2, 2))\n",
    "sns.swarmplot([data1, data2])"
   ]
  },
  {
   "cell_type": "markdown",
   "id": "ec48a419",
   "metadata": {},
   "source": [
    "Respect each data point! They're costly and painful to get. If they're not out in your chart (and/or publicly available) they are lost forever!"
   ]
  },
  {
   "cell_type": "markdown",
   "id": "0fe9353b",
   "metadata": {},
   "source": [
    "### Dynamite plots must die! Do your part!"
   ]
  },
  {
   "cell_type": "markdown",
   "id": "2ee5114a",
   "metadata": {},
   "source": [
    "Remove the clutter"
   ]
  },
  {
   "cell_type": "code",
   "execution_count": null,
   "id": "2ecb700f",
   "metadata": {},
   "outputs": [],
   "source": [
    "f, ax = plt.subplots(figsize=(1.5, 3))\n",
    "sns.swarmplot(data1)\n",
    "# sns.despine(bottom=True)\n",
    "ax.set(xlabel=\"Some data\", ylabel=\"Count\")\n",
    "plt.show()"
   ]
  },
  {
   "cell_type": "code",
   "execution_count": null,
   "id": "a902cf48",
   "metadata": {},
   "outputs": [],
   "source": [
    "f, ax = plt.subplots(figsize=(1.5, 3))\n",
    "sns.swarmplot(data1)\n",
    "sns.despine(bottom=True)\n",
    "ax.set(xlabel=\"Some data\", ylabel=\"Count\", xticks=[])\n",
    "plt.show()"
   ]
  },
  {
   "cell_type": "markdown",
   "id": "ce2c12c9",
   "metadata": {},
   "source": [
    "Do not use different layers of information in a reduntant way:"
   ]
  },
  {
   "cell_type": "code",
   "execution_count": null,
   "id": "181b6d49",
   "metadata": {},
   "outputs": [],
   "source": [
    "x = np.random.normal(0, 1, 300)\n",
    "y = x + np.random.normal(0, 1, 300)\n",
    "plt.figure()\n",
    "plt.scatter(x, y, c=y)\n",
    "plt.show()"
   ]
  },
  {
   "cell_type": "code",
   "execution_count": null,
   "id": "39c59cc9",
   "metadata": {},
   "outputs": [],
   "source": [
    "x = np.random.normal(0, 1, 300)\n",
    "y = x + np.random.normal(0, 1, 300)\n",
    "plt.figure()\n",
    "plt.scatter(x, y)\n",
    "plt.show()"
   ]
  },
  {
   "cell_type": "markdown",
   "id": "523ea614",
   "metadata": {},
   "source": [
    "Stratify information in the plot"
   ]
  },
  {
   "cell_type": "code",
   "execution_count": null,
   "id": "65034e23",
   "metadata": {},
   "outputs": [],
   "source": [
    "plt.figure(figsize=(2, 2))\n",
    "sns.swarmplot([data1, data2])"
   ]
  },
  {
   "cell_type": "markdown",
   "id": "12f4b992",
   "metadata": {},
   "source": []
  },
  {
   "cell_type": "code",
   "execution_count": null,
   "id": "b021d386",
   "metadata": {},
   "outputs": [],
   "source": []
  },
  {
   "cell_type": "markdown",
   "id": "7c489633",
   "metadata": {},
   "source": [
    "## Colormaps!"
   ]
  },
  {
   "cell_type": "markdown",
   "id": "381f3b75",
   "metadata": {},
   "source": [
    "Colormaps do not only have to be beautiful, but also informative"
   ]
  },
  {
   "cell_type": "markdown",
   "id": "0e234c66",
   "metadata": {},
   "source": [
    "Perceptual linearity is important! That's why you should avoid jet colormaps "
   ]
  },
  {
   "cell_type": "code",
   "execution_count": null,
   "id": "3e816d71",
   "metadata": {},
   "outputs": [],
   "source": [
    "import numpy as np\n",
    "from scipy.ndimage import gaussian_filter\n",
    "np.random.seed(42)\n",
    "img = np.random.normal(0, 1, (300, 300))\n",
    "img = gaussian_filter(-img, 50)"
   ]
  },
  {
   "cell_type": "code",
   "execution_count": null,
   "id": "e5b00a92",
   "metadata": {},
   "outputs": [],
   "source": []
  },
  {
   "cell_type": "code",
   "execution_count": null,
   "id": "5ce896ea",
   "metadata": {},
   "outputs": [],
   "source": [
    "f, axs = plt.subplots(2,2,figsize=(4, 3))\n",
    "for i, lims in enumerate([(0.008, None), (0.01, -0.01)]):\n",
    "    for j, cmap in enumerate([\"jet\", \"pink\"]):\n",
    "        axs[i, j].imshow(img, cmap=cmap, vmax=lims[0], vmin=lims[1])\n",
    "        axs[i, j].axis(\"off\")"
   ]
  },
  {
   "cell_type": "markdown",
   "id": "60544eaa",
   "metadata": {},
   "source": [
    "## Practical plot hacks"
   ]
  },
  {
   "cell_type": "code",
   "execution_count": null,
   "id": "4ab9ccb4",
   "metadata": {},
   "outputs": [],
   "source": []
  },
  {
   "cell_type": "markdown",
   "id": "c3fc0076",
   "metadata": {},
   "source": [
    "### `seaborn`"
   ]
  },
  {
   "cell_type": "markdown",
   "id": "ec26e3ef",
   "metadata": {},
   "source": [
    " - Great library for quick visualizations"
   ]
  },
  {
   "cell_type": "markdown",
   "id": "72dacadb",
   "metadata": {},
   "source": [
    " - super well integrated with `pandas`. works very well for datasets having the right shape"
   ]
  },
  {
   "cell_type": "markdown",
   "id": "44f36487",
   "metadata": {},
   "source": [
    " - we will look at only some functions. You should check out more in the [gallery](https://seaborn.pydata.org/examples/index.html)"
   ]
  },
  {
   "cell_type": "markdown",
   "id": "23239404",
   "metadata": {},
   "source": [
    "### Basic seaborn plotting functions"
   ]
  },
  {
   "cell_type": "markdown",
   "id": "fe197c05",
   "metadata": {},
   "source": [
    "### `sns.swarmplot()`"
   ]
  },
  {
   "cell_type": "markdown",
   "id": "a0ce3549",
   "metadata": {},
   "source": [
    "### `sns.boxplot()`"
   ]
  },
  {
   "cell_type": "code",
   "execution_count": null,
   "id": "4e889c37",
   "metadata": {},
   "outputs": [],
   "source": [
    "plt.figure(figsize=(3, 1))\n",
    "sns.boxplot(pd.DataFrame(dict(data1=data1, data2=data2)), orient=\"h\")"
   ]
  },
  {
   "cell_type": "code",
   "execution_count": null,
   "id": "cc17202c",
   "metadata": {},
   "outputs": [],
   "source": [
    "?sns.boxplot"
   ]
  },
  {
   "cell_type": "markdown",
   "id": "96cef8ef",
   "metadata": {},
   "source": [
    "### `sns.violinplot()`"
   ]
  },
  {
   "cell_type": "code",
   "execution_count": null,
   "id": "92b0a07b",
   "metadata": {},
   "outputs": [],
   "source": []
  },
  {
   "cell_type": "code",
   "execution_count": null,
   "id": "b2ae764a",
   "metadata": {},
   "outputs": [],
   "source": []
  },
  {
   "cell_type": "code",
   "execution_count": null,
   "id": "7a8e0213",
   "metadata": {},
   "outputs": [],
   "source": []
  },
  {
   "cell_type": "code",
   "execution_count": null,
   "id": "a1db57cd",
   "metadata": {},
   "outputs": [],
   "source": []
  },
  {
   "cell_type": "markdown",
   "id": "15b0bd31",
   "metadata": {},
   "source": [
    "Kernel density estimation (KDE) is a way of estimating a cocnt"
   ]
  },
  {
   "cell_type": "markdown",
   "id": "fe039c9d",
   "metadata": {},
   "source": [
    "### Advanced, multi-layer plots"
   ]
  },
  {
   "cell_type": "markdown",
   "id": "2cb3df35",
   "metadata": {},
   "source": [
    "### lineplot with error bars"
   ]
  },
  {
   "cell_type": "code",
   "execution_count": null,
   "id": "475e0718",
   "metadata": {},
   "outputs": [],
   "source": [
    "fmri = sns.load_dataset(\"fmri\")\n",
    "fmri.head()"
   ]
  },
  {
   "cell_type": "code",
   "execution_count": null,
   "id": "2d16b138",
   "metadata": {},
   "outputs": [],
   "source": [
    "sns.lineplot(data=fmri, x=\"timepoint\", y=\"signal\", hue=\"event\")"
   ]
  },
  {
   "cell_type": "markdown",
   "id": "95dd7647",
   "metadata": {},
   "source": [
    "### lineplot with colors based on feature"
   ]
  },
  {
   "cell_type": "code",
   "execution_count": null,
   "id": "48835044",
   "metadata": {},
   "outputs": [],
   "source": [
    "dots = sns.load_dataset(\"dots\").query(\"align == 'dots'\")\n",
    "dots.head()"
   ]
  },
  {
   "cell_type": "code",
   "execution_count": null,
   "id": "ddaf1c59",
   "metadata": {},
   "outputs": [],
   "source": [
    "sns.lineplot(\n",
    "    data=dots, x=\"time\", y=\"firing_rate\", hue=\"coherence\", style=\"choice\",\n",
    ")"
   ]
  },
  {
   "cell_type": "markdown",
   "id": "989b7c4f",
   "metadata": {},
   "source": [
    "### Multiple linear regression plots"
   ]
  },
  {
   "cell_type": "code",
   "execution_count": null,
   "id": "7323af4c",
   "metadata": {},
   "outputs": [],
   "source": [
    "penguins = sns.load_dataset(\"penguins\")\n",
    "\n",
    "g = sns.lmplot(\n",
    "    data=penguins,\n",
    "    x=\"bill_length_mm\", y=\"bill_depth_mm\", hue=\"species\",\n",
    "    height=3\n",
    ")"
   ]
  },
  {
   "cell_type": "markdown",
   "id": "479d8d5d",
   "metadata": {},
   "source": [
    "### KDE joint plot"
   ]
  },
  {
   "cell_type": "code",
   "execution_count": null,
   "id": "206effe2",
   "metadata": {},
   "outputs": [],
   "source": [
    "\n",
    "f = plt.figure()\n",
    "# Show the joint distribution using kernel density estimation\n",
    "g = sns.jointplot(\n",
    "    data=penguins,\n",
    "    x=\"bill_length_mm\", y=\"bill_depth_mm\", hue=\"species\",\n",
    "    kind=\"kde\",\n",
    "    height=4\n",
    ")"
   ]
  },
  {
   "cell_type": "markdown",
   "id": "65f385d6",
   "metadata": {},
   "source": [
    "## From plots to figures"
   ]
  },
  {
   "cell_type": "markdown",
   "id": "f1ed271c",
   "metadata": {},
   "source": [
    "General recommandation:\n",
    "\n",
    "    Do **not** edit your figures in \n",
    "    Inkscape/illustrator after generating them!"
   ]
  },
  {
   "cell_type": "markdown",
   "id": "38503eba",
   "metadata": {},
   "source": [
    "Data changes all the times (new inclusions/exclusions, different preprocessing...). You do not want to manually edit figures multiple times!"
   ]
  },
  {
   "cell_type": "markdown",
   "id": "9a788fa9",
   "metadata": {},
   "source": [
    "### A good general approach"
   ]
  },
  {
   "cell_type": "markdown",
   "id": "63e36702",
   "metadata": {},
   "source": [
    "Fix as much as possible already on the plot, so if you have to make a similar figure or update if with new data (or new pipelines) it's 0 time."
   ]
  },
  {
   "cell_type": "markdown",
   "id": "d61bf0f1",
   "metadata": {},
   "source": [
    "Illustrator can be use to compose the final figure linking individual panels"
   ]
  },
  {
   "cell_type": "markdown",
   "id": "0b732dce",
   "metadata": {},
   "source": [
    "### Ensure good formatting in exports"
   ]
  },
  {
   "cell_type": "markdown",
   "id": "7e84ed3e",
   "metadata": {},
   "source": [
    "Kernel density estimation (KDE) is a way of estimating a cocnt"
   ]
  },
  {
   "cell_type": "markdown",
   "id": "e577924a",
   "metadata": {},
   "source": [
    "Plotting many lines"
   ]
  },
  {
   "cell_type": "markdown",
   "id": "af2b79d6",
   "metadata": {},
   "source": [
    "Label your curves"
   ]
  },
  {
   "cell_type": "markdown",
   "id": "44e0e46d",
   "metadata": {},
   "source": [
    "Despine axes"
   ]
  },
  {
   "cell_type": "markdown",
   "id": "b8ac1f91",
   "metadata": {},
   "source": [
    "Use lines and color spans"
   ]
  },
  {
   "cell_type": "markdown",
   "id": "82e539b1",
   "metadata": {},
   "source": [
    "Contour plots"
   ]
  },
  {
   "cell_type": "code",
   "execution_count": null,
   "id": "f1cad48d",
   "metadata": {},
   "outputs": [],
   "source": []
  },
  {
   "cell_type": "code",
   "execution_count": null,
   "id": "38fa6d28",
   "metadata": {},
   "outputs": [],
   "source": []
  },
  {
   "cell_type": "markdown",
   "id": "675d83f8",
   "metadata": {},
   "source": [
    "(Practical 3.4.0)"
   ]
  },
  {
   "cell_type": "code",
   "execution_count": null,
   "id": "59b47a4f",
   "metadata": {},
   "outputs": [],
   "source": []
  }
 ],
 "metadata": {
  "celltoolbar": "Slideshow",
  "hide_code_all_hidden": false,
  "kernelspec": {
   "display_name": "Python [conda env:course_env]",
   "language": "python",
   "name": "conda-env-course_env-py"
  },
  "language_info": {
   "codemirror_mode": {
    "name": "ipython",
    "version": 3
   },
   "file_extension": ".py",
   "mimetype": "text/x-python",
   "name": "python",
   "nbconvert_exporter": "python",
   "pygments_lexer": "ipython3"
  }
 },
 "nbformat": 4,
 "nbformat_minor": 5
}
