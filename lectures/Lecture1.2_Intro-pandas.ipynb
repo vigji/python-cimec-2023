{
 "cells": [
  {
   "cell_type": "markdown",
   "id": "3ca811a3",
   "metadata": {},
   "source": [
    "# Python for (open) Neuroscience\n",
    "\n",
    "_Lecture 1.1_ - Intro to `pandas`\n",
    "\n",
    "Luigi Petrucco\n",
    "\n",
    "Jean-Charles Mariani\n",
    "\n",
    "[![Open In Colab](https://colab.research.google.com/assets/colab-badge.svg)](https://colab.research.google.com/github/vigji/python-cimec/blob/main/lectures/Lecture1.2_Intro-pandas.ipynb)"
   ]
  },
  {
   "cell_type": "markdown",
   "id": "e4ce2897",
   "metadata": {},
   "source": [
    "## `numpy` 🧮"
   ]
  },
  {
   "cell_type": "markdown",
   "id": "6fbb809c",
   "metadata": {},
   "source": [
    "A final note on `numpy` boolean indexing & arrays"
   ]
  },
  {
   "cell_type": "markdown",
   "id": "6d2df7a1",
   "metadata": {},
   "source": [
    "## Boolean operations with arrays"
   ]
  },
  {
   "cell_type": "code",
   "execution_count": null,
   "id": "6270a968",
   "metadata": {},
   "outputs": [],
   "source": [
    "import numpy as np"
   ]
  },
  {
   "cell_type": "code",
   "execution_count": null,
   "id": "7c1a966f",
   "metadata": {},
   "outputs": [],
   "source": [
    "an_array = np.array([1, 2, 3, 4, 5])"
   ]
  },
  {
   "cell_type": "code",
   "execution_count": null,
   "id": "ed228eed",
   "metadata": {},
   "outputs": [],
   "source": [
    "condition_0 = an_array > 2\n",
    "condition_1 = an_array < 5\n",
    "\n",
    "print(condition_0)\n",
    "print(condition_1)"
   ]
  },
  {
   "cell_type": "markdown",
   "id": "26c226c9",
   "metadata": {},
   "source": [
    "To compute the and condition element-wise we use `&`:"
   ]
  },
  {
   "cell_type": "code",
   "execution_count": null,
   "id": "53df3c23",
   "metadata": {},
   "outputs": [],
   "source": [
    "condition_0 & condition_1"
   ]
  },
  {
   "cell_type": "markdown",
   "id": "035f37bf",
   "metadata": {},
   "source": [
    "To compute the or condition element-wise we use `|`:"
   ]
  },
  {
   "cell_type": "code",
   "execution_count": null,
   "id": "e53dfa50",
   "metadata": {},
   "outputs": [],
   "source": [
    "condition_0 | condition_1"
   ]
  },
  {
   "cell_type": "markdown",
   "id": "0cf27d45",
   "metadata": {},
   "source": [
    "To compute the not condition (over a single array) element-wise we use `~`:"
   ]
  },
  {
   "cell_type": "code",
   "execution_count": null,
   "id": "9f318b13",
   "metadata": {},
   "outputs": [],
   "source": [
    "~condition_0"
   ]
  },
  {
   "cell_type": "markdown",
   "id": "75cdcf63",
   "metadata": {},
   "source": [
    "Mind the execution order!"
   ]
  },
  {
   "cell_type": "code",
   "execution_count": null,
   "id": "3f35219a",
   "metadata": {},
   "outputs": [],
   "source": [
    "an_array > 0 & an_array < 5\n"
   ]
  },
  {
   "cell_type": "markdown",
   "id": "e7a0daeb",
   "metadata": {},
   "source": [
    "We get the error because the first operation happening is 0 & an_array, which is problematic"
   ]
  },
  {
   "cell_type": "code",
   "execution_count": null,
   "id": "23e90032",
   "metadata": {},
   "outputs": [],
   "source": [
    "# Correct:\n",
    "(an_array > 0) & (an_array < 5)"
   ]
  },
  {
   "cell_type": "markdown",
   "id": "fa3b0fb3",
   "metadata": {},
   "source": []
  },
  {
   "cell_type": "markdown",
   "id": "8da92ab9",
   "metadata": {},
   "source": [
    "## `pandas`!"
   ]
  },
  {
   "cell_type": "markdown",
   "id": "f3705dfb",
   "metadata": {},
   "source": [
    "Or, the magic of semantic indexing and data aggregation"
   ]
  },
  {
   "cell_type": "markdown",
   "id": "eee94bf8",
   "metadata": {},
   "source": [
    " - not that magical for R people. But hopefully you'll feel at home"
   ]
  },
  {
   "cell_type": "markdown",
   "id": "9984fdd5",
   "metadata": {},
   "source": [
    "- (also, under a geek definition of \"magic\"...)"
   ]
  },
  {
   "cell_type": "markdown",
   "id": "c3b40c7b",
   "metadata": {},
   "source": [
    "### A problem for arrays"
   ]
  },
  {
   "cell_type": "markdown",
   "id": "b9622b3e",
   "metadata": {},
   "source": [
    "With numpy arrays, we cannot work with \"semantic\" axes (i.e., we will always have to remember what our axes were)"
   ]
  },
  {
   "cell_type": "markdown",
   "id": "f91a45d0",
   "metadata": {},
   "source": [
    "Also, we always need to work with square arrays (same numbers of values over every axis)."
   ]
  },
  {
   "cell_type": "markdown",
   "id": "1d308087",
   "metadata": {},
   "source": [
    "This can be a pain for real world -_i.e._, dishomogenous - data!"
   ]
  },
  {
   "cell_type": "markdown",
   "id": "8f1928e9",
   "metadata": {},
   "source": [
    "Also, numpy does not offer handy ways to aggregate data"
   ]
  },
  {
   "cell_type": "markdown",
   "id": "7235b342",
   "metadata": {},
   "source": [
    "## `pandas` 🐼 can help us here"
   ]
  },
  {
   "cell_type": "code",
   "execution_count": null,
   "id": "71be7a3b",
   "metadata": {},
   "outputs": [],
   "source": [
    "import pandas as pd\n",
    "import numpy as np"
   ]
  },
  {
   "cell_type": "code",
   "execution_count": null,
   "id": "813cdf78",
   "metadata": {},
   "outputs": [],
   "source": [
    "# get a pandas sample dataset:\n",
    "def get_meteo_dataset():\n",
    "    URL = \"https://api.open-meteo.com/v1/forecast?latitude=52.52&longitude=13.41&hourly=temperature_2m,relativehumidity_2m,precipitation,windspeed_10m,winddirection_10m&start_date=2023-02-01&end_date=2023-05-28&format=csv\"\n",
    "    return pd.read_csv(URL, skiprows=3)\n",
    "df = get_meteo_dataset()\n",
    "df"
   ]
  },
  {
   "cell_type": "markdown",
   "id": "fd450cda",
   "metadata": {},
   "source": [
    "### `pd.DataFrame` and `pd.Series`"
   ]
  },
  {
   "cell_type": "markdown",
   "id": "fea7cc04",
   "metadata": {},
   "source": [
    "`pd.DataFrame`/`pd.Series` are `pandas` data collection type!\n",
    " - `pd.DataFrame` is a 2D data structure\n",
    "  - `pd.Series` is a 1D data structure"
   ]
  },
  {
   "cell_type": "markdown",
   "id": "60fd99fe",
   "metadata": {},
   "source": [
    "## `pd.DataFrame`"
   ]
  },
  {
   "cell_type": "markdown",
   "id": "a978e845",
   "metadata": {},
   "source": [
    "2D data structure with labelled **columns** and indexed **rows**"
   ]
  },
  {
   "cell_type": "code",
   "execution_count": null,
   "id": "3ab9b216",
   "metadata": {},
   "outputs": [],
   "source": [
    "df = pd.DataFrame(\n",
    "    data=[[1, 2, 3], [4, 5, 6], [7, 8, 9], [10, 11, 12]],\n",
    "    columns=[\"col0\", \"col1\", \"col2\"],\n",
    "    index=[\"row1\", \"row2\", \"row3\", \"row4\"],\n",
    ")"
   ]
  },
  {
   "cell_type": "markdown",
   "id": "3fda0b7d",
   "metadata": {},
   "source": [
    "Dataframes are a great way of storing multiple data for the same elements!"
   ]
  },
  {
   "cell_type": "markdown",
   "id": "21843e01",
   "metadata": {},
   "source": [
    "## `pd.DataFrame` indexing"
   ]
  },
  {
   "cell_type": "markdown",
   "id": "f1170a2b",
   "metadata": {},
   "source": [
    "Index dataframe over columns:"
   ]
  },
  {
   "cell_type": "code",
   "execution_count": null,
   "id": "24dd8131",
   "metadata": {},
   "outputs": [],
   "source": [
    "df[\"col0\"]"
   ]
  },
  {
   "cell_type": "markdown",
   "id": "6a161bb2",
   "metadata": {},
   "source": [
    "Once we have selected a column, what we get is a `pd.Series`"
   ]
  },
  {
   "cell_type": "markdown",
   "id": "29bd840a",
   "metadata": {},
   "source": [
    "### `pd.Series`"
   ]
  },
  {
   "cell_type": "markdown",
   "id": "16ca0071",
   "metadata": {},
   "source": [
    "`pd.Series` are 1-dimensional data structures - basically columns of  `pd.DataFrame`s"
   ]
  },
  {
   "cell_type": "markdown",
   "id": "a88b15b5",
   "metadata": {},
   "source": [
    "`pd.Series` have indexed rows, and a name (the name of the column they come from):"
   ]
  },
  {
   "cell_type": "code",
   "execution_count": null,
   "id": "cebc3fd6",
   "metadata": {},
   "outputs": [],
   "source": [
    "a_series_from_df = df[\"col0\"]\n",
    "type(a_series_from_df)"
   ]
  },
  {
   "cell_type": "code",
   "execution_count": null,
   "id": "2f2e91cc",
   "metadata": {},
   "outputs": [],
   "source": [
    "a_series_from_df.index"
   ]
  },
  {
   "cell_type": "code",
   "execution_count": null,
   "id": "bacc5574",
   "metadata": {},
   "outputs": [],
   "source": [
    "a_series_from_df.name"
   ]
  },
  {
   "cell_type": "markdown",
   "id": "7609d599",
   "metadata": {},
   "source": [
    "### Back to indexing dataframes..."
   ]
  },
  {
   "cell_type": "markdown",
   "id": "c75d9900",
   "metadata": {},
   "source": [
    "We can select multiple columns (with a list of columns):"
   ]
  },
  {
   "cell_type": "code",
   "execution_count": null,
   "id": "1980bd51",
   "metadata": {},
   "outputs": [],
   "source": [
    "df[[\"col0\", \"col2\"]]"
   ]
  },
  {
   "cell_type": "markdown",
   "id": "c0e2fc6e",
   "metadata": {},
   "source": [
    "Index data over rows:"
   ]
  },
  {
   "cell_type": "markdown",
   "id": "6a57599b",
   "metadata": {},
   "source": [
    "We can select rows (with a list / range of rows):"
   ]
  },
  {
   "cell_type": "code",
   "execution_count": null,
   "id": "079a9a33",
   "metadata": {},
   "outputs": [],
   "source": [
    "df.loc[\"row1\":\"row3\"]"
   ]
  },
  {
   "cell_type": "markdown",
   "id": "31ddc8ab",
   "metadata": {},
   "source": [
    "### `.loc`"
   ]
  },
  {
   "cell_type": "markdown",
   "id": "c7836a67",
   "metadata": {},
   "source": [
    "Index over both rows and columns using `.loc` (not a method! mind the square brackets):"
   ]
  },
  {
   "cell_type": "code",
   "execution_count": null,
   "id": "e87a1f7c",
   "metadata": {},
   "outputs": [],
   "source": [
    "df.loc[\"row1\", \"col0\"]"
   ]
  },
  {
   "cell_type": "markdown",
   "id": "3307cf88",
   "metadata": {},
   "source": [
    "We can select multiple rows and columns (with a list / range of rows and columns):"
   ]
  },
  {
   "cell_type": "code",
   "execution_count": null,
   "id": "667fb7fd",
   "metadata": {},
   "outputs": [],
   "source": [
    "df.loc[\"row1\":\"row3\", \"col0\":\"col2\"]"
   ]
  },
  {
   "cell_type": "markdown",
   "id": "1cd879aa",
   "metadata": {},
   "source": [
    "Often, we use boolean indexing to select rows:"
   ]
  },
  {
   "cell_type": "code",
   "execution_count": null,
   "id": "8ab4e1b3",
   "metadata": {},
   "outputs": [],
   "source": [
    "df.loc[df[\"col2\"] > 5]"
   ]
  },
  {
   "cell_type": "markdown",
   "id": "c87d6f59",
   "metadata": {},
   "source": [
    "### `.iloc`"
   ]
  },
  {
   "cell_type": "markdown",
   "id": "3001333f",
   "metadata": {},
   "source": [
    "It is very common to use multiple critieria to select rows:"
   ]
  },
  {
   "cell_type": "code",
   "execution_count": null,
   "id": "0c3f76ec",
   "metadata": {},
   "outputs": [],
   "source": [
    "df.loc[(df[\"col2\"] > 5) & (df[\"col1\"] < 10)]"
   ]
  },
  {
   "cell_type": "markdown",
   "id": "1cc15fd5",
   "metadata": {},
   "source": [
    "If we feel like using numpy-like indexing, we can use `.iloc`:"
   ]
  },
  {
   "cell_type": "code",
   "execution_count": null,
   "id": "f984f582",
   "metadata": {},
   "outputs": [],
   "source": [
    "df.iloc[0, 0]"
   ]
  },
  {
   "cell_type": "code",
   "execution_count": null,
   "id": "399e3a10",
   "metadata": {},
   "outputs": [],
   "source": [
    "pd.Series([1, 2, 3], name=\"a\")"
   ]
  },
  {
   "cell_type": "markdown",
   "id": "f120afdf",
   "metadata": {},
   "source": [
    "### Create `pd.DataFrames`"
   ]
  },
  {
   "cell_type": "markdown",
   "id": "994ea047",
   "metadata": {},
   "source": [
    "Tipically, we create a dataframe from a dictionary of arrays (lists):"
   ]
  },
  {
   "cell_type": "code",
   "execution_count": null,
   "id": "e33691ae",
   "metadata": {},
   "outputs": [],
   "source": [
    "dict_array = dict(int_col=[1, 2, 3], float_col=[4., 5., .6], str_col=[\"a\", \"b\", \"c\"])\n",
    "\n",
    "pd.DataFrame(dict_array)"
   ]
  },
  {
   "cell_type": "markdown",
   "id": "15b6b4b7",
   "metadata": {},
   "source": [
    " or from a list of dictionaries:"
   ]
  },
  {
   "cell_type": "code",
   "execution_count": null,
   "id": "7880d3dd",
   "metadata": {},
   "outputs": [],
   "source": [
    "pd.DataFrame([dict(int_col=1, float_col=4., str_col=\"a\"),\n",
    "              dict(int_col=2, float_col=5., str_col=\"b\"),\n",
    "              dict(int_col=3, float_col=.6, str_col=\"c\")])"
   ]
  },
  {
   "cell_type": "markdown",
   "id": "4687933a",
   "metadata": {},
   "source": [
    "Or, as we saw, from a numpy array:"
   ]
  },
  {
   "cell_type": "code",
   "execution_count": null,
   "id": "dba414d1",
   "metadata": {},
   "outputs": [],
   "source": [
    "pd.DataFrame(np.random.rand(3, 3), columns=[\"a\", \"b\", \"c\"], index=[\"row1\", \"row2\", \"row3\"])"
   ]
  },
  {
   "cell_type": "markdown",
   "id": "a03e27bd",
   "metadata": {},
   "source": [
    "### `pd.DataFrame`'s methods"
   ]
  },
  {
   "cell_type": "markdown",
   "id": "940d3497",
   "metadata": {},
   "source": [
    "`pd.DataFrame`s and `pd.Series` have many, many methods!"
   ]
  },
  {
   "cell_type": "markdown",
   "id": "68be7c1c",
   "metadata": {},
   "source": [
    "(Why those are methods and not functions? There's a reason, we'll get to that...)"
   ]
  },
  {
   "cell_type": "markdown",
   "id": "7ddb3796",
   "metadata": {},
   "source": [
    "It is actually way too many to cover in a single lecture! It is more important to know that they exist, and to know how to find them! (google, stackoverflow, pandas documentation, chatGPT...)"
   ]
  },
  {
   "cell_type": "markdown",
   "id": "81ac2337",
   "metadata": {},
   "source": [
    "Methods to drop rows/columns:"
   ]
  },
  {
   "cell_type": "code",
   "execution_count": null,
   "id": "03043a8d",
   "metadata": {},
   "outputs": [],
   "source": [
    "dict_array = dict(int_col=[3, 2, 1, 1], float_col=[4., 5., .6, 7.], str_col=[\"a\", \"d\", \"c\", \"a\"])\n",
    "df = pd.DataFrame(dict_array)\n",
    "df"
   ]
  },
  {
   "cell_type": "code",
   "execution_count": null,
   "id": "973581f7",
   "metadata": {},
   "outputs": [],
   "source": [
    "df.drop(columns=[\"int_col\"])  # drop columns"
   ]
  },
  {
   "cell_type": "code",
   "execution_count": null,
   "id": "32c3c791",
   "metadata": {},
   "outputs": [],
   "source": [
    "df.drop(index=[0, 2])  # drop rows"
   ]
  },
  {
   "cell_type": "markdown",
   "id": "0a241ac0",
   "metadata": {},
   "source": [
    "Methods to sort rows/columns:"
   ]
  },
  {
   "cell_type": "code",
   "execution_count": null,
   "id": "eda45e84",
   "metadata": {},
   "outputs": [],
   "source": [
    "df.sort_values(by=\"int_col\") # sort by a column"
   ]
  },
  {
   "cell_type": "code",
   "execution_count": null,
   "id": "4bb4f0eb",
   "metadata": {},
   "outputs": [],
   "source": [
    "df.sort_values(by=[\"int_col\", \"float_col\"])  # sort by multiple columns"
   ]
  },
  {
   "cell_type": "markdown",
   "id": "1a1d7b98",
   "metadata": {},
   "source": [
    "### Methods for statistics"
   ]
  },
  {
   "cell_type": "code",
   "execution_count": null,
   "id": "70d207e9",
   "metadata": {},
   "outputs": [],
   "source": [
    "df = get_meteo_dataset()\n",
    "\n",
    "df.head()  # show first 5 rows"
   ]
  },
  {
   "cell_type": "code",
   "execution_count": null,
   "id": "59a5dcc2",
   "metadata": {},
   "outputs": [],
   "source": [
    "df[\"temperature_2m (°C)\"].mean()"
   ]
  },
  {
   "cell_type": "code",
   "execution_count": null,
   "id": "bacce83d",
   "metadata": {},
   "outputs": [],
   "source": [
    "df[\"temperature_2m (°C)\"].median()"
   ]
  },
  {
   "cell_type": "code",
   "execution_count": null,
   "id": "62d4c14e",
   "metadata": {},
   "outputs": [],
   "source": [
    "df[\"temperature_2m (°C)\"].std()"
   ]
  },
  {
   "cell_type": "code",
   "execution_count": null,
   "id": "117f52b9",
   "metadata": {},
   "outputs": [],
   "source": [
    "df[[\"temperature_2m (°C)\", \"precipitation (mm)\", \"windspeed_10m (km/h)\"]].describe()"
   ]
  },
  {
   "cell_type": "markdown",
   "id": "08ee8cb7",
   "metadata": {},
   "source": [
    "### `pd.DataFrame`'s plotting methods"
   ]
  },
  {
   "cell_type": "markdown",
   "id": "d785ebb4",
   "metadata": {},
   "source": [
    "`pd.DataFrame`s and `pd.Series` have many, many plotting methods!"
   ]
  },
  {
   "cell_type": "code",
   "execution_count": null,
   "id": "103ecc2c",
   "metadata": {},
   "outputs": [],
   "source": [
    "df.plot()"
   ]
  },
  {
   "cell_type": "code",
   "execution_count": null,
   "id": "c0fca7f2",
   "metadata": {},
   "outputs": [],
   "source": [
    "df[\"temperature_2m (°C)\"].plot(kind=\"box\")"
   ]
  },
  {
   "cell_type": "code",
   "execution_count": null,
   "id": "267b9512",
   "metadata": {},
   "outputs": [],
   "source": [
    "df[\"temperature_2m (°C)\"].plot(kind=\"hist\")"
   ]
  },
  {
   "cell_type": "code",
   "execution_count": null,
   "id": "2e88fee5",
   "metadata": {},
   "outputs": [],
   "source": [
    "df.plot(kind=\"scatter\", x=\"temperature_2m (°C)\", y=\"precipitation (mm)\")"
   ]
  },
  {
   "cell_type": "markdown",
   "id": "5643b627",
   "metadata": {},
   "source": [
    "## Clean data using `pd.DataFrame`s"
   ]
  },
  {
   "cell_type": "markdown",
   "id": "21b96d82",
   "metadata": {},
   "source": [
    "### Missing data"
   ]
  },
  {
   "cell_type": "markdown",
   "id": "cfdcdc48",
   "metadata": {},
   "source": [
    "As in numpy, we represent missing data by `NaN` (not a number)."
   ]
  },
  {
   "cell_type": "code",
   "execution_count": null,
   "id": "a4a0565a",
   "metadata": {},
   "outputs": [],
   "source": [
    "df = pd.DataFrame(dict(a=[1, 2, np.nan, 4], b=[0, np.nan, 4, 5]))"
   ]
  },
  {
   "cell_type": "markdown",
   "id": "f26af9b8",
   "metadata": {},
   "source": [
    "To deal with missing data, we can use `pd.DataFrame`'s interpolation methods. By default, it will use linear interpolation:"
   ]
  },
  {
   "cell_type": "code",
   "execution_count": null,
   "id": "ef30cf60",
   "metadata": {},
   "outputs": [],
   "source": [
    "df.interpolate()"
   ]
  },
  {
   "cell_type": "markdown",
   "id": "5b592a9d",
   "metadata": {},
   "source": [
    "## Aggregate over columns"
   ]
  },
  {
   "cell_type": "markdown",
   "id": "65653ada",
   "metadata": {},
   "source": [
    "It can be useful to aggregate statistics based on the values of a column.\n",
    "Imagine we have a dataframe with labels on a column and values on another:"
   ]
  },
  {
   "cell_type": "code",
   "execution_count": null,
   "id": "f5c69a12",
   "metadata": {},
   "outputs": [],
   "source": [
    "df = pd.DataFrame(dict(labels=[\"a\", \"a\", \"b\", \"b\"], values=[1, 2, 3, 4]))\n",
    "df = df.set_index(\"labels\")\n",
    "df"
   ]
  },
  {
   "cell_type": "markdown",
   "id": "7b60fdd8",
   "metadata": {},
   "source": []
  },
  {
   "cell_type": "code",
   "execution_count": null,
   "id": "db929fb8",
   "metadata": {},
   "outputs": [],
   "source": [
    "df.groupby(\"labels\").mean()"
   ]
  },
  {
   "cell_type": "markdown",
   "id": "f61ecd21",
   "metadata": {},
   "source": [
    "## Organize data in a dataframe"
   ]
  },
  {
   "cell_type": "markdown",
   "id": "1950edc8",
   "metadata": {},
   "source": [
    "At the beginning the lack of hierarchy of a dataframe can be surprising!"
   ]
  },
  {
   "cell_type": "markdown",
   "id": "46447791",
   "metadata": {},
   "source": [
    "But! As long as we assign label columns to our groups, we can perform statistics very easily."
   ]
  },
  {
   "cell_type": "code",
   "execution_count": null,
   "id": "3522d067",
   "metadata": {},
   "outputs": [],
   "source": [
    "df"
   ]
  },
  {
   "cell_type": "code",
   "execution_count": null,
   "id": "37864b54",
   "metadata": {},
   "outputs": [],
   "source": [
    "group_means = df.groupby(\"labels\").mean()\n",
    "df - group_means  # subtract the mean for each group"
   ]
  },
  {
   "cell_type": "code",
   "execution_count": null,
   "id": "fdf51d74",
   "metadata": {},
   "outputs": [],
   "source": [
    "means"
   ]
  },
  {
   "cell_type": "code",
   "execution_count": null,
   "id": "e3aaa401",
   "metadata": {},
   "outputs": [],
   "source": []
  }
 ],
 "metadata": {
  "celltoolbar": "Slideshow",
  "kernelspec": {
   "display_name": "Python [conda env:course_env]",
   "language": "python",
   "name": "conda-env-course_env-py"
  },
  "language_info": {
   "codemirror_mode": {
    "name": "ipython",
    "version": 3
   },
   "file_extension": ".py",
   "mimetype": "text/x-python",
   "name": "python",
   "nbconvert_exporter": "python",
   "pygments_lexer": "ipython3"
  }
 },
 "nbformat": 4,
 "nbformat_minor": 5
}
