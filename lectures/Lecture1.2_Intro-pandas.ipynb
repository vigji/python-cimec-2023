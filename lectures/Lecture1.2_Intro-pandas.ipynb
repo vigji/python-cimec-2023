{
 "cells": [
  {
   "cell_type": "markdown",
   "id": "3ca811a3",
   "metadata": {},
   "source": [
    "# Python for (open) Neuroscience\n",
    "\n",
    "_Lecture 1.2_ - Intro to `pandas`\n",
    "\n",
    "Luigi Petrucco\n",
    "\n",
    "Jean-Charles Mariani\n",
    "\n",
    "[![Open In Colab](https://colab.research.google.com/assets/colab-badge.svg)](https://colab.research.google.com/github/vigji/python-cimec/blob/main/lectures/Lecture1.2_Intro-pandas.ipynb)"
   ]
  },
  {
   "cell_type": "markdown",
   "id": "08154a6b",
   "metadata": {},
   "source": [
    "## `numpy` booleans"
   ]
  },
  {
   "cell_type": "markdown",
   "id": "d1095345",
   "metadata": {},
   "source": [
    "A final note on `numpy` boolean indexing & arrays"
   ]
  },
  {
   "cell_type": "markdown",
   "id": "dee1cabd",
   "metadata": {},
   "source": [
    "### Boolean operations with arrays"
   ]
  },
  {
   "cell_type": "code",
   "execution_count": null,
   "id": "33fd9c9f",
   "metadata": {},
   "outputs": [],
   "source": [
    "import numpy as np"
   ]
  },
  {
   "cell_type": "code",
   "execution_count": null,
   "id": "ad1f4195",
   "metadata": {},
   "outputs": [],
   "source": [
    "an_array = np.array([1, 2, 3, 4, 5])"
   ]
  },
  {
   "cell_type": "code",
   "execution_count": null,
   "id": "7db2911d",
   "metadata": {},
   "outputs": [],
   "source": [
    "condition_0 = an_array > 2\n",
    "condition_1 = an_array < 5\n",
    "\n",
    "print(condition_0)\n",
    "print(condition_1)"
   ]
  },
  {
   "cell_type": "markdown",
   "id": "7b1a7413",
   "metadata": {},
   "source": [
    "### `and` with `&`"
   ]
  },
  {
   "cell_type": "markdown",
   "id": "4fcb3196",
   "metadata": {},
   "source": [
    "If we try to use and with the array, it won't work element-wise!"
   ]
  },
  {
   "cell_type": "code",
   "execution_count": null,
   "id": "9c4a433c",
   "metadata": {},
   "outputs": [],
   "source": [
    "condition_0 and condition_1"
   ]
  },
  {
   "cell_type": "markdown",
   "id": "4d22ffe0",
   "metadata": {},
   "source": [
    "To compute the and condition element-wise we use `&`:"
   ]
  },
  {
   "cell_type": "code",
   "execution_count": null,
   "id": "059c7f93",
   "metadata": {},
   "outputs": [],
   "source": [
    "condition_0 & condition_1"
   ]
  },
  {
   "cell_type": "markdown",
   "id": "387175a3",
   "metadata": {},
   "source": [
    "### `or` with `|`"
   ]
  },
  {
   "cell_type": "markdown",
   "id": "4443b9ed",
   "metadata": {},
   "source": [
    "To compute the or condition element-wise we use `|`:"
   ]
  },
  {
   "cell_type": "code",
   "execution_count": null,
   "id": "4daa70b7",
   "metadata": {},
   "outputs": [],
   "source": [
    "condition_0 | condition_1"
   ]
  },
  {
   "cell_type": "markdown",
   "id": "2aecb0ce",
   "metadata": {},
   "source": [
    "### `not` with `~`"
   ]
  },
  {
   "cell_type": "markdown",
   "id": "e2023604",
   "metadata": {},
   "source": [
    "To compute the not condition (over a single array) element-wise we use `~`:"
   ]
  },
  {
   "cell_type": "code",
   "execution_count": null,
   "id": "c2563fd0",
   "metadata": {},
   "outputs": [],
   "source": [
    "~condition_0"
   ]
  },
  {
   "cell_type": "markdown",
   "id": "2d21ae2b",
   "metadata": {},
   "source": [
    "Mind the execution order!"
   ]
  },
  {
   "cell_type": "code",
   "execution_count": null,
   "id": "35df00a8",
   "metadata": {},
   "outputs": [],
   "source": [
    "an_array > 0 & an_array < 5\n"
   ]
  },
  {
   "cell_type": "markdown",
   "id": "48cbdfe7",
   "metadata": {},
   "source": [
    "We get the error because the first operation happening is `0 & an_array`, which is problematic as it tries to compare a single value with an array"
   ]
  },
  {
   "cell_type": "code",
   "execution_count": null,
   "id": "db9487b4",
   "metadata": {},
   "outputs": [],
   "source": [
    "# Correct:\n",
    "(an_array > 0) & (an_array < 5)"
   ]
  },
  {
   "cell_type": "markdown",
   "id": "8da92ab9",
   "metadata": {},
   "source": [
    "## `pandas`!"
   ]
  },
  {
   "cell_type": "markdown",
   "id": "f3705dfb",
   "metadata": {},
   "source": [
    "Or, the magic of semantic indexing and data aggregation"
   ]
  },
  {
   "cell_type": "markdown",
   "id": "eee94bf8",
   "metadata": {},
   "source": [
    " - not that magical for R people. But hopefully you'll feel at home"
   ]
  },
  {
   "cell_type": "markdown",
   "id": "9984fdd5",
   "metadata": {},
   "source": [
    "- (also, under a geek definition of \"magic\"...)"
   ]
  },
  {
   "cell_type": "markdown",
   "id": "c3b40c7b",
   "metadata": {},
   "source": [
    "### Limitations for `np.ndarray`s"
   ]
  },
  {
   "cell_type": "markdown",
   "id": "b9622b3e",
   "metadata": {},
   "source": [
    "We cannot work with labels (we always index with numbers)"
   ]
  },
  {
   "cell_type": "markdown",
   "id": "f91a45d0",
   "metadata": {},
   "source": [
    "Works only with \"square\" arrays (same numbers of values over every axis)"
   ]
  },
  {
   "cell_type": "markdown",
   "id": "1d308087",
   "metadata": {},
   "source": [
    "This can be a pain for real world -_i.e._, dishomogenous - data!"
   ]
  },
  {
   "cell_type": "markdown",
   "id": "8f1928e9",
   "metadata": {},
   "source": [
    "Also, numpy does not offer handy ways to aggregate data"
   ]
  },
  {
   "cell_type": "markdown",
   "id": "7235b342",
   "metadata": {},
   "source": [
    "## `pandas` 🐼 can help us here"
   ]
  },
  {
   "cell_type": "code",
   "execution_count": null,
   "id": "71be7a3b",
   "metadata": {},
   "outputs": [],
   "source": [
    "import pandas as pd\n",
    "import numpy as np"
   ]
  },
  {
   "cell_type": "code",
   "execution_count": null,
   "id": "813cdf78",
   "metadata": {},
   "outputs": [],
   "source": [
    "# get a pandas sample dataset:\n",
    "def get_meteo_dataset():\n",
    "    URL = \"https://api.open-meteo.com/v1/forecast?latitude=52.52&longitude=13.41&hourly=temperature_2m,relativehumidity_2m,precipitation,windspeed_10m,winddirection_10m&start_date=2023-02-01&end_date=2023-05-28&format=csv\"\n",
    "    return pd.read_csv(URL, skiprows=3)\n",
    "\n",
    "df = get_meteo_dataset()\n",
    "df"
   ]
  },
  {
   "cell_type": "markdown",
   "id": "fd450cda",
   "metadata": {},
   "source": [
    "### `pd.DataFrame` and `pd.Series`"
   ]
  },
  {
   "cell_type": "markdown",
   "id": "fea7cc04",
   "metadata": {},
   "source": [
    "`pd.DataFrame`/`pd.Series` are `pandas` data collection type!\n",
    " - `pd.DataFrame` is a 2D data structure\n",
    "  - `pd.Series` is a 1D data structure"
   ]
  },
  {
   "cell_type": "markdown",
   "id": "60fd99fe",
   "metadata": {},
   "source": [
    "## `pd.DataFrame`"
   ]
  },
  {
   "cell_type": "markdown",
   "id": "a978e845",
   "metadata": {},
   "source": [
    "2D data structure with labelled **columns** and indexed **rows**"
   ]
  },
  {
   "cell_type": "code",
   "execution_count": null,
   "id": "3ab9b216",
   "metadata": {},
   "outputs": [],
   "source": [
    "df = pd.DataFrame(\n",
    "    data=[[1, 2, 3], [4, 5, 6], [7, 8, 9], [10, 11, 12]],\n",
    "    columns=[\"col0\", \"col1\", \"col2\"],\n",
    "    index=[\"row1\", \"row2\", \"row3\", \"row4\"],\n",
    ")\n",
    "df"
   ]
  },
  {
   "cell_type": "markdown",
   "id": "3fda0b7d",
   "metadata": {},
   "source": [
    "Dataframes are a great way of storing multiple data for the same elements!"
   ]
  },
  {
   "cell_type": "markdown",
   "id": "b0474757",
   "metadata": {},
   "source": [
    "### `pd.DataFrame` attributes"
   ]
  },
  {
   "cell_type": "code",
   "execution_count": null,
   "id": "f2f71216",
   "metadata": {},
   "outputs": [],
   "source": [
    "df.columns  # returns the columns of the dataframe"
   ]
  },
  {
   "cell_type": "code",
   "execution_count": null,
   "id": "8ebc199a",
   "metadata": {},
   "outputs": [],
   "source": [
    "df.index  # returns the index of the dataframe"
   ]
  },
  {
   "cell_type": "code",
   "execution_count": null,
   "id": "df3f0f04",
   "metadata": {},
   "outputs": [],
   "source": [
    "df.values # returns a numpy array of the raw data in the dataframe."
   ]
  },
  {
   "cell_type": "code",
   "execution_count": null,
   "id": "9da4ee73",
   "metadata": {},
   "outputs": [],
   "source": [
    "df.shape  # returns the shape of the dataframe, as arrays"
   ]
  },
  {
   "cell_type": "markdown",
   "id": "d8f97ee6",
   "metadata": {},
   "source": [
    "## `pd.DataFrame` default indexing"
   ]
  },
  {
   "cell_type": "markdown",
   "id": "b59ccc6d",
   "metadata": {},
   "source": [
    "If we don't specify indexes, we get a default sequential one:"
   ]
  },
  {
   "cell_type": "code",
   "execution_count": null,
   "id": "57b543f0",
   "metadata": {},
   "outputs": [],
   "source": [
    "df = pd.DataFrame(\n",
    "    data=[[1, 2, 3], [4, 5, 6], [7, 8, 9], [10, 11, 12]],\n",
    "    columns=[\"col0\", \"col1\", \"col2\"],\n",
    ")\n",
    "df"
   ]
  },
  {
   "cell_type": "markdown",
   "id": "797fb2b3",
   "metadata": {},
   "source": [
    "## `pd.DataFrame` indexing"
   ]
  },
  {
   "cell_type": "markdown",
   "id": "f1170a2b",
   "metadata": {},
   "source": [
    "Index dataframe over columns:"
   ]
  },
  {
   "cell_type": "code",
   "execution_count": null,
   "id": "24dd8131",
   "metadata": {},
   "outputs": [],
   "source": [
    "df = pd.DataFrame(\n",
    "    data=[[1, 2, 3], [4, 5, 6], [7, 8, 9], [10, 11, 12]],\n",
    "    columns=[\"col0\", \"col1\", \"col2\"],\n",
    "    index=[\"row1\", \"row2\", \"row3\", \"row4\"],\n",
    ")\n",
    "\n",
    "df[\"col0\"]"
   ]
  },
  {
   "cell_type": "markdown",
   "id": "0f285bd8",
   "metadata": {},
   "source": [
    "Once we have selected a column, what we get is a `pd.Series`"
   ]
  },
  {
   "cell_type": "markdown",
   "id": "1b412956",
   "metadata": {},
   "source": [
    "### `pd.Series`"
   ]
  },
  {
   "cell_type": "markdown",
   "id": "465d12d3",
   "metadata": {},
   "source": [
    "`pd.Series` are 1-dimensional data structures - basically columns of  `pd.DataFrame`s"
   ]
  },
  {
   "cell_type": "code",
   "execution_count": null,
   "id": "7636b742",
   "metadata": {},
   "outputs": [],
   "source": [
    "a_series_from_df = df[\"col0\"]\n",
    "type(a_series_from_df)"
   ]
  },
  {
   "cell_type": "markdown",
   "id": "3099af99",
   "metadata": {},
   "source": [
    "`pd.Series` have indexed rows, and a name (the name of the column they come from):"
   ]
  },
  {
   "cell_type": "code",
   "execution_count": null,
   "id": "42eaf959",
   "metadata": {},
   "outputs": [],
   "source": [
    "a_series_from_df.index"
   ]
  },
  {
   "cell_type": "code",
   "execution_count": null,
   "id": "d882cf87",
   "metadata": {},
   "outputs": [],
   "source": [
    "a_series_from_df.name"
   ]
  },
  {
   "cell_type": "markdown",
   "id": "52935389",
   "metadata": {},
   "source": [
    "### Back to indexing dataframes..."
   ]
  },
  {
   "cell_type": "markdown",
   "id": "b2e011a1",
   "metadata": {},
   "source": [
    "We can select multiple columns (with a list of columns):"
   ]
  },
  {
   "cell_type": "code",
   "execution_count": null,
   "id": "42b5b537",
   "metadata": {},
   "outputs": [],
   "source": [
    "df[[\"col0\", \"col2\"]]"
   ]
  },
  {
   "cell_type": "markdown",
   "id": "8176cde0",
   "metadata": {},
   "source": [
    "We can select rows (with a list / range of rows - in this case, always a range!):"
   ]
  },
  {
   "cell_type": "code",
   "execution_count": null,
   "id": "ac81e4b2",
   "metadata": {},
   "outputs": [],
   "source": [
    "df.loc[\"row1\":\"row2\"]"
   ]
  },
  {
   "cell_type": "markdown",
   "id": "e18b7f92",
   "metadata": {},
   "source": [
    "### `.loc`"
   ]
  },
  {
   "cell_type": "markdown",
   "id": "c7836a67",
   "metadata": {},
   "source": [
    "To get specific elements / Index over both rows and columns we use `.loc` (highly recommended)\n",
    "\n",
    "This is not a method! mind the square brackets:"
   ]
  },
  {
   "cell_type": "code",
   "execution_count": null,
   "id": "e87a1f7c",
   "metadata": {},
   "outputs": [],
   "source": [
    "df.loc[\"row1\", \"col0\"]"
   ]
  },
  {
   "cell_type": "markdown",
   "id": "7e7a0d04",
   "metadata": {},
   "source": [
    "We can select multiple rows and columns (with a list / range of rows and columns):"
   ]
  },
  {
   "cell_type": "code",
   "execution_count": null,
   "id": "ac4d15ee",
   "metadata": {},
   "outputs": [],
   "source": [
    "df.loc[\"row1\":\"row3\", \"col0\":\"col2\"]"
   ]
  },
  {
   "cell_type": "markdown",
   "id": "bff4b2a1",
   "metadata": {},
   "source": [
    "Often, we use boolean indexing to select rows:"
   ]
  },
  {
   "cell_type": "code",
   "execution_count": null,
   "id": "fd4b0a19",
   "metadata": {},
   "outputs": [],
   "source": [
    "df.loc[df[\"col2\"] > 5]"
   ]
  },
  {
   "cell_type": "markdown",
   "id": "25fde7d0",
   "metadata": {},
   "source": [
    "It is very common to use multiple critieria to select rows:"
   ]
  },
  {
   "cell_type": "code",
   "execution_count": null,
   "id": "712da1ad",
   "metadata": {},
   "outputs": [],
   "source": [
    "df.loc[(df[\"col2\"] > 5) & (df[\"col1\"] < 10)]  # note the boolean and operation à là numpy"
   ]
  },
  {
   "cell_type": "markdown",
   "id": "8a027213",
   "metadata": {},
   "source": [
    "### `.iloc`"
   ]
  },
  {
   "cell_type": "markdown",
   "id": "6ecdcd59",
   "metadata": {},
   "source": [
    "If we feel like using numpy-like indexing, we can use `.iloc` (usually, discouraged):"
   ]
  },
  {
   "cell_type": "code",
   "execution_count": null,
   "id": "6a93306f",
   "metadata": {},
   "outputs": [],
   "source": [
    "df.iloc[0, 0]"
   ]
  },
  {
   "cell_type": "code",
   "execution_count": null,
   "id": "399e3a10",
   "metadata": {},
   "outputs": [],
   "source": [
    "pd.Series([1, 2, 3], name=\"a\")"
   ]
  },
  {
   "cell_type": "markdown",
   "id": "f120afdf",
   "metadata": {},
   "source": [
    "### Create `pd.DataFrames`"
   ]
  },
  {
   "cell_type": "markdown",
   "id": "994ea047",
   "metadata": {},
   "source": [
    "Tipically, we create a dataframe from a dictionary of arrays (lists):"
   ]
  },
  {
   "cell_type": "code",
   "execution_count": null,
   "id": "e33691ae",
   "metadata": {},
   "outputs": [],
   "source": [
    "dict_array = dict(int_col=[1, 2, 3], float_col=[4., 5., .6], str_col=[\"a\", \"b\", \"c\"])\n",
    "\n",
    "pd.DataFrame(dict_array)"
   ]
  },
  {
   "cell_type": "markdown",
   "id": "15b6b4b7",
   "metadata": {},
   "source": [
    " or from a list of dictionaries:"
   ]
  },
  {
   "cell_type": "code",
   "execution_count": null,
   "id": "9f3db513",
   "metadata": {},
   "outputs": [],
   "source": [
    "pd.DataFrame([dict(int_col=1, float_col=4., str_col=\"a\"),\n",
    "              dict(int_col=2, float_col=5., str_col=\"b\"),\n",
    "              dict(int_col=3, float_col=.6, str_col=\"c\")])"
   ]
  },
  {
   "cell_type": "markdown",
   "id": "ec2831d5",
   "metadata": {},
   "source": [
    "Or, as we saw, from a numpy array:"
   ]
  },
  {
   "cell_type": "code",
   "execution_count": null,
   "id": "56830b4e",
   "metadata": {},
   "outputs": [],
   "source": [
    "pd.DataFrame(np.random.rand(3, 3), columns=[\"a\", \"b\", \"c\"], index=[\"row1\", \"row2\", \"row3\"])"
   ]
  },
  {
   "cell_type": "markdown",
   "id": "806bdef2",
   "metadata": {},
   "source": [
    "### Reading from files"
   ]
  },
  {
   "cell_type": "markdown",
   "id": "e9400490",
   "metadata": {},
   "source": [
    "Many (most?) times we'll be reading directly from a file (a `.csv`, a `.xlsx`...)"
   ]
  },
  {
   "cell_type": "code",
   "execution_count": null,
   "id": "f1a77b2f",
   "metadata": {},
   "outputs": [],
   "source": [
    "# For .csv files, we use the read_csv method.\n",
    "# In this notebook we read from the web; if it was a file from your pc, you'd pass the filename\n",
    "# instead of the URL. read_csv takes a bunch of inputs about how your file is formatted\n",
    "\n",
    "URL = \"https://api.open-meteo.com/v1/forecast?latitude=52.52&longitude=13.41&hourly=temperature_2m,relativehumidity_2m,precipitation,windspeed_10m,winddirection_10m&start_date=2023-02-01&end_date=2023-05-28&format=csv\"\n",
    "df = pd.read_csv(URL, skiprows=3)\n",
    "\n",
    "df.head()  # this will show only the first rows!"
   ]
  },
  {
   "cell_type": "markdown",
   "id": "842bfe7b",
   "metadata": {},
   "source": [
    "### Add new columns"
   ]
  },
  {
   "cell_type": "markdown",
   "id": "1b915a72",
   "metadata": {},
   "source": [
    "We can add new columns to a dataframe:"
   ]
  },
  {
   "cell_type": "code",
   "execution_count": null,
   "id": "c8bc88d5",
   "metadata": {},
   "outputs": [],
   "source": [
    "df = pd.DataFrame(np.random.rand(3, 3), columns=[\"a\", \"b\", \"c\"], index=[\"row1\", \"row2\", \"row3\"])"
   ]
  },
  {
   "cell_type": "code",
   "execution_count": null,
   "id": "1d6fa579",
   "metadata": {},
   "outputs": [],
   "source": [
    "df[\"a_new_column\"] = [\"a\", \"b\", \"c\"]\n",
    "df"
   ]
  },
  {
   "cell_type": "markdown",
   "id": "ed7b1ae5",
   "metadata": {},
   "source": [
    "### Add new rows"
   ]
  },
  {
   "cell_type": "markdown",
   "id": "f523d424",
   "metadata": {},
   "source": [
    "We can add new rows to a dataframe (more rare). In this case we use concatenation:"
   ]
  },
  {
   "cell_type": "code",
   "execution_count": null,
   "id": "eaad3a39",
   "metadata": {},
   "outputs": [],
   "source": [
    "df1 = pd.DataFrame(dict(col1=[99, 95, 92],\n",
    "                        col2=[95, 90, 99]))\n",
    "\n",
    "# Create another dataframe:\n",
    "df2 = pd.DataFrame(dict(col1=[100],\n",
    "                        col2=[101]))\n",
    "#\n",
    "# Concat dataframes\n",
    "pd.concat([df1, df2])"
   ]
  },
  {
   "cell_type": "markdown",
   "id": "96b5657d",
   "metadata": {},
   "source": [
    "Note how indexes match the indexes of the original arrays! If we want, we can reassign it:"
   ]
  },
  {
   "cell_type": "code",
   "execution_count": null,
   "id": "d51b4e11",
   "metadata": {},
   "outputs": [],
   "source": [
    "pd.concat([df1, df2]).reset_index()"
   ]
  },
  {
   "cell_type": "markdown",
   "id": "db73dd58",
   "metadata": {},
   "source": [
    "(Practicals 1.2.0)"
   ]
  },
  {
   "cell_type": "markdown",
   "id": "a03e27bd",
   "metadata": {},
   "source": [
    "### `pd.DataFrame`'s methods"
   ]
  },
  {
   "cell_type": "markdown",
   "id": "940d3497",
   "metadata": {},
   "source": [
    "`pd.DataFrame`s and `pd.Series` have many, many methods!"
   ]
  },
  {
   "cell_type": "markdown",
   "id": "7ad4023a",
   "metadata": {},
   "source": [
    "(Why those are methods and not functions? There's a reason, we'll get to that...)"
   ]
  },
  {
   "cell_type": "markdown",
   "id": "fa24ca0f",
   "metadata": {},
   "source": [
    "It is actually way too many to cover in a single lecture! It is more important to know that they exist, and to know how to find them! (google, stackoverflow, pandas documentation, chatGPT...)"
   ]
  },
  {
   "cell_type": "markdown",
   "id": "bb2c88d8",
   "metadata": {},
   "source": [
    "### Methods to change the df content"
   ]
  },
  {
   "cell_type": "markdown",
   "id": "1dc8f656",
   "metadata": {},
   "source": [
    "Methods to drop rows/columns:"
   ]
  },
  {
   "cell_type": "code",
   "execution_count": null,
   "id": "38baff29",
   "metadata": {},
   "outputs": [],
   "source": [
    "dict_array = dict(int_col=[3, 2, 1, 1], float_col=[4., 5., .6, 7.], str_col=[\"a\", \"d\", \"c\", \"a\"])\n",
    "df = pd.DataFrame(dict_array)\n",
    "\n",
    "df"
   ]
  },
  {
   "cell_type": "code",
   "execution_count": null,
   "id": "4683cb18",
   "metadata": {},
   "outputs": [],
   "source": [
    "df.drop(columns=[\"int_col\"])  # drop columns"
   ]
  },
  {
   "cell_type": "code",
   "execution_count": null,
   "id": "f65bed68",
   "metadata": {},
   "outputs": [],
   "source": [
    "df.drop(index=[0, 2])  # drop rows"
   ]
  },
  {
   "cell_type": "markdown",
   "id": "1ea8a2d7",
   "metadata": {},
   "source": [
    "Methods to sort rows/columns:"
   ]
  },
  {
   "cell_type": "code",
   "execution_count": null,
   "id": "0ca837cc",
   "metadata": {},
   "outputs": [],
   "source": [
    "df.sort_values(by=\"int_col\") # sort by a column"
   ]
  },
  {
   "cell_type": "code",
   "execution_count": null,
   "id": "bf982f9f",
   "metadata": {},
   "outputs": [],
   "source": [
    "df.sort_values(by=[\"int_col\", \"float_col\"])  # sort by multiple columns"
   ]
  },
  {
   "cell_type": "markdown",
   "id": "16ae3303",
   "metadata": {},
   "source": [
    "### Methods for statistics"
   ]
  },
  {
   "cell_type": "code",
   "execution_count": null,
   "id": "70d207e9",
   "metadata": {},
   "outputs": [],
   "source": [
    "df = get_meteo_dataset()\n",
    "\n",
    "df.head()  # show first 5 rows"
   ]
  },
  {
   "cell_type": "code",
   "execution_count": null,
   "id": "59a5dcc2",
   "metadata": {},
   "outputs": [],
   "source": [
    "df[\"temperature_2m (°C)\"].mean()"
   ]
  },
  {
   "cell_type": "code",
   "execution_count": null,
   "id": "bacce83d",
   "metadata": {},
   "outputs": [],
   "source": [
    "df[\"temperature_2m (°C)\"].median()"
   ]
  },
  {
   "cell_type": "code",
   "execution_count": null,
   "id": "62d4c14e",
   "metadata": {},
   "outputs": [],
   "source": [
    "df[\"temperature_2m (°C)\"].std()"
   ]
  },
  {
   "cell_type": "code",
   "execution_count": null,
   "id": "117f52b9",
   "metadata": {},
   "outputs": [],
   "source": [
    "df[[\"temperature_2m (°C)\", \"precipitation (mm)\", \"windspeed_10m (km/h)\"]].describe()"
   ]
  },
  {
   "cell_type": "markdown",
   "id": "08ee8cb7",
   "metadata": {},
   "source": [
    "### `pd.DataFrame`'s plotting methods"
   ]
  },
  {
   "cell_type": "markdown",
   "id": "d785ebb4",
   "metadata": {},
   "source": [
    "`pd.DataFrame`s and `pd.Series` have many, many plotting methods!"
   ]
  },
  {
   "cell_type": "code",
   "execution_count": null,
   "id": "103ecc2c",
   "metadata": {},
   "outputs": [],
   "source": [
    "df.plot()"
   ]
  },
  {
   "cell_type": "code",
   "execution_count": null,
   "id": "c0fca7f2",
   "metadata": {},
   "outputs": [],
   "source": [
    "df[\"temperature_2m (°C)\"].plot(kind=\"box\")"
   ]
  },
  {
   "cell_type": "code",
   "execution_count": null,
   "id": "267b9512",
   "metadata": {},
   "outputs": [],
   "source": [
    "df[\"temperature_2m (°C)\"].plot(kind=\"hist\")"
   ]
  },
  {
   "cell_type": "code",
   "execution_count": null,
   "id": "2e88fee5",
   "metadata": {},
   "outputs": [],
   "source": [
    "df.plot(kind=\"scatter\", x=\"temperature_2m (°C)\", y=\"precipitation (mm)\")"
   ]
  },
  {
   "cell_type": "markdown",
   "id": "21b96d82",
   "metadata": {},
   "source": [
    "### Methods to deal with missing data"
   ]
  },
  {
   "cell_type": "markdown",
   "id": "cfdcdc48",
   "metadata": {},
   "source": [
    "As in numpy, we represent missing data by `NaN` (not a number)."
   ]
  },
  {
   "cell_type": "code",
   "execution_count": null,
   "id": "a4a0565a",
   "metadata": {},
   "outputs": [],
   "source": [
    "df = pd.DataFrame(dict(a=[1, 2, np.nan, 4], b=[0, np.nan, 4, 5]))"
   ]
  },
  {
   "cell_type": "markdown",
   "id": "f26af9b8",
   "metadata": {},
   "source": [
    "To deal with missing data, we can use `pd.DataFrame`'s interpolation methods. By default, it will use linear interpolation:"
   ]
  },
  {
   "cell_type": "code",
   "execution_count": null,
   "id": "ef30cf60",
   "metadata": {},
   "outputs": [],
   "source": [
    "df.interpolate()"
   ]
  },
  {
   "cell_type": "markdown",
   "id": "bb2794cc",
   "metadata": {},
   "source": [
    "(Practicals 1.2.1)"
   ]
  },
  {
   "cell_type": "markdown",
   "id": "5b592a9d",
   "metadata": {},
   "source": [
    "## Aggregate over columns"
   ]
  },
  {
   "cell_type": "markdown",
   "id": "65653ada",
   "metadata": {},
   "source": [
    "It can be useful to aggregate statistics based on the values of a column."
   ]
  },
  {
   "cell_type": "code",
   "execution_count": null,
   "id": "f5c69a12",
   "metadata": {},
   "outputs": [],
   "source": [
    "# In this dataset, a column represent a category, either \"a\" or \"b\"\n",
    "df = pd.DataFrame(dict(labels=[\"a\", \"a\", \"b\", \"b\"], values=[1, 2, 3, 4]))\n",
    "df"
   ]
  },
  {
   "cell_type": "markdown",
   "id": "1380c487",
   "metadata": {},
   "source": [
    "### `.groupby()`"
   ]
  },
  {
   "cell_type": "markdown",
   "id": "5b064972",
   "metadata": {},
   "source": [
    "We have a handy syntax to average within each category with `.groupby()`.\n",
    "\n",
    "The sintax is :\n",
    "```python\n",
    "df.groupby(\"name_of_the_category_column\").operation()\n",
    "```"
   ]
  },
  {
   "cell_type": "code",
   "execution_count": null,
   "id": "db929fb8",
   "metadata": {},
   "outputs": [],
   "source": [
    "# In this case, the operation is mean()\n",
    "\n",
    "df.groupby(\"labels\").mean()"
   ]
  },
  {
   "cell_type": "markdown",
   "id": "f61ecd21",
   "metadata": {},
   "source": [
    "## Organize data in a dataframe"
   ]
  },
  {
   "cell_type": "markdown",
   "id": "1950edc8",
   "metadata": {},
   "source": [
    "At the beginning the lack of hierarchy of a dataframe can be surprising!"
   ]
  },
  {
   "cell_type": "markdown",
   "id": "46447791",
   "metadata": {},
   "source": [
    "But! As long as we assign label columns to our groups, we can perform statistics very easily."
   ]
  },
  {
   "cell_type": "code",
   "execution_count": null,
   "id": "3522d067",
   "metadata": {},
   "outputs": [],
   "source": [
    "# Imagine we have 4 experimental subjects; to each one we show a stimulus 3 times; over each repetition we measure 2 variables.\n",
    "\n",
    "# We could represent the data for each stimulus as a dictionary:\n",
    "stimulus = dict(variable_1=np.random.rand(), variable_2=np.random.rand())"
   ]
  },
  {
   "cell_type": "code",
   "execution_count": null,
   "id": "d11a2bfa",
   "metadata": {},
   "outputs": [],
   "source": [
    "# And the data for each subject as a list of dictionaries:\n",
    "subject_data = [dict(variable_1=np.random.rand(), variable_2=np.random.rand()) for _ in range(3)]"
   ]
  },
  {
   "cell_type": "code",
   "execution_count": null,
   "id": "96e6d42b",
   "metadata": {},
   "outputs": [],
   "source": [
    "# And the data for all subjects as a dictionary of lists of dictionaries:\n",
    "all_subjects = dict()\n",
    "\n",
    "for i in range(4):\n",
    "    all_subjects[f\"subject_{i}\"] = [dict(variable_1=np.random.rand(), variable_2=np.random.rand()) for _ in range(3)]\n",
    "all_subjects"
   ]
  },
  {
   "cell_type": "markdown",
   "id": "8b79625c",
   "metadata": {},
   "source": [
    "This is now clean and tidy (?), but being so nested, it is not easy to perform statistics on it."
   ]
  },
  {
   "cell_type": "code",
   "execution_count": null,
   "id": "75abf56f",
   "metadata": {},
   "outputs": [],
   "source": [
    "# Imagine we want to average the results across all subjects for variable_1:\n",
    "means = []\n",
    "for subject_reults in all_subjects.values():\n",
    "    for result in subject_reults:\n",
    "        means.append(result[\"variable_1\"])\n",
    "np.mean(means)"
   ]
  },
  {
   "cell_type": "markdown",
   "id": "3cba6b42",
   "metadata": {},
   "source": [
    "Instead, we can represent the data in a dataframe, **keeping it as flat as possible**:"
   ]
  },
  {
   "cell_type": "code",
   "execution_count": null,
   "id": "b536f87c",
   "metadata": {},
   "outputs": [],
   "source": [
    "# We can turn the data into a dataframe (does not matter how we do it here!!! - this is just a suboptimal example)\n",
    "df = pd.DataFrame([dict(subject=i, repetition=j, **all_subjects[i][j].copy())\n",
    "                             for i in all_subjects.keys()\n",
    "                             for j in range(len(all_subjects[i]))])"
   ]
  },
  {
   "cell_type": "code",
   "execution_count": null,
   "id": "bdccaa03",
   "metadata": {},
   "outputs": [],
   "source": [
    "# We can now easily perform statistics on the data, aggregating over the repetitions or subjects using groupby:"
   ]
  },
  {
   "cell_type": "code",
   "execution_count": null,
   "id": "37864b54",
   "metadata": {},
   "outputs": [],
   "source": [
    "group_means = df.groupby(\"subject\").mean()\n",
    "group_means.drop(columns=[\"repetition\"])  # subtract the mean for each group"
   ]
  },
  {
   "cell_type": "markdown",
   "id": "778b7108",
   "metadata": {},
   "source": [
    "(Practicals 1.2.2)"
   ]
  },
  {
   "cell_type": "code",
   "execution_count": null,
   "id": "206b6a02",
   "metadata": {},
   "outputs": [],
   "source": []
  }
 ],
 "metadata": {
  "celltoolbar": "Slideshow",
  "kernelspec": {
   "display_name": "Python [conda env:course_env]",
   "language": "python",
   "name": "conda-env-course_env-py"
  },
  "language_info": {
   "codemirror_mode": {
    "name": "ipython",
    "version": 3
   },
   "file_extension": ".py",
   "mimetype": "text/x-python",
   "name": "python",
   "nbconvert_exporter": "python",
   "pygments_lexer": "ipython3"
  }
 },
 "nbformat": 4,
 "nbformat_minor": 5
}
