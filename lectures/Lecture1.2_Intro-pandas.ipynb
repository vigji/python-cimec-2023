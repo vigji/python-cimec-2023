{
 "cells": [
  {
   "cell_type": "markdown",
   "id": "3ca811a3",
   "metadata": {
    "slideshow": {
     "slide_type": "slide"
    }
   },
   "source": [
    "# Python for (open) Neuroscience\n",
    "\n",
    "_Lecture 1.2_ - Intro to `pandas`\n",
    "\n",
    "Luigi Petrucco\n",
    "\n",
    "Jean-Charles Mariani\n",
    "\n",
    "[![Open In Colab](https://colab.research.google.com/assets/colab-badge.svg)](https://colab.research.google.com/github/vigji/python-cimec/blob/main/lectures/Lecture1.2_Intro-pandas.ipynb)"
   ]
  },
  {
   "cell_type": "markdown",
   "id": "08154a6b",
   "metadata": {
    "slideshow": {
     "slide_type": "slide"
    }
   },
   "source": [
    "## `numpy` booleans"
   ]
  },
  {
   "cell_type": "markdown",
   "id": "d1095345",
   "metadata": {},
   "source": [
    "A final note on `numpy` boolean indexing & arrays"
   ]
  },
  {
   "cell_type": "markdown",
   "id": "dee1cabd",
   "metadata": {
    "slideshow": {
     "slide_type": "subslide"
    }
   },
   "source": [
    "### Boolean operations with arrays"
   ]
  },
  {
   "cell_type": "code",
   "execution_count": 1,
   "id": "33fd9c9f",
   "metadata": {
    "ExecuteTime": {
     "end_time": "2023-05-14T22:59:50.698805Z",
     "start_time": "2023-05-14T22:59:50.476015Z"
    },
    "jupyter": {
     "outputs_hidden": false
    }
   },
   "outputs": [],
   "source": [
    "import numpy as np"
   ]
  },
  {
   "cell_type": "code",
   "execution_count": 2,
   "id": "ad1f4195",
   "metadata": {
    "ExecuteTime": {
     "end_time": "2023-05-14T21:54:32.878385Z",
     "start_time": "2023-05-14T21:54:32.873620Z"
    },
    "jupyter": {
     "outputs_hidden": false
    }
   },
   "outputs": [],
   "source": [
    "an_array = np.array([1, 2, 3, 4, 5])"
   ]
  },
  {
   "cell_type": "code",
   "execution_count": 3,
   "id": "7db2911d",
   "metadata": {
    "ExecuteTime": {
     "end_time": "2023-05-14T21:54:38.017096Z",
     "start_time": "2023-05-14T21:54:38.003359Z"
    },
    "jupyter": {
     "outputs_hidden": false
    }
   },
   "outputs": [
    {
     "name": "stdout",
     "output_type": "stream",
     "text": [
      "[False False  True  True  True]\n",
      "[ True  True  True  True False]\n"
     ]
    }
   ],
   "source": [
    "condition_0 = an_array > 2\n",
    "condition_1 = an_array < 5\n",
    "\n",
    "print(condition_0)\n",
    "print(condition_1)"
   ]
  },
  {
   "cell_type": "markdown",
   "id": "fdad147c",
   "metadata": {
    "slideshow": {
     "slide_type": "subslide"
    }
   },
   "source": [
    "### `and` with `&`"
   ]
  },
  {
   "cell_type": "markdown",
   "id": "35b8f768",
   "metadata": {},
   "source": [
    "If we try to use and with the array, it won't work element-wise!"
   ]
  },
  {
   "cell_type": "code",
   "execution_count": 6,
   "id": "e4d692f2",
   "metadata": {},
   "outputs": [
    {
     "ename": "ValueError",
     "evalue": "The truth value of an array with more than one element is ambiguous. Use a.any() or a.all()",
     "output_type": "error",
     "traceback": [
      "\u001b[0;31m---------------------------------------------------------------------------\u001b[0m",
      "\u001b[0;31mValueError\u001b[0m                                Traceback (most recent call last)",
      "Cell \u001b[0;32mIn[6], line 1\u001b[0m\n\u001b[0;32m----> 1\u001b[0m condition_0 \u001b[38;5;129;01mand\u001b[39;00m condition_1\n",
      "\u001b[0;31mValueError\u001b[0m: The truth value of an array with more than one element is ambiguous. Use a.any() or a.all()"
     ]
    }
   ],
   "source": [
    "condition_0 and condition_1"
   ]
  },
  {
   "cell_type": "markdown",
   "id": "4d22ffe0",
   "metadata": {
    "slideshow": {
     "slide_type": "subslide"
    }
   },
   "source": [
    "To compute the and condition element-wise we use `&`:"
   ]
  },
  {
   "cell_type": "code",
   "execution_count": 7,
   "id": "059c7f93",
   "metadata": {
    "ExecuteTime": {
     "end_time": "2023-05-14T21:52:54.685343Z",
     "start_time": "2023-05-14T21:52:54.679286Z"
    },
    "jupyter": {
     "outputs_hidden": false
    }
   },
   "outputs": [
    {
     "data": {
      "text/plain": [
       "array([False, False,  True,  True, False])"
      ]
     },
     "execution_count": 7,
     "metadata": {},
     "output_type": "execute_result"
    }
   ],
   "source": [
    "condition_0 & condition_1"
   ]
  },
  {
   "cell_type": "markdown",
   "id": "a2b6256a",
   "metadata": {
    "slideshow": {
     "slide_type": "subslide"
    }
   },
   "source": [
    "### `or` with `|`"
   ]
  },
  {
   "cell_type": "markdown",
   "id": "4443b9ed",
   "metadata": {},
   "source": [
    "To compute the or condition element-wise we use `|`:"
   ]
  },
  {
   "cell_type": "code",
   "execution_count": 8,
   "id": "4daa70b7",
   "metadata": {
    "ExecuteTime": {
     "end_time": "2023-05-14T21:53:06.549484Z",
     "start_time": "2023-05-14T21:53:06.545492Z"
    },
    "jupyter": {
     "outputs_hidden": false
    }
   },
   "outputs": [
    {
     "data": {
      "text/plain": [
       "array([ True,  True,  True,  True,  True])"
      ]
     },
     "execution_count": 8,
     "metadata": {},
     "output_type": "execute_result"
    }
   ],
   "source": [
    "condition_0 | condition_1"
   ]
  },
  {
   "cell_type": "markdown",
   "id": "019bf030",
   "metadata": {
    "slideshow": {
     "slide_type": "subslide"
    }
   },
   "source": [
    "### `not` with `~`"
   ]
  },
  {
   "cell_type": "markdown",
   "id": "e2023604",
   "metadata": {},
   "source": [
    "To compute the not condition (over a single array) element-wise we use `~`:"
   ]
  },
  {
   "cell_type": "code",
   "execution_count": 9,
   "id": "c2563fd0",
   "metadata": {
    "ExecuteTime": {
     "end_time": "2023-05-14T21:53:44.603417Z",
     "start_time": "2023-05-14T21:53:44.590433Z"
    },
    "jupyter": {
     "outputs_hidden": false
    }
   },
   "outputs": [
    {
     "data": {
      "text/plain": [
       "array([ True,  True, False, False, False])"
      ]
     },
     "execution_count": 9,
     "metadata": {},
     "output_type": "execute_result"
    }
   ],
   "source": [
    "~condition_0"
   ]
  },
  {
   "cell_type": "markdown",
   "id": "2d21ae2b",
   "metadata": {
    "slideshow": {
     "slide_type": "subslide"
    }
   },
   "source": [
    "Mind the execution order!"
   ]
  },
  {
   "cell_type": "code",
   "execution_count": 122,
   "id": "7c5031b8",
   "metadata": {},
   "outputs": [
    {
     "ename": "ValueError",
     "evalue": "The truth value of an array with more than one element is ambiguous. Use a.any() or a.all()",
     "output_type": "error",
     "traceback": [
      "\u001b[0;31m---------------------------------------------------------------------------\u001b[0m",
      "\u001b[0;31mValueError\u001b[0m                                Traceback (most recent call last)",
      "Cell \u001b[0;32mIn[122], line 1\u001b[0m\n\u001b[0;32m----> 1\u001b[0m an_array \u001b[38;5;241m>\u001b[39m \u001b[38;5;241m0\u001b[39m \u001b[38;5;241m&\u001b[39m an_array \u001b[38;5;241m<\u001b[39m \u001b[38;5;241m5\u001b[39m\n",
      "\u001b[0;31mValueError\u001b[0m: The truth value of an array with more than one element is ambiguous. Use a.any() or a.all()"
     ]
    }
   ],
   "source": [
    "an_array > 0 & an_array < 5"
   ]
  },
  {
   "cell_type": "markdown",
   "id": "48cbdfe7",
   "metadata": {
    "slideshow": {
     "slide_type": "subslide"
    }
   },
   "source": [
    "We get the error because we are not ensuring that the array comparisons are executed first!\n",
    "This is how we can fix this:"
   ]
  },
  {
   "cell_type": "code",
   "execution_count": 21,
   "id": "db9487b4",
   "metadata": {
    "ExecuteTime": {
     "end_time": "2023-05-14T21:57:30.354290Z",
     "start_time": "2023-05-14T21:57:30.348796Z"
    },
    "jupyter": {
     "outputs_hidden": false
    }
   },
   "outputs": [
    {
     "data": {
      "text/plain": [
       "array([ True,  True,  True,  True, False])"
      ]
     },
     "execution_count": 21,
     "metadata": {},
     "output_type": "execute_result"
    }
   ],
   "source": [
    "# Correct:\n",
    "(an_array > 0) & (an_array < 5)"
   ]
  },
  {
   "cell_type": "markdown",
   "id": "8da92ab9",
   "metadata": {
    "slideshow": {
     "slide_type": "subslide"
    }
   },
   "source": [
    "## `pandas`!"
   ]
  },
  {
   "cell_type": "markdown",
   "id": "f3705dfb",
   "metadata": {},
   "source": [
    "Or, the magic of semantic indexing and data aggregation"
   ]
  },
  {
   "cell_type": "markdown",
   "id": "eee94bf8",
   "metadata": {
    "slideshow": {
     "slide_type": "fragment"
    }
   },
   "source": [
    " - not that magical for R people. But hopefully you'll feel at home"
   ]
  },
  {
   "cell_type": "markdown",
   "id": "9984fdd5",
   "metadata": {
    "slideshow": {
     "slide_type": "fragment"
    }
   },
   "source": [
    "- (also, under a geek definition of \"magic\"...)"
   ]
  },
  {
   "cell_type": "markdown",
   "id": "c3b40c7b",
   "metadata": {
    "slideshow": {
     "slide_type": "subslide"
    }
   },
   "source": [
    "### Limitations for `np.ndarray`s"
   ]
  },
  {
   "cell_type": "markdown",
   "id": "b9622b3e",
   "metadata": {},
   "source": [
    "We cannot work with labels (we always index with numbers)"
   ]
  },
  {
   "cell_type": "markdown",
   "id": "f91a45d0",
   "metadata": {},
   "source": [
    "Works only with \"square\" arrays (same numbers of values over every axis)"
   ]
  },
  {
   "cell_type": "markdown",
   "id": "1d308087",
   "metadata": {},
   "source": [
    "This can be a pain for real world -_i.e._, dishomogenous - data!"
   ]
  },
  {
   "cell_type": "markdown",
   "id": "8f1928e9",
   "metadata": {},
   "source": [
    "Also, numpy does not offer handy ways to aggregate data"
   ]
  },
  {
   "cell_type": "markdown",
   "id": "7235b342",
   "metadata": {
    "slideshow": {
     "slide_type": "subslide"
    }
   },
   "source": [
    "## `pandas` 🐼 can help us here"
   ]
  },
  {
   "cell_type": "code",
   "execution_count": 22,
   "id": "71be7a3b",
   "metadata": {
    "ExecuteTime": {
     "end_time": "2023-05-14T22:59:59.337019Z",
     "start_time": "2023-05-14T22:59:59.106216Z"
    }
   },
   "outputs": [],
   "source": [
    "import pandas as pd\n",
    "import numpy as np"
   ]
  },
  {
   "cell_type": "code",
   "execution_count": 23,
   "id": "813cdf78",
   "metadata": {
    "ExecuteTime": {
     "end_time": "2023-05-15T06:12:45.475012Z",
     "start_time": "2023-05-15T06:12:44.696525Z"
    },
    "jupyter": {
     "outputs_hidden": false
    },
    "slideshow": {
     "slide_type": "subslide"
    }
   },
   "outputs": [
    {
     "data": {
      "text/html": [
       "<div>\n",
       "<style scoped>\n",
       "    .dataframe tbody tr th:only-of-type {\n",
       "        vertical-align: middle;\n",
       "    }\n",
       "\n",
       "    .dataframe tbody tr th {\n",
       "        vertical-align: top;\n",
       "    }\n",
       "\n",
       "    .dataframe thead th {\n",
       "        text-align: right;\n",
       "    }\n",
       "</style>\n",
       "<table border=\"1\" class=\"dataframe\">\n",
       "  <thead>\n",
       "    <tr style=\"text-align: right;\">\n",
       "      <th></th>\n",
       "      <th>time</th>\n",
       "      <th>temperature_2m (°C)</th>\n",
       "      <th>relativehumidity_2m (%)</th>\n",
       "      <th>precipitation (mm)</th>\n",
       "      <th>windspeed_10m (km/h)</th>\n",
       "      <th>winddirection_10m (°)</th>\n",
       "    </tr>\n",
       "  </thead>\n",
       "  <tbody>\n",
       "    <tr>\n",
       "      <th>0</th>\n",
       "      <td>2023-02-01T00:00</td>\n",
       "      <td>4.6</td>\n",
       "      <td>77</td>\n",
       "      <td>0.1</td>\n",
       "      <td>20.9</td>\n",
       "      <td>274</td>\n",
       "    </tr>\n",
       "    <tr>\n",
       "      <th>1</th>\n",
       "      <td>2023-02-01T01:00</td>\n",
       "      <td>4.5</td>\n",
       "      <td>76</td>\n",
       "      <td>0.2</td>\n",
       "      <td>20.5</td>\n",
       "      <td>273</td>\n",
       "    </tr>\n",
       "    <tr>\n",
       "      <th>2</th>\n",
       "      <td>2023-02-01T02:00</td>\n",
       "      <td>4.5</td>\n",
       "      <td>74</td>\n",
       "      <td>0.0</td>\n",
       "      <td>20.5</td>\n",
       "      <td>273</td>\n",
       "    </tr>\n",
       "    <tr>\n",
       "      <th>3</th>\n",
       "      <td>2023-02-01T03:00</td>\n",
       "      <td>4.4</td>\n",
       "      <td>77</td>\n",
       "      <td>0.0</td>\n",
       "      <td>18.4</td>\n",
       "      <td>269</td>\n",
       "    </tr>\n",
       "    <tr>\n",
       "      <th>4</th>\n",
       "      <td>2023-02-01T04:00</td>\n",
       "      <td>4.3</td>\n",
       "      <td>77</td>\n",
       "      <td>0.0</td>\n",
       "      <td>17.1</td>\n",
       "      <td>262</td>\n",
       "    </tr>\n",
       "    <tr>\n",
       "      <th>...</th>\n",
       "      <td>...</td>\n",
       "      <td>...</td>\n",
       "      <td>...</td>\n",
       "      <td>...</td>\n",
       "      <td>...</td>\n",
       "      <td>...</td>\n",
       "    </tr>\n",
       "    <tr>\n",
       "      <th>2803</th>\n",
       "      <td>2023-05-28T19:00</td>\n",
       "      <td>18.2</td>\n",
       "      <td>59</td>\n",
       "      <td>0.0</td>\n",
       "      <td>6.9</td>\n",
       "      <td>309</td>\n",
       "    </tr>\n",
       "    <tr>\n",
       "      <th>2804</th>\n",
       "      <td>2023-05-28T20:00</td>\n",
       "      <td>16.8</td>\n",
       "      <td>67</td>\n",
       "      <td>0.0</td>\n",
       "      <td>5.8</td>\n",
       "      <td>356</td>\n",
       "    </tr>\n",
       "    <tr>\n",
       "      <th>2805</th>\n",
       "      <td>2023-05-28T21:00</td>\n",
       "      <td>15.1</td>\n",
       "      <td>74</td>\n",
       "      <td>0.0</td>\n",
       "      <td>8.1</td>\n",
       "      <td>32</td>\n",
       "    </tr>\n",
       "    <tr>\n",
       "      <th>2806</th>\n",
       "      <td>2023-05-28T22:00</td>\n",
       "      <td>14.2</td>\n",
       "      <td>75</td>\n",
       "      <td>0.0</td>\n",
       "      <td>8.5</td>\n",
       "      <td>36</td>\n",
       "    </tr>\n",
       "    <tr>\n",
       "      <th>2807</th>\n",
       "      <td>2023-05-28T23:00</td>\n",
       "      <td>13.6</td>\n",
       "      <td>73</td>\n",
       "      <td>0.0</td>\n",
       "      <td>7.8</td>\n",
       "      <td>34</td>\n",
       "    </tr>\n",
       "  </tbody>\n",
       "</table>\n",
       "<p>2808 rows × 6 columns</p>\n",
       "</div>"
      ],
      "text/plain": [
       "                  time  temperature_2m (°C)  relativehumidity_2m (%)   \n",
       "0     2023-02-01T00:00                  4.6                       77  \\\n",
       "1     2023-02-01T01:00                  4.5                       76   \n",
       "2     2023-02-01T02:00                  4.5                       74   \n",
       "3     2023-02-01T03:00                  4.4                       77   \n",
       "4     2023-02-01T04:00                  4.3                       77   \n",
       "...                ...                  ...                      ...   \n",
       "2803  2023-05-28T19:00                 18.2                       59   \n",
       "2804  2023-05-28T20:00                 16.8                       67   \n",
       "2805  2023-05-28T21:00                 15.1                       74   \n",
       "2806  2023-05-28T22:00                 14.2                       75   \n",
       "2807  2023-05-28T23:00                 13.6                       73   \n",
       "\n",
       "      precipitation (mm)  windspeed_10m (km/h)  winddirection_10m (°)  \n",
       "0                    0.1                  20.9                    274  \n",
       "1                    0.2                  20.5                    273  \n",
       "2                    0.0                  20.5                    273  \n",
       "3                    0.0                  18.4                    269  \n",
       "4                    0.0                  17.1                    262  \n",
       "...                  ...                   ...                    ...  \n",
       "2803                 0.0                   6.9                    309  \n",
       "2804                 0.0                   5.8                    356  \n",
       "2805                 0.0                   8.1                     32  \n",
       "2806                 0.0                   8.5                     36  \n",
       "2807                 0.0                   7.8                     34  \n",
       "\n",
       "[2808 rows x 6 columns]"
      ]
     },
     "execution_count": 23,
     "metadata": {},
     "output_type": "execute_result"
    }
   ],
   "source": [
    "# get a pandas sample dataset:\n",
    "def get_meteo_dataset():\n",
    "    URL = \"https://api.open-meteo.com/v1/forecast?latitude=52.52&longitude=13.41&hourly=temperature_2m,relativehumidity_2m,precipitation,windspeed_10m,winddirection_10m&start_date=2023-02-01&end_date=2023-05-28&format=csv\"\n",
    "    return pd.read_csv(URL, skiprows=3)\n",
    "\n",
    "df = get_meteo_dataset()\n",
    "df"
   ]
  },
  {
   "cell_type": "markdown",
   "id": "fd450cda",
   "metadata": {
    "slideshow": {
     "slide_type": "subslide"
    }
   },
   "source": [
    "### `pd.DataFrame` and `pd.Series`"
   ]
  },
  {
   "cell_type": "markdown",
   "id": "fea7cc04",
   "metadata": {},
   "source": [
    "`pd.DataFrame`/`pd.Series` are `pandas` data collection type!\n",
    " - `pd.DataFrame` is a 2D data structure\n",
    "  - `pd.Series` is a 1D data structure"
   ]
  },
  {
   "cell_type": "markdown",
   "id": "60fd99fe",
   "metadata": {
    "slideshow": {
     "slide_type": "subslide"
    }
   },
   "source": [
    "## `pd.DataFrame`"
   ]
  },
  {
   "cell_type": "markdown",
   "id": "a978e845",
   "metadata": {
    "slideshow": {
     "slide_type": "fragment"
    }
   },
   "source": [
    "2D data structure with labelled **columns** and indexed **rows**"
   ]
  },
  {
   "cell_type": "code",
   "execution_count": 24,
   "id": "3ab9b216",
   "metadata": {
    "ExecuteTime": {
     "end_time": "2023-05-15T06:05:48.919843Z",
     "start_time": "2023-05-15T06:05:48.901567Z"
    }
   },
   "outputs": [
    {
     "data": {
      "text/html": [
       "<div>\n",
       "<style scoped>\n",
       "    .dataframe tbody tr th:only-of-type {\n",
       "        vertical-align: middle;\n",
       "    }\n",
       "\n",
       "    .dataframe tbody tr th {\n",
       "        vertical-align: top;\n",
       "    }\n",
       "\n",
       "    .dataframe thead th {\n",
       "        text-align: right;\n",
       "    }\n",
       "</style>\n",
       "<table border=\"1\" class=\"dataframe\">\n",
       "  <thead>\n",
       "    <tr style=\"text-align: right;\">\n",
       "      <th></th>\n",
       "      <th>col0</th>\n",
       "      <th>col1</th>\n",
       "      <th>col2</th>\n",
       "    </tr>\n",
       "  </thead>\n",
       "  <tbody>\n",
       "    <tr>\n",
       "      <th>row1</th>\n",
       "      <td>1</td>\n",
       "      <td>2</td>\n",
       "      <td>3</td>\n",
       "    </tr>\n",
       "    <tr>\n",
       "      <th>row2</th>\n",
       "      <td>4</td>\n",
       "      <td>5</td>\n",
       "      <td>6</td>\n",
       "    </tr>\n",
       "    <tr>\n",
       "      <th>row3</th>\n",
       "      <td>7</td>\n",
       "      <td>8</td>\n",
       "      <td>9</td>\n",
       "    </tr>\n",
       "    <tr>\n",
       "      <th>row4</th>\n",
       "      <td>10</td>\n",
       "      <td>11</td>\n",
       "      <td>12</td>\n",
       "    </tr>\n",
       "  </tbody>\n",
       "</table>\n",
       "</div>"
      ],
      "text/plain": [
       "      col0  col1  col2\n",
       "row1     1     2     3\n",
       "row2     4     5     6\n",
       "row3     7     8     9\n",
       "row4    10    11    12"
      ]
     },
     "execution_count": 24,
     "metadata": {},
     "output_type": "execute_result"
    }
   ],
   "source": [
    "df = pd.DataFrame(\n",
    "    data=[[1, 2, 3], [4, 5, 6], [7, 8, 9], [10, 11, 12]],\n",
    "    columns=[\"col0\", \"col1\", \"col2\"],\n",
    "    index=[\"row1\", \"row2\", \"row3\", \"row4\"],\n",
    ")\n",
    "df"
   ]
  },
  {
   "cell_type": "markdown",
   "id": "3fda0b7d",
   "metadata": {
    "slideshow": {
     "slide_type": "fragment"
    }
   },
   "source": [
    "Dataframes are a great way of storing multiple data for the same elements!"
   ]
  },
  {
   "cell_type": "markdown",
   "id": "b0474757",
   "metadata": {
    "slideshow": {
     "slide_type": "subslide"
    }
   },
   "source": [
    "### `pd.DataFrame` attributes"
   ]
  },
  {
   "cell_type": "code",
   "execution_count": 25,
   "id": "f2f71216",
   "metadata": {
    "ExecuteTime": {
     "end_time": "2023-05-15T06:06:48.654165Z",
     "start_time": "2023-05-15T06:06:48.648144Z"
    },
    "jupyter": {
     "outputs_hidden": false
    }
   },
   "outputs": [
    {
     "data": {
      "text/plain": [
       "Index(['col0', 'col1', 'col2'], dtype='object')"
      ]
     },
     "execution_count": 25,
     "metadata": {},
     "output_type": "execute_result"
    }
   ],
   "source": [
    "df.columns  # returns the columns of the dataframe"
   ]
  },
  {
   "cell_type": "code",
   "execution_count": 26,
   "id": "8ebc199a",
   "metadata": {
    "ExecuteTime": {
     "end_time": "2023-05-15T06:06:49.074916Z",
     "start_time": "2023-05-15T06:06:49.069726Z"
    },
    "jupyter": {
     "outputs_hidden": false
    }
   },
   "outputs": [
    {
     "data": {
      "text/plain": [
       "Index(['row1', 'row2', 'row3', 'row4'], dtype='object')"
      ]
     },
     "execution_count": 26,
     "metadata": {},
     "output_type": "execute_result"
    }
   ],
   "source": [
    "df.index  # returns the index of the dataframe"
   ]
  },
  {
   "cell_type": "code",
   "execution_count": 27,
   "id": "df3f0f04",
   "metadata": {
    "ExecuteTime": {
     "end_time": "2023-05-15T06:06:49.550003Z",
     "start_time": "2023-05-15T06:06:49.528789Z"
    },
    "jupyter": {
     "outputs_hidden": false
    },
    "slideshow": {
     "slide_type": "subslide"
    }
   },
   "outputs": [
    {
     "data": {
      "text/plain": [
       "array([[ 1,  2,  3],\n",
       "       [ 4,  5,  6],\n",
       "       [ 7,  8,  9],\n",
       "       [10, 11, 12]])"
      ]
     },
     "execution_count": 27,
     "metadata": {},
     "output_type": "execute_result"
    }
   ],
   "source": [
    "df.values # returns a numpy array of the raw data in the dataframe."
   ]
  },
  {
   "cell_type": "code",
   "execution_count": 28,
   "id": "9da4ee73",
   "metadata": {
    "ExecuteTime": {
     "end_time": "2023-05-15T06:07:01.057992Z",
     "start_time": "2023-05-15T06:07:01.051431Z"
    },
    "jupyter": {
     "outputs_hidden": false
    }
   },
   "outputs": [
    {
     "data": {
      "text/plain": [
       "(4, 3)"
      ]
     },
     "execution_count": 28,
     "metadata": {},
     "output_type": "execute_result"
    }
   ],
   "source": [
    "df.shape  # returns the shape of the dataframe, as arrays"
   ]
  },
  {
   "cell_type": "markdown",
   "id": "d8f97ee6",
   "metadata": {
    "slideshow": {
     "slide_type": "subslide"
    }
   },
   "source": [
    "## `pd.DataFrame` default indexing"
   ]
  },
  {
   "cell_type": "markdown",
   "id": "b59ccc6d",
   "metadata": {},
   "source": [
    "If we don't specify indexes, we get a default sequential one:"
   ]
  },
  {
   "cell_type": "code",
   "execution_count": 29,
   "id": "57b543f0",
   "metadata": {
    "ExecuteTime": {
     "end_time": "2023-05-15T06:08:16.367352Z",
     "start_time": "2023-05-15T06:08:16.360058Z"
    },
    "jupyter": {
     "outputs_hidden": false
    }
   },
   "outputs": [
    {
     "data": {
      "text/html": [
       "<div>\n",
       "<style scoped>\n",
       "    .dataframe tbody tr th:only-of-type {\n",
       "        vertical-align: middle;\n",
       "    }\n",
       "\n",
       "    .dataframe tbody tr th {\n",
       "        vertical-align: top;\n",
       "    }\n",
       "\n",
       "    .dataframe thead th {\n",
       "        text-align: right;\n",
       "    }\n",
       "</style>\n",
       "<table border=\"1\" class=\"dataframe\">\n",
       "  <thead>\n",
       "    <tr style=\"text-align: right;\">\n",
       "      <th></th>\n",
       "      <th>col0</th>\n",
       "      <th>col1</th>\n",
       "      <th>col2</th>\n",
       "    </tr>\n",
       "  </thead>\n",
       "  <tbody>\n",
       "    <tr>\n",
       "      <th>0</th>\n",
       "      <td>1</td>\n",
       "      <td>2</td>\n",
       "      <td>3</td>\n",
       "    </tr>\n",
       "    <tr>\n",
       "      <th>1</th>\n",
       "      <td>4</td>\n",
       "      <td>5</td>\n",
       "      <td>6</td>\n",
       "    </tr>\n",
       "    <tr>\n",
       "      <th>2</th>\n",
       "      <td>7</td>\n",
       "      <td>8</td>\n",
       "      <td>9</td>\n",
       "    </tr>\n",
       "    <tr>\n",
       "      <th>3</th>\n",
       "      <td>10</td>\n",
       "      <td>11</td>\n",
       "      <td>12</td>\n",
       "    </tr>\n",
       "  </tbody>\n",
       "</table>\n",
       "</div>"
      ],
      "text/plain": [
       "   col0  col1  col2\n",
       "0     1     2     3\n",
       "1     4     5     6\n",
       "2     7     8     9\n",
       "3    10    11    12"
      ]
     },
     "execution_count": 29,
     "metadata": {},
     "output_type": "execute_result"
    }
   ],
   "source": [
    "df = pd.DataFrame(\n",
    "    data=[[1, 2, 3], [4, 5, 6], [7, 8, 9], [10, 11, 12]],\n",
    "    columns=[\"col0\", \"col1\", \"col2\"],\n",
    ")\n",
    "df"
   ]
  },
  {
   "cell_type": "markdown",
   "id": "797fb2b3",
   "metadata": {
    "slideshow": {
     "slide_type": "subslide"
    }
   },
   "source": [
    "## `pd.DataFrame` indexing"
   ]
  },
  {
   "cell_type": "markdown",
   "id": "f1170a2b",
   "metadata": {},
   "source": [
    "Index dataframe over columns:"
   ]
  },
  {
   "cell_type": "code",
   "execution_count": 31,
   "id": "24dd8131",
   "metadata": {
    "ExecuteTime": {
     "end_time": "2023-05-15T06:09:18.649620Z",
     "start_time": "2023-05-15T06:09:18.628981Z"
    },
    "jupyter": {
     "outputs_hidden": false
    }
   },
   "outputs": [
    {
     "data": {
      "text/plain": [
       "pandas.core.series.Series"
      ]
     },
     "execution_count": 31,
     "metadata": {},
     "output_type": "execute_result"
    }
   ],
   "source": [
    "df = pd.DataFrame(\n",
    "    data=[[1, 2, 3], [4, 5, 6], [7, 8, 9], [10, 11, 12]],\n",
    "    columns=[\"col0\", \"col1\", \"col2\"],\n",
    "    index=[\"row1\", \"row2\", \"row3\", \"row4\"],\n",
    ")\n",
    "\n",
    "type(df[\"col0\"])"
   ]
  },
  {
   "cell_type": "markdown",
   "id": "0f285bd8",
   "metadata": {},
   "source": [
    "Once we have selected a column, what we get is a `pd.Series`"
   ]
  },
  {
   "cell_type": "markdown",
   "id": "1b412956",
   "metadata": {
    "slideshow": {
     "slide_type": "subslide"
    }
   },
   "source": [
    "### `pd.Series`"
   ]
  },
  {
   "cell_type": "markdown",
   "id": "465d12d3",
   "metadata": {
    "slideshow": {
     "slide_type": "fragment"
    }
   },
   "source": [
    "`pd.Series` are 1-dimensional data structures - basically columns of  `pd.DataFrame`s"
   ]
  },
  {
   "cell_type": "code",
   "execution_count": 32,
   "id": "a6b29b0d",
   "metadata": {},
   "outputs": [
    {
     "data": {
      "text/plain": [
       "pandas.core.series.Series"
      ]
     },
     "execution_count": 32,
     "metadata": {},
     "output_type": "execute_result"
    }
   ],
   "source": [
    "a_series_from_df = df[\"col0\"]\n",
    "type(a_series_from_df)"
   ]
  },
  {
   "cell_type": "markdown",
   "id": "3099af99",
   "metadata": {
    "slideshow": {
     "slide_type": "subslide"
    }
   },
   "source": [
    "`pd.Series` have indexed rows, and a name (the name of the column they come from):"
   ]
  },
  {
   "cell_type": "code",
   "execution_count": 33,
   "id": "42eaf959",
   "metadata": {
    "ExecuteTime": {
     "end_time": "2023-05-14T21:48:36.826953Z",
     "start_time": "2023-05-14T21:48:36.821805Z"
    },
    "jupyter": {
     "outputs_hidden": false
    }
   },
   "outputs": [
    {
     "data": {
      "text/plain": [
       "Index(['row1', 'row2', 'row3', 'row4'], dtype='object')"
      ]
     },
     "execution_count": 33,
     "metadata": {},
     "output_type": "execute_result"
    }
   ],
   "source": [
    "a_series_from_df.index"
   ]
  },
  {
   "cell_type": "code",
   "execution_count": 34,
   "id": "d882cf87",
   "metadata": {
    "ExecuteTime": {
     "end_time": "2023-05-14T21:48:39.244156Z",
     "start_time": "2023-05-14T21:48:39.239971Z"
    },
    "jupyter": {
     "outputs_hidden": false
    }
   },
   "outputs": [
    {
     "data": {
      "text/plain": [
       "'col0'"
      ]
     },
     "execution_count": 34,
     "metadata": {},
     "output_type": "execute_result"
    }
   ],
   "source": [
    "a_series_from_df.name"
   ]
  },
  {
   "cell_type": "markdown",
   "id": "52935389",
   "metadata": {
    "slideshow": {
     "slide_type": "subslide"
    }
   },
   "source": [
    "### Back to indexing dataframes..."
   ]
  },
  {
   "cell_type": "markdown",
   "id": "b2e011a1",
   "metadata": {},
   "source": [
    "We can select multiple columns (with a list of columns):"
   ]
  },
  {
   "cell_type": "code",
   "execution_count": 35,
   "id": "42b5b537",
   "metadata": {
    "ExecuteTime": {
     "end_time": "2023-05-14T21:41:28.561425Z",
     "start_time": "2023-05-14T21:41:28.541952Z"
    },
    "jupyter": {
     "outputs_hidden": false
    }
   },
   "outputs": [
    {
     "data": {
      "text/html": [
       "<div>\n",
       "<style scoped>\n",
       "    .dataframe tbody tr th:only-of-type {\n",
       "        vertical-align: middle;\n",
       "    }\n",
       "\n",
       "    .dataframe tbody tr th {\n",
       "        vertical-align: top;\n",
       "    }\n",
       "\n",
       "    .dataframe thead th {\n",
       "        text-align: right;\n",
       "    }\n",
       "</style>\n",
       "<table border=\"1\" class=\"dataframe\">\n",
       "  <thead>\n",
       "    <tr style=\"text-align: right;\">\n",
       "      <th></th>\n",
       "      <th>col0</th>\n",
       "      <th>col2</th>\n",
       "    </tr>\n",
       "  </thead>\n",
       "  <tbody>\n",
       "    <tr>\n",
       "      <th>row1</th>\n",
       "      <td>1</td>\n",
       "      <td>3</td>\n",
       "    </tr>\n",
       "    <tr>\n",
       "      <th>row2</th>\n",
       "      <td>4</td>\n",
       "      <td>6</td>\n",
       "    </tr>\n",
       "    <tr>\n",
       "      <th>row3</th>\n",
       "      <td>7</td>\n",
       "      <td>9</td>\n",
       "    </tr>\n",
       "    <tr>\n",
       "      <th>row4</th>\n",
       "      <td>10</td>\n",
       "      <td>12</td>\n",
       "    </tr>\n",
       "  </tbody>\n",
       "</table>\n",
       "</div>"
      ],
      "text/plain": [
       "      col0  col2\n",
       "row1     1     3\n",
       "row2     4     6\n",
       "row3     7     9\n",
       "row4    10    12"
      ]
     },
     "execution_count": 35,
     "metadata": {},
     "output_type": "execute_result"
    }
   ],
   "source": [
    "df[[\"col0\", \"col2\"]]"
   ]
  },
  {
   "cell_type": "markdown",
   "id": "8176cde0",
   "metadata": {
    "slideshow": {
     "slide_type": "subslide"
    }
   },
   "source": [
    "We can select rows (with a list / range of rows - in this case, always a range!):"
   ]
  },
  {
   "cell_type": "code",
   "execution_count": 37,
   "id": "ac81e4b2",
   "metadata": {
    "ExecuteTime": {
     "end_time": "2023-05-14T21:41:40.332402Z",
     "start_time": "2023-05-14T21:41:40.317414Z"
    },
    "jupyter": {
     "outputs_hidden": false
    }
   },
   "outputs": [
    {
     "data": {
      "text/html": [
       "<div>\n",
       "<style scoped>\n",
       "    .dataframe tbody tr th:only-of-type {\n",
       "        vertical-align: middle;\n",
       "    }\n",
       "\n",
       "    .dataframe tbody tr th {\n",
       "        vertical-align: top;\n",
       "    }\n",
       "\n",
       "    .dataframe thead th {\n",
       "        text-align: right;\n",
       "    }\n",
       "</style>\n",
       "<table border=\"1\" class=\"dataframe\">\n",
       "  <thead>\n",
       "    <tr style=\"text-align: right;\">\n",
       "      <th></th>\n",
       "      <th>col0</th>\n",
       "      <th>col1</th>\n",
       "      <th>col2</th>\n",
       "    </tr>\n",
       "  </thead>\n",
       "  <tbody>\n",
       "    <tr>\n",
       "      <th>row1</th>\n",
       "      <td>1</td>\n",
       "      <td>2</td>\n",
       "      <td>3</td>\n",
       "    </tr>\n",
       "    <tr>\n",
       "      <th>row2</th>\n",
       "      <td>4</td>\n",
       "      <td>5</td>\n",
       "      <td>6</td>\n",
       "    </tr>\n",
       "  </tbody>\n",
       "</table>\n",
       "</div>"
      ],
      "text/plain": [
       "      col0  col1  col2\n",
       "row1     1     2     3\n",
       "row2     4     5     6"
      ]
     },
     "execution_count": 37,
     "metadata": {},
     "output_type": "execute_result"
    }
   ],
   "source": [
    "df[\"row1\":\"row2\"]"
   ]
  },
  {
   "cell_type": "markdown",
   "id": "e18b7f92",
   "metadata": {
    "slideshow": {
     "slide_type": "subslide"
    }
   },
   "source": [
    "### `.loc`"
   ]
  },
  {
   "cell_type": "markdown",
   "id": "c7836a67",
   "metadata": {},
   "source": [
    "To get specific elements / Index over both rows and columns we use `.loc` (highly recommended)\n",
    "\n",
    "This is not a method! mind the square brackets:"
   ]
  },
  {
   "cell_type": "code",
   "execution_count": 39,
   "id": "e87a1f7c",
   "metadata": {
    "ExecuteTime": {
     "end_time": "2023-05-14T21:44:29.621664Z",
     "start_time": "2023-05-14T21:44:29.618985Z"
    },
    "jupyter": {
     "outputs_hidden": false
    }
   },
   "outputs": [
    {
     "data": {
      "text/plain": [
       "1"
      ]
     },
     "execution_count": 39,
     "metadata": {},
     "output_type": "execute_result"
    }
   ],
   "source": [
    "df.loc[\"row1\", \"col0\"]"
   ]
  },
  {
   "cell_type": "markdown",
   "id": "7e7a0d04",
   "metadata": {
    "slideshow": {
     "slide_type": "subslide"
    }
   },
   "source": [
    "We can select multiple rows and columns (with a list / range of rows and columns):"
   ]
  },
  {
   "cell_type": "code",
   "execution_count": 40,
   "id": "ac4d15ee",
   "metadata": {
    "ExecuteTime": {
     "end_time": "2023-05-14T21:44:53.315034Z",
     "start_time": "2023-05-14T21:44:53.311920Z"
    },
    "jupyter": {
     "outputs_hidden": false
    }
   },
   "outputs": [
    {
     "data": {
      "text/html": [
       "<div>\n",
       "<style scoped>\n",
       "    .dataframe tbody tr th:only-of-type {\n",
       "        vertical-align: middle;\n",
       "    }\n",
       "\n",
       "    .dataframe tbody tr th {\n",
       "        vertical-align: top;\n",
       "    }\n",
       "\n",
       "    .dataframe thead th {\n",
       "        text-align: right;\n",
       "    }\n",
       "</style>\n",
       "<table border=\"1\" class=\"dataframe\">\n",
       "  <thead>\n",
       "    <tr style=\"text-align: right;\">\n",
       "      <th></th>\n",
       "      <th>col0</th>\n",
       "      <th>col1</th>\n",
       "      <th>col2</th>\n",
       "    </tr>\n",
       "  </thead>\n",
       "  <tbody>\n",
       "    <tr>\n",
       "      <th>row1</th>\n",
       "      <td>1</td>\n",
       "      <td>2</td>\n",
       "      <td>3</td>\n",
       "    </tr>\n",
       "    <tr>\n",
       "      <th>row2</th>\n",
       "      <td>4</td>\n",
       "      <td>5</td>\n",
       "      <td>6</td>\n",
       "    </tr>\n",
       "    <tr>\n",
       "      <th>row3</th>\n",
       "      <td>7</td>\n",
       "      <td>8</td>\n",
       "      <td>9</td>\n",
       "    </tr>\n",
       "  </tbody>\n",
       "</table>\n",
       "</div>"
      ],
      "text/plain": [
       "      col0  col1  col2\n",
       "row1     1     2     3\n",
       "row2     4     5     6\n",
       "row3     7     8     9"
      ]
     },
     "execution_count": 40,
     "metadata": {},
     "output_type": "execute_result"
    }
   ],
   "source": [
    "df.loc[\"row1\":\"row3\", \"col0\":\"col2\"]"
   ]
  },
  {
   "cell_type": "markdown",
   "id": "bff4b2a1",
   "metadata": {
    "slideshow": {
     "slide_type": "subslide"
    }
   },
   "source": [
    "Often, we use boolean indexing to select rows:"
   ]
  },
  {
   "cell_type": "code",
   "execution_count": 44,
   "id": "ab88d8ec",
   "metadata": {},
   "outputs": [
    {
     "data": {
      "text/plain": [
       "row1    False\n",
       "row2     True\n",
       "row3     True\n",
       "row4     True\n",
       "Name: col2, dtype: bool"
      ]
     },
     "execution_count": 44,
     "metadata": {},
     "output_type": "execute_result"
    }
   ],
   "source": [
    "df[\"col2\"] > 5"
   ]
  },
  {
   "cell_type": "code",
   "execution_count": 46,
   "id": "fd4b0a19",
   "metadata": {
    "ExecuteTime": {
     "end_time": "2023-05-14T21:45:42.842109Z",
     "start_time": "2023-05-14T21:45:42.832497Z"
    },
    "jupyter": {
     "outputs_hidden": false
    }
   },
   "outputs": [
    {
     "data": {
      "text/html": [
       "<div>\n",
       "<style scoped>\n",
       "    .dataframe tbody tr th:only-of-type {\n",
       "        vertical-align: middle;\n",
       "    }\n",
       "\n",
       "    .dataframe tbody tr th {\n",
       "        vertical-align: top;\n",
       "    }\n",
       "\n",
       "    .dataframe thead th {\n",
       "        text-align: right;\n",
       "    }\n",
       "</style>\n",
       "<table border=\"1\" class=\"dataframe\">\n",
       "  <thead>\n",
       "    <tr style=\"text-align: right;\">\n",
       "      <th></th>\n",
       "      <th>col0</th>\n",
       "      <th>col1</th>\n",
       "      <th>col2</th>\n",
       "    </tr>\n",
       "  </thead>\n",
       "  <tbody>\n",
       "    <tr>\n",
       "      <th>row2</th>\n",
       "      <td>4</td>\n",
       "      <td>5</td>\n",
       "      <td>6</td>\n",
       "    </tr>\n",
       "    <tr>\n",
       "      <th>row3</th>\n",
       "      <td>7</td>\n",
       "      <td>8</td>\n",
       "      <td>9</td>\n",
       "    </tr>\n",
       "    <tr>\n",
       "      <th>row4</th>\n",
       "      <td>10</td>\n",
       "      <td>11</td>\n",
       "      <td>12</td>\n",
       "    </tr>\n",
       "  </tbody>\n",
       "</table>\n",
       "</div>"
      ],
      "text/plain": [
       "      col0  col1  col2\n",
       "row2     4     5     6\n",
       "row3     7     8     9\n",
       "row4    10    11    12"
      ]
     },
     "execution_count": 46,
     "metadata": {},
     "output_type": "execute_result"
    }
   ],
   "source": [
    "df.loc[df[\"col2\"] > 5, :]"
   ]
  },
  {
   "cell_type": "markdown",
   "id": "25fde7d0",
   "metadata": {
    "slideshow": {
     "slide_type": "subslide"
    }
   },
   "source": [
    "It is very common to use multiple critieria to select rows:"
   ]
  },
  {
   "cell_type": "code",
   "execution_count": 48,
   "id": "03977d7f",
   "metadata": {},
   "outputs": [],
   "source": [
    "selecting_series = (df[\"col2\"] > 5) & (df[\"col1\"] < 10)"
   ]
  },
  {
   "cell_type": "code",
   "execution_count": 54,
   "id": "712da1ad",
   "metadata": {
    "ExecuteTime": {
     "end_time": "2023-05-14T21:57:56.609094Z",
     "start_time": "2023-05-14T21:57:56.600500Z"
    },
    "jupyter": {
     "outputs_hidden": false
    }
   },
   "outputs": [
    {
     "data": {
      "text/html": [
       "<div>\n",
       "<style scoped>\n",
       "    .dataframe tbody tr th:only-of-type {\n",
       "        vertical-align: middle;\n",
       "    }\n",
       "\n",
       "    .dataframe tbody tr th {\n",
       "        vertical-align: top;\n",
       "    }\n",
       "\n",
       "    .dataframe thead th {\n",
       "        text-align: right;\n",
       "    }\n",
       "</style>\n",
       "<table border=\"1\" class=\"dataframe\">\n",
       "  <thead>\n",
       "    <tr style=\"text-align: right;\">\n",
       "      <th></th>\n",
       "      <th>col0</th>\n",
       "      <th>col1</th>\n",
       "      <th>col2</th>\n",
       "    </tr>\n",
       "  </thead>\n",
       "  <tbody>\n",
       "    <tr>\n",
       "      <th>row2</th>\n",
       "      <td>4</td>\n",
       "      <td>5</td>\n",
       "      <td>6</td>\n",
       "    </tr>\n",
       "    <tr>\n",
       "      <th>row3</th>\n",
       "      <td>7</td>\n",
       "      <td>8</td>\n",
       "      <td>9</td>\n",
       "    </tr>\n",
       "  </tbody>\n",
       "</table>\n",
       "</div>"
      ],
      "text/plain": [
       "      col0  col1  col2\n",
       "row2     4     5     6\n",
       "row3     7     8     9"
      ]
     },
     "execution_count": 54,
     "metadata": {},
     "output_type": "execute_result"
    }
   ],
   "source": [
    "df.loc[selecting_series, :]  # note the boolean and operation à là numpy"
   ]
  },
  {
   "cell_type": "markdown",
   "id": "f10116a4",
   "metadata": {
    "slideshow": {
     "slide_type": "subslide"
    }
   },
   "source": [
    "### `.iloc`"
   ]
  },
  {
   "cell_type": "markdown",
   "id": "6ecdcd59",
   "metadata": {},
   "source": [
    "If we feel like using numpy-like indexing, we can use `.iloc` (usually, discouraged):"
   ]
  },
  {
   "cell_type": "code",
   "execution_count": 56,
   "id": "6a93306f",
   "metadata": {
    "ExecuteTime": {
     "end_time": "2023-05-14T21:58:02.679734Z",
     "start_time": "2023-05-14T21:58:02.674165Z"
    },
    "jupyter": {
     "outputs_hidden": false
    },
    "scrolled": true
   },
   "outputs": [
    {
     "data": {
      "text/plain": [
       "1"
      ]
     },
     "execution_count": 56,
     "metadata": {},
     "output_type": "execute_result"
    }
   ],
   "source": [
    "df.iloc[0, 0]"
   ]
  },
  {
   "cell_type": "markdown",
   "id": "f120afdf",
   "metadata": {
    "slideshow": {
     "slide_type": "subslide"
    }
   },
   "source": [
    "### Create `pd.DataFrames`"
   ]
  },
  {
   "cell_type": "markdown",
   "id": "994ea047",
   "metadata": {},
   "source": [
    "Tipically, we create a dataframe from a dictionary of arrays (lists):"
   ]
  },
  {
   "cell_type": "code",
   "execution_count": 60,
   "id": "e33691ae",
   "metadata": {
    "ExecuteTime": {
     "end_time": "2023-05-14T21:59:01.600318Z",
     "start_time": "2023-05-14T21:59:01.597275Z"
    },
    "jupyter": {
     "outputs_hidden": false
    }
   },
   "outputs": [
    {
     "data": {
      "text/html": [
       "<div>\n",
       "<style scoped>\n",
       "    .dataframe tbody tr th:only-of-type {\n",
       "        vertical-align: middle;\n",
       "    }\n",
       "\n",
       "    .dataframe tbody tr th {\n",
       "        vertical-align: top;\n",
       "    }\n",
       "\n",
       "    .dataframe thead th {\n",
       "        text-align: right;\n",
       "    }\n",
       "</style>\n",
       "<table border=\"1\" class=\"dataframe\">\n",
       "  <thead>\n",
       "    <tr style=\"text-align: right;\">\n",
       "      <th></th>\n",
       "      <th>int_col</th>\n",
       "      <th>float_col</th>\n",
       "      <th>a_constant_val</th>\n",
       "      <th>str_col</th>\n",
       "    </tr>\n",
       "  </thead>\n",
       "  <tbody>\n",
       "    <tr>\n",
       "      <th>0</th>\n",
       "      <td>1</td>\n",
       "      <td>4.0</td>\n",
       "      <td>1</td>\n",
       "      <td>a</td>\n",
       "    </tr>\n",
       "    <tr>\n",
       "      <th>1</th>\n",
       "      <td>2</td>\n",
       "      <td>5.0</td>\n",
       "      <td>1</td>\n",
       "      <td>b</td>\n",
       "    </tr>\n",
       "    <tr>\n",
       "      <th>2</th>\n",
       "      <td>3</td>\n",
       "      <td>0.6</td>\n",
       "      <td>1</td>\n",
       "      <td>c</td>\n",
       "    </tr>\n",
       "  </tbody>\n",
       "</table>\n",
       "</div>"
      ],
      "text/plain": [
       "   int_col  float_col  a_constant_val str_col\n",
       "0        1        4.0               1       a\n",
       "1        2        5.0               1       b\n",
       "2        3        0.6               1       c"
      ]
     },
     "execution_count": 60,
     "metadata": {},
     "output_type": "execute_result"
    }
   ],
   "source": [
    "dict_array = dict(int_col=[1, 2, 3], \n",
    "                  float_col=[4., 5., .6],\n",
    "                  a_constant_val=1,\n",
    "                  str_col=[\"a\", \"b\", \"c\"])\n",
    "\n",
    "pd.DataFrame(dict_array)"
   ]
  },
  {
   "cell_type": "markdown",
   "id": "15b6b4b7",
   "metadata": {
    "slideshow": {
     "slide_type": "subslide"
    }
   },
   "source": [
    " or from a list of dictionaries:"
   ]
  },
  {
   "cell_type": "code",
   "execution_count": 59,
   "id": "9f3db513",
   "metadata": {
    "ExecuteTime": {
     "end_time": "2023-05-14T21:59:38.769053Z",
     "start_time": "2023-05-14T21:59:38.765802Z"
    },
    "jupyter": {
     "outputs_hidden": false
    }
   },
   "outputs": [
    {
     "data": {
      "text/html": [
       "<div>\n",
       "<style scoped>\n",
       "    .dataframe tbody tr th:only-of-type {\n",
       "        vertical-align: middle;\n",
       "    }\n",
       "\n",
       "    .dataframe tbody tr th {\n",
       "        vertical-align: top;\n",
       "    }\n",
       "\n",
       "    .dataframe thead th {\n",
       "        text-align: right;\n",
       "    }\n",
       "</style>\n",
       "<table border=\"1\" class=\"dataframe\">\n",
       "  <thead>\n",
       "    <tr style=\"text-align: right;\">\n",
       "      <th></th>\n",
       "      <th>int_col</th>\n",
       "      <th>float_col</th>\n",
       "      <th>str_col</th>\n",
       "    </tr>\n",
       "  </thead>\n",
       "  <tbody>\n",
       "    <tr>\n",
       "      <th>0</th>\n",
       "      <td>1</td>\n",
       "      <td>4.0</td>\n",
       "      <td>a</td>\n",
       "    </tr>\n",
       "    <tr>\n",
       "      <th>1</th>\n",
       "      <td>2</td>\n",
       "      <td>5.0</td>\n",
       "      <td>b</td>\n",
       "    </tr>\n",
       "    <tr>\n",
       "      <th>2</th>\n",
       "      <td>3</td>\n",
       "      <td>0.6</td>\n",
       "      <td>c</td>\n",
       "    </tr>\n",
       "  </tbody>\n",
       "</table>\n",
       "</div>"
      ],
      "text/plain": [
       "   int_col  float_col str_col\n",
       "0        1        4.0       a\n",
       "1        2        5.0       b\n",
       "2        3        0.6       c"
      ]
     },
     "execution_count": 59,
     "metadata": {},
     "output_type": "execute_result"
    }
   ],
   "source": [
    "pd.DataFrame([dict(int_col=1, float_col=4., str_col=\"a\"),\n",
    "              dict(int_col=2, float_col=5., str_col=\"b\"),\n",
    "              dict(int_col=3, float_col=.6, str_col=\"c\")])"
   ]
  },
  {
   "cell_type": "markdown",
   "id": "ec2831d5",
   "metadata": {
    "slideshow": {
     "slide_type": "subslide"
    }
   },
   "source": [
    "Or, as we saw, from a numpy array:"
   ]
  },
  {
   "cell_type": "code",
   "execution_count": 61,
   "id": "fe61f088",
   "metadata": {},
   "outputs": [
    {
     "data": {
      "text/plain": [
       "array([[0.2303965 , 0.26447577, 0.36732304],\n",
       "       [0.79817935, 0.5906492 , 0.88905246],\n",
       "       [0.02050223, 0.64918044, 0.40489264]])"
      ]
     },
     "execution_count": 61,
     "metadata": {},
     "output_type": "execute_result"
    }
   ],
   "source": [
    "twod_array = np.random.rand(3, 3)\n",
    "twod_array"
   ]
  },
  {
   "cell_type": "code",
   "execution_count": 62,
   "id": "56830b4e",
   "metadata": {
    "ExecuteTime": {
     "end_time": "2023-05-14T22:04:03.192256Z",
     "start_time": "2023-05-14T22:04:03.182302Z"
    },
    "jupyter": {
     "outputs_hidden": false
    }
   },
   "outputs": [
    {
     "data": {
      "text/html": [
       "<div>\n",
       "<style scoped>\n",
       "    .dataframe tbody tr th:only-of-type {\n",
       "        vertical-align: middle;\n",
       "    }\n",
       "\n",
       "    .dataframe tbody tr th {\n",
       "        vertical-align: top;\n",
       "    }\n",
       "\n",
       "    .dataframe thead th {\n",
       "        text-align: right;\n",
       "    }\n",
       "</style>\n",
       "<table border=\"1\" class=\"dataframe\">\n",
       "  <thead>\n",
       "    <tr style=\"text-align: right;\">\n",
       "      <th></th>\n",
       "      <th>a</th>\n",
       "      <th>b</th>\n",
       "      <th>c</th>\n",
       "    </tr>\n",
       "  </thead>\n",
       "  <tbody>\n",
       "    <tr>\n",
       "      <th>row1</th>\n",
       "      <td>0.230396</td>\n",
       "      <td>0.264476</td>\n",
       "      <td>0.367323</td>\n",
       "    </tr>\n",
       "    <tr>\n",
       "      <th>row2</th>\n",
       "      <td>0.798179</td>\n",
       "      <td>0.590649</td>\n",
       "      <td>0.889052</td>\n",
       "    </tr>\n",
       "    <tr>\n",
       "      <th>row3</th>\n",
       "      <td>0.020502</td>\n",
       "      <td>0.649180</td>\n",
       "      <td>0.404893</td>\n",
       "    </tr>\n",
       "  </tbody>\n",
       "</table>\n",
       "</div>"
      ],
      "text/plain": [
       "             a         b         c\n",
       "row1  0.230396  0.264476  0.367323\n",
       "row2  0.798179  0.590649  0.889052\n",
       "row3  0.020502  0.649180  0.404893"
      ]
     },
     "execution_count": 62,
     "metadata": {},
     "output_type": "execute_result"
    }
   ],
   "source": [
    "pd.DataFrame(twod_array, columns=[\"a\", \"b\", \"c\"], index=[\"row1\", \"row2\", \"row3\"])"
   ]
  },
  {
   "cell_type": "markdown",
   "id": "6cafa092",
   "metadata": {
    "slideshow": {
     "slide_type": "subslide"
    }
   },
   "source": [
    "### Reading from files"
   ]
  },
  {
   "cell_type": "markdown",
   "id": "327aab17",
   "metadata": {},
   "source": [
    "Many (most?) times we'll be reading directly from a file (a `.csv`, a `.xlsx`...)"
   ]
  },
  {
   "cell_type": "code",
   "execution_count": 65,
   "id": "ae50d853",
   "metadata": {},
   "outputs": [
    {
     "data": {
      "text/html": [
       "<div>\n",
       "<style scoped>\n",
       "    .dataframe tbody tr th:only-of-type {\n",
       "        vertical-align: middle;\n",
       "    }\n",
       "\n",
       "    .dataframe tbody tr th {\n",
       "        vertical-align: top;\n",
       "    }\n",
       "\n",
       "    .dataframe thead th {\n",
       "        text-align: right;\n",
       "    }\n",
       "</style>\n",
       "<table border=\"1\" class=\"dataframe\">\n",
       "  <thead>\n",
       "    <tr style=\"text-align: right;\">\n",
       "      <th></th>\n",
       "      <th>time</th>\n",
       "      <th>temperature_2m (°C)</th>\n",
       "      <th>relativehumidity_2m (%)</th>\n",
       "      <th>precipitation (mm)</th>\n",
       "      <th>windspeed_10m (km/h)</th>\n",
       "      <th>winddirection_10m (°)</th>\n",
       "    </tr>\n",
       "  </thead>\n",
       "  <tbody>\n",
       "    <tr>\n",
       "      <th>0</th>\n",
       "      <td>2023-02-01T00:00</td>\n",
       "      <td>4.6</td>\n",
       "      <td>77</td>\n",
       "      <td>0.1</td>\n",
       "      <td>20.9</td>\n",
       "      <td>274</td>\n",
       "    </tr>\n",
       "    <tr>\n",
       "      <th>1</th>\n",
       "      <td>2023-02-01T01:00</td>\n",
       "      <td>4.5</td>\n",
       "      <td>76</td>\n",
       "      <td>0.2</td>\n",
       "      <td>20.5</td>\n",
       "      <td>273</td>\n",
       "    </tr>\n",
       "    <tr>\n",
       "      <th>2</th>\n",
       "      <td>2023-02-01T02:00</td>\n",
       "      <td>4.5</td>\n",
       "      <td>74</td>\n",
       "      <td>0.0</td>\n",
       "      <td>20.5</td>\n",
       "      <td>273</td>\n",
       "    </tr>\n",
       "    <tr>\n",
       "      <th>3</th>\n",
       "      <td>2023-02-01T03:00</td>\n",
       "      <td>4.4</td>\n",
       "      <td>77</td>\n",
       "      <td>0.0</td>\n",
       "      <td>18.4</td>\n",
       "      <td>269</td>\n",
       "    </tr>\n",
       "    <tr>\n",
       "      <th>4</th>\n",
       "      <td>2023-02-01T04:00</td>\n",
       "      <td>4.3</td>\n",
       "      <td>77</td>\n",
       "      <td>0.0</td>\n",
       "      <td>17.1</td>\n",
       "      <td>262</td>\n",
       "    </tr>\n",
       "  </tbody>\n",
       "</table>\n",
       "</div>"
      ],
      "text/plain": [
       "               time  temperature_2m (°C)  relativehumidity_2m (%)   \n",
       "0  2023-02-01T00:00                  4.6                       77  \\\n",
       "1  2023-02-01T01:00                  4.5                       76   \n",
       "2  2023-02-01T02:00                  4.5                       74   \n",
       "3  2023-02-01T03:00                  4.4                       77   \n",
       "4  2023-02-01T04:00                  4.3                       77   \n",
       "\n",
       "   precipitation (mm)  windspeed_10m (km/h)  winddirection_10m (°)  \n",
       "0                 0.1                  20.9                    274  \n",
       "1                 0.2                  20.5                    273  \n",
       "2                 0.0                  20.5                    273  \n",
       "3                 0.0                  18.4                    269  \n",
       "4                 0.0                  17.1                    262  "
      ]
     },
     "execution_count": 65,
     "metadata": {},
     "output_type": "execute_result"
    }
   ],
   "source": [
    "# For .csv files, we use the read_csv method.\n",
    "# In this notebook we read from the web; if it was a file from your pc, you'd pass the filename\n",
    "# instead of the URL. read_csv takes a bunch of inputs about how your file is formatted\n",
    "\n",
    "URL = \"https://api.open-meteo.com/v1/forecast?latitude=52.52&longitude=13.41&hourly=temperature_2m,relativehumidity_2m,precipitation,windspeed_10m,winddirection_10m&start_date=2023-02-01&end_date=2023-05-28&format=csv\"\n",
    "df = pd.read_csv(URL, skiprows=3)\n",
    "\n",
    "df.head()  # this will show only the first rows!"
   ]
  },
  {
   "cell_type": "markdown",
   "id": "842bfe7b",
   "metadata": {
    "slideshow": {
     "slide_type": "subslide"
    }
   },
   "source": [
    "### Add new columns"
   ]
  },
  {
   "cell_type": "markdown",
   "id": "1b915a72",
   "metadata": {},
   "source": [
    "We can add new columns to a dataframe:"
   ]
  },
  {
   "cell_type": "code",
   "execution_count": 66,
   "id": "c8bc88d5",
   "metadata": {
    "ExecuteTime": {
     "end_time": "2023-05-15T05:59:15.605460Z",
     "start_time": "2023-05-15T05:59:15.597442Z"
    },
    "jupyter": {
     "outputs_hidden": false
    }
   },
   "outputs": [
    {
     "data": {
      "text/html": [
       "<div>\n",
       "<style scoped>\n",
       "    .dataframe tbody tr th:only-of-type {\n",
       "        vertical-align: middle;\n",
       "    }\n",
       "\n",
       "    .dataframe tbody tr th {\n",
       "        vertical-align: top;\n",
       "    }\n",
       "\n",
       "    .dataframe thead th {\n",
       "        text-align: right;\n",
       "    }\n",
       "</style>\n",
       "<table border=\"1\" class=\"dataframe\">\n",
       "  <thead>\n",
       "    <tr style=\"text-align: right;\">\n",
       "      <th></th>\n",
       "      <th>a</th>\n",
       "      <th>b</th>\n",
       "      <th>c</th>\n",
       "    </tr>\n",
       "  </thead>\n",
       "  <tbody>\n",
       "    <tr>\n",
       "      <th>row1</th>\n",
       "      <td>0.642151</td>\n",
       "      <td>0.659450</td>\n",
       "      <td>0.338003</td>\n",
       "    </tr>\n",
       "    <tr>\n",
       "      <th>row2</th>\n",
       "      <td>0.143122</td>\n",
       "      <td>0.242077</td>\n",
       "      <td>0.264976</td>\n",
       "    </tr>\n",
       "    <tr>\n",
       "      <th>row3</th>\n",
       "      <td>0.579464</td>\n",
       "      <td>0.235423</td>\n",
       "      <td>0.819173</td>\n",
       "    </tr>\n",
       "  </tbody>\n",
       "</table>\n",
       "</div>"
      ],
      "text/plain": [
       "             a         b         c\n",
       "row1  0.642151  0.659450  0.338003\n",
       "row2  0.143122  0.242077  0.264976\n",
       "row3  0.579464  0.235423  0.819173"
      ]
     },
     "execution_count": 66,
     "metadata": {},
     "output_type": "execute_result"
    }
   ],
   "source": [
    "df = pd.DataFrame(np.random.rand(3, 3), columns=[\"a\", \"b\", \"c\"], index=[\"row1\", \"row2\", \"row3\"])\n",
    "df"
   ]
  },
  {
   "cell_type": "code",
   "execution_count": 67,
   "id": "1d6fa579",
   "metadata": {
    "ExecuteTime": {
     "end_time": "2023-05-15T05:59:42.539679Z",
     "start_time": "2023-05-15T05:59:42.532833Z"
    },
    "jupyter": {
     "outputs_hidden": false
    }
   },
   "outputs": [
    {
     "data": {
      "text/html": [
       "<div>\n",
       "<style scoped>\n",
       "    .dataframe tbody tr th:only-of-type {\n",
       "        vertical-align: middle;\n",
       "    }\n",
       "\n",
       "    .dataframe tbody tr th {\n",
       "        vertical-align: top;\n",
       "    }\n",
       "\n",
       "    .dataframe thead th {\n",
       "        text-align: right;\n",
       "    }\n",
       "</style>\n",
       "<table border=\"1\" class=\"dataframe\">\n",
       "  <thead>\n",
       "    <tr style=\"text-align: right;\">\n",
       "      <th></th>\n",
       "      <th>a</th>\n",
       "      <th>b</th>\n",
       "      <th>c</th>\n",
       "      <th>a_new_column</th>\n",
       "    </tr>\n",
       "  </thead>\n",
       "  <tbody>\n",
       "    <tr>\n",
       "      <th>row1</th>\n",
       "      <td>0.642151</td>\n",
       "      <td>0.659450</td>\n",
       "      <td>0.338003</td>\n",
       "      <td>a</td>\n",
       "    </tr>\n",
       "    <tr>\n",
       "      <th>row2</th>\n",
       "      <td>0.143122</td>\n",
       "      <td>0.242077</td>\n",
       "      <td>0.264976</td>\n",
       "      <td>b</td>\n",
       "    </tr>\n",
       "    <tr>\n",
       "      <th>row3</th>\n",
       "      <td>0.579464</td>\n",
       "      <td>0.235423</td>\n",
       "      <td>0.819173</td>\n",
       "      <td>c</td>\n",
       "    </tr>\n",
       "  </tbody>\n",
       "</table>\n",
       "</div>"
      ],
      "text/plain": [
       "             a         b         c a_new_column\n",
       "row1  0.642151  0.659450  0.338003            a\n",
       "row2  0.143122  0.242077  0.264976            b\n",
       "row3  0.579464  0.235423  0.819173            c"
      ]
     },
     "execution_count": 67,
     "metadata": {},
     "output_type": "execute_result"
    }
   ],
   "source": [
    "df[\"a_new_column\"] = [\"a\", \"b\", \"c\"]\n",
    "df"
   ]
  },
  {
   "cell_type": "markdown",
   "id": "ed7b1ae5",
   "metadata": {
    "slideshow": {
     "slide_type": "subslide"
    }
   },
   "source": [
    "### Add new rows"
   ]
  },
  {
   "cell_type": "markdown",
   "id": "f523d424",
   "metadata": {},
   "source": [
    "We can add new rows to a dataframe (more rare). In this case we use concatenation:"
   ]
  },
  {
   "cell_type": "code",
   "execution_count": 68,
   "id": "eaad3a39",
   "metadata": {
    "jupyter": {
     "outputs_hidden": false
    }
   },
   "outputs": [
    {
     "data": {
      "text/html": [
       "<div>\n",
       "<style scoped>\n",
       "    .dataframe tbody tr th:only-of-type {\n",
       "        vertical-align: middle;\n",
       "    }\n",
       "\n",
       "    .dataframe tbody tr th {\n",
       "        vertical-align: top;\n",
       "    }\n",
       "\n",
       "    .dataframe thead th {\n",
       "        text-align: right;\n",
       "    }\n",
       "</style>\n",
       "<table border=\"1\" class=\"dataframe\">\n",
       "  <thead>\n",
       "    <tr style=\"text-align: right;\">\n",
       "      <th></th>\n",
       "      <th>col1</th>\n",
       "      <th>col2</th>\n",
       "    </tr>\n",
       "  </thead>\n",
       "  <tbody>\n",
       "    <tr>\n",
       "      <th>0</th>\n",
       "      <td>99</td>\n",
       "      <td>95</td>\n",
       "    </tr>\n",
       "    <tr>\n",
       "      <th>1</th>\n",
       "      <td>95</td>\n",
       "      <td>90</td>\n",
       "    </tr>\n",
       "    <tr>\n",
       "      <th>2</th>\n",
       "      <td>92</td>\n",
       "      <td>99</td>\n",
       "    </tr>\n",
       "    <tr>\n",
       "      <th>0</th>\n",
       "      <td>100</td>\n",
       "      <td>101</td>\n",
       "    </tr>\n",
       "  </tbody>\n",
       "</table>\n",
       "</div>"
      ],
      "text/plain": [
       "   col1  col2\n",
       "0    99    95\n",
       "1    95    90\n",
       "2    92    99\n",
       "0   100   101"
      ]
     },
     "execution_count": 68,
     "metadata": {},
     "output_type": "execute_result"
    }
   ],
   "source": [
    "df1 = pd.DataFrame(dict(col1=[99, 95, 92],\n",
    "                        col2=[95, 90, 99]))\n",
    "\n",
    "# Create another dataframe:\n",
    "df2 = pd.DataFrame(dict(col1=[100],\n",
    "                        col2=[101]))\n",
    "#\n",
    "# Concat dataframes\n",
    "pd.concat([df1, df2])"
   ]
  },
  {
   "cell_type": "markdown",
   "id": "e2e63bd7",
   "metadata": {
    "slideshow": {
     "slide_type": "subslide"
    }
   },
   "source": [
    "Note how indexes match the indexes of the original arrays! If we want, we can reassign it:"
   ]
  },
  {
   "cell_type": "code",
   "execution_count": 70,
   "id": "d51b4e11",
   "metadata": {
    "jupyter": {
     "outputs_hidden": false
    }
   },
   "outputs": [
    {
     "data": {
      "text/html": [
       "<div>\n",
       "<style scoped>\n",
       "    .dataframe tbody tr th:only-of-type {\n",
       "        vertical-align: middle;\n",
       "    }\n",
       "\n",
       "    .dataframe tbody tr th {\n",
       "        vertical-align: top;\n",
       "    }\n",
       "\n",
       "    .dataframe thead th {\n",
       "        text-align: right;\n",
       "    }\n",
       "</style>\n",
       "<table border=\"1\" class=\"dataframe\">\n",
       "  <thead>\n",
       "    <tr style=\"text-align: right;\">\n",
       "      <th></th>\n",
       "      <th>index</th>\n",
       "      <th>col1</th>\n",
       "      <th>col2</th>\n",
       "    </tr>\n",
       "  </thead>\n",
       "  <tbody>\n",
       "    <tr>\n",
       "      <th>0</th>\n",
       "      <td>0</td>\n",
       "      <td>99</td>\n",
       "      <td>95</td>\n",
       "    </tr>\n",
       "    <tr>\n",
       "      <th>1</th>\n",
       "      <td>1</td>\n",
       "      <td>95</td>\n",
       "      <td>90</td>\n",
       "    </tr>\n",
       "    <tr>\n",
       "      <th>2</th>\n",
       "      <td>2</td>\n",
       "      <td>92</td>\n",
       "      <td>99</td>\n",
       "    </tr>\n",
       "    <tr>\n",
       "      <th>3</th>\n",
       "      <td>0</td>\n",
       "      <td>100</td>\n",
       "      <td>101</td>\n",
       "    </tr>\n",
       "  </tbody>\n",
       "</table>\n",
       "</div>"
      ],
      "text/plain": [
       "   index  col1  col2\n",
       "0      0    99    95\n",
       "1      1    95    90\n",
       "2      2    92    99\n",
       "3      0   100   101"
      ]
     },
     "execution_count": 70,
     "metadata": {},
     "output_type": "execute_result"
    }
   ],
   "source": [
    "pd.concat([df1, df2]).reset_index()"
   ]
  },
  {
   "cell_type": "markdown",
   "id": "4651d8f9",
   "metadata": {
    "slideshow": {
     "slide_type": "slide"
    }
   },
   "source": [
    "(Practicals 1.2.0)"
   ]
  },
  {
   "cell_type": "markdown",
   "id": "a03e27bd",
   "metadata": {
    "slideshow": {
     "slide_type": "subslide"
    }
   },
   "source": [
    "### `pd.DataFrame`'s methods"
   ]
  },
  {
   "cell_type": "markdown",
   "id": "940d3497",
   "metadata": {
    "slideshow": {
     "slide_type": "fragment"
    }
   },
   "source": [
    "`pd.DataFrame`s and `pd.Series` have many, many methods!"
   ]
  },
  {
   "cell_type": "markdown",
   "id": "7ad4023a",
   "metadata": {
    "slideshow": {
     "slide_type": "fragment"
    }
   },
   "source": [
    "(Why those are methods and not functions? There's a reason, we'll get to that...)"
   ]
  },
  {
   "cell_type": "markdown",
   "id": "fa24ca0f",
   "metadata": {
    "slideshow": {
     "slide_type": "fragment"
    }
   },
   "source": [
    "It is actually way too many to cover in a single lecture! It is more important to know that they exist, and to know how to find them! (google, stackoverflow, pandas documentation, chatGPT...)"
   ]
  },
  {
   "cell_type": "markdown",
   "id": "d122ea09",
   "metadata": {
    "jupyter": {
     "outputs_hidden": false
    },
    "slideshow": {
     "slide_type": "subslide"
    }
   },
   "source": [
    "### Methods to change the df content"
   ]
  },
  {
   "cell_type": "markdown",
   "id": "1dc8f656",
   "metadata": {},
   "source": [
    "Methods to drop rows/columns:"
   ]
  },
  {
   "cell_type": "code",
   "execution_count": 71,
   "id": "38baff29",
   "metadata": {
    "ExecuteTime": {
     "end_time": "2023-05-14T22:23:27.633433Z",
     "start_time": "2023-05-14T22:23:27.630183Z"
    },
    "jupyter": {
     "outputs_hidden": false
    }
   },
   "outputs": [
    {
     "data": {
      "text/html": [
       "<div>\n",
       "<style scoped>\n",
       "    .dataframe tbody tr th:only-of-type {\n",
       "        vertical-align: middle;\n",
       "    }\n",
       "\n",
       "    .dataframe tbody tr th {\n",
       "        vertical-align: top;\n",
       "    }\n",
       "\n",
       "    .dataframe thead th {\n",
       "        text-align: right;\n",
       "    }\n",
       "</style>\n",
       "<table border=\"1\" class=\"dataframe\">\n",
       "  <thead>\n",
       "    <tr style=\"text-align: right;\">\n",
       "      <th></th>\n",
       "      <th>int_col</th>\n",
       "      <th>float_col</th>\n",
       "      <th>str_col</th>\n",
       "    </tr>\n",
       "  </thead>\n",
       "  <tbody>\n",
       "    <tr>\n",
       "      <th>0</th>\n",
       "      <td>3</td>\n",
       "      <td>4.0</td>\n",
       "      <td>a</td>\n",
       "    </tr>\n",
       "    <tr>\n",
       "      <th>1</th>\n",
       "      <td>2</td>\n",
       "      <td>5.0</td>\n",
       "      <td>d</td>\n",
       "    </tr>\n",
       "    <tr>\n",
       "      <th>2</th>\n",
       "      <td>1</td>\n",
       "      <td>0.6</td>\n",
       "      <td>c</td>\n",
       "    </tr>\n",
       "    <tr>\n",
       "      <th>3</th>\n",
       "      <td>1</td>\n",
       "      <td>7.0</td>\n",
       "      <td>a</td>\n",
       "    </tr>\n",
       "  </tbody>\n",
       "</table>\n",
       "</div>"
      ],
      "text/plain": [
       "   int_col  float_col str_col\n",
       "0        3        4.0       a\n",
       "1        2        5.0       d\n",
       "2        1        0.6       c\n",
       "3        1        7.0       a"
      ]
     },
     "execution_count": 71,
     "metadata": {},
     "output_type": "execute_result"
    }
   ],
   "source": [
    "dict_array = dict(int_col=[3, 2, 1, 1], float_col=[4., 5., .6, 7.], str_col=[\"a\", \"d\", \"c\", \"a\"])\n",
    "df = pd.DataFrame(dict_array)\n",
    "\n",
    "df"
   ]
  },
  {
   "cell_type": "code",
   "execution_count": 73,
   "id": "4683cb18",
   "metadata": {
    "ExecuteTime": {
     "end_time": "2023-05-14T22:23:27.862596Z",
     "start_time": "2023-05-14T22:23:27.858945Z"
    },
    "jupyter": {
     "outputs_hidden": false
    },
    "slideshow": {
     "slide_type": "subslide"
    }
   },
   "outputs": [
    {
     "data": {
      "text/html": [
       "<div>\n",
       "<style scoped>\n",
       "    .dataframe tbody tr th:only-of-type {\n",
       "        vertical-align: middle;\n",
       "    }\n",
       "\n",
       "    .dataframe tbody tr th {\n",
       "        vertical-align: top;\n",
       "    }\n",
       "\n",
       "    .dataframe thead th {\n",
       "        text-align: right;\n",
       "    }\n",
       "</style>\n",
       "<table border=\"1\" class=\"dataframe\">\n",
       "  <thead>\n",
       "    <tr style=\"text-align: right;\">\n",
       "      <th></th>\n",
       "      <th>float_col</th>\n",
       "    </tr>\n",
       "  </thead>\n",
       "  <tbody>\n",
       "    <tr>\n",
       "      <th>0</th>\n",
       "      <td>4.0</td>\n",
       "    </tr>\n",
       "    <tr>\n",
       "      <th>1</th>\n",
       "      <td>5.0</td>\n",
       "    </tr>\n",
       "    <tr>\n",
       "      <th>2</th>\n",
       "      <td>0.6</td>\n",
       "    </tr>\n",
       "    <tr>\n",
       "      <th>3</th>\n",
       "      <td>7.0</td>\n",
       "    </tr>\n",
       "  </tbody>\n",
       "</table>\n",
       "</div>"
      ],
      "text/plain": [
       "   float_col\n",
       "0        4.0\n",
       "1        5.0\n",
       "2        0.6\n",
       "3        7.0"
      ]
     },
     "execution_count": 73,
     "metadata": {},
     "output_type": "execute_result"
    }
   ],
   "source": [
    "df.drop(columns=[\"int_col\", \"str_col\"])  # drop columns"
   ]
  },
  {
   "cell_type": "code",
   "execution_count": 74,
   "id": "f65bed68",
   "metadata": {
    "ExecuteTime": {
     "end_time": "2023-05-14T22:23:28.410963Z",
     "start_time": "2023-05-14T22:23:28.407455Z"
    },
    "jupyter": {
     "outputs_hidden": false
    },
    "slideshow": {
     "slide_type": "subslide"
    }
   },
   "outputs": [
    {
     "data": {
      "text/html": [
       "<div>\n",
       "<style scoped>\n",
       "    .dataframe tbody tr th:only-of-type {\n",
       "        vertical-align: middle;\n",
       "    }\n",
       "\n",
       "    .dataframe tbody tr th {\n",
       "        vertical-align: top;\n",
       "    }\n",
       "\n",
       "    .dataframe thead th {\n",
       "        text-align: right;\n",
       "    }\n",
       "</style>\n",
       "<table border=\"1\" class=\"dataframe\">\n",
       "  <thead>\n",
       "    <tr style=\"text-align: right;\">\n",
       "      <th></th>\n",
       "      <th>int_col</th>\n",
       "      <th>float_col</th>\n",
       "      <th>str_col</th>\n",
       "    </tr>\n",
       "  </thead>\n",
       "  <tbody>\n",
       "    <tr>\n",
       "      <th>1</th>\n",
       "      <td>2</td>\n",
       "      <td>5.0</td>\n",
       "      <td>d</td>\n",
       "    </tr>\n",
       "    <tr>\n",
       "      <th>3</th>\n",
       "      <td>1</td>\n",
       "      <td>7.0</td>\n",
       "      <td>a</td>\n",
       "    </tr>\n",
       "  </tbody>\n",
       "</table>\n",
       "</div>"
      ],
      "text/plain": [
       "   int_col  float_col str_col\n",
       "1        2        5.0       d\n",
       "3        1        7.0       a"
      ]
     },
     "execution_count": 74,
     "metadata": {},
     "output_type": "execute_result"
    }
   ],
   "source": [
    "df.drop(index=[0, 2])  # drop rows"
   ]
  },
  {
   "cell_type": "markdown",
   "id": "1ea8a2d7",
   "metadata": {
    "slideshow": {
     "slide_type": "subslide"
    }
   },
   "source": [
    "Methods to sort rows/columns:"
   ]
  },
  {
   "cell_type": "code",
   "execution_count": 75,
   "id": "0ca837cc",
   "metadata": {
    "ExecuteTime": {
     "end_time": "2023-05-14T22:23:49.896491Z",
     "start_time": "2023-05-14T22:23:49.891356Z"
    },
    "jupyter": {
     "outputs_hidden": false
    }
   },
   "outputs": [
    {
     "data": {
      "text/html": [
       "<div>\n",
       "<style scoped>\n",
       "    .dataframe tbody tr th:only-of-type {\n",
       "        vertical-align: middle;\n",
       "    }\n",
       "\n",
       "    .dataframe tbody tr th {\n",
       "        vertical-align: top;\n",
       "    }\n",
       "\n",
       "    .dataframe thead th {\n",
       "        text-align: right;\n",
       "    }\n",
       "</style>\n",
       "<table border=\"1\" class=\"dataframe\">\n",
       "  <thead>\n",
       "    <tr style=\"text-align: right;\">\n",
       "      <th></th>\n",
       "      <th>int_col</th>\n",
       "      <th>float_col</th>\n",
       "      <th>str_col</th>\n",
       "    </tr>\n",
       "  </thead>\n",
       "  <tbody>\n",
       "    <tr>\n",
       "      <th>2</th>\n",
       "      <td>1</td>\n",
       "      <td>0.6</td>\n",
       "      <td>c</td>\n",
       "    </tr>\n",
       "    <tr>\n",
       "      <th>3</th>\n",
       "      <td>1</td>\n",
       "      <td>7.0</td>\n",
       "      <td>a</td>\n",
       "    </tr>\n",
       "    <tr>\n",
       "      <th>1</th>\n",
       "      <td>2</td>\n",
       "      <td>5.0</td>\n",
       "      <td>d</td>\n",
       "    </tr>\n",
       "    <tr>\n",
       "      <th>0</th>\n",
       "      <td>3</td>\n",
       "      <td>4.0</td>\n",
       "      <td>a</td>\n",
       "    </tr>\n",
       "  </tbody>\n",
       "</table>\n",
       "</div>"
      ],
      "text/plain": [
       "   int_col  float_col str_col\n",
       "2        1        0.6       c\n",
       "3        1        7.0       a\n",
       "1        2        5.0       d\n",
       "0        3        4.0       a"
      ]
     },
     "execution_count": 75,
     "metadata": {},
     "output_type": "execute_result"
    }
   ],
   "source": [
    "df.sort_values(by=\"int_col\") # sort by a column"
   ]
  },
  {
   "cell_type": "code",
   "execution_count": null,
   "id": "bf982f9f",
   "metadata": {
    "ExecuteTime": {
     "end_time": "2023-05-14T22:23:38.158467Z",
     "start_time": "2023-05-14T22:23:38.155604Z"
    },
    "jupyter": {
     "outputs_hidden": false
    },
    "slideshow": {
     "slide_type": "subslide"
    }
   },
   "outputs": [],
   "source": [
    "df.sort_values(by=[\"int_col\", \"float_col\"])  # sort by multiple columns"
   ]
  },
  {
   "cell_type": "markdown",
   "id": "16ae3303",
   "metadata": {
    "slideshow": {
     "slide_type": "subslide"
    }
   },
   "source": [
    "### Methods for statistics"
   ]
  },
  {
   "cell_type": "code",
   "execution_count": 76,
   "id": "70d207e9",
   "metadata": {
    "ExecuteTime": {
     "end_time": "2023-05-14T22:27:57.979525Z",
     "start_time": "2023-05-14T22:27:57.244987Z"
    },
    "jupyter": {
     "outputs_hidden": false
    }
   },
   "outputs": [
    {
     "data": {
      "text/html": [
       "<div>\n",
       "<style scoped>\n",
       "    .dataframe tbody tr th:only-of-type {\n",
       "        vertical-align: middle;\n",
       "    }\n",
       "\n",
       "    .dataframe tbody tr th {\n",
       "        vertical-align: top;\n",
       "    }\n",
       "\n",
       "    .dataframe thead th {\n",
       "        text-align: right;\n",
       "    }\n",
       "</style>\n",
       "<table border=\"1\" class=\"dataframe\">\n",
       "  <thead>\n",
       "    <tr style=\"text-align: right;\">\n",
       "      <th></th>\n",
       "      <th>time</th>\n",
       "      <th>temperature_2m (°C)</th>\n",
       "      <th>relativehumidity_2m (%)</th>\n",
       "      <th>precipitation (mm)</th>\n",
       "      <th>windspeed_10m (km/h)</th>\n",
       "      <th>winddirection_10m (°)</th>\n",
       "    </tr>\n",
       "  </thead>\n",
       "  <tbody>\n",
       "    <tr>\n",
       "      <th>0</th>\n",
       "      <td>2023-02-01T00:00</td>\n",
       "      <td>4.6</td>\n",
       "      <td>77</td>\n",
       "      <td>0.1</td>\n",
       "      <td>20.9</td>\n",
       "      <td>274</td>\n",
       "    </tr>\n",
       "    <tr>\n",
       "      <th>1</th>\n",
       "      <td>2023-02-01T01:00</td>\n",
       "      <td>4.5</td>\n",
       "      <td>76</td>\n",
       "      <td>0.2</td>\n",
       "      <td>20.5</td>\n",
       "      <td>273</td>\n",
       "    </tr>\n",
       "    <tr>\n",
       "      <th>2</th>\n",
       "      <td>2023-02-01T02:00</td>\n",
       "      <td>4.5</td>\n",
       "      <td>74</td>\n",
       "      <td>0.0</td>\n",
       "      <td>20.5</td>\n",
       "      <td>273</td>\n",
       "    </tr>\n",
       "    <tr>\n",
       "      <th>3</th>\n",
       "      <td>2023-02-01T03:00</td>\n",
       "      <td>4.4</td>\n",
       "      <td>77</td>\n",
       "      <td>0.0</td>\n",
       "      <td>18.4</td>\n",
       "      <td>269</td>\n",
       "    </tr>\n",
       "    <tr>\n",
       "      <th>4</th>\n",
       "      <td>2023-02-01T04:00</td>\n",
       "      <td>4.3</td>\n",
       "      <td>77</td>\n",
       "      <td>0.0</td>\n",
       "      <td>17.1</td>\n",
       "      <td>262</td>\n",
       "    </tr>\n",
       "  </tbody>\n",
       "</table>\n",
       "</div>"
      ],
      "text/plain": [
       "               time  temperature_2m (°C)  relativehumidity_2m (%)   \n",
       "0  2023-02-01T00:00                  4.6                       77  \\\n",
       "1  2023-02-01T01:00                  4.5                       76   \n",
       "2  2023-02-01T02:00                  4.5                       74   \n",
       "3  2023-02-01T03:00                  4.4                       77   \n",
       "4  2023-02-01T04:00                  4.3                       77   \n",
       "\n",
       "   precipitation (mm)  windspeed_10m (km/h)  winddirection_10m (°)  \n",
       "0                 0.1                  20.9                    274  \n",
       "1                 0.2                  20.5                    273  \n",
       "2                 0.0                  20.5                    273  \n",
       "3                 0.0                  18.4                    269  \n",
       "4                 0.0                  17.1                    262  "
      ]
     },
     "execution_count": 76,
     "metadata": {},
     "output_type": "execute_result"
    }
   ],
   "source": [
    "df = get_meteo_dataset()\n",
    "\n",
    "df.head()  # show first 5 rows"
   ]
  },
  {
   "cell_type": "code",
   "execution_count": 86,
   "id": "59a5dcc2",
   "metadata": {
    "ExecuteTime": {
     "end_time": "2023-05-14T22:28:00.182426Z",
     "start_time": "2023-05-14T22:28:00.176234Z"
    },
    "jupyter": {
     "outputs_hidden": false
    },
    "slideshow": {
     "slide_type": "subslide"
    }
   },
   "outputs": [
    {
     "data": {
      "text/plain": [
       "temperature_2m (°C)    7.963355\n",
       "precipitation (mm)     0.073504\n",
       "dtype: float64"
      ]
     },
     "execution_count": 86,
     "metadata": {},
     "output_type": "execute_result"
    }
   ],
   "source": [
    "means = df[[\"temperature_2m (°C)\", \"precipitation (mm)\"]].mean()\n",
    "means"
   ]
  },
  {
   "cell_type": "code",
   "execution_count": 78,
   "id": "bacce83d",
   "metadata": {
    "ExecuteTime": {
     "end_time": "2023-05-14T22:28:00.547235Z",
     "start_time": "2023-05-14T22:28:00.539351Z"
    },
    "jupyter": {
     "outputs_hidden": false
    }
   },
   "outputs": [
    {
     "data": {
      "text/plain": [
       "7.8"
      ]
     },
     "execution_count": 78,
     "metadata": {},
     "output_type": "execute_result"
    }
   ],
   "source": [
    "df[\"temperature_2m (°C)\"].median()"
   ]
  },
  {
   "cell_type": "code",
   "execution_count": 79,
   "id": "62d4c14e",
   "metadata": {
    "ExecuteTime": {
     "end_time": "2023-05-14T22:28:01.070462Z",
     "start_time": "2023-05-14T22:28:01.064676Z"
    },
    "jupyter": {
     "outputs_hidden": false
    }
   },
   "outputs": [
    {
     "data": {
      "text/plain": [
       "6.063801006799269"
      ]
     },
     "execution_count": 79,
     "metadata": {},
     "output_type": "execute_result"
    }
   ],
   "source": [
    "df[\"temperature_2m (°C)\"].std()"
   ]
  },
  {
   "cell_type": "code",
   "execution_count": 87,
   "id": "117f52b9",
   "metadata": {
    "ExecuteTime": {
     "end_time": "2023-05-14T22:28:02.512164Z",
     "start_time": "2023-05-14T22:28:02.500136Z"
    },
    "jupyter": {
     "outputs_hidden": false
    },
    "slideshow": {
     "slide_type": "subslide"
    }
   },
   "outputs": [
    {
     "data": {
      "text/html": [
       "<div>\n",
       "<style scoped>\n",
       "    .dataframe tbody tr th:only-of-type {\n",
       "        vertical-align: middle;\n",
       "    }\n",
       "\n",
       "    .dataframe tbody tr th {\n",
       "        vertical-align: top;\n",
       "    }\n",
       "\n",
       "    .dataframe thead th {\n",
       "        text-align: right;\n",
       "    }\n",
       "</style>\n",
       "<table border=\"1\" class=\"dataframe\">\n",
       "  <thead>\n",
       "    <tr style=\"text-align: right;\">\n",
       "      <th></th>\n",
       "      <th>temperature_2m (°C)</th>\n",
       "      <th>precipitation (mm)</th>\n",
       "      <th>windspeed_10m (km/h)</th>\n",
       "    </tr>\n",
       "  </thead>\n",
       "  <tbody>\n",
       "    <tr>\n",
       "      <th>count</th>\n",
       "      <td>2808.000000</td>\n",
       "      <td>2808.000000</td>\n",
       "      <td>2808.000000</td>\n",
       "    </tr>\n",
       "    <tr>\n",
       "      <th>mean</th>\n",
       "      <td>7.963355</td>\n",
       "      <td>0.073504</td>\n",
       "      <td>10.368091</td>\n",
       "    </tr>\n",
       "    <tr>\n",
       "      <th>std</th>\n",
       "      <td>6.063801</td>\n",
       "      <td>0.384389</td>\n",
       "      <td>5.015647</td>\n",
       "    </tr>\n",
       "    <tr>\n",
       "      <th>min</th>\n",
       "      <td>-7.400000</td>\n",
       "      <td>0.000000</td>\n",
       "      <td>0.400000</td>\n",
       "    </tr>\n",
       "    <tr>\n",
       "      <th>25%</th>\n",
       "      <td>3.300000</td>\n",
       "      <td>0.000000</td>\n",
       "      <td>6.400000</td>\n",
       "    </tr>\n",
       "    <tr>\n",
       "      <th>50%</th>\n",
       "      <td>7.800000</td>\n",
       "      <td>0.000000</td>\n",
       "      <td>9.700000</td>\n",
       "    </tr>\n",
       "    <tr>\n",
       "      <th>75%</th>\n",
       "      <td>11.800000</td>\n",
       "      <td>0.000000</td>\n",
       "      <td>13.700000</td>\n",
       "    </tr>\n",
       "    <tr>\n",
       "      <th>max</th>\n",
       "      <td>25.800000</td>\n",
       "      <td>14.200000</td>\n",
       "      <td>31.300000</td>\n",
       "    </tr>\n",
       "  </tbody>\n",
       "</table>\n",
       "</div>"
      ],
      "text/plain": [
       "       temperature_2m (°C)  precipitation (mm)  windspeed_10m (km/h)\n",
       "count          2808.000000         2808.000000           2808.000000\n",
       "mean              7.963355            0.073504             10.368091\n",
       "std               6.063801            0.384389              5.015647\n",
       "min              -7.400000            0.000000              0.400000\n",
       "25%               3.300000            0.000000              6.400000\n",
       "50%               7.800000            0.000000              9.700000\n",
       "75%              11.800000            0.000000             13.700000\n",
       "max              25.800000           14.200000             31.300000"
      ]
     },
     "execution_count": 87,
     "metadata": {},
     "output_type": "execute_result"
    }
   ],
   "source": [
    "df[[\"temperature_2m (°C)\", \"precipitation (mm)\", \"windspeed_10m (km/h)\"]].describe()"
   ]
  },
  {
   "cell_type": "markdown",
   "id": "08ee8cb7",
   "metadata": {
    "slideshow": {
     "slide_type": "subslide"
    }
   },
   "source": [
    "### `pd.DataFrame`'s plotting methods"
   ]
  },
  {
   "cell_type": "markdown",
   "id": "d785ebb4",
   "metadata": {},
   "source": [
    "`pd.DataFrame`s and `pd.Series` have many, many plotting methods!"
   ]
  },
  {
   "cell_type": "code",
   "execution_count": 88,
   "id": "103ecc2c",
   "metadata": {
    "ExecuteTime": {
     "end_time": "2023-05-14T22:28:12.801832Z",
     "start_time": "2023-05-14T22:28:08.104582Z"
    },
    "jupyter": {
     "outputs_hidden": false
    },
    "slideshow": {
     "slide_type": "subslide"
    }
   },
   "outputs": [
    {
     "data": {
      "text/plain": [
       "<Axes: >"
      ]
     },
     "execution_count": 88,
     "metadata": {},
     "output_type": "execute_result"
    },
    {
     "data": {
      "image/png": "[encoded data removed]",
      "text/plain": [
       "<Figure size 640x480 with 1 Axes>"
      ]
     },
     "metadata": {},
     "output_type": "display_data"
    }
   ],
   "source": [
    "df.plot()"
   ]
  },
  {
   "cell_type": "code",
   "execution_count": 89,
   "id": "c0fca7f2",
   "metadata": {
    "ExecuteTime": {
     "end_time": "2023-05-14T22:29:16.679871Z",
     "start_time": "2023-05-14T22:29:16.624756Z"
    },
    "jupyter": {
     "outputs_hidden": false
    },
    "slideshow": {
     "slide_type": "subslide"
    }
   },
   "outputs": [
    {
     "data": {
      "text/plain": [
       "<Axes: >"
      ]
     },
     "execution_count": 89,
     "metadata": {},
     "output_type": "execute_result"
    },
    {
     "data": {
      "image/png": "[encoded data removed]",
      "text/plain": [
       "<Figure size 640x480 with 1 Axes>"
      ]
     },
     "metadata": {},
     "output_type": "display_data"
    }
   ],
   "source": [
    "df[\"temperature_2m (°C)\"].plot(kind=\"box\")"
   ]
  },
  {
   "cell_type": "code",
   "execution_count": 90,
   "id": "267b9512",
   "metadata": {
    "ExecuteTime": {
     "end_time": "2023-05-14T22:29:24.482579Z",
     "start_time": "2023-05-14T22:29:24.397528Z"
    },
    "jupyter": {
     "outputs_hidden": false
    },
    "slideshow": {
     "slide_type": "subslide"
    }
   },
   "outputs": [
    {
     "data": {
      "text/plain": [
       "<Axes: ylabel='Frequency'>"
      ]
     },
     "execution_count": 90,
     "metadata": {},
     "output_type": "execute_result"
    },
    {
     "data": {
      "image/png": "[encoded data removed]",
      "text/plain": [
       "<Figure size 640x480 with 1 Axes>"
      ]
     },
     "metadata": {},
     "output_type": "display_data"
    }
   ],
   "source": [
    "df[\"temperature_2m (°C)\"].plot(kind=\"hist\")"
   ]
  },
  {
   "cell_type": "code",
   "execution_count": 91,
   "id": "2e88fee5",
   "metadata": {
    "ExecuteTime": {
     "end_time": "2023-05-14T22:29:51.353652Z",
     "start_time": "2023-05-14T22:29:51.264424Z"
    },
    "jupyter": {
     "outputs_hidden": false
    },
    "slideshow": {
     "slide_type": "subslide"
    }
   },
   "outputs": [
    {
     "data": {
      "text/plain": [
       "<Axes: xlabel='temperature_2m (°C)', ylabel='precipitation (mm)'>"
      ]
     },
     "execution_count": 91,
     "metadata": {},
     "output_type": "execute_result"
    },
    {
     "data": {
      "image/png": "[encoded data removed]",
      "text/plain": [
       "<Figure size 640x480 with 1 Axes>"
      ]
     },
     "metadata": {},
     "output_type": "display_data"
    }
   ],
   "source": [
    "df.plot(kind=\"scatter\", x=\"temperature_2m (°C)\", y=\"precipitation (mm)\")"
   ]
  },
  {
   "cell_type": "markdown",
   "id": "21b96d82",
   "metadata": {
    "slideshow": {
     "slide_type": "subslide"
    }
   },
   "source": [
    "### Methods to deal with missing data"
   ]
  },
  {
   "cell_type": "markdown",
   "id": "cfdcdc48",
   "metadata": {},
   "source": [
    "As in numpy, we represent missing data by `NaN` (not a number)."
   ]
  },
  {
   "cell_type": "code",
   "execution_count": 92,
   "id": "a4a0565a",
   "metadata": {
    "jupyter": {
     "outputs_hidden": false
    },
    "slideshow": {
     "slide_type": "-"
    }
   },
   "outputs": [],
   "source": [
    "df = pd.DataFrame(dict(a=[1, 2, np.nan, 4], b=[0, np.nan, 4, 5]))"
   ]
  },
  {
   "cell_type": "markdown",
   "id": "f26af9b8",
   "metadata": {
    "slideshow": {
     "slide_type": "subslide"
    }
   },
   "source": [
    "To deal with missing data, we can use `pd.DataFrame`'s interpolation methods. By default, it will use linear interpolation:"
   ]
  },
  {
   "cell_type": "code",
   "execution_count": 93,
   "id": "51eb2891",
   "metadata": {},
   "outputs": [
    {
     "data": {
      "text/html": [
       "<div>\n",
       "<style scoped>\n",
       "    .dataframe tbody tr th:only-of-type {\n",
       "        vertical-align: middle;\n",
       "    }\n",
       "\n",
       "    .dataframe tbody tr th {\n",
       "        vertical-align: top;\n",
       "    }\n",
       "\n",
       "    .dataframe thead th {\n",
       "        text-align: right;\n",
       "    }\n",
       "</style>\n",
       "<table border=\"1\" class=\"dataframe\">\n",
       "  <thead>\n",
       "    <tr style=\"text-align: right;\">\n",
       "      <th></th>\n",
       "      <th>a</th>\n",
       "      <th>b</th>\n",
       "    </tr>\n",
       "  </thead>\n",
       "  <tbody>\n",
       "    <tr>\n",
       "      <th>0</th>\n",
       "      <td>1.0</td>\n",
       "      <td>0.0</td>\n",
       "    </tr>\n",
       "    <tr>\n",
       "      <th>1</th>\n",
       "      <td>2.0</td>\n",
       "      <td>NaN</td>\n",
       "    </tr>\n",
       "    <tr>\n",
       "      <th>2</th>\n",
       "      <td>NaN</td>\n",
       "      <td>4.0</td>\n",
       "    </tr>\n",
       "    <tr>\n",
       "      <th>3</th>\n",
       "      <td>4.0</td>\n",
       "      <td>5.0</td>\n",
       "    </tr>\n",
       "  </tbody>\n",
       "</table>\n",
       "</div>"
      ],
      "text/plain": [
       "     a    b\n",
       "0  1.0  0.0\n",
       "1  2.0  NaN\n",
       "2  NaN  4.0\n",
       "3  4.0  5.0"
      ]
     },
     "execution_count": 93,
     "metadata": {},
     "output_type": "execute_result"
    }
   ],
   "source": [
    "df"
   ]
  },
  {
   "cell_type": "code",
   "execution_count": 94,
   "id": "ef30cf60",
   "metadata": {
    "jupyter": {
     "outputs_hidden": false
    }
   },
   "outputs": [
    {
     "data": {
      "text/html": [
       "<div>\n",
       "<style scoped>\n",
       "    .dataframe tbody tr th:only-of-type {\n",
       "        vertical-align: middle;\n",
       "    }\n",
       "\n",
       "    .dataframe tbody tr th {\n",
       "        vertical-align: top;\n",
       "    }\n",
       "\n",
       "    .dataframe thead th {\n",
       "        text-align: right;\n",
       "    }\n",
       "</style>\n",
       "<table border=\"1\" class=\"dataframe\">\n",
       "  <thead>\n",
       "    <tr style=\"text-align: right;\">\n",
       "      <th></th>\n",
       "      <th>a</th>\n",
       "      <th>b</th>\n",
       "    </tr>\n",
       "  </thead>\n",
       "  <tbody>\n",
       "    <tr>\n",
       "      <th>0</th>\n",
       "      <td>1.0</td>\n",
       "      <td>0.0</td>\n",
       "    </tr>\n",
       "    <tr>\n",
       "      <th>1</th>\n",
       "      <td>2.0</td>\n",
       "      <td>2.0</td>\n",
       "    </tr>\n",
       "    <tr>\n",
       "      <th>2</th>\n",
       "      <td>3.0</td>\n",
       "      <td>4.0</td>\n",
       "    </tr>\n",
       "    <tr>\n",
       "      <th>3</th>\n",
       "      <td>4.0</td>\n",
       "      <td>5.0</td>\n",
       "    </tr>\n",
       "  </tbody>\n",
       "</table>\n",
       "</div>"
      ],
      "text/plain": [
       "     a    b\n",
       "0  1.0  0.0\n",
       "1  2.0  2.0\n",
       "2  3.0  4.0\n",
       "3  4.0  5.0"
      ]
     },
     "execution_count": 94,
     "metadata": {},
     "output_type": "execute_result"
    }
   ],
   "source": [
    "df.interpolate()"
   ]
  },
  {
   "cell_type": "markdown",
   "id": "77fd47a8",
   "metadata": {
    "slideshow": {
     "slide_type": "slide"
    }
   },
   "source": [
    "(Practicals 1.2.1)"
   ]
  }
 ],
 "metadata": {
  "celltoolbar": "Slideshow",
  "kernelspec": {
   "display_name": "Python [conda env:course_env]",
   "language": "python",
   "name": "conda-env-course_env-py"
  },
  "language_info": {
   "codemirror_mode": {
    "name": "ipython",
    "version": 3
   },
   "file_extension": ".py",
   "mimetype": "text/x-python",
   "name": "python",
   "nbconvert_exporter": "python",
   "pygments_lexer": "ipython3",
   "version": "3.9.16"
  }
 },
 "nbformat": 4,
 "nbformat_minor": 5
}
