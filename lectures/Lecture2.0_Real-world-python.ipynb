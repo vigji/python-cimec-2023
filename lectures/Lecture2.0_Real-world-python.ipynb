{
 "cells": [
  {
   "cell_type": "markdown",
   "id": "3ca811a3",
   "metadata": {},
   "source": [
    "# Python for (open) Neuroscience\n",
    "\n",
    "_Lecture 2.0_ - Real world Python\n",
    "\n",
    "Luigi Petrucco\n",
    "\n",
    "Jean-Charles Mariani\n",
    "\n",
    "[![Open In Colab](https://colab.research.google.com/assets/colab-badge.svg)](https://colab.research.google.com/github/vigji/python-cimec/blob/main/lectures/Lecture2.0_Real-world-Python.ipynb)"
   ]
  },
  {
   "cell_type": "markdown",
   "id": "cce6b483",
   "metadata": {},
   "source": [
    "### Observations from the feedbacks"
   ]
  },
  {
   "cell_type": "code",
   "execution_count": null,
   "id": "30ed8490",
   "metadata": {},
   "outputs": [],
   "source": []
  },
  {
   "cell_type": "code",
   "execution_count": null,
   "id": "b1aafc82",
   "metadata": {},
   "outputs": [],
   "source": []
  },
  {
   "cell_type": "code",
   "execution_count": null,
   "id": "0d8c86c4",
   "metadata": {},
   "outputs": [],
   "source": []
  },
  {
   "cell_type": "markdown",
   "id": "3372df5a",
   "metadata": {},
   "source": [
    "You have installed Python (and a bunch of other things)..."
   ]
  },
  {
   "cell_type": "markdown",
   "id": "dec15730",
   "metadata": {},
   "source": [
    "...what does that mean?"
   ]
  },
  {
   "cell_type": "markdown",
   "id": "253063db",
   "metadata": {},
   "source": [
    "The content of this section is not essential to the usage of Python, but knowing those topics makes it much easier to fix the issues that you might have on Python versions and packages installation!"
   ]
  },
  {
   "cell_type": "markdown",
   "id": "51c2ba7b",
   "metadata": {},
   "source": [
    "(unfortunately, many! Python's main issue is notoriously the bugs that can arise from python and packages versioning)\n",
    "\n",
    "\n",
    "![xkcd_env](./files/python_environment_2x.png)"
   ]
  },
  {
   "cell_type": "markdown",
   "id": "a7419fdc",
   "metadata": {},
   "source": [
    "### Preface: using the terminal"
   ]
  },
  {
   "cell_type": "markdown",
   "id": "be516da1",
   "metadata": {},
   "source": [
    "Many, many things in dealing with a local Python installation are smoother if we learn the very basics of what we can do when we write stuff in the terminal/prompt of your operative systems."
   ]
  },
  {
   "cell_type": "markdown",
   "id": "53979a0e",
   "metadata": {},
   "source": [
    "(for Windows users, the terminal is called Command Prompt; for mac users, it is called Terminal; for Linux users, shell/terminal; the few things we'll see here apply to all)"
   ]
  },
  {
   "cell_type": "markdown",
   "id": "e867b2d0",
   "metadata": {},
   "source": [
    "The main thing we will do from the terminal is to run programs. Those programs can do many things - as many as the programs you are used to open with mouse clicking and use with a graphical interface!"
   ]
  },
  {
   "cell_type": "code",
   "execution_count": null,
   "id": "d28fa202",
   "metadata": {},
   "outputs": [],
   "source": []
  },
  {
   "cell_type": "markdown",
   "id": "7ae9ee80",
   "metadata": {},
   "source": [
    "In what follows, remember that every time we are writing stuff there, what we are actually doing is to call the various programs we name!"
   ]
  },
  {
   "cell_type": "code",
   "execution_count": null,
   "id": "d0f8cb7b",
   "metadata": {},
   "outputs": [],
   "source": []
  },
  {
   "cell_type": "code",
   "execution_count": null,
   "id": "b52be974",
   "metadata": {},
   "outputs": [],
   "source": []
  },
  {
   "cell_type": "code",
   "execution_count": null,
   "id": "5a58f380",
   "metadata": {},
   "outputs": [],
   "source": []
  },
  {
   "cell_type": "markdown",
   "id": "20a4d6a0",
   "metadata": {},
   "source": [
    "### Parts of a Python installation"
   ]
  },
  {
   "cell_type": "markdown",
   "id": "107c4e7a",
   "metadata": {},
   "source": [
    "Here we give an overview of the interacting components of a local Python installation."
   ]
  },
  {
   "cell_type": "markdown",
   "id": "ffc30d4d",
   "metadata": {},
   "source": [
    "### Essential parts"
   ]
  },
  {
   "cell_type": "markdown",
   "id": "f4c25b62",
   "metadata": {},
   "source": [
    "<span style=\"color:indianred\">Python interpreter</span>: the Python interpreter is the main little program that runs line by line the instructions that we write in our Python code. The Python interpreter is an executable compiled for your specific operative system (as any other program you normally use on your computer), and kept at a specific location."
   ]
  },
  {
   "cell_type": "markdown",
   "id": "05b51585",
   "metadata": {},
   "source": [
    "<span style=\"color:indianred\">Standard libraries/packages</span>: each Python interpreter comes with a bunch of pre-installed libraries that we do not have to install. For example, `random` is one of such libraries."
   ]
  },
  {
   "cell_type": "markdown",
   "id": "675e41c3",
   "metadata": {},
   "source": [
    "<span style=\"color:indianred\">Third party libraries/packages</span>: Many libraries are not pre-installed, and we actually need to install them ourselves to be able to use them from our interpreter. `numpy` and  `pandas` are examples of such libraries. Although broadly used, they are not \"standard Python\", they come from different developers."
   ]
  },
  {
   "cell_type": "markdown",
   "id": "6837f12d",
   "metadata": {},
   "source": [
    "(Note that the Python interpreter that was running our Google Colab notebooks already had everything installed, so we never had to deal with an installation)"
   ]
  },
  {
   "cell_type": "markdown",
   "id": "09ac41a3",
   "metadata": {},
   "source": [
    "<span style=\"color:indianred\">A library/package manager</span>: to be able to use third-party packages and libraries, we need a way to find them and install them. a package manager is a tool that allows us to do that! `pip` and `conda` are the most common ones. More on them later"
   ]
  },
  {
   "cell_type": "markdown",
   "id": "dd77a43a",
   "metadata": {},
   "source": [
    "### Optional parts"
   ]
  },
  {
   "cell_type": "markdown",
   "id": "06924590",
   "metadata": {},
   "source": [
    "<span style=\"color:indianred\">An environment manager</span> It is very common to use Python environment managers. "
   ]
  },
  {
   "cell_type": "code",
   "execution_count": null,
   "id": "a8830615",
   "metadata": {},
   "outputs": [],
   "source": []
  },
  {
   "cell_type": "code",
   "execution_count": null,
   "id": "b62878f1",
   "metadata": {},
   "outputs": [],
   "source": []
  },
  {
   "cell_type": "code",
   "execution_count": null,
   "id": "d462ac8a",
   "metadata": {},
   "outputs": [],
   "source": []
  },
  {
   "cell_type": "code",
   "execution_count": null,
   "id": "5929db60",
   "metadata": {},
   "outputs": [],
   "source": [
    "import pandas as pd\n",
    "import numpy as np\n",
    "from matplotlib import pyplot as plt"
   ]
  },
  {
   "cell_type": "markdown",
   "id": "b0b94b5f",
   "metadata": {},
   "source": [
    "Practicals 1.4.2"
   ]
  }
 ],
 "metadata": {
  "celltoolbar": "Slideshow",
  "kernelspec": {
   "display_name": "Python [conda env:course_env]",
   "language": "python",
   "name": "conda-env-course_env-py"
  },
  "language_info": {
   "codemirror_mode": {
    "name": "ipython",
    "version": 3
   },
   "file_extension": ".py",
   "mimetype": "text/x-python",
   "name": "python",
   "nbconvert_exporter": "python",
   "pygments_lexer": "ipython3"
  }
 },
 "nbformat": 4,
 "nbformat_minor": 5
}
