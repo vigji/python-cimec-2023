{
 "cells": [
  {
   "cell_type": "markdown",
   "id": "3ca811a3",
   "metadata": {},
   "source": [
    "# Python for (open) Neuroscience\n",
    "\n",
    "_Lecture 2.0_ - Real world Python, demystified \n",
    "\n",
    "Luigi Petrucco\n",
    "\n",
    "Jean-Charles Mariani\n",
    "\n",
    "[![Open In Colab](https://colab.research.google.com/assets/colab-badge.svg)](https://colab.research.google.com/github/vigji/python-cimec/blob/main/lectures/Lecture2.0_Real-world-Python.ipynb)"
   ]
  },
  {
   "cell_type": "markdown",
   "id": "8b271825",
   "metadata": {},
   "source": [
    "## Observations from the feedbacks"
   ]
  },
  {
   "cell_type": "markdown",
   "id": "05abdd1b",
   "metadata": {},
   "source": [
    "(If you want, responses are [here](https://docs.google.com/spreadsheets/d/1wXLMzSV-iwNQx_jC5UE0sDdxmEevCkxzUzVnQ1rAYpc/edit?resourcekey#gid=1548707392))"
   ]
  },
  {
   "cell_type": "markdown",
   "id": "2b3ed6ce",
   "metadata": {},
   "source": [
    "- we won't change schedule"
   ]
  },
  {
   "cell_type": "markdown",
   "id": "fb9e4edf",
   "metadata": {},
   "source": [
    " - Difficult to follow missed lectures from the teaching material -> let's try recordings!"
   ]
  },
  {
   "cell_type": "markdown",
   "id": "7dac891a",
   "metadata": {},
   "source": [
    "- Lectures could benefit from some more clarity - I'll try to work on that!"
   ]
  },
  {
   "cell_type": "markdown",
   "id": "5385dd5a",
   "metadata": {},
   "source": [
    "- People find the duration reasonable, but maybe more credits would be fair? We can discuss this if there's the need"
   ]
  },
  {
   "cell_type": "markdown",
   "id": "2835872b",
   "metadata": {},
   "source": [
    "### Where to find info"
   ]
  },
  {
   "cell_type": "markdown",
   "id": "c6babad3",
   "metadata": {},
   "source": [
    "I personally always start with googling. Most times I end up on either the official documentation or stackoverflow posts."
   ]
  },
  {
   "cell_type": "markdown",
   "id": "fdf70c14",
   "metadata": {},
   "source": [
    "Stackoverflow is generally trustworty! Sometimes it can be wrong, but a solution with buggy code is generally downvoted"
   ]
  },
  {
   "cell_type": "markdown",
   "id": "5f97da88",
   "metadata": {},
   "source": [
    "For issues / errors related to specific libraries, the \"issues\" section in the library GitHub can also be informative - and if not, can be used to ask questions!"
   ]
  },
  {
   "cell_type": "markdown",
   "id": "676e33b7",
   "metadata": {},
   "source": [
    "### More exercises"
   ]
  },
  {
   "cell_type": "markdown",
   "id": "65af97d4",
   "metadata": {},
   "source": [
    "- For now, I can recommend going back to the list of resources I sent some time ago - now available on GitHub!\n",
    "- you can now check out the (free) intermediate-level material"
   ]
  },
  {
   "cell_type": "markdown",
   "id": "486a3348",
   "metadata": {},
   "source": [
    "## Your local Python, demystified!"
   ]
  },
  {
   "cell_type": "markdown",
   "id": "7f12dadb",
   "metadata": {},
   "source": [
    "You have installed Python (and a bunch of other things)..."
   ]
  },
  {
   "cell_type": "markdown",
   "id": "1bd0a148",
   "metadata": {},
   "source": [
    "...what does that mean?"
   ]
  },
  {
   "cell_type": "markdown",
   "id": "f72b1e3a",
   "metadata": {},
   "source": [
    "The content of this section is not essential to the usage of Python, but knowing those topics makes it much easier to fix the issues that you might have on Python versions and packages installation!"
   ]
  },
  {
   "cell_type": "markdown",
   "id": "09e46885",
   "metadata": {},
   "source": [
    "(unfortunately, many! Python's main issue is notoriously the bugs that can arise from python and packages versioning. Therefore, understanding a bit of what hides there is very useful!)"
   ]
  },
  {
   "cell_type": "markdown",
   "id": "c0309e01",
   "metadata": {},
   "source": [
    "![xkcd_env](./files/python_environment_2x.png)"
   ]
  },
  {
   "cell_type": "markdown",
   "id": "13d65fad",
   "metadata": {},
   "source": [
    "### Preface: using the terminal"
   ]
  },
  {
   "cell_type": "markdown",
   "id": "bf0a3eb5",
   "metadata": {},
   "source": [
    "Many, many things in dealing with a local Python installation are smoother if we learn the very basics of what we can do when we write stuff in the <span style=\"color:indianred\">terminal/prompt</span> of your operative systems."
   ]
  },
  {
   "cell_type": "markdown",
   "id": "cef6355f",
   "metadata": {},
   "source": [
    "For Windows users, the terminal to use will be <span style=\"color:indianred\">Anaconda prompt</span>* ; for mac users, the <span style=\"color:indianred\">Terminal</span>"
   ]
  },
  {
   "cell_type": "markdown",
   "id": "5940f397",
   "metadata": {},
   "source": [
    "\\* the anaconda prompt is just a normal Command Prompt with some configurations on where to find our Python stuff!"
   ]
  },
  {
   "cell_type": "markdown",
   "id": "7e92d48e",
   "metadata": {},
   "source": [
    "### Running programs from the terminal"
   ]
  },
  {
   "cell_type": "markdown",
   "id": "00bc1ee5",
   "metadata": {},
   "source": [
    "The main thing we will do from the terminal is to run programs. Those programs can do many things - as many as the programs you are used to open with mouse clicking and use with a graphical interface!"
   ]
  },
  {
   "cell_type": "markdown",
   "id": "71fac1bd",
   "metadata": {},
   "source": [
    "For example, if we write on the terminal:\n",
    "\n",
    "```bash\n",
    "> python\n",
    "```"
   ]
  },
  {
   "cell_type": "markdown",
   "id": "8e48a521",
   "metadata": {},
   "source": [
    "The terminal must know where to look for the programs we call. This is configured in a bunch of scary looking files we seldomly (and carefully!!) edit (like the PATH file).\n",
    "\n",
    "If the string you write is not linked to any program, the terminal will tell you something like `command not found: xxxxxxx` (on a mac)"
   ]
  },
  {
   "cell_type": "markdown",
   "id": "419eb4b0",
   "metadata": {},
   "source": [
    "In what follows, remember that every time we are writing a name on the terminal, what we are actually doing is to call the executable linked with that name!"
   ]
  },
  {
   "cell_type": "markdown",
   "id": "bba17bdb",
   "metadata": {},
   "source": [
    "### Parts of a Python installation"
   ]
  },
  {
   "cell_type": "markdown",
   "id": "a331e6f1",
   "metadata": {},
   "source": [
    "Here we give an overview of the interacting components of a local Python installation. There a bunch of stuff you will find in your local Python folder!\n",
    "\n",
    "(The folder structure might be slightly different in old versions of Python/conda, but the parts are the same)"
   ]
  },
  {
   "cell_type": "markdown",
   "id": "1dbd9511",
   "metadata": {},
   "source": [
    "![folderschema](./files/folderschema-02.png)"
   ]
  },
  {
   "cell_type": "markdown",
   "id": "1bab45e8",
   "metadata": {},
   "source": [
    "### Essential components of a Python installation"
   ]
  },
  {
   "cell_type": "markdown",
   "id": "0fadd64e",
   "metadata": {},
   "source": [
    "<span style=\"color:indianred\">Python interpreter</span>: the Python interpreter is the main little program that runs line by line the instructions that we write in our Python code. The Python interpreter is an executable compiled for your specific operative system (as any other program - .exe/.app), and kept at a specific location."
   ]
  },
  {
   "cell_type": "markdown",
   "id": "503207b9",
   "metadata": {},
   "source": [
    "![folderschema](./files/folderschema-03.png)"
   ]
  },
  {
   "cell_type": "markdown",
   "id": "f47923d5",
   "metadata": {},
   "source": [
    "<span style=\"color:indianred\">The standard library</span>: each Python interpreter comes with a bunch of pre-installed modules that we do not have to install. For example, `random` is one of such modules; others are for example `sys`, `json` or `math`. Together, all those modules form the standard library."
   ]
  },
  {
   "cell_type": "markdown",
   "id": "0f955f64",
   "metadata": {},
   "source": [
    "![folderschema](./files/folderschema-04.png)"
   ]
  },
  {
   "cell_type": "markdown",
   "id": "e5453768",
   "metadata": {},
   "source": [
    "<span style=\"color:indianred\">Third party packages</span>: Many useful packages are not pre-installed, and we actually need to install them ourselves to be able to import them from our interpreter. `numpy` and  `pandas` are examples of such packages. Although broadly used, they are not \"standard Python\", they come from different developers."
   ]
  },
  {
   "cell_type": "markdown",
   "id": "bfc02aea",
   "metadata": {},
   "source": [
    "![folderschema](./files/folderschema-05.png)"
   ]
  },
  {
   "cell_type": "markdown",
   "id": "52d8bc1a",
   "metadata": {},
   "source": [
    "<span style=\"color:indianred\">A package manager</span>: to be able to use third-party packages, we need a way to find them and install them. a package manager is a tool that allows us to do that! `pip` and `conda` are the most common ones. More on them later!"
   ]
  },
  {
   "cell_type": "markdown",
   "id": "5e64cb88",
   "metadata": {},
   "source": [
    "![folderschema](./files/folderschema-06.png)"
   ]
  },
  {
   "cell_type": "markdown",
   "id": "8bcbc08f",
   "metadata": {},
   "source": [
    "(Note that the Python interpreter that was running our Google Colab notebooks already had everything installed, so we never had to deal with an installation)"
   ]
  },
  {
   "cell_type": "markdown",
   "id": "4e7d2a33",
   "metadata": {},
   "source": [
    "### Optional parts"
   ]
  },
  {
   "cell_type": "markdown",
   "id": "a83183ea",
   "metadata": {},
   "source": [
    "Some elements of a Python installation are not strictly mandatory but we generally use them as they can be very convenient in the every day usage of Python"
   ]
  },
  {
   "cell_type": "markdown",
   "id": "b996ee22",
   "metadata": {},
   "source": [
    "<span style=\"color:indianred\">An environment manager</span>: environments are compartimentalized python interpreters that do not mess with each other. This is convenient because different projects might require different versions of Python/packages, and we don't want to mess one up by upgrading/downgrading the other. `conda` is the most common environment manager (yes! `conda` is both a package manager and an environment manager). "
   ]
  },
  {
   "cell_type": "markdown",
   "id": "f139f9d8",
   "metadata": {},
   "source": [
    "![folderschema](./files/folderschema-01.png)"
   ]
  },
  {
   "cell_type": "markdown",
   "id": "1746066a",
   "metadata": {},
   "source": [
    "A <span style=\"color:indianred\">notebook runner package</span>: to be able to use the cool Python notebooks, instead of just scripts, we need a specific package that allows us to work with them. `jupyter` is a special third-party package that lets us open notebooks on a browser. We'll have a look later!"
   ]
  },
  {
   "cell_type": "markdown",
   "id": "5dd836cd",
   "metadata": {},
   "source": [
    "<span style=\"color:indianred\">Custom libraries/packages</span>: we can also create a bunch of custom libraries where we organize the functions that we want to use over many different projects/notebooks, so that we can `import` them any time we need. There are multiple ways in which they can be made visible to the python interpreter - we'll see some later!"
   ]
  },
  {
   "cell_type": "markdown",
   "id": "d2621d50",
   "metadata": {},
   "source": [
    "### Using Python and related tools"
   ]
  },
  {
   "cell_type": "markdown",
   "id": "2faf70d6",
   "metadata": {},
   "source": [
    "All those tools work as programs in the terminal!"
   ]
  },
  {
   "cell_type": "markdown",
   "id": "c73a8986",
   "metadata": {},
   "source": [
    "For example, if we just write in the terminal:\n",
    "\n",
    "```bash\n",
    "> python \n",
    "```\n",
    "\n",
    "This will open a (pretty useless) Python interface where we can directly send instructions to a Python interpreter"
   ]
  },
  {
   "cell_type": "markdown",
   "id": "0f83600f",
   "metadata": {},
   "source": [
    "To see which python executable you are running when you type  `python`, you can:\n",
    "1. Run `python` in the terminal\n",
    "2. `import sys`\n",
    "3. `sys.executable` prints the location of the python interpreter"
   ]
  },
  {
   "cell_type": "markdown",
   "id": "8970990b",
   "metadata": {},
   "source": [
    "We will be calling other tools from the terminal:\n",
    "\n",
    " - `conda/pip install ...` installs new packages\n",
    " - `jupyter notebook` opens an interface to run notebooks\n",
    " - `conda env create...` creates new Python environments\n",
    " \n",
    "etc etc."
   ]
  },
  {
   "cell_type": "markdown",
   "id": "7f63ec87",
   "metadata": {},
   "source": [
    "## Python environments"
   ]
  },
  {
   "cell_type": "markdown",
   "id": "bccd5c54",
   "metadata": {},
   "source": [
    "if you followed my installation instructions, you should have two Python interpreters:\n",
    "\n",
    " - a base Python\n",
    " - an environment called `course-env`"
   ]
  },
  {
   "cell_type": "markdown",
   "id": "9ca54e17",
   "metadata": {},
   "source": [
    "![folderschema](./files/folderschema-07.png)"
   ]
  },
  {
   "cell_type": "markdown",
   "id": "209a577e",
   "metadata": {},
   "source": [
    "### The base Python"
   ]
  },
  {
   "cell_type": "markdown",
   "id": "49cd5a41",
   "metadata": {},
   "source": [
    "The base `python` is in the main `miniconda3` folder, under `bin/`:\n",
    " - `/Users/username/miniconda3/bin/python.app` (for mac users)\n",
    " - `C:\\Users\\username\\miniconda3\\bin\\python.exe` (for windows users)\n",
    " \n",
    " (note: `bin` folders - short for `binary` - usually contains executable files!)"
   ]
  },
  {
   "cell_type": "markdown",
   "id": "12894ed2",
   "metadata": {},
   "source": [
    "- This is the executable that is called if you open a terminal (windows: anaconda prompt) and write `python`.\n",
    "\n",
    "- This Python serves the enviroment management - ideally, you don't run your code from base, only from environments!"
   ]
  },
  {
   "cell_type": "markdown",
   "id": "b9927d59",
   "metadata": {},
   "source": [
    "### the `course-env` environment python"
   ]
  },
  {
   "cell_type": "markdown",
   "id": "338ffe8f",
   "metadata": {},
   "source": [
    "a`python` of the  `course-env` environment that we created, inside the environment folder:\n",
    " - `/Users/username/miniconda3/envs/course-env/bin/python.app` (for mac users)\n",
    " - `C:\\Users\\username\\miniconda3\\envs\\course-env\\bin\\python.exe` (for windows users)"
   ]
  },
  {
   "cell_type": "markdown",
   "id": "34da1766",
   "metadata": {},
   "source": [
    "If we want to work with the environment python from the terminal, we always first to activate the environment. We do this with `conda activate`:\n",
    "\n",
    "```bash\n",
    "conda activate\n",
    "```\n",
    "\n",
    "**Note** After you activate the environment, you should see its name in brackets in the terminal:\n",
    "\n",
    "```bash\n",
    "(course-env) > \n",
    "```"
   ]
  },
  {
   "cell_type": "markdown",
   "id": "52b94639",
   "metadata": {},
   "source": [
    "If we first **activate the environment** with `conda activate course-env` and then write `python`, we run the python interpreter from the environment."
   ]
  },
  {
   "cell_type": "markdown",
   "id": "f87b4a62",
   "metadata": {},
   "source": [
    "Practical 2.0:\n",
    " - localize your base `python` executable and the `python` executable of the `course-env` environment!\n",
    " - run your base python from the terminal (/anaconda prompt) writing `python`\n",
    " - check the file location with `import sys; sys.executable`\n",
    " - Activate the `course-env` and run environment base python writing `python`\n",
    " - check the file location with `import sys; sys.executable`"
   ]
  },
  {
   "cell_type": "markdown",
   "id": "e27265a4",
   "metadata": {},
   "source": [
    "## Running Python scripts"
   ]
  },
  {
   "cell_type": "markdown",
   "id": "4d1f0553",
   "metadata": {},
   "source": [
    "Scripts the most minimal way to run Python code!"
   ]
  },
  {
   "cell_type": "markdown",
   "id": "0cae6552",
   "metadata": {},
   "source": [
    "We can just put together a bunch of Python code lines in a text file and run it with a Python interpreter."
   ]
  },
  {
   "cell_type": "markdown",
   "id": "2017d1ab",
   "metadata": {},
   "source": [
    "Practical 2.1:\n",
    " - using the text editor of your OS, create a test_script.txt file with some cpde lines\n",
    " ```\n",
    " i = 0\n",
    " b = \"a\"\n",
    " print(i, b)\n",
    " ```\n",
    " - Save it somewhere and get the full path of the file\n",
    " - In the terminal, write\n",
    " ```bash\n",
    " > python full_path/to/thefile/test_script.txt\n",
    " ```"
   ]
  },
  {
   "cell_type": "markdown",
   "id": "666ba692",
   "metadata": {},
   "source": [
    "**For convention**, we always name text files containing python code with the extension `.py`."
   ]
  },
  {
   "cell_type": "markdown",
   "id": "5ce8ee41",
   "metadata": {},
   "source": [
    "(We also generally use editors that are more convenient than NotePad to edit our code!)"
   ]
  },
  {
   "cell_type": "markdown",
   "id": "423a360b",
   "metadata": {},
   "source": [
    "## Python packages"
   ]
  },
  {
   "cell_type": "markdown",
   "id": "5ce45682",
   "metadata": {},
   "source": [
    "Python packages contain a bunch of functions and classes that we can import from any script/notebook."
   ]
  },
  {
   "cell_type": "markdown",
   "id": "86a1981b",
   "metadata": {},
   "source": [
    "### Where are your packages?"
   ]
  },
  {
   "cell_type": "markdown",
   "id": "835e1d1d",
   "metadata": {},
   "source": [
    "Modules of the standard library are all contained in a folder under `.../miniconda3/envs/course_env/lib/python3.9/`. They are mostly a bunch of `.py` files of some hundreds of lines, defining classes and functions!"
   ]
  },
  {
   "cell_type": "markdown",
   "id": "0aa682ff",
   "metadata": {},
   "source": [
    "Practical 2.2:\n",
    " - locate on your machine the folder of the standard library\n",
    " - find the `random.py` file\n",
    " - Using the text editor of your machine or another code editor, open `random.py` and add a new first line saying \n",
    " ```\n",
    " print(\"Hey! I'm editing the standard library!\")\n",
    " ```\n",
    " - DO NOT CHANGE ANYTHING ELSE IN THIS FILE/FOLDER!\n",
    "\n"
   ]
  },
  {
   "cell_type": "markdown",
   "id": "27c7714d",
   "metadata": {},
   "source": [
    " - Open the terminal. \n",
    " - conda-activate the `course-env` environment \n",
    " - open the Python interface writing `python`. \n",
    " - Import the `random` library. Do you get your salutation?"
   ]
  },
  {
   "cell_type": "markdown",
   "id": "32a7ebcd",
   "metadata": {},
   "source": [
    "### Installing new packages"
   ]
  },
  {
   "cell_type": "markdown",
   "id": "a354c9d9",
   "metadata": {},
   "source": [
    "One of the essential features of Python is the availability of third-party libraries that everyone in the world can work on!"
   ]
  },
  {
   "cell_type": "markdown",
   "id": "e7c22ce1",
   "metadata": {},
   "source": [
    "The **most essential survival skill** for working locally with a Python version is installing new packages we might need as we go and create new projects and scripts."
   ]
  },
  {
   "cell_type": "markdown",
   "id": "ef74ebec",
   "metadata": {},
   "source": [
    "This can be done with a package manager, either `conda` or `pip`. The basic instruction is very simple:\n",
    "\n",
    "```bash\n",
    "> conda install name-of-the-package\n",
    "```\n",
    "\n",
    "or\n",
    "\n",
    "```bash\n",
    "> pip install name-of-the-package\n",
    "```\n",
    "\n",
    "What are those commands doing?"
   ]
  },
  {
   "cell_type": "markdown",
   "id": "8fca072a",
   "metadata": {},
   "source": [
    " - they go and **look online** (they'll need internet) inside databases with thousands of packages:\n",
    "     - `pip` goes to [PyPI](PyPI.org)\n",
    "     - `conda` goes to [Anaconda, Inc. servers](https://anaconda.org)\n",
    " \n",
    " "
   ]
  },
  {
   "cell_type": "markdown",
   "id": "e262ad16",
   "metadata": {},
   "source": [
    " - they search for a version of the package that is compatible with what we have on our machine - most importantly, our Python version"
   ]
  },
  {
   "cell_type": "markdown",
   "id": "b0919a20",
   "metadata": {},
   "source": [
    " - they check if the package depends on some additional packages we do not have yet; if it does, install them"
   ]
  },
  {
   "cell_type": "markdown",
   "id": "84528417",
   "metadata": {},
   "source": [
    "\n",
    " - Finally, they install the package <span style=\"color:indianred\">only for the active environment</span> by downloading it and putting it in the `site-packages` folder inside `lib/`, `.../miniconda3/envs/course_env/lib/python3.9/`!"
   ]
  },
  {
   "cell_type": "markdown",
   "id": "0960abab",
   "metadata": {},
   "source": [
    "### Anaconda and pip"
   ]
  },
  {
   "cell_type": "markdown",
   "id": "355d1bc4",
   "metadata": {},
   "source": [
    "When to use `conda`? When to use `pip`?\n",
    "\n",
    "In most cases, it won't really matter. `conda` can be smoother if you are working with `conda` environments, but there are more packages available with `pip` compared to `conda`.\n",
    "\n",
    "My suggestion is to always try `conda` first. If what you're looking for is not available in `conda`'s database, use `pip`."
   ]
  },
  {
   "cell_type": "markdown",
   "id": "34904862",
   "metadata": {},
   "source": [
    "**Note**: by default, `conda` environments will have `conda` installed but not `pip`! But since `pip` is just another package, you can install it with `conda`:\n",
    "\n",
    "```bash\n",
    "> conda install pip\n",
    "```"
   ]
  },
  {
   "cell_type": "markdown",
   "id": "418304a7",
   "metadata": {},
   "source": [
    "Practical 2.3:\n",
    "- Open your terminal (or anaconda prompt). \n",
    "- Activate the course environment using `conda activate`\n",
    "- install the `faker` package using `conda install`\n",
    "- Go and find `faker` in the `site-packages` folder!\n",
    "    "
   ]
  },
  {
   "cell_type": "markdown",
   "id": "eda7cc42",
   "metadata": {},
   "source": [
    "## Notebooks"
   ]
  },
  {
   "cell_type": "markdown",
   "id": "faf11289",
   "metadata": {},
   "source": [
    "Finally, what are notebooks?"
   ]
  },
  {
   "cell_type": "markdown",
   "id": "59542fa9",
   "metadata": {},
   "source": [
    "`Jupyter` notebooks: interactive Python development platform based on a browser interface (The whole thing is powered by some python and javascript code that is provided by the `Jupyter` project)"
   ]
  },
  {
   "cell_type": "markdown",
   "id": "867322de",
   "metadata": {},
   "source": [
    "![folderschema](./files/folderschema-08.png)"
   ]
  },
  {
   "cell_type": "markdown",
   "id": "ebd4c70a",
   "metadata": {},
   "source": [
    "### The user interface"
   ]
  },
  {
   "cell_type": "markdown",
   "id": "b19f3d0a",
   "metadata": {},
   "source": [
    "The user interface we see is a browser page divided in markdown cells (for comments) and Python code cells"
   ]
  },
  {
   "cell_type": "markdown",
   "id": "31bb2600",
   "metadata": {},
   "source": [
    "![folderschema](./files/folderschema-09.png)"
   ]
  },
  {
   "cell_type": "markdown",
   "id": "1aeba2a3",
   "metadata": {},
   "source": [
    "### The python kernel"
   ]
  },
  {
   "cell_type": "markdown",
   "id": "c4da59c4",
   "metadata": {},
   "source": [
    "A notebook is always executing code using its *kernel*, just a fancy word to call **a Python session opened using the Python interpreter** from one of your environments (depending on the configuration of the notebook)."
   ]
  },
  {
   "cell_type": "markdown",
   "id": "cf6881b9",
   "metadata": {},
   "source": [
    "![folderschema](./files/folderschema-10.png)"
   ]
  },
  {
   "cell_type": "markdown",
   "id": "adfa31e6",
   "metadata": {},
   "source": [
    "Notebooks run in a browser but are **NOT** running online if you launch `jupyter notebook` from the terminal! \n",
    "\n",
    "Relying on the browser is a convenient way to have a nice graphical interface where you can divide and execute code in separated cells, add markdown comments, show plots, etc.\n",
    "\n",
    "Also, the same notebook can run online on remote computing platforms (e.g., colab). One of the nice things about notebooks!"
   ]
  },
  {
   "cell_type": "markdown",
   "id": "86a9ff16",
   "metadata": {},
   "source": [
    "Each notebook interacts with a new Python session! You can open more notebooks after you run jupyter, but each of them will open a new Python kernel, so it won't see the variables and code defined in another notebook!"
   ]
  },
  {
   "cell_type": "markdown",
   "id": "8a9bb376",
   "metadata": {},
   "source": [
    "Practical 2.4: \n",
    "\n",
    " - open jupyter from the terminal invoking `jupyter notebook` (from your `base` environment)\n",
    " - create a new notebook, selecting the `course-env` environment. Write a simple `test_function` function that prints `hallo` in that notebook.\n",
    " - open a second notebook using the same environment, and try to use `test_function` function without defining it. Can you do that?"
   ]
  },
  {
   "cell_type": "markdown",
   "id": "d1ce63c1",
   "metadata": {},
   "source": [
    "### Share code across notebooks"
   ]
  },
  {
   "cell_type": "markdown",
   "id": "fa2060fc",
   "metadata": {},
   "source": [
    "There are multiple ways of making code available across notebooks (we can have a lecture on how to organize your code in a package). "
   ]
  },
  {
   "cell_type": "markdown",
   "id": "c523384e",
   "metadata": {},
   "source": [
    "The easiest is to put all functions you want to import from one notebook to the other in a python `.py` file in the same folder as the notebook, and to import the functions from there."
   ]
  },
  {
   "cell_type": "markdown",
   "id": "57d4e209",
   "metadata": {},
   "source": [
    "Practicals: \n",
    "\n",
    " - Open a new text file in the folder where you created the two notebooks. You can do it in jupyter  \"New\" > \"Text file\"\n",
    " - Rename the file something like `utils.py` (the `.py` extension here is important!), and save it!\n",
    " - Restart the notebook kernel (\"Kernel\" > \"Restart\")\n",
    " - You can now import from the file! \n",
    " ```python\n",
    "import utils as ut\n",
    "ut.test_function\n",
    "```\n",
    "- Import the custom function and run it"
   ]
  }
 ],
 "metadata": {
  "celltoolbar": "Slideshow",
  "kernelspec": {
   "display_name": "Python [conda env:course_env]",
   "language": "python",
   "name": "conda-env-course_env-py"
  },
  "language_info": {
   "codemirror_mode": {
    "name": "ipython",
    "version": 3
   },
   "file_extension": ".py",
   "mimetype": "text/x-python",
   "name": "python",
   "nbconvert_exporter": "python",
   "pygments_lexer": "ipython3"
  }
 },
 "nbformat": 4,
 "nbformat_minor": 5
}
