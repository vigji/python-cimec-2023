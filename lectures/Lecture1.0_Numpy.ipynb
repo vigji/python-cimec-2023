{
 "cells": [
  {
   "cell_type": "markdown",
   "id": "3ca811a3",
   "metadata": {},
   "source": [
    "# Python for (open) Neuroscience\n",
    "\n",
    "_Lecture 1.0_ - Introduction to `numpy`\n",
    "\n",
    "Luigi Petrucco\n",
    "\n",
    "Jean-Charles Mariani\n",
    "\n",
    "[![Open In Colab](https://colab.research.google.com/assets/colab-badge.svg)](https://colab.research.google.com/github/vigji/python-cimec/blob/main/lectures/Lecture1.0_Numpy.ipynb)"
   ]
  },
  {
   "cell_type": "markdown",
   "id": "66599450",
   "metadata": {},
   "source": [
    "## A note on searching info"
   ]
  },
  {
   "cell_type": "markdown",
   "id": "136cfc22",
   "metadata": {},
   "source": [
    "Google every doubt that you have! [stackoverflow](https://stackoverflow.com) is a great source of information"
   ]
  },
  {
   "cell_type": "markdown",
   "id": "675ba46c",
   "metadata": {},
   "source": [
    "For simple doubts and introductory explanations on `numpy` ChatGPT is an excellent source! "
   ]
  },
  {
   "cell_type": "markdown",
   "id": "675a5de0",
   "metadata": {},
   "source": [
    "## Working with libraries (/packages/modules)"
   ]
  },
  {
   "cell_type": "markdown",
   "id": "d9441f23",
   "metadata": {},
   "source": [
    "We can import external libraries using `import`:"
   ]
  },
  {
   "cell_type": "code",
   "execution_count": null,
   "id": "a4765f8f",
   "metadata": {},
   "outputs": [],
   "source": [
    "import numpy\n",
    "numpy.array"
   ]
  },
  {
   "cell_type": "markdown",
   "id": "f041f820",
   "metadata": {},
   "source": [
    "We can give aliases to the library we import for the sake of brevity:"
   ]
  },
  {
   "cell_type": "code",
   "execution_count": null,
   "id": "fd8b9d08",
   "metadata": {},
   "outputs": [],
   "source": [
    "import numpy as np\n",
    "np.array"
   ]
  },
  {
   "cell_type": "markdown",
   "id": "e5ad6300",
   "metadata": {},
   "source": [
    "We can also import specific functions (or classes) from a library with this syntax:"
   ]
  },
  {
   "cell_type": "code",
   "execution_count": null,
   "id": "44c0e1c6",
   "metadata": {},
   "outputs": [],
   "source": [
    "from numpy import array\n",
    "array"
   ]
  },
  {
   "cell_type": "markdown",
   "id": "7220db85",
   "metadata": {},
   "source": [
    "## The `numpy` library"
   ]
  },
  {
   "cell_type": "markdown",
   "id": "2cc53131",
   "metadata": {},
   "source": [
    "High performance number crunching with Python "
   ]
  },
  {
   "cell_type": "markdown",
   "id": "a563cf54",
   "metadata": {},
   "source": [
    "C-compiled libraries make it very efficient"
   ]
  },
  {
   "cell_type": "code",
   "execution_count": null,
   "id": "c637e22f",
   "metadata": {},
   "outputs": [],
   "source": [
    "N_ELEMENTS = 1000000"
   ]
  },
  {
   "cell_type": "code",
   "execution_count": null,
   "id": "99d6e9ec",
   "metadata": {},
   "outputs": [],
   "source": [
    "%%timeit\n",
    "a_list = list(range(N_ELEMENTS))\n",
    "mean = sum(a_list) / len(a_list)  # mean\n",
    "\n",
    "mean_subtracted = [element - mean for element in a_list]  # subtract mean"
   ]
  },
  {
   "cell_type": "code",
   "execution_count": null,
   "id": "efd3a013",
   "metadata": {},
   "outputs": [],
   "source": [
    "%%timeit\n",
    "an_array = np.arange(N_ELEMENTS)\n",
    "mean = np.mean(an_array)  # mean\n",
    "\n",
    "mean_subtracted = an_array - mean  # subtract mean"
   ]
  },
  {
   "cell_type": "markdown",
   "id": "2ac5b7eb",
   "metadata": {},
   "source": [
    "### A small note on credit & citations"
   ]
  },
  {
   "cell_type": "markdown",
   "id": "ca097642",
   "metadata": {},
   "source": [
    "Many forget to do so, but remember: there's scientists behind many open-source tools, and citations are the way we can reward them in academic currency!"
   ]
  },
  {
   "cell_type": "markdown",
   "id": "90490603",
   "metadata": {},
   "source": [
    "    Harris, C.R., Millman, K.J., van der Walt, S.J. et al. Array programming with NumPy. Nature 585, 357–362 (2020). DOI: 10.1038/s41586-020-2649-2"
   ]
  },
  {
   "cell_type": "markdown",
   "id": "53c76299",
   "metadata": {},
   "source": [
    "Let's import the library!"
   ]
  },
  {
   "cell_type": "code",
   "execution_count": null,
   "id": "66c8c544",
   "metadata": {},
   "outputs": [],
   "source": [
    "import numpy as np"
   ]
  },
  {
   "cell_type": "markdown",
   "id": "e279a995",
   "metadata": {},
   "source": [
    "## `np.ndarray`"
   ]
  },
  {
   "cell_type": "markdown",
   "id": "8fb60578",
   "metadata": {},
   "source": [
    "Data type representing N-dimensional arrays"
   ]
  },
  {
   "cell_type": "markdown",
   "id": "37df6c45",
   "metadata": {},
   "source": [
    "Workhorse of scientific computing!"
   ]
  },
  {
   "cell_type": "markdown",
   "id": "b7ac1f5c",
   "metadata": {},
   "source": [
    "A note on language: when we say `array` we do not imply any number of dimensions:\n",
    "- <span style=\"color:indianred\">vectors</span> will be 1D arrays\n",
    "- <span style=\"color:indianred\">matrices</span> will be 2D arrays\n",
    "- for n>2, I will use <span style=\"color:indianred\">n-dimensional matrix</span>, or <span style=\"color:indianred\">stack</span> (if we talk about imaging data/other kind of stacked data)"
   ]
  },
  {
   "cell_type": "markdown",
   "id": "e49735f7",
   "metadata": {},
   "source": [
    "Related note: there is a `np.matrix` class in `numpy`, but you **should not** use it; it has not been adopted much and  it might be removed soon!"
   ]
  },
  {
   "cell_type": "markdown",
   "id": "6f6814f5",
   "metadata": {},
   "source": [
    "`np.ndarray` is a powerful data storing structure:"
   ]
  },
  {
   "cell_type": "markdown",
   "id": "081b232d",
   "metadata": {},
   "source": [
    "- it addresses memory allocation efficiency issues"
   ]
  },
  {
   "cell_type": "markdown",
   "id": "7738d5b6",
   "metadata": {},
   "source": [
    "- it gives powerful indexing functionalities"
   ]
  },
  {
   "cell_type": "markdown",
   "id": "1d23de9a",
   "metadata": {},
   "source": [
    "- implements vectors/matrices algebric operations"
   ]
  },
  {
   "cell_type": "markdown",
   "id": "3cf7d313",
   "metadata": {},
   "source": [
    "## creating arrays"
   ]
  },
  {
   "cell_type": "markdown",
   "id": "ee1aed99",
   "metadata": {},
   "source": [
    "### Initialize empty arrays"
   ]
  },
  {
   "cell_type": "markdown",
   "id": "9495c35f",
   "metadata": {},
   "source": [
    "We can create a simple array of zeros using the `np.zeros` function, and passing it:\n"
   ]
  },
  {
   "cell_type": "markdown",
   "id": "0e563d9d",
   "metadata": {},
   "source": [
    "A single integer n to create a 1D vector of length n:"
   ]
  },
  {
   "cell_type": "code",
   "execution_count": null,
   "id": "48e318f3",
   "metadata": {},
   "outputs": [],
   "source": [
    "np.zeros(3)  # we pass a single integer for a 1D array"
   ]
  },
  {
   "cell_type": "markdown",
   "id": "1832833c",
   "metadata": {},
   "source": [
    "A tuple of numbers indicating the size for every dimension for more dimensions"
   ]
  },
  {
   "cell_type": "code",
   "execution_count": null,
   "id": "9c694278",
   "metadata": {},
   "outputs": [],
   "source": [
    "np.zeros((3,2))  # we pass the tuple (3, 2) to have a 3 x 2 matrix"
   ]
  },
  {
   "cell_type": "markdown",
   "id": "145c99aa",
   "metadata": {},
   "source": [
    "The `np.ones` function works in the same way but creates a matrix of ones:"
   ]
  },
  {
   "cell_type": "code",
   "execution_count": null,
   "id": "c6b7c86b",
   "metadata": {},
   "outputs": [],
   "source": [
    "np.ones((3,2))"
   ]
  },
  {
   "cell_type": "markdown",
   "id": "3225fb64",
   "metadata": {},
   "source": [
    "We can inizialize a matrix with arbitrary values using `np.full`:"
   ]
  },
  {
   "cell_type": "code",
   "execution_count": null,
   "id": "4dab0404",
   "metadata": {},
   "outputs": [],
   "source": [
    "np.full((2,3), np.nan)"
   ]
  },
  {
   "cell_type": "markdown",
   "id": "cf4ae32c",
   "metadata": {},
   "source": [
    "In numpy arrays, **all elements must be of the same type**! (This is important to make arrays efficient)"
   ]
  },
  {
   "cell_type": "markdown",
   "id": "59ef6078",
   "metadata": {},
   "source": [
    "By default, `np.nparray`s will be initialized with `float` values:"
   ]
  },
  {
   "cell_type": "code",
   "execution_count": null,
   "id": "95ed23cc",
   "metadata": {},
   "outputs": [],
   "source": [
    "np.ones((2,3))"
   ]
  },
  {
   "cell_type": "markdown",
   "id": "1fdb9fbf",
   "metadata": {},
   "source": [
    "To specify the data type of our array, we can pass the `dtype` argument (for data type). For example, we can make it `int`:"
   ]
  },
  {
   "cell_type": "code",
   "execution_count": null,
   "id": "bcb58451",
   "metadata": {},
   "outputs": [],
   "source": [
    "np.ones((2,3), dtype=int)"
   ]
  },
  {
   "cell_type": "markdown",
   "id": "91ee3ee0",
   "metadata": {},
   "source": [
    "To change the data type of an existing array, we can use the `.asdtype(new_type)` method:"
   ]
  },
  {
   "cell_type": "code",
   "execution_count": null,
   "id": "64fe12a6",
   "metadata": {},
   "outputs": [],
   "source": [
    "my_arr = np.ones((2,3))\n",
    "my_arr.astype(int)"
   ]
  },
  {
   "cell_type": "markdown",
   "id": "611bcbc2",
   "metadata": {},
   "source": [
    "We can also use some special data type from numpy, for memory saving purposes:\n",
    " - `np.uint8` (numbers from 0 to 255)\n",
    " - `np.int8` (numbers from -128 to 127)\n",
    " - `np.uint16` (numbers from 0 to 65535)\n",
    " - `np.int16` (numbers from -32768 to 32767)\n",
    " \n",
    "The number (8 or 16) represents the number of **bits** used for every entry in the array!"
   ]
  },
  {
   "cell_type": "code",
   "execution_count": null,
   "id": "a007b346",
   "metadata": {},
   "outputs": [],
   "source": [
    "import sys\n",
    "a_python_int_array = np.ones((200, 300))\n",
    "\n",
    "sys.getsizeof(a_python_int_array)  # we ask for the size of the array in memory"
   ]
  },
  {
   "cell_type": "code",
   "execution_count": null,
   "id": "9fd22d45",
   "metadata": {},
   "outputs": [],
   "source": [
    "a_uint8_array = np.ones((200, 300), dtype=np.uint8)\n",
    "\n",
    "sys.getsizeof(a_uint8_array)  # the np.uint8 type is much more efficient!"
   ]
  },
  {
   "cell_type": "markdown",
   "id": "c9a05ee6",
   "metadata": {},
   "source": [
    "We can also make arrays of text! in this case, the dtype will be `'<U[n]'` (U for Unicode, and n will be the number of characters in the longest entry in the matrix):"
   ]
  },
  {
   "cell_type": "code",
   "execution_count": null,
   "id": "ccb8476d",
   "metadata": {},
   "outputs": [],
   "source": [
    "txt = np.full((3,2), \"some text\")\n",
    "\n",
    "txt  # look at the dtype! the number will be the number of characters:"
   ]
  },
  {
   "cell_type": "markdown",
   "id": "5fc5ef72",
   "metadata": {},
   "source": [
    "### Useful attributes of `np.ndarray` objects"
   ]
  },
  {
   "cell_type": "markdown",
   "id": "f4070c2a",
   "metadata": {},
   "source": [
    "Being objects, `np.ndarray`s have attributes that can be useful to check out their properties."
   ]
  },
  {
   "cell_type": "markdown",
   "id": "337751d2",
   "metadata": {},
   "source": [
    "### `.shape`"
   ]
  },
  {
   "cell_type": "markdown",
   "id": "94c63bf8",
   "metadata": {},
   "source": [
    "The `.shape` attribute gives us the shape (the number of elements along each dimension of the array):"
   ]
  },
  {
   "cell_type": "code",
   "execution_count": null,
   "id": "0033ecff",
   "metadata": {},
   "outputs": [],
   "source": [
    "my_array = np.zeros((4,3,5))\n",
    "\n",
    "my_array.shape"
   ]
  },
  {
   "cell_type": "markdown",
   "id": "d2f93604",
   "metadata": {},
   "source": [
    "### `.dtype`"
   ]
  },
  {
   "cell_type": "markdown",
   "id": "0c834c3a",
   "metadata": {},
   "source": [
    "The `.dtype` attribute gives the type of the elements in the array:"
   ]
  },
  {
   "cell_type": "code",
   "execution_count": null,
   "id": "a10042a8",
   "metadata": {},
   "outputs": [],
   "source": [
    "my_array = np.full((4,3,5), \"a stri\")\n",
    "my_array.dtype"
   ]
  },
  {
   "cell_type": "markdown",
   "id": "c8ca0f55",
   "metadata": {},
   "source": [
    "### `.size`"
   ]
  },
  {
   "cell_type": "markdown",
   "id": "7cfb2a82",
   "metadata": {},
   "source": [
    "Do not confuse `.shape` with `.size`! `.size` gives the numbers of elements in the whole matrix:"
   ]
  },
  {
   "cell_type": "code",
   "execution_count": null,
   "id": "1273d0bf",
   "metadata": {},
   "outputs": [],
   "source": [
    "my_array = np.full((4,3,5), 3)\n",
    "my_array.size"
   ]
  },
  {
   "cell_type": "markdown",
   "id": "295443f1",
   "metadata": {},
   "source": [
    "### Convert lists to arrays"
   ]
  },
  {
   "cell_type": "markdown",
   "id": "5983d0d4",
   "metadata": {},
   "source": [
    "One way of creating an array is to convert an existing list into an array with the `np.array()` function:"
   ]
  },
  {
   "cell_type": "code",
   "execution_count": null,
   "id": "0f38112c",
   "metadata": {},
   "outputs": [],
   "source": [
    "my_list = [1,2,3,4]\n",
    "np.array(my_list)"
   ]
  },
  {
   "cell_type": "markdown",
   "id": "165ddf89",
   "metadata": {},
   "source": [
    "Converting lists of lists will add more dimensions:"
   ]
  },
  {
   "cell_type": "code",
   "execution_count": null,
   "id": "d2d4d9e0",
   "metadata": {},
   "outputs": [],
   "source": [
    "my_list = [[1,2,3,4], [2,3,4,5]]\n",
    "np.array(my_list)"
   ]
  },
  {
   "cell_type": "markdown",
   "id": "1e11d3b9",
   "metadata": {},
   "source": [
    "### Ordered sequences"
   ]
  },
  {
   "cell_type": "markdown",
   "id": "c0088579",
   "metadata": {},
   "source": [
    "We can create ordered sequences of numbers using `np.arange()`:"
   ]
  },
  {
   "cell_type": "code",
   "execution_count": null,
   "id": "755c8575",
   "metadata": {},
   "outputs": [],
   "source": [
    "np.arange(10)  # numbers from 0 to 9"
   ]
  },
  {
   "cell_type": "markdown",
   "id": "a5501f91",
   "metadata": {},
   "source": [
    "We can optionally specify start, end, and step of the sequence (start and steps are optional):"
   ]
  },
  {
   "cell_type": "code",
   "execution_count": null,
   "id": "f180e4f3",
   "metadata": {},
   "outputs": [],
   "source": [
    "np.arange(1, 10, 2)  # numbers from 1 to 10 in steps of 2:"
   ]
  },
  {
   "cell_type": "markdown",
   "id": "142ed852",
   "metadata": {},
   "source": [
    "Alternatively, we can use `np.linspace()` to generate `num` equally spaced numbers in a specified range:"
   ]
  },
  {
   "cell_type": "code",
   "execution_count": null,
   "id": "2bfaf620",
   "metadata": {},
   "outputs": [],
   "source": [
    "np.linspace(0, 10, num=5)"
   ]
  },
  {
   "cell_type": "markdown",
   "id": "912868d4",
   "metadata": {},
   "source": [
    "### Random arrays"
   ]
  },
  {
   "cell_type": "markdown",
   "id": "2479fb8c",
   "metadata": {},
   "source": [
    "We can use the `np.random` module to create random arrays. For example:"
   ]
  },
  {
   "cell_type": "code",
   "execution_count": null,
   "id": "b1356be4",
   "metadata": {},
   "outputs": [],
   "source": [
    "np.random.randint(1, 2, (3,2))  # we pass min, max, and desired shape of the random array"
   ]
  },
  {
   "cell_type": "markdown",
   "id": "bd1ed8ba",
   "metadata": {},
   "source": [
    "(Practicals 1.0.0)"
   ]
  },
  {
   "cell_type": "markdown",
   "id": "5aef1ec8",
   "metadata": {},
   "source": [
    "## Visualize arrays and matrices"
   ]
  },
  {
   "cell_type": "markdown",
   "id": "8a361ee1",
   "metadata": {},
   "source": [
    "We can visualize arrays and matrices using the `matplotlib.pyplot` library."
   ]
  },
  {
   "cell_type": "code",
   "execution_count": null,
   "id": "171225ad",
   "metadata": {},
   "outputs": [],
   "source": [
    "from matplotlib import pyplot as plt  # code you'll write many times in Python..."
   ]
  },
  {
   "cell_type": "markdown",
   "id": "d820e792",
   "metadata": {},
   "source": [
    "We can plot 1D arrays (or lists!) using `plt.plot()`:"
   ]
  },
  {
   "cell_type": "code",
   "execution_count": null,
   "id": "cab3caed",
   "metadata": {},
   "outputs": [],
   "source": [
    "random_vect = np.random.randint(0, 100, 200)\n",
    "plt.plot(random_vect)"
   ]
  },
  {
   "cell_type": "markdown",
   "id": "332df736",
   "metadata": {},
   "source": [
    "We can visualize 2D matrices with `plt.matshow()`"
   ]
  },
  {
   "cell_type": "code",
   "execution_count": null,
   "id": "424b8a6d",
   "metadata": {},
   "outputs": [],
   "source": [
    "random_mat = np.random.randint(0, 255, (100, 200))\n",
    "\n",
    "plt.matshow(random_mat)\n",
    "plt.colorbar()"
   ]
  },
  {
   "cell_type": "markdown",
   "id": "411d1d54",
   "metadata": {},
   "source": [
    "There's much more to the matplotlib library, we'll discover more things as we go!"
   ]
  },
  {
   "cell_type": "markdown",
   "id": "d3887a02",
   "metadata": {},
   "source": [
    "## Indexing arrays"
   ]
  },
  {
   "cell_type": "markdown",
   "id": "44ee6991",
   "metadata": {},
   "source": [
    "We can index (\"slice\") arrays as we were doing with lists."
   ]
  },
  {
   "cell_type": "markdown",
   "id": "d957ccbd",
   "metadata": {},
   "source": [
    "For a 1D array:"
   ]
  },
  {
   "cell_type": "code",
   "execution_count": null,
   "id": "2eb748a4",
   "metadata": {},
   "outputs": [],
   "source": [
    "my_vect = np.arange(0, 10)\n",
    "print(my_vect[:5])  # first 5\n",
    "print(my_vect[-3:])  # last 3\n",
    "print(my_vect[:6:2])  # first 6, one every two"
   ]
  },
  {
   "cell_type": "markdown",
   "id": "73a3dead",
   "metadata": {},
   "source": [
    "But! With `np.array`s we have more flexibility than with lists!"
   ]
  },
  {
   "cell_type": "markdown",
   "id": "82f84f44",
   "metadata": {},
   "source": [
    "### Indexing by index numbers"
   ]
  },
  {
   "cell_type": "markdown",
   "id": "a98a18b8",
   "metadata": {},
   "source": [
    "We can index passing an array (or a list) of the index values that we want to retrieve!"
   ]
  },
  {
   "cell_type": "code",
   "execution_count": null,
   "id": "2e3fadf6",
   "metadata": {},
   "outputs": [],
   "source": [
    "my_vect = np.random.normal(0, 10, (10))\n",
    "print(my_vect)\n",
    "my_vect[[1,2,6]]"
   ]
  },
  {
   "cell_type": "markdown",
   "id": "4370609c",
   "metadata": {},
   "source": [
    "### Boolean indexing"
   ]
  },
  {
   "cell_type": "markdown",
   "id": "6c7bc95d",
   "metadata": {},
   "source": [
    "Alternatively, we can use arrays of boolean values (with the same shape of the `np.array`)"
   ]
  },
  {
   "cell_type": "code",
   "execution_count": null,
   "id": "41b411f9",
   "metadata": {},
   "outputs": [],
   "source": [
    "my_vect = np.random.normal(0, 10, (10))\n",
    "thr = 5\n",
    "\n",
    "\n",
    "my_vect[my_vect > thr]  # will select only values above 5"
   ]
  },
  {
   "cell_type": "markdown",
   "id": "92bf100e",
   "metadata": {},
   "source": [
    "### Indexing for multiple dimensions"
   ]
  },
  {
   "cell_type": "markdown",
   "id": "107d4268",
   "metadata": {},
   "source": [
    "We can index over multiple dimensions specifying **comma-separated** indexes along each dimension:"
   ]
  },
  {
   "cell_type": "code",
   "execution_count": null,
   "id": "4355b868",
   "metadata": {},
   "outputs": [],
   "source": [
    "my_mat = np.array([[1,   2,  3,  4, 5],\n",
    "                   [6,   7,  8,  9, 10],\n",
    "                   [11, 12, 13, 14, 15]])\n",
    "\n",
    "my_mat[2, :]"
   ]
  },
  {
   "cell_type": "markdown",
   "id": "dbbc7aa7",
   "metadata": {},
   "source": [
    "We can use boolean selectors for an axis, as long as the dimension matches:"
   ]
  },
  {
   "cell_type": "code",
   "execution_count": null,
   "id": "24c1b8b3",
   "metadata": {},
   "outputs": [],
   "source": [
    "selector = np.array([True, False, False])\n",
    "my_mat[selector, :]"
   ]
  },
  {
   "cell_type": "markdown",
   "id": "95dc1a3a",
   "metadata": {},
   "source": [
    "In this way, we can check for boolean conditions on the matrix:"
   ]
  },
  {
   "cell_type": "code",
   "execution_count": null,
   "id": "a702a378",
   "metadata": {},
   "outputs": [],
   "source": [
    "my_mat = np.array([[1,   2,  3,  4, 5],\n",
    "                   [6,   7,  8,  9, 10],\n",
    "                   [11, 12, 13, 14, 15]])\n",
    "\n",
    "my_mat[my_mat > 10] = 100\n",
    "\n",
    "my_mat"
   ]
  },
  {
   "cell_type": "markdown",
   "id": "69ceed84",
   "metadata": {},
   "source": [
    "this will change the shape of the output!"
   ]
  },
  {
   "cell_type": "markdown",
   "id": "bb8f04e4",
   "metadata": {},
   "source": [
    "### Mind singleton dimensions!"
   ]
  },
  {
   "cell_type": "markdown",
   "id": "edf2c417",
   "metadata": {},
   "source": [
    "Arrays can have singleton dimensions - _i.e._ dimensions along which there is a single entry:"
   ]
  },
  {
   "cell_type": "code",
   "execution_count": null,
   "id": "818c1de5",
   "metadata": {},
   "outputs": [],
   "source": [
    "my_arr = np.zeros(4)  # this is a 1D array\n",
    "\n",
    "print(f\"{my_arr}; shape: {my_arr.shape}\")"
   ]
  },
  {
   "cell_type": "code",
   "execution_count": null,
   "id": "85516d43",
   "metadata": {},
   "outputs": [],
   "source": [
    "my_arr = np.zeros((1,4))  # this is a 2D array with a singleton dimension!\n",
    "print(f\"{my_arr}; shape: {my_arr.shape}\")"
   ]
  },
  {
   "cell_type": "markdown",
   "id": "7528337a",
   "metadata": {},
   "source": [
    "Sometimes, it can be useful to quickly add a singleton dimension"
   ]
  },
  {
   "cell_type": "code",
   "execution_count": null,
   "id": "3457e5b8",
   "metadata": {},
   "outputs": [],
   "source": [
    "my_arr = np.zeros(4)  # 1D array\n",
    "my_arr = my_arr[None,:]  # With None indexing over one dimension, we artificially add a singleton dimension:\n",
    "\n",
    "print(f\"{my_arr}; shape: {my_arr.shape}\")"
   ]
  },
  {
   "cell_type": "markdown",
   "id": "4194ef60",
   "metadata": {},
   "source": [
    "## array views"
   ]
  },
  {
   "cell_type": "markdown",
   "id": "3951819d",
   "metadata": {},
   "source": [
    "Indexing operations return views on the original arrays, NOT COPIES! Changing values in the slice we will also alter the original array!"
   ]
  },
  {
   "cell_type": "code",
   "execution_count": null,
   "id": "dc280915",
   "metadata": {},
   "outputs": [],
   "source": [
    "my_mat = np.array([[1,   2,  3,  4, 5],\n",
    "                   [6,   7,  8,  9, 10],\n",
    "                   [11, 12, 13, 14, 15]])\n",
    "\n",
    "a_slice = my_mat[2, :]\n",
    "\n",
    "a_slice[0] = 100\n",
    "\n",
    "my_mat"
   ]
  },
  {
   "cell_type": "markdown",
   "id": "5ad347b9",
   "metadata": {},
   "source": [
    "(Practicals 1.0.1)"
   ]
  },
  {
   "cell_type": "markdown",
   "id": "25af4d78",
   "metadata": {},
   "source": [
    "## Transforming and combining arrays"
   ]
  },
  {
   "cell_type": "markdown",
   "id": "c8729748",
   "metadata": {},
   "source": [
    "### `.T`"
   ]
  },
  {
   "cell_type": "markdown",
   "id": "1d0bda1c",
   "metadata": {},
   "source": [
    "We can have a transposed view of a matrix with the `.T` attribute (this will reverse the dimensions order if `n_dims>2`):"
   ]
  },
  {
   "cell_type": "code",
   "execution_count": null,
   "id": "a7219b73",
   "metadata": {},
   "outputs": [],
   "source": [
    "m = np.ones((3,2))\n",
    "m_t = m.transpose()\n",
    "\n",
    "print(m.shape, m_t.shape)"
   ]
  },
  {
   "cell_type": "markdown",
   "id": "1bdecc62",
   "metadata": {},
   "source": [
    "### `.flatten()`"
   ]
  },
  {
   "cell_type": "markdown",
   "id": "4b1e3754",
   "metadata": {},
   "source": [
    "We can flatten all values of an N-dimensional array into a 1D array with the `.flatten()` syntax. This will make a copy of the array!"
   ]
  },
  {
   "cell_type": "code",
   "execution_count": null,
   "id": "c112cab8",
   "metadata": {},
   "outputs": [],
   "source": [
    "m = np.ones((3,2,1))\n",
    "m_flat = m.flatten()\n",
    "\n",
    "print(m.shape, m_flat.shape)"
   ]
  },
  {
   "cell_type": "markdown",
   "id": "a5dc36fa",
   "metadata": {},
   "source": [
    "### `np.concatenate()`"
   ]
  },
  {
   "cell_type": "markdown",
   "id": "16db3ea6",
   "metadata": {},
   "source": [
    "We can concatenate arrays along any dimension by putting them in a list and pass the list to the `np.concatenate()` function:"
   ]
  },
  {
   "cell_type": "code",
   "execution_count": null,
   "id": "5c74bcd8",
   "metadata": {},
   "outputs": [],
   "source": [
    "arr_list = [np.zeros(3), np.ones(3)]\n",
    "\n",
    "np.concatenate(arr_list) "
   ]
  },
  {
   "cell_type": "markdown",
   "id": "ebfab991",
   "metadata": {},
   "source": [
    "By default, we concatenate over the first dimension:"
   ]
  },
  {
   "cell_type": "code",
   "execution_count": null,
   "id": "b7dd947b",
   "metadata": {},
   "outputs": [],
   "source": [
    "arr_list = [np.zeros((3,2)), np.ones((3,2))]\n",
    "\n",
    "np.concatenate(arr_list)  # if ndims > 1 by default we concatenate over the first dimension"
   ]
  },
  {
   "cell_type": "markdown",
   "id": "7f94682c",
   "metadata": {},
   "source": [
    "but we can pass an `axis` argument to change the default behavior:"
   ]
  },
  {
   "cell_type": "code",
   "execution_count": null,
   "id": "4f126587",
   "metadata": {},
   "outputs": [],
   "source": [
    "arr_list = [np.zeros((3,2)), np.ones((3,2))]\n",
    "\n",
    "np.concatenate(arr_list, axis=1) "
   ]
  },
  {
   "cell_type": "markdown",
   "id": "1007520a",
   "metadata": {},
   "source": [
    "### `np.stack()`"
   ]
  },
  {
   "cell_type": "markdown",
   "id": "7b6cb057",
   "metadata": {},
   "source": [
    "We can pile up arrays over a new dimension with  `np.stack()`:"
   ]
  },
  {
   "cell_type": "code",
   "execution_count": null,
   "id": "aef3c07b",
   "metadata": {},
   "outputs": [],
   "source": [
    "arr_list = [np.zeros(3), np.ones(3)]\n",
    "\n",
    "np.stack(arr_list)"
   ]
  },
  {
   "cell_type": "markdown",
   "id": "57c2747e",
   "metadata": {},
   "source": [
    "## Array operations"
   ]
  },
  {
   "cell_type": "markdown",
   "id": "b8576440",
   "metadata": {},
   "source": [
    "We obviously want to do some operations with those arrays!"
   ]
  },
  {
   "cell_type": "markdown",
   "id": "4e01b836",
   "metadata": {},
   "source": [
    "### Operations with numbers"
   ]
  },
  {
   "cell_type": "markdown",
   "id": "d3e82d3f",
   "metadata": {},
   "source": [
    "Operations with arrays are **by default element-wise**!"
   ]
  },
  {
   "cell_type": "markdown",
   "id": "a48bde49",
   "metadata": {},
   "source": [
    "Sum / subtraction / multiplication / division apply to individual entries of the array:"
   ]
  },
  {
   "cell_type": "code",
   "execution_count": null,
   "id": "09c1dab6",
   "metadata": {},
   "outputs": [],
   "source": [
    "np.ones(3) + 1"
   ]
  },
  {
   "cell_type": "code",
   "execution_count": null,
   "id": "efd0f958",
   "metadata": {},
   "outputs": [],
   "source": [
    "my_arr = np.ones((4,3))\n",
    "my_arr[0, :] *= 100\n",
    "my_arr"
   ]
  },
  {
   "cell_type": "markdown",
   "id": "871aa683",
   "metadata": {},
   "source": [
    "Exponentiation also works element-wise:"
   ]
  },
  {
   "cell_type": "code",
   "execution_count": null,
   "id": "8962c0b6",
   "metadata": {},
   "outputs": [],
   "source": [
    "np.array((1,2,3))**3"
   ]
  },
  {
   "cell_type": "markdown",
   "id": "4599064d",
   "metadata": {},
   "source": [
    "### Operations between arrays"
   ]
  },
  {
   "cell_type": "markdown",
   "id": "05ad17ef",
   "metadata": {},
   "source": [
    "`numpy` works element-wise also when operating between arrays:"
   ]
  },
  {
   "cell_type": "code",
   "execution_count": null,
   "id": "1e9f737b",
   "metadata": {},
   "outputs": [],
   "source": [
    "arr_1 = np.array([[1,2],\n",
    "                  [3,4]])\n",
    "\n",
    "arr_2 = np.array([[0,0],\n",
    "                  [0,2]])\n",
    "\n",
    "arr_1 * arr_2"
   ]
  },
  {
   "cell_type": "code",
   "execution_count": null,
   "id": "70a592be",
   "metadata": {},
   "outputs": [],
   "source": [
    "arr_1 ** arr_2"
   ]
  },
  {
   "cell_type": "markdown",
   "id": "441270a0",
   "metadata": {},
   "source": [
    "Therefore, we normally expect arrays of matching shapes, or we get a `ValueError`!"
   ]
  },
  {
   "cell_type": "code",
   "execution_count": null,
   "id": "5dda2405",
   "metadata": {},
   "outputs": [],
   "source": [
    "np.ones((2, 3)) * np.ones((4, 5))"
   ]
  },
  {
   "cell_type": "markdown",
   "id": "59e748c0",
   "metadata": {},
   "source": [
    "### Broadcasting"
   ]
  },
  {
   "cell_type": "markdown",
   "id": "07a4e4ab",
   "metadata": {},
   "source": [
    "`numpy` has a smart way of dealing with some scenarios of non-matching dimensions, and we should use it!"
   ]
  },
  {
   "cell_type": "markdown",
   "id": "61eadd0b",
   "metadata": {},
   "source": [
    "Can be a bit tricky at the beginning, but it is very important: we can write very efficient and readable code with it!"
   ]
  },
  {
   "cell_type": "code",
   "execution_count": null,
   "id": "50141d39",
   "metadata": {},
   "outputs": [],
   "source": [
    "# Assume we have a matrix of data:\n",
    "a = np.array([[ 0.0,  0.0,  0.0],\n",
    "               [10.0, 10.0, 10.0],\n",
    "               [20.0, 20.0, 20.0],\n",
    "               [30.0, 30.0, 30.0]])"
   ]
  },
  {
   "cell_type": "code",
   "execution_count": null,
   "id": "7d78b5e8",
   "metadata": {},
   "outputs": [],
   "source": [
    "b = np.array([1.0, 2.0, 3.0])  # we want to add an offset from each column\n",
    "a + b"
   ]
  },
  {
   "cell_type": "markdown",
   "id": "a7ca68cb",
   "metadata": {},
   "source": [
    "### What is happening?"
   ]
  },
  {
   "cell_type": "markdown",
   "id": "56f1d7da",
   "metadata": {},
   "source": [
    "Numpy automatically infer missing values to create arrays of matching shape, where it can the operate element-wise!"
   ]
  },
  {
   "cell_type": "markdown",
   "id": "b4fe4f60",
   "metadata": {},
   "source": [
    "![Alt Text](https://numpy.org/doc/stable/_images/broadcasting_2.png)"
   ]
  },
  {
   "cell_type": "markdown",
   "id": "b7d24874",
   "metadata": {},
   "source": [
    "## How does broadcasting work"
   ]
  },
  {
   "cell_type": "markdown",
   "id": "a28a26c0",
   "metadata": {},
   "source": [
    "When operating on two arrays, NumPy compares their shapes. It starts **with the trailing** (i.e. rightmost) dimension and works its way left. Two dimensions are compatible when:\n",
    "\n",
    " - they are equal, or\n",
    " - one of them is 1."
   ]
  },
  {
   "cell_type": "markdown",
   "id": "6659d2b9",
   "metadata": {},
   "source": [
    "In our case:"
   ]
  },
  {
   "cell_type": "code",
   "execution_count": null,
   "id": "d933851d",
   "metadata": {},
   "outputs": [],
   "source": [
    "print(f\"shape a: {a.shape}\")\n",
    "print(f\"shape b: {b.shape}\")"
   ]
  },
  {
   "cell_type": "markdown",
   "id": "d966dbf7",
   "metadata": {},
   "source": [
    "Shape b matches shape a over the last dimension, and is propagated over the rest of the dimensions"
   ]
  },
  {
   "cell_type": "markdown",
   "id": "5d6b6f71",
   "metadata": {},
   "source": [
    "For example, this operation will not work!"
   ]
  },
  {
   "cell_type": "code",
   "execution_count": null,
   "id": "9583b59a",
   "metadata": {},
   "outputs": [],
   "source": [
    "a = np.ones((5,4,2))\n",
    "\n",
    "b = np.ones((4,3))\n",
    "\n",
    "a+b"
   ]
  },
  {
   "cell_type": "code",
   "execution_count": null,
   "id": "ce6de670",
   "metadata": {},
   "outputs": [],
   "source": []
  }
 ],
 "metadata": {
  "celltoolbar": "Slideshow",
  "kernelspec": {
   "display_name": "Python 3 (ipykernel)",
   "language": "python",
   "name": "python3"
  },
  "language_info": {
   "codemirror_mode": {
    "name": "ipython",
    "version": 3
   },
   "file_extension": ".py",
   "mimetype": "text/x-python",
   "name": "python",
   "nbconvert_exporter": "python",
   "pygments_lexer": "ipython3"
  }
 },
 "nbformat": 4,
 "nbformat_minor": 5
}
