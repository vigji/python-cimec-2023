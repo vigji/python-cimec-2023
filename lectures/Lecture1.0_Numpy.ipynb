{
 "cells": [
  {
   "cell_type": "markdown",
   "id": "3ca811a3",
   "metadata": {},
   "source": [
    "# Python for (open) Neuroscience\n",
    "\n",
    "_Lecture 1.0_ - Introduction to `numpy`\n",
    "\n",
    "Luigi Petrucco\n",
    "\n",
    "Jean-Charles Mariani\n",
    "\n",
    "[![Open In Colab](https://colab.research.google.com/assets/colab-badge.svg)](https://colab.research.google.com/github/vigji/python-cimec/blob/main/lectures/Lecture1.0_Numpy.ipynb)"
   ]
  },
  {
   "cell_type": "markdown",
   "id": "2f274029",
   "metadata": {},
   "source": [
    "## A note on searching info"
   ]
  },
  {
   "cell_type": "markdown",
   "id": "7b5d24ce",
   "metadata": {},
   "source": [
    "Google every doubt that you have! [stackoverflow](https://stackoverflow.com) is a great source of information"
   ]
  },
  {
   "cell_type": "markdown",
   "id": "427b58a8",
   "metadata": {},
   "source": [
    "For simple doubts and introductory explanations on `numpy` ChatGPT is an excellent source! "
   ]
  },
  {
   "cell_type": "markdown",
   "id": "675a5de0",
   "metadata": {},
   "source": [
    "## Working with libraries (/packages/modules)"
   ]
  },
  {
   "cell_type": "markdown",
   "id": "da885952",
   "metadata": {},
   "source": [
    "We can import external libraries using `import`:"
   ]
  },
  {
   "cell_type": "code",
   "execution_count": null,
   "id": "a4765f8f",
   "metadata": {},
   "outputs": [],
   "source": [
    "import numpy\n",
    "numpy.array"
   ]
  },
  {
   "cell_type": "markdown",
   "id": "94de1037",
   "metadata": {},
   "source": [
    "We can give aliases to the library we import for the sake of brevity:"
   ]
  },
  {
   "cell_type": "code",
   "execution_count": null,
   "id": "c23df816",
   "metadata": {},
   "outputs": [],
   "source": [
    "import numpy as np\n",
    "np.array"
   ]
  },
  {
   "cell_type": "markdown",
   "id": "d9d4f80f",
   "metadata": {},
   "source": [
    "We can also import specific functions (or classes) from a library with this syntax:"
   ]
  },
  {
   "cell_type": "code",
   "execution_count": null,
   "id": "4c3325fd",
   "metadata": {},
   "outputs": [],
   "source": [
    "from numpy import array\n",
    "array"
   ]
  },
  {
   "cell_type": "markdown",
   "id": "7220db85",
   "metadata": {},
   "source": [
    "## The `numpy` library"
   ]
  },
  {
   "cell_type": "markdown",
   "id": "95defaf6",
   "metadata": {},
   "source": [
    "High performance number crunching with Python "
   ]
  },
  {
   "cell_type": "markdown",
   "id": "9a212a2c",
   "metadata": {},
   "source": [
    "C-compiled libraries make it very efficient"
   ]
  },
  {
   "cell_type": "code",
   "execution_count": null,
   "id": "944d97e6",
   "metadata": {},
   "outputs": [],
   "source": [
    "N_ELEMENTS = 1000000"
   ]
  },
  {
   "cell_type": "code",
   "execution_count": null,
   "id": "41169f82",
   "metadata": {},
   "outputs": [],
   "source": [
    "%%timeit\n",
    "a_list = list(range(N_ELEMENTS))\n",
    "mean = sum(a_list) / len(a_list)  # mean\n",
    "\n",
    "mean_subtracted = [element - mean for element in a_list]  # subtract mean"
   ]
  },
  {
   "cell_type": "code",
   "execution_count": null,
   "id": "14fe6c20",
   "metadata": {},
   "outputs": [],
   "source": [
    "%%timeit\n",
    "an_array = np.arange(N_ELEMENTS)\n",
    "mean = np.mean(an_array)  # mean\n",
    "\n",
    "mean_subtracted = an_array - mean  # subtract mean"
   ]
  },
  {
   "cell_type": "markdown",
   "id": "2ac5b7eb",
   "metadata": {},
   "source": [
    "### A small note on credit & citations"
   ]
  },
  {
   "cell_type": "markdown",
   "id": "65a61cfe",
   "metadata": {},
   "source": [
    "Many forget to do so, but remember: there's scientists behind many open-source tools, and citations are the way we can reward them in academic currency!"
   ]
  },
  {
   "cell_type": "markdown",
   "id": "7f101895",
   "metadata": {},
   "source": [
    "    Harris, C.R., Millman, K.J., van der Walt, S.J. et al. Array programming with NumPy. Nature 585, 357–362 (2020). DOI: 10.1038/s41586-020-2649-2"
   ]
  },
  {
   "cell_type": "markdown",
   "id": "5a4294af",
   "metadata": {},
   "source": [
    "Let's import the library!"
   ]
  },
  {
   "cell_type": "code",
   "execution_count": null,
   "id": "8b54d427",
   "metadata": {},
   "outputs": [],
   "source": [
    "import numpy as np"
   ]
  },
  {
   "cell_type": "markdown",
   "id": "4e2970ac",
   "metadata": {},
   "source": [
    "## `np.ndarray`"
   ]
  },
  {
   "cell_type": "markdown",
   "id": "a778f6e5",
   "metadata": {},
   "source": [
    "Data type representing N-dimensional arrays"
   ]
  },
  {
   "cell_type": "markdown",
   "id": "aad52472",
   "metadata": {},
   "source": [
    "Workhorse of scientific computing!"
   ]
  },
  {
   "cell_type": "markdown",
   "id": "1c0c63e6",
   "metadata": {},
   "source": [
    "A note on language: when we say `array` we do not imply any number of dimensions:\n",
    "- <span style=\"color:indianred\">vectors</span> will be 1D arrays\n",
    "- <span style=\"color:indianred\">matrices</span> will be 2D arrays\n",
    "- for n>2, I will use <span style=\"color:indianred\">n-dimensional matrix</span>, or <span style=\"color:indianred\">stack</span> (if we talk about imaging data/other kind of stacked data)"
   ]
  },
  {
   "cell_type": "markdown",
   "id": "59f51d3b",
   "metadata": {},
   "source": [
    "Related note: there is a `np.matrix` class in `numpy`, but you **should not** use it; it has not been adopted much and  it might be removed soon!"
   ]
  },
  {
   "cell_type": "markdown",
   "id": "a4647e68",
   "metadata": {},
   "source": [
    "`np.ndarray` is a powerful data storing structure:"
   ]
  },
  {
   "cell_type": "markdown",
   "id": "8457b6f4",
   "metadata": {},
   "source": [
    "- it addresses memory allocation efficiency issues"
   ]
  },
  {
   "cell_type": "markdown",
   "id": "f2f479fc",
   "metadata": {},
   "source": [
    "- it gives powerful indexing functionalities"
   ]
  },
  {
   "cell_type": "markdown",
   "id": "d887413d",
   "metadata": {},
   "source": [
    "- implements vectors/matrices algebric operations"
   ]
  },
  {
   "cell_type": "markdown",
   "id": "3bcc0663",
   "metadata": {},
   "source": [
    "## creating arrays"
   ]
  },
  {
   "cell_type": "markdown",
   "id": "01fcbdfb",
   "metadata": {},
   "source": [
    "### Initialize empty arrays"
   ]
  },
  {
   "cell_type": "markdown",
   "id": "068bf08b",
   "metadata": {},
   "source": [
    "We can create a simple array of zeros using the `np.zeros` function, and passing it:\n"
   ]
  },
  {
   "cell_type": "markdown",
   "id": "fc98e3fe",
   "metadata": {},
   "source": [
    "A single integer n to create a 1D vector of length n:"
   ]
  },
  {
   "cell_type": "code",
   "execution_count": null,
   "id": "02736755",
   "metadata": {},
   "outputs": [],
   "source": [
    "np.zeros(3)  # we pass a single integer for a 1D array"
   ]
  },
  {
   "cell_type": "markdown",
   "id": "fc8bf768",
   "metadata": {},
   "source": [
    "A tuple of numbers indicating the size for every dimension for more dimensions"
   ]
  },
  {
   "cell_type": "code",
   "execution_count": null,
   "id": "2aff508c",
   "metadata": {},
   "outputs": [],
   "source": [
    "np.zeros((3,2))  # we pass the tuple (3, 2) to have a 3 x 2 matrix"
   ]
  },
  {
   "cell_type": "markdown",
   "id": "862ea3a2",
   "metadata": {},
   "source": [
    "The `np.ones` function works in the same way but creates a matrix of ones:"
   ]
  },
  {
   "cell_type": "code",
   "execution_count": null,
   "id": "d8b44ea3",
   "metadata": {},
   "outputs": [],
   "source": [
    "np.ones((3,2))"
   ]
  },
  {
   "cell_type": "markdown",
   "id": "77a78db9",
   "metadata": {},
   "source": [
    "We can inizialize a matrix with arbitrary values using `np.full`:"
   ]
  },
  {
   "cell_type": "code",
   "execution_count": null,
   "id": "e20f27b2",
   "metadata": {},
   "outputs": [],
   "source": [
    "np.full((2,3), np.nan)"
   ]
  },
  {
   "cell_type": "markdown",
   "id": "84901464",
   "metadata": {},
   "source": [
    "In numpy arrays, **all elements must be of the same type**! (This is important to make arrays efficient)"
   ]
  },
  {
   "cell_type": "markdown",
   "id": "a7f85d5f",
   "metadata": {},
   "source": [
    "By default, `np.nparray`s will be initialized with `float` values:"
   ]
  },
  {
   "cell_type": "code",
   "execution_count": null,
   "id": "6923c60e",
   "metadata": {},
   "outputs": [],
   "source": [
    "np.ones((2,3))"
   ]
  },
  {
   "cell_type": "markdown",
   "id": "89c581eb",
   "metadata": {},
   "source": [
    "To specify the data type of our array, we can pass the `dtype` argument (for data type). For example, we can make it `int`:"
   ]
  },
  {
   "cell_type": "code",
   "execution_count": null,
   "id": "6733ecfd",
   "metadata": {},
   "outputs": [],
   "source": [
    "np.ones((2,3), dtype=int)"
   ]
  },
  {
   "cell_type": "markdown",
   "id": "fff284fe",
   "metadata": {},
   "source": [
    "We can also use some special data type from numpy, for memory saving purposes:\n",
    " - np.uint8 (numbers from 0 to 255)\n",
    " - np.int8 (numbers from -128 to 127)\n",
    " - np.uint16 (numbers from 0 to 65535)\n",
    " - np.int16 (numbers from -32768 to 32767)\n",
    " \n",
    "The number (8 or 16) represents the number of **bits** used for every entry in the array!"
   ]
  },
  {
   "cell_type": "code",
   "execution_count": null,
   "id": "dcac672c",
   "metadata": {},
   "outputs": [],
   "source": [
    "import sys\n",
    "a_python_int_array = np.ones((200, 300))\n",
    "\n",
    "sys.getsizeof(a_python_int_array)  # we ask for the size of the array in memory"
   ]
  },
  {
   "cell_type": "code",
   "execution_count": null,
   "id": "7687370f",
   "metadata": {},
   "outputs": [],
   "source": [
    "a_uint8_array = np.ones((200, 300), dtype=np.uint8)\n",
    "\n",
    "sys.getsizeof(a_uint8_array)  # the np.uint8 type is much more efficient!"
   ]
  },
  {
   "cell_type": "markdown",
   "id": "ffd592ad",
   "metadata": {},
   "source": [
    "We can also make arrays of text! in this case, the dtype will be `'<U[n]'` (U for Unicode, and n will be the number of characters in the longest entry in the matrix):"
   ]
  },
  {
   "cell_type": "code",
   "execution_count": null,
   "id": "1b19d126",
   "metadata": {},
   "outputs": [],
   "source": [
    "txt = np.full((3,2), \"some text\")\n",
    "\n",
    "txt  # look at the dtype! the number will be the number of characters:"
   ]
  },
  {
   "cell_type": "markdown",
   "id": "f47eb134",
   "metadata": {},
   "source": [
    "### Useful attributes of `np.ndarray` objects"
   ]
  },
  {
   "cell_type": "markdown",
   "id": "6608b9d6",
   "metadata": {},
   "source": [
    "Being objects, `np.ndarray`s have attributes that can be useful to check out their properties."
   ]
  },
  {
   "cell_type": "markdown",
   "id": "ec09cb01",
   "metadata": {},
   "source": [
    "### `.shape`"
   ]
  },
  {
   "cell_type": "markdown",
   "id": "390aa1a3",
   "metadata": {},
   "source": [
    "The `.shape` attribute gives us the shape (the number of elements along each dimension of the array):"
   ]
  },
  {
   "cell_type": "code",
   "execution_count": null,
   "id": "a850c884",
   "metadata": {},
   "outputs": [],
   "source": [
    "my_array = np.zeros((4,3,5))\n",
    "\n",
    "my_array.shape"
   ]
  },
  {
   "cell_type": "markdown",
   "id": "302d7b00",
   "metadata": {},
   "source": [
    "### `.dtype`"
   ]
  },
  {
   "cell_type": "markdown",
   "id": "bd5b805c",
   "metadata": {},
   "source": [
    "The `.dtype` attribute gives the type of the elements in the array:"
   ]
  },
  {
   "cell_type": "code",
   "execution_count": null,
   "id": "25bfa93f",
   "metadata": {},
   "outputs": [],
   "source": [
    "my_array = np.full((4,3,5), \"a stri\")\n",
    "my_array.dtype"
   ]
  },
  {
   "cell_type": "markdown",
   "id": "01a01f88",
   "metadata": {},
   "source": [
    "### `.size`"
   ]
  },
  {
   "cell_type": "markdown",
   "id": "e13c8168",
   "metadata": {},
   "source": [
    "Do not confuse `.shape` with `.size`! `.size` gives the numbers of elements in the whole matrix:"
   ]
  },
  {
   "cell_type": "code",
   "execution_count": null,
   "id": "654ae4a2",
   "metadata": {},
   "outputs": [],
   "source": [
    "my_array = np.full((4,3,5), 3)\n",
    "my_array.size"
   ]
  },
  {
   "cell_type": "markdown",
   "id": "65cd1f17",
   "metadata": {},
   "source": [
    "### Convert lists to arrays"
   ]
  },
  {
   "cell_type": "markdown",
   "id": "faefd3bd",
   "metadata": {},
   "source": [
    "One way of creating an array is to convert an existing list into an array with the `np.array()` function:"
   ]
  },
  {
   "cell_type": "code",
   "execution_count": null,
   "id": "6cacf38e",
   "metadata": {},
   "outputs": [],
   "source": [
    "my_list = [1,2,3,4]\n",
    "np.array(my_list)"
   ]
  },
  {
   "cell_type": "markdown",
   "id": "5cd1dfe1",
   "metadata": {},
   "source": [
    "Converting lists of lists will add more dimensions:"
   ]
  },
  {
   "cell_type": "code",
   "execution_count": null,
   "id": "6d5b2b72",
   "metadata": {},
   "outputs": [],
   "source": [
    "my_list = [[1,2,3,4], [2,3,4,5]]\n",
    "np.array(my_list)"
   ]
  },
  {
   "cell_type": "markdown",
   "id": "e2050401",
   "metadata": {},
   "source": [
    "### Ordered sequences"
   ]
  },
  {
   "cell_type": "markdown",
   "id": "f794cc4a",
   "metadata": {},
   "source": [
    "We can create ordered sequences of numbers using `np.arange()`, specifying start, end, and step of the sequence (start and steps are optional)"
   ]
  },
  {
   "cell_type": "code",
   "execution_count": null,
   "id": "90e72edb",
   "metadata": {},
   "outputs": [],
   "source": [
    "np.arange(10)  # numbers from 0 to 9"
   ]
  },
  {
   "cell_type": "code",
   "execution_count": null,
   "id": "1e152257",
   "metadata": {},
   "outputs": [],
   "source": [
    "np.arange(1, 10, 2)  # numbers from 1 to 10 in steps of 2:"
   ]
  },
  {
   "cell_type": "markdown",
   "id": "ad395fa9",
   "metadata": {},
   "source": [
    "Alternatively, we can use `np.linspace()` to generate `num` equally spaced numbers in a specified range:"
   ]
  },
  {
   "cell_type": "code",
   "execution_count": null,
   "id": "a3c48de1",
   "metadata": {},
   "outputs": [],
   "source": [
    "np.linspace(0, 10, num=5)"
   ]
  },
  {
   "cell_type": "markdown",
   "id": "6fdc9d45",
   "metadata": {},
   "source": [
    "### Random arrays"
   ]
  },
  {
   "cell_type": "markdown",
   "id": "e4e4c867",
   "metadata": {},
   "source": [
    "We can use the `np.random` module to create random arrays. For example:"
   ]
  },
  {
   "cell_type": "code",
   "execution_count": null,
   "id": "dc4f4d78",
   "metadata": {},
   "outputs": [],
   "source": [
    "np.random.randint(1, 2, (3,2))  # we pass min, max, and desired shape of the random array"
   ]
  },
  {
   "cell_type": "markdown",
   "id": "174f5692",
   "metadata": {},
   "source": [
    "(Practicals 1.0.0)"
   ]
  },
  {
   "cell_type": "markdown",
   "id": "9d4e895a",
   "metadata": {},
   "source": [
    "## Visualize arrays and matrices"
   ]
  },
  {
   "cell_type": "markdown",
   "id": "144b59c8",
   "metadata": {},
   "source": [
    "We can visualize arrays and matrices using the `matplotlib.pyplot` library."
   ]
  },
  {
   "cell_type": "code",
   "execution_count": null,
   "id": "5bce478d",
   "metadata": {},
   "outputs": [],
   "source": [
    "from matplotlib import pyplot as plt  # code you'll write many times in Python..."
   ]
  },
  {
   "cell_type": "markdown",
   "id": "2bb0f86c",
   "metadata": {},
   "source": [
    "We can plot 1D arrays (or lists!) using `plt.plot()`:"
   ]
  },
  {
   "cell_type": "code",
   "execution_count": null,
   "id": "3f41be47",
   "metadata": {},
   "outputs": [],
   "source": [
    "random_vect = np.random.randint(0, 100, 200)\n",
    "plt.plot(random_vect)"
   ]
  },
  {
   "cell_type": "markdown",
   "id": "092b2f52",
   "metadata": {},
   "source": [
    "We can visualize 2D matrices with `plt.matshow()`"
   ]
  },
  {
   "cell_type": "code",
   "execution_count": null,
   "id": "486c7583",
   "metadata": {},
   "outputs": [],
   "source": [
    "random_mat = np.random.randint(0, 255, (100, 200))\n",
    "\n",
    "plt.matshow(random_mat)\n",
    "plt.colorbar()"
   ]
  },
  {
   "cell_type": "markdown",
   "id": "b9e36753",
   "metadata": {},
   "source": [
    "There's much more to the matplotlib library, we'll discover more things as we go!"
   ]
  },
  {
   "cell_type": "markdown",
   "id": "558beaca",
   "metadata": {},
   "source": [
    "## Indexing arrays"
   ]
  },
  {
   "cell_type": "markdown",
   "id": "f6b7b52b",
   "metadata": {},
   "source": [
    "We can index (\"slice\") arrays as we were doing with lists."
   ]
  },
  {
   "cell_type": "markdown",
   "id": "3f06e7dc",
   "metadata": {},
   "source": [
    "For a 1D array:"
   ]
  },
  {
   "cell_type": "code",
   "execution_count": null,
   "id": "cbdf4bc5",
   "metadata": {},
   "outputs": [],
   "source": [
    "my_vect = np.arange(0, 10)\n",
    "print(my_vect[:5])  # first 5\n",
    "print(my_vect[-3:])  # last 3\n",
    "print(my_vect[:6:2])  # first 6, one every two"
   ]
  },
  {
   "cell_type": "markdown",
   "id": "3622969d",
   "metadata": {},
   "source": [
    "But! With `np.arrays` we have more flexibility than with lists!"
   ]
  },
  {
   "cell_type": "markdown",
   "id": "b41adcd2",
   "metadata": {},
   "source": [
    "#### Indexing by index numbers"
   ]
  },
  {
   "cell_type": "markdown",
   "id": "3c84532e",
   "metadata": {},
   "source": [
    "We can also index passing an array (or a list) of the index values that we want to retrieve!"
   ]
  },
  {
   "cell_type": "code",
   "execution_count": null,
   "id": "ba641349",
   "metadata": {},
   "outputs": [],
   "source": [
    "my_vect = np.random.normal(0, 10, (10))\n",
    "print(my_vect)\n",
    "my_vect[[1,2,6]]"
   ]
  },
  {
   "cell_type": "markdown",
   "id": "6b0c09df",
   "metadata": {},
   "source": [
    "### Boolean indexing"
   ]
  },
  {
   "cell_type": "markdown",
   "id": "08c505f4",
   "metadata": {},
   "source": [
    "Alternatively, we can use arrays of boolean values (with the same shape of the `np.array`)"
   ]
  },
  {
   "cell_type": "code",
   "execution_count": null,
   "id": "384d355c",
   "metadata": {},
   "outputs": [],
   "source": [
    "my_vect = np.random.normal(0, 10, (10))\n",
    "thr = 5\n",
    "\n",
    "\n",
    "my_vect[my_vect > thr]  # will select only values above 5"
   ]
  },
  {
   "cell_type": "markdown",
   "id": "e8ae58ac",
   "metadata": {},
   "source": [
    "### Indexing for multiple dimensions"
   ]
  },
  {
   "cell_type": "markdown",
   "id": "88f71f5c",
   "metadata": {},
   "source": [
    "We can index over multiple dimensions specifying **comma-separated** indexes along each dimension:"
   ]
  },
  {
   "cell_type": "code",
   "execution_count": null,
   "id": "5e9bb805",
   "metadata": {},
   "outputs": [],
   "source": [
    "my_mat = np.array([[1,   2,  3,  4, 5],\n",
    "                   [6,   7,  8,  9, 10],\n",
    "                   [11, 12, 13, 14, 15]])\n",
    "\n",
    "my_mat[2, :]"
   ]
  },
  {
   "cell_type": "markdown",
   "id": "df86e525",
   "metadata": {},
   "source": [
    "We can use boolean selectors for an axis, as long as the dimension matches:"
   ]
  },
  {
   "cell_type": "code",
   "execution_count": null,
   "id": "8f31ca4f",
   "metadata": {},
   "outputs": [],
   "source": [
    "selector = np.array([True, False, False])\n",
    "my_mat[selector, :]"
   ]
  },
  {
   "cell_type": "markdown",
   "id": "a490e9a9",
   "metadata": {},
   "source": [
    "In this way, we can check for boolean conditions on the matrix:"
   ]
  },
  {
   "cell_type": "code",
   "execution_count": null,
   "id": "1bd0b0b7",
   "metadata": {},
   "outputs": [],
   "source": [
    "my_mat = np.array([[1,   2,  3,  4, 5],\n",
    "                   [6,   7,  8,  9, 10],\n",
    "                   [11, 12, 13, 14, 15]])\n",
    "\n",
    "my_mat[my_mat > 10] = 100\n",
    "\n",
    "my_mat"
   ]
  },
  {
   "cell_type": "markdown",
   "id": "e918e3af",
   "metadata": {},
   "source": [
    "this will change the shape of the output!"
   ]
  },
  {
   "cell_type": "markdown",
   "id": "890f5d79",
   "metadata": {},
   "source": [
    "### Mind singleton dimensions!"
   ]
  },
  {
   "cell_type": "markdown",
   "id": "40336aef",
   "metadata": {},
   "source": [
    "Arrays can have singleton dimensions - _i.e._ dimensions along which there is a single entry:"
   ]
  },
  {
   "cell_type": "code",
   "execution_count": null,
   "id": "8153fbfe",
   "metadata": {},
   "outputs": [],
   "source": [
    "my_arr = np.zeros(4)  # this is a 1D array\n",
    "\n",
    "print(f\"{my_arr}; shape: {my_arr.shape}\")"
   ]
  },
  {
   "cell_type": "code",
   "execution_count": null,
   "id": "4f52ba66",
   "metadata": {},
   "outputs": [],
   "source": [
    "my_arr = np.zeros((1,4))  # this is a 2D array with a singleton dimension!\n",
    "print(f\"{my_arr}; shape: {my_arr.shape}\")"
   ]
  },
  {
   "cell_type": "markdown",
   "id": "64ec3980",
   "metadata": {},
   "source": [
    "Sometimes, it can be useful to quickly add a singleton dimension"
   ]
  },
  {
   "cell_type": "code",
   "execution_count": null,
   "id": "4dc9915e",
   "metadata": {},
   "outputs": [],
   "source": [
    "my_arr = np.zeros(4)  # 1D array\n",
    "my_arr = my_arr[None,:]  # With None indexing over one dimension, we artificially add a singleton dimension:\n",
    "\n",
    "print(f\"{my_arr}; shape: {my_arr.shape}\")"
   ]
  },
  {
   "cell_type": "markdown",
   "id": "200c41b8",
   "metadata": {},
   "source": []
  },
  {
   "cell_type": "markdown",
   "id": "4ac57c6a",
   "metadata": {},
   "source": [
    "## array views"
   ]
  },
  {
   "cell_type": "markdown",
   "id": "0223d39e",
   "metadata": {},
   "source": [
    "Indexing operations return views on the original arrays, NOT COPIES! Changing values in the slice we will also alter the original array!"
   ]
  },
  {
   "cell_type": "code",
   "execution_count": null,
   "id": "fe021867",
   "metadata": {},
   "outputs": [],
   "source": [
    "my_mat = np.array([[1,   2,  3,  4, 5],\n",
    "                   [6,   7,  8,  9, 10],\n",
    "                   [11, 12, 13, 14, 15]])\n",
    "\n",
    "a_slice = my_mat[2, :]\n",
    "\n",
    "a_slice[0] = 100\n",
    "\n",
    "my_mat"
   ]
  },
  {
   "cell_type": "markdown",
   "id": "e2f3a2c5",
   "metadata": {},
   "source": [
    "(Practicals 1.0.1)"
   ]
  },
  {
   "cell_type": "markdown",
   "id": "25af4d78",
   "metadata": {},
   "source": [
    "## Transforming and combining arrays"
   ]
  },
  {
   "cell_type": "markdown",
   "id": "6f67552d",
   "metadata": {},
   "source": [
    "### `.T`"
   ]
  },
  {
   "cell_type": "markdown",
   "id": "3e8d78fe",
   "metadata": {},
   "source": [
    "We can have a transposed view of a matrix with the `.T` attribute, or the `.transpose()` method (this will reverse the dimensions order if `n_dims>2`):"
   ]
  },
  {
   "cell_type": "code",
   "execution_count": null,
   "id": "888e22c4",
   "metadata": {},
   "outputs": [],
   "source": [
    "m = np.ones((3,2))\n",
    "m_t = m.transpose()\n",
    "\n",
    "print(m.shape, m_t.shape)"
   ]
  },
  {
   "cell_type": "markdown",
   "id": "b50001ed",
   "metadata": {},
   "source": [
    "### `.flatten()`"
   ]
  },
  {
   "cell_type": "markdown",
   "id": "0582f965",
   "metadata": {},
   "source": [
    "We can flatten all values of an N-dimensional array into a 1D array with the `.flatten()` syntax. This will make a copy of the array!"
   ]
  },
  {
   "cell_type": "code",
   "execution_count": null,
   "id": "84285c60",
   "metadata": {},
   "outputs": [],
   "source": [
    "m = np.ones((3,2,1))\n",
    "m_t = m.flatten\n",
    "\n",
    "print(m.shape, m_t.shape)"
   ]
  },
  {
   "cell_type": "code",
   "execution_count": null,
   "id": "e8e15c40",
   "metadata": {},
   "outputs": [],
   "source": [
    "m = np.ones((3,2,1))\n",
    "m_t = m.flatten()\n",
    "\n",
    "m_t[0] = 10\n",
    "m"
   ]
  },
  {
   "cell_type": "markdown",
   "id": "f907654f",
   "metadata": {},
   "source": [
    "### `np.concatenate()`"
   ]
  },
  {
   "cell_type": "markdown",
   "id": "c3a7b251",
   "metadata": {},
   "source": [
    "We can concatenate arrays along any dimension by putting them in a list and pass the list to the `np.concatenate` function:"
   ]
  },
  {
   "cell_type": "code",
   "execution_count": null,
   "id": "66876d79",
   "metadata": {},
   "outputs": [],
   "source": [
    "arr_list = [np.zeros(3), np.ones(3)]\n",
    "\n",
    "np.concatenate(arr_list) "
   ]
  },
  {
   "cell_type": "code",
   "execution_count": null,
   "id": "ab600574",
   "metadata": {},
   "outputs": [],
   "source": [
    "arr_list = [np.zeros((3,2)), np.ones((3,2))]\n",
    "\n",
    "np.concatenate(arr_list)  # if ndims > 1 by default we concatenate over the first dimension"
   ]
  },
  {
   "cell_type": "markdown",
   "id": "527f3b02",
   "metadata": {},
   "source": [
    "### `np.stack()`"
   ]
  },
  {
   "cell_type": "markdown",
   "id": "5e780317",
   "metadata": {},
   "source": [
    "We can pile up arrays over a new dimension with  `np.stack()`:"
   ]
  },
  {
   "cell_type": "code",
   "execution_count": null,
   "id": "f8ca00c1",
   "metadata": {},
   "outputs": [],
   "source": [
    "arr_list = [np.zeros(3), np.ones(3)]\n",
    "\n",
    "np.stack(arr_list)"
   ]
  },
  {
   "cell_type": "markdown",
   "id": "f3e13eb7",
   "metadata": {},
   "source": [
    "## Array operations"
   ]
  },
  {
   "cell_type": "markdown",
   "id": "f4b255ae",
   "metadata": {},
   "source": [
    "We obviously want to do some operations with those arrays!"
   ]
  },
  {
   "cell_type": "markdown",
   "id": "868d8289",
   "metadata": {},
   "source": [
    "### Operations with numbers"
   ]
  },
  {
   "cell_type": "markdown",
   "id": "1c713de7",
   "metadata": {},
   "source": [
    "Operations with arrays are **by default element-wise**!"
   ]
  },
  {
   "cell_type": "markdown",
   "id": "404272a7",
   "metadata": {},
   "source": [
    "Sum / subtraction / multiplication / division apply to individual entries of the array:"
   ]
  },
  {
   "cell_type": "code",
   "execution_count": null,
   "id": "5a5f5a03",
   "metadata": {},
   "outputs": [],
   "source": [
    "np.ones(3) + 1"
   ]
  },
  {
   "cell_type": "code",
   "execution_count": null,
   "id": "b83a9497",
   "metadata": {},
   "outputs": [],
   "source": [
    "my_arr = np.ones((4,3))\n",
    "my_arr[0, :] *= 100\n",
    "my_arr"
   ]
  },
  {
   "cell_type": "markdown",
   "id": "3e8e0ee1",
   "metadata": {},
   "source": [
    "Exponentiation also works element-wise:"
   ]
  },
  {
   "cell_type": "code",
   "execution_count": null,
   "id": "e9f03430",
   "metadata": {},
   "outputs": [],
   "source": [
    "np.array((1,2,3))**3"
   ]
  },
  {
   "cell_type": "markdown",
   "id": "a09c3c55",
   "metadata": {},
   "source": [
    "### Operations between arrays"
   ]
  },
  {
   "cell_type": "markdown",
   "id": "1689a3f3",
   "metadata": {},
   "source": [
    "`numpy` works element-wise also when operating between arrays:"
   ]
  },
  {
   "cell_type": "code",
   "execution_count": null,
   "id": "449dd89d",
   "metadata": {},
   "outputs": [],
   "source": [
    "arr_1 = np.array([[1,2],\n",
    "                  [3,4]])\n",
    "\n",
    "arr_2 = np.array([[0,0],\n",
    "                  [0,2]])\n",
    "\n",
    "arr_1 * arr_2"
   ]
  },
  {
   "cell_type": "code",
   "execution_count": null,
   "id": "bcc89188",
   "metadata": {},
   "outputs": [],
   "source": [
    "arr_1 ** arr_2"
   ]
  },
  {
   "cell_type": "markdown",
   "id": "3b9f11f6",
   "metadata": {},
   "source": [
    "Therefore, we normally expect arrays of matching shapes, or we get a `ValueError`!"
   ]
  },
  {
   "cell_type": "code",
   "execution_count": null,
   "id": "9d571f88",
   "metadata": {},
   "outputs": [],
   "source": [
    "np.ones((2, 3)) * np.ones((4, 5))"
   ]
  },
  {
   "cell_type": "markdown",
   "id": "d788903a",
   "metadata": {},
   "source": [
    "### Broadcasting"
   ]
  },
  {
   "cell_type": "markdown",
   "id": "bd5b6cc0",
   "metadata": {},
   "source": [
    "`numpy` has a smart way of dealing with some scenarios of non-matching dimensions, and we should use it!"
   ]
  },
  {
   "cell_type": "markdown",
   "id": "e2cc2e6c",
   "metadata": {},
   "source": [
    "Can be a bit tricky at the beginning, but it is very important: we can write very efficient and readable code with it!"
   ]
  },
  {
   "cell_type": "code",
   "execution_count": null,
   "id": "7ac50cdc",
   "metadata": {},
   "outputs": [],
   "source": [
    "# Assume we have a matrix of data:\n",
    "a = np.array([[ 0.0,  0.0,  0.0],\n",
    "               [10.0, 10.0, 10.0],\n",
    "               [20.0, 20.0, 20.0],\n",
    "               [30.0, 30.0, 30.0]])"
   ]
  },
  {
   "cell_type": "code",
   "execution_count": null,
   "id": "72209351",
   "metadata": {},
   "outputs": [],
   "source": [
    "b = np.array([1.0, 2.0, 3.0])  # we want to add an offset from each column\n",
    "a + b"
   ]
  },
  {
   "cell_type": "markdown",
   "id": "76ab4c4b",
   "metadata": {},
   "source": [
    "### What is happening?"
   ]
  },
  {
   "cell_type": "markdown",
   "id": "0fa22bbb",
   "metadata": {},
   "source": [
    "Numpy automatically infer missing values to create arrays of matching shape, where it can the operate element-wise!"
   ]
  },
  {
   "cell_type": "markdown",
   "id": "f2d0560f",
   "metadata": {},
   "source": [
    "![Alt Text](https://numpy.org/doc/stable/_images/broadcasting_2.png)"
   ]
  },
  {
   "cell_type": "markdown",
   "id": "0fcc2a35",
   "metadata": {},
   "source": [
    "## How does broadcasting work"
   ]
  },
  {
   "cell_type": "markdown",
   "id": "5b8a0178",
   "metadata": {},
   "source": [
    "When operating on two arrays, NumPy compares their shapes. It starts **with the trailing** (i.e. rightmost) dimension and works its way left. Two dimensions are compatible when:\n",
    "\n",
    " - they are equal, or\n",
    " - one of them is 1."
   ]
  },
  {
   "cell_type": "markdown",
   "id": "6f43e569",
   "metadata": {},
   "source": [
    "In our case:"
   ]
  },
  {
   "cell_type": "code",
   "execution_count": null,
   "id": "c025eb0a",
   "metadata": {},
   "outputs": [],
   "source": [
    "print(f\"shape a: {a.shape}\")\n",
    "print(f\"shape b: {b.shape}\")"
   ]
  },
  {
   "cell_type": "markdown",
   "id": "a5da6b3b",
   "metadata": {},
   "source": [
    "Shape b matches shape a over the last dimension, and is propagated over the rest of the dimensions"
   ]
  },
  {
   "cell_type": "code",
   "execution_count": null,
   "id": "ad3bb0c3",
   "metadata": {},
   "outputs": [],
   "source": [
    "a = np.ones((5,4,2))\n",
    "\n",
    "b = np.ones((4,3))\n",
    "\n",
    "a+b"
   ]
  },
  {
   "cell_type": "code",
   "execution_count": null,
   "id": "5bfc5968",
   "metadata": {},
   "outputs": [],
   "source": []
  },
  {
   "cell_type": "code",
   "execution_count": null,
   "id": "7887afe2",
   "metadata": {},
   "outputs": [],
   "source": []
  },
  {
   "cell_type": "code",
   "execution_count": null,
   "id": "fb4bb053",
   "metadata": {},
   "outputs": [],
   "source": [
    "%%timeit\n",
    "\n",
    "a_list = [1,]*1000000"
   ]
  },
  {
   "cell_type": "code",
   "execution_count": null,
   "id": "4ced2fcb",
   "metadata": {},
   "outputs": [],
   "source": [
    "%%timeit\n",
    "\n",
    "an_ar = np.ones(1000000)"
   ]
  },
  {
   "cell_type": "code",
   "execution_count": null,
   "id": "e7533b57",
   "metadata": {},
   "outputs": [],
   "source": [
    "import numpy as np"
   ]
  },
  {
   "cell_type": "code",
   "execution_count": null,
   "id": "bad62eaf",
   "metadata": {},
   "outputs": [],
   "source": [
    "%%timeit\n",
    "an_arr = np.ones(100000)"
   ]
  },
  {
   "cell_type": "code",
   "execution_count": null,
   "id": "94eb116e",
   "metadata": {},
   "outputs": [],
   "source": [
    "import inspect\n",
    "lines = inspect.getsource(inspect.getsourcelines)\n",
    "print(lines)"
   ]
  },
  {
   "cell_type": "code",
   "execution_count": null,
   "id": "90c2729d",
   "metadata": {},
   "outputs": [],
   "source": [
    "inspect.findsource(inspect.findsource)"
   ]
  },
  {
   "cell_type": "code",
   "execution_count": null,
   "id": "f21c92b3",
   "metadata": {},
   "outputs": [],
   "source": [
    "print(inspect.getsource(inspect.findsource))"
   ]
  },
  {
   "cell_type": "code",
   "execution_count": null,
   "id": "40a80e94",
   "metadata": {},
   "outputs": [],
   "source": []
  }
 ],
 "metadata": {
  "celltoolbar": "Slideshow",
  "kernelspec": {
   "display_name": "Python 3 (ipykernel)",
   "language": "python",
   "name": "python3"
  },
  "language_info": {
   "codemirror_mode": {
    "name": "ipython",
    "version": 3
   },
   "file_extension": ".py",
   "mimetype": "text/x-python",
   "name": "python",
   "nbconvert_exporter": "python",
   "pygments_lexer": "ipython3"
  }
 },
 "nbformat": 4,
 "nbformat_minor": 5
}
