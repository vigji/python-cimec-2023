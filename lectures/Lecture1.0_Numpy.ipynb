{
 "cells": [
  {
   "cell_type": "markdown",
   "id": "3ca811a3",
   "metadata": {},
   "source": [
    "# Python for (open) Neuroscience\n",
    "\n",
    "_Lecture 1.4_ - Numpy\n",
    "\n",
    "Luigi Petrucco\n",
    "\n",
    "Jean-Charles Mariani\n",
    "\n",
    "[![Open In Colab](https://colab.research.google.com/assets/colab-badge.svg)](https://colab.research.google.com/github/vigji/python-cimec/blob/main/lectures/Lecture1.0_Numpy.ipynb)"
   ]
  },
  {
   "cell_type": "markdown",
   "id": "70b2fe73",
   "metadata": {},
   "source": [
    "## A note on searching info"
   ]
  },
  {
   "cell_type": "markdown",
   "id": "efd166b7",
   "metadata": {},
   "source": [
    "Google every doubt that you have! [stackoverflow](https://stackoverflow.com) is a great source of information"
   ]
  },
  {
   "cell_type": "markdown",
   "id": "5c6c5a39",
   "metadata": {},
   "source": [
    "For simple doubts and introductory explanations ChatGPT can be an excellent source! "
   ]
  },
  {
   "cell_type": "markdown",
   "id": "675a5de0",
   "metadata": {},
   "source": [
    "## Working with libraries (/packages/modules)"
   ]
  },
  {
   "cell_type": "markdown",
   "id": "558447da",
   "metadata": {},
   "source": [
    "We can import external libraries using `import`:"
   ]
  },
  {
   "cell_type": "code",
   "execution_count": null,
   "id": "a4765f8f",
   "metadata": {},
   "outputs": [],
   "source": [
    "import numpy\n",
    "numpy.array"
   ]
  },
  {
   "cell_type": "markdown",
   "id": "8ecf7a71",
   "metadata": {},
   "source": [
    "We can give aliases to the library we import for the sake of brevity:"
   ]
  },
  {
   "cell_type": "code",
   "execution_count": null,
   "id": "780921da",
   "metadata": {},
   "outputs": [],
   "source": [
    "import numpy as np\n",
    "np.array"
   ]
  },
  {
   "cell_type": "markdown",
   "id": "2218f8ed",
   "metadata": {},
   "source": [
    "We can also import specific functions (or classes) from a library with this syntax:"
   ]
  },
  {
   "cell_type": "code",
   "execution_count": null,
   "id": "4da8b89e",
   "metadata": {},
   "outputs": [],
   "source": [
    "from numpy import array\n",
    "array"
   ]
  },
  {
   "cell_type": "markdown",
   "id": "7220db85",
   "metadata": {},
   "source": [
    "## The `numpy` library\n",
    "\n",
    "high performance number crunching with Python "
   ]
  },
  {
   "cell_type": "markdown",
   "id": "6a952238",
   "metadata": {},
   "source": [
    "- C-compiled libraries make it very efficient"
   ]
  },
  {
   "cell_type": "markdown",
   "id": "2ac5b7eb",
   "metadata": {},
   "source": [
    "A small note on credit & citations"
   ]
  },
  {
   "cell_type": "markdown",
   "id": "df15727a",
   "metadata": {},
   "source": [
    "Let's import the library!"
   ]
  },
  {
   "cell_type": "code",
   "execution_count": null,
   "id": "c296e47a",
   "metadata": {},
   "outputs": [],
   "source": [
    "import numpy as np"
   ]
  },
  {
   "cell_type": "markdown",
   "id": "fb79d5af",
   "metadata": {},
   "source": [
    "#### `np.ndarray`"
   ]
  },
  {
   "cell_type": "markdown",
   "id": "2b4852c0",
   "metadata": {},
   "source": [
    "Data type representing N-dimensional arrays"
   ]
  },
  {
   "cell_type": "markdown",
   "id": "14fb1ac4",
   "metadata": {},
   "source": [
    "Workhorse of scientific computing!"
   ]
  },
  {
   "cell_type": "markdown",
   "id": "001ac9cc",
   "metadata": {},
   "source": [
    "A note on language: when we say `array` we do not imply a given number of dimensions:\n",
    "- <span style=\"color:indianred\">vectors</span> will be 1D arrays\n",
    "- <span style=\"color:indianred\">matrices</span> will be 2D arrays\n",
    "- for n>2, I will use <span style=\"color:indianred\">n-dimensional matrix</span>, or <span style=\"color:indianred\">stack</span> (if we talk about imaging data/other kind of stacked data)"
   ]
  },
  {
   "cell_type": "markdown",
   "id": "3d505edd",
   "metadata": {},
   "source": [
    "Related note: there is a `np.matrix` class in `numpy`, but you **should not** use it; it has not been adopted much and  it might be removed soon!"
   ]
  },
  {
   "cell_type": "markdown",
   "id": "c5e40e65",
   "metadata": {},
   "source": [
    "`np.ndarray` is a data structure that addresses memory allocation efficiency"
   ]
  },
  {
   "cell_type": "markdown",
   "id": "d0fd68dd",
   "metadata": {},
   "source": [
    "- addresses memory allocation efficiency issues"
   ]
  },
  {
   "cell_type": "markdown",
   "id": "de546305",
   "metadata": {},
   "source": [
    "- gives more powerful indexing functionalities"
   ]
  },
  {
   "cell_type": "markdown",
   "id": "e6f9208e",
   "metadata": {},
   "source": [
    "- implements vectors/matrices algebric operations"
   ]
  },
  {
   "cell_type": "markdown",
   "id": "99e72ee0",
   "metadata": {},
   "source": [
    "## creating arrays"
   ]
  },
  {
   "cell_type": "markdown",
   "id": "f09f25db",
   "metadata": {},
   "source": [
    "#### Initialize empty arrays:"
   ]
  },
  {
   "cell_type": "markdown",
   "id": "25526a24",
   "metadata": {},
   "source": [
    "We can create a simple array of zeros using the `np.zeros` function, and passing it:\n",
    " - a single integer n to create a vector of length n;\n",
    " - a tuple of numbers indicating the size for every dimension;"
   ]
  },
  {
   "cell_type": "code",
   "execution_count": null,
   "id": "fa0161fb",
   "metadata": {},
   "outputs": [],
   "source": [
    "np.zeros(3)  # we pass a single integer for a 1D array"
   ]
  },
  {
   "cell_type": "code",
   "execution_count": null,
   "id": "d6b56d94",
   "metadata": {},
   "outputs": [],
   "source": [
    "np.zeros((3,2))  # we pass the tuple (3, 2) to have a 3 x 2 matrix"
   ]
  },
  {
   "cell_type": "markdown",
   "id": "c05624ec",
   "metadata": {},
   "source": [
    "The `np.ones` function works in the same way but creates a matrix of ones:"
   ]
  },
  {
   "cell_type": "code",
   "execution_count": null,
   "id": "06e296ba",
   "metadata": {},
   "outputs": [],
   "source": [
    "np.ones((3,2))"
   ]
  },
  {
   "cell_type": "markdown",
   "id": "e0ee23db",
   "metadata": {},
   "source": [
    "We can inizialize a matrix with arbitrary values using `np.full`:"
   ]
  },
  {
   "cell_type": "code",
   "execution_count": null,
   "id": "05b5994a",
   "metadata": {},
   "outputs": [],
   "source": [
    "np.full((2,3), np.nan)"
   ]
  },
  {
   "cell_type": "markdown",
   "id": "b1f086c0",
   "metadata": {},
   "source": [
    "In numpy arrays, **all elements must be of the same type**! (This is important to make arrays efficient)"
   ]
  },
  {
   "cell_type": "markdown",
   "id": "bb3a9c98",
   "metadata": {},
   "source": [
    "By default, `np.nparray`s will be initialized with `float` values:"
   ]
  },
  {
   "cell_type": "code",
   "execution_count": null,
   "id": "dbde0b67",
   "metadata": {},
   "outputs": [],
   "source": [
    "np.ones((2,3))"
   ]
  },
  {
   "cell_type": "markdown",
   "id": "2d9a3ac8",
   "metadata": {},
   "source": [
    "To specify the data type of our array, we can pass the `dtype` argument (for data type). For example, we can make it `int`:"
   ]
  },
  {
   "cell_type": "code",
   "execution_count": null,
   "id": "c5009158",
   "metadata": {},
   "outputs": [],
   "source": [
    "np.ones((2,3), dtype=int)"
   ]
  },
  {
   "cell_type": "markdown",
   "id": "2a58fad4",
   "metadata": {},
   "source": [
    "We can also use some special data type from numpy, for memory saving purposes:\n",
    " - np.uint8 (numbers from 0 to 255)\n",
    " - np.int8 (numbers from -128 to 127)\n",
    " - np.uint16 (numbers from 0 to 65535)\n",
    " - np.int16 (numbers from -32768 to 32767)\n",
    " \n",
    "The number (8 or 16) represents the number of **bits** used for every entry in the array!"
   ]
  },
  {
   "cell_type": "code",
   "execution_count": null,
   "id": "9965cbb6",
   "metadata": {},
   "outputs": [],
   "source": [
    "import sys\n",
    "a_python_int_array = np.ones((200, 300))\n",
    "\n",
    "sys.getsizeof(a_python_int_array)  # we ask for the size of the array in memory"
   ]
  },
  {
   "cell_type": "code",
   "execution_count": null,
   "id": "5f4253a5",
   "metadata": {},
   "outputs": [],
   "source": [
    "a_uint8_array = np.ones((200, 300), dtype=np.uint8)\n",
    "\n",
    "sys.getsizeof(a_uint8_array)  # the np.uint8 type is much more efficient!"
   ]
  },
  {
   "cell_type": "markdown",
   "id": "99fcfe04",
   "metadata": {},
   "source": [
    "We can also make arrays of text! in this case, the dtype will be `'<U[n]'` (U for Unicode, and n will be the number of characters in the longest entry in the matrix):"
   ]
  },
  {
   "cell_type": "code",
   "execution_count": null,
   "id": "9afba47a",
   "metadata": {},
   "outputs": [],
   "source": [
    "txt = np.full((3,2), \"some text\")\n",
    "\n",
    "txt  # look at the dtype! the number will be the number of characters:"
   ]
  },
  {
   "cell_type": "markdown",
   "id": "18e2b92c",
   "metadata": {},
   "source": [
    "### Useful attributes of `np.ndarray` objects"
   ]
  },
  {
   "cell_type": "markdown",
   "id": "1731ee02",
   "metadata": {},
   "source": [
    "Being objects, `np.ndarray`s have attributes that can be useful to check out their properties."
   ]
  },
  {
   "cell_type": "markdown",
   "id": "ec28cff8",
   "metadata": {},
   "source": [
    "### `.shape`"
   ]
  },
  {
   "cell_type": "markdown",
   "id": "5a471e53",
   "metadata": {},
   "source": [
    "The `.shape` attribute gives us the shape (the number of elements along each dimension of the array):"
   ]
  },
  {
   "cell_type": "code",
   "execution_count": null,
   "id": "d653129e",
   "metadata": {},
   "outputs": [],
   "source": [
    "my_array = np.zeros((4,3,5))\n",
    "\n",
    "my_array.shape"
   ]
  },
  {
   "cell_type": "markdown",
   "id": "9ec6dfd8",
   "metadata": {},
   "source": [
    "### `.dtype`"
   ]
  },
  {
   "cell_type": "markdown",
   "id": "2635b667",
   "metadata": {},
   "source": [
    "The `.dtype` attribute gives the type of the elements in the array:"
   ]
  },
  {
   "cell_type": "code",
   "execution_count": null,
   "id": "b67006d8",
   "metadata": {},
   "outputs": [],
   "source": [
    "my_array = np.full((4,3,5), \"a stri\")\n",
    "my_array.dtype"
   ]
  },
  {
   "cell_type": "markdown",
   "id": "4f68b208",
   "metadata": {},
   "source": [
    "### `.size`"
   ]
  },
  {
   "cell_type": "markdown",
   "id": "8d804d7b",
   "metadata": {},
   "source": [
    "Do not confuse `.shape` with `.size`! `.size` gives the numbers of elements in the whole matrix:"
   ]
  },
  {
   "cell_type": "code",
   "execution_count": null,
   "id": "6bb4e1f6",
   "metadata": {},
   "outputs": [],
   "source": [
    "my_array = np.full((4,3,5), 3)\n",
    "my_array.size"
   ]
  },
  {
   "cell_type": "markdown",
   "id": "1e0b5481",
   "metadata": {},
   "source": [
    "### Convert lists to arrays"
   ]
  },
  {
   "cell_type": "markdown",
   "id": "ee3b8c4b",
   "metadata": {},
   "source": [
    "One way of creating an array is to convert an existing list into an array with the `np.array` function:"
   ]
  },
  {
   "cell_type": "code",
   "execution_count": null,
   "id": "11616412",
   "metadata": {},
   "outputs": [],
   "source": [
    "my_list = [1,2,3,4]\n",
    "np.array(my_list)"
   ]
  },
  {
   "cell_type": "markdown",
   "id": "c8421adc",
   "metadata": {},
   "source": [
    "Converting lists of lists will add more dimensions:"
   ]
  },
  {
   "cell_type": "code",
   "execution_count": null,
   "id": "c1113ea1",
   "metadata": {},
   "outputs": [],
   "source": [
    "my_list = [[1,2,3,4], [2,3,4,5]]\n",
    "np.array(my_list)"
   ]
  },
  {
   "cell_type": "markdown",
   "id": "9381b3f7",
   "metadata": {},
   "source": [
    "### Ordered sequences"
   ]
  },
  {
   "cell_type": "markdown",
   "id": "a7557ea1",
   "metadata": {},
   "source": [
    "We can create ordered sequences of numbers using `np.arange()`, specifying start, end, and step of the sequence:"
   ]
  },
  {
   "cell_type": "code",
   "execution_count": null,
   "id": "d72fecc9",
   "metadata": {},
   "outputs": [],
   "source": [
    "np.arange(1, 10, 2)"
   ]
  },
  {
   "cell_type": "markdown",
   "id": "82caeb00",
   "metadata": {},
   "source": [
    "Alternatively, we can use `np.linspace()` to generate `num` equally spaced numbers in a specified range:"
   ]
  },
  {
   "cell_type": "code",
   "execution_count": null,
   "id": "eee18581",
   "metadata": {},
   "outputs": [],
   "source": [
    "np.linspace(0, 10, num=5)"
   ]
  },
  {
   "cell_type": "markdown",
   "id": "fc94aa67",
   "metadata": {},
   "source": [
    "### Random arrays"
   ]
  },
  {
   "cell_type": "markdown",
   "id": "77a97e49",
   "metadata": {},
   "source": [
    "We can use the `np.random` module to create random arrays. For example:"
   ]
  },
  {
   "cell_type": "code",
   "execution_count": null,
   "id": "0e94e58d",
   "metadata": {},
   "outputs": [],
   "source": [
    "np.random.randint(1, 2, (3,2))  # we pass min, max, and desired shape of the random array"
   ]
  },
  {
   "cell_type": "markdown",
   "id": "e2024398",
   "metadata": {},
   "source": [
    "(Practicals 1.0.0)"
   ]
  },
  {
   "cell_type": "markdown",
   "id": "fa1f2577",
   "metadata": {},
   "source": [
    "## Visualize arrays and matrices"
   ]
  },
  {
   "cell_type": "markdown",
   "id": "cf66f4a3",
   "metadata": {},
   "source": [
    "We can visualize arrays and matrices using the `matplotlib.pyplot` library."
   ]
  },
  {
   "cell_type": "code",
   "execution_count": null,
   "id": "bd26e8a7",
   "metadata": {},
   "outputs": [],
   "source": [
    "from matplotlib import pyplot as plt"
   ]
  },
  {
   "cell_type": "markdown",
   "id": "bed454cc",
   "metadata": {},
   "source": [
    "We can plot 1D arrays (or lists!) using `plt.plot()`:"
   ]
  },
  {
   "cell_type": "code",
   "execution_count": null,
   "id": "c2ccc248",
   "metadata": {},
   "outputs": [],
   "source": [
    "random_vect = np.random.randint(0, 100, 200)\n",
    "plt.plot(random_vect)"
   ]
  },
  {
   "cell_type": "markdown",
   "id": "f32fb0ef",
   "metadata": {},
   "source": [
    "We can visualize 2D matrices with `plt.matshow()`"
   ]
  },
  {
   "cell_type": "code",
   "execution_count": null,
   "id": "47cc1234",
   "metadata": {},
   "outputs": [],
   "source": [
    "random_mat = np.random.randint(0, 255, (100, 200))\n",
    "\n",
    "plt.matshow(random_mat)\n",
    "plt.colorbar()"
   ]
  },
  {
   "cell_type": "markdown",
   "id": "40fc60a8",
   "metadata": {},
   "source": [
    "There's much more to the matplotlib library, we'll discover more things as we go!"
   ]
  },
  {
   "cell_type": "markdown",
   "id": "53f59c24",
   "metadata": {},
   "source": [
    "## Indexing arrays"
   ]
  },
  {
   "cell_type": "markdown",
   "id": "42bb9bbf",
   "metadata": {},
   "source": [
    "We can index (\"slice\") arrays as we were doing with lists."
   ]
  },
  {
   "cell_type": "markdown",
   "id": "c83557d7",
   "metadata": {},
   "source": [
    "For a 1D array:"
   ]
  },
  {
   "cell_type": "code",
   "execution_count": null,
   "id": "0a47e039",
   "metadata": {},
   "outputs": [],
   "source": [
    "my_vect = np.arange(0, 10)\n",
    "print(my_vect[:5])  # first 5\n",
    "print(my_vect[-3:])  # last 3\n",
    "print(my_vect[:6:2])  # first 6, one every two"
   ]
  },
  {
   "cell_type": "markdown",
   "id": "66bcfa65",
   "metadata": {},
   "source": [
    "But with `np.arrays` we have more flexibility than pure lists when it comes to flexibility!!"
   ]
  },
  {
   "cell_type": "markdown",
   "id": "3b014650",
   "metadata": {},
   "source": [
    "#### Indexing by index numbers"
   ]
  },
  {
   "cell_type": "markdown",
   "id": "e06ff501",
   "metadata": {},
   "source": [
    "We can also index passing an array (or a list) of the index values that we want to keep!"
   ]
  },
  {
   "cell_type": "code",
   "execution_count": null,
   "id": "08b2cf59",
   "metadata": {},
   "outputs": [],
   "source": [
    "my_vect = np.random.normal(0, 10, (10))\n",
    "print(my_vect)\n",
    "my_vect[[1,2,6]]"
   ]
  },
  {
   "cell_type": "markdown",
   "id": "e2691d70",
   "metadata": {},
   "source": [
    "### Boolean indexing:"
   ]
  },
  {
   "cell_type": "markdown",
   "id": "2b297a41",
   "metadata": {},
   "source": [
    "Alternatively, we can use arrays of boolean values (with the same shape of the `np.array`)"
   ]
  },
  {
   "cell_type": "code",
   "execution_count": null,
   "id": "03cc0d36",
   "metadata": {},
   "outputs": [],
   "source": [
    "my_vect = np.random.normal(0, 10, (10))\n",
    "thr = 5\n",
    "\n",
    "\n",
    "my_vect[my_vect > thr]  # will select only values above 5"
   ]
  },
  {
   "cell_type": "markdown",
   "id": "2fe5e6fb",
   "metadata": {},
   "source": [
    "### For ND arrays"
   ]
  },
  {
   "cell_type": "markdown",
   "id": "1de9fec1",
   "metadata": {},
   "source": [
    "We can index over multiple dimensions specifying **comma-separated** indexes along each dimension:"
   ]
  },
  {
   "cell_type": "code",
   "execution_count": null,
   "id": "1a88f4d7",
   "metadata": {},
   "outputs": [],
   "source": [
    "my_mat = np.array([[1,   2,  3,  4, 5],\n",
    "                   [6,   7,  8,  9, 10],\n",
    "                   [11, 12, 13, 14, 15]])\n",
    "\n",
    "my_mat[2, :]"
   ]
  },
  {
   "cell_type": "markdown",
   "id": "e409842a",
   "metadata": {},
   "source": [
    "We can use boolean selectors for an axis, as long as the dimension matches:"
   ]
  },
  {
   "cell_type": "code",
   "execution_count": null,
   "id": "76dfa74a",
   "metadata": {},
   "outputs": [],
   "source": [
    "selector = np.array([True, False, False])\n",
    "my_mat[selector, :]"
   ]
  },
  {
   "cell_type": "markdown",
   "id": "cf8b94f8",
   "metadata": {},
   "source": [
    "Or we can put conditions on the matrix - this will change the shape of the output!"
   ]
  },
  {
   "cell_type": "code",
   "execution_count": null,
   "id": "04e14a74",
   "metadata": {},
   "outputs": [],
   "source": [
    "my_mat[my_mat > 14] = 20\n",
    "\n",
    "my_mat"
   ]
  },
  {
   "cell_type": "markdown",
   "id": "e5ce5178",
   "metadata": {},
   "source": [
    "## array views"
   ]
  },
  {
   "cell_type": "markdown",
   "id": "f897090d",
   "metadata": {},
   "source": [
    "Indexing operations return views on the original arrays, NOT COPIES! Changing values in the slice we will also alter the original array!"
   ]
  },
  {
   "cell_type": "code",
   "execution_count": null,
   "id": "231dce59",
   "metadata": {},
   "outputs": [],
   "source": [
    "my_mat = np.array([[1,   2,  3,  4, 5],\n",
    "                   [6,   7,  8,  9, 10],\n",
    "                   [11, 12, 13, 14, 15]])\n",
    "\n",
    "a_slice = my_mat[2, :]\n",
    "\n",
    "a_slice[0] = 100\n",
    "\n",
    "my_mat"
   ]
  },
  {
   "cell_type": "markdown",
   "id": "3d5944c4",
   "metadata": {},
   "source": [
    "(Practicals 1.0.1)"
   ]
  },
  {
   "cell_type": "markdown",
   "id": "25af4d78",
   "metadata": {},
   "source": [
    "## Array operations"
   ]
  },
  {
   "cell_type": "markdown",
   "id": "4a064be5",
   "metadata": {},
   "source": [
    "We obviously want to do some operations with those arrays!"
   ]
  },
  {
   "cell_type": "code",
   "execution_count": null,
   "id": "241fd1bf",
   "metadata": {},
   "outputs": [],
   "source": []
  },
  {
   "cell_type": "code",
   "execution_count": null,
   "id": "76f143af",
   "metadata": {},
   "outputs": [],
   "source": []
  },
  {
   "cell_type": "code",
   "execution_count": null,
   "id": "7460db30",
   "metadata": {},
   "outputs": [],
   "source": []
  },
  {
   "cell_type": "code",
   "execution_count": null,
   "id": "6bb4d788",
   "metadata": {},
   "outputs": [],
   "source": []
  },
  {
   "cell_type": "code",
   "execution_count": null,
   "id": "b274c679",
   "metadata": {},
   "outputs": [],
   "source": []
  },
  {
   "cell_type": "code",
   "execution_count": null,
   "id": "ccaee30f",
   "metadata": {},
   "outputs": [],
   "source": []
  },
  {
   "cell_type": "code",
   "execution_count": null,
   "id": "fb4bb053",
   "metadata": {},
   "outputs": [],
   "source": [
    "%%timeit\n",
    "\n",
    "a_list = [1 for _ in range(1000000)]"
   ]
  },
  {
   "cell_type": "code",
   "execution_count": null,
   "id": "e7533b57",
   "metadata": {},
   "outputs": [],
   "source": [
    "import numpy as np"
   ]
  },
  {
   "cell_type": "code",
   "execution_count": null,
   "id": "bad62eaf",
   "metadata": {},
   "outputs": [],
   "source": [
    "%%timeit\n",
    "an_arr = np.ones(100000)"
   ]
  },
  {
   "cell_type": "code",
   "execution_count": null,
   "id": "94eb116e",
   "metadata": {},
   "outputs": [],
   "source": [
    "import inspect\n",
    "lines = inspect.getsource(inspect.getsourcelines)\n",
    "print(lines)"
   ]
  },
  {
   "cell_type": "code",
   "execution_count": null,
   "id": "90c2729d",
   "metadata": {},
   "outputs": [],
   "source": [
    "inspect.findsource(inspect.findsource)"
   ]
  },
  {
   "cell_type": "code",
   "execution_count": null,
   "id": "f21c92b3",
   "metadata": {},
   "outputs": [],
   "source": [
    "print(inspect.getsource(inspect.findsource))"
   ]
  },
  {
   "cell_type": "code",
   "execution_count": null,
   "id": "40a80e94",
   "metadata": {},
   "outputs": [],
   "source": []
  }
 ],
 "metadata": {
  "celltoolbar": "Slideshow",
  "kernelspec": {
   "display_name": "Python 3 (ipykernel)",
   "language": "python",
   "name": "python3"
  },
  "language_info": {
   "codemirror_mode": {
    "name": "ipython",
    "version": 3
   },
   "file_extension": ".py",
   "mimetype": "text/x-python",
   "name": "python",
   "nbconvert_exporter": "python",
   "pygments_lexer": "ipython3"
  }
 },
 "nbformat": 4,
 "nbformat_minor": 5
}
