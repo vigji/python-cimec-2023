{
 "cells": [
  {
   "cell_type": "markdown",
   "id": "3ca811a3",
   "metadata": {},
   "source": [
    "# Python for (open) Neuroscience\n",
    "\n",
    "_Lecture 1.4_ - More on `pandas` and plotting\n",
    "\n",
    "Luigi Petrucco\n",
    "\n",
    "Jean-Charles Mariani\n",
    "\n",
    "[![Open In Colab](https://colab.research.google.com/assets/colab-badge.svg)](https://colab.research.google.com/github/vigji/python-cimec/blob/main/lectures/Lecture1.4_More-panda-plotting.ipynb)"
   ]
  },
  {
   "cell_type": "code",
   "execution_count": null,
   "id": "5929db60",
   "metadata": {},
   "outputs": [],
   "source": [
    "import pandas as pd\n",
    "import numpy as np\n",
    "from matplotlib import pyplot as plt"
   ]
  },
  {
   "cell_type": "markdown",
   "id": "058ff74a",
   "metadata": {},
   "source": [
    "### `.groupby()`"
   ]
  },
  {
   "cell_type": "markdown",
   "id": "d124808d",
   "metadata": {},
   "source": [
    "We have a handy syntax to average within each category with `.groupby()`.\n",
    "\n",
    "The sintax is :\n",
    "```python\n",
    "df.groupby(\"name_of_the_category_column\").operation()\n",
    "```"
   ]
  },
  {
   "cell_type": "markdown",
   "id": "fb7dba9b",
   "metadata": {},
   "source": [
    "Let's create a dataframe with some data for each of three subjects:"
   ]
  },
  {
   "cell_type": "code",
   "execution_count": null,
   "id": "5296bbda",
   "metadata": {},
   "outputs": [],
   "source": [
    "n_subjects, n_trials = 3, 4\n",
    "trials_df = pd.DataFrame(dict(subject=[f\"subj{i}\" for i in range(n_subjects) for _ in range(n_trials)],\n",
    "                              accuracy=np.random.uniform(0, 1, n_trials*n_subjects), rt=np.random.uniform(0, 100, n_trials*n_subjects)))\n",
    "trials_df.head(6)"
   ]
  },
  {
   "cell_type": "code",
   "execution_count": null,
   "id": "8591cf08",
   "metadata": {},
   "outputs": [],
   "source": [
    "# In this case, the operation is `mean()`.\n",
    "# Note how the result will have the variable we group by as index:\n",
    "subj_means_df = trials_df.groupby(\"subject\").mean()\n",
    "subj_means_df"
   ]
  },
  {
   "cell_type": "markdown",
   "id": "21579a47",
   "metadata": {},
   "source": [
    "By the way, this is a reason why methods are better than functions in this case: they can be chained with a clearer syntax!"
   ]
  },
  {
   "cell_type": "markdown",
   "id": "82f8456c",
   "metadata": {},
   "source": [
    "## Index broadcasting in `pandas`"
   ]
  },
  {
   "cell_type": "markdown",
   "id": "1d2c5910",
   "metadata": {},
   "source": [
    "Let's subtract from each subject the mean for each variable."
   ]
  },
  {
   "cell_type": "code",
   "execution_count": null,
   "id": "3e7b964d",
   "metadata": {},
   "outputs": [],
   "source": [
    "trials_df.head(5)"
   ]
  },
  {
   "cell_type": "code",
   "execution_count": null,
   "id": "aacda54f",
   "metadata": {},
   "outputs": [],
   "source": [
    "subj_means_df.head(3)"
   ]
  },
  {
   "cell_type": "markdown",
   "id": "b77ecb0f",
   "metadata": {},
   "source": [
    "The indexes obviously don't match!"
   ]
  },
  {
   "cell_type": "code",
   "execution_count": null,
   "id": "2547f767",
   "metadata": {},
   "outputs": [],
   "source": [
    "# this will try to match indexes of one dataframe with the other. As there won't be matches, \n",
    "# the result will be lots of nans!\n",
    "trials_df - subj_means_df"
   ]
  },
  {
   "cell_type": "markdown",
   "id": "350cbd41",
   "metadata": {},
   "source": [
    "But pandas will broadcast values using indices if we make them consistent!"
   ]
  },
  {
   "cell_type": "code",
   "execution_count": null,
   "id": "2f698ef9",
   "metadata": {},
   "outputs": [],
   "source": [
    "trials_df.set_index(\"subject\")\n",
    " #trials_df.head()"
   ]
  },
  {
   "cell_type": "markdown",
   "id": "6cc991e9",
   "metadata": {},
   "source": [
    "So now we can write:"
   ]
  },
  {
   "cell_type": "code",
   "execution_count": null,
   "id": "f19d711e",
   "metadata": {},
   "outputs": [],
   "source": [
    "normalized = trials_df.set_index(\"subject\") - subj_means_df\n",
    "normalized.head()"
   ]
  },
  {
   "cell_type": "markdown",
   "id": "7e836975",
   "metadata": {},
   "source": [
    "From each entry in the trials dataframe, numpy will broadcast the correct value of the mean for that subject!"
   ]
  },
  {
   "cell_type": "markdown",
   "id": "e6f83cb9",
   "metadata": {},
   "source": [
    "## Multi-indexing"
   ]
  },
  {
   "cell_type": "markdown",
   "id": "d7ee103e",
   "metadata": {},
   "source": [
    "Sometimes, we might want to average keeping the segregation over multiple categories:"
   ]
  },
  {
   "cell_type": "code",
   "execution_count": null,
   "id": "23a7631a",
   "metadata": {},
   "outputs": [],
   "source": [
    "# Create again a trials_df:\n",
    "trials_df = pd.DataFrame(dict(subject=[f\"subj{i}\" for i in range(n_subjects) for _ in range(n_trials)],\n",
    "                              trial_type=[f\"type{n//2}\" for i in range(n_subjects) for n in range(n_trials)],\n",
    "                              accuracy=np.random.uniform(0, 1, n_trials*n_subjects),\n",
    "                              rt=np.random.uniform(0, 100, n_trials*n_subjects)))\n",
    "\n",
    "trials_df.head()"
   ]
  },
  {
   "cell_type": "code",
   "execution_count": null,
   "id": "51db3773",
   "metadata": {},
   "outputs": [],
   "source": [
    "trial_subj_avg = trials_df.groupby([\"subject\", \"trial_type\"]).mean()\n",
    "trial_subj_avg"
   ]
  },
  {
   "cell_type": "code",
   "execution_count": null,
   "id": "f239401e",
   "metadata": {},
   "outputs": [],
   "source": [
    "trials_df.set_index([\"subject\", \"trial_type\"]) - trial_subj_avg"
   ]
  },
  {
   "cell_type": "markdown",
   "id": "486a58d6",
   "metadata": {},
   "source": [
    "(Practicals 1.4.0)"
   ]
  },
  {
   "cell_type": "markdown",
   "id": "4a83dc66",
   "metadata": {},
   "source": [
    "## Rolling functions with `.rolling()`"
   ]
  },
  {
   "cell_type": "markdown",
   "id": "f0113fee",
   "metadata": {},
   "source": [
    "Imagine we have a time series of data, and we want to compute the mean in a sliding window (e.g., for smoothing)."
   ]
  },
  {
   "cell_type": "code",
   "execution_count": null,
   "id": "f7dacf7b",
   "metadata": {},
   "outputs": [],
   "source": [
    "# Let's create a time series:\n",
    "time_series = pd.Series(np.random.rand(100))\n",
    "time_series.plot()"
   ]
  },
  {
   "cell_type": "code",
   "execution_count": null,
   "id": "0168f7e8",
   "metadata": {},
   "outputs": [],
   "source": [
    "# This will compute the mean in a rolling window - ie, smooth it!\n",
    "rolling_wnd_size = 10\n",
    "smoothed = time_series.rolling(rolling_wnd_size).mean()"
   ]
  },
  {
   "cell_type": "code",
   "execution_count": null,
   "id": "2f62c490",
   "metadata": {},
   "outputs": [],
   "source": [
    "time_series.plot(legend=\"Original\")\n",
    "smoothed.plot(legend=\"Time averaged\")"
   ]
  },
  {
   "cell_type": "markdown",
   "id": "548ac227",
   "metadata": {},
   "source": [
    "Note that there will be nan values at the borders, where we do not have enough data to compute the mean"
   ]
  },
  {
   "cell_type": "markdown",
   "id": "05694426",
   "metadata": {},
   "source": [
    "By default, the window will not be centered:"
   ]
  },
  {
   "cell_type": "code",
   "execution_count": null,
   "id": "ac759b57",
   "metadata": {},
   "outputs": [],
   "source": [
    "dirac_series = pd.Series(np.zeros(30))\n",
    "dirac_series[15] = 1"
   ]
  },
  {
   "cell_type": "code",
   "execution_count": null,
   "id": "84ba4955",
   "metadata": {},
   "outputs": [],
   "source": [
    "dirac_series.plot(figsize=(3,2))\n",
    "dirac_series.rolling(8).mean().plot()"
   ]
  },
  {
   "cell_type": "markdown",
   "id": "ffa0c92d",
   "metadata": {},
   "source": [
    "We can center the window with the `center=True` argument:"
   ]
  },
  {
   "cell_type": "code",
   "execution_count": null,
   "id": "f365f21c",
   "metadata": {},
   "outputs": [],
   "source": [
    "dirac_series.plot(figsize=(3,2))\n",
    "dirac_series.rolling(8, center=True).mean().plot()"
   ]
  },
  {
   "cell_type": "markdown",
   "id": "882c6b00",
   "metadata": {},
   "source": [
    "### Usage of `.rolling()`"
   ]
  },
  {
   "cell_type": "markdown",
   "id": "60c390a2",
   "metadata": {},
   "source": [
    "When done with averaging, same results as other smoothing tools"
   ]
  },
  {
   "cell_type": "markdown",
   "id": "f8c6c740",
   "metadata": {},
   "source": [
    "But now we can use arbitrary functions! (standard deviation, significance tests, etc)"
   ]
  },
  {
   "cell_type": "markdown",
   "id": "579dd4bc",
   "metadata": {},
   "source": [
    "For example, we can look at the range of an oscillation with rolling `max()` and `min()`:"
   ]
  },
  {
   "cell_type": "code",
   "execution_count": null,
   "id": "c7112545",
   "metadata": {},
   "outputs": [],
   "source": [
    "win_size = 10\n",
    "time_series.plot()\n",
    "time_series.rolling(window=win_size, center=True).min().plot()\n",
    "time_series.rolling(window=win_size, center=True).max().plot()"
   ]
  },
  {
   "cell_type": "markdown",
   "id": "629c086c",
   "metadata": {},
   "source": [
    "(Practicals 1.4.1)"
   ]
  },
  {
   "cell_type": "markdown",
   "id": "a710cfbb",
   "metadata": {},
   "source": [
    "## Object-oriented plotting using `matplotlib`"
   ]
  },
  {
   "cell_type": "markdown",
   "id": "e208d4cc",
   "metadata": {},
   "source": [
    "Recap: the standard plotting library in Python is `matplotlib`."
   ]
  },
  {
   "cell_type": "code",
   "execution_count": null,
   "id": "bed5a647",
   "metadata": {},
   "outputs": [],
   "source": [
    "import matplotlib.pyplot as plt"
   ]
  },
  {
   "cell_type": "markdown",
   "id": "1457ef42",
   "metadata": {},
   "source": [
    "To open a new figure, we call `plt.figure()` (if we don't, matplotlib will plot on the last figure we opened)."
   ]
  },
  {
   "cell_type": "code",
   "execution_count": null,
   "id": "12acf8cd",
   "metadata": {},
   "outputs": [],
   "source": [
    "plt.figure(figsize=(3,2))  # with the figsize argument we can control the dimension of the plot\n",
    "plt.plot([1, 2, 2, 3])  # plot a line\n"
   ]
  },
  {
   "cell_type": "markdown",
   "id": "28d2bf0b",
   "metadata": {},
   "source": [
    "In a simple plot we can control attributes of the plot with some functions such as `plt.xlabel()` or `plt.xlim()`:"
   ]
  },
  {
   "cell_type": "code",
   "execution_count": null,
   "id": "db4bdba1",
   "metadata": {},
   "outputs": [],
   "source": [
    "plt.figure(figsize=(3,2))\n",
    "plt.hist(np.random.randn(1000))\n",
    "plt.xlabel(\"Values\")\n",
    "plt.ylabel(\"Count\")\n",
    "plt.ylim(0, 500)"
   ]
  },
  {
   "cell_type": "markdown",
   "id": "13daed02",
   "metadata": {},
   "source": [
    "## Object oriented interface"
   ]
  },
  {
   "cell_type": "markdown",
   "id": "61e39bf3",
   "metadata": {},
   "source": [
    "`matplotlib` has two interfaces: a simple one, and an object oriented one."
   ]
  },
  {
   "cell_type": "markdown",
   "id": "25c5b605",
   "metadata": {},
   "source": [
    "To make more complex plots, we should use the object oriented interface: it's more flexible and expressive."
   ]
  },
  {
   "cell_type": "code",
   "execution_count": null,
   "id": "4fa2643b",
   "metadata": {},
   "outputs": [],
   "source": [
    "fig, ax = plt.subplots(figsize=(3,2)) # this will create a figure and an axis object"
   ]
  },
  {
   "cell_type": "code",
   "execution_count": null,
   "id": "4fa16601",
   "metadata": {},
   "outputs": [],
   "source": [
    "type(fig), type(ax)"
   ]
  },
  {
   "cell_type": "code",
   "execution_count": null,
   "id": "3f84d3b8",
   "metadata": {},
   "outputs": [],
   "source": [
    "fig, ax = plt.subplots(figsize=(3,2)) # this will create a figure and an axis object\n",
    "# We can now call methods of the axis object:\n",
    "ax.plot([1, 2, 2, 3])\n",
    "\n",
    "# We can modify the aspect of the axis using its methods:\n",
    "ax.set(xlabel=\"Time\", ylabel=\"Money\", title=\"My plot\")"
   ]
  },
  {
   "cell_type": "markdown",
   "id": "f11010be",
   "metadata": {},
   "source": [
    "My recommandation is to get used to the object oriented interface!"
   ]
  },
  {
   "cell_type": "markdown",
   "id": "d6130ebb",
   "metadata": {},
   "source": [
    "Also, I would generally stick to the `matplotlib` functions to generate panels and not mix code with the pandas plotting functions."
   ]
  },
  {
   "cell_type": "markdown",
   "id": "e7796f52",
   "metadata": {},
   "source": [
    "## Matplotlib subplots"
   ]
  },
  {
   "cell_type": "markdown",
   "id": "e67d1508",
   "metadata": {},
   "source": [
    "Using `plt.subplots()` we can create a figure with multiple panels:"
   ]
  },
  {
   "cell_type": "code",
   "execution_count": null,
   "id": "9897f8ea",
   "metadata": {},
   "outputs": [],
   "source": [
    "fig, axes = plt.subplots(2, 2, figsize=(6, 4))"
   ]
  },
  {
   "cell_type": "markdown",
   "id": "f189c92d",
   "metadata": {},
   "source": [
    "Those axes will be a 2x2 array `numpy` array of axis objects!"
   ]
  },
  {
   "cell_type": "code",
   "execution_count": null,
   "id": "ddd3e48d",
   "metadata": {},
   "outputs": [],
   "source": [
    "type(axes)"
   ]
  },
  {
   "cell_type": "code",
   "execution_count": null,
   "id": "5bb07a6e",
   "metadata": {},
   "outputs": [],
   "source": [
    "axes.shape"
   ]
  },
  {
   "cell_type": "code",
   "execution_count": null,
   "id": "eab310dd",
   "metadata": {},
   "outputs": [],
   "source": [
    "type(axes[0, 0])"
   ]
  },
  {
   "cell_type": "markdown",
   "id": "538824f0",
   "metadata": {},
   "source": [
    "We can plot on each of the axes indexing them the numpy way:"
   ]
  },
  {
   "cell_type": "code",
   "execution_count": null,
   "id": "8c5d07b8",
   "metadata": {},
   "outputs": [],
   "source": [
    "axes[0, 0]  # access one subplot from the grid. From here we can plot using plotting methods"
   ]
  },
  {
   "cell_type": "markdown",
   "id": "ea84cb25",
   "metadata": {},
   "source": [
    "So we first index the correct axis, and then we use its plotting method:"
   ]
  },
  {
   "cell_type": "code",
   "execution_count": null,
   "id": "6fba4f65",
   "metadata": {},
   "outputs": [],
   "source": [
    "fig, axes = plt.subplots(2, 2, figsize=(6, 4))\n",
    "\n",
    "axes[1, 1].plot([1, 2, 2, 3])"
   ]
  },
  {
   "cell_type": "markdown",
   "id": "6f854609",
   "metadata": {},
   "source": [
    "It is easy to iterate over multiple axes:"
   ]
  },
  {
   "cell_type": "code",
   "execution_count": null,
   "id": "30ce5fa0",
   "metadata": {},
   "outputs": [],
   "source": [
    "fig, axes = plt.subplots(2, 2, figsize=(6, 4))\n",
    "x = np.arange(-5, 5, 0.1)\n",
    "\n",
    "# Double loop over rows and columns\n",
    "for col_idx  in range(2):\n",
    "    for row_idx in range(2):\n",
    "        current_axis = axes[row_idx, col_idx]  # current_axis = axes.flat[i]  # Select one axis\n",
    "        i = col_idx + row_idx*2\n",
    "        current_axis.plot(x, x**i)  # Plot on it\n",
    "        current_axis.set(title=f\"Power {i}\")  # Set title\n",
    "        \n",
    "## cleaner alternative to go through all plots in a single loop:\n",
    "for i in range(4):\n",
    "    current_axis = axes.flat[i]\n",
    "    ...\n",
    "    \n",
    "\n",
    "plt.tight_layout()  # separate plots better"
   ]
  },
  {
   "cell_type": "markdown",
   "id": "b0b94b5f",
   "metadata": {},
   "source": [
    "Practicals 1.4.2"
   ]
  }
 ],
 "metadata": {
  "celltoolbar": "Slideshow",
  "kernelspec": {
   "display_name": "Python [conda env:course_env]",
   "language": "python",
   "name": "conda-env-course_env-py"
  },
  "language_info": {
   "codemirror_mode": {
    "name": "ipython",
    "version": 3
   },
   "file_extension": ".py",
   "mimetype": "text/x-python",
   "name": "python",
   "nbconvert_exporter": "python",
   "pygments_lexer": "ipython3"
  }
 },
 "nbformat": 4,
 "nbformat_minor": 5
}
