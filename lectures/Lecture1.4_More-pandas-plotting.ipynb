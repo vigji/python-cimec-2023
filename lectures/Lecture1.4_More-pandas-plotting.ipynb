{
 "cells": [
  {
   "cell_type": "markdown",
   "id": "3ca811a3",
   "metadata": {
    "slideshow": {
     "slide_type": "slide"
    }
   },
   "source": [
    "# Python for (open) Neuroscience\n",
    "\n",
    "_Lecture 1.4_ - More on `pandas` and plotting\n",
    "\n",
    "Luigi Petrucco\n",
    "\n",
    "Jean-Charles Mariani\n",
    "\n",
    "[![Open In Colab](https://colab.research.google.com/assets/colab-badge.svg)](https://colab.research.google.com/github/vigji/python-cimec/blob/main/lectures/Lecture1.4_More-panda-plotting.ipynb)"
   ]
  },
  {
   "cell_type": "code",
   "execution_count": 55,
   "id": "5929db60",
   "metadata": {
    "ExecuteTime": {
     "end_time": "2023-05-22T06:39:11.270745Z",
     "start_time": "2023-05-22T06:39:10.723492Z"
    },
    "slideshow": {
     "slide_type": "slide"
    }
   },
   "outputs": [],
   "source": [
    "import pandas as pd\n",
    "import numpy as np\n",
    "from matplotlib import pyplot as plt"
   ]
  },
  {
   "cell_type": "markdown",
   "id": "058ff74a",
   "metadata": {
    "slideshow": {
     "slide_type": "subslide"
    }
   },
   "source": [
    "### `.groupby()`"
   ]
  },
  {
   "cell_type": "markdown",
   "id": "d124808d",
   "metadata": {},
   "source": [
    "We have a handy syntax to average within each category with `.groupby()`.\n",
    "\n",
    "The sintax is :\n",
    "```python\n",
    "df.groupby(\"name_of_the_category_column\").operation()\n",
    "```"
   ]
  },
  {
   "cell_type": "markdown",
   "id": "fb7dba9b",
   "metadata": {
    "slideshow": {
     "slide_type": "subslide"
    }
   },
   "source": [
    "Let's create a dataframe with some data for each of three subjects:"
   ]
  },
  {
   "cell_type": "code",
   "execution_count": 57,
   "id": "5296bbda",
   "metadata": {
    "ExecuteTime": {
     "end_time": "2023-05-22T06:51:09.299512Z",
     "start_time": "2023-05-22T06:51:09.272746Z"
    },
    "slideshow": {
     "slide_type": "-"
    }
   },
   "outputs": [
    {
     "data": {
      "text/html": [
       "<div>\n",
       "<style scoped>\n",
       "    .dataframe tbody tr th:only-of-type {\n",
       "        vertical-align: middle;\n",
       "    }\n",
       "\n",
       "    .dataframe tbody tr th {\n",
       "        vertical-align: top;\n",
       "    }\n",
       "\n",
       "    .dataframe thead th {\n",
       "        text-align: right;\n",
       "    }\n",
       "</style>\n",
       "<table border=\"1\" class=\"dataframe\">\n",
       "  <thead>\n",
       "    <tr style=\"text-align: right;\">\n",
       "      <th></th>\n",
       "      <th>subject</th>\n",
       "      <th>accuracy</th>\n",
       "      <th>rt</th>\n",
       "    </tr>\n",
       "  </thead>\n",
       "  <tbody>\n",
       "    <tr>\n",
       "      <th>0</th>\n",
       "      <td>subj0</td>\n",
       "      <td>0.069598</td>\n",
       "      <td>5.463202</td>\n",
       "    </tr>\n",
       "    <tr>\n",
       "      <th>1</th>\n",
       "      <td>subj0</td>\n",
       "      <td>0.195559</td>\n",
       "      <td>7.617445</td>\n",
       "    </tr>\n",
       "    <tr>\n",
       "      <th>2</th>\n",
       "      <td>subj0</td>\n",
       "      <td>0.915793</td>\n",
       "      <td>23.477228</td>\n",
       "    </tr>\n",
       "    <tr>\n",
       "      <th>3</th>\n",
       "      <td>subj0</td>\n",
       "      <td>0.963193</td>\n",
       "      <td>64.847542</td>\n",
       "    </tr>\n",
       "    <tr>\n",
       "      <th>4</th>\n",
       "      <td>subj1</td>\n",
       "      <td>0.803368</td>\n",
       "      <td>59.063956</td>\n",
       "    </tr>\n",
       "    <tr>\n",
       "      <th>5</th>\n",
       "      <td>subj1</td>\n",
       "      <td>0.136314</td>\n",
       "      <td>64.770474</td>\n",
       "    </tr>\n",
       "  </tbody>\n",
       "</table>\n",
       "</div>"
      ],
      "text/plain": [
       "  subject  accuracy         rt\n",
       "0   subj0  0.069598   5.463202\n",
       "1   subj0  0.195559   7.617445\n",
       "2   subj0  0.915793  23.477228\n",
       "3   subj0  0.963193  64.847542\n",
       "4   subj1  0.803368  59.063956\n",
       "5   subj1  0.136314  64.770474"
      ]
     },
     "execution_count": 57,
     "metadata": {},
     "output_type": "execute_result"
    }
   ],
   "source": [
    "n_subjects, n_trials = 3, 4\n",
    "trials_df = pd.DataFrame(dict(subject=[f\"subj{i}\" for i in range(n_subjects) for _ in range(n_trials)],\n",
    "                              accuracy=np.random.uniform(0, 1, n_trials*n_subjects), rt=np.random.uniform(0, 100, n_trials*n_subjects)))\n",
    "trials_df.head(6)"
   ]
  },
  {
   "cell_type": "code",
   "execution_count": 6,
   "id": "8591cf08",
   "metadata": {
    "ExecuteTime": {
     "end_time": "2023-05-22T06:51:14.406183Z",
     "start_time": "2023-05-22T06:51:14.399015Z"
    },
    "slideshow": {
     "slide_type": "fragment"
    }
   },
   "outputs": [
    {
     "data": {
      "text/html": [
       "<div>\n",
       "<style scoped>\n",
       "    .dataframe tbody tr th:only-of-type {\n",
       "        vertical-align: middle;\n",
       "    }\n",
       "\n",
       "    .dataframe tbody tr th {\n",
       "        vertical-align: top;\n",
       "    }\n",
       "\n",
       "    .dataframe thead th {\n",
       "        text-align: right;\n",
       "    }\n",
       "</style>\n",
       "<table border=\"1\" class=\"dataframe\">\n",
       "  <thead>\n",
       "    <tr style=\"text-align: right;\">\n",
       "      <th></th>\n",
       "      <th>accuracy</th>\n",
       "      <th>rt</th>\n",
       "    </tr>\n",
       "    <tr>\n",
       "      <th>subject</th>\n",
       "      <th></th>\n",
       "      <th></th>\n",
       "    </tr>\n",
       "  </thead>\n",
       "  <tbody>\n",
       "    <tr>\n",
       "      <th>subj0</th>\n",
       "      <td>0.476039</td>\n",
       "      <td>50.745263</td>\n",
       "    </tr>\n",
       "    <tr>\n",
       "      <th>subj1</th>\n",
       "      <td>0.768287</td>\n",
       "      <td>47.652717</td>\n",
       "    </tr>\n",
       "    <tr>\n",
       "      <th>subj2</th>\n",
       "      <td>0.409986</td>\n",
       "      <td>63.127683</td>\n",
       "    </tr>\n",
       "  </tbody>\n",
       "</table>\n",
       "</div>"
      ],
      "text/plain": [
       "         accuracy         rt\n",
       "subject                     \n",
       "subj0    0.476039  50.745263\n",
       "subj1    0.768287  47.652717\n",
       "subj2    0.409986  63.127683"
      ]
     },
     "execution_count": 6,
     "metadata": {},
     "output_type": "execute_result"
    }
   ],
   "source": [
    "# In this case, the operation is `mean()`.\n",
    "# Note how the result will have the variable we group by as index:\n",
    "subj_means_df = trials_df.groupby(\"subject\").mean()\n",
    "subj_means_df"
   ]
  },
  {
   "cell_type": "markdown",
   "id": "21579a47",
   "metadata": {
    "slideshow": {
     "slide_type": "subslide"
    }
   },
   "source": [
    "By the way, this is a reason why methods are better than functions in this case: they can be chained with a clearer syntax!"
   ]
  },
  {
   "cell_type": "markdown",
   "id": "82f8456c",
   "metadata": {
    "slideshow": {
     "slide_type": "subslide"
    }
   },
   "source": [
    "## Index broadcasting in `pandas`"
   ]
  },
  {
   "cell_type": "markdown",
   "id": "1d2c5910",
   "metadata": {},
   "source": [
    "Let's subtract from each subject the mean for each variable."
   ]
  },
  {
   "cell_type": "code",
   "execution_count": 58,
   "id": "3e7b964d",
   "metadata": {
    "ExecuteTime": {
     "end_time": "2023-05-22T06:51:18.794886Z",
     "start_time": "2023-05-22T06:51:18.790746Z"
    },
    "scrolled": true
   },
   "outputs": [
    {
     "data": {
      "text/html": [
       "<div>\n",
       "<style scoped>\n",
       "    .dataframe tbody tr th:only-of-type {\n",
       "        vertical-align: middle;\n",
       "    }\n",
       "\n",
       "    .dataframe tbody tr th {\n",
       "        vertical-align: top;\n",
       "    }\n",
       "\n",
       "    .dataframe thead th {\n",
       "        text-align: right;\n",
       "    }\n",
       "</style>\n",
       "<table border=\"1\" class=\"dataframe\">\n",
       "  <thead>\n",
       "    <tr style=\"text-align: right;\">\n",
       "      <th></th>\n",
       "      <th>subject</th>\n",
       "      <th>accuracy</th>\n",
       "      <th>rt</th>\n",
       "    </tr>\n",
       "  </thead>\n",
       "  <tbody>\n",
       "    <tr>\n",
       "      <th>0</th>\n",
       "      <td>subj0</td>\n",
       "      <td>0.069598</td>\n",
       "      <td>5.463202</td>\n",
       "    </tr>\n",
       "    <tr>\n",
       "      <th>1</th>\n",
       "      <td>subj0</td>\n",
       "      <td>0.195559</td>\n",
       "      <td>7.617445</td>\n",
       "    </tr>\n",
       "    <tr>\n",
       "      <th>2</th>\n",
       "      <td>subj0</td>\n",
       "      <td>0.915793</td>\n",
       "      <td>23.477228</td>\n",
       "    </tr>\n",
       "    <tr>\n",
       "      <th>3</th>\n",
       "      <td>subj0</td>\n",
       "      <td>0.963193</td>\n",
       "      <td>64.847542</td>\n",
       "    </tr>\n",
       "    <tr>\n",
       "      <th>4</th>\n",
       "      <td>subj1</td>\n",
       "      <td>0.803368</td>\n",
       "      <td>59.063956</td>\n",
       "    </tr>\n",
       "  </tbody>\n",
       "</table>\n",
       "</div>"
      ],
      "text/plain": [
       "  subject  accuracy         rt\n",
       "0   subj0  0.069598   5.463202\n",
       "1   subj0  0.195559   7.617445\n",
       "2   subj0  0.915793  23.477228\n",
       "3   subj0  0.963193  64.847542\n",
       "4   subj1  0.803368  59.063956"
      ]
     },
     "execution_count": 58,
     "metadata": {},
     "output_type": "execute_result"
    }
   ],
   "source": [
    "trials_df.head(5)"
   ]
  },
  {
   "cell_type": "code",
   "execution_count": 8,
   "id": "aacda54f",
   "metadata": {
    "ExecuteTime": {
     "end_time": "2023-05-22T06:51:20.077986Z",
     "start_time": "2023-05-22T06:51:20.072797Z"
    }
   },
   "outputs": [
    {
     "data": {
      "text/html": [
       "<div>\n",
       "<style scoped>\n",
       "    .dataframe tbody tr th:only-of-type {\n",
       "        vertical-align: middle;\n",
       "    }\n",
       "\n",
       "    .dataframe tbody tr th {\n",
       "        vertical-align: top;\n",
       "    }\n",
       "\n",
       "    .dataframe thead th {\n",
       "        text-align: right;\n",
       "    }\n",
       "</style>\n",
       "<table border=\"1\" class=\"dataframe\">\n",
       "  <thead>\n",
       "    <tr style=\"text-align: right;\">\n",
       "      <th></th>\n",
       "      <th>accuracy</th>\n",
       "      <th>rt</th>\n",
       "    </tr>\n",
       "    <tr>\n",
       "      <th>subject</th>\n",
       "      <th></th>\n",
       "      <th></th>\n",
       "    </tr>\n",
       "  </thead>\n",
       "  <tbody>\n",
       "    <tr>\n",
       "      <th>subj0</th>\n",
       "      <td>0.476039</td>\n",
       "      <td>50.745263</td>\n",
       "    </tr>\n",
       "    <tr>\n",
       "      <th>subj1</th>\n",
       "      <td>0.768287</td>\n",
       "      <td>47.652717</td>\n",
       "    </tr>\n",
       "    <tr>\n",
       "      <th>subj2</th>\n",
       "      <td>0.409986</td>\n",
       "      <td>63.127683</td>\n",
       "    </tr>\n",
       "  </tbody>\n",
       "</table>\n",
       "</div>"
      ],
      "text/plain": [
       "         accuracy         rt\n",
       "subject                     \n",
       "subj0    0.476039  50.745263\n",
       "subj1    0.768287  47.652717\n",
       "subj2    0.409986  63.127683"
      ]
     },
     "execution_count": 8,
     "metadata": {},
     "output_type": "execute_result"
    }
   ],
   "source": [
    "subj_means_df.head(3)"
   ]
  },
  {
   "cell_type": "markdown",
   "id": "b77ecb0f",
   "metadata": {
    "slideshow": {
     "slide_type": "subslide"
    }
   },
   "source": [
    "The indexes obviously don't match!"
   ]
  },
  {
   "cell_type": "code",
   "execution_count": 49,
   "id": "2547f767",
   "metadata": {
    "ExecuteTime": {
     "end_time": "2023-05-22T06:51:22.292752Z",
     "start_time": "2023-05-22T06:51:22.287443Z"
    }
   },
   "outputs": [
    {
     "data": {
      "text/html": [
       "<div>\n",
       "<style scoped>\n",
       "    .dataframe tbody tr th:only-of-type {\n",
       "        vertical-align: middle;\n",
       "    }\n",
       "\n",
       "    .dataframe tbody tr th {\n",
       "        vertical-align: top;\n",
       "    }\n",
       "\n",
       "    .dataframe thead th {\n",
       "        text-align: right;\n",
       "    }\n",
       "</style>\n",
       "<table border=\"1\" class=\"dataframe\">\n",
       "  <thead>\n",
       "    <tr style=\"text-align: right;\">\n",
       "      <th></th>\n",
       "      <th>accuracy</th>\n",
       "      <th>rt</th>\n",
       "      <th>subject</th>\n",
       "      <th>trial_type</th>\n",
       "    </tr>\n",
       "  </thead>\n",
       "  <tbody>\n",
       "    <tr>\n",
       "      <th>0</th>\n",
       "      <td>NaN</td>\n",
       "      <td>NaN</td>\n",
       "      <td>NaN</td>\n",
       "      <td>NaN</td>\n",
       "    </tr>\n",
       "    <tr>\n",
       "      <th>1</th>\n",
       "      <td>NaN</td>\n",
       "      <td>NaN</td>\n",
       "      <td>NaN</td>\n",
       "      <td>NaN</td>\n",
       "    </tr>\n",
       "    <tr>\n",
       "      <th>2</th>\n",
       "      <td>NaN</td>\n",
       "      <td>NaN</td>\n",
       "      <td>NaN</td>\n",
       "      <td>NaN</td>\n",
       "    </tr>\n",
       "    <tr>\n",
       "      <th>3</th>\n",
       "      <td>NaN</td>\n",
       "      <td>NaN</td>\n",
       "      <td>NaN</td>\n",
       "      <td>NaN</td>\n",
       "    </tr>\n",
       "    <tr>\n",
       "      <th>4</th>\n",
       "      <td>NaN</td>\n",
       "      <td>NaN</td>\n",
       "      <td>NaN</td>\n",
       "      <td>NaN</td>\n",
       "    </tr>\n",
       "    <tr>\n",
       "      <th>5</th>\n",
       "      <td>NaN</td>\n",
       "      <td>NaN</td>\n",
       "      <td>NaN</td>\n",
       "      <td>NaN</td>\n",
       "    </tr>\n",
       "    <tr>\n",
       "      <th>6</th>\n",
       "      <td>NaN</td>\n",
       "      <td>NaN</td>\n",
       "      <td>NaN</td>\n",
       "      <td>NaN</td>\n",
       "    </tr>\n",
       "    <tr>\n",
       "      <th>7</th>\n",
       "      <td>NaN</td>\n",
       "      <td>NaN</td>\n",
       "      <td>NaN</td>\n",
       "      <td>NaN</td>\n",
       "    </tr>\n",
       "    <tr>\n",
       "      <th>8</th>\n",
       "      <td>NaN</td>\n",
       "      <td>NaN</td>\n",
       "      <td>NaN</td>\n",
       "      <td>NaN</td>\n",
       "    </tr>\n",
       "    <tr>\n",
       "      <th>9</th>\n",
       "      <td>NaN</td>\n",
       "      <td>NaN</td>\n",
       "      <td>NaN</td>\n",
       "      <td>NaN</td>\n",
       "    </tr>\n",
       "    <tr>\n",
       "      <th>10</th>\n",
       "      <td>NaN</td>\n",
       "      <td>NaN</td>\n",
       "      <td>NaN</td>\n",
       "      <td>NaN</td>\n",
       "    </tr>\n",
       "    <tr>\n",
       "      <th>11</th>\n",
       "      <td>NaN</td>\n",
       "      <td>NaN</td>\n",
       "      <td>NaN</td>\n",
       "      <td>NaN</td>\n",
       "    </tr>\n",
       "    <tr>\n",
       "      <th>subj0</th>\n",
       "      <td>NaN</td>\n",
       "      <td>NaN</td>\n",
       "      <td>NaN</td>\n",
       "      <td>NaN</td>\n",
       "    </tr>\n",
       "    <tr>\n",
       "      <th>subj1</th>\n",
       "      <td>NaN</td>\n",
       "      <td>NaN</td>\n",
       "      <td>NaN</td>\n",
       "      <td>NaN</td>\n",
       "    </tr>\n",
       "    <tr>\n",
       "      <th>subj2</th>\n",
       "      <td>NaN</td>\n",
       "      <td>NaN</td>\n",
       "      <td>NaN</td>\n",
       "      <td>NaN</td>\n",
       "    </tr>\n",
       "  </tbody>\n",
       "</table>\n",
       "</div>"
      ],
      "text/plain": [
       "       accuracy  rt  subject  trial_type\n",
       "0           NaN NaN      NaN         NaN\n",
       "1           NaN NaN      NaN         NaN\n",
       "2           NaN NaN      NaN         NaN\n",
       "3           NaN NaN      NaN         NaN\n",
       "4           NaN NaN      NaN         NaN\n",
       "5           NaN NaN      NaN         NaN\n",
       "6           NaN NaN      NaN         NaN\n",
       "7           NaN NaN      NaN         NaN\n",
       "8           NaN NaN      NaN         NaN\n",
       "9           NaN NaN      NaN         NaN\n",
       "10          NaN NaN      NaN         NaN\n",
       "11          NaN NaN      NaN         NaN\n",
       "subj0       NaN NaN      NaN         NaN\n",
       "subj1       NaN NaN      NaN         NaN\n",
       "subj2       NaN NaN      NaN         NaN"
      ]
     },
     "execution_count": 49,
     "metadata": {},
     "output_type": "execute_result"
    }
   ],
   "source": [
    "# this will try to match indexes of one dataframe with the other. As there won't be matches, \n",
    "# the result will be lots of nans!\n",
    "trials_df - subj_means_df"
   ]
  },
  {
   "cell_type": "markdown",
   "id": "350cbd41",
   "metadata": {
    "slideshow": {
     "slide_type": "subslide"
    }
   },
   "source": [
    "But pandas will broadcast values using indices if we make them consistent!"
   ]
  },
  {
   "cell_type": "code",
   "execution_count": 51,
   "id": "2f698ef9",
   "metadata": {
    "ExecuteTime": {
     "end_time": "2023-05-22T06:51:27.450544Z",
     "start_time": "2023-05-22T06:51:27.440474Z"
    }
   },
   "outputs": [
    {
     "data": {
      "text/html": [
       "<div>\n",
       "<style scoped>\n",
       "    .dataframe tbody tr th:only-of-type {\n",
       "        vertical-align: middle;\n",
       "    }\n",
       "\n",
       "    .dataframe tbody tr th {\n",
       "        vertical-align: top;\n",
       "    }\n",
       "\n",
       "    .dataframe thead th {\n",
       "        text-align: right;\n",
       "    }\n",
       "</style>\n",
       "<table border=\"1\" class=\"dataframe\">\n",
       "  <thead>\n",
       "    <tr style=\"text-align: right;\">\n",
       "      <th></th>\n",
       "      <th>trial_type</th>\n",
       "      <th>accuracy</th>\n",
       "      <th>rt</th>\n",
       "    </tr>\n",
       "    <tr>\n",
       "      <th>subject</th>\n",
       "      <th></th>\n",
       "      <th></th>\n",
       "      <th></th>\n",
       "    </tr>\n",
       "  </thead>\n",
       "  <tbody>\n",
       "    <tr>\n",
       "      <th>subj0</th>\n",
       "      <td>type0</td>\n",
       "      <td>0.802787</td>\n",
       "      <td>46.736237</td>\n",
       "    </tr>\n",
       "    <tr>\n",
       "      <th>subj0</th>\n",
       "      <td>type0</td>\n",
       "      <td>0.270150</td>\n",
       "      <td>69.533324</td>\n",
       "    </tr>\n",
       "    <tr>\n",
       "      <th>subj0</th>\n",
       "      <td>type1</td>\n",
       "      <td>0.502427</td>\n",
       "      <td>42.999013</td>\n",
       "    </tr>\n",
       "    <tr>\n",
       "      <th>subj0</th>\n",
       "      <td>type1</td>\n",
       "      <td>0.478743</td>\n",
       "      <td>86.961449</td>\n",
       "    </tr>\n",
       "    <tr>\n",
       "      <th>subj1</th>\n",
       "      <td>type0</td>\n",
       "      <td>0.203827</td>\n",
       "      <td>52.407474</td>\n",
       "    </tr>\n",
       "    <tr>\n",
       "      <th>subj1</th>\n",
       "      <td>type0</td>\n",
       "      <td>0.801548</td>\n",
       "      <td>12.791994</td>\n",
       "    </tr>\n",
       "    <tr>\n",
       "      <th>subj1</th>\n",
       "      <td>type1</td>\n",
       "      <td>0.995800</td>\n",
       "      <td>63.288614</td>\n",
       "    </tr>\n",
       "    <tr>\n",
       "      <th>subj1</th>\n",
       "      <td>type1</td>\n",
       "      <td>0.418087</td>\n",
       "      <td>11.669838</td>\n",
       "    </tr>\n",
       "    <tr>\n",
       "      <th>subj2</th>\n",
       "      <td>type0</td>\n",
       "      <td>0.019232</td>\n",
       "      <td>10.285711</td>\n",
       "    </tr>\n",
       "    <tr>\n",
       "      <th>subj2</th>\n",
       "      <td>type0</td>\n",
       "      <td>0.821348</td>\n",
       "      <td>46.348719</td>\n",
       "    </tr>\n",
       "    <tr>\n",
       "      <th>subj2</th>\n",
       "      <td>type1</td>\n",
       "      <td>0.887836</td>\n",
       "      <td>1.616204</td>\n",
       "    </tr>\n",
       "    <tr>\n",
       "      <th>subj2</th>\n",
       "      <td>type1</td>\n",
       "      <td>0.774071</td>\n",
       "      <td>57.396657</td>\n",
       "    </tr>\n",
       "  </tbody>\n",
       "</table>\n",
       "</div>"
      ],
      "text/plain": [
       "        trial_type  accuracy         rt\n",
       "subject                                \n",
       "subj0        type0  0.802787  46.736237\n",
       "subj0        type0  0.270150  69.533324\n",
       "subj0        type1  0.502427  42.999013\n",
       "subj0        type1  0.478743  86.961449\n",
       "subj1        type0  0.203827  52.407474\n",
       "subj1        type0  0.801548  12.791994\n",
       "subj1        type1  0.995800  63.288614\n",
       "subj1        type1  0.418087  11.669838\n",
       "subj2        type0  0.019232  10.285711\n",
       "subj2        type0  0.821348  46.348719\n",
       "subj2        type1  0.887836   1.616204\n",
       "subj2        type1  0.774071  57.396657"
      ]
     },
     "execution_count": 51,
     "metadata": {},
     "output_type": "execute_result"
    }
   ],
   "source": [
    "trials_df.set_index(\"subject\")\n",
    " #trials_df.head()"
   ]
  },
  {
   "cell_type": "markdown",
   "id": "6cc991e9",
   "metadata": {
    "slideshow": {
     "slide_type": "subslide"
    }
   },
   "source": [
    "So now we can write:"
   ]
  },
  {
   "cell_type": "code",
   "execution_count": 59,
   "id": "f19d711e",
   "metadata": {
    "ExecuteTime": {
     "end_time": "2023-05-22T06:51:29.746540Z",
     "start_time": "2023-05-22T06:51:29.741953Z"
    },
    "slideshow": {
     "slide_type": "-"
    }
   },
   "outputs": [
    {
     "data": {
      "text/html": [
       "<div>\n",
       "<style scoped>\n",
       "    .dataframe tbody tr th:only-of-type {\n",
       "        vertical-align: middle;\n",
       "    }\n",
       "\n",
       "    .dataframe tbody tr th {\n",
       "        vertical-align: top;\n",
       "    }\n",
       "\n",
       "    .dataframe thead th {\n",
       "        text-align: right;\n",
       "    }\n",
       "</style>\n",
       "<table border=\"1\" class=\"dataframe\">\n",
       "  <thead>\n",
       "    <tr style=\"text-align: right;\">\n",
       "      <th></th>\n",
       "      <th>accuracy</th>\n",
       "      <th>rt</th>\n",
       "    </tr>\n",
       "    <tr>\n",
       "      <th>subject</th>\n",
       "      <th></th>\n",
       "      <th></th>\n",
       "    </tr>\n",
       "  </thead>\n",
       "  <tbody>\n",
       "    <tr>\n",
       "      <th>subj0</th>\n",
       "      <td>-0.406441</td>\n",
       "      <td>-45.282061</td>\n",
       "    </tr>\n",
       "    <tr>\n",
       "      <th>subj0</th>\n",
       "      <td>-0.280480</td>\n",
       "      <td>-43.127818</td>\n",
       "    </tr>\n",
       "    <tr>\n",
       "      <th>subj0</th>\n",
       "      <td>0.439754</td>\n",
       "      <td>-27.268035</td>\n",
       "    </tr>\n",
       "    <tr>\n",
       "      <th>subj0</th>\n",
       "      <td>0.487154</td>\n",
       "      <td>14.102279</td>\n",
       "    </tr>\n",
       "    <tr>\n",
       "      <th>subj1</th>\n",
       "      <td>0.035080</td>\n",
       "      <td>11.411239</td>\n",
       "    </tr>\n",
       "  </tbody>\n",
       "</table>\n",
       "</div>"
      ],
      "text/plain": [
       "         accuracy         rt\n",
       "subject                     \n",
       "subj0   -0.406441 -45.282061\n",
       "subj0   -0.280480 -43.127818\n",
       "subj0    0.439754 -27.268035\n",
       "subj0    0.487154  14.102279\n",
       "subj1    0.035080  11.411239"
      ]
     },
     "execution_count": 59,
     "metadata": {},
     "output_type": "execute_result"
    }
   ],
   "source": [
    "normalized = trials_df.set_index(\"subject\") - subj_means_df\n",
    "normalized.head()"
   ]
  },
  {
   "cell_type": "markdown",
   "id": "7e836975",
   "metadata": {
    "slideshow": {
     "slide_type": "fragment"
    }
   },
   "source": [
    "From each entry in the trials dataframe, numpy will broadcast the correct value of the mean for that subject!"
   ]
  },
  {
   "cell_type": "markdown",
   "id": "e6f83cb9",
   "metadata": {
    "slideshow": {
     "slide_type": "subslide"
    }
   },
   "source": [
    "## Multi-indexing"
   ]
  },
  {
   "cell_type": "markdown",
   "id": "d7ee103e",
   "metadata": {},
   "source": [
    "Sometimes, we might want to average keeping the segregation over multiple categories:"
   ]
  },
  {
   "cell_type": "code",
   "execution_count": 61,
   "id": "23a7631a",
   "metadata": {},
   "outputs": [
    {
     "data": {
      "text/html": [
       "<div>\n",
       "<style scoped>\n",
       "    .dataframe tbody tr th:only-of-type {\n",
       "        vertical-align: middle;\n",
       "    }\n",
       "\n",
       "    .dataframe tbody tr th {\n",
       "        vertical-align: top;\n",
       "    }\n",
       "\n",
       "    .dataframe thead th {\n",
       "        text-align: right;\n",
       "    }\n",
       "</style>\n",
       "<table border=\"1\" class=\"dataframe\">\n",
       "  <thead>\n",
       "    <tr style=\"text-align: right;\">\n",
       "      <th></th>\n",
       "      <th>subject</th>\n",
       "      <th>trial_type</th>\n",
       "      <th>accuracy</th>\n",
       "      <th>rt</th>\n",
       "    </tr>\n",
       "  </thead>\n",
       "  <tbody>\n",
       "    <tr>\n",
       "      <th>0</th>\n",
       "      <td>subj0</td>\n",
       "      <td>type0</td>\n",
       "      <td>0.926437</td>\n",
       "      <td>22.426808</td>\n",
       "    </tr>\n",
       "    <tr>\n",
       "      <th>1</th>\n",
       "      <td>subj0</td>\n",
       "      <td>type0</td>\n",
       "      <td>0.342887</td>\n",
       "      <td>30.346110</td>\n",
       "    </tr>\n",
       "    <tr>\n",
       "      <th>2</th>\n",
       "      <td>subj0</td>\n",
       "      <td>type1</td>\n",
       "      <td>0.572582</td>\n",
       "      <td>86.570512</td>\n",
       "    </tr>\n",
       "    <tr>\n",
       "      <th>3</th>\n",
       "      <td>subj0</td>\n",
       "      <td>type1</td>\n",
       "      <td>0.637211</td>\n",
       "      <td>6.728407</td>\n",
       "    </tr>\n",
       "    <tr>\n",
       "      <th>4</th>\n",
       "      <td>subj1</td>\n",
       "      <td>type0</td>\n",
       "      <td>0.757419</td>\n",
       "      <td>4.163872</td>\n",
       "    </tr>\n",
       "  </tbody>\n",
       "</table>\n",
       "</div>"
      ],
      "text/plain": [
       "  subject trial_type  accuracy         rt\n",
       "0   subj0      type0  0.926437  22.426808\n",
       "1   subj0      type0  0.342887  30.346110\n",
       "2   subj0      type1  0.572582  86.570512\n",
       "3   subj0      type1  0.637211   6.728407\n",
       "4   subj1      type0  0.757419   4.163872"
      ]
     },
     "execution_count": 61,
     "metadata": {},
     "output_type": "execute_result"
    }
   ],
   "source": [
    "# Create again a trials_df:\n",
    "trials_df = pd.DataFrame(dict(subject=[f\"subj{i}\" for i in range(n_subjects) for _ in range(n_trials)],\n",
    "                              trial_type=[f\"type{n//2}\" for i in range(n_subjects) for n in range(n_trials)],\n",
    "                              accuracy=np.random.uniform(0, 1, n_trials*n_subjects),\n",
    "                              rt=np.random.uniform(0, 100, n_trials*n_subjects)))\n",
    "\n",
    "trials_df.head()"
   ]
  },
  {
   "cell_type": "code",
   "execution_count": 62,
   "id": "51db3773",
   "metadata": {
    "slideshow": {
     "slide_type": "subslide"
    }
   },
   "outputs": [
    {
     "data": {
      "text/html": [
       "<div>\n",
       "<style scoped>\n",
       "    .dataframe tbody tr th:only-of-type {\n",
       "        vertical-align: middle;\n",
       "    }\n",
       "\n",
       "    .dataframe tbody tr th {\n",
       "        vertical-align: top;\n",
       "    }\n",
       "\n",
       "    .dataframe thead th {\n",
       "        text-align: right;\n",
       "    }\n",
       "</style>\n",
       "<table border=\"1\" class=\"dataframe\">\n",
       "  <thead>\n",
       "    <tr style=\"text-align: right;\">\n",
       "      <th></th>\n",
       "      <th></th>\n",
       "      <th>accuracy</th>\n",
       "      <th>rt</th>\n",
       "    </tr>\n",
       "    <tr>\n",
       "      <th>subject</th>\n",
       "      <th>trial_type</th>\n",
       "      <th></th>\n",
       "      <th></th>\n",
       "    </tr>\n",
       "  </thead>\n",
       "  <tbody>\n",
       "    <tr>\n",
       "      <th rowspan=\"2\" valign=\"top\">subj0</th>\n",
       "      <th>type0</th>\n",
       "      <td>0.634662</td>\n",
       "      <td>26.386459</td>\n",
       "    </tr>\n",
       "    <tr>\n",
       "      <th>type1</th>\n",
       "      <td>0.604897</td>\n",
       "      <td>46.649460</td>\n",
       "    </tr>\n",
       "    <tr>\n",
       "      <th rowspan=\"2\" valign=\"top\">subj1</th>\n",
       "      <th>type0</th>\n",
       "      <td>0.532339</td>\n",
       "      <td>22.757244</td>\n",
       "    </tr>\n",
       "    <tr>\n",
       "      <th>type1</th>\n",
       "      <td>0.636751</td>\n",
       "      <td>65.897157</td>\n",
       "    </tr>\n",
       "    <tr>\n",
       "      <th rowspan=\"2\" valign=\"top\">subj2</th>\n",
       "      <th>type0</th>\n",
       "      <td>0.700396</td>\n",
       "      <td>43.425382</td>\n",
       "    </tr>\n",
       "    <tr>\n",
       "      <th>type1</th>\n",
       "      <td>0.652593</td>\n",
       "      <td>72.750561</td>\n",
       "    </tr>\n",
       "  </tbody>\n",
       "</table>\n",
       "</div>"
      ],
      "text/plain": [
       "                    accuracy         rt\n",
       "subject trial_type                     \n",
       "subj0   type0       0.634662  26.386459\n",
       "        type1       0.604897  46.649460\n",
       "subj1   type0       0.532339  22.757244\n",
       "        type1       0.636751  65.897157\n",
       "subj2   type0       0.700396  43.425382\n",
       "        type1       0.652593  72.750561"
      ]
     },
     "execution_count": 62,
     "metadata": {},
     "output_type": "execute_result"
    }
   ],
   "source": [
    "trial_subj_avg = trials_df.groupby([\"subject\", \"trial_type\"]).mean()\n",
    "trial_subj_avg"
   ]
  },
  {
   "cell_type": "code",
   "execution_count": 64,
   "id": "f239401e",
   "metadata": {},
   "outputs": [
    {
     "data": {
      "text/html": [
       "<div>\n",
       "<style scoped>\n",
       "    .dataframe tbody tr th:only-of-type {\n",
       "        vertical-align: middle;\n",
       "    }\n",
       "\n",
       "    .dataframe tbody tr th {\n",
       "        vertical-align: top;\n",
       "    }\n",
       "\n",
       "    .dataframe thead th {\n",
       "        text-align: right;\n",
       "    }\n",
       "</style>\n",
       "<table border=\"1\" class=\"dataframe\">\n",
       "  <thead>\n",
       "    <tr style=\"text-align: right;\">\n",
       "      <th></th>\n",
       "      <th></th>\n",
       "      <th>accuracy</th>\n",
       "      <th>rt</th>\n",
       "    </tr>\n",
       "    <tr>\n",
       "      <th>subject</th>\n",
       "      <th>trial_type</th>\n",
       "      <th></th>\n",
       "      <th></th>\n",
       "    </tr>\n",
       "  </thead>\n",
       "  <tbody>\n",
       "    <tr>\n",
       "      <th rowspan=\"4\" valign=\"top\">subj0</th>\n",
       "      <th>type0</th>\n",
       "      <td>0.291775</td>\n",
       "      <td>-3.959651</td>\n",
       "    </tr>\n",
       "    <tr>\n",
       "      <th>type0</th>\n",
       "      <td>-0.291775</td>\n",
       "      <td>3.959651</td>\n",
       "    </tr>\n",
       "    <tr>\n",
       "      <th>type1</th>\n",
       "      <td>-0.032315</td>\n",
       "      <td>39.921053</td>\n",
       "    </tr>\n",
       "    <tr>\n",
       "      <th>type1</th>\n",
       "      <td>0.032315</td>\n",
       "      <td>-39.921053</td>\n",
       "    </tr>\n",
       "    <tr>\n",
       "      <th rowspan=\"4\" valign=\"top\">subj1</th>\n",
       "      <th>type0</th>\n",
       "      <td>0.225081</td>\n",
       "      <td>-18.593371</td>\n",
       "    </tr>\n",
       "    <tr>\n",
       "      <th>type0</th>\n",
       "      <td>-0.225081</td>\n",
       "      <td>18.593371</td>\n",
       "    </tr>\n",
       "    <tr>\n",
       "      <th>type1</th>\n",
       "      <td>0.170966</td>\n",
       "      <td>26.402576</td>\n",
       "    </tr>\n",
       "    <tr>\n",
       "      <th>type1</th>\n",
       "      <td>-0.170966</td>\n",
       "      <td>-26.402576</td>\n",
       "    </tr>\n",
       "    <tr>\n",
       "      <th rowspan=\"4\" valign=\"top\">subj2</th>\n",
       "      <th>type0</th>\n",
       "      <td>-0.099937</td>\n",
       "      <td>-1.685576</td>\n",
       "    </tr>\n",
       "    <tr>\n",
       "      <th>type0</th>\n",
       "      <td>0.099937</td>\n",
       "      <td>1.685576</td>\n",
       "    </tr>\n",
       "    <tr>\n",
       "      <th>type1</th>\n",
       "      <td>-0.321424</td>\n",
       "      <td>25.010144</td>\n",
       "    </tr>\n",
       "    <tr>\n",
       "      <th>type1</th>\n",
       "      <td>0.321424</td>\n",
       "      <td>-25.010144</td>\n",
       "    </tr>\n",
       "  </tbody>\n",
       "</table>\n",
       "</div>"
      ],
      "text/plain": [
       "                    accuracy         rt\n",
       "subject trial_type                     \n",
       "subj0   type0       0.291775  -3.959651\n",
       "        type0      -0.291775   3.959651\n",
       "        type1      -0.032315  39.921053\n",
       "        type1       0.032315 -39.921053\n",
       "subj1   type0       0.225081 -18.593371\n",
       "        type0      -0.225081  18.593371\n",
       "        type1       0.170966  26.402576\n",
       "        type1      -0.170966 -26.402576\n",
       "subj2   type0      -0.099937  -1.685576\n",
       "        type0       0.099937   1.685576\n",
       "        type1      -0.321424  25.010144\n",
       "        type1       0.321424 -25.010144"
      ]
     },
     "execution_count": 64,
     "metadata": {},
     "output_type": "execute_result"
    }
   ],
   "source": [
    "trials_df.set_index([\"subject\", \"trial_type\"]) - trial_subj_avg"
   ]
  },
  {
   "cell_type": "markdown",
   "id": "486a58d6",
   "metadata": {
    "slideshow": {
     "slide_type": "slide"
    }
   },
   "source": [
    "(Practicals 1.4.0)"
   ]
  },
  {
   "cell_type": "markdown",
   "id": "4a83dc66",
   "metadata": {
    "slideshow": {
     "slide_type": "subslide"
    }
   },
   "source": [
    "## Rolling functions with `.rolling()`"
   ]
  },
  {
   "cell_type": "markdown",
   "id": "f0113fee",
   "metadata": {
    "slideshow": {
     "slide_type": "fragment"
    }
   },
   "source": [
    "Imagine we have a time series of data, and we want to compute the mean in a sliding window (e.g., for smoothing)."
   ]
  },
  {
   "cell_type": "code",
   "execution_count": 19,
   "id": "f7dacf7b",
   "metadata": {
    "ExecuteTime": {
     "end_time": "2023-05-22T08:16:52.984252Z",
     "start_time": "2023-05-22T08:16:52.871359Z"
    },
    "slideshow": {
     "slide_type": "-"
    }
   },
   "outputs": [
    {
     "data": {
      "text/plain": [
       "<Axes: >"
      ]
     },
     "execution_count": 19,
     "metadata": {},
     "output_type": "execute_result"
    },
    {
     "data": {
      "image/png": "[encoded data removed]",
      "text/plain": [
       "<Figure size 640x480 with 1 Axes>"
      ]
     },
     "metadata": {},
     "output_type": "display_data"
    }
   ],
   "source": [
    "# Let's create a time series:\n",
    "time_series = pd.Series(np.random.rand(100))\n",
    "time_series.plot()"
   ]
  },
  {
   "cell_type": "code",
   "execution_count": 67,
   "id": "0168f7e8",
   "metadata": {
    "ExecuteTime": {
     "end_time": "2023-05-22T08:19:07.033667Z",
     "start_time": "2023-05-22T08:19:07.031930Z"
    },
    "slideshow": {
     "slide_type": "subslide"
    }
   },
   "outputs": [],
   "source": [
    "# This will compute the mean in a rolling window - ie, smooth it!\n",
    "rolling_wnd_size = 10\n",
    "smoothed = time_series.rolling(rolling_wnd_size).mean()"
   ]
  },
  {
   "cell_type": "code",
   "execution_count": 68,
   "id": "2f62c490",
   "metadata": {
    "ExecuteTime": {
     "end_time": "2023-05-22T08:16:55.203816Z",
     "start_time": "2023-05-22T08:16:55.133381Z"
    },
    "slideshow": {
     "slide_type": "subslide"
    }
   },
   "outputs": [
    {
     "data": {
      "text/plain": [
       "<Axes: >"
      ]
     },
     "execution_count": 68,
     "metadata": {},
     "output_type": "execute_result"
    },
    {
     "data": {
      "image/png": "[encoded data removed]",
      "text/plain": [
       "<Figure size 640x480 with 1 Axes>"
      ]
     },
     "metadata": {},
     "output_type": "display_data"
    }
   ],
   "source": [
    "time_series.plot(legend=\"Original\")\n",
    "smoothed.plot(legend=\"Time averaged\")"
   ]
  },
  {
   "cell_type": "markdown",
   "id": "548ac227",
   "metadata": {
    "slideshow": {
     "slide_type": "fragment"
    }
   },
   "source": [
    "Note that there will be nan values at the borders, where we do not have enough data to compute the mean"
   ]
  },
  {
   "cell_type": "markdown",
   "id": "05694426",
   "metadata": {
    "slideshow": {
     "slide_type": "subslide"
    }
   },
   "source": [
    "By default, the window will not be centered:"
   ]
  },
  {
   "cell_type": "code",
   "execution_count": 69,
   "id": "ac759b57",
   "metadata": {
    "slideshow": {
     "slide_type": "fragment"
    }
   },
   "outputs": [],
   "source": [
    "dirac_series = pd.Series(np.zeros(30))\n",
    "dirac_series[15] = 1"
   ]
  },
  {
   "cell_type": "code",
   "execution_count": 70,
   "id": "84ba4955",
   "metadata": {
    "ExecuteTime": {
     "end_time": "2023-05-22T08:26:49.242687Z",
     "start_time": "2023-05-22T08:26:49.190840Z"
    },
    "slideshow": {
     "slide_type": "-"
    }
   },
   "outputs": [
    {
     "data": {
      "text/plain": [
       "<Axes: >"
      ]
     },
     "execution_count": 70,
     "metadata": {},
     "output_type": "execute_result"
    },
    {
     "data": {
      "image/png": "[encoded data removed]",
      "text/plain": [
       "<Figure size 300x200 with 1 Axes>"
      ]
     },
     "metadata": {},
     "output_type": "display_data"
    }
   ],
   "source": [
    "dirac_series.plot(figsize=(3,2))\n",
    "dirac_series.rolling(8).mean().plot()"
   ]
  },
  {
   "cell_type": "markdown",
   "id": "ffa0c92d",
   "metadata": {
    "slideshow": {
     "slide_type": "subslide"
    }
   },
   "source": [
    "We can center the window with the `center=True` argument:"
   ]
  },
  {
   "cell_type": "code",
   "execution_count": 24,
   "id": "f365f21c",
   "metadata": {
    "ExecuteTime": {
     "end_time": "2023-05-22T08:27:18.196352Z",
     "start_time": "2023-05-22T08:27:18.136583Z"
    },
    "slideshow": {
     "slide_type": "-"
    }
   },
   "outputs": [
    {
     "data": {
      "text/plain": [
       "<Axes: >"
      ]
     },
     "execution_count": 24,
     "metadata": {},
     "output_type": "execute_result"
    },
    {
     "data": {
      "image/png": "[encoded data removed]",
      "text/plain": [
       "<Figure size 300x200 with 1 Axes>"
      ]
     },
     "metadata": {},
     "output_type": "display_data"
    }
   ],
   "source": [
    "dirac_series.plot(figsize=(3,2))\n",
    "dirac_series.rolling(8, center=True).mean().plot()"
   ]
  },
  {
   "cell_type": "markdown",
   "id": "882c6b00",
   "metadata": {
    "slideshow": {
     "slide_type": "subslide"
    }
   },
   "source": [
    "### Usage of `.rolling()`"
   ]
  },
  {
   "cell_type": "markdown",
   "id": "60c390a2",
   "metadata": {
    "slideshow": {
     "slide_type": "fragment"
    }
   },
   "source": [
    "When done with averaging, same results as other smoothing tools"
   ]
  },
  {
   "cell_type": "markdown",
   "id": "f8c6c740",
   "metadata": {
    "slideshow": {
     "slide_type": "fragment"
    }
   },
   "source": [
    "But now we can use arbitrary functions! (standard deviation, significance tests, etc)"
   ]
  },
  {
   "cell_type": "markdown",
   "id": "579dd4bc",
   "metadata": {
    "slideshow": {
     "slide_type": "subslide"
    }
   },
   "source": [
    "For example, we can look at the range of an oscillation with rolling `max()` and `min()`:"
   ]
  },
  {
   "cell_type": "code",
   "execution_count": 25,
   "id": "c7112545",
   "metadata": {
    "ExecuteTime": {
     "end_time": "2023-05-22T08:28:04.669459Z",
     "start_time": "2023-05-22T08:28:04.588269Z"
    },
    "slideshow": {
     "slide_type": "fragment"
    }
   },
   "outputs": [
    {
     "data": {
      "text/plain": [
       "<Axes: >"
      ]
     },
     "execution_count": 25,
     "metadata": {},
     "output_type": "execute_result"
    },
    {
     "data": {
      "image/png": "[encoded data removed]",
      "text/plain": [
       "<Figure size 640x480 with 1 Axes>"
      ]
     },
     "metadata": {},
     "output_type": "display_data"
    }
   ],
   "source": [
    "win_size = 10\n",
    "time_series.plot()\n",
    "time_series.rolling(window=win_size, center=True).min().plot()\n",
    "time_series.rolling(window=win_size, center=True).max().plot()"
   ]
  },
  {
   "cell_type": "markdown",
   "id": "629c086c",
   "metadata": {
    "slideshow": {
     "slide_type": "slide"
    }
   },
   "source": [
    "(Practicals 1.4.1)"
   ]
  },
  {
   "cell_type": "markdown",
   "id": "a710cfbb",
   "metadata": {
    "slideshow": {
     "slide_type": "slide"
    }
   },
   "source": [
    "## Object-oriented plotting using `matplotlib`"
   ]
  },
  {
   "cell_type": "markdown",
   "id": "e208d4cc",
   "metadata": {
    "slideshow": {
     "slide_type": "fragment"
    }
   },
   "source": [
    "Recap: the standard plotting library in Python is `matplotlib`."
   ]
  },
  {
   "cell_type": "code",
   "execution_count": 26,
   "id": "bed5a647",
   "metadata": {
    "ExecuteTime": {
     "end_time": "2023-05-22T08:28:49.494840Z",
     "start_time": "2023-05-22T08:28:49.485496Z"
    },
    "slideshow": {
     "slide_type": "fragment"
    }
   },
   "outputs": [],
   "source": [
    "import matplotlib.pyplot as plt"
   ]
  },
  {
   "cell_type": "markdown",
   "id": "1457ef42",
   "metadata": {
    "slideshow": {
     "slide_type": "subslide"
    }
   },
   "source": [
    "To open a new figure, we call `plt.figure()` (if we don't, matplotlib will plot on the last figure we opened)."
   ]
  },
  {
   "cell_type": "code",
   "execution_count": 71,
   "id": "12acf8cd",
   "metadata": {
    "ExecuteTime": {
     "end_time": "2023-05-22T06:57:59.886350Z",
     "start_time": "2023-05-22T06:57:59.818850Z"
    }
   },
   "outputs": [
    {
     "data": {
      "text/plain": [
       "[<matplotlib.lines.Line2D at 0x12a1aee80>]"
      ]
     },
     "execution_count": 71,
     "metadata": {},
     "output_type": "execute_result"
    },
    {
     "data": {
      "image/png": "[encoded data removed]",
      "text/plain": [
       "<Figure size 300x200 with 1 Axes>"
      ]
     },
     "metadata": {},
     "output_type": "display_data"
    }
   ],
   "source": [
    "plt.figure(figsize=(3,2))  # with the figsize argument we can control the dimension of the plot\n",
    "plt.plot([1, 2, 2, 3])  # plot a line\n"
   ]
  },
  {
   "cell_type": "markdown",
   "id": "28d2bf0b",
   "metadata": {
    "slideshow": {
     "slide_type": "subslide"
    }
   },
   "source": [
    "In a simple plot we can control attributes of the plot with some functions such as `plt.xlabel()` or `plt.xlim()`:"
   ]
  },
  {
   "cell_type": "code",
   "execution_count": 33,
   "id": "db4bdba1",
   "metadata": {
    "ExecuteTime": {
     "end_time": "2023-05-22T08:29:17.326755Z",
     "start_time": "2023-05-22T08:29:17.261606Z"
    }
   },
   "outputs": [
    {
     "data": {
      "text/plain": [
       "(0.0, 500.0)"
      ]
     },
     "execution_count": 33,
     "metadata": {},
     "output_type": "execute_result"
    },
    {
     "data": {
      "image/png": "[encoded data removed]",
      "text/plain": [
       "<Figure size 300x200 with 1 Axes>"
      ]
     },
     "metadata": {},
     "output_type": "display_data"
    }
   ],
   "source": [
    "plt.figure(figsize=(3,2))\n",
    "plt.hist(np.random.randn(1000))\n",
    "plt.xlabel(\"Values\")\n",
    "plt.ylabel(\"Count\")\n",
    "plt.ylim(0, 500)"
   ]
  },
  {
   "cell_type": "markdown",
   "id": "13daed02",
   "metadata": {
    "slideshow": {
     "slide_type": "subslide"
    }
   },
   "source": [
    "## Object oriented interface"
   ]
  },
  {
   "cell_type": "markdown",
   "id": "61e39bf3",
   "metadata": {
    "slideshow": {
     "slide_type": "fragment"
    }
   },
   "source": [
    "`matplotlib` has two interfaces: a simple one, and an object oriented one."
   ]
  },
  {
   "cell_type": "markdown",
   "id": "25c5b605",
   "metadata": {
    "slideshow": {
     "slide_type": "fragment"
    }
   },
   "source": [
    "To make more complex plots, we should use the object oriented interface: it's more flexible and expressive."
   ]
  },
  {
   "cell_type": "code",
   "execution_count": 34,
   "id": "4fa2643b",
   "metadata": {
    "ExecuteTime": {
     "end_time": "2023-05-22T08:31:14.375476Z",
     "start_time": "2023-05-22T08:31:14.327837Z"
    },
    "slideshow": {
     "slide_type": "subslide"
    }
   },
   "outputs": [
    {
     "data": {
      "text/plain": [
       "(matplotlib.figure.Figure, matplotlib.axes._axes.Axes)"
      ]
     },
     "execution_count": 34,
     "metadata": {},
     "output_type": "execute_result"
    },
    {
     "data": {
      "image/png": "[encoded data removed]",
      "text/plain": [
       "<Figure size 300x200 with 1 Axes>"
      ]
     },
     "metadata": {},
     "output_type": "display_data"
    }
   ],
   "source": [
    "fig, ax = plt.subplots(figsize=(3,2)) # this will create a figure and an axis object"
   ]
  },
  {
   "cell_type": "code",
   "execution_count": 72,
   "id": "4fa16601",
   "metadata": {
    "slideshow": {
     "slide_type": "fragment"
    }
   },
   "outputs": [
    {
     "data": {
      "text/plain": [
       "(matplotlib.figure.Figure, matplotlib.axes._axes.Axes)"
      ]
     },
     "execution_count": 72,
     "metadata": {},
     "output_type": "execute_result"
    }
   ],
   "source": [
    "type(fig), type(ax)"
   ]
  },
  {
   "cell_type": "code",
   "execution_count": 74,
   "id": "3f84d3b8",
   "metadata": {
    "ExecuteTime": {
     "end_time": "2023-05-22T08:31:16.184821Z",
     "start_time": "2023-05-22T08:31:16.175017Z"
    },
    "slideshow": {
     "slide_type": "subslide"
    }
   },
   "outputs": [
    {
     "data": {
      "text/plain": [
       "[Text(0.5, 0, 'Time'), Text(0, 0.5, 'Money'), Text(0.5, 1.0, 'My plot')]"
      ]
     },
     "execution_count": 74,
     "metadata": {},
     "output_type": "execute_result"
    },
    {
     "data": {
      "image/png": "[encoded data removed]",
      "text/plain": [
       "<Figure size 300x200 with 1 Axes>"
      ]
     },
     "metadata": {},
     "output_type": "display_data"
    }
   ],
   "source": [
    "fig, ax = plt.subplots(figsize=(3,2)) # this will create a figure and an axis object\n",
    "# We can now call methods of the axis object:\n",
    "ax.plot([1, 2, 2, 3])\n",
    "\n",
    "# We can modify the aspect of the axis using its methods:\n",
    "ax.set(xlabel=\"Time\", ylabel=\"Money\", title=\"My plot\")"
   ]
  },
  {
   "cell_type": "markdown",
   "id": "f11010be",
   "metadata": {
    "slideshow": {
     "slide_type": "fragment"
    }
   },
   "source": [
    "My recommandation is to get used to the object oriented interface!"
   ]
  },
  {
   "cell_type": "markdown",
   "id": "d6130ebb",
   "metadata": {
    "slideshow": {
     "slide_type": "subslide"
    }
   },
   "source": [
    "Also, I would generally stick to the `matplotlib` functions to generate panels and not mix code with the pandas plotting functions."
   ]
  },
  {
   "cell_type": "markdown",
   "id": "e7796f52",
   "metadata": {
    "slideshow": {
     "slide_type": "subslide"
    }
   },
   "source": [
    "## Matplotlib subplots"
   ]
  },
  {
   "cell_type": "markdown",
   "id": "e67d1508",
   "metadata": {},
   "source": [
    "Using `plt.subplots()` we can create a figure with multiple panels:"
   ]
  },
  {
   "cell_type": "code",
   "execution_count": 75,
   "id": "9897f8ea",
   "metadata": {
    "ExecuteTime": {
     "end_time": "2023-05-22T08:30:22.562232Z",
     "start_time": "2023-05-22T08:30:22.409590Z"
    }
   },
   "outputs": [
    {
     "data": {
      "image/png": "[encoded data removed]",
      "text/plain": [
       "<Figure size 600x400 with 4 Axes>"
      ]
     },
     "metadata": {},
     "output_type": "display_data"
    }
   ],
   "source": [
    "fig, axes = plt.subplots(2, 2, figsize=(6, 4))"
   ]
  },
  {
   "cell_type": "markdown",
   "id": "f189c92d",
   "metadata": {
    "slideshow": {
     "slide_type": "subslide"
    }
   },
   "source": [
    "Those axes will be a 2x2 array `numpy` array of axis objects!"
   ]
  },
  {
   "cell_type": "code",
   "execution_count": 76,
   "id": "ddd3e48d",
   "metadata": {
    "ExecuteTime": {
     "end_time": "2023-05-22T08:10:27.938046Z",
     "start_time": "2023-05-22T08:10:27.924589Z"
    },
    "slideshow": {
     "slide_type": "fragment"
    }
   },
   "outputs": [
    {
     "data": {
      "text/plain": [
       "numpy.ndarray"
      ]
     },
     "execution_count": 76,
     "metadata": {},
     "output_type": "execute_result"
    }
   ],
   "source": [
    "type(axes)"
   ]
  },
  {
   "cell_type": "code",
   "execution_count": 77,
   "id": "5bb07a6e",
   "metadata": {
    "ExecuteTime": {
     "end_time": "2023-05-22T08:10:33.184416Z",
     "start_time": "2023-05-22T08:10:33.169583Z"
    },
    "slideshow": {
     "slide_type": "fragment"
    }
   },
   "outputs": [
    {
     "data": {
      "text/plain": [
       "(2, 2)"
      ]
     },
     "execution_count": 77,
     "metadata": {},
     "output_type": "execute_result"
    }
   ],
   "source": [
    "axes.shape"
   ]
  },
  {
   "cell_type": "code",
   "execution_count": 78,
   "id": "eab310dd",
   "metadata": {
    "ExecuteTime": {
     "end_time": "2023-05-22T08:10:41.131286Z",
     "start_time": "2023-05-22T08:10:41.117946Z"
    },
    "slideshow": {
     "slide_type": "fragment"
    }
   },
   "outputs": [
    {
     "data": {
      "text/plain": [
       "matplotlib.axes._axes.Axes"
      ]
     },
     "execution_count": 78,
     "metadata": {},
     "output_type": "execute_result"
    }
   ],
   "source": [
    "type(axes[0, 0])"
   ]
  },
  {
   "cell_type": "markdown",
   "id": "538824f0",
   "metadata": {
    "slideshow": {
     "slide_type": "subslide"
    }
   },
   "source": [
    "We can plot on each of the axes indexing them the numpy way:"
   ]
  },
  {
   "cell_type": "code",
   "execution_count": 43,
   "id": "8c5d07b8",
   "metadata": {
    "scrolled": true
   },
   "outputs": [
    {
     "data": {
      "text/plain": [
       "<Axes: >"
      ]
     },
     "execution_count": 43,
     "metadata": {},
     "output_type": "execute_result"
    }
   ],
   "source": [
    "axes[0, 0]  # access one subplot from the grid. From here we can plot using plotting methods"
   ]
  },
  {
   "cell_type": "markdown",
   "id": "ea84cb25",
   "metadata": {},
   "source": [
    "So we first index the correct axis, and then we use its plotting method:"
   ]
  },
  {
   "cell_type": "code",
   "execution_count": 81,
   "id": "6fba4f65",
   "metadata": {
    "ExecuteTime": {
     "end_time": "2023-05-22T08:11:12.814664Z",
     "start_time": "2023-05-22T08:11:12.640339Z"
    },
    "slideshow": {
     "slide_type": "subslide"
    }
   },
   "outputs": [
    {
     "data": {
      "text/plain": [
       "[<matplotlib.lines.Line2D at 0x12be4ceb0>]"
      ]
     },
     "execution_count": 81,
     "metadata": {},
     "output_type": "execute_result"
    },
    {
     "data": {
      "image/png": "[encoded data removed]",
      "text/plain": [
       "<Figure size 600x400 with 4 Axes>"
      ]
     },
     "metadata": {},
     "output_type": "display_data"
    }
   ],
   "source": [
    "fig, axes = plt.subplots(2, 2, figsize=(6, 4))\n",
    "\n",
    "axes[1, 1].plot([1, 2, 2, 3])"
   ]
  },
  {
   "cell_type": "markdown",
   "id": "6f854609",
   "metadata": {
    "slideshow": {
     "slide_type": "subslide"
    }
   },
   "source": [
    "It is easy to iterate over multiple axes:"
   ]
  },
  {
   "cell_type": "code",
   "execution_count": 85,
   "id": "30ce5fa0",
   "metadata": {
    "ExecuteTime": {
     "end_time": "2023-05-22T08:15:17.238844Z",
     "start_time": "2023-05-22T08:15:17.016976Z"
    }
   },
   "outputs": [
    {
     "data": {
      "image/png": "[encoded data removed]",
      "text/plain": [
       "<Figure size 600x400 with 4 Axes>"
      ]
     },
     "metadata": {},
     "output_type": "display_data"
    }
   ],
   "source": [
    "fig, axes = plt.subplots(2, 2, figsize=(6, 4))\n",
    "x = np.arange(-5, 5, 0.1)\n",
    "\n",
    "# Double loop over rows and columns\n",
    "for col_idx  in range(2):\n",
    "    for row_idx in range(2):\n",
    "        current_axis = axes[row_idx, col_idx]  # current_axis = axes.flat[i]  # Select one axis\n",
    "        i = col_idx + row_idx*2\n",
    "        current_axis.plot(x, x**i)  # Plot on it\n",
    "        current_axis.set(title=f\"Power {i}\")  # Set title\n",
    "        \n",
    "## cleaner alternative to go through all plots in a single loop:\n",
    "for i in range(4):\n",
    "    current_axis = axes.flat[i]\n",
    "    ...\n",
    "    \n",
    "\n",
    "plt.tight_layout()  # separate plots better"
   ]
  },
  {
   "cell_type": "markdown",
   "id": "b0b94b5f",
   "metadata": {
    "slideshow": {
     "slide_type": "slide"
    }
   },
   "source": [
    "Practicals 1.4.2"
   ]
  }
 ],
 "metadata": {
  "celltoolbar": "Slideshow",
  "kernelspec": {
   "display_name": "Python [conda env:course_env]",
   "language": "python",
   "name": "conda-env-course_env-py"
  },
  "language_info": {
   "codemirror_mode": {
    "name": "ipython",
    "version": 3
   },
   "file_extension": ".py",
   "mimetype": "text/x-python",
   "name": "python",
   "nbconvert_exporter": "python",
   "pygments_lexer": "ipython3",
   "version": "3.9.16"
  }
 },
 "nbformat": 4,
 "nbformat_minor": 5
}
