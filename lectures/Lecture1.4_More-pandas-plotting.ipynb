{
 "cells": [
  {
   "cell_type": "markdown",
   "id": "3ca811a3",
   "metadata": {},
   "source": [
    "# Python for (open) Neuroscience\n",
    "\n",
    "_Lecture 1.4_ - More on `pandas` and plotting\n",
    "\n",
    "Luigi Petrucco\n",
    "\n",
    "Jean-Charles Mariani\n",
    "\n",
    "[![Open In Colab](https://colab.research.google.com/assets/colab-badge.svg)](https://colab.research.google.com/github/vigji/python-cimec/blob/main/lectures/Lecture1.4_More-panda-plotting.ipynb)"
   ]
  },
  {
   "cell_type": "code",
   "execution_count": null,
   "id": "5929db60",
   "metadata": {},
   "outputs": [],
   "source": [
    "import pandas as pd\n",
    "import numpy as np"
   ]
  },
  {
   "cell_type": "markdown",
   "id": "058ff74a",
   "metadata": {},
   "source": [
    "### `.groupby()`"
   ]
  },
  {
   "cell_type": "markdown",
   "id": "d124808d",
   "metadata": {},
   "source": [
    "We have a handy syntax to average within each category with `.groupby()`.\n",
    "\n",
    "The sintax is :\n",
    "```python\n",
    "df.groupby(\"name_of_the_category_column\").operation()\n",
    "```"
   ]
  },
  {
   "cell_type": "markdown",
   "id": "fb7dba9b",
   "metadata": {},
   "source": [
    "Now, we want to compute average for every subject:"
   ]
  },
  {
   "cell_type": "code",
   "execution_count": null,
   "id": "5296bbda",
   "metadata": {},
   "outputs": [],
   "source": [
    "trials_df.head(5)"
   ]
  },
  {
   "cell_type": "code",
   "execution_count": null,
   "id": "8591cf08",
   "metadata": {},
   "outputs": [],
   "source": [
    "# In this case, the operation is `mean()`.\n",
    "# Note how the result will have the variable we group by as index:\n",
    "\n",
    "subj_means_df = trials_df.groupby(\"subject\").mean()\n",
    "subj_means_df"
   ]
  },
  {
   "cell_type": "markdown",
   "id": "21579a47",
   "metadata": {},
   "source": [
    "By the way, this is a reason why methods are better than functions in this case: they can be chained with a clearer syntax!"
   ]
  },
  {
   "cell_type": "markdown",
   "id": "82f8456c",
   "metadata": {},
   "source": [
    "# Index broadcasting in `pandas`"
   ]
  },
  {
   "cell_type": "markdown",
   "id": "1d2c5910",
   "metadata": {},
   "source": [
    "Let's subtract from each subject the mean for each variable."
   ]
  },
  {
   "cell_type": "code",
   "execution_count": null,
   "id": "3e7b964d",
   "metadata": {},
   "outputs": [],
   "source": [
    "trials_df.head(3)"
   ]
  },
  {
   "cell_type": "code",
   "execution_count": null,
   "id": "aacda54f",
   "metadata": {},
   "outputs": [],
   "source": [
    "subj_means_df.head(3)"
   ]
  },
  {
   "cell_type": "markdown",
   "id": "b77ecb0f",
   "metadata": {},
   "source": [
    "The shapes obviously don't match:"
   ]
  },
  {
   "cell_type": "code",
   "execution_count": null,
   "id": "7906abe4",
   "metadata": {},
   "outputs": [],
   "source": [
    "print(trials_df.shape)\n",
    "print(subj_means_df.shape)"
   ]
  },
  {
   "cell_type": "code",
   "execution_count": null,
   "id": "2547f767",
   "metadata": {},
   "outputs": [],
   "source": [
    "trials_df - subj_means_df  # this is obviously funny:"
   ]
  },
  {
   "cell_type": "markdown",
   "id": "350cbd41",
   "metadata": {},
   "source": [
    "But pandas will broadcast values using indices if we make them consistent!"
   ]
  },
  {
   "cell_type": "code",
   "execution_count": null,
   "id": "69fba181",
   "metadata": {},
   "outputs": [],
   "source": [
    "subj_means_df"
   ]
  },
  {
   "cell_type": "code",
   "execution_count": null,
   "id": "2f698ef9",
   "metadata": {},
   "outputs": [],
   "source": [
    "trials_df.set_index(\"subject\") - subj_means_df\n",
    " #trials_df.head()"
   ]
  },
  {
   "cell_type": "markdown",
   "id": "6cc991e9",
   "metadata": {},
   "source": [
    "So now we can write:"
   ]
  },
  {
   "cell_type": "code",
   "execution_count": null,
   "id": "f19d711e",
   "metadata": {},
   "outputs": [],
   "source": [
    "normalized = trials_df - subj_means_df\n",
    "normalized.head()"
   ]
  },
  {
   "cell_type": "markdown",
   "id": "e6f83cb9",
   "metadata": {},
   "source": [
    "## Multi-indexing"
   ]
  },
  {
   "cell_type": "markdown",
   "id": "d7ee103e",
   "metadata": {},
   "source": [
    "Sometimes, we might want to average keeping segregations over multiple categories:"
   ]
  },
  {
   "cell_type": "code",
   "execution_count": null,
   "id": "23a7631a",
   "metadata": {},
   "outputs": [],
   "source": [
    "# Create again our trials_df (not relevant how here):\n",
    "trials_df = pd.DataFrame([dict(subject=i, trial_type=j % 2, **all_subjects_data[i][j])\n",
    "                             for i in all_subjects_data.keys()\n",
    "                             for j in range(n_repetitions)])\n",
    "\n",
    "trials_df"
   ]
  },
  {
   "cell_type": "code",
   "execution_count": null,
   "id": "51db3773",
   "metadata": {},
   "outputs": [],
   "source": [
    "trial_subj_avg = trials_df.groupby([\"subject\", \"trial_type\"]).mean()\n",
    "trial_subj_avg"
   ]
  },
  {
   "cell_type": "code",
   "execution_count": null,
   "id": "f239401e",
   "metadata": {},
   "outputs": [],
   "source": [
    "trials_df.set_index([\"subject\", \"trial_type\"]) - trial_subj_avg"
   ]
  },
  {
   "cell_type": "markdown",
   "id": "486a58d6",
   "metadata": {},
   "source": [
    "(Practicals 1.3.1)"
   ]
  },
  {
   "cell_type": "markdown",
   "id": "4a83dc66",
   "metadata": {},
   "source": [
    "## (bonus) Rolling functions with `.rolling()`"
   ]
  },
  {
   "cell_type": "markdown",
   "id": "f0113fee",
   "metadata": {},
   "source": [
    "Imagine we have a time series of data, and we want to compute the mean in a sliding window (e.g., for smoothing)."
   ]
  },
  {
   "cell_type": "code",
   "execution_count": null,
   "id": "f7dacf7b",
   "metadata": {},
   "outputs": [],
   "source": [
    "# Let's create a time series:\n",
    "time_series = pd.Series(np.random.rand(100))\n",
    "time_series.plot()"
   ]
  },
  {
   "cell_type": "code",
   "execution_count": null,
   "id": "0168f7e8",
   "metadata": {},
   "outputs": [],
   "source": [
    "# This will compute the mean in a rolling window - ie, smoothing it!\n",
    "rolling_wnd_size = 10\n",
    "smoothed = time_series.rolling(rolling_wnd_size, center=True).mean()"
   ]
  },
  {
   "cell_type": "code",
   "execution_count": null,
   "id": "2f62c490",
   "metadata": {},
   "outputs": [],
   "source": [
    "time_series.plot(legend=\"Original\")\n",
    "smoothed.plot(legend=\"Time averaged\")"
   ]
  },
  {
   "cell_type": "markdown",
   "id": "b4f8f837",
   "metadata": {},
   "source": [
    "When done with averaging, same results as other smoothing tools"
   ]
  },
  {
   "cell_type": "markdown",
   "id": "c72dc763",
   "metadata": {},
   "source": [
    "But now we can use arbitrary functions! (standard deviation, significance tests, etc)"
   ]
  },
  {
   "cell_type": "markdown",
   "id": "629c086c",
   "metadata": {},
   "source": [
    "(Practicals 1.3.2)"
   ]
  },
  {
   "cell_type": "markdown",
   "id": "a710cfbb",
   "metadata": {},
   "source": [
    "# Plotting using matplotlib"
   ]
  },
  {
   "cell_type": "code",
   "execution_count": null,
   "id": "3f84d3b8",
   "metadata": {},
   "outputs": [],
   "source": []
  }
 ],
 "metadata": {
  "celltoolbar": "Slideshow",
  "kernelspec": {
   "display_name": "Python [conda env:course_env]",
   "language": "python",
   "name": "conda-env-course_env-py"
  },
  "language_info": {
   "codemirror_mode": {
    "name": "ipython",
    "version": 3
   },
   "file_extension": ".py",
   "mimetype": "text/x-python",
   "name": "python",
   "nbconvert_exporter": "python",
   "pygments_lexer": "ipython3"
  }
 },
 "nbformat": 4,
 "nbformat_minor": 5
}
