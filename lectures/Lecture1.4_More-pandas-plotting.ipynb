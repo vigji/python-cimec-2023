{
 "cells": [
  {
   "cell_type": "markdown",
   "id": "3ca811a3",
   "metadata": {},
   "source": [
    "# Python for (open) Neuroscience\n",
    "\n",
    "_Lecture 1.4_ - More on `pandas` and plotting\n",
    "\n",
    "Luigi Petrucco\n",
    "\n",
    "Jean-Charles Mariani\n",
    "\n",
    "[![Open In Colab](https://colab.research.google.com/assets/colab-badge.svg)](https://colab.research.google.com/github/vigji/python-cimec/blob/main/lectures/Lecture1.4_More-panda-plotting.ipynb)"
   ]
  },
  {
   "cell_type": "code",
   "execution_count": null,
   "id": "5929db60",
   "metadata": {},
   "outputs": [],
   "source": [
    "import pandas as pd\n",
    "import numpy as np"
   ]
  },
  {
   "cell_type": "markdown",
   "id": "058ff74a",
   "metadata": {},
   "source": [
    "### `.groupby()`"
   ]
  },
  {
   "cell_type": "markdown",
   "id": "d124808d",
   "metadata": {},
   "source": [
    "We have a handy syntax to average within each category with `.groupby()`.\n",
    "\n",
    "The sintax is :\n",
    "```python\n",
    "df.groupby(\"name_of_the_category_column\").operation()\n",
    "```"
   ]
  },
  {
   "cell_type": "markdown",
   "id": "fb7dba9b",
   "metadata": {},
   "source": [
    "Let's create a dataframe with some data for each of three subjects:"
   ]
  },
  {
   "cell_type": "code",
   "execution_count": null,
   "id": "5296bbda",
   "metadata": {},
   "outputs": [],
   "source": [
    "n_subjects, n_trials = 3, 4\n",
    "trials_df = pd.DataFrame(dict(subject=[f\"subj{i}\" for i in range(n_subjects) for _ in range(n_trials)],\n",
    "                              accuracy=np.random.uniform(0, 1, n_trials*n_subjects),\n",
    "                              rt=np.random.uniform(0, 100, n_trials*n_subjects)))\n",
    "trials_df"
   ]
  },
  {
   "cell_type": "code",
   "execution_count": null,
   "id": "8591cf08",
   "metadata": {},
   "outputs": [],
   "source": [
    "# In this case, the operation is `mean()`.\n",
    "# Note how the result will have the variable we group by as index:\n",
    "\n",
    "subj_means_df = trials_df.groupby(\"subject\").mean()\n",
    "subj_means_df"
   ]
  },
  {
   "cell_type": "markdown",
   "id": "21579a47",
   "metadata": {},
   "source": [
    "By the way, this is a reason why methods are better than functions in this case: they can be chained with a clearer syntax!"
   ]
  },
  {
   "cell_type": "markdown",
   "id": "82f8456c",
   "metadata": {},
   "source": [
    "## Index broadcasting in `pandas`"
   ]
  },
  {
   "cell_type": "markdown",
   "id": "1d2c5910",
   "metadata": {},
   "source": [
    "Let's subtract from each subject the mean for each variable."
   ]
  },
  {
   "cell_type": "code",
   "execution_count": null,
   "id": "3e7b964d",
   "metadata": {},
   "outputs": [],
   "source": [
    "trials_df.head(5)"
   ]
  },
  {
   "cell_type": "code",
   "execution_count": null,
   "id": "aacda54f",
   "metadata": {},
   "outputs": [],
   "source": [
    "subj_means_df.head(3)"
   ]
  },
  {
   "cell_type": "markdown",
   "id": "b77ecb0f",
   "metadata": {},
   "source": [
    "The shapes obviously don't match:"
   ]
  },
  {
   "cell_type": "code",
   "execution_count": null,
   "id": "7906abe4",
   "metadata": {},
   "outputs": [],
   "source": [
    "print(trials_df.shape)\n",
    "print(subj_means_df.shape)"
   ]
  },
  {
   "cell_type": "code",
   "execution_count": null,
   "id": "2547f767",
   "metadata": {},
   "outputs": [],
   "source": [
    "trials_df - subj_means_df  # this is obviously funny:"
   ]
  },
  {
   "cell_type": "markdown",
   "id": "350cbd41",
   "metadata": {},
   "source": [
    "But pandas will broadcast values using indices if we make them consistent!"
   ]
  },
  {
   "cell_type": "code",
   "execution_count": null,
   "id": "69fba181",
   "metadata": {},
   "outputs": [],
   "source": [
    "subj_means_df"
   ]
  },
  {
   "cell_type": "code",
   "execution_count": null,
   "id": "2f698ef9",
   "metadata": {},
   "outputs": [],
   "source": [
    "trials_df.set_index(\"subject\") - subj_means_df\n",
    " #trials_df.head()"
   ]
  },
  {
   "cell_type": "markdown",
   "id": "6cc991e9",
   "metadata": {},
   "source": [
    "So now we can write:"
   ]
  },
  {
   "cell_type": "code",
   "execution_count": null,
   "id": "f19d711e",
   "metadata": {},
   "outputs": [],
   "source": [
    "normalized = trials_df.set_index(\"subject\") - subj_means_df\n",
    "normalized.head()"
   ]
  },
  {
   "cell_type": "markdown",
   "id": "e6f83cb9",
   "metadata": {},
   "source": [
    "## Multi-indexing"
   ]
  },
  {
   "cell_type": "markdown",
   "id": "d7ee103e",
   "metadata": {},
   "source": [
    "Sometimes, we might want to average keeping the segregation over multiple categories:"
   ]
  },
  {
   "cell_type": "code",
   "execution_count": null,
   "id": "23a7631a",
   "metadata": {},
   "outputs": [],
   "source": [
    "# Create again our trials_df (not relevant how here):\n",
    "trials_df = pd.DataFrame(dict(subject=[f\"subj{i}\" for i in range(3) for _ in range(3)],\n",
    "                              trial_type\n",
    "                              accuracy=np.random.uniform(0, 1, 9),\n",
    "                              rt=np.random.uniform(0, 100, 9)))\n",
    "\n",
    "trials_df"
   ]
  },
  {
   "cell_type": "code",
   "execution_count": null,
   "id": "51db3773",
   "metadata": {},
   "outputs": [],
   "source": [
    "trial_subj_avg = trials_df.groupby([\"subject\", \"trial_type\"]).mean()\n",
    "trial_subj_avg"
   ]
  },
  {
   "cell_type": "code",
   "execution_count": null,
   "id": "f239401e",
   "metadata": {},
   "outputs": [],
   "source": [
    "trials_df.set_index([\"subject\", \"trial_type\"]) - trial_subj_avg"
   ]
  },
  {
   "cell_type": "markdown",
   "id": "486a58d6",
   "metadata": {},
   "source": [
    "(Practicals 1.4.0)"
   ]
  },
  {
   "cell_type": "markdown",
   "id": "4a83dc66",
   "metadata": {},
   "source": [
    "## Rolling functions with `.rolling()`"
   ]
  },
  {
   "cell_type": "markdown",
   "id": "f0113fee",
   "metadata": {},
   "source": [
    "Imagine we have a time series of data, and we want to compute the mean in a sliding window (e.g., for smoothing)."
   ]
  },
  {
   "cell_type": "code",
   "execution_count": null,
   "id": "f7dacf7b",
   "metadata": {},
   "outputs": [],
   "source": [
    "# Let's create a time series:\n",
    "time_series = pd.Series(np.random.rand(100))\n",
    "time_series.plot()"
   ]
  },
  {
   "cell_type": "code",
   "execution_count": null,
   "id": "0168f7e8",
   "metadata": {},
   "outputs": [],
   "source": [
    "# This will compute the mean in a rolling window - ie, smooth it!\n",
    "rolling_wnd_size = 10\n",
    "smoothed = time_series.rolling(rolling_wnd_size).mean()"
   ]
  },
  {
   "cell_type": "code",
   "execution_count": null,
   "id": "2f62c490",
   "metadata": {},
   "outputs": [],
   "source": [
    "time_series.plot(legend=\"Original\")\n",
    "smoothed.plot(legend=\"Time averaged\")"
   ]
  },
  {
   "cell_type": "markdown",
   "id": "e54aaf1b",
   "metadata": {},
   "source": [
    "Note that there will be nan values at the borders, where we do not have enough data to compute the mean"
   ]
  },
  {
   "cell_type": "markdown",
   "id": "c89268b2",
   "metadata": {},
   "source": [
    "By default, the window will not be centered:"
   ]
  },
  {
   "cell_type": "code",
   "execution_count": null,
   "id": "14b57354",
   "metadata": {},
   "outputs": [],
   "source": [
    "dirac_series = pd.Series(np.zeros(30))\n",
    "dirac_series[15] = 1\n",
    "\n",
    "dirac_series.plot(figsize=(3,2))\n",
    "dirac_series.rolling(8).mean().plot()"
   ]
  },
  {
   "cell_type": "code",
   "execution_count": null,
   "id": "de6ddb94",
   "metadata": {},
   "outputs": [],
   "source": [
    "dirac_series = pd.Series(np.zeros(30))\n",
    "dirac_series[15] = 1\n",
    "\n",
    "dirac_series.plot(figsize=(3,2))\n",
    "dirac_series.rolling(8, center=True).mean().plot()"
   ]
  },
  {
   "cell_type": "markdown",
   "id": "f5155888",
   "metadata": {},
   "source": [
    "When done with averaging, same results as other smoothing tools"
   ]
  },
  {
   "cell_type": "markdown",
   "id": "110a64a6",
   "metadata": {},
   "source": [
    "But now we can use arbitrary functions! (standard deviation, significance tests, etc)"
   ]
  },
  {
   "cell_type": "code",
   "execution_count": null,
   "id": "bee256d4",
   "metadata": {},
   "outputs": [],
   "source": [
    "win_size = 10\n",
    "time_series.plot()\n",
    "time_series.rolling(window=win_size, center=True).min().plot()\n",
    "time_series.rolling(window=win_size, center=True).max().plot()"
   ]
  },
  {
   "cell_type": "markdown",
   "id": "629c086c",
   "metadata": {},
   "source": [
    "(Practicals 1.4.1)"
   ]
  },
  {
   "cell_type": "markdown",
   "id": "a710cfbb",
   "metadata": {},
   "source": [
    "# Object-oriented plotting using `matplotlib`"
   ]
  },
  {
   "cell_type": "markdown",
   "id": "e0f07c29",
   "metadata": {},
   "source": [
    "Recap: the standard plotting library in Python is `matplotlib`."
   ]
  },
  {
   "cell_type": "code",
   "execution_count": null,
   "id": "a93eb1d8",
   "metadata": {},
   "outputs": [],
   "source": [
    "import matplotlib.pyplot as plt"
   ]
  },
  {
   "cell_type": "markdown",
   "id": "3b387ad0",
   "metadata": {},
   "source": [
    "To open a new empty figure, we call `plt.figure()` (if we don't, matplotlib will plot on the last figure we opened)."
   ]
  },
  {
   "cell_type": "code",
   "execution_count": null,
   "id": "a47e7bef",
   "metadata": {},
   "outputs": [],
   "source": [
    "plt.figure(figsize=(3,2))  # with the figsize argument we can control the dimension of the plot"
   ]
  },
  {
   "cell_type": "code",
   "execution_count": null,
   "id": "43015f3a",
   "metadata": {},
   "outputs": [],
   "source": [
    "# We can plot a line with the plt.plot() function:\n",
    "plt.figure()\n",
    "plt.plot([1, 2, 2, 3])\n"
   ]
  },
  {
   "cell_type": "markdown",
   "id": "aa0e58f7",
   "metadata": {},
   "source": [
    "In a simple plot we can control attributes of the plot with some functions:"
   ]
  },
  {
   "cell_type": "code",
   "execution_count": null,
   "id": "c776f96b",
   "metadata": {},
   "outputs": [],
   "source": [
    "plt.figure(figsize=(3,2))\n",
    "plt.hist(np.random.randn(1000))\n",
    "plt.xlabel(\"Values\")\n",
    "plt.ylabel(\"Count\")"
   ]
  },
  {
   "cell_type": "markdown",
   "id": "98591aba",
   "metadata": {},
   "source": [
    "## Object oriented interface"
   ]
  },
  {
   "cell_type": "markdown",
   "id": "5d9030dd",
   "metadata": {},
   "source": [
    "`matplotlib` has two interfaces: a simple one, and an object oriented one."
   ]
  },
  {
   "cell_type": "markdown",
   "id": "126e196a",
   "metadata": {},
   "source": [
    "To make more complex plots, we should use the object oriented interface: it's more flexible and expressive."
   ]
  },
  {
   "cell_type": "code",
   "execution_count": null,
   "id": "4f6de892",
   "metadata": {},
   "outputs": [],
   "source": [
    "fig, ax = plt.subplots(figsize=(3,2)) # this will create a figure and an axis object\n",
    "type(fig), type(ax)"
   ]
  },
  {
   "cell_type": "code",
   "execution_count": null,
   "id": "3f84d3b8",
   "metadata": {},
   "outputs": [],
   "source": [
    "\n",
    "# We can now call methods on the axis object:\n",
    "ax.plot([1, 2, 2, 3])\n",
    "\n",
    "# We can modify the aspect of the axis using its methods:\n",
    "ax.set(xlabel=\"Time\", ylabel=\"Money\", title=\"My plot\")"
   ]
  },
  {
   "cell_type": "markdown",
   "id": "188e8ce7",
   "metadata": {},
   "source": [
    "My recommandation is to get used to the object oriented interface!"
   ]
  },
  {
   "cell_type": "markdown",
   "id": "48ba5250",
   "metadata": {},
   "source": [
    "Also, I would generally stick to the `matplotlib` functions to generate panels and not mix code with the pandas plotting functions."
   ]
  },
  {
   "cell_type": "markdown",
   "id": "d0fee97c",
   "metadata": {},
   "source": [
    "## Matplotlib subplots"
   ]
  },
  {
   "cell_type": "markdown",
   "id": "afe9d8d4",
   "metadata": {},
   "source": [
    "Using `plt.subplots()` we can create a figure with multiple subplots:"
   ]
  },
  {
   "cell_type": "code",
   "execution_count": null,
   "id": "6a77662d",
   "metadata": {},
   "outputs": [],
   "source": [
    "fig, axes = plt.subplots(2, 2, figsize=(6, 4))"
   ]
  },
  {
   "cell_type": "markdown",
   "id": "a031784f",
   "metadata": {},
   "source": [
    "Now axes will be a 2x2 array `numpy` array of axis objects!"
   ]
  },
  {
   "cell_type": "code",
   "execution_count": null,
   "id": "a413b77a",
   "metadata": {},
   "outputs": [],
   "source": [
    "type(axes)"
   ]
  },
  {
   "cell_type": "code",
   "execution_count": null,
   "id": "bf21f8a6",
   "metadata": {},
   "outputs": [],
   "source": [
    "axes.shape"
   ]
  },
  {
   "cell_type": "code",
   "execution_count": null,
   "id": "10f380bb",
   "metadata": {},
   "outputs": [],
   "source": [
    "type(axes[0, 0])"
   ]
  },
  {
   "cell_type": "markdown",
   "id": "c88f15fe",
   "metadata": {},
   "source": [
    "We can now plot on each of the axes indexing them the numpy way:"
   ]
  },
  {
   "cell_type": "code",
   "execution_count": null,
   "id": "d669fe45",
   "metadata": {},
   "outputs": [],
   "source": [
    "fig, axes = plt.subplots(2, 2, figsize=(6, 4))\n",
    "axes[0, 0].plot([1, 2, 2, 3])"
   ]
  },
  {
   "cell_type": "markdown",
   "id": "97e5392b",
   "metadata": {},
   "source": [
    "It is easy to iterate over multiple axes:"
   ]
  },
  {
   "cell_type": "code",
   "execution_count": null,
   "id": "3ab28c6c",
   "metadata": {},
   "outputs": [],
   "source": [
    "fig, axes = plt.subplots(2, 2, figsize=(6, 4))\n",
    "x = np.arange(-5, 5, 0.1)\n",
    "for i in range(4):\n",
    "    current_axis = axes.flat[i]  # Select one axis\n",
    "    current_axis.plot(x, x**i)  # Plot on it\n",
    "    current_axis.set(title=f\"Power {i}\")  # Set title\n",
    "\n",
    "plt.tight_layout()"
   ]
  },
  {
   "cell_type": "markdown",
   "id": "fc4afc55",
   "metadata": {},
   "source": [
    "Practicals 1.4.2"
   ]
  }
 ],
 "metadata": {
  "celltoolbar": "Slideshow",
  "kernelspec": {
   "display_name": "Python [conda env:course_env]",
   "language": "python",
   "name": "conda-env-course_env-py"
  },
  "language_info": {
   "codemirror_mode": {
    "name": "ipython",
    "version": 3
   },
   "file_extension": ".py",
   "mimetype": "text/x-python",
   "name": "python",
   "nbconvert_exporter": "python",
   "pygments_lexer": "ipython3"
  }
 },
 "nbformat": 4,
 "nbformat_minor": 5
}
