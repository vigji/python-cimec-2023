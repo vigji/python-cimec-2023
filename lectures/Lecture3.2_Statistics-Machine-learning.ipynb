{
 "cells": [
  {
   "cell_type": "markdown",
   "id": "3ca811a3",
   "metadata": {},
   "source": [
    "# Python for (open) Neuroscience\n",
    "\n",
    "_Lecture 3.0_ - Introduction to Statistics and Machine learning in Pyhton\n",
    "\n",
    "Luigi Petrucco\n",
    "\n",
    "Jean-Charles Mariani"
   ]
  },
  {
   "cell_type": "markdown",
   "id": "582bbe72",
   "metadata": {},
   "source": [
    "## Classical statistics using Python"
   ]
  },
  {
   "cell_type": "markdown",
   "id": "923e4247",
   "metadata": {},
   "source": [
    "Disclaimer: I know very little about statistics!"
   ]
  },
  {
   "cell_type": "markdown",
   "id": "76bcfe94",
   "metadata": {},
   "source": [
    "No, Python will not tell you what tests to use...\n",
    "\n",
    "...but `scipy` module provides functions for pretty much any kind of classical statistics you might want to compute!"
   ]
  },
  {
   "cell_type": "markdown",
   "id": "59b807f9",
   "metadata": {},
   "source": [
    "### Descriptive statistics"
   ]
  },
  {
   "cell_type": "markdown",
   "id": "c03e77b2",
   "metadata": {},
   "source": [
    "#### Mean, median, mode"
   ]
  },
  {
   "cell_type": "code",
   "execution_count": null,
   "id": "a115a7e8",
   "metadata": {},
   "outputs": [],
   "source": [
    "import numpy as np\n",
    "import scipy.stats as stats\n",
    "\n",
    "data = np.random.normal(0, 1, 1000)\n",
    "\n",
    "print('Mean: {}'.format(np.mean(data)))\n",
    "print('Median: {}'.format(np.median(data)))\n",
    "print('Mode: {}'.format(stats.mode(data)[0][0]))"
   ]
  },
  {
   "cell_type": "markdown",
   "id": "ffb88c7d",
   "metadata": {},
   "source": []
  },
  {
   "cell_type": "markdown",
   "id": "157872b6",
   "metadata": {},
   "source": [
    "#### Standard deviation, variance"
   ]
  },
  {
   "cell_type": "code",
   "execution_count": null,
   "id": "371db21e",
   "metadata": {},
   "outputs": [],
   "source": [
    "print('Standard deviation: {}'.format(np.std(data)))\n",
    "print('Variance: {}'.format(np.var(data)))"
   ]
  },
  {
   "cell_type": "markdown",
   "id": "17efbe69",
   "metadata": {},
   "source": []
  },
  {
   "cell_type": "markdown",
   "id": "1dcf4607",
   "metadata": {},
   "source": [
    "#### Skewness, kurtosis (and other moments)"
   ]
  },
  {
   "cell_type": "code",
   "execution_count": null,
   "id": "30e0a21d",
   "metadata": {},
   "outputs": [],
   "source": [
    "print('Skewness: {}'.format(stats.skew(data)))\n",
    "print('Kurtosis: {}'.format(stats.kurtosis(data)))"
   ]
  },
  {
   "cell_type": "markdown",
   "id": "2ea0e54c",
   "metadata": {},
   "source": []
  },
  {
   "cell_type": "markdown",
   "id": "c9d80963",
   "metadata": {},
   "source": [
    "#### Quantiles"
   ]
  },
  {
   "cell_type": "code",
   "execution_count": null,
   "id": "3295e32a",
   "metadata": {},
   "outputs": [],
   "source": [
    "print('Quantiles: {}'.format(stats.mstats.mquantiles(data)))"
   ]
  },
  {
   "cell_type": "markdown",
   "id": "72c933e1",
   "metadata": {},
   "source": []
  },
  {
   "cell_type": "markdown",
   "id": "5a93d7b6",
   "metadata": {},
   "source": [
    "## Statistical tests"
   ]
  },
  {
   "cell_type": "markdown",
   "id": "3b7f961b",
   "metadata": {},
   "source": [
    "### One-sample tests"
   ]
  },
  {
   "cell_type": "markdown",
   "id": "6449613d",
   "metadata": {},
   "source": []
  },
  {
   "cell_type": "code",
   "execution_count": null,
   "id": "8783788e",
   "metadata": {},
   "outputs": [],
   "source": [
    "# One-sample t-test\n",
    "stats.ttest_1samp(data, 0)\n"
   ]
  },
  {
   "cell_type": "markdown",
   "id": "c6a10179",
   "metadata": {},
   "source": []
  },
  {
   "cell_type": "code",
   "execution_count": null,
   "id": "48d42f8d",
   "metadata": {},
   "outputs": [],
   "source": [
    "# One-sample Wilcoxon signed-rank test\n",
    "stats.wilcoxon(data)"
   ]
  },
  {
   "cell_type": "markdown",
   "id": "35d84db5",
   "metadata": {},
   "source": [
    "### Two-sample tests"
   ]
  },
  {
   "cell_type": "markdown",
   "id": "7c870fda",
   "metadata": {},
   "source": [
    "#### Independent samples"
   ]
  },
  {
   "cell_type": "markdown",
   "id": "b4285ba0",
   "metadata": {},
   "source": [
    "# Two-sample t-test"
   ]
  },
  {
   "cell_type": "code",
   "execution_count": null,
   "id": "44f9f925",
   "metadata": {},
   "outputs": [],
   "source": [
    "data2 = np.random.normal(0, 1, 1000)\n",
    "stats.ttest_ind(data, data2)"
   ]
  },
  {
   "cell_type": "markdown",
   "id": "1b1f84a9",
   "metadata": {},
   "source": [
    "# Two-sample Wilcoxon rank-sum test"
   ]
  },
  {
   "cell_type": "code",
   "execution_count": null,
   "id": "90f1442e",
   "metadata": {},
   "outputs": [],
   "source": [
    "#Two-sample Wilcoxon rank-sum test\n",
    "stats.ranksums(data, data2)"
   ]
  },
  {
   "cell_type": "markdown",
   "id": "26e80141",
   "metadata": {},
   "source": [
    "#### Paired samples"
   ]
  },
  {
   "cell_type": "markdown",
   "id": "c81ba19e",
   "metadata": {},
   "source": [
    "# Paired t-test"
   ]
  },
  {
   "cell_type": "code",
   "execution_count": null,
   "id": "064c287b",
   "metadata": {},
   "outputs": [],
   "source": [
    "stats.ttest_rel(data, data2)"
   ]
  },
  {
   "cell_type": "markdown",
   "id": "2a1d752d",
   "metadata": {},
   "source": [
    "# Paired Wilcoxon signed-rank test"
   ]
  },
  {
   "cell_type": "code",
   "execution_count": null,
   "id": "50703f19",
   "metadata": {},
   "outputs": [],
   "source": [
    "stats.wilcoxon(data, data2)"
   ]
  },
  {
   "cell_type": "markdown",
   "id": "d3910998",
   "metadata": {},
   "source": [
    "# One-way ANOVA"
   ]
  },
  {
   "cell_type": "code",
   "execution_count": null,
   "id": "e3951571",
   "metadata": {},
   "outputs": [],
   "source": [
    "data = np.random.normal(0, 1, 1000)\n",
    "data2 = np.random.normal(0, 1, 1000)\n",
    "data3 = np.random.normal(-1, 1, 1000)\n",
    "stats.f_oneway(data, data2, data3)"
   ]
  },
  {
   "cell_type": "markdown",
   "id": "4bee40af",
   "metadata": {},
   "source": []
  },
  {
   "cell_type": "markdown",
   "id": "c1ef5450",
   "metadata": {},
   "source": [
    "# Kolmogorov-Smirnov test"
   ]
  },
  {
   "cell_type": "code",
   "execution_count": null,
   "id": "c8b88ccc",
   "metadata": {},
   "outputs": [],
   "source": [
    "data_norm = np.random.normal(0, 1, 1000)\n",
    "data_unif = np.random.uniform(0, 1, 1000)\n",
    "\n",
    "stats.kstest(data_norm, 'norm')"
   ]
  },
  {
   "cell_type": "markdown",
   "id": "6b269d3a",
   "metadata": {},
   "source": [
    "### Correlation"
   ]
  },
  {
   "cell_type": "code",
   "execution_count": null,
   "id": "9422ef04",
   "metadata": {},
   "outputs": [],
   "source": [
    "data = np.random.normal(0, 1, 1000)\n",
    "data2 = np.random.normal(0, 1, 1000)\n",
    "stats.pearsonr(data, data2)"
   ]
  },
  {
   "cell_type": "markdown",
   "id": "7bdee53d",
   "metadata": {},
   "source": [
    "## Normality tests"
   ]
  },
  {
   "cell_type": "code",
   "execution_count": null,
   "id": "da8743ec",
   "metadata": {},
   "outputs": [],
   "source": [
    "# Test normality of data\n",
    "data = np.random.normal(0, 1, 1000)\n",
    "stats.normaltest(data)"
   ]
  },
  {
   "cell_type": "markdown",
   "id": "9ff99ef7",
   "metadata": {},
   "source": [
    "# Curve fitting"
   ]
  },
  {
   "cell_type": "code",
   "execution_count": null,
   "id": "056c4ec8",
   "metadata": {},
   "outputs": [],
   "source": [
    "import numpy as np\n",
    "import matplotlib.pyplot as plt\n",
    "from scipy.optimize import curve_fit\n",
    "\n",
    "# Define the function to fit\n",
    "def func(x, a, b, c):\n",
    "    return a * np.exp(-b * x) + c\n",
    "\n",
    "# Generate data\n",
    "x = np.linspace(0, 4, 50)\n",
    "ydata = func(x, 2.5, 1.3, 0.5) + 0.2 * np.random.normal(size=len(x))\n"
   ]
  },
  {
   "cell_type": "code",
   "execution_count": null,
   "id": "008210b8",
   "metadata": {},
   "outputs": [],
   "source": [
    "# plot the data\n",
    "plt.figure(figsize=(3, 3))\n",
    "plt.scatter(x, ydata, label='data')"
   ]
  },
  {
   "cell_type": "code",
   "execution_count": null,
   "id": "358ab3c1",
   "metadata": {},
   "outputs": [],
   "source": [
    "# Fit the data\n",
    "popt, pcov = curve_fit(func, x, ydata)\n"
   ]
  },
  {
   "cell_type": "code",
   "execution_count": null,
   "id": "89db29d6",
   "metadata": {},
   "outputs": [],
   "source": [
    "plt.figure(figsize=(3, 3))\n",
    "plt.scatter(x, ydata, label='data')\n",
    "plt.plot(x, func(x, *popt), c=\"k\", label='fit')"
   ]
  },
  {
   "cell_type": "code",
   "execution_count": null,
   "id": "dcea5288",
   "metadata": {},
   "outputs": [],
   "source": [
    "def func(x, a, b, c):\n",
    "    return a * np.exp(-b * x) + c"
   ]
  },
  {
   "cell_type": "code",
   "execution_count": null,
   "id": "ea185cd1",
   "metadata": {},
   "outputs": [],
   "source": [
    "pcov"
   ]
  },
  {
   "cell_type": "markdown",
   "id": "7eebd21e",
   "metadata": {},
   "source": [
    "(Practicals 3.2.0)"
   ]
  },
  {
   "cell_type": "markdown",
   "id": "0f0d640b",
   "metadata": {},
   "source": [
    "## Advanced statistics using statsmodels"
   ]
  },
  {
   "cell_type": "markdown",
   "id": "663a2998",
   "metadata": {},
   "source": [
    "The `statsmodels` module provides a more complete set of statistical tools, including:\n",
    "- Linear models\n",
    "- Generalized linear models\n",
    "- Multivariate statistics\n",
    "- ..."
   ]
  },
  {
   "cell_type": "markdown",
   "id": "6f634ede",
   "metadata": {},
   "source": [
    "### Linear models"
   ]
  },
  {
   "cell_type": "code",
   "execution_count": null,
   "id": "2e962a39",
   "metadata": {},
   "outputs": [],
   "source": [
    "import statsmodels.api as sm\n",
    "import statsmodels.formula.api as smf\n",
    "\n",
    "data = sm.datasets.get_rdataset('Guerry', 'HistData').data\n",
    "# data = data[['Lottery', 'Literacy', 'Wealth', 'Region']].dropna()\n",
    "data.head()"
   ]
  },
  {
   "cell_type": "markdown",
   "id": "b1debf98",
   "metadata": {},
   "source": []
  },
  {
   "cell_type": "code",
   "execution_count": null,
   "id": "48c9bbd6",
   "metadata": {},
   "outputs": [],
   "source": [
    "model = smf.ols('Lottery ~ Literacy + Wealth + Region', data=data)\n",
    "results = model.fit()\n",
    "print(results.summary())"
   ]
  },
  {
   "cell_type": "code",
   "execution_count": null,
   "id": "c0ce3eb0",
   "metadata": {},
   "outputs": [],
   "source": [
    "import seaborn as sns\n",
    "\n",
    "sns.regplot(x='Literacy', y='Lottery', data=data)"
   ]
  },
  {
   "cell_type": "code",
   "execution_count": null,
   "id": "f931e49d",
   "metadata": {},
   "outputs": [],
   "source": [
    "sns.pairplot(data, vars=['Lottery', 'Literacy', 'Wealth'])"
   ]
  },
  {
   "cell_type": "code",
   "execution_count": null,
   "id": "8b2983ee",
   "metadata": {},
   "outputs": [],
   "source": []
  },
  {
   "cell_type": "markdown",
   "id": "c1964168",
   "metadata": {},
   "source": [
    "### Generalized linear models"
   ]
  },
  {
   "cell_type": "code",
   "execution_count": null,
   "id": "8875be67",
   "metadata": {},
   "outputs": [],
   "source": [
    "import statsmodels.api as sm\n",
    "import statsmodels.formula.api as smf\n",
    "\n",
    "data = sm.datasets.get_rdataset('Guerry', 'HistData').data\n",
    "data = data[['Lottery', 'Literacy', 'Wealth', 'Region']].dropna()\n",
    "\n"
   ]
  },
  {
   "cell_type": "code",
   "execution_count": null,
   "id": "41293a07",
   "metadata": {},
   "outputs": [],
   "source": []
  },
  {
   "cell_type": "markdown",
   "id": "fd1a1d57",
   "metadata": {},
   "source": [
    "(Practicals 3.2.1)"
   ]
  },
  {
   "cell_type": "markdown",
   "id": "91b42289",
   "metadata": {},
   "source": [
    "# Machine learning using scikit-learn"
   ]
  },
  {
   "cell_type": "markdown",
   "id": "112879eb",
   "metadata": {},
   "source": [
    "## Data preprocessing"
   ]
  },
  {
   "cell_type": "code",
   "execution_count": null,
   "id": "9af3e5bb",
   "metadata": {},
   "outputs": [],
   "source": [
    "from sklearn import preprocessing\n",
    "X_train = np.array([[ 1., -1.,  2.],\n",
    "                    [ 2.,  0.,  0.],\n",
    "                    [ 0.,  1., -1.]])\n",
    "\n",
    "scaler = preprocessing.StandardScaler().fit(X_train)\n",
    "scaler"
   ]
  },
  {
   "cell_type": "code",
   "execution_count": null,
   "id": "709ce428",
   "metadata": {},
   "outputs": [],
   "source": [
    "X_scaled = scaler.transform(X_train)\n",
    "X_scaled"
   ]
  },
  {
   "cell_type": "markdown",
   "id": "486f8c56",
   "metadata": {},
   "source": [
    "Other scalers for max-min normalization ( MinMaxScaler), etc."
   ]
  },
  {
   "cell_type": "code",
   "execution_count": null,
   "id": "4ad55321",
   "metadata": {},
   "outputs": [],
   "source": [
    "# Histogram equalization\n",
    "data = np.random.normal(0, 1, 1000)\n",
    "quantile_trasformer = preprocessing.QuantileTransformer(n_quantiles=1000)\n",
    "trasf = quantile_trasformer.fit_transform(data.reshape(-1, 1))"
   ]
  },
  {
   "cell_type": "code",
   "execution_count": null,
   "id": "ec7c4059",
   "metadata": {},
   "outputs": [],
   "source": [
    "trasf.shape"
   ]
  },
  {
   "cell_type": "code",
   "execution_count": null,
   "id": "dbc61b33",
   "metadata": {},
   "outputs": [],
   "source": [
    "plt.figure()\n",
    "plt.scatter(data, trasf)"
   ]
  },
  {
   "cell_type": "markdown",
   "id": "277adf1a",
   "metadata": {},
   "source": [
    "# Dimensionality reduction"
   ]
  },
  {
   "cell_type": "markdown",
   "id": "47dd4c1f",
   "metadata": {},
   "source": [
    "### Principal component analysis"
   ]
  },
  {
   "cell_type": "code",
   "execution_count": null,
   "id": "72aed3b5",
   "metadata": {},
   "outputs": [],
   "source": [
    "from sklearn.decomposition import PCA\n",
    "\n",
    "# A simple tw-dimension dataset:\n",
    "from sklearn import datasets\n",
    "iris = datasets.load_iris()\n",
    "\n",
    "X = np.array([[-1, -1], [-2, -1], [-3, -2], [1, 1], [2, 1], [3, 2]])\n",
    "\n",
    "plt.figure()\n",
    "plt.scatter(X[:, 0], X[:, 1])"
   ]
  },
  {
   "cell_type": "code",
   "execution_count": null,
   "id": "2269f1e3",
   "metadata": {},
   "outputs": [],
   "source": [
    "pca = PCA(n_components=2)\n",
    "pca.fit(X)\n",
    "print(pca.explained_variance_ratio_)\n",
    "\n",
    "print(pca.singular_values_)"
   ]
  },
  {
   "cell_type": "code",
   "execution_count": null,
   "id": "8f0cb524",
   "metadata": {},
   "outputs": [],
   "source": [
    "plt.figure(figsize=(3, 3)  )\n",
    "plt.scatter(X[:, 0], X[:, 1])\n",
    "plt.plot([0, pca.components_[0, 0]], [0, pca.components_[0, 1]], 'r')"
   ]
  },
  {
   "cell_type": "code",
   "execution_count": null,
   "id": "ab757c34",
   "metadata": {},
   "outputs": [],
   "source": [
    "transformed = pca.transform(X)\n",
    "\n",
    "plt.figure(figsize=(3, 3))\n",
    "plt.scatter(transformed[:, 0], transformed[:, 1])"
   ]
  },
  {
   "cell_type": "markdown",
   "id": "d305029d",
   "metadata": {},
   "source": [
    "# Splitting data into training and test sets"
   ]
  },
  {
   "cell_type": "markdown",
   "id": "5f4ee5c0",
   "metadata": {},
   "source": [
    "## Scikit-learn offers a function to split data into training and test sets:"
   ]
  },
  {
   "cell_type": "code",
   "execution_count": null,
   "id": "bedb0095",
   "metadata": {},
   "outputs": [],
   "source": [
    "from sklearn.datasets import make_blobs\n",
    "\n",
    "from sklearn.model_selection import train_test_split\n",
    "X, y = make_blobs(n_samples=50000, centers=5, n_features=5, random_state=0)\n",
    "X_train, X_test, Y_train, Y_test = train_test_split(X, y, stratify=y, random_state=50)"
   ]
  },
  {
   "cell_type": "code",
   "execution_count": null,
   "id": "ed6280ad",
   "metadata": {},
   "outputs": [],
   "source": [
    "plt.figure(figsize=(3, 3))\n",
    "plt.scatter(X_train[:, 0], X_train[:, 1], c=Y_train)"
   ]
  },
  {
   "cell_type": "markdown",
   "id": "71d8e509",
   "metadata": {},
   "source": [
    "There's also tools to loop over multiple splits of the data:\n",
    "\n"
   ]
  },
  {
   "cell_type": "code",
   "execution_count": null,
   "id": "6177a2f2",
   "metadata": {},
   "outputs": [],
   "source": [
    "from sklearn.model_selection import KFold\n",
    "\n",
    "X = np.array([[1, 2], [3, 4], [1, 2], [3, 4],\n",
    "              [0, 2], [1, 2], [5, 2], [0, 1]])\n",
    "kf = KFold(n_splits=4)\n",
    "kf.get_n_splits(X)\n",
    "# print(kf)\n",
    "\n",
    "for train_index, test_index in kf.split(X):\n",
    "    print(\"TRAIN:\", train_index, \"TEST:\", test_index)"
   ]
  },
  {
   "cell_type": "code",
   "execution_count": null,
   "id": "85991f71",
   "metadata": {},
   "outputs": [],
   "source": []
  },
  {
   "cell_type": "code",
   "execution_count": null,
   "id": "b5cbe340",
   "metadata": {},
   "outputs": [],
   "source": []
  },
  {
   "cell_type": "markdown",
   "id": "661b7c59",
   "metadata": {},
   "source": [
    "# Data clustering"
   ]
  },
  {
   "cell_type": "code",
   "execution_count": null,
   "id": "ff36e683",
   "metadata": {},
   "outputs": [],
   "source": [
    "import numpy as np\n",
    "\n",
    "# Create two clusters of data and merge them into one dataset:\n",
    "data1 = np.random.normal(0, 1, (100, 2))\n",
    "data2 = np.random.normal(5, 1, (100, 2))\n",
    "\n",
    "data = np.concatenate((data1, data2))"
   ]
  },
  {
   "cell_type": "code",
   "execution_count": null,
   "id": "3856058f",
   "metadata": {},
   "outputs": [],
   "source": [
    "plt.figure()\n",
    "plt.scatter(data[:, 0], data[:, 1], cmap=\"gray\")"
   ]
  },
  {
   "cell_type": "code",
   "execution_count": null,
   "id": "27e82f1e",
   "metadata": {},
   "outputs": [],
   "source": [
    "from sklearn.cluster import KMeans\n",
    "\n",
    "reduced_data = PCA(n_components=2).fit_transform(data)\n",
    "kmeans = KMeans(init=\"k-means++\", n_clusters=2, n_init=10)\n",
    "labels_predicted = kmeans.fit_predict(data)"
   ]
  },
  {
   "cell_type": "code",
   "execution_count": null,
   "id": "543d08d9",
   "metadata": {},
   "outputs": [],
   "source": [
    "plt.figure(figsize=(3, 3))\n",
    "\n",
    "plt.scatter(trasf[:, 0], trasf[:, 1], c=labels_predicted)"
   ]
  },
  {
   "cell_type": "code",
   "execution_count": null,
   "id": "468b5964",
   "metadata": {},
   "outputs": [],
   "source": []
  },
  {
   "cell_type": "markdown",
   "id": "b42108c4",
   "metadata": {},
   "source": [
    "(Practicals 3.2.2)"
   ]
  },
  {
   "cell_type": "code",
   "execution_count": null,
   "id": "ce1020f4",
   "metadata": {},
   "outputs": [],
   "source": []
  }
 ],
 "metadata": {
  "celltoolbar": "Slideshow",
  "kernelspec": {
   "display_name": "Python [conda env:course_env]",
   "language": "python",
   "name": "conda-env-course_env-py"
  },
  "language_info": {
   "codemirror_mode": {
    "name": "ipython",
    "version": 3
   },
   "file_extension": ".py",
   "mimetype": "text/x-python",
   "name": "python",
   "nbconvert_exporter": "python",
   "pygments_lexer": "ipython3"
  }
 },
 "nbformat": 4,
 "nbformat_minor": 5
}
