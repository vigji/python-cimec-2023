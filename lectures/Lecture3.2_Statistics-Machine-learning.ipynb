{
 "cells": [
  {
   "cell_type": "markdown",
   "id": "3ca811a3",
   "metadata": {},
   "source": [
    "# Python for (open) Neuroscience\n",
    "\n",
    "_Lecture 3.0_ - Introduction to Statistics and Machine learning in Pyhton\n",
    "\n",
    "Luigi Petrucco\n",
    "\n",
    "Jean-Charles Mariani"
   ]
  },
  {
   "cell_type": "markdown",
   "id": "582bbe72",
   "metadata": {},
   "source": [
    "## Classical statistics using Python"
   ]
  },
  {
   "cell_type": "markdown",
   "id": "923e4247",
   "metadata": {},
   "source": [
    "Disclaimer: I know very little about statistics!"
   ]
  },
  {
   "cell_type": "markdown",
   "id": "76bcfe94",
   "metadata": {},
   "source": [
    "No, Python will not tell you what tests to use...\n",
    "\n",
    "...but `scipy` module provides functions for pretty much any kind of classical statistics you might want to compute!"
   ]
  },
  {
   "cell_type": "markdown",
   "id": "688ff98d",
   "metadata": {},
   "source": [
    "### Descriptive statistics"
   ]
  },
  {
   "cell_type": "markdown",
   "id": "eabb9b15",
   "metadata": {},
   "source": [
    "#### Mean, median, mode"
   ]
  },
  {
   "cell_type": "code",
   "execution_count": null,
   "id": "698ad45b",
   "metadata": {},
   "outputs": [],
   "source": [
    "import numpy as np\n",
    "import scipy.stats as stats\n",
    "\n",
    "data = np.random.normal(0, 1, 1000)\n",
    "\n",
    "print('Mean: {}'.format(np.mean(data)))\n",
    "print('Median: {}'.format(np.median(data)))\n",
    "print('Mode: {}'.format(stats.mode(data)[0][0]))"
   ]
  },
  {
   "cell_type": "markdown",
   "id": "c073fe7f",
   "metadata": {},
   "source": []
  },
  {
   "cell_type": "markdown",
   "id": "8c8c24af",
   "metadata": {},
   "source": [
    "#### Standard deviation, variance"
   ]
  },
  {
   "cell_type": "code",
   "execution_count": null,
   "id": "fe8c8ea7",
   "metadata": {},
   "outputs": [],
   "source": [
    "print('Standard deviation: {}'.format(np.std(data)))\n",
    "print('Variance: {}'.format(np.var(data)))"
   ]
  },
  {
   "cell_type": "markdown",
   "id": "393de60f",
   "metadata": {},
   "source": []
  },
  {
   "cell_type": "markdown",
   "id": "c8568c0c",
   "metadata": {},
   "source": [
    "#### Skewness, kurtosis (and other moments)"
   ]
  },
  {
   "cell_type": "code",
   "execution_count": null,
   "id": "f16c8b33",
   "metadata": {},
   "outputs": [],
   "source": [
    "print('Skewness: {}'.format(stats.skew(data)))\n",
    "print('Kurtosis: {}'.format(stats.kurtosis(data)))"
   ]
  },
  {
   "cell_type": "markdown",
   "id": "a65e49fc",
   "metadata": {},
   "source": []
  },
  {
   "cell_type": "markdown",
   "id": "908d2774",
   "metadata": {},
   "source": [
    "#### Quantiles"
   ]
  },
  {
   "cell_type": "code",
   "execution_count": null,
   "id": "ea392ca0",
   "metadata": {},
   "outputs": [],
   "source": [
    "print('Quantiles: {}'.format(stats.mstats.mquantiles(data)))"
   ]
  },
  {
   "cell_type": "markdown",
   "id": "32e7a532",
   "metadata": {},
   "source": []
  },
  {
   "cell_type": "markdown",
   "id": "4a44d6b7",
   "metadata": {},
   "source": [
    "## Statistical tests"
   ]
  },
  {
   "cell_type": "markdown",
   "id": "31a207cb",
   "metadata": {},
   "source": [
    "### One-sample tests"
   ]
  },
  {
   "cell_type": "markdown",
   "id": "ce2533c7",
   "metadata": {},
   "source": []
  },
  {
   "cell_type": "code",
   "execution_count": null,
   "id": "247c7efa",
   "metadata": {},
   "outputs": [],
   "source": [
    "# One-sample t-test\n",
    "stats.ttest_1samp(data, 0)\n"
   ]
  },
  {
   "cell_type": "markdown",
   "id": "ef03a65e",
   "metadata": {},
   "source": []
  },
  {
   "cell_type": "code",
   "execution_count": null,
   "id": "e0705c77",
   "metadata": {},
   "outputs": [],
   "source": [
    "# One-sample Wilcoxon signed-rank test\n",
    "stats.wilcoxon(data)"
   ]
  },
  {
   "cell_type": "markdown",
   "id": "43034e2f",
   "metadata": {},
   "source": [
    "### Two-sample tests"
   ]
  },
  {
   "cell_type": "markdown",
   "id": "0ac2630a",
   "metadata": {},
   "source": [
    "#### Independent samples"
   ]
  },
  {
   "cell_type": "markdown",
   "id": "c135d6a5",
   "metadata": {},
   "source": [
    "# Two-sample t-test"
   ]
  },
  {
   "cell_type": "code",
   "execution_count": null,
   "id": "e321ec0b",
   "metadata": {},
   "outputs": [],
   "source": [
    "data2 = np.random.normal(0, 1, 1000)\n",
    "stats.ttest_ind(data, data2)"
   ]
  },
  {
   "cell_type": "markdown",
   "id": "d282272f",
   "metadata": {},
   "source": [
    "# Two-sample Wilcoxon rank-sum test"
   ]
  },
  {
   "cell_type": "code",
   "execution_count": null,
   "id": "20cbb485",
   "metadata": {},
   "outputs": [],
   "source": [
    "#Two-sample Wilcoxon rank-sum test\n",
    "stats.ranksums(data, data2)"
   ]
  },
  {
   "cell_type": "markdown",
   "id": "12afc22e",
   "metadata": {},
   "source": [
    "#### Paired samples"
   ]
  },
  {
   "cell_type": "markdown",
   "id": "06c19c8b",
   "metadata": {},
   "source": [
    "# Paired t-test"
   ]
  },
  {
   "cell_type": "code",
   "execution_count": null,
   "id": "367eae48",
   "metadata": {},
   "outputs": [],
   "source": [
    "stats.ttest_rel(data, data2)"
   ]
  },
  {
   "cell_type": "markdown",
   "id": "8df8bf80",
   "metadata": {},
   "source": [
    "# Paired Wilcoxon signed-rank test"
   ]
  },
  {
   "cell_type": "code",
   "execution_count": null,
   "id": "a85f1cc6",
   "metadata": {},
   "outputs": [],
   "source": [
    "stats.wilcoxon(data, data2)"
   ]
  },
  {
   "cell_type": "markdown",
   "id": "9df344bb",
   "metadata": {},
   "source": [
    "# One-way ANOVA"
   ]
  },
  {
   "cell_type": "code",
   "execution_count": null,
   "id": "71022d99",
   "metadata": {},
   "outputs": [],
   "source": [
    "data = np.random.normal(0, 1, 1000)\n",
    "data2 = np.random.normal(0, 1, 1000)\n",
    "data3 = np.random.normal(-1, 1, 1000)\n",
    "stats.f_oneway(data, data2, data3)"
   ]
  },
  {
   "cell_type": "markdown",
   "id": "68b01a78",
   "metadata": {},
   "source": []
  },
  {
   "cell_type": "markdown",
   "id": "b628c08c",
   "metadata": {},
   "source": [
    "# Kolmogorov-Smirnov test"
   ]
  },
  {
   "cell_type": "code",
   "execution_count": null,
   "id": "4f8e0f57",
   "metadata": {},
   "outputs": [],
   "source": [
    "data_norm = np.random.normal(0, 1, 1000)\n",
    "data_unif = np.random.uniform(0, 1, 1000)\n",
    "\n",
    "stats.kstest(data_norm, 'norm')"
   ]
  },
  {
   "cell_type": "markdown",
   "id": "9ce3cd4f",
   "metadata": {},
   "source": [
    "### Correlation"
   ]
  },
  {
   "cell_type": "code",
   "execution_count": null,
   "id": "c226737c",
   "metadata": {},
   "outputs": [],
   "source": [
    "data = np.random.normal(0, 1, 1000)\n",
    "data2 = np.random.normal(0, 1, 1000)\n",
    "stats.pearsonr(data, data2)"
   ]
  },
  {
   "cell_type": "markdown",
   "id": "851eb31c",
   "metadata": {},
   "source": [
    "## Normality tests"
   ]
  },
  {
   "cell_type": "code",
   "execution_count": null,
   "id": "ecac6f14",
   "metadata": {},
   "outputs": [],
   "source": [
    "# Test normality of data\n",
    "data = np.random.normal(0, 1, 1000)\n",
    "stats.normaltest(data)"
   ]
  },
  {
   "cell_type": "markdown",
   "id": "e68e6bfc",
   "metadata": {},
   "source": [
    "# Curve fitting"
   ]
  },
  {
   "cell_type": "code",
   "execution_count": null,
   "id": "28ce4609",
   "metadata": {},
   "outputs": [],
   "source": [
    "import numpy as np\n",
    "import matplotlib.pyplot as plt\n",
    "from scipy.optimize import curve_fit\n",
    "\n",
    "# Define the function to fit\n",
    "def func(x, a, b, c):\n",
    "    return a * np.exp(-b * x) + c\n",
    "\n",
    "# Generate data\n",
    "x = np.linspace(0, 4, 50)\n",
    "ydata = func(x, 2.5, 1.3, 0.5) + 0.2 * np.random.normal(size=len(x))\n"
   ]
  },
  {
   "cell_type": "code",
   "execution_count": null,
   "id": "c7c18235",
   "metadata": {},
   "outputs": [],
   "source": [
    "# plot the data\n",
    "plt.figure(figsize=(3, 3))\n",
    "plt.scatter(x, ydata, label='data')"
   ]
  },
  {
   "cell_type": "code",
   "execution_count": null,
   "id": "197aaa48",
   "metadata": {},
   "outputs": [],
   "source": [
    "# Fit the data\n",
    "popt, pcov = curve_fit(func, x, ydata)\n"
   ]
  },
  {
   "cell_type": "code",
   "execution_count": null,
   "id": "77793f2c",
   "metadata": {},
   "outputs": [],
   "source": [
    "plt.figure(figsize=(3, 3))\n",
    "plt.scatter(x, ydata, label='data')\n",
    "plt.plot(x, func(x, *popt), c=\"k\", label='fit')"
   ]
  },
  {
   "cell_type": "code",
   "execution_count": null,
   "id": "85b72530",
   "metadata": {},
   "outputs": [],
   "source": [
    "def func(x, a, b, c):\n",
    "    return a * np.exp(-b * x) + c"
   ]
  },
  {
   "cell_type": "code",
   "execution_count": null,
   "id": "a23264ac",
   "metadata": {},
   "outputs": [],
   "source": [
    "pcov"
   ]
  },
  {
   "cell_type": "markdown",
   "id": "c47289bf",
   "metadata": {},
   "source": [
    "(Practicals 3.2.0)"
   ]
  },
  {
   "cell_type": "markdown",
   "id": "fe0ff088",
   "metadata": {},
   "source": [
    "# Visualizing data using seaborn"
   ]
  },
  {
   "cell_type": "code",
   "execution_count": null,
   "id": "7bd76219",
   "metadata": {},
   "outputs": [],
   "source": [
    "import seaborn as sns\n",
    "\n",
    "iris = sns.load_dataset(\"iris\")\n",
    "iris.head()"
   ]
  },
  {
   "cell_type": "code",
   "execution_count": null,
   "id": "59b6f9c2",
   "metadata": {},
   "outputs": [],
   "source": [
    "sns.pairplot(iris, hue='species', height=2.5)"
   ]
  },
  {
   "cell_type": "code",
   "execution_count": null,
   "id": "2cd5b51f",
   "metadata": {},
   "outputs": [],
   "source": [
    "sns.jointplot(x=\"petal_width\", y=\"sepal_length\", data=iris, kind='reg');"
   ]
  },
  {
   "cell_type": "markdown",
   "id": "625f591d",
   "metadata": {},
   "source": [
    "## Advanced statistics using statsmodels"
   ]
  },
  {
   "cell_type": "markdown",
   "id": "ddb85c07",
   "metadata": {},
   "source": [
    "The `statsmodels` module provides a more complete set of statistical tools, including:\n",
    "- Linear models\n",
    "- Generalized linear models\n",
    "- Multivariate statistics\n",
    "- ..."
   ]
  },
  {
   "cell_type": "markdown",
   "id": "2b6d8f47",
   "metadata": {},
   "source": [
    "### Linear models"
   ]
  },
  {
   "cell_type": "code",
   "execution_count": null,
   "id": "e0786bcf",
   "metadata": {},
   "outputs": [],
   "source": [
    "import statsmodels.api as sm\n",
    "import statsmodels.formula.api as smf\n",
    "\n",
    "data = sm.datasets.get_rdataset('Guerry', 'HistData').data\n",
    "# data = data[['Lottery', 'Literacy', 'Wealth', 'Region']].dropna()\n",
    "data.head()"
   ]
  },
  {
   "cell_type": "markdown",
   "id": "40e3f764",
   "metadata": {},
   "source": []
  },
  {
   "cell_type": "code",
   "execution_count": null,
   "id": "01f38de6",
   "metadata": {},
   "outputs": [],
   "source": [
    "model = smf.ols('Lottery ~ Literacy + Wealth + Region', data=data)\n",
    "results = model.fit()\n",
    "print(results.summary())"
   ]
  },
  {
   "cell_type": "code",
   "execution_count": null,
   "id": "e3b79626",
   "metadata": {},
   "outputs": [],
   "source": [
    "import seaborn as sns\n",
    "\n",
    "sns.regplot(x='Literacy', y='Wealth', data=data)"
   ]
  },
  {
   "cell_type": "code",
   "execution_count": null,
   "id": "7cdc19f6",
   "metadata": {},
   "outputs": [],
   "source": [
    "sns.pairplot(data, vars=['Lottery', 'Literacy', 'Wealth'])"
   ]
  },
  {
   "cell_type": "code",
   "execution_count": null,
   "id": "4acd0870",
   "metadata": {},
   "outputs": [],
   "source": []
  },
  {
   "cell_type": "markdown",
   "id": "8dfc2a0d",
   "metadata": {},
   "source": [
    "### Generalized linear models"
   ]
  },
  {
   "cell_type": "code",
   "execution_count": null,
   "id": "142174c6",
   "metadata": {},
   "outputs": [],
   "source": [
    "import statsmodels.api as sm\n",
    "import statsmodels.formula.api as smf\n",
    "\n",
    "data = sm.datasets.get_rdataset('Guerry', 'HistData').data\n",
    "data = data[['Lottery', 'Literacy', 'Wealth', 'Region']].dropna()\n",
    "\n"
   ]
  },
  {
   "cell_type": "code",
   "execution_count": null,
   "id": "abb55ba1",
   "metadata": {},
   "outputs": [],
   "source": []
  },
  {
   "cell_type": "markdown",
   "id": "35d207f2",
   "metadata": {},
   "source": [
    "(Practicals 3.2.1)"
   ]
  },
  {
   "cell_type": "markdown",
   "id": "893891e8",
   "metadata": {},
   "source": [
    "# Machine learning using scikit-learn"
   ]
  },
  {
   "cell_type": "markdown",
   "id": "9bde6cea",
   "metadata": {},
   "source": [
    "## Data preprocessing"
   ]
  },
  {
   "cell_type": "code",
   "execution_count": null,
   "id": "ea26b67a",
   "metadata": {},
   "outputs": [],
   "source": [
    "from sklearn import preprocessing\n",
    "X_train = np.array([[ 1., -1.,  2.],\n",
    "                    [ 2.,  0.,  0.],\n",
    "                    [ 0.,  1., -1.]])\n",
    "\n",
    "scaler = preprocessing.StandardScaler().fit(X_train)\n",
    "scaler"
   ]
  },
  {
   "cell_type": "code",
   "execution_count": null,
   "id": "923706a8",
   "metadata": {},
   "outputs": [],
   "source": [
    "X_scaled = scaler.transform(X_train)\n",
    "X_scaled"
   ]
  },
  {
   "cell_type": "markdown",
   "id": "0e6019ce",
   "metadata": {},
   "source": [
    "Other scalers for max-min normalization ( MinMaxScaler), etc."
   ]
  },
  {
   "cell_type": "code",
   "execution_count": null,
   "id": "ac993a87",
   "metadata": {},
   "outputs": [],
   "source": [
    "# Histogram equalization\n",
    "data = np.random.normal(0, 1, 1000)\n",
    "quantile_trasformer = preprocessing.QuantileTransformer(n_quantiles=1000)\n",
    "trasf = quantile_trasformer.fit_transform(data.reshape(-1, 1))"
   ]
  },
  {
   "cell_type": "code",
   "execution_count": null,
   "id": "169e6b67",
   "metadata": {},
   "outputs": [],
   "source": [
    "trasf.shape"
   ]
  },
  {
   "cell_type": "code",
   "execution_count": null,
   "id": "a7615315",
   "metadata": {},
   "outputs": [],
   "source": [
    "plt.figure()\n",
    "plt.scatter(data, trasf)"
   ]
  },
  {
   "cell_type": "markdown",
   "id": "797f0425",
   "metadata": {},
   "source": [
    "# Dimensionality reduction"
   ]
  },
  {
   "cell_type": "markdown",
   "id": "810d37de",
   "metadata": {},
   "source": [
    "### Principal component analysis"
   ]
  },
  {
   "cell_type": "code",
   "execution_count": null,
   "id": "12b3f5b7",
   "metadata": {},
   "outputs": [],
   "source": [
    "from sklearn.decomposition import PCA\n",
    "\n",
    "# A simple tw-dimension dataset:\n",
    "from sklearn import datasets\n",
    "iris = datasets.load_iris()\n",
    "\n",
    "X = np.array([[-1, -1], [-2, -1], [-3, -2], [1, 1], [2, 1], [3, 2]])\n",
    "\n",
    "plt.figure()\n",
    "plt.scatter(X[:, 0], X[:, 1])"
   ]
  },
  {
   "cell_type": "code",
   "execution_count": null,
   "id": "7dce11fa",
   "metadata": {},
   "outputs": [],
   "source": [
    "pca = PCA(n_components=2)\n",
    "pca.fit(X)\n",
    "print(pca.explained_variance_ratio_)\n",
    "\n",
    "print(pca.singular_values_)"
   ]
  },
  {
   "cell_type": "code",
   "execution_count": null,
   "id": "b89cca94",
   "metadata": {},
   "outputs": [],
   "source": [
    "plt.figure(figsize=(3, 3)  )\n",
    "plt.scatter(X[:, 0], X[:, 1])\n",
    "plt.plot([0, pca.components_[0, 0]], [0, pca.components_[0, 1]], 'r')"
   ]
  },
  {
   "cell_type": "code",
   "execution_count": null,
   "id": "0b60d4bd",
   "metadata": {},
   "outputs": [],
   "source": [
    "transformed = pca.transform(X)\n",
    "\n",
    "plt.figure(figsize=(3, 3))\n",
    "plt.scatter(transformed[:, 0], transformed[:, 1])"
   ]
  },
  {
   "cell_type": "markdown",
   "id": "141502b7",
   "metadata": {},
   "source": [
    "# Splitting data into training and test sets"
   ]
  },
  {
   "cell_type": "markdown",
   "id": "3b6cb6e4",
   "metadata": {},
   "source": [
    "## Scikit-learn offers a function to split data into training and test sets:"
   ]
  },
  {
   "cell_type": "code",
   "execution_count": null,
   "id": "af06f070",
   "metadata": {},
   "outputs": [],
   "source": [
    "from sklearn.datasets import make_blobs\n",
    "\n",
    "from sklearn.model_selection import train_test_split\n",
    "X, y = make_blobs(n_samples=50000, centers=5, n_features=5, random_state=0)\n",
    "X_train, X_test, Y_train, Y_test = train_test_split(X, y, stratify=y, random_state=50)"
   ]
  },
  {
   "cell_type": "code",
   "execution_count": null,
   "id": "a7968609",
   "metadata": {},
   "outputs": [],
   "source": [
    "plt.figure(figsize=(3, 3))\n",
    "plt.scatter(X_train[:, 0], X_train[:, 1], c=Y_train)"
   ]
  },
  {
   "cell_type": "markdown",
   "id": "89782ce8",
   "metadata": {},
   "source": [
    "There's also tools to loop over multiple splits of the data:\n",
    "\n"
   ]
  },
  {
   "cell_type": "code",
   "execution_count": null,
   "id": "8a766b8f",
   "metadata": {},
   "outputs": [],
   "source": [
    "from sklearn.model_selection import KFold\n",
    "\n",
    "X = np.array([[1, 2], [3, 4], [1, 2], [3, 4],\n",
    "              [0, 2], [1, 2], [5, 2], [0, 1]])\n",
    "kf = KFold(n_splits=4)\n",
    "kf.get_n_splits(X)\n",
    "# print(kf)\n",
    "\n",
    "for train_index, test_index in kf.split(X):\n",
    "    print(\"TRAIN:\", train_index, \"TEST:\", test_index)"
   ]
  },
  {
   "cell_type": "code",
   "execution_count": null,
   "id": "5b2f3f68",
   "metadata": {},
   "outputs": [],
   "source": []
  },
  {
   "cell_type": "code",
   "execution_count": null,
   "id": "53d8a29c",
   "metadata": {},
   "outputs": [],
   "source": []
  },
  {
   "cell_type": "markdown",
   "id": "268edab0",
   "metadata": {},
   "source": [
    "# Data clustering"
   ]
  },
  {
   "cell_type": "code",
   "execution_count": null,
   "id": "a93710e5",
   "metadata": {},
   "outputs": [],
   "source": [
    "import numpy as np\n",
    "\n",
    "# Create two clusters of data and merge them into one dataset:\n",
    "X, y = make_blobs(n_samples=50000, centers=4, cluster_std=2,\n",
    "                  n_features=2, random_state=10)\n"
   ]
  },
  {
   "cell_type": "code",
   "execution_count": null,
   "id": "f278533d",
   "metadata": {},
   "outputs": [],
   "source": [
    "plt.figure()\n",
    "plt.scatter(X[:, 0], X[:, 1], c=y)"
   ]
  },
  {
   "cell_type": "code",
   "execution_count": null,
   "id": "9d0f8080",
   "metadata": {},
   "outputs": [],
   "source": [
    "from sklearn.cluster import KMeans\n",
    "\n",
    "\n",
    "# Split data in test and train:\n",
    "X_train, X_test, Y_train, Y_test = train_test_split(X, y, random_state=50)\n",
    "\n",
    "kmeans = KMeans(init=\"k-means++\", n_clusters=4, n_init=10)\n",
    "kmeans.fit(X_train)\n",
    "\n",
    "Y_predicted = kmeans.predict(X_test)"
   ]
  },
  {
   "cell_type": "code",
   "execution_count": null,
   "id": "219e9889",
   "metadata": {},
   "outputs": [],
   "source": [
    "plt.figure(figsize=(3, 3))\n",
    "\n",
    "plt.scatter(X_test[:, 0], X_test[:, 1], c=Y_test)"
   ]
  },
  {
   "cell_type": "markdown",
   "id": "3cef6b71",
   "metadata": {},
   "source": [
    "# Measuring accuracy"
   ]
  },
  {
   "cell_type": "code",
   "execution_count": null,
   "id": "da68eb48",
   "metadata": {},
   "outputs": [],
   "source": [
    "from sklearn.metrics import confusion_matrix"
   ]
  },
  {
   "cell_type": "code",
   "execution_count": null,
   "id": "29f8a01a",
   "metadata": {},
   "outputs": [],
   "source": [
    "confusion_matrix(Y_test, Y_predicted)"
   ]
  },
  {
   "cell_type": "markdown",
   "id": "37d10b5a",
   "metadata": {},
   "source": [
    "(Practicals 3.2.1)"
   ]
  },
  {
   "cell_type": "code",
   "execution_count": null,
   "id": "1f9ce1c4",
   "metadata": {},
   "outputs": [],
   "source": []
  }
 ],
 "metadata": {
  "celltoolbar": "Slideshow",
  "kernelspec": {
   "display_name": "Python [conda env:course_env]",
   "language": "python",
   "name": "conda-env-course_env-py"
  },
  "language_info": {
   "codemirror_mode": {
    "name": "ipython",
    "version": 3
   },
   "file_extension": ".py",
   "mimetype": "text/x-python",
   "name": "python",
   "nbconvert_exporter": "python",
   "pygments_lexer": "ipython3"
  }
 },
 "nbformat": 4,
 "nbformat_minor": 5
}
