{
 "cells": [
  {
   "cell_type": "markdown",
   "id": "3ca811a3",
   "metadata": {
    "slideshow": {
     "slide_type": "slide"
    }
   },
   "source": [
    "# Python for (open) Neuroscience\n",
    "\n",
    "_Lecture 1.2_ - More on `pandas`\n",
    "\n",
    "Luigi Petrucco\n",
    "\n",
    "Jean-Charles Mariani\n",
    "\n",
    "[![Open In Colab](https://colab.research.google.com/assets/colab-badge.svg)](https://colab.research.google.com/github/vigji/python-cimec/blob/main/lectures/Lecture1.2_More-pandas.ipynb)"
   ]
  },
  {
   "cell_type": "markdown",
   "id": "d9fbc68f",
   "metadata": {},
   "source": [
    "## Advanced pandas"
   ]
  },
  {
   "cell_type": "markdown",
   "id": "8a27d919",
   "metadata": {},
   "source": [
    "### `.rolling()`"
   ]
  },
  {
   "cell_type": "code",
   "execution_count": null,
   "id": "79f17af5",
   "metadata": {},
   "outputs": [],
   "source": []
  },
  {
   "cell_type": "markdown",
   "id": "c72dc763",
   "metadata": {},
   "source": [
    "### `.groupby()`"
   ]
  },
  {
   "cell_type": "code",
   "execution_count": null,
   "id": "4722d4fc",
   "metadata": {},
   "outputs": [],
   "source": []
  },
  {
   "cell_type": "markdown",
   "id": "59ba7b95",
   "metadata": {},
   "source": [
    "`.register()`"
   ]
  },
  {
   "cell_type": "markdown",
   "id": "f3705dfb",
   "metadata": {},
   "source": [
    "- or, the magic of semantic indexing and aggregation"
   ]
  },
  {
   "cell_type": "markdown",
   "id": "eee94bf8",
   "metadata": {},
   "source": [
    " - not that magical for R people. But hopefully will give you a good replacement."
   ]
  },
  {
   "cell_type": "markdown",
   "id": "c3b40c7b",
   "metadata": {},
   "source": [
    "### A problem for arrays"
   ]
  },
  {
   "cell_type": "markdown",
   "id": "b9622b3e",
   "metadata": {},
   "source": [
    "In arrays, we cannot work with \"semantic\" axes (i.e., we will always have to remember what our axes were)"
   ]
  },
  {
   "cell_type": "markdown",
   "id": "f91a45d0",
   "metadata": {},
   "source": [
    "Also, we always need to work with square arrays (same numbers of values over every axis)."
   ]
  },
  {
   "cell_type": "markdown",
   "id": "1d308087",
   "metadata": {},
   "source": [
    "This can be a pain for real world -_i.e._, dishomogenous - data!"
   ]
  },
  {
   "cell_type": "markdown",
   "id": "7235b342",
   "metadata": {},
   "source": [
    "## `pandas` 🐼 can help us here"
   ]
  },
  {
   "cell_type": "code",
   "execution_count": 1,
   "id": "091be244",
   "metadata": {},
   "outputs": [],
   "source": [
    "import pandas as pd"
   ]
  },
  {
   "cell_type": "markdown",
   "id": "f0460548",
   "metadata": {},
   "source": [
    "### `pd.DataFrame` and `pd.Series`"
   ]
  },
  {
   "cell_type": "markdown",
   "id": "1f107e32",
   "metadata": {},
   "source": [
    "`pd.DataFrame` and `pd.Series` are to `pandas` what `np.ndarray` is to `numpy`!"
   ]
  },
  {
   "cell_type": "markdown",
   "id": "57be392d",
   "metadata": {},
   "source": [
    "### `pd.DataFrame`"
   ]
  },
  {
   "cell_type": "markdown",
   "id": "630c8fc9",
   "metadata": {},
   "source": [
    "2D data structure with labelled **columns** and indexed **rows**"
   ]
  },
  {
   "cell_type": "code",
   "execution_count": null,
   "id": "3ab9b216",
   "metadata": {},
   "outputs": [],
   "source": []
  },
  {
   "cell_type": "markdown",
   "id": "89b7368b",
   "metadata": {},
   "source": [
    "Dataframes are a great way of storing multiple data for the same elements!"
   ]
  },
  {
   "cell_type": "markdown",
   "id": "3bd38d18",
   "metadata": {},
   "source": [
    "Index dataframe over columns:"
   ]
  },
  {
   "cell_type": "markdown",
   "id": "5468d753",
   "metadata": {},
   "source": [
    "Index data over rows:"
   ]
  },
  {
   "cell_type": "markdown",
   "id": "591f975d",
   "metadata": {},
   "source": [
    "select over both rows and columns using .loc"
   ]
  },
  {
   "cell_type": "markdown",
   "id": "0fac46eb",
   "metadata": {},
   "source": [
    "### `pd.Series`"
   ]
  },
  {
   "cell_type": "markdown",
   "id": "e3fd2537",
   "metadata": {},
   "source": [
    "`pd.Series` are 1-dimensional data structures - basically columns of  `pd.DataFrame`s"
   ]
  },
  {
   "cell_type": "code",
   "execution_count": null,
   "id": "0f6c5bf2",
   "metadata": {},
   "outputs": [],
   "source": []
  },
  {
   "cell_type": "markdown",
   "id": "11b8b0b6",
   "metadata": {},
   "source": [
    "### Create pd.DataFrames"
   ]
  },
  {
   "cell_type": "markdown",
   "id": "480c5419",
   "metadata": {},
   "source": [
    "We can create a dataframe from a dictionary of arrays (lists), or from a list of dictionaries:"
   ]
  },
  {
   "cell_type": "code",
   "execution_count": 2,
   "id": "0314b40d",
   "metadata": {},
   "outputs": [
    {
     "data": {
      "text/html": [
       "<div>\n",
       "<style scoped>\n",
       "    .dataframe tbody tr th:only-of-type {\n",
       "        vertical-align: middle;\n",
       "    }\n",
       "\n",
       "    .dataframe tbody tr th {\n",
       "        vertical-align: top;\n",
       "    }\n",
       "\n",
       "    .dataframe thead th {\n",
       "        text-align: right;\n",
       "    }\n",
       "</style>\n",
       "<table border=\"1\" class=\"dataframe\">\n",
       "  <thead>\n",
       "    <tr style=\"text-align: right;\">\n",
       "      <th></th>\n",
       "      <th>idx</th>\n",
       "      <th>name</th>\n",
       "    </tr>\n",
       "  </thead>\n",
       "  <tbody>\n",
       "    <tr>\n",
       "      <th>0</th>\n",
       "      <td>0</td>\n",
       "      <td>foo</td>\n",
       "    </tr>\n",
       "    <tr>\n",
       "      <th>1</th>\n",
       "      <td>1</td>\n",
       "      <td>bar</td>\n",
       "    </tr>\n",
       "  </tbody>\n",
       "</table>\n",
       "</div>"
      ],
      "text/plain": [
       "   idx name\n",
       "0    0  foo\n",
       "1    1  bar"
      ]
     },
     "execution_count": 2,
     "metadata": {},
     "output_type": "execute_result"
    }
   ],
   "source": [
    "dict_list = []\n",
    "\n",
    "for i, name in enumerate([\"foo\", \"bar\"]):\n",
    "    dict_list.append(dict(idx=i, name=name))\n",
    "\n",
    "\n",
    "pd.DataFrame(dict_list)"
   ]
  },
  {
   "cell_type": "code",
   "execution_count": 3,
   "id": "d7593c50",
   "metadata": {},
   "outputs": [
    {
     "data": {
      "text/html": [
       "<div>\n",
       "<style scoped>\n",
       "    .dataframe tbody tr th:only-of-type {\n",
       "        vertical-align: middle;\n",
       "    }\n",
       "\n",
       "    .dataframe tbody tr th {\n",
       "        vertical-align: top;\n",
       "    }\n",
       "\n",
       "    .dataframe thead th {\n",
       "        text-align: right;\n",
       "    }\n",
       "</style>\n",
       "<table border=\"1\" class=\"dataframe\">\n",
       "  <thead>\n",
       "    <tr style=\"text-align: right;\">\n",
       "      <th></th>\n",
       "      <th>idx</th>\n",
       "      <th>name</th>\n",
       "    </tr>\n",
       "  </thead>\n",
       "  <tbody>\n",
       "    <tr>\n",
       "      <th>0</th>\n",
       "      <td>0</td>\n",
       "      <td>foo</td>\n",
       "    </tr>\n",
       "    <tr>\n",
       "      <th>1</th>\n",
       "      <td>1</td>\n",
       "      <td>bar</td>\n",
       "    </tr>\n",
       "  </tbody>\n",
       "</table>\n",
       "</div>"
      ],
      "text/plain": [
       "   idx name\n",
       "0    0  foo\n",
       "1    1  bar"
      ]
     },
     "execution_count": 3,
     "metadata": {},
     "output_type": "execute_result"
    }
   ],
   "source": [
    "array_dict = dict(idx=[0, 1], name=[\"foo\", \"bar\"])\n",
    "\n",
    "pd.DataFrame(array_dict)"
   ]
  },
  {
   "cell_type": "markdown",
   "id": "bd1c500d",
   "metadata": {
    "slideshow": {
     "slide_type": "fragment"
    }
   },
   "source": [
    "Calculate the average of an array, either global or along some axis:"
   ]
  },
  {
   "cell_type": "code",
   "execution_count": 14,
   "id": "9ae4da63",
   "metadata": {
    "slideshow": {
     "slide_type": "-"
    }
   },
   "outputs": [
    {
     "name": "stdout",
     "output_type": "stream",
     "text": [
      "[[ 92  78 188  64  82 135]\n",
      " [156 185  38 113 192 200]\n",
      " [122 200 142  40  88  47]\n",
      " [  4 180 144 166 174 151]\n",
      " [212 135  22  53 202 152]];\n",
      "mean: 125.23333333333333\n"
     ]
    }
   ],
   "source": [
    "import numpy as np\n",
    "arr = np.random.randint(0, 255, (5, 6))\n",
    "print(f\"{arr};\\nmean: {np.mean(arr)}\")"
   ]
  },
  {
   "cell_type": "markdown",
   "id": "83b93581",
   "metadata": {
    "slideshow": {
     "slide_type": "subslide"
    }
   },
   "source": [
    "If we want to take the average along a specific dimension, we can pass the axis as a parameter:"
   ]
  },
  {
   "cell_type": "code",
   "execution_count": 16,
   "id": "5378d984",
   "metadata": {},
   "outputs": [
    {
     "name": "stdout",
     "output_type": "stream",
     "text": [
      "[[ 34 169 118  23 227  61]\n",
      " [229  60 127  68 205   5]\n",
      " [148  63 102 164 160 144]\n",
      " [112 152  66 155 144 119]\n",
      " [107 187 209 224  66  86]];\n",
      "mean: [126.  126.2 124.4 126.8 160.4  83. ]\n"
     ]
    }
   ],
   "source": [
    "import numpy as np\n",
    "arr = np.random.randint(0, 255, (5, 6))\n",
    "arr_mean = np.mean(arr, axis=0)  # we specify one axis\n",
    "print(f\"{arr};\\nmean: {arr_mean}\")"
   ]
  },
  {
   "cell_type": "markdown",
   "id": "4d05dd28",
   "metadata": {
    "slideshow": {
     "slide_type": "subslide"
    }
   },
   "source": [
    "If there are nan values around, we have to use `np.nanmean()`:"
   ]
  },
  {
   "cell_type": "code",
   "execution_count": 20,
   "id": "ce9ef839",
   "metadata": {},
   "outputs": [
    {
     "name": "stdout",
     "output_type": "stream",
     "text": [
      "[[ nan  41.  30. 156. 110.  27.]\n",
      " [142.  32.  42.  40.  54. 139.]\n",
      " [ 75. 102. 154. 167. 207. 104.]\n",
      " [129. 223. 143.  57. 163.  40.]\n",
      " [219.   7.  81. 205. 122. 200.]];\n",
      "regular mean: nan\n",
      "nanmean: 110.72413793103448\n"
     ]
    }
   ],
   "source": [
    "import numpy as np\n",
    "\n",
    "# we need a float dtype to use nan values:\n",
    "arr = np.random.randint(0, 255, (5, 6)).astype(float) \n",
    "\n",
    "arr[0, 0] = np.nan\n",
    "arr_mean = np.mean(arr)  # regular mean\n",
    "arr_nan_mean = np.nanmean(arr)  # use nanmean\n",
    "print(f\"{arr};\\nregular mean: {arr_mean}\\nnanmean: {arr_nan_mean}\")"
   ]
  },
  {
   "cell_type": "code",
   "execution_count": null,
   "id": "464faf4d",
   "metadata": {
    "slideshow": {
     "slide_type": "subslide"
    }
   },
   "outputs": [],
   "source": []
  },
  {
   "cell_type": "code",
   "execution_count": 22,
   "id": "53ee3d93",
   "metadata": {},
   "outputs": [
    {
     "ename": "AttributeError",
     "evalue": "'numpy.ndarray' object has no attribute 'median'",
     "output_type": "error",
     "traceback": [
      "\u001b[0;31m---------------------------------------------------------------------------\u001b[0m",
      "\u001b[0;31mAttributeError\u001b[0m                            Traceback (most recent call last)",
      "Input \u001b[0;32mIn [22]\u001b[0m, in \u001b[0;36m<cell line: 3>\u001b[0;34m()\u001b[0m\n\u001b[1;32m      1\u001b[0m arr \u001b[38;5;241m=\u001b[39m np\u001b[38;5;241m.\u001b[39mrandom\u001b[38;5;241m.\u001b[39mrandint(\u001b[38;5;241m0\u001b[39m, \u001b[38;5;241m10\u001b[39m, (\u001b[38;5;241m3\u001b[39m,\u001b[38;5;241m4\u001b[39m))\n\u001b[0;32m----> 3\u001b[0m \u001b[43marr\u001b[49m\u001b[38;5;241;43m.\u001b[39;49m\u001b[43mmedian\u001b[49m()\n",
      "\u001b[0;31mAttributeError\u001b[0m: 'numpy.ndarray' object has no attribute 'median'"
     ]
    }
   ],
   "source": [
    "arr = np.random.randint(0, 10, (3,4))\n",
    "\n",
    "arr.median()"
   ]
  },
  {
   "cell_type": "markdown",
   "id": "371e7b51",
   "metadata": {
    "slideshow": {
     "slide_type": "subslide"
    }
   },
   "source": [
    "Many of the functions we're about to see behave in this way - assume they have a nan-dealing equivalent!\n",
    "\n",
    " - `np.std()` / `np.nanstd()`\n",
    " - `np.percentile()` / `np.nanpercentile()`\n",
    " - `np.max()` / `np.nanmax()`\n",
    " - ..."
   ]
  },
  {
   "cell_type": "markdown",
   "id": "41a2bb00",
   "metadata": {
    "slideshow": {
     "slide_type": "subslide"
    }
   },
   "source": [
    "### `np.std()` / `np.nanstd()`"
   ]
  },
  {
   "cell_type": "markdown",
   "id": "bb00055f",
   "metadata": {
    "slideshow": {
     "slide_type": "-"
    }
   },
   "source": [
    "Calculate the standard deviation of an array, either global or along some axis:"
   ]
  },
  {
   "cell_type": "code",
   "execution_count": 23,
   "id": "5bb73245",
   "metadata": {},
   "outputs": [
    {
     "data": {
      "text/plain": [
       "2.9911940005367863"
      ]
     },
     "execution_count": 23,
     "metadata": {},
     "output_type": "execute_result"
    }
   ],
   "source": [
    "arr = np.random.normal(0, 3, 1000)\n",
    "np.std(arr)"
   ]
  },
  {
   "cell_type": "markdown",
   "id": "11095118",
   "metadata": {
    "slideshow": {
     "slide_type": "subslide"
    }
   },
   "source": [
    "### `np.median()` / `np.nanmedian()`"
   ]
  },
  {
   "cell_type": "markdown",
   "id": "8d0a144a",
   "metadata": {},
   "source": [
    "Calculate the median of an array, either global or along some axis:"
   ]
  },
  {
   "cell_type": "code",
   "execution_count": 27,
   "id": "e2942579",
   "metadata": {},
   "outputs": [
    {
     "data": {
      "text/plain": [
       "array([51., 49., 49., 49., 51., 50., 49., 47., 49., 53.])"
      ]
     },
     "execution_count": 27,
     "metadata": {},
     "output_type": "execute_result"
    }
   ],
   "source": [
    "arr = np.random.randint(0, 100, (1000, 10))\n",
    "np.median(arr, axis=0)"
   ]
  },
  {
   "cell_type": "markdown",
   "id": "1b81aa46",
   "metadata": {
    "slideshow": {
     "slide_type": "subslide"
    }
   },
   "source": [
    "### `np.max()` / `np.min()`"
   ]
  },
  {
   "cell_type": "markdown",
   "id": "11f5abf6",
   "metadata": {},
   "source": [
    "Calculate the minimum or maximum of an array, either global or along some axis:"
   ]
  },
  {
   "cell_type": "code",
   "execution_count": 28,
   "id": "a3089679",
   "metadata": {},
   "outputs": [
    {
     "data": {
      "text/plain": [
       "(0, 99)"
      ]
     },
     "execution_count": 28,
     "metadata": {},
     "output_type": "execute_result"
    }
   ],
   "source": [
    "arr = np.random.randint(0, 100, 1000)\n",
    "\n",
    "np.min(arr), np.max(arr)  # print min and max together"
   ]
  },
  {
   "cell_type": "markdown",
   "id": "9147b2a1",
   "metadata": {
    "slideshow": {
     "slide_type": "subslide"
    }
   },
   "source": [
    "### `np.percentile()`"
   ]
  },
  {
   "cell_type": "markdown",
   "id": "16f4b233",
   "metadata": {
    "slideshow": {
     "slide_type": "fragment"
    }
   },
   "source": [
    "Calculate a given percentile of an array, either global or along some axis:"
   ]
  },
  {
   "cell_type": "code",
   "execution_count": 29,
   "id": "f5d53f52",
   "metadata": {},
   "outputs": [
    {
     "data": {
      "text/plain": [
       "756.0"
      ]
     },
     "execution_count": 29,
     "metadata": {},
     "output_type": "execute_result"
    }
   ],
   "source": [
    "arr = np.random.randint(0, 1000, 10000)\n",
    "\n",
    "np.percentile(arr, 75)  # print min and max together"
   ]
  },
  {
   "cell_type": "markdown",
   "id": "acdb78e7",
   "metadata": {
    "slideshow": {
     "slide_type": "subslide"
    }
   },
   "source": [
    "### `np.unique()`"
   ]
  },
  {
   "cell_type": "markdown",
   "id": "1ad91153",
   "metadata": {
    "slideshow": {
     "slide_type": "-"
    }
   },
   "source": [
    "Return unique values of an array, and if asked their counts"
   ]
  },
  {
   "cell_type": "code",
   "execution_count": 33,
   "id": "1aaf519b",
   "metadata": {},
   "outputs": [
    {
     "data": {
      "text/plain": [
       "array([1, 2, 3])"
      ]
     },
     "execution_count": 33,
     "metadata": {},
     "output_type": "execute_result"
    }
   ],
   "source": [
    "np.unique(np.array([1, 2, 2, 3, 3, 3]))"
   ]
  },
  {
   "cell_type": "code",
   "execution_count": 35,
   "id": "3f37261f",
   "metadata": {
    "slideshow": {
     "slide_type": "subslide"
    }
   },
   "outputs": [
    {
     "name": "stdout",
     "output_type": "stream",
     "text": [
      "unique: [1 2 3]\n",
      "counts: [1 2 1]\n"
     ]
    }
   ],
   "source": [
    "# If we ask we can get counts as well\n",
    "unique_values, counts = np.unique([1,2,2,3], return_counts=True) \n",
    "\n",
    "print(\"unique:\", unique_values)\n",
    "\n",
    "print(\"counts:\", counts)"
   ]
  },
  {
   "cell_type": "code",
   "execution_count": 36,
   "id": "9c320ec0",
   "metadata": {},
   "outputs": [],
   "source": [
    "arr = np.random.normal(0, 1, 1000000)"
   ]
  },
  {
   "cell_type": "markdown",
   "id": "31bf7831",
   "metadata": {
    "slideshow": {
     "slide_type": "subslide"
    }
   },
   "source": [
    "### `np.diff()` / `np.cumsum()`  "
   ]
  },
  {
   "cell_type": "markdown",
   "id": "050d6500",
   "metadata": {},
   "source": [
    "We can compute cumulative sums (integrals) of an array with `np.cumsum()`:"
   ]
  },
  {
   "cell_type": "code",
   "execution_count": 39,
   "id": "ad01d01d",
   "metadata": {},
   "outputs": [
    {
     "data": {
      "text/plain": [
       "array([[1, 2, 3, 4],\n",
       "       [2, 4, 7, 9]])"
      ]
     },
     "execution_count": 39,
     "metadata": {},
     "output_type": "execute_result"
    }
   ],
   "source": [
    "my_arr = np.array([[1,2,3,4],[1,2,4,5]])\n",
    "np.cumsum(my_arr, axis=0)"
   ]
  },
  {
   "cell_type": "markdown",
   "id": "97df770a",
   "metadata": {},
   "source": [
    "We can compute differences between consecutive elements of an array using `np.diff()`:"
   ]
  },
  {
   "cell_type": "code",
   "execution_count": 40,
   "id": "38174f2a",
   "metadata": {
    "slideshow": {
     "slide_type": "subslide"
    }
   },
   "outputs": [
    {
     "data": {
      "text/plain": [
       "array([1, 1, 1])"
      ]
     },
     "execution_count": 40,
     "metadata": {},
     "output_type": "execute_result"
    }
   ],
   "source": [
    "my_arr = np.array([1,2,3,4])\n",
    "np.diff(my_arr)"
   ]
  },
  {
   "cell_type": "markdown",
   "id": "154da46d",
   "metadata": {
    "slideshow": {
     "slide_type": "slide"
    }
   },
   "source": [
    "(Practicals 1.1.0)"
   ]
  },
  {
   "cell_type": "markdown",
   "id": "4c9af68d",
   "metadata": {
    "slideshow": {
     "slide_type": "slide"
    }
   },
   "source": [
    "### Write code the `numpy` way"
   ]
  },
  {
   "cell_type": "markdown",
   "id": "58014c7d",
   "metadata": {},
   "source": [
    "When operating with matrices, you should always aim at writing <span style=\"color:indianred\">vectorized</span> code"
   ]
  },
  {
   "cell_type": "markdown",
   "id": "3fe563f6",
   "metadata": {},
   "source": [
    "Vectorized code: code where for loops are replaced by operations over matrix dimensions"
   ]
  },
  {
   "cell_type": "markdown",
   "id": "2af65e86",
   "metadata": {},
   "source": [
    "An very simple example: vectors multiplication"
   ]
  },
  {
   "cell_type": "code",
   "execution_count": null,
   "id": "5c86633d",
   "metadata": {
    "slideshow": {
     "slide_type": "subslide"
    }
   },
   "outputs": [],
   "source": [
    "vector_1 = np.random.normal(0, 1, (10000000,))\n",
    "vector_2 = np.random.normal(0, 1, (10000000,))"
   ]
  },
  {
   "cell_type": "code",
   "execution_count": null,
   "id": "4e110f01",
   "metadata": {},
   "outputs": [],
   "source": [
    "%%timeit\n",
    "product = np.zeros(vector_1.shape)  # initialize empty result vector\n",
    "\n",
    "# Compute the multiplication in a loop:\n",
    "for i in range(vector_1.shape[0]):\n",
    "    product[i] = vector_1[i] * vector_2[i]"
   ]
  },
  {
   "cell_type": "code",
   "execution_count": null,
   "id": "e107c511",
   "metadata": {
    "cell_style": "center",
    "slideshow": {
     "slide_type": "subslide"
    }
   },
   "outputs": [],
   "source": [
    "%%timeit\n",
    "product = vector_1 * vector_2"
   ]
  },
  {
   "cell_type": "markdown",
   "id": "372460b4",
   "metadata": {
    "slideshow": {
     "slide_type": "subslide"
    }
   },
   "source": [
    "Another example: Z-score the rows of a matrix:"
   ]
  },
  {
   "cell_type": "code",
   "execution_count": null,
   "id": "47b5f978",
   "metadata": {},
   "outputs": [],
   "source": [
    "data_matrix = np.random.randint(0, 255, (100000, 100))"
   ]
  },
  {
   "cell_type": "code",
   "execution_count": null,
   "id": "8dfdb4d8",
   "metadata": {},
   "outputs": [],
   "source": [
    "%%timeit\n",
    "normalized_matrix = np.zeros(data_matrix.shape)  # start an empty matrix of matching shape \n",
    "\n",
    "# Loop over rows (first dimension), take mean and std, subtract and divide:\n",
    "for i in range(data_matrix.shape[0]):\n",
    "    row_mean = np.mean(data_matrix[i, :])\n",
    "    row_std = np.std(data_matrix[i, :])\n",
    "    \n",
    "    normalized_matrix[i, :] = (data_matrix[i, :] - row_mean) / row_std"
   ]
  },
  {
   "cell_type": "code",
   "execution_count": null,
   "id": "57a84d6a",
   "metadata": {
    "slideshow": {
     "slide_type": "subslide"
    }
   },
   "outputs": [],
   "source": [
    "%%timeit\n",
    "rows_mean = np.mean(data_matrix, axis=1)  # vectorized mean\n",
    "rows_std = np.std(data_matrix, axis=1)  # vectorized std\n",
    "\n",
    "# Write the normalization as a vector operation.\n",
    "# Note how we use broadcasting to make sure the right dimensions are propagated!\n",
    "\n",
    "normalized_matrix = data_matrix - rows_mean[:, np.newaxis] / rows_std[:, np.newaxis]"
   ]
  },
  {
   "cell_type": "markdown",
   "id": "c2dc7434",
   "metadata": {
    "slideshow": {
     "slide_type": "slide"
    }
   },
   "source": [
    "## Search indexes"
   ]
  },
  {
   "cell_type": "markdown",
   "id": "1f1acb9e",
   "metadata": {},
   "source": [
    "Some functions find indexes of the elements of an array that match some criterion."
   ]
  },
  {
   "cell_type": "markdown",
   "id": "b17f4c74",
   "metadata": {
    "slideshow": {
     "slide_type": "subslide"
    }
   },
   "source": [
    "### `np.argmin()` / `np.argmax()` "
   ]
  },
  {
   "cell_type": "markdown",
   "id": "2d7bd030",
   "metadata": {
    "slideshow": {
     "slide_type": "fragment"
    }
   },
   "source": [
    "Find the position of the maximum or the minimum of an array"
   ]
  },
  {
   "cell_type": "code",
   "execution_count": null,
   "id": "1c76d588",
   "metadata": {},
   "outputs": [],
   "source": [
    "arr = np.array([5, 0, 2, 9, 6,])\n",
    "\n",
    "np.argmin(arr)  # give index of smallest element"
   ]
  },
  {
   "cell_type": "code",
   "execution_count": null,
   "id": "0dc0f933",
   "metadata": {
    "slideshow": {
     "slide_type": "fragment"
    }
   },
   "outputs": [],
   "source": [
    "np.argmax(arr)  # give index of biggest element"
   ]
  },
  {
   "cell_type": "markdown",
   "id": "ce8f4181",
   "metadata": {
    "slideshow": {
     "slide_type": "subslide"
    }
   },
   "source": [
    "For a multi-dimensional array:"
   ]
  },
  {
   "cell_type": "code",
   "execution_count": 3,
   "id": "30e7f38d",
   "metadata": {},
   "outputs": [
    {
     "name": "stdout",
     "output_type": "stream",
     "text": [
      "[[5 1 2]\n",
      " [3 0 4]]\n"
     ]
    },
    {
     "data": {
      "text/plain": [
       "4"
      ]
     },
     "execution_count": 3,
     "metadata": {},
     "output_type": "execute_result"
    }
   ],
   "source": [
    "arr = np.array([[5, 1, 2], [3, 0, 4]])\n",
    "print(arr)\n",
    "np.argmin(arr)"
   ]
  },
  {
   "cell_type": "markdown",
   "id": "fb7d35d4",
   "metadata": {
    "slideshow": {
     "slide_type": "subslide"
    }
   },
   "source": [
    "### Index raveling / unraveling"
   ]
  },
  {
   "cell_type": "markdown",
   "id": "2544625b",
   "metadata": {},
   "source": [
    "We can use `np.unravel_index()` to get a tuple of indexes:"
   ]
  },
  {
   "cell_type": "code",
   "execution_count": 6,
   "id": "be964cd8",
   "metadata": {},
   "outputs": [
    {
     "data": {
      "text/plain": [
       "(1, 1)"
      ]
     },
     "execution_count": 6,
     "metadata": {},
     "output_type": "execute_result"
    }
   ],
   "source": [
    "arr = np.array([[5, 1, 2], [3, 0, 4]])\n",
    "idx = np.argmin(arr)\n",
    "np.unravel_index(idx, arr.shape)"
   ]
  },
  {
   "cell_type": "markdown",
   "id": "f3979c45",
   "metadata": {},
   "source": [
    "The converse operation, called unravel, can be done with `np.ravel_multi_index()`:"
   ]
  },
  {
   "cell_type": "code",
   "execution_count": 7,
   "id": "08d216f7",
   "metadata": {},
   "outputs": [
    {
     "data": {
      "text/plain": [
       "4"
      ]
     },
     "execution_count": 7,
     "metadata": {},
     "output_type": "execute_result"
    }
   ],
   "source": [
    "np.ravel_multi_index((1, 1), (2,3))"
   ]
  },
  {
   "cell_type": "markdown",
   "id": "b593d103",
   "metadata": {
    "slideshow": {
     "slide_type": "subslide"
    }
   },
   "source": [
    "### `np.nonzero()` / `np.argwhere()`"
   ]
  },
  {
   "cell_type": "markdown",
   "id": "67057006",
   "metadata": {},
   "source": [
    "`np.nonzeros()` find True elements and gives us a tuple of indexes arrays for each dimension:"
   ]
  },
  {
   "cell_type": "code",
   "execution_count": 10,
   "id": "f8575e1c",
   "metadata": {},
   "outputs": [
    {
     "name": "stdout",
     "output_type": "stream",
     "text": [
      "[1 2 3 4 5]\n"
     ]
    },
    {
     "data": {
      "text/plain": [
       "array([3, 4, 5])"
      ]
     },
     "execution_count": 10,
     "metadata": {},
     "output_type": "execute_result"
    }
   ],
   "source": [
    "arr = np.array([1,2,3,4,5])\n",
    "print(arr)\n",
    "\n",
    "arr[np.nonzero(arr > 2)]"
   ]
  },
  {
   "cell_type": "code",
   "execution_count": null,
   "id": "4ceeb730",
   "metadata": {},
   "outputs": [],
   "source": [
    "arr = np.array([[1,2,3], [4, 5, 6]])\n",
    "print(arr)\n",
    "np.argwhere(arr % 2 == 0)"
   ]
  },
  {
   "cell_type": "markdown",
   "id": "13ba369d",
   "metadata": {
    "slideshow": {
     "slide_type": "fragment"
    }
   },
   "source": [
    "`np.argwhere()` find True elements and gives us a (n_pts, n_matrix_dims) array of indexes:"
   ]
  },
  {
   "cell_type": "code",
   "execution_count": 12,
   "id": "b1383dea",
   "metadata": {},
   "outputs": [
    {
     "data": {
      "text/plain": [
       "array([[3],\n",
       "       [4],\n",
       "       [5]])"
      ]
     },
     "execution_count": 12,
     "metadata": {},
     "output_type": "execute_result"
    }
   ],
   "source": [
    "arr = np.array([1,2,3,4,5])\n",
    "\n",
    "arr[np.argwhere(arr > 2)]"
   ]
  },
  {
   "cell_type": "code",
   "execution_count": 13,
   "id": "8007f705",
   "metadata": {},
   "outputs": [
    {
     "name": "stdout",
     "output_type": "stream",
     "text": [
      "[[1 2 3]\n",
      " [4 5 6]]\n"
     ]
    },
    {
     "data": {
      "text/plain": [
       "array([[0, 1],\n",
       "       [1, 0],\n",
       "       [1, 2]])"
      ]
     },
     "execution_count": 13,
     "metadata": {},
     "output_type": "execute_result"
    }
   ],
   "source": [
    "arr = np.array([[1,2,3], \n",
    "                [4, 5, 6]])\n",
    "print(arr)\n",
    "np.argwhere(arr % 2 == 0)"
   ]
  },
  {
   "cell_type": "markdown",
   "id": "80044b6b",
   "metadata": {},
   "source": [
    "(Practicals 1.1.1)"
   ]
  },
  {
   "cell_type": "code",
   "execution_count": null,
   "id": "8117300f",
   "metadata": {},
   "outputs": [],
   "source": []
  }
 ],
 "metadata": {
  "celltoolbar": "Slideshow",
  "kernelspec": {
   "display_name": "Python 3 (ipykernel)",
   "language": "python",
   "name": "python3"
  },
  "language_info": {
   "codemirror_mode": {
    "name": "ipython",
    "version": 3
   },
   "file_extension": ".py",
   "mimetype": "text/x-python",
   "name": "python",
   "nbconvert_exporter": "python",
   "pygments_lexer": "ipython3",
   "version": "3.9.13"
  }
 },
 "nbformat": 4,
 "nbformat_minor": 5
}
