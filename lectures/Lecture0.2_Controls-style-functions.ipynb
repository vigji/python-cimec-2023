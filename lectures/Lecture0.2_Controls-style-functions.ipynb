{
 "cells": [
  {
   "cell_type": "markdown",
   "id": "3ca811a3",
   "metadata": {},
   "source": [
    "# Python for (open) Neuroscience\n",
    "\n",
    "_Lecture 0.2_ - More flow controls, tricks & style, functions\n",
    "\n",
    "Luigi Petrucco\n",
    "\n",
    "Jean-Charles Mariani"
   ]
  },
  {
   "cell_type": "markdown",
   "id": "e711e487",
   "metadata": {},
   "source": [
    "### Some useful IDE tricks"
   ]
  },
  {
   "cell_type": "markdown",
   "id": "017d2877",
   "metadata": {},
   "source": [
    "If you want to have a look at what variables you have already defined in your notebook, you can use `whos` - but in a separate cell!"
   ]
  },
  {
   "cell_type": "code",
   "execution_count": null,
   "id": "9b3de9e3",
   "metadata": {},
   "outputs": [],
   "source": [
    "a_var = 10\n",
    "a_list = [1,2,3]"
   ]
  },
  {
   "cell_type": "code",
   "execution_count": null,
   "id": "0aaf3acf",
   "metadata": {},
   "outputs": [],
   "source": []
  },
  {
   "cell_type": "markdown",
   "id": "393fa928",
   "metadata": {},
   "source": [
    "If you want to time the execution speed of code in a cell, you can use `%%timeit` **at the beginning of the cell**"
   ]
  },
  {
   "cell_type": "code",
   "execution_count": null,
   "id": "ee3570df",
   "metadata": {},
   "outputs": [],
   "source": [
    "%%timeit\n",
    "a_long_list = [i**2 for i in range(10000)]"
   ]
  },
  {
   "cell_type": "markdown",
   "id": "9d701213",
   "metadata": {},
   "source": [
    "### Another use for the `in` keyword"
   ]
  },
  {
   "cell_type": "markdown",
   "id": "7d535900",
   "metadata": {},
   "source": [
    "We can use `in` to check if something is in a list:"
   ]
  },
  {
   "cell_type": "code",
   "execution_count": null,
   "id": "339a2fe2",
   "metadata": {},
   "outputs": [],
   "source": [
    "regions = [\"Forebrain\", \"Midbrain\", \"Hindbrain\"]\n"
   ]
  },
  {
   "cell_type": "markdown",
   "id": "5e2ae7ef",
   "metadata": {},
   "source": [
    "It works also for dictionaries, implicitly looking for matching keywards:"
   ]
  },
  {
   "cell_type": "code",
   "execution_count": null,
   "id": "951c7f58",
   "metadata": {},
   "outputs": [],
   "source": [
    "regions_ids = {\"Forebrain\": 0, \"Midbrain\": 1, \"Hindbrain\": 2}\n"
   ]
  },
  {
   "cell_type": "markdown",
   "id": "e2bd0238",
   "metadata": {},
   "source": [
    "## Some notes on style and good practices"
   ]
  },
  {
   "cell_type": "markdown",
   "id": "d9b53ace",
   "metadata": {},
   "source": [
    "It is important to stick to some conventions when writing code!"
   ]
  },
  {
   "cell_type": "markdown",
   "id": "7f2546cb",
   "metadata": {},
   "source": [
    "Python guidelines are expressed in Python Enhancement Proposal 8 PEP8: https://peps.python.org/pep-0008/"
   ]
  },
  {
   "cell_type": "code",
   "execution_count": null,
   "id": "0507a949",
   "metadata": {},
   "outputs": [],
   "source": [
    "# Some examples:\n"
   ]
  },
  {
   "cell_type": "markdown",
   "id": "e1362fc6",
   "metadata": {},
   "source": [
    "...But do not waste time on typesetting, we will do it automatically!"
   ]
  },
  {
   "cell_type": "markdown",
   "id": "2effc9ea",
   "metadata": {},
   "source": [
    "All variables and functions should be `lowercase_with_underscores`:"
   ]
  },
  {
   "cell_type": "code",
   "execution_count": null,
   "id": "2e44514a",
   "metadata": {},
   "outputs": [],
   "source": []
  },
  {
   "cell_type": "markdown",
   "id": "841ecff9",
   "metadata": {},
   "source": [
    "Try to use long, informative variable names (also, pronounceable):"
   ]
  },
  {
   "cell_type": "code",
   "execution_count": null,
   "id": "a9f6c7c6",
   "metadata": {},
   "outputs": [],
   "source": []
  },
  {
   "cell_type": "markdown",
   "id": "c1dd195c",
   "metadata": {},
   "source": [
    "Maybe less common but strongly adviced: define constants with `UPPERCASE_WITH_UNDERSCORES`: "
   ]
  },
  {
   "cell_type": "code",
   "execution_count": null,
   "id": "c337258c",
   "metadata": {},
   "outputs": [],
   "source": []
  },
  {
   "cell_type": "markdown",
   "id": "947fbed1",
   "metadata": {},
   "source": [
    "Try to avoid redundancy and duplications!"
   ]
  },
  {
   "cell_type": "code",
   "execution_count": null,
   "id": "d4882632",
   "metadata": {},
   "outputs": [],
   "source": [
    "# wrong:\n",
    "values_to_scale = [1,2,3]\n",
    "\n",
    "values_to_scale[0] = values_to_scale[0]*3\n",
    "values_to_scale[1] = values_to_scale[1]*3\n",
    "values_to_scale[2] = values_to_scale[2]*3\n",
    "\n",
    "# good:"
   ]
  },
  {
   "cell_type": "markdown",
   "id": "5fe74733",
   "metadata": {},
   "source": [
    "Code organization: <span style=\"color:indianred\">avoid magic numbers</span>!"
   ]
  },
  {
   "cell_type": "code",
   "execution_count": null,
   "id": "c8266645",
   "metadata": {},
   "outputs": [],
   "source": [
    "# wrong:\n",
    "\n",
    "for i in range(3):\n",
    "    print(values_to_scale[i])"
   ]
  },
  {
   "cell_type": "code",
   "execution_count": null,
   "id": "d060fccd",
   "metadata": {},
   "outputs": [],
   "source": [
    "# good:"
   ]
  },
  {
   "cell_type": "markdown",
   "id": "3b203e9b",
   "metadata": {},
   "source": [
    " "
   ]
  },
  {
   "cell_type": "code",
   "execution_count": null,
   "id": "52325a07",
   "metadata": {},
   "outputs": [],
   "source": [
    "# wrong:\n",
    "diameter = 5 * 2 * 3.14\n",
    "area = (5 ** 2) * 3.14"
   ]
  },
  {
   "cell_type": "code",
   "execution_count": null,
   "id": "99edd3a5",
   "metadata": {},
   "outputs": [],
   "source": [
    "# good:"
   ]
  },
  {
   "cell_type": "markdown",
   "id": "be15e0e8",
   "metadata": {},
   "source": [
    "**Important!** code duplications and magic numbers are the n.1 source of bugs when you are tinkering with an analysis!"
   ]
  },
  {
   "cell_type": "markdown",
   "id": "847c5b30",
   "metadata": {},
   "source": [
    "Use good naming to avoid mental mapping!"
   ]
  },
  {
   "cell_type": "code",
   "execution_count": null,
   "id": "3e2204f8",
   "metadata": {},
   "outputs": [],
   "source": [
    "# Bad:\n",
    "seq = (\"Trento\", \"Mattarello\", \"Rovereto\")\n",
    "\n",
    "for item in seq:\n",
    "    # something long happening here\n",
    "\n",
    "    # Wait, what's `item` again?\n",
    "    print(item)"
   ]
  },
  {
   "cell_type": "code",
   "execution_count": null,
   "id": "74798321",
   "metadata": {},
   "outputs": [],
   "source": [
    "# Good:\n"
   ]
  },
  {
   "cell_type": "markdown",
   "id": "ce6914b0",
   "metadata": {},
   "source": [
    "Try to keep your logic as simple as possible!"
   ]
  },
  {
   "cell_type": "code",
   "execution_count": null,
   "id": "290a2d9a",
   "metadata": {},
   "outputs": [],
   "source": [
    "# Not great:\n",
    "town_name = \"Trento\"\n",
    "\n",
    "if town_name == \"Trento\":\n",
    "    zip_code = 38122\n",
    "elif town_name == \"Mattarello\":\n",
    "    zip_code = 38100\n",
    "elif town_name == \"Rovereto\":\n",
    "    zip_code = 38068\n",
    "else:\n",
    "    print(\"Zip code not available\")\n"
   ]
  },
  {
   "cell_type": "code",
   "execution_count": null,
   "id": "edb9cdf5",
   "metadata": {},
   "outputs": [],
   "source": [
    "# Good:"
   ]
  },
  {
   "cell_type": "markdown",
   "id": "b388c6c0",
   "metadata": {},
   "source": [
    "(practicals 0.2.0)"
   ]
  },
  {
   "cell_type": "markdown",
   "id": "e45cc61f",
   "metadata": {},
   "source": [
    "### `while`"
   ]
  },
  {
   "cell_type": "markdown",
   "id": "6fba628a",
   "metadata": {},
   "source": [
    "With `while` we can keep repeating code until one condition is met instead of a fixed number of times, (like we do  when we use `for`):"
   ]
  },
  {
   "cell_type": "code",
   "execution_count": null,
   "id": "b809bd73",
   "metadata": {},
   "outputs": [],
   "source": [
    "# loop until a number is less then 5\n"
   ]
  },
  {
   "cell_type": "code",
   "execution_count": null,
   "id": "127153bc",
   "metadata": {},
   "outputs": [],
   "source": [
    "# a better example with random. Loop until coin flip is 1\n",
    "import random\n",
    "\n",
    "coin_flip = 0\n",
    "\n",
    "while ..."
   ]
  },
  {
   "cell_type": "markdown",
   "id": "1686334c",
   "metadata": {},
   "source": [
    "(Practicals 0.2.1)"
   ]
  },
  {
   "cell_type": "markdown",
   "id": "12fe3058",
   "metadata": {},
   "source": [
    "### A funny construct: `try` / `except`"
   ]
  },
  {
   "cell_type": "markdown",
   "id": "b4385a45",
   "metadata": {},
   "source": [
    "In Python, it's better to ask forgiveness than permission! Sometimes, we want to try executing some code and fail gracefully if something (not entirely unexpected) happens:\n",
    "\n",
    "```python\n",
    "try:\n",
    "    do_something_dangerous()\n",
    "except SomeException:\n",
    "    handle_the_error()\n",
    "```"
   ]
  },
  {
   "cell_type": "code",
   "execution_count": null,
   "id": "34592c13",
   "metadata": {},
   "outputs": [],
   "source": [
    "some_input_we_cant_control = \"a\"\n",
    "\n",
    "# Try adding 1 to the input and print warning if it fails:\n"
   ]
  },
  {
   "cell_type": "markdown",
   "id": "7bf5e471",
   "metadata": {},
   "source": [
    "### `pass`"
   ]
  },
  {
   "cell_type": "markdown",
   "id": "a5073ddb",
   "metadata": {},
   "source": [
    "    Nothing is something worth doing (Shpongle)\n",
    "    \n",
    "    \n",
    "---\n",
    "\n",
    "The `pass` statement does nothing. It is used as a placeholder where lines of code have to be written:"
   ]
  },
  {
   "cell_type": "code",
   "execution_count": null,
   "id": "00bb39f4",
   "metadata": {},
   "outputs": [],
   "source": []
  },
  {
   "cell_type": "markdown",
   "id": "8f29b40e",
   "metadata": {},
   "source": [
    "`None` "
   ]
  },
  {
   "cell_type": "markdown",
   "id": "c6f54872",
   "metadata": {},
   "source": [
    "If a variable is `None` no value is assigned to it!"
   ]
  },
  {
   "cell_type": "code",
   "execution_count": null,
   "id": "a3f36bef",
   "metadata": {},
   "outputs": [],
   "source": []
  },
  {
   "cell_type": "markdown",
   "id": "9de17804",
   "metadata": {},
   "source": [
    "`None` is different from `0`, `False`, or empty string `\"\"`"
   ]
  },
  {
   "cell_type": "code",
   "execution_count": null,
   "id": "885c41a4",
   "metadata": {},
   "outputs": [],
   "source": []
  },
  {
   "cell_type": "markdown",
   "id": "2c976a4e",
   "metadata": {},
   "source": [
    "The correct comparison for None is `is`:"
   ]
  },
  {
   "cell_type": "code",
   "execution_count": null,
   "id": "035607fc",
   "metadata": {},
   "outputs": [],
   "source": [
    "x = None\n"
   ]
  },
  {
   "cell_type": "markdown",
   "id": "2f50fe3b",
   "metadata": {},
   "source": [
    "Beware the `is` comparator!"
   ]
  },
  {
   "cell_type": "code",
   "execution_count": null,
   "id": "d4a18410",
   "metadata": {},
   "outputs": [],
   "source": []
  },
  {
   "cell_type": "markdown",
   "id": "04d4dc57",
   "metadata": {},
   "source": [
    "(Practicals 0.2.2)"
   ]
  },
  {
   "cell_type": "markdown",
   "id": "ba6c138a",
   "metadata": {},
   "source": [
    "## Functions"
   ]
  },
  {
   "cell_type": "markdown",
   "id": "67077f00",
   "metadata": {},
   "source": [
    "A function is a re-usable piece of code that performs operations on a specified set of variables, and returns the result."
   ]
  },
  {
   "cell_type": "markdown",
   "id": "d02263aa",
   "metadata": {},
   "source": [
    "Every time you are duplicating a bunch of code you might need a function!"
   ]
  },
  {
   "cell_type": "code",
   "execution_count": null,
   "id": "874738b0",
   "metadata": {},
   "outputs": [],
   "source": [
    "# let's calculate the mean of those values:\n",
    "list_1 = [1,2,3,4]\n",
    "list_2 = [4,5,6,7]\n"
   ]
  },
  {
   "cell_type": "markdown",
   "id": "f741ceb7",
   "metadata": {},
   "source": [
    "### Anatomy of a function"
   ]
  },
  {
   "cell_type": "code",
   "execution_count": null,
   "id": "f8493ad8",
   "metadata": {},
   "outputs": [],
   "source": [
    "def a_function(some_arguments):\n",
    "    \"\"\"Describe here what the list does\n",
    "    \"\"\"\n",
    "    \n",
    "    # do stuff here\n",
    "    \n",
    "    return function_outputs"
   ]
  },
  {
   "cell_type": "markdown",
   "id": "34a929fb",
   "metadata": {},
   "source": [
    "A function has:\n",
    "  - a <span style=\"color:indianred\">name</span> that describes it that we use to call it in the code (followed by `()`)\n",
    "  - <span style=\"color:indianred\">arguments</span> that we pass between the round brackets\n",
    "  -  <span style=\"color:indianred\">`return`ed values</span> that we can assign to new variables\n",
    "  - (optional but strongly recommended): a <span style=\"color:indianred\">docstring</span> (a docuentation string)"
   ]
  },
  {
   "cell_type": "markdown",
   "id": "6ef9c625",
   "metadata": {},
   "source": [
    "### Arguments of a function"
   ]
  },
  {
   "cell_type": "markdown",
   "id": "5fd2ede3",
   "metadata": {},
   "source": [
    "A function can have multiple input values:"
   ]
  },
  {
   "cell_type": "code",
   "execution_count": null,
   "id": "fca5ee0c",
   "metadata": {},
   "outputs": [],
   "source": [
    "# write a function that print the exponentiation of a number using another:\n"
   ]
  },
  {
   "cell_type": "markdown",
   "id": "e82166de",
   "metadata": {},
   "source": [
    "We can pass the function values:\n",
    "  - by position (positional arguments)\n",
    "  - by keyword  (keyword arguments)\n",
    "  \n",
    " Positional arguments should precede keyword arguments!"
   ]
  },
  {
   "cell_type": "code",
   "execution_count": null,
   "id": "4d4b5201",
   "metadata": {},
   "outputs": [],
   "source": [
    "def print_args(a,b,c):\n",
    "    print(f\"a={a}, b={b}, c={c}\")\n",
    "\n",
    "# try passing stuff by position or by keyword:\n"
   ]
  },
  {
   "cell_type": "markdown",
   "id": "28b7d345",
   "metadata": {},
   "source": [
    "Some of the function arguments can have default values (even default values can be passed by position, although they normally are not!)"
   ]
  },
  {
   "cell_type": "code",
   "execution_count": null,
   "id": "f183ac32",
   "metadata": {},
   "outputs": [],
   "source": [
    "# A function with default values:\n",
    "def print_args(a,b,c=3):\n",
    "    print(f\"a={a}, b={b}, c={c}\")\n",
    "    "
   ]
  },
  {
   "cell_type": "markdown",
   "id": "b93556a3",
   "metadata": {},
   "source": [
    "### Values returned by a function"
   ]
  },
  {
   "cell_type": "markdown",
   "id": "730f5dc3",
   "metadata": {},
   "source": [
    "We return values using the special `return` keyword:"
   ]
  },
  {
   "cell_type": "code",
   "execution_count": null,
   "id": "61817596",
   "metadata": {},
   "outputs": [],
   "source": []
  },
  {
   "cell_type": "markdown",
   "id": "431d8fc7",
   "metadata": {},
   "source": [
    "### Name of the function"
   ]
  },
  {
   "cell_type": "markdown",
   "id": "b9bf5c38",
   "metadata": {},
   "source": [
    "Always use the `lowercase_underscore()` syntax that we use for variables"
   ]
  },
  {
   "cell_type": "markdown",
   "id": "c4debd58",
   "metadata": {},
   "source": [
    "Use names that describe the main aim of the function!"
   ]
  },
  {
   "cell_type": "code",
   "execution_count": null,
   "id": "1c3a3fd9",
   "metadata": {},
   "outputs": [],
   "source": [
    "def average():  # good\n",
    "    pass\n",
    "\n",
    "def foo():  # bad\n",
    "    pass"
   ]
  },
  {
   "cell_type": "markdown",
   "id": "8d2b01a5",
   "metadata": {},
   "source": [
    "Using function names, you can create lists or dictionaries of functions! "
   ]
  },
  {
   "cell_type": "code",
   "execution_count": null,
   "id": "d61714b6",
   "metadata": {},
   "outputs": [],
   "source": [
    "def multiply_numbers(x, y):\n",
    "    return x * y\n",
    "\n",
    "def add_numbers(x, y):\n",
    "    return x + y\n",
    "\n",
    "a_function_dictionary = ..."
   ]
  },
  {
   "cell_type": "markdown",
   "id": "2fcc4c4e",
   "metadata": {},
   "source": [
    "### Function docstring"
   ]
  },
  {
   "cell_type": "markdown",
   "id": "d00ec03b",
   "metadata": {},
   "source": [
    "Functions should have docstrings! Those document a bit the process of the function, and describe what the arguments and the returned values are."
   ]
  },
  {
   "cell_type": "code",
   "execution_count": null,
   "id": "1379ba36",
   "metadata": {},
   "outputs": [],
   "source": [
    "def exponentiate(a, b=2):\n",
    "    return a ** b"
   ]
  },
  {
   "cell_type": "markdown",
   "id": "5238bb07",
   "metadata": {},
   "source": [
    "Docstrings can be easily retrieved in an IDE such as a notebook!"
   ]
  },
  {
   "cell_type": "markdown",
   "id": "c36b1e8d",
   "metadata": {},
   "source": [
    "(Practical 0.2.3)"
   ]
  },
  {
   "cell_type": "code",
   "execution_count": null,
   "id": "f146f912",
   "metadata": {},
   "outputs": [],
   "source": []
  }
 ],
 "metadata": {
  "celltoolbar": "Slideshow",
  "kernelspec": {
   "display_name": "Python 3 (ipykernel)",
   "language": "python",
   "name": "python3"
  },
  "language_info": {
   "codemirror_mode": {
    "name": "ipython",
    "version": 3
   },
   "file_extension": ".py",
   "mimetype": "text/x-python",
   "name": "python",
   "nbconvert_exporter": "python",
   "pygments_lexer": "ipython3"
  }
 },
 "nbformat": 4,
 "nbformat_minor": 5
}
