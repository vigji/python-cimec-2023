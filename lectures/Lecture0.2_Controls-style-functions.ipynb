{
 "cells": [
  {
   "cell_type": "markdown",
   "id": "3ca811a3",
   "metadata": {},
   "source": [
    "# Python for (open) Neuroscience\n",
    "\n",
    "_Lecture 0.2_ - Flow controls, a bit of style, functions\n",
    "\n",
    "Luigi Petrucco\n",
    "\n",
    "Jean-Charles Mariani"
   ]
  },
  {
   "cell_type": "markdown",
   "id": "014311a7",
   "metadata": {},
   "source": [
    "### Some useful IDE tricks"
   ]
  },
  {
   "cell_type": "markdown",
   "id": "ea2257dc",
   "metadata": {},
   "source": [
    "If you want to have a look at what variables you have already defined in your notebook, you can use `whos` - but in a separate cell!:"
   ]
  },
  {
   "cell_type": "code",
   "execution_count": null,
   "id": "5e7cdbcd",
   "metadata": {},
   "outputs": [],
   "source": [
    "a_var = 10\n",
    "a_list = [1,2,3]"
   ]
  },
  {
   "cell_type": "code",
   "execution_count": null,
   "id": "9bff6288",
   "metadata": {},
   "outputs": [],
   "source": [
    "whos"
   ]
  },
  {
   "cell_type": "markdown",
   "id": "b2d3bc20",
   "metadata": {},
   "source": [
    "If you want to time the execution speed of code in a cell, you can use `%%timeit` **at the beginning of the cell**"
   ]
  },
  {
   "cell_type": "code",
   "execution_count": null,
   "id": "cbf40a52",
   "metadata": {},
   "outputs": [],
   "source": [
    "%%timeit\n",
    "a_long_list = [i**2 for i in range(10000)]"
   ]
  },
  {
   "cell_type": "markdown",
   "id": "f39a5294",
   "metadata": {},
   "source": [
    "### Another use for the `in` keyword"
   ]
  },
  {
   "cell_type": "markdown",
   "id": "f0f5e68c",
   "metadata": {},
   "source": [
    "We can use `in` to check if something is in a list:"
   ]
  },
  {
   "cell_type": "code",
   "execution_count": null,
   "id": "131d4317",
   "metadata": {},
   "outputs": [],
   "source": [
    "regions = [\"Forebrain\", \"Midbrain\", \"Hindbrain\"]\n"
   ]
  },
  {
   "cell_type": "markdown",
   "id": "c01b39d7",
   "metadata": {},
   "source": [
    "It works also for dictionaries, implicitly looking for matching keywards:"
   ]
  },
  {
   "cell_type": "code",
   "execution_count": null,
   "id": "8e7fe9bf",
   "metadata": {},
   "outputs": [],
   "source": [
    "regions_ids = {\"Forebrain\": 0, \"Midbrain\": 1, \"Hindbrain\": 2}\n"
   ]
  },
  {
   "cell_type": "markdown",
   "id": "e2bd0238",
   "metadata": {},
   "source": [
    "## Some notes on style and good practices"
   ]
  },
  {
   "cell_type": "markdown",
   "id": "d9b53ace",
   "metadata": {},
   "source": [
    "It is important to stick to some conventions when writing code!"
   ]
  },
  {
   "cell_type": "markdown",
   "id": "4a3179e9",
   "metadata": {},
   "source": [
    "Python guidelines are expressed in Python Enhancement Proposal 8 PEP8: https://peps.python.org/pep-0008/"
   ]
  },
  {
   "cell_type": "code",
   "execution_count": null,
   "id": "a4eea152",
   "metadata": {},
   "outputs": [],
   "source": []
  },
  {
   "cell_type": "markdown",
   "id": "20fb9189",
   "metadata": {},
   "source": [
    "...But do not waste time on typesetting, we will do it automatically!"
   ]
  },
  {
   "cell_type": "markdown",
   "id": "4c697ae1",
   "metadata": {},
   "source": [
    "All variables and functions should be `lowercase_with_underscores`:"
   ]
  },
  {
   "cell_type": "code",
   "execution_count": null,
   "id": "9f76a65f",
   "metadata": {},
   "outputs": [],
   "source": []
  },
  {
   "cell_type": "markdown",
   "id": "f7f9ad99",
   "metadata": {},
   "source": [
    "Try to use long, informative variable names (also, pronounceable):"
   ]
  },
  {
   "cell_type": "code",
   "execution_count": null,
   "id": "6432daa4",
   "metadata": {},
   "outputs": [],
   "source": []
  },
  {
   "cell_type": "markdown",
   "id": "70de99ba",
   "metadata": {},
   "source": [
    "Maybe less common but strongly adviced: define constants with `UPPERCASE_WITH_UNDERSCORES`: "
   ]
  },
  {
   "cell_type": "code",
   "execution_count": null,
   "id": "f30478a8",
   "metadata": {},
   "outputs": [],
   "source": []
  },
  {
   "cell_type": "markdown",
   "id": "038bff59",
   "metadata": {},
   "source": [
    "Try to avoid redundancy and duplications!"
   ]
  },
  {
   "cell_type": "code",
   "execution_count": null,
   "id": "28e1b1bb",
   "metadata": {},
   "outputs": [],
   "source": []
  },
  {
   "cell_type": "markdown",
   "id": "4bd30289",
   "metadata": {},
   "source": [
    "Code organization: avoid <span style=\"color:indianred\">magic numbers</span>!"
   ]
  },
  {
   "cell_type": "code",
   "execution_count": null,
   "id": "d31156b4",
   "metadata": {},
   "outputs": [],
   "source": []
  },
  {
   "cell_type": "markdown",
   "id": "07afb920",
   "metadata": {},
   "source": [
    "Avoid any kind of duplication!"
   ]
  },
  {
   "cell_type": "code",
   "execution_count": null,
   "id": "929238a5",
   "metadata": {},
   "outputs": [],
   "source": []
  },
  {
   "cell_type": "markdown",
   "id": "9134a6b2",
   "metadata": {},
   "source": [
    "**Important!** code duplications and magic numbers are the n.1 source of bugs when you are tinkering with an analysis!"
   ]
  },
  {
   "cell_type": "markdown",
   "id": "8c4bae66",
   "metadata": {},
   "source": [
    "Avoid mental mapping!"
   ]
  },
  {
   "cell_type": "code",
   "execution_count": null,
   "id": "b8436f1c",
   "metadata": {},
   "outputs": [],
   "source": [
    "# Bad:\n",
    "seq = (\"Trento\", \"Mattarello\", \"Rovereto\")\n",
    "\n",
    "for item in seq:\n",
    "    # something long happening here\n",
    "\n",
    "    # Wait, what's `item` again?\n",
    "    print(item)"
   ]
  },
  {
   "cell_type": "code",
   "execution_count": null,
   "id": "43b498d5",
   "metadata": {},
   "outputs": [],
   "source": [
    "# Good:\n"
   ]
  },
  {
   "cell_type": "markdown",
   "id": "a40ed9bc",
   "metadata": {},
   "source": [
    "Try to keep your logic as simple as possible!"
   ]
  },
  {
   "cell_type": "code",
   "execution_count": null,
   "id": "566087ce",
   "metadata": {},
   "outputs": [],
   "source": [
    "# Bad:\n",
    "town_name = \"Trento\"\n",
    "\n",
    "if town_name == \"Trento\":\n",
    "    zip_code = 38122\n",
    "elif town_name == \"Mattarello\":\n",
    "    zip_code = 38100\n",
    "elif town_name == \"Rovereto\":\n",
    "    zip_code = 38068\n",
    "else:\n",
    "    print(\"Zip code not available\")\n"
   ]
  },
  {
   "cell_type": "code",
   "execution_count": null,
   "id": "a09bebcb",
   "metadata": {},
   "outputs": [],
   "source": [
    "# Good:"
   ]
  },
  {
   "cell_type": "markdown",
   "id": "e45cc61f",
   "metadata": {},
   "source": [
    "### `while`"
   ]
  },
  {
   "cell_type": "markdown",
   "id": "6fba628a",
   "metadata": {},
   "source": [
    "With `while` we can keep repeating code until one condition is met instead of a fixed number of times, (like we do  when we use `for`):"
   ]
  },
  {
   "cell_type": "code",
   "execution_count": null,
   "id": "004d0363",
   "metadata": {},
   "outputs": [],
   "source": [
    "# loop until a number is less then 12"
   ]
  },
  {
   "cell_type": "code",
   "execution_count": null,
   "id": "127153bc",
   "metadata": {},
   "outputs": [],
   "source": [
    "# a better example with random. Loop until binary random variable is 1\n",
    "import random\n",
    "\n",
    "coin_flip = 0\n",
    "\n",
    "while ..."
   ]
  },
  {
   "cell_type": "markdown",
   "id": "12fe3058",
   "metadata": {},
   "source": [
    "### A funny construct: `try` / `except`"
   ]
  },
  {
   "cell_type": "markdown",
   "id": "b4385a45",
   "metadata": {},
   "source": [
    "In Python, it's better to ask forgiveness than permission! Sometimes, we want to try executing some code and fail gracefully if something (not entirely unexpected) happens:\n",
    "\n",
    "```python\n",
    "try:\n",
    "    do_something_dangerous()\n",
    "except SomeException:\n",
    "    handle_the_error()\n",
    "```"
   ]
  },
  {
   "cell_type": "code",
   "execution_count": null,
   "id": "34592c13",
   "metadata": {},
   "outputs": [],
   "source": [
    "some_input_we_cant_control = \"a\"\n",
    "\n",
    "# Try adding 1 to the input and print warning if it fails:\n",
    "\n",
    "try:\n",
    "    some_input_we_cant_control += 1\n",
    "except TypeError:\n",
    "    print(\"Something went wrong while taking the sum\")"
   ]
  },
  {
   "cell_type": "markdown",
   "id": "4388fd6b",
   "metadata": {},
   "source": [
    "(Practical 0.1.6)"
   ]
  },
  {
   "cell_type": "markdown",
   "id": "0511632b",
   "metadata": {},
   "source": [
    "### `pass`"
   ]
  },
  {
   "cell_type": "markdown",
   "id": "072bee51",
   "metadata": {},
   "source": [
    "    Nothing is something worth doing (Shpongle)\n",
    "\n",
    "The `pass` statement does nothing. It is used as a placeholder where lines of code have to be written:"
   ]
  },
  {
   "cell_type": "code",
   "execution_count": null,
   "id": "01e3e4f6",
   "metadata": {},
   "outputs": [],
   "source": [
    "a_condition = True\n",
    "try:\n",
    "    do_something()\n",
    "except SomeError:\n",
    "    pass # let's remember to implement the error handling later!"
   ]
  },
  {
   "cell_type": "markdown",
   "id": "f467f7be",
   "metadata": {},
   "source": [
    "`None` "
   ]
  },
  {
   "cell_type": "markdown",
   "id": "9f348f7e",
   "metadata": {},
   "source": [
    "If a variable is `None` no value is assigned to it!"
   ]
  },
  {
   "cell_type": "code",
   "execution_count": null,
   "id": "4de30107",
   "metadata": {},
   "outputs": [],
   "source": [
    "x = None"
   ]
  },
  {
   "cell_type": "markdown",
   "id": "4e126dab",
   "metadata": {},
   "source": [
    "`None` is different from `0`, `False`, or empty string `\"\"`"
   ]
  },
  {
   "cell_type": "code",
   "execution_count": null,
   "id": "23cdbf4b",
   "metadata": {},
   "outputs": [],
   "source": []
  },
  {
   "cell_type": "markdown",
   "id": "e4eec9dd",
   "metadata": {},
   "source": [
    "The correct comparison for None is `is`:"
   ]
  },
  {
   "cell_type": "code",
   "execution_count": null,
   "id": "132d9f80",
   "metadata": {},
   "outputs": [],
   "source": [
    "x = None\n"
   ]
  },
  {
   "cell_type": "markdown",
   "id": "9d57dd3e",
   "metadata": {},
   "source": [
    "Beware the `is` comparator!"
   ]
  },
  {
   "cell_type": "code",
   "execution_count": null,
   "id": "ff5145fb",
   "metadata": {},
   "outputs": [],
   "source": []
  },
  {
   "cell_type": "markdown",
   "id": "1848d348",
   "metadata": {},
   "source": [
    "## Functions"
   ]
  },
  {
   "cell_type": "markdown",
   "id": "a26e79ee",
   "metadata": {},
   "source": [
    "A function is a re-usable piece of code that performs operations on a specified set of variables, and returns the result."
   ]
  },
  {
   "cell_type": "markdown",
   "id": "4a87e42a",
   "metadata": {},
   "source": [
    "Every time you are duplicating a bunch of code you might need a function!"
   ]
  },
  {
   "cell_type": "code",
   "execution_count": null,
   "id": "7c0d8015",
   "metadata": {},
   "outputs": [],
   "source": [
    "# let's calculate the mean of those values:\n",
    "list_1 = [1,2,3,4]\n",
    "list_2 = [4,5,6,7]\n"
   ]
  },
  {
   "cell_type": "markdown",
   "id": "e67af86b",
   "metadata": {},
   "source": [
    "### Anatomy of a function"
   ]
  },
  {
   "cell_type": "code",
   "execution_count": null,
   "id": "8932bedd",
   "metadata": {},
   "outputs": [],
   "source": [
    "def a_function(some_arguments):\n",
    "    \"\"\"Describe here what the list does\n",
    "    \"\"\"\n",
    "    return function_outputs"
   ]
  },
  {
   "cell_type": "markdown",
   "id": "c20f69c1",
   "metadata": {},
   "source": [
    "A function has:\n",
    "  - a name that describes it that we use to call it in the code (followed by `()`)\n",
    "  - arguments that we pass between the round brackets\n",
    "  - returned values that we can assign to new variables\n",
    "  - (optional but strongly recommended): a docuentation string"
   ]
  },
  {
   "cell_type": "markdown",
   "id": "02e11c34",
   "metadata": {},
   "source": [
    "### Arguments of a function"
   ]
  },
  {
   "cell_type": "markdown",
   "id": "ebb5a827",
   "metadata": {},
   "source": [
    "A function can have multiple input values:"
   ]
  },
  {
   "cell_type": "code",
   "execution_count": null,
   "id": "e2a6d638",
   "metadata": {},
   "outputs": [],
   "source": [
    "# write a function that print the exponentiation of a number using another:\n"
   ]
  },
  {
   "cell_type": "markdown",
   "id": "28d16d1a",
   "metadata": {},
   "source": [
    "We can pass the function values:\n",
    "  - by position (positional arguments)\n",
    "  - by keyword  (keyword arguments)\n",
    "  \n",
    " Positional arguments should precede keyword arguments!"
   ]
  },
  {
   "cell_type": "code",
   "execution_count": null,
   "id": "c96622cb",
   "metadata": {},
   "outputs": [],
   "source": [
    "def print_args(a,b,c):\n",
    "    print(f\"a={a}, b={b}, c={c}\")\n",
    "\n",
    "# try passing stuff by position or by keyword:\n",
    "print_args(1,2)"
   ]
  },
  {
   "cell_type": "markdown",
   "id": "95fa5828",
   "metadata": {},
   "source": [
    "Some of the function arguments can have default values (even default values can be passed by position, although they normally are not!)"
   ]
  },
  {
   "cell_type": "code",
   "execution_count": null,
   "id": "daff5173",
   "metadata": {},
   "outputs": [],
   "source": [
    "# A function with default values:\n",
    "def print_args(a,b,c=3):\n",
    "    print(f\"a={a}, b={b}, c={c}\")\n",
    "    "
   ]
  },
  {
   "cell_type": "markdown",
   "id": "dc7b1d87",
   "metadata": {},
   "source": [
    "### Values returned by a function"
   ]
  },
  {
   "cell_type": "markdown",
   "id": "f69d2b16",
   "metadata": {},
   "source": [
    "We return values using the special `return` keyword:"
   ]
  },
  {
   "cell_type": "code",
   "execution_count": null,
   "id": "68bb7d88",
   "metadata": {},
   "outputs": [],
   "source": []
  },
  {
   "cell_type": "markdown",
   "id": "586a3ca0",
   "metadata": {},
   "source": [
    "### Name of the function"
   ]
  },
  {
   "cell_type": "markdown",
   "id": "b993ee2c",
   "metadata": {},
   "source": [
    "Always use the `lowercase_underscore()` syntax that we use for variables"
   ]
  },
  {
   "cell_type": "markdown",
   "id": "0cd6fef2",
   "metadata": {},
   "source": [
    "Use names that describe the main aim of the function!"
   ]
  },
  {
   "cell_type": "code",
   "execution_count": null,
   "id": "f5d00bcc",
   "metadata": {},
   "outputs": [],
   "source": [
    "def average():  # good\n",
    "    pass\n",
    "\n",
    "def foo():  # bad\n",
    "    pass"
   ]
  },
  {
   "cell_type": "markdown",
   "id": "f84a5b27",
   "metadata": {},
   "source": [
    "Using function names, you can create lists or dictionaries of functions! \n",
    "\n",
    "You can even pass functions to functions! 🤯"
   ]
  },
  {
   "cell_type": "code",
   "execution_count": null,
   "id": "0f409340",
   "metadata": {},
   "outputs": [],
   "source": [
    "def multiply_numbers(x, y):\n",
    "    return x * y\n",
    "\n",
    "def add_numbers(x, y):\n",
    "    return x + y\n",
    "\n",
    "a_function_dictionary = ..."
   ]
  },
  {
   "cell_type": "markdown",
   "id": "f8678e44",
   "metadata": {},
   "source": [
    "### Function docstring"
   ]
  },
  {
   "cell_type": "markdown",
   "id": "fa86ed06",
   "metadata": {},
   "source": [
    "Functions should have docstrings! Those document a bit the process of the function, and describe what the arguments and the returned values are."
   ]
  },
  {
   "cell_type": "code",
   "execution_count": null,
   "id": "9ad7b319",
   "metadata": {},
   "outputs": [],
   "source": [
    "def exponent"
   ]
  }
 ],
 "metadata": {
  "celltoolbar": "Slideshow",
  "kernelspec": {
   "display_name": "Python 3 (ipykernel)",
   "language": "python",
   "name": "python3"
  },
  "language_info": {
   "codemirror_mode": {
    "name": "ipython",
    "version": 3
   },
   "file_extension": ".py",
   "mimetype": "text/x-python",
   "name": "python",
   "nbconvert_exporter": "python",
   "pygments_lexer": "ipython3"
  }
 },
 "nbformat": 4,
 "nbformat_minor": 5
}
