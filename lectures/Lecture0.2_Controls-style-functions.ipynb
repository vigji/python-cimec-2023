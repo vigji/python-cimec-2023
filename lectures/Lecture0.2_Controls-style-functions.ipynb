{
 "cells": [
  {
   "cell_type": "markdown",
   "id": "3ca811a3",
   "metadata": {},
   "source": [
    "# Python for (open) Neuroscience\n",
    "\n",
    "_Lecture 0.2_ - More flow controls, tricks & style, functions\n",
    "\n",
    "Luigi Petrucco\n",
    "\n",
    "Jean-Charles Mariani"
   ]
  },
  {
   "cell_type": "markdown",
   "id": "9029d54f",
   "metadata": {},
   "source": [
    "### Some useful IDE tricks"
   ]
  },
  {
   "cell_type": "markdown",
   "id": "fdcd83d8",
   "metadata": {},
   "source": [
    "If you want to have a look at what variables you have already defined in your notebook, you can use `whos` - but in a separate cell!"
   ]
  },
  {
   "cell_type": "code",
   "execution_count": null,
   "id": "cb4a8c1e",
   "metadata": {},
   "outputs": [],
   "source": [
    "a_var = 10\n",
    "a_list = [1,2,3]"
   ]
  },
  {
   "cell_type": "code",
   "execution_count": null,
   "id": "f51577b4",
   "metadata": {},
   "outputs": [],
   "source": [
    "whos"
   ]
  },
  {
   "cell_type": "markdown",
   "id": "31e9f71a",
   "metadata": {},
   "source": [
    "If you want to time the execution speed of code in a cell, you can use `%%timeit` **at the beginning of the cell**"
   ]
  },
  {
   "cell_type": "code",
   "execution_count": null,
   "id": "a506df59",
   "metadata": {},
   "outputs": [],
   "source": [
    "a_long_list = [i**2 for i in range(10000)]"
   ]
  },
  {
   "cell_type": "code",
   "execution_count": null,
   "id": "05d823b2",
   "metadata": {},
   "outputs": [],
   "source": [
    "a_long_list"
   ]
  },
  {
   "cell_type": "markdown",
   "id": "10675d84",
   "metadata": {},
   "source": [
    "### Another use for the `in` keyword"
   ]
  },
  {
   "cell_type": "markdown",
   "id": "1d1794ae",
   "metadata": {},
   "source": [
    "We can use `in` to check if something is in a list:"
   ]
  },
  {
   "cell_type": "code",
   "execution_count": null,
   "id": "54db8d37",
   "metadata": {},
   "outputs": [],
   "source": [
    "regions = {\"Forebrain\", \"Midbrain\", \"Hindbrain\"}\n",
    "\n",
    "\"Forebrain\" in regions"
   ]
  },
  {
   "cell_type": "markdown",
   "id": "e6b40271",
   "metadata": {},
   "source": [
    "It works also for dictionaries, implicitly looking for matching keywards:"
   ]
  },
  {
   "cell_type": "code",
   "execution_count": null,
   "id": "1a429477",
   "metadata": {},
   "outputs": [],
   "source": [
    "regions_ids = {\"Forebrain\": 0, \"Midbrain\": 1, \"Hindbrain\": 2}\n",
    "\n",
    "val in regions_ids.values()"
   ]
  },
  {
   "cell_type": "markdown",
   "id": "e2bd0238",
   "metadata": {},
   "source": [
    "## Some notes on style and good practices"
   ]
  },
  {
   "cell_type": "markdown",
   "id": "d9b53ace",
   "metadata": {},
   "source": [
    "It is important to stick to some conventions when writing code!"
   ]
  },
  {
   "cell_type": "markdown",
   "id": "a984f4ba",
   "metadata": {},
   "source": [
    "Python guidelines are expressed in Python Enhancement Proposal 8 PEP8: https://peps.python.org/pep-0008/"
   ]
  },
  {
   "cell_type": "code",
   "execution_count": null,
   "id": "67db7078",
   "metadata": {},
   "outputs": [],
   "source": [
    "# Some examples:\n",
    "a_val = 10\n",
    "another_val = a_val * 10\n",
    "\n",
    "for l in range(a_val):\n",
    "    print(l)"
   ]
  },
  {
   "cell_type": "markdown",
   "id": "b0af02a5",
   "metadata": {},
   "source": [
    "...But do not waste time on typesetting, we will do it automatically!"
   ]
  },
  {
   "cell_type": "markdown",
   "id": "46336bd3",
   "metadata": {},
   "source": [
    "All variables and functions should be `lowercase_with_underscores`:"
   ]
  },
  {
   "cell_type": "code",
   "execution_count": null,
   "id": "2aa352af",
   "metadata": {},
   "outputs": [],
   "source": [
    "a_value = 10"
   ]
  },
  {
   "cell_type": "markdown",
   "id": "17c874f9",
   "metadata": {},
   "source": [
    "Try to use long, informative variable names (also, pronounceable):"
   ]
  },
  {
   "cell_type": "code",
   "execution_count": null,
   "id": "6ee36b57",
   "metadata": {},
   "outputs": [],
   "source": [
    "un = \"Pippo\"\n",
    "\n",
    "username = \"Pippo\""
   ]
  },
  {
   "cell_type": "markdown",
   "id": "d3be8b2d",
   "metadata": {},
   "source": [
    "Maybe less common but strongly adviced: define constants with `UPPERCASE_WITH_UNDERSCORES`: "
   ]
  },
  {
   "cell_type": "code",
   "execution_count": null,
   "id": "55796f7e",
   "metadata": {},
   "outputs": [],
   "source": [
    "SCORE_THRESHOLD = 4\n",
    "a_list_of_scores = [1,2,3,4,5]\n",
    "\n",
    "filtered_vals = [v for v in a_list_of_scores if v > SCORE_THRESHOLD]"
   ]
  },
  {
   "cell_type": "markdown",
   "id": "3a25e0ce",
   "metadata": {},
   "source": [
    "Try to avoid redundancy and duplications!"
   ]
  },
  {
   "cell_type": "code",
   "execution_count": null,
   "id": "1f3e02b5",
   "metadata": {},
   "outputs": [],
   "source": [
    "# wrong:\n",
    "values_to_scale = [1,2,3]\n",
    "\n",
    "values_to_scale[0] = values_to_scale[0]*3\n",
    "values_to_scale[1] = values_to_scale[1]*3\n",
    "values_to_scale[2] = values_to_scale[2]*3\n",
    "\n",
    "# good:\n",
    "GAIN = 3\n",
    "values_to_scale = [v*GAIN for v in values_to_scale]"
   ]
  },
  {
   "cell_type": "markdown",
   "id": "6d839ec2",
   "metadata": {},
   "source": [
    "Code organization: <span style=\"color:indianred\">avoid magic numbers</span>!"
   ]
  },
  {
   "cell_type": "code",
   "execution_count": null,
   "id": "cf0ee78b",
   "metadata": {},
   "outputs": [],
   "source": [
    "# wrong:\n",
    "\n",
    "for i in range(3):\n",
    "    print(values_to_scale[i])"
   ]
  },
  {
   "cell_type": "code",
   "execution_count": null,
   "id": "54f826bc",
   "metadata": {},
   "outputs": [],
   "source": [
    "# good:\n",
    "for val in values_to_scale:\n",
    "    print(values_to_scale[i])"
   ]
  },
  {
   "cell_type": "markdown",
   "id": "ab930d02",
   "metadata": {},
   "source": [
    " "
   ]
  },
  {
   "cell_type": "code",
   "execution_count": null,
   "id": "2c96573d",
   "metadata": {},
   "outputs": [],
   "source": [
    "# wrong:\n",
    "diameter = 5 * 2 * 3.14\n",
    "area = (5 ** 2) * 3.14"
   ]
  },
  {
   "cell_type": "code",
   "execution_count": null,
   "id": "bd52c953",
   "metadata": {},
   "outputs": [],
   "source": [
    "# good:\n",
    "PI = 3.14\n",
    "radius = 5\n",
    "diameter = radius * 2 * PI\n",
    "area = (radius ** 2) * PI"
   ]
  },
  {
   "cell_type": "markdown",
   "id": "22fa14e5",
   "metadata": {},
   "source": [
    "**Important!** code duplications and magic numbers are the n.1 source of bugs when you are tinkering with an analysis!"
   ]
  },
  {
   "cell_type": "markdown",
   "id": "7368230b",
   "metadata": {},
   "source": [
    "Use good naming to avoid mental mapping!"
   ]
  },
  {
   "cell_type": "code",
   "execution_count": null,
   "id": "2ad281d3",
   "metadata": {},
   "outputs": [],
   "source": [
    "# Bad:\n",
    "town_names = (\"Trento\", \"Mattarello\", \"Rovereto\")\n",
    "\n",
    "for town in town_names:\n",
    "    # something long happening here\n",
    "\n",
    "    # Wait, what's `item` again?\n",
    "    print(town)"
   ]
  },
  {
   "cell_type": "code",
   "execution_count": null,
   "id": "d1ff2cc7",
   "metadata": {},
   "outputs": [],
   "source": [
    "# Good:\n"
   ]
  },
  {
   "cell_type": "markdown",
   "id": "c8c7a242",
   "metadata": {},
   "source": [
    "Try to keep your logic as simple as possible!"
   ]
  },
  {
   "cell_type": "code",
   "execution_count": null,
   "id": "8839cca4",
   "metadata": {},
   "outputs": [],
   "source": [
    "# Not great:\n",
    "town_name = \"Trento\"\n",
    "\n",
    "if town_name == \"Trento\":\n",
    "    zip_code = 38122\n",
    "elif town_name == \"Mattarello\":\n",
    "    zip_code = 38100\n",
    "elif town_name == \"Rovereto\":\n",
    "    zip_code = 38068\n",
    "else:\n",
    "    print(\"Zip code not available\")\n",
    "print(zip_code)"
   ]
  },
  {
   "cell_type": "code",
   "execution_count": null,
   "id": "0eda463f",
   "metadata": {},
   "outputs": [],
   "source": [
    "# Good:\n",
    "zip_codes_dict = {\"Trento\": 38122, \"Mattarello\": 38100, \"Rovereto\": 38068}\n",
    "\n",
    "if town_name in zip_codes_dict:\n",
    "    zip_code = zip_codes_dict[town_name]\n"
   ]
  },
  {
   "cell_type": "markdown",
   "id": "d76f8f8d",
   "metadata": {},
   "source": [
    "(practicals 0.2.0)"
   ]
  },
  {
   "cell_type": "markdown",
   "id": "e45cc61f",
   "metadata": {},
   "source": [
    "### `while`"
   ]
  },
  {
   "cell_type": "markdown",
   "id": "6fba628a",
   "metadata": {},
   "source": [
    "With `while` we can keep repeating code until one condition is met instead of a fixed number of times, (like we do  when we use `for`):"
   ]
  },
  {
   "cell_type": "code",
   "execution_count": null,
   "id": "6e0291e8",
   "metadata": {},
   "outputs": [],
   "source": [
    "# loop until a number is less then 5\n",
    "\n",
    "val = 0\n",
    "\n",
    "while val < 5:\n",
    "    val = val + 1\n",
    "    print(val)\n",
    "print(\"Final val: \", val)"
   ]
  },
  {
   "cell_type": "code",
   "execution_count": null,
   "id": "127153bc",
   "metadata": {},
   "outputs": [],
   "source": [
    "# a better example with random. Loop until coin flip is 1\n",
    "import random\n",
    "coin_flip = 0\n",
    "while coin_flip == 0:\n",
    "    # coin_flip = random.randint(0, 1)\n",
    "    print(coin_flip)"
   ]
  },
  {
   "cell_type": "markdown",
   "id": "24a83835",
   "metadata": {},
   "source": [
    "#### `break`"
   ]
  },
  {
   "cell_type": "markdown",
   "id": "88f854e6",
   "metadata": {},
   "source": [
    "We can `break` out of a loop:"
   ]
  },
  {
   "cell_type": "code",
   "execution_count": null,
   "id": "879e8d2c",
   "metadata": {},
   "outputs": [],
   "source": [
    "i = 0\n",
    "\n",
    "while True:\n",
    "    if i == 8:\n",
    "        break\n",
    "    print(i)\n",
    "    i = i + 1  "
   ]
  },
  {
   "cell_type": "markdown",
   "id": "f24e995e",
   "metadata": {},
   "source": [
    "#### `continue`"
   ]
  },
  {
   "cell_type": "markdown",
   "id": "e7c25356",
   "metadata": {},
   "source": [
    "we can `continue` to next iteration:"
   ]
  },
  {
   "cell_type": "code",
   "execution_count": null,
   "id": "1ab71477",
   "metadata": {},
   "outputs": [],
   "source": [
    "for i in range(4):\n",
    "    if i == 2:\n",
    "        continue\n",
    "    print(i)"
   ]
  },
  {
   "cell_type": "markdown",
   "id": "807d4b16",
   "metadata": {},
   "source": [
    "(Practicals 0.2.1)"
   ]
  },
  {
   "cell_type": "markdown",
   "id": "12fe3058",
   "metadata": {},
   "source": [
    "### A funny construct: `try` / `except`"
   ]
  },
  {
   "cell_type": "markdown",
   "id": "b4385a45",
   "metadata": {},
   "source": [
    "In Python, it's better to ask forgiveness than permission! Sometimes, we want to try executing some code and fail gracefully if something (not entirely unexpected) happens:\n",
    "\n",
    "```python\n",
    "try:\n",
    "    do_something_dangerous()\n",
    "except SomeException:\n",
    "    handle_the_error()\n",
    "```"
   ]
  },
  {
   "cell_type": "code",
   "execution_count": null,
   "id": "34592c13",
   "metadata": {},
   "outputs": [],
   "source": [
    "some_input_we_cant_control = \"a\"\n",
    "\n",
    "# Try adding 1 to the input and print warning if it fails:\n"
   ]
  },
  {
   "cell_type": "markdown",
   "id": "a7e9b7e1",
   "metadata": {},
   "source": [
    "### `pass`"
   ]
  },
  {
   "cell_type": "markdown",
   "id": "72e8e1f9",
   "metadata": {},
   "source": [
    "    Nothing is something worth doing (Shpongle)\n",
    "    \n",
    "    \n",
    "---\n",
    "\n",
    "The `pass` statement does nothing. It is used as a placeholder where lines of code have to be written:"
   ]
  },
  {
   "cell_type": "code",
   "execution_count": null,
   "id": "b8baaca3",
   "metadata": {},
   "outputs": [],
   "source": []
  },
  {
   "cell_type": "markdown",
   "id": "9f669dd5",
   "metadata": {},
   "source": [
    "`None` "
   ]
  },
  {
   "cell_type": "markdown",
   "id": "40649d61",
   "metadata": {},
   "source": [
    "If a variable is `None` no value is assigned to it!"
   ]
  },
  {
   "cell_type": "code",
   "execution_count": null,
   "id": "4710558c",
   "metadata": {},
   "outputs": [],
   "source": []
  },
  {
   "cell_type": "markdown",
   "id": "3dc2f0f0",
   "metadata": {},
   "source": [
    "`None` is different from `0`, `False`, or empty string `\"\"`"
   ]
  },
  {
   "cell_type": "code",
   "execution_count": null,
   "id": "28eb0e2d",
   "metadata": {},
   "outputs": [],
   "source": []
  },
  {
   "cell_type": "markdown",
   "id": "4716fda3",
   "metadata": {},
   "source": [
    "The correct comparison for None is `is`:"
   ]
  },
  {
   "cell_type": "code",
   "execution_count": null,
   "id": "2b4f94db",
   "metadata": {},
   "outputs": [],
   "source": [
    "x = None\n"
   ]
  },
  {
   "cell_type": "markdown",
   "id": "2df21731",
   "metadata": {},
   "source": [
    "Beware the `is` comparator!"
   ]
  },
  {
   "cell_type": "code",
   "execution_count": null,
   "id": "cfef8b54",
   "metadata": {},
   "outputs": [],
   "source": []
  },
  {
   "cell_type": "markdown",
   "id": "cc2aa9f9",
   "metadata": {},
   "source": [
    "(Practicals 0.2.2)"
   ]
  },
  {
   "cell_type": "markdown",
   "id": "00e0bad3",
   "metadata": {},
   "source": [
    "## Functions"
   ]
  },
  {
   "cell_type": "markdown",
   "id": "acb8c43d",
   "metadata": {},
   "source": [
    "A function is a re-usable piece of code that performs operations on a specified set of variables, and returns the result."
   ]
  },
  {
   "cell_type": "markdown",
   "id": "99b2f110",
   "metadata": {},
   "source": [
    "Every time you are duplicating a bunch of code you might need a function!"
   ]
  },
  {
   "cell_type": "code",
   "execution_count": null,
   "id": "ca2f9276",
   "metadata": {},
   "outputs": [],
   "source": [
    "# let's calculate the mean of those values:\n",
    "list_1 = [1,2,3,4]\n",
    "list_2 = [4,5,6,7]\n"
   ]
  },
  {
   "cell_type": "markdown",
   "id": "38443603",
   "metadata": {},
   "source": [
    "### Anatomy of a function"
   ]
  },
  {
   "cell_type": "code",
   "execution_count": null,
   "id": "642f4dd5",
   "metadata": {},
   "outputs": [],
   "source": [
    "def a_function(some_arguments):\n",
    "    \"\"\"Describe here what the list does\n",
    "    \"\"\"\n",
    "    \n",
    "    # do stuff here\n",
    "    \n",
    "    return function_outputs"
   ]
  },
  {
   "cell_type": "markdown",
   "id": "075254e3",
   "metadata": {},
   "source": [
    "A function has:\n",
    "  - a <span style=\"color:indianred\">name</span> that describes it that we use to call it in the code (followed by `()`)\n",
    "  - <span style=\"color:indianred\">arguments</span> that we pass between the round brackets\n",
    "  -  <span style=\"color:indianred\">`return`ed values</span> that we can assign to new variables\n",
    "  - (optional but strongly recommended): a <span style=\"color:indianred\">docstring</span> (a docuentation string)"
   ]
  },
  {
   "cell_type": "markdown",
   "id": "68012f3d",
   "metadata": {},
   "source": [
    "### Arguments of a function"
   ]
  },
  {
   "cell_type": "markdown",
   "id": "1a0d1c55",
   "metadata": {},
   "source": [
    "A function can have multiple input values:"
   ]
  },
  {
   "cell_type": "code",
   "execution_count": null,
   "id": "270f40e1",
   "metadata": {},
   "outputs": [],
   "source": [
    "# write a function that print the exponentiation of a number using another:\n"
   ]
  },
  {
   "cell_type": "markdown",
   "id": "d99cc4a5",
   "metadata": {},
   "source": [
    "We can pass the function values:\n",
    "  - by position (positional arguments)\n",
    "  - by keyword  (keyword arguments)\n",
    "  \n",
    " Positional arguments should precede keyword arguments!"
   ]
  },
  {
   "cell_type": "code",
   "execution_count": null,
   "id": "434a101f",
   "metadata": {},
   "outputs": [],
   "source": [
    "def print_args(a,b,c):\n",
    "    print(f\"a={a}, b={b}, c={c}\")\n",
    "\n",
    "# try passing stuff by position or by keyword:\n"
   ]
  },
  {
   "cell_type": "markdown",
   "id": "b7d4c09d",
   "metadata": {},
   "source": [
    "Some of the function arguments can have default values (even default values can be passed by position, although they normally are not!)"
   ]
  },
  {
   "cell_type": "code",
   "execution_count": null,
   "id": "1b2aafcc",
   "metadata": {},
   "outputs": [],
   "source": [
    "# A function with default values:\n",
    "def print_args(a,b,c=3):\n",
    "    print(f\"a={a}, b={b}, c={c}\")\n",
    "    "
   ]
  },
  {
   "cell_type": "markdown",
   "id": "fbf8fc87",
   "metadata": {},
   "source": [
    "### Values returned by a function"
   ]
  },
  {
   "cell_type": "markdown",
   "id": "ea12bb38",
   "metadata": {},
   "source": [
    "We return values using the special `return` keyword:"
   ]
  },
  {
   "cell_type": "code",
   "execution_count": null,
   "id": "fa70e441",
   "metadata": {},
   "outputs": [],
   "source": []
  },
  {
   "cell_type": "markdown",
   "id": "5fe6749d",
   "metadata": {},
   "source": [
    "### Name of the function"
   ]
  },
  {
   "cell_type": "markdown",
   "id": "83cad83f",
   "metadata": {},
   "source": [
    "Always use the `lowercase_underscore()` syntax that we use for variables"
   ]
  },
  {
   "cell_type": "markdown",
   "id": "092a74fd",
   "metadata": {},
   "source": [
    "Use names that describe the main aim of the function!"
   ]
  },
  {
   "cell_type": "code",
   "execution_count": null,
   "id": "2497c7c5",
   "metadata": {},
   "outputs": [],
   "source": [
    "def average():  # good\n",
    "    pass\n",
    "\n",
    "def foo():  # bad\n",
    "    pass"
   ]
  },
  {
   "cell_type": "markdown",
   "id": "e6725c24",
   "metadata": {},
   "source": [
    "Using function names, you can create lists or dictionaries of functions! "
   ]
  },
  {
   "cell_type": "code",
   "execution_count": null,
   "id": "c9642772",
   "metadata": {},
   "outputs": [],
   "source": [
    "def multiply_numbers(x, y):\n",
    "    return x * y\n",
    "\n",
    "def add_numbers(x, y):\n",
    "    return x + y\n",
    "\n",
    "a_function_dictionary = ..."
   ]
  },
  {
   "cell_type": "markdown",
   "id": "57c1e217",
   "metadata": {},
   "source": [
    "### Function docstring"
   ]
  },
  {
   "cell_type": "markdown",
   "id": "bcf19dc3",
   "metadata": {},
   "source": [
    "Functions should have docstrings! Those document a bit the process of the function, and describe what the arguments and the returned values are."
   ]
  },
  {
   "cell_type": "code",
   "execution_count": null,
   "id": "14717eb1",
   "metadata": {},
   "outputs": [],
   "source": [
    "def exponentiate(a, b=2):\n",
    "    return a ** b"
   ]
  },
  {
   "cell_type": "markdown",
   "id": "d6ae0ba8",
   "metadata": {},
   "source": [
    "Docstrings can be easily retrieved in an IDE such as a notebook!"
   ]
  },
  {
   "cell_type": "markdown",
   "id": "24911992",
   "metadata": {},
   "source": [
    "(Practical 0.2.3)"
   ]
  },
  {
   "cell_type": "code",
   "execution_count": null,
   "id": "8b49950f",
   "metadata": {},
   "outputs": [],
   "source": []
  }
 ],
 "metadata": {
  "celltoolbar": "Slideshow",
  "kernelspec": {
   "display_name": "Python 3 (ipykernel)",
   "language": "python",
   "name": "python3"
  },
  "language_info": {
   "codemirror_mode": {
    "name": "ipython",
    "version": 3
   },
   "file_extension": ".py",
   "mimetype": "text/x-python",
   "name": "python",
   "nbconvert_exporter": "python",
   "pygments_lexer": "ipython3"
  }
 },
 "nbformat": 4,
 "nbformat_minor": 5
}
