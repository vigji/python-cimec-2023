{
 "cells": [
  {
   "cell_type": "markdown",
   "id": "3ca811a3",
   "metadata": {},
   "source": [
    "# Python for (open) Neuroscience\n",
    "\n",
    "_Lecture 0.3_ - Functions\n",
    "\n",
    "Luigi Petrucco\n",
    "\n",
    "Jean-Charles Mariani"
   ]
  },
  {
   "cell_type": "markdown",
   "id": "2c9f77d5",
   "metadata": {},
   "source": [
    "## Boolean arithmetic"
   ]
  },
  {
   "cell_type": "markdown",
   "id": "3f44180f",
   "metadata": {},
   "source": [
    "Some clarifications for `True`/`False` boolean operations"
   ]
  },
  {
   "cell_type": "markdown",
   "id": "85f80cae",
   "metadata": {},
   "source": [
    "`True` and `False` are **the same as** `1` and `0` in Python!"
   ]
  },
  {
   "cell_type": "code",
   "execution_count": null,
   "id": "f8751c44",
   "metadata": {},
   "outputs": [],
   "source": []
  },
  {
   "cell_type": "code",
   "execution_count": null,
   "id": "fb59e3f6",
   "metadata": {},
   "outputs": [],
   "source": [
    "print(False == 0)\n",
    "print(True == 1)"
   ]
  },
  {
   "cell_type": "markdown",
   "id": "aa95b1ab",
   "metadata": {},
   "source": [
    "Using classic arithmetic operators (`+`, `-`, `*`, `/`) on boolean variables will make them count as integers!"
   ]
  },
  {
   "cell_type": "code",
   "execution_count": null,
   "id": "23be4154",
   "metadata": {},
   "outputs": [],
   "source": [
    "type(True * False)"
   ]
  },
  {
   "cell_type": "markdown",
   "id": "86cea026",
   "metadata": {},
   "source": [
    "To make proper boolean arithmetic, we want to use `not`, `and`, `or`:"
   ]
  },
  {
   "cell_type": "code",
   "execution_count": null,
   "id": "94f60aea",
   "metadata": {},
   "outputs": [],
   "source": [
    "True and False"
   ]
  },
  {
   "cell_type": "code",
   "execution_count": null,
   "id": "01387729",
   "metadata": {},
   "outputs": [],
   "source": [
    "True or False"
   ]
  },
  {
   "cell_type": "code",
   "execution_count": null,
   "id": "c9030c7b",
   "metadata": {},
   "outputs": [],
   "source": [
    "not True"
   ]
  },
  {
   "cell_type": "markdown",
   "id": "e3282586",
   "metadata": {},
   "source": [
    "Make sure you do not use `and`, `or`, or `not` on numbers - unless it is `0`s and `1`s, and you know what is happening!"
   ]
  },
  {
   "cell_type": "markdown",
   "id": "84341aa2",
   "metadata": {},
   "source": [
    "When we concatenate operations, there is an implicit execution order in which Python carry them out! (as for integer arithmetic)"
   ]
  },
  {
   "cell_type": "code",
   "execution_count": null,
   "id": "3f7c3dee",
   "metadata": {},
   "outputs": [],
   "source": [
    "print(True or False and False)     # and has precedence\n",
    "print((True or False) and False)   # parentheses change precedence\n",
    "\n",
    "print(not False or True)        # not has precedence\n",
    "print(not (False or True))      # parentheses change precedence"
   ]
  },
  {
   "cell_type": "markdown",
   "id": "dd1a0a56",
   "metadata": {},
   "source": [
    "In the same way, think about the fact that there is implicit execution order when we write the following:"
   ]
  },
  {
   "cell_type": "code",
   "execution_count": null,
   "id": "eb80ae0e",
   "metadata": {},
   "outputs": [],
   "source": [
    "a = True\n",
    "b = True\n",
    "\n",
    "print(a != False or True)\n",
    "\n",
    "print(a != (False or True))\n",
    "\n",
    "print((a != False) or True)"
   ]
  },
  {
   "cell_type": "markdown",
   "id": "b758e590",
   "metadata": {},
   "source": [
    "The comparators `>`, `<`, `==`, `!=` have priority over `and` and `or`!"
   ]
  },
  {
   "cell_type": "markdown",
   "id": "17583d6d",
   "metadata": {},
   "source": [
    "#### Beware bitwise operators!"
   ]
  },
  {
   "cell_type": "markdown",
   "id": "89dfb991",
   "metadata": {},
   "source": [
    "Sometimes, you can find some other operators for boolean logic:\n",
    " - `&` for `and`\n",
    " - `|` for `or`\n",
    " - `~` for `not`\n",
    " - `^` for `xor` (yes, that is what that is for!)"
   ]
  },
  {
   "cell_type": "markdown",
   "id": "e6ed0c2f",
   "metadata": {},
   "source": [
    "Those are <span style=\"color:indianred\">bitwise operators</span> and sometimes can behave in funny ways!\n",
    "\n",
    "E.g., with different execution priority"
   ]
  },
  {
   "cell_type": "markdown",
   "id": "8299c8cf",
   "metadata": {},
   "source": [
    "Do not use them for now! We'll talk more about them when we will see arrays."
   ]
  },
  {
   "cell_type": "markdown",
   "id": "12fe3058",
   "metadata": {},
   "source": [
    "### A funny construct: `try` / `except`"
   ]
  },
  {
   "cell_type": "markdown",
   "id": "b4385a45",
   "metadata": {},
   "source": [
    "In Python, it's better to ask forgiveness than permission! Sometimes, we want to try executing some code and fail gracefully if something (not entirely unexpected) happens:\n",
    "\n",
    "```python\n",
    "try:\n",
    "    do_something_dangerous()\n",
    "except SomeException:\n",
    "    handle_the_error()\n",
    "```"
   ]
  },
  {
   "cell_type": "code",
   "execution_count": null,
   "id": "34592c13",
   "metadata": {},
   "outputs": [],
   "source": [
    "some_input_we_cant_control = \"a\"\n",
    "\n",
    "# Try adding 1 to the input and print warning if it fails:\n"
   ]
  },
  {
   "cell_type": "markdown",
   "id": "a7e9b7e1",
   "metadata": {},
   "source": [
    "### `pass`"
   ]
  },
  {
   "cell_type": "markdown",
   "id": "72e8e1f9",
   "metadata": {},
   "source": [
    "    Nothing is something worth doing (Shpongle)\n",
    "    \n",
    "    \n",
    "---\n",
    "\n",
    "The `pass` statement does nothing. It is used as a placeholder where lines of code have to be written:"
   ]
  },
  {
   "cell_type": "code",
   "execution_count": null,
   "id": "b8baaca3",
   "metadata": {},
   "outputs": [],
   "source": []
  },
  {
   "cell_type": "markdown",
   "id": "9f669dd5",
   "metadata": {},
   "source": [
    "`None` "
   ]
  },
  {
   "cell_type": "markdown",
   "id": "40649d61",
   "metadata": {},
   "source": [
    "If a variable is `None` no value is assigned to it!"
   ]
  },
  {
   "cell_type": "code",
   "execution_count": null,
   "id": "4710558c",
   "metadata": {},
   "outputs": [],
   "source": []
  },
  {
   "cell_type": "markdown",
   "id": "3dc2f0f0",
   "metadata": {},
   "source": [
    "`None` is different from `0`, `False`, or empty string `\"\"`"
   ]
  },
  {
   "cell_type": "code",
   "execution_count": null,
   "id": "28eb0e2d",
   "metadata": {},
   "outputs": [],
   "source": []
  },
  {
   "cell_type": "markdown",
   "id": "4716fda3",
   "metadata": {},
   "source": [
    "The correct comparison for None is `is`:"
   ]
  },
  {
   "cell_type": "code",
   "execution_count": null,
   "id": "2b4f94db",
   "metadata": {},
   "outputs": [],
   "source": [
    "x = None\n"
   ]
  },
  {
   "cell_type": "markdown",
   "id": "2df21731",
   "metadata": {},
   "source": [
    "#### Beware the `is` comparator!"
   ]
  },
  {
   "cell_type": "markdown",
   "id": "cd782053",
   "metadata": {},
   "source": [
    "`is` normally checks if two things are really, really the same - that is, they refer to the same object in memory:"
   ]
  },
  {
   "cell_type": "code",
   "execution_count": null,
   "id": "cfef8b54",
   "metadata": {},
   "outputs": [],
   "source": []
  },
  {
   "cell_type": "markdown",
   "id": "cc2aa9f9",
   "metadata": {},
   "source": [
    "(Practicals 0.2.2)"
   ]
  },
  {
   "cell_type": "markdown",
   "id": "00e0bad3",
   "metadata": {},
   "source": [
    "## Functions"
   ]
  },
  {
   "cell_type": "markdown",
   "id": "acb8c43d",
   "metadata": {},
   "source": [
    "A function is a re-usable piece of code that performs operations on a specified set of variables, and returns the result."
   ]
  },
  {
   "cell_type": "markdown",
   "id": "99b2f110",
   "metadata": {},
   "source": [
    "Every time you are duplicating a bunch of code you might need a function!"
   ]
  },
  {
   "cell_type": "code",
   "execution_count": null,
   "id": "ca2f9276",
   "metadata": {},
   "outputs": [],
   "source": [
    "# let's calculate the mean of those values:\n",
    "list_1 = [1,2,3,4]\n",
    "list_2 = [4,5,6,7]\n"
   ]
  },
  {
   "cell_type": "markdown",
   "id": "76b4a78e",
   "metadata": {},
   "source": [
    "The behavior a function should be consistent! Avoid input flags that change the behavior a lot"
   ]
  },
  {
   "cell_type": "markdown",
   "id": "38443603",
   "metadata": {},
   "source": [
    "### Anatomy of a function"
   ]
  },
  {
   "cell_type": "code",
   "execution_count": null,
   "id": "642f4dd5",
   "metadata": {},
   "outputs": [],
   "source": [
    "def a_function(some_arguments):\n",
    "    \"\"\"Describe here what the list does\n",
    "    \"\"\"\n",
    "    \n",
    "    # do stuff here\n",
    "    \n",
    "    return function_outputs"
   ]
  },
  {
   "cell_type": "markdown",
   "id": "075254e3",
   "metadata": {},
   "source": [
    "A function has:\n",
    "  - a <span style=\"color:indianred\">name</span> that describes it that we use to call it in the code (followed by `()`)\n",
    "  - <span style=\"color:indianred\">arguments</span> that we pass between the round brackets\n",
    "  -  <span style=\"color:indianred\">`return`ed values</span> that we can assign to new variables\n",
    "  - (optional but strongly recommended): a <span style=\"color:indianred\">docstring</span> (a docuentation string)"
   ]
  },
  {
   "cell_type": "markdown",
   "id": "68012f3d",
   "metadata": {},
   "source": [
    "### Arguments of a function"
   ]
  },
  {
   "cell_type": "markdown",
   "id": "1a0d1c55",
   "metadata": {},
   "source": [
    "A function can have multiple input values:"
   ]
  },
  {
   "cell_type": "code",
   "execution_count": null,
   "id": "270f40e1",
   "metadata": {},
   "outputs": [],
   "source": [
    "# write a function that print the exponentiation of a number using another:\n"
   ]
  },
  {
   "cell_type": "markdown",
   "id": "d99cc4a5",
   "metadata": {},
   "source": [
    "We can pass the function values:\n",
    "  - by position (positional arguments)\n",
    "  - by keyword  (keyword arguments)\n",
    "  \n",
    " Positional arguments should precede keyword arguments!"
   ]
  },
  {
   "cell_type": "code",
   "execution_count": null,
   "id": "434a101f",
   "metadata": {},
   "outputs": [],
   "source": [
    "def print_args(a, b, c):\n",
    "    print(f\"a={a}, b={b}, c={c}\")\n",
    "\n",
    "# try passing stuff by position or by keyword:\n"
   ]
  },
  {
   "cell_type": "markdown",
   "id": "b7d4c09d",
   "metadata": {},
   "source": [
    "Some of the function arguments can have default values (even default values can be passed by position, although they normally are not!)"
   ]
  },
  {
   "cell_type": "code",
   "execution_count": null,
   "id": "1b2aafcc",
   "metadata": {},
   "outputs": [],
   "source": [
    "# A function with default values:\n",
    "\n",
    "def print_args(a, b, c=3):\n",
    "    print(f\"a={a}, b={b}, c={c}\")\n",
    "    "
   ]
  },
  {
   "cell_type": "markdown",
   "id": "3948956d",
   "metadata": {},
   "source": [
    "### The principle of duck typing"
   ]
  },
  {
   "cell_type": "markdown",
   "id": "2edaf20f",
   "metadata": {},
   "source": [
    "The duck test:\n",
    "\n",
    "    🦆 If it walks like a duck \n",
    "    and it quacks like a duck, \n",
    "    then it's probably a duck 🦆"
   ]
  },
  {
   "cell_type": "markdown",
   "id": "5ece7395",
   "metadata": {},
   "source": [
    "<p align=\"center\">\n",
    "  <img src=\"./files/duck_typing.png\" />\n",
    "</p>\n"
   ]
  },
  {
   "cell_type": "markdown",
   "id": "32548bc1",
   "metadata": {},
   "source": [
    "Unless we specifically implement type checks, a function will not control for the type of the inputs!"
   ]
  },
  {
   "cell_type": "code",
   "execution_count": null,
   "id": "ef46be2d",
   "metadata": {},
   "outputs": [],
   "source": []
  },
  {
   "cell_type": "markdown",
   "id": "45809319",
   "metadata": {},
   "source": [
    "However, in modern python we have ways of suggesting the best type for a function's argument.\n",
    "In this way, smart IDEs can tell us when we code if there is something strange."
   ]
  },
  {
   "cell_type": "markdown",
   "id": "fbf8fc87",
   "metadata": {},
   "source": [
    "### Values returned by a function"
   ]
  },
  {
   "cell_type": "markdown",
   "id": "ea12bb38",
   "metadata": {},
   "source": [
    "We return values using the special `return` keyword:"
   ]
  },
  {
   "cell_type": "code",
   "execution_count": null,
   "id": "fa70e441",
   "metadata": {},
   "outputs": [],
   "source": []
  },
  {
   "cell_type": "markdown",
   "id": "80f78d55",
   "metadata": {},
   "source": [
    "Functions always have a `return` even when we don't see it! \n",
    "\n",
    "If we do not specify it (as we should), it is `None`."
   ]
  },
  {
   "cell_type": "code",
   "execution_count": null,
   "id": "b0b750ae",
   "metadata": {},
   "outputs": [],
   "source": []
  },
  {
   "cell_type": "markdown",
   "id": "5fe6749d",
   "metadata": {},
   "source": [
    "### Name of the function"
   ]
  },
  {
   "cell_type": "markdown",
   "id": "83cad83f",
   "metadata": {},
   "source": [
    "Always use the `lowercase_underscore()` syntax that we use for variables."
   ]
  },
  {
   "cell_type": "markdown",
   "id": "092a74fd",
   "metadata": {},
   "source": [
    "Use names that describe the main aim of the function!"
   ]
  },
  {
   "cell_type": "code",
   "execution_count": null,
   "id": "2497c7c5",
   "metadata": {},
   "outputs": [],
   "source": [
    "def average():  # good\n",
    "    pass\n",
    "\n",
    "def foo():  # bad\n",
    "    pass"
   ]
  },
  {
   "cell_type": "markdown",
   "id": "e6725c24",
   "metadata": {},
   "source": [
    "Using function names, you can create lists or dictionaries of functions! "
   ]
  },
  {
   "cell_type": "code",
   "execution_count": null,
   "id": "c9642772",
   "metadata": {},
   "outputs": [],
   "source": [
    "def multiply_numbers(x, y):\n",
    "    return x * y\n",
    "\n",
    "def add_numbers(x, y):\n",
    "    return x + y\n",
    "\n",
    "a_function_dictionary = ..."
   ]
  },
  {
   "cell_type": "markdown",
   "id": "57c1e217",
   "metadata": {},
   "source": [
    "### Function docstrings"
   ]
  },
  {
   "cell_type": "markdown",
   "id": "bcf19dc3",
   "metadata": {},
   "source": [
    "Functions should have docstrings! Those document a bit the process of the function, and describe what the arguments and the returned values are."
   ]
  },
  {
   "cell_type": "code",
   "execution_count": null,
   "id": "14717eb1",
   "metadata": {},
   "outputs": [],
   "source": [
    "def exponentiate(a, b=2):\n",
    "    return a ** b"
   ]
  },
  {
   "cell_type": "markdown",
   "id": "d6ae0ba8",
   "metadata": {},
   "source": [
    "Docstrings can be easily retrieved in an IDE such as a notebook!"
   ]
  },
  {
   "cell_type": "markdown",
   "id": "d2721437",
   "metadata": {},
   "source": [
    "### Function variables scope"
   ]
  },
  {
   "cell_type": "markdown",
   "id": "543ef663",
   "metadata": {},
   "source": [
    "Variables defined inside the function will live only during the execution of the function!"
   ]
  },
  {
   "cell_type": "code",
   "execution_count": null,
   "id": "695a8fa1",
   "metadata": {},
   "outputs": [],
   "source": []
  },
  {
   "cell_type": "markdown",
   "id": "b77f3af6",
   "metadata": {},
   "source": [
    "Variables defined outside might be visible but **should not be used** inside the function (unless it is super-general and **very clearly identified** global constants maybe)."
   ]
  },
  {
   "cell_type": "code",
   "execution_count": null,
   "id": "831163e0",
   "metadata": {},
   "outputs": [],
   "source": []
  },
  {
   "cell_type": "markdown",
   "id": "5568f623",
   "metadata": {},
   "source": [
    "**Avoid sides effects!** Do not modify the passed values or variables existing ouside the function scope. In the cases you do it, do it consciously and make it very explicit in the name of the function or in the docstring!"
   ]
  },
  {
   "cell_type": "code",
   "execution_count": null,
   "id": "b842d900",
   "metadata": {},
   "outputs": [],
   "source": []
  },
  {
   "cell_type": "markdown",
   "id": "24911992",
   "metadata": {},
   "source": [
    "(Practical 0.2.3)"
   ]
  },
  {
   "cell_type": "code",
   "execution_count": null,
   "id": "8b49950f",
   "metadata": {},
   "outputs": [],
   "source": []
  }
 ],
 "metadata": {
  "celltoolbar": "Slideshow",
  "kernelspec": {
   "display_name": "Python 3 (ipykernel)",
   "language": "python",
   "name": "python3"
  },
  "language_info": {
   "codemirror_mode": {
    "name": "ipython",
    "version": 3
   },
   "file_extension": ".py",
   "mimetype": "text/x-python",
   "name": "python",
   "nbconvert_exporter": "python",
   "pygments_lexer": "ipython3"
  }
 },
 "nbformat": 4,
 "nbformat_minor": 5
}
