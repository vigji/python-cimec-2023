{
 "cells": [
  {
   "cell_type": "markdown",
   "id": "3ca811a3",
   "metadata": {},
   "source": [
    "# Python for (open) Neuroscience\n",
    "\n",
    "_Lecture 0.3_ - Functions\n",
    "\n",
    "Luigi Petrucco\n",
    "\n",
    "Jean-Charles Mariani"
   ]
  },
  {
   "cell_type": "markdown",
   "id": "12fe3058",
   "metadata": {},
   "source": [
    "### A funny construct: `try` / `except`"
   ]
  },
  {
   "cell_type": "markdown",
   "id": "b4385a45",
   "metadata": {},
   "source": [
    "In Python, it's better to ask forgiveness than permission! Sometimes, we want to try executing some code and fail gracefully if something (not entirely unexpected) happens:\n",
    "\n",
    "```python\n",
    "try:\n",
    "    do_something_dangerous()\n",
    "except SomeException:\n",
    "    handle_the_error()\n",
    "```"
   ]
  },
  {
   "cell_type": "code",
   "execution_count": null,
   "id": "34592c13",
   "metadata": {},
   "outputs": [],
   "source": [
    "some_input_we_cant_control = \"a\"\n",
    "\n",
    "# Try adding 1 to the input and print warning if it fails:\n"
   ]
  },
  {
   "cell_type": "markdown",
   "id": "a7e9b7e1",
   "metadata": {},
   "source": [
    "### `pass`"
   ]
  },
  {
   "cell_type": "markdown",
   "id": "72e8e1f9",
   "metadata": {},
   "source": [
    "    Nothing is something worth doing (Shpongle)\n",
    "    \n",
    "    \n",
    "---\n",
    "\n",
    "The `pass` statement does nothing. It is used as a placeholder where lines of code have to be written:"
   ]
  },
  {
   "cell_type": "code",
   "execution_count": null,
   "id": "b8baaca3",
   "metadata": {},
   "outputs": [],
   "source": []
  },
  {
   "cell_type": "markdown",
   "id": "9f669dd5",
   "metadata": {},
   "source": [
    "`None` "
   ]
  },
  {
   "cell_type": "markdown",
   "id": "40649d61",
   "metadata": {},
   "source": [
    "If a variable is `None` no value is assigned to it!"
   ]
  },
  {
   "cell_type": "code",
   "execution_count": null,
   "id": "4710558c",
   "metadata": {},
   "outputs": [],
   "source": []
  },
  {
   "cell_type": "markdown",
   "id": "3dc2f0f0",
   "metadata": {},
   "source": [
    "`None` is different from `0`, `False`, or empty string `\"\"`"
   ]
  },
  {
   "cell_type": "code",
   "execution_count": null,
   "id": "28eb0e2d",
   "metadata": {},
   "outputs": [],
   "source": []
  },
  {
   "cell_type": "markdown",
   "id": "4716fda3",
   "metadata": {},
   "source": [
    "The correct comparison for None is `is`:"
   ]
  },
  {
   "cell_type": "code",
   "execution_count": null,
   "id": "2b4f94db",
   "metadata": {},
   "outputs": [],
   "source": [
    "x = None\n"
   ]
  },
  {
   "cell_type": "markdown",
   "id": "2df21731",
   "metadata": {},
   "source": [
    "Beware the `is` comparator!"
   ]
  },
  {
   "cell_type": "code",
   "execution_count": null,
   "id": "cfef8b54",
   "metadata": {},
   "outputs": [],
   "source": []
  },
  {
   "cell_type": "markdown",
   "id": "cc2aa9f9",
   "metadata": {},
   "source": [
    "(Practicals 0.2.2)"
   ]
  },
  {
   "cell_type": "markdown",
   "id": "00e0bad3",
   "metadata": {},
   "source": [
    "## Functions"
   ]
  },
  {
   "cell_type": "markdown",
   "id": "acb8c43d",
   "metadata": {},
   "source": [
    "A function is a re-usable piece of code that performs operations on a specified set of variables, and returns the result."
   ]
  },
  {
   "cell_type": "markdown",
   "id": "99b2f110",
   "metadata": {},
   "source": [
    "Every time you are duplicating a bunch of code you might need a function!"
   ]
  },
  {
   "cell_type": "code",
   "execution_count": null,
   "id": "ca2f9276",
   "metadata": {},
   "outputs": [],
   "source": [
    "# let's calculate the mean of those values:\n",
    "list_1 = [1,2,3,4]\n",
    "list_2 = [4,5,6,7]\n"
   ]
  },
  {
   "cell_type": "markdown",
   "id": "38443603",
   "metadata": {},
   "source": [
    "### Anatomy of a function"
   ]
  },
  {
   "cell_type": "code",
   "execution_count": null,
   "id": "642f4dd5",
   "metadata": {},
   "outputs": [],
   "source": [
    "def a_function(some_arguments):\n",
    "    \"\"\"Describe here what the list does\n",
    "    \"\"\"\n",
    "    \n",
    "    # do stuff here\n",
    "    \n",
    "    return function_outputs"
   ]
  },
  {
   "cell_type": "markdown",
   "id": "075254e3",
   "metadata": {},
   "source": [
    "A function has:\n",
    "  - a <span style=\"color:indianred\">name</span> that describes it that we use to call it in the code (followed by `()`)\n",
    "  - <span style=\"color:indianred\">arguments</span> that we pass between the round brackets\n",
    "  -  <span style=\"color:indianred\">`return`ed values</span> that we can assign to new variables\n",
    "  - (optional but strongly recommended): a <span style=\"color:indianred\">docstring</span> (a docuentation string)"
   ]
  },
  {
   "cell_type": "markdown",
   "id": "68012f3d",
   "metadata": {},
   "source": [
    "### Arguments of a function"
   ]
  },
  {
   "cell_type": "markdown",
   "id": "1a0d1c55",
   "metadata": {},
   "source": [
    "A function can have multiple input values:"
   ]
  },
  {
   "cell_type": "code",
   "execution_count": null,
   "id": "270f40e1",
   "metadata": {},
   "outputs": [],
   "source": [
    "# write a function that print the exponentiation of a number using another:\n"
   ]
  },
  {
   "cell_type": "markdown",
   "id": "d99cc4a5",
   "metadata": {},
   "source": [
    "We can pass the function values:\n",
    "  - by position (positional arguments)\n",
    "  - by keyword  (keyword arguments)\n",
    "  \n",
    " Positional arguments should precede keyword arguments!"
   ]
  },
  {
   "cell_type": "code",
   "execution_count": null,
   "id": "434a101f",
   "metadata": {},
   "outputs": [],
   "source": [
    "def print_args(a,b,c):\n",
    "    print(f\"a={a}, b={b}, c={c}\")\n",
    "\n",
    "# try passing stuff by position or by keyword:\n"
   ]
  },
  {
   "cell_type": "markdown",
   "id": "b7d4c09d",
   "metadata": {},
   "source": [
    "Some of the function arguments can have default values (even default values can be passed by position, although they normally are not!)"
   ]
  },
  {
   "cell_type": "code",
   "execution_count": null,
   "id": "1b2aafcc",
   "metadata": {},
   "outputs": [],
   "source": [
    "# A function with default values:\n",
    "def print_args(a,b,c=3):\n",
    "    print(f\"a={a}, b={b}, c={c}\")\n",
    "    "
   ]
  },
  {
   "cell_type": "markdown",
   "id": "fbf8fc87",
   "metadata": {},
   "source": [
    "### Values returned by a function"
   ]
  },
  {
   "cell_type": "markdown",
   "id": "ea12bb38",
   "metadata": {},
   "source": [
    "We return values using the special `return` keyword:"
   ]
  },
  {
   "cell_type": "code",
   "execution_count": null,
   "id": "fa70e441",
   "metadata": {},
   "outputs": [],
   "source": []
  },
  {
   "cell_type": "markdown",
   "id": "5fe6749d",
   "metadata": {},
   "source": [
    "### Name of the function"
   ]
  },
  {
   "cell_type": "markdown",
   "id": "83cad83f",
   "metadata": {},
   "source": [
    "Always use the `lowercase_underscore()` syntax that we use for variables"
   ]
  },
  {
   "cell_type": "markdown",
   "id": "092a74fd",
   "metadata": {},
   "source": [
    "Use names that describe the main aim of the function!"
   ]
  },
  {
   "cell_type": "code",
   "execution_count": null,
   "id": "2497c7c5",
   "metadata": {},
   "outputs": [],
   "source": [
    "def average():  # good\n",
    "    pass\n",
    "\n",
    "def foo():  # bad\n",
    "    pass"
   ]
  },
  {
   "cell_type": "markdown",
   "id": "e6725c24",
   "metadata": {},
   "source": [
    "Using function names, you can create lists or dictionaries of functions! "
   ]
  },
  {
   "cell_type": "code",
   "execution_count": null,
   "id": "c9642772",
   "metadata": {},
   "outputs": [],
   "source": [
    "def multiply_numbers(x, y):\n",
    "    return x * y\n",
    "\n",
    "def add_numbers(x, y):\n",
    "    return x + y\n",
    "\n",
    "a_function_dictionary = ..."
   ]
  },
  {
   "cell_type": "markdown",
   "id": "57c1e217",
   "metadata": {},
   "source": [
    "### Function docstrings"
   ]
  },
  {
   "cell_type": "markdown",
   "id": "bcf19dc3",
   "metadata": {},
   "source": [
    "Functions should have docstrings! Those document a bit the process of the function, and describe what the arguments and the returned values are."
   ]
  },
  {
   "cell_type": "code",
   "execution_count": null,
   "id": "14717eb1",
   "metadata": {},
   "outputs": [],
   "source": [
    "def exponentiate(a, b=2):\n",
    "    return a ** b"
   ]
  },
  {
   "cell_type": "markdown",
   "id": "d6ae0ba8",
   "metadata": {},
   "source": [
    "Docstrings can be easily retrieved in an IDE such as a notebook!"
   ]
  },
  {
   "cell_type": "markdown",
   "id": "24911992",
   "metadata": {},
   "source": [
    "(Practical 0.2.3)"
   ]
  },
  {
   "cell_type": "code",
   "execution_count": null,
   "id": "8b49950f",
   "metadata": {},
   "outputs": [],
   "source": []
  }
 ],
 "metadata": {
  "celltoolbar": "Slideshow",
  "kernelspec": {
   "display_name": "Python 3 (ipykernel)",
   "language": "python",
   "name": "python3"
  },
  "language_info": {
   "codemirror_mode": {
    "name": "ipython",
    "version": 3
   },
   "file_extension": ".py",
   "mimetype": "text/x-python",
   "name": "python",
   "nbconvert_exporter": "python",
   "pygments_lexer": "ipython3"
  }
 },
 "nbformat": 4,
 "nbformat_minor": 5
}
