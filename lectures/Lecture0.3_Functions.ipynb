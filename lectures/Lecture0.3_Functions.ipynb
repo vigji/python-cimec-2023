{
 "cells": [
  {
   "cell_type": "markdown",
   "id": "3ca811a3",
   "metadata": {},
   "source": [
    "# Python for (open) Neuroscience\n",
    "\n",
    "_Lecture 0.3_ - Functions\n",
    "\n",
    "Luigi Petrucco\n",
    "\n",
    "Jean-Charles Mariani"
   ]
  },
  {
   "cell_type": "markdown",
   "id": "2c9f77d5",
   "metadata": {},
   "source": [
    "## Boolean arithmetic"
   ]
  },
  {
   "cell_type": "markdown",
   "id": "3f44180f",
   "metadata": {},
   "source": [
    "Some clarifications for `True`/`False` boolean operations"
   ]
  },
  {
   "cell_type": "markdown",
   "id": "85f80cae",
   "metadata": {},
   "source": [
    "`True` and `False` are **the same as** `1` and `0` in Python!"
   ]
  },
  {
   "cell_type": "code",
   "execution_count": null,
   "id": "fb59e3f6",
   "metadata": {},
   "outputs": [],
   "source": [
    "print(False == 0)\n",
    "print(True == 1)"
   ]
  },
  {
   "cell_type": "markdown",
   "id": "aa95b1ab",
   "metadata": {},
   "source": [
    "Using classic arithmetic operators (`+`, `-`, `*`, `/`) and comparators (`>`, `<`) on boolean variables will make them count as integers!"
   ]
  },
  {
   "cell_type": "code",
   "execution_count": null,
   "id": "23be4154",
   "metadata": {},
   "outputs": [],
   "source": [
    "print(True * False)\n",
    "print(0.5 > False)\n",
    "print(0.5 > True)"
   ]
  },
  {
   "cell_type": "markdown",
   "id": "86cea026",
   "metadata": {},
   "source": [
    "To make proper boolean arithmetic, we want to use `not`, `and`, `or`:"
   ]
  },
  {
   "cell_type": "code",
   "execution_count": null,
   "id": "94f60aea",
   "metadata": {},
   "outputs": [],
   "source": [
    "True and False"
   ]
  },
  {
   "cell_type": "code",
   "execution_count": null,
   "id": "01387729",
   "metadata": {},
   "outputs": [],
   "source": [
    "True or False"
   ]
  },
  {
   "cell_type": "code",
   "execution_count": null,
   "id": "c9030c7b",
   "metadata": {},
   "outputs": [],
   "source": [
    "not 0"
   ]
  },
  {
   "cell_type": "markdown",
   "id": "e3282586",
   "metadata": {},
   "source": [
    "Make sure you do not use `and`, `or`, or `not` on numbers - unless it is `0`s and `1`s, and you know what is happening!"
   ]
  },
  {
   "cell_type": "markdown",
   "id": "84341aa2",
   "metadata": {},
   "source": [
    "When we concatenate operations, there is an implicit execution order in which Python carry them out! (as for integer arithmetic)"
   ]
  },
  {
   "cell_type": "code",
   "execution_count": null,
   "id": "3f7c3dee",
   "metadata": {},
   "outputs": [],
   "source": [
    "print(True or False and False)     # and has precedence\n",
    "print((True or False) and False)   # parentheses change precedence\n",
    "\n",
    "print(not False or True)        # not has precedence\n",
    "print(not (False or True))      # parentheses change precedence"
   ]
  },
  {
   "cell_type": "markdown",
   "id": "dd1a0a56",
   "metadata": {},
   "source": [
    "In the same way, think about the fact that there is implicit execution order when we write the following:"
   ]
  },
  {
   "cell_type": "code",
   "execution_count": null,
   "id": "f05e9440",
   "metadata": {},
   "outputs": [],
   "source": [
    "a = 1\n",
    "b = 2\n",
    "\n",
    "(a > 2) and (b < 3)"
   ]
  },
  {
   "cell_type": "code",
   "execution_count": null,
   "id": "eb80ae0e",
   "metadata": {},
   "outputs": [],
   "source": [
    "a = True\n",
    "b = True\n",
    "\n",
    "print(a != False or True)\n",
    "\n",
    "print(a != (False or True))\n",
    "\n",
    "print((a != False) or True)"
   ]
  },
  {
   "cell_type": "markdown",
   "id": "b758e590",
   "metadata": {},
   "source": [
    "The comparators `>`, `<`, `==`, `!=` have priority over `and` and `or`!"
   ]
  },
  {
   "cell_type": "code",
   "execution_count": null,
   "id": "b75382c5",
   "metadata": {},
   "outputs": [],
   "source": [
    "a = 0.5\n",
    "print(a > 1 and b)\n",
    "print(a > (1 and b))"
   ]
  },
  {
   "cell_type": "markdown",
   "id": "17583d6d",
   "metadata": {},
   "source": [
    "### Beware bitwise operators!"
   ]
  },
  {
   "cell_type": "markdown",
   "id": "89dfb991",
   "metadata": {},
   "source": [
    "Sometimes, you can find some other operators for boolean logic:\n",
    " - `&` for `and`\n",
    " - `|` for `or`\n",
    " - `~` for `not`\n",
    " - `^` for `xor` (yes, that is what that is for!)"
   ]
  },
  {
   "cell_type": "markdown",
   "id": "e6ed0c2f",
   "metadata": {},
   "source": [
    "Those are <span style=\"color:indianred\">bitwise operators</span> and can behave in funny ways! (_e.g._, different execution priority)"
   ]
  },
  {
   "cell_type": "markdown",
   "id": "8299c8cf",
   "metadata": {},
   "source": [
    "Do not use them for now! We'll talk more about them when we will see arrays."
   ]
  },
  {
   "cell_type": "markdown",
   "id": "12fe3058",
   "metadata": {},
   "source": [
    "### A funny construct: `try` / `except`"
   ]
  },
  {
   "cell_type": "markdown",
   "id": "b4385a45",
   "metadata": {},
   "source": [
    "In Python, it's better to ask forgiveness than permission! Sometimes, we want to try executing some code and fail gracefully if something (not entirely unexpected) happens:\n",
    "\n",
    "```python\n",
    "try:\n",
    "    do_something_dangerous()\n",
    "except SomeException:\n",
    "    handle_the_error()\n",
    "```"
   ]
  },
  {
   "cell_type": "code",
   "execution_count": null,
   "id": "34592c13",
   "metadata": {},
   "outputs": [],
   "source": [
    "input_we_cannot_control = 1.\n",
    "\n",
    "# Try adding 1 to the input and print warning if it fails:\n",
    "\n",
    "if isinstance(input_we_cannot_control, int):\n",
    "    input_we_cannot_control += 1\n",
    "else:\n",
    "    print(f\"Something happened!\")"
   ]
  },
  {
   "cell_type": "markdown",
   "id": "a7e9b7e1",
   "metadata": {},
   "source": [
    "### `pass`"
   ]
  },
  {
   "cell_type": "markdown",
   "id": "72e8e1f9",
   "metadata": {},
   "source": [
    "    Nothing is something worth doing (Shpongle)\n",
    "    \n",
    "    \n",
    "---\n",
    "\n",
    "The `pass` statement does nothing. It is used as a placeholder where lines of code have to be written:"
   ]
  },
  {
   "cell_type": "code",
   "execution_count": null,
   "id": "b8baaca3",
   "metadata": {},
   "outputs": [],
   "source": [
    "try:\n",
    "    input_we_cannot_control += 1\n",
    "    \n",
    "except TypeError as e:\n",
    "    pass  # TODO implement here something in the future\n",
    "    "
   ]
  },
  {
   "cell_type": "markdown",
   "id": "9f669dd5",
   "metadata": {},
   "source": [
    "### `None` "
   ]
  },
  {
   "cell_type": "markdown",
   "id": "40649d61",
   "metadata": {},
   "source": [
    "If a variable is `None` no value is assigned to it!"
   ]
  },
  {
   "cell_type": "code",
   "execution_count": null,
   "id": "4710558c",
   "metadata": {},
   "outputs": [],
   "source": [
    "a = None\n",
    "print(a)"
   ]
  },
  {
   "cell_type": "markdown",
   "id": "3dc2f0f0",
   "metadata": {},
   "source": [
    "`None` is different from `0`, `False`, or empty string `\"\"`"
   ]
  },
  {
   "cell_type": "code",
   "execution_count": null,
   "id": "28eb0e2d",
   "metadata": {},
   "outputs": [],
   "source": [
    "a is None"
   ]
  },
  {
   "cell_type": "markdown",
   "id": "4716fda3",
   "metadata": {},
   "source": [
    "The correct comparison for None is `is`:"
   ]
  },
  {
   "cell_type": "code",
   "execution_count": null,
   "id": "2b4f94db",
   "metadata": {},
   "outputs": [],
   "source": [
    "x = None\n",
    "\n",
    "x == None  # this will (mostly) work, but it is not the way to go\n",
    "x is None  # way to go\n",
    "\n",
    "x is not None  # also way to go"
   ]
  },
  {
   "cell_type": "markdown",
   "id": "2df21731",
   "metadata": {},
   "source": [
    "#### Beware the `is` comparator!"
   ]
  },
  {
   "cell_type": "markdown",
   "id": "9ce7f273",
   "metadata": {},
   "source": [
    "`is` normally checks if two things are **really, really the same** - that is, they refer to the same object in memory:"
   ]
  },
  {
   "cell_type": "code",
   "execution_count": null,
   "id": "a58eba2c",
   "metadata": {},
   "outputs": [],
   "source": [
    "# Fun fact: the two variables a and b do not point to the same memory location, \n",
    "# so they are not the same - but a and c are!\n",
    "a = 1.\n",
    "b = 1.\n",
    "c = a\n",
    "\n",
    "print(id(a), id(b), a is b)\n",
    "print(id(a), id(c), a is c)"
   ]
  },
  {
   "cell_type": "code",
   "execution_count": null,
   "id": "7dd08b91",
   "metadata": {},
   "outputs": [],
   "source": [
    "# Fun fact: if we assign both a and b the integer value 1 instead of 1. they will actually be pointing to the \n",
    "# same location in memory!\n",
    "a = 1\n",
    "b = 1\n",
    "\n",
    "print(id(a), id(b))\n",
    "print(a is b)"
   ]
  },
  {
   "cell_type": "code",
   "execution_count": null,
   "id": "cfef8b54",
   "metadata": {},
   "outputs": [],
   "source": [
    "# Lists will behave in the way we expect them to given what we learned in lecture 0.1 about memory representations\n",
    "# of lists!\n",
    "\n",
    "list_a = [1,2,3]\n",
    "list_b = [1,2,3]\n",
    "\n",
    "list_c = list_a\n",
    "\n",
    "print(id(list_a), id(list_b), list_a is list_b)\n",
    "print(id(list_a), id(list_c), list_a is list_c)"
   ]
  },
  {
   "cell_type": "markdown",
   "id": "cc2aa9f9",
   "metadata": {},
   "source": [
    "(Practicals 0.3.0)"
   ]
  },
  {
   "cell_type": "markdown",
   "id": "00e0bad3",
   "metadata": {},
   "source": [
    "## Functions"
   ]
  },
  {
   "cell_type": "markdown",
   "id": "acb8c43d",
   "metadata": {},
   "source": [
    "A function is a re-usable piece of code that performs operations on a specified set of variables, and returns the result."
   ]
  },
  {
   "cell_type": "markdown",
   "id": "99b2f110",
   "metadata": {},
   "source": [
    "Every time you are duplicating a bunch of code you might need a function!"
   ]
  },
  {
   "cell_type": "code",
   "execution_count": null,
   "id": "ca2f9276",
   "metadata": {},
   "outputs": [],
   "source": [
    "# let's calculate the mean of those values:\n",
    "list_1 = [1,2,3,4]\n",
    "list_2 = [4,5,6,7]\n",
    "\n",
    "mean_1 = sum(list_1) / len(list_1)\n",
    "mean_2 = sum(list_2) / len(list_2)"
   ]
  },
  {
   "cell_type": "markdown",
   "id": "38443603",
   "metadata": {},
   "source": [
    "### Anatomy of a function"
   ]
  },
  {
   "cell_type": "code",
   "execution_count": null,
   "id": "642f4dd5",
   "metadata": {},
   "outputs": [],
   "source": [
    "def list_average(input_list):\n",
    "    \"\"\"Compute the average of values in a list\n",
    "    \"\"\"\n",
    "    \n",
    "    mean = sum(input_list) / len(input_list)\n",
    "    \n",
    "    return mean\n",
    "\n",
    "mean_1 = list_average(list_1)\n",
    "print(mean_1)"
   ]
  },
  {
   "cell_type": "markdown",
   "id": "075254e3",
   "metadata": {},
   "source": [
    "**A function definition has**:\n",
    "  - a <span style=\"color:indianred\">name</span> that describes it, that we use to call it in the code (followed by `()`)\n",
    "  - <span style=\"color:indianred\">arguments</span> that we pass between the round brackets\n",
    "  -  <span style=\"color:indianred\">`return`ed values</span> that we can assign to new variables\n",
    "  - (optional but strongly recommended): a <span style=\"color:indianred\">docstring</span> (a docuentation string)"
   ]
  },
  {
   "cell_type": "markdown",
   "id": "68012f3d",
   "metadata": {},
   "source": [
    "### Arguments of a function"
   ]
  },
  {
   "cell_type": "markdown",
   "id": "1a0d1c55",
   "metadata": {},
   "source": [
    "A function can have multiple input values:"
   ]
  },
  {
   "cell_type": "code",
   "execution_count": null,
   "id": "270f40e1",
   "metadata": {},
   "outputs": [],
   "source": [
    "# write a function that print the exponentiation of a number using another:\n",
    "\n",
    "def exponentiate(a, b):\n",
    "    return a ** b\n",
    "\n",
    "c = 2\n",
    "d = 3\n",
    "exponentiate(c, d)\n"
   ]
  },
  {
   "cell_type": "markdown",
   "id": "d99cc4a5",
   "metadata": {},
   "source": [
    "We can pass the function values:\n",
    "  - by position (positional arguments)\n",
    "  - by keyword  (keyword arguments)\n",
    "  \n",
    " Positional arguments should precede keyword arguments!"
   ]
  },
  {
   "cell_type": "code",
   "execution_count": null,
   "id": "434a101f",
   "metadata": {},
   "outputs": [],
   "source": [
    "def print_args(a, b, c):\n",
    "    print(f\"a={a}, b={b}, c={c}\")\n",
    "\n",
    "\n",
    "# try passing stuff by position:\n",
    "print_args(1, 2, 3)\n",
    "\n",
    "# try passing stuff by keyword:\n",
    "print_args(c=1, a=2, b=3)"
   ]
  },
  {
   "cell_type": "markdown",
   "id": "b7d4c09d",
   "metadata": {},
   "source": [
    "Some of the function arguments can have default values (even default values can be passed by position, although they normally are not!)"
   ]
  },
  {
   "cell_type": "code",
   "execution_count": null,
   "id": "1b2aafcc",
   "metadata": {},
   "outputs": [],
   "source": [
    "# A function with default values:\n",
    "\n",
    "def print_args(a, b, c= 3):\n",
    "    print(f\"a={a}, b={b}, c={c}\")\n",
    "    \n",
    "print_args(1, 2)"
   ]
  },
  {
   "cell_type": "markdown",
   "id": "437e7d3d",
   "metadata": {},
   "source": [
    "### The principle of duck typing"
   ]
  },
  {
   "cell_type": "markdown",
   "id": "6c178eca",
   "metadata": {},
   "source": [
    "The duck test:\n",
    "\n",
    "    🦆 If it walks like a duck \n",
    "    and it quacks like a duck, \n",
    "    then it's probably a duck 🦆"
   ]
  },
  {
   "cell_type": "markdown",
   "id": "dc84e85c",
   "metadata": {},
   "source": [
    "<p align=\"center\">\n",
    "  <img src=\"./files/duck_typing.png\" />\n",
    "</p>\n"
   ]
  },
  {
   "cell_type": "markdown",
   "id": "58ed67ff",
   "metadata": {},
   "source": [
    "Unless we specifically implement type checks, a function will not control for the type of the inputs!"
   ]
  },
  {
   "cell_type": "code",
   "execution_count": null,
   "id": "bcfb4495",
   "metadata": {},
   "outputs": [],
   "source": [
    "# This will run the function (and fail at the return line) as there is no explicit or implicit type check \n",
    "# on the input: \n",
    "def uppercase(a_string):\n",
    "    print(\"I'm here\")\n",
    "    return a_string.upper()\n",
    "    \n",
    "uppercase(1)"
   ]
  },
  {
   "cell_type": "markdown",
   "id": "3d20ccc0",
   "metadata": {},
   "source": [
    "### Type hints"
   ]
  },
  {
   "cell_type": "markdown",
   "id": "0c928570",
   "metadata": {},
   "source": [
    "In modern python there are ways of suggesting the best type for a function's argument."
   ]
  },
  {
   "cell_type": "code",
   "execution_count": null,
   "id": "54ebc51e",
   "metadata": {},
   "outputs": [],
   "source": [
    "def repeat_string(string: str, num: int = 5) -> str:\n",
    "    \"\"\"Repeat a string num times.\n",
    "    \"\"\"\n",
    "    return string * num"
   ]
  },
  {
   "cell_type": "markdown",
   "id": "127d0f71",
   "metadata": {},
   "source": [
    "In this way, smart IDEs can tell us when we code if there is something strange, and type checkers can be run on code to make sure functions are called with the correct inputs."
   ]
  },
  {
   "cell_type": "markdown",
   "id": "b0d97d17",
   "metadata": {},
   "source": [
    "We will not be using them in this course, but you might encouter this syntax in Properly Written Code™️. Feel free to read into them for more advanced project!"
   ]
  },
  {
   "cell_type": "markdown",
   "id": "fbf8fc87",
   "metadata": {},
   "source": [
    "### Values returned by a function"
   ]
  },
  {
   "cell_type": "markdown",
   "id": "ea12bb38",
   "metadata": {},
   "source": [
    "We return values using the special `return` keyword:"
   ]
  },
  {
   "cell_type": "code",
   "execution_count": null,
   "id": "fa70e441",
   "metadata": {},
   "outputs": [],
   "source": [
    "def empty_function():\n",
    "    return 1\n",
    "result = empty_function()  # call the function and assign the returned value to a variable"
   ]
  },
  {
   "cell_type": "markdown",
   "id": "80f78d55",
   "metadata": {},
   "source": [
    "Functions always have a `return` even when we don't see it! \n",
    "\n",
    "If we do not specify it (as we should), it is `None`."
   ]
  },
  {
   "cell_type": "code",
   "execution_count": null,
   "id": "b0b750ae",
   "metadata": {},
   "outputs": [],
   "source": [
    "# Those two functions return the same value: \n",
    "def print_function_1():\n",
    "    print(\"I am printing this and not returning any value\") \n",
    "    \n",
    "def print_function_2():\n",
    "    print(\"I am printing this and not returning any value\") \n",
    "    return None\n",
    "    \n",
    "    \n",
    "print(print_function_1(), print_function_2())"
   ]
  },
  {
   "cell_type": "markdown",
   "id": "5fe6749d",
   "metadata": {},
   "source": [
    "### Name of the function"
   ]
  },
  {
   "cell_type": "markdown",
   "id": "83cad83f",
   "metadata": {},
   "source": [
    "Always use the `lowercase_underscore()` syntax that we use for variables."
   ]
  },
  {
   "cell_type": "markdown",
   "id": "092a74fd",
   "metadata": {},
   "source": [
    "Use names that describe the main aim of the function!"
   ]
  },
  {
   "cell_type": "code",
   "execution_count": null,
   "id": "2497c7c5",
   "metadata": {},
   "outputs": [],
   "source": [
    "def average():  # good\n",
    "    pass\n",
    "\n",
    "def foo():  # bad\n",
    "    pass"
   ]
  },
  {
   "cell_type": "markdown",
   "id": "e6725c24",
   "metadata": {},
   "source": [
    "Using function names, you can treat them as variables of any kind.\n",
    "\n",
    "_E.g._ you can create lists or dictionaries of functions! "
   ]
  },
  {
   "cell_type": "code",
   "execution_count": null,
   "id": "c9642772",
   "metadata": {},
   "outputs": [],
   "source": [
    "def multiply_numbers(x, y):\n",
    "    return x * y\n",
    "\n",
    "def add_numbers(x, y):\n",
    "    return x + y\n",
    "\n",
    "function_dict = {\"multiply\": multiply_numbers, \"add\": add_numbers}"
   ]
  },
  {
   "cell_type": "markdown",
   "id": "57c1e217",
   "metadata": {},
   "source": [
    "### Function docstrings"
   ]
  },
  {
   "cell_type": "markdown",
   "id": "bcf19dc3",
   "metadata": {},
   "source": [
    "Functions should have docstrings! Those document a bit the process of the function, and describe what the arguments and the returned values are."
   ]
  },
  {
   "cell_type": "code",
   "execution_count": null,
   "id": "14717eb1",
   "metadata": {},
   "outputs": [],
   "source": [
    "def exponentiate(a, b=2):\n",
    "    \"\"\"Compute a power using argument a as base and b as exponent\n",
    "    \n",
    "    Parameters:\n",
    "        a : int or float\n",
    "            base of the exponentiation\n",
    "        b = 5: int or float (optional)\n",
    "            power of the exponentiation\n",
    "            \n",
    "    Return:\n",
    "        int\n",
    "            The computed power\n",
    "    \n",
    "    \"\"\"\n",
    "    return a ** b"
   ]
  },
  {
   "cell_type": "code",
   "execution_count": null,
   "id": "e648b1c4",
   "metadata": {},
   "outputs": [],
   "source": [
    "?exponentiate"
   ]
  },
  {
   "cell_type": "markdown",
   "id": "d6ae0ba8",
   "metadata": {},
   "source": [
    "Docstrings can be easily retrieved in an IDE such as a notebook!"
   ]
  },
  {
   "cell_type": "markdown",
   "id": "d2721437",
   "metadata": {},
   "source": [
    "### Function variables scope"
   ]
  },
  {
   "cell_type": "markdown",
   "id": "543ef663",
   "metadata": {},
   "source": [
    "Variables defined inside the function will live only during the execution of the function!"
   ]
  },
  {
   "cell_type": "code",
   "execution_count": null,
   "id": "dd4fed8a",
   "metadata": {},
   "outputs": [],
   "source": [
    "def sum_vals(a, b):\n",
    "    the_sum_only_here = a + b\n",
    "    return the_sum_only_here\n",
    "\n",
    "a = 1\n",
    "b = 2\n",
    "d = sum_vals(a, b)\n",
    "\n",
    "# this will fail, as we are out of the scope for this variable that will live and die with the function running:\n",
    "print(the_sum_only_here)  "
   ]
  },
  {
   "cell_type": "code",
   "execution_count": null,
   "id": "caf034e7",
   "metadata": {},
   "outputs": [],
   "source": [
    "def sum_vals(a, b):\n",
    "    \n",
    "    # This will not fail. However, it should be avoided in general! it makes running the function\n",
    "    # implicitely relying on code in the rest script.\n",
    "    print(a_var_not_passed)\n",
    "    return a + b\n",
    "\n",
    "a_var_not_passed = 3\n",
    "a = 1\n",
    "b = 2\n",
    "d = sum_vals(a, b)"
   ]
  },
  {
   "cell_type": "markdown",
   "id": "b77f3af6",
   "metadata": {},
   "source": [
    "Variables defined outside might be visible but **should not be used** inside the function (unless it is super-general and **very clearly identified** global constants maybe)."
   ]
  },
  {
   "cell_type": "code",
   "execution_count": null,
   "id": "e7dd8c70",
   "metadata": {},
   "outputs": [],
   "source": [
    "PI = 3.14\n",
    "\n",
    "def area(radius):\n",
    "    return radius ** 2 * PI"
   ]
  },
  {
   "cell_type": "markdown",
   "id": "5568f623",
   "metadata": {},
   "source": [
    "**Avoid sides effects!** Do not modify the passed values or variables existing ouside the function scope. In the cases you do it, do it consciously and make it very explicit in the name of the function or in the docstring!"
   ]
  },
  {
   "cell_type": "code",
   "execution_count": null,
   "id": "95acbfdb",
   "metadata": {},
   "outputs": [],
   "source": [
    "# Here we do not have troubles redefining a inside the function, as this does not affect the original variable:\n",
    "a = 1\n",
    "\n",
    "def change_val(a):\n",
    "    a = 2\n",
    "    return a\n",
    "\n",
    "print(change_val(a))\n",
    "print(a)"
   ]
  },
  {
   "cell_type": "code",
   "execution_count": null,
   "id": "b842d900",
   "metadata": {},
   "outputs": [],
   "source": [
    "# Here we will have troubles: the code modifies the list by popping out elements. \n",
    "# A possible solution would be making a copy inside the function (or write differently the code, but this is \n",
    "# just an example)\n",
    "\n",
    "a_list = [1,2,3]\n",
    "\n",
    "def take_last(a_list):\n",
    "    last = a_list.pop()  # this affects the original list\n",
    "    \n",
    "    # last = a_list.copy().pop()  # this instead would fix the issue\n",
    "    \n",
    "    return last\n",
    "\n",
    "print(take_last(a_list))\n",
    "print(a_list)"
   ]
  },
  {
   "cell_type": "markdown",
   "id": "24911992",
   "metadata": {},
   "source": [
    "(Practical 0.3.1)"
   ]
  }
 ],
 "metadata": {
  "celltoolbar": "Slideshow",
  "kernelspec": {
   "display_name": "Python 3 (ipykernel)",
   "language": "python",
   "name": "python3"
  },
  "language_info": {
   "codemirror_mode": {
    "name": "ipython",
    "version": 3
   },
   "file_extension": ".py",
   "mimetype": "text/x-python",
   "name": "python",
   "nbconvert_exporter": "python",
   "pygments_lexer": "ipython3"
  }
 },
 "nbformat": 4,
 "nbformat_minor": 5
}
