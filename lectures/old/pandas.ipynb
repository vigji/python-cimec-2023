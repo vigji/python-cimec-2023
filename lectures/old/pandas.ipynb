{
 "cells": [
  {
   "cell_type": "markdown",
   "id": "f63c20af-4ded-455c-a440-4cb9570e9a6f",
   "metadata": {},
   "source": [
    "# Pandas"
   ]
  },
  {
   "cell_type": "code",
   "execution_count": null,
   "id": "553f75ce-a596-4aa6-9637-e0542240de08",
   "metadata": {},
   "outputs": [],
   "source": [
    "import numpy as np\n",
    "import pandas as pd\n",
    "import matplotlib.pyplot as plt\n",
    "from pathlib import Path\n",
    "import xarray as xarr\n",
    "import flammkuchen as fl\n",
    "\n",
    "from allensdk.brain_observatory.ecephys.ecephys_project_cache import EcephysProjectCache\n",
    "from inspyre import plotting as inplt\n",
    "from sklearn.decomposition import PCA\n",
    "from scipy.stats import pearsonr"
   ]
  },
  {
   "cell_type": "code",
   "execution_count": null,
   "id": "b8a7d269-f737-4b1b-b1c6-43dc09ebb2ae",
   "metadata": {},
   "outputs": [],
   "source": [
    "import urllib, json\n",
    "\n",
    "\n",
    "def get_unitn_hr_dataset():\n",
    "    # This string contains the address at which we'll find the dataset:\n",
    "    unitn_url = \"https://dati.unitn.it/du/Person/en\"\n",
    "\n",
    "    # Get page response:\n",
    "    response = urllib.request.urlopen(unitn_url)\n",
    "\n",
    "    # Parse a json from the page:\n",
    "    json_data = json.loads(response.read())\n",
    "\n",
    "    # Get actual data:\n",
    "    data = json_data[\"value\"][\"data\"]\n",
    "\n",
    "    # Each person can have multiple positions.\n",
    "    # Here we go from a list of positions to positions in the dictionary, with a number in the\n",
    "    # key if there are multiple ones:\n",
    "\n",
    "    return data  # pd.DataFrame(data)"
   ]
  },
  {
   "cell_type": "code",
   "execution_count": null,
   "id": "7a13e211-ea47-46eb-8868-54d31140cfb8",
   "metadata": {},
   "outputs": [],
   "source": [
    "data = get_unitn_hr_dataset()"
   ]
  },
  {
   "cell_type": "code",
   "execution_count": null,
   "id": "c33f497e-33a0-4b79-93a2-7d3f78b05966",
   "metadata": {},
   "outputs": [],
   "source": [
    "import json\n",
    "\n",
    "with open(\"/Users/vigji/Desktop/unitn_people.json\", \"w\") as f:\n",
    "    json.dump(data, f)"
   ]
  },
  {
   "cell_type": "code",
   "execution_count": null,
   "id": "4d41a122-8181-4661-8975-69933773baf4",
   "metadata": {},
   "outputs": [],
   "source": []
  },
  {
   "cell_type": "code",
   "execution_count": null,
   "id": "265e7f76-ef34-41ab-9517-91028f37e5d8",
   "metadata": {},
   "outputs": [],
   "source": [
    "url = \"http://www.statweb.provincia.tn.it/indicatoristrutturalisubpro/exp.aspx?idind=648&info=d&fmt=json\"\n",
    "response = urllib.request.urlopen(url)"
   ]
  },
  {
   "cell_type": "code",
   "execution_count": null,
   "id": "889c5bc3-830e-441b-b5a3-60bf7d2cd687",
   "metadata": {},
   "outputs": [],
   "source": []
  },
  {
   "cell_type": "code",
   "execution_count": null,
   "id": "442e0aa9-d7c9-4112-b862-10ad88f71e20",
   "metadata": {},
   "outputs": [],
   "source": []
  },
  {
   "cell_type": "code",
   "execution_count": null,
   "id": "d03f29ed-209c-4f76-a6ce-8ad3996cf4a6",
   "metadata": {},
   "outputs": [],
   "source": [
    "for d in data:\n",
    "    positions = d[\"position\"]  # d.pop(\"position\")\n",
    "    titles = [p[\"role\"] for p in positions]\n",
    "\n",
    "    if \"Staff\" in titles and len(titles) > 1:\n",
    "        print(titles)"
   ]
  },
  {
   "cell_type": "code",
   "execution_count": null,
   "id": "38a96900-73a9-417a-85eb-93dda8e9685d",
   "metadata": {},
   "outputs": [],
   "source": [
    "[(d) for d in data if d[\"surname\"] == \"Adiletta\"]"
   ]
  },
  {
   "cell_type": "code",
   "execution_count": null,
   "id": "b16f2543-051a-401c-a268-e4a2985e0e26",
   "metadata": {},
   "outputs": [],
   "source": [
    "for d in data:\n",
    "    positions = d[\"position\"]#d.pop(\"position\")\n",
    "    titles = [p[\"role\"] for p in positions]\n",
    "    d[\"Research fellowship holder\"] = \"Research fellowship holder\" in titles or \"Research grant holder\" in titles\n",
    "    if len(titles) > 1:       \n",
    "        for k in \"PhD student\", \"Full professor\", \"Associate professor\", \"Teaching fellow\", \"Teaching assistant\":\n",
    "            if k in titles:\n",
    "                valid_units = [p[\"unitName\"] for p in positions if p[\"role\"] == k]\n",
    "                role = k\n",
    "                break\n",
    "    else:\n",
    "        role = positions[0][\"role\"]\n",
    "        valid_units = [positions[0][\"unitId\"]]\n",
    "                \n",
    "    d[\"role\"] = role\n",
    "    for i, unit in enumerate(valid_units):\n",
    "        lab = f\"_{i}\" if i > 0 else \"\"\n",
    "        d[f\"unit{}\"] = "
   ]
  },
  {
   "cell_type": "code",
   "execution_count": null,
   "id": "a5800df0-3db7-4c55-a306-de7cda8f362a",
   "metadata": {},
   "outputs": [],
   "source": [
    "positions"
   ]
  },
  {
   "cell_type": "code",
   "execution_count": null,
   "id": "5b26a760-0df7-4d6c-bbee-fc1ca59088f9",
   "metadata": {},
   "outputs": [],
   "source": []
  },
  {
   "cell_type": "code",
   "execution_count": null,
   "id": "7ad13229-b646-45ca-8f09-94f2b75285fd",
   "metadata": {},
   "outputs": [],
   "source": [
    "df.groupby(\"role_2\")[\"identifier\"].count()"
   ]
  },
  {
   "cell_type": "code",
   "execution_count": null,
   "id": "86a47b1f-f274-487d-b5ac-9c9b73ade997",
   "metadata": {},
   "outputs": [],
   "source": []
  },
  {
   "cell_type": "code",
   "execution_count": null,
   "id": "9e1e147b-bb4b-4e20-a4a1-d880beee5076",
   "metadata": {},
   "outputs": [],
   "source": [
    "# Each person can have multiple positions.\n",
    "# Here we go from a list of positions to positions in the dictionary, with a number in the\n",
    "# key if there are multiple ones:\n",
    "for d in data:\n",
    "    positions = d.pop(\"position\")\n",
    "    for i, position in enumerate(positions):\n",
    "        i_lab = (\n",
    "            \"\" if i == 0 else f\"_{i}\"\n",
    "        )  # number in column name only for positions after first one\n",
    "        d[f\"role{i_lab}\"] = position[\"role\"]\n",
    "        d[f\"unit_name{i_lab}\"] = position[\"unitName\"]\n",
    "        d[f\"unit_id{i_lab}\"] = position[\"unitId\"]"
   ]
  },
  {
   "cell_type": "code",
   "execution_count": null,
   "id": "6f3a7406-a5ed-4dd3-9437-3cda5e1ddcec",
   "metadata": {},
   "outputs": [],
   "source": [
    "pd.DataFrame(data)"
   ]
  },
  {
   "cell_type": "code",
   "execution_count": null,
   "id": "5229dc23-4694-404b-b39a-35985f62006e",
   "metadata": {},
   "outputs": [],
   "source": []
  }
 ],
 "metadata": {
  "kernelspec": {
   "display_name": "Python 3 (ipykernel)",
   "language": "python",
   "name": "python3"
  },
  "language_info": {
   "codemirror_mode": {
    "name": "ipython",
    "version": 3
   },
   "file_extension": ".py",
   "mimetype": "text/x-python",
   "name": "python",
   "nbconvert_exporter": "python",
   "pygments_lexer": "ipython3"
  }
 },
 "nbformat": 4,
 "nbformat_minor": 5
}
