{
 "cells": [
  {
   "cell_type": "markdown",
   "id": "13709bf7-dccc-4523-8820-a608ac6c6867",
   "metadata": {},
   "source": [
    "# Intro to python"
   ]
  },
  {
   "cell_type": "markdown",
   "id": "0a099837-f248-4efc-aac8-15f54309bb9c",
   "metadata": {},
   "source": [
    "## Data types"
   ]
  },
  {
   "cell_type": "markdown",
   "id": "1088e60d-1c86-4307-a223-16e7cb1e9d14",
   "metadata": {},
   "source": [
    "Basic data types:\n",
    "- Numeric data types: int, float, complex\n",
    "- String data types: str\n",
    "- Boolean type: bool\n",
    "\n",
    "Composite data types:\n",
    "- Sequence types: list, tuple, range\n",
    "- Mapping data type: dict\n"
   ]
  },
  {
   "cell_type": "markdown",
   "id": "147cfb33-c422-4ace-a8fb-a2fc46599c35",
   "metadata": {},
   "source": [
    "### Basic data types"
   ]
  },
  {
   "cell_type": "markdown",
   "id": "e0386eb9-d71f-4d5a-bfc0-ddda936a71c7",
   "metadata": {},
   "source": [
    "**Int**: as intuitive as it gets:"
   ]
  },
  {
   "cell_type": "code",
   "execution_count": null,
   "id": "5eec94c3-f04b-455c-9e89-401a3ad4943a",
   "metadata": {},
   "outputs": [],
   "source": [
    "a = 1\n",
    "print(type(a))"
   ]
  },
  {
   "cell_type": "code",
   "execution_count": null,
   "id": "f5f0ec1e-7205-4f0c-8c4b-230ea3a2530d",
   "metadata": {},
   "outputs": [],
   "source": [
    "%matplotlib widget\n",
    "from matplotlib import pyplot as plt\n",
    "\n",
    "plt.figure()"
   ]
  },
  {
   "cell_type": "code",
   "execution_count": null,
   "id": "a98ee725-d713-48c5-836d-f37b87a043fe",
   "metadata": {},
   "outputs": [],
   "source": [
    "b = 2\n",
    "print(a + b)"
   ]
  },
  {
   "cell_type": "code",
   "execution_count": null,
   "id": "db597966-9009-4079-a41e-dd6ca4c6b9a6",
   "metadata": {},
   "outputs": [],
   "source": [
    "Float"
   ]
  },
  {
   "cell_type": "code",
   "execution_count": null,
   "id": "8c398c64-b017-443b-bd89-35e3a26315a5",
   "metadata": {},
   "outputs": [],
   "source": []
  },
  {
   "cell_type": "code",
   "execution_count": null,
   "id": "463423b7-6b91-4a99-a1af-7c436e2ddd64",
   "metadata": {},
   "outputs": [],
   "source": [
    "# Float"
   ]
  },
  {
   "cell_type": "code",
   "execution_count": null,
   "id": "730d28c3-eefd-4e88-b54a-17073dfbe332",
   "metadata": {},
   "outputs": [],
   "source": [
    "a / b  # result automatically converted to float. Check it using type()!"
   ]
  },
  {
   "cell_type": "code",
   "execution_count": null,
   "id": "e7722637-be18-43e1-9872-5cc677c84cc9",
   "metadata": {},
   "outputs": [],
   "source": []
  },
  {
   "cell_type": "code",
   "execution_count": null,
   "id": "8cd3494d-f420-4c53-ba59-cce7f04bc3c6",
   "metadata": {},
   "outputs": [],
   "source": [
    "a_string = \"myfirst_string\""
   ]
  },
  {
   "cell_type": "code",
   "execution_count": null,
   "id": "39242e9f-722a-4345-a497-5d8993ec22e5",
   "metadata": {},
   "outputs": [],
   "source": []
  }
 ],
 "metadata": {
  "kernelspec": {
   "display_name": "Python 3 (ipykernel)",
   "language": "python",
   "name": "python3"
  },
  "language_info": {
   "codemirror_mode": {
    "name": "ipython",
    "version": 3
   },
   "file_extension": ".py",
   "mimetype": "text/x-python",
   "name": "python",
   "nbconvert_exporter": "python",
   "pygments_lexer": "ipython3"
  },
  "rise": {
   "enable_chalkboard": true
  }
 },
 "nbformat": 4,
 "nbformat_minor": 5
}
