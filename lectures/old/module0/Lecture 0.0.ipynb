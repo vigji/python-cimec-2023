{
 "cells": [
  {
   "cell_type": "markdown",
   "id": "3ca811a3",
   "metadata": {},
   "source": [
    "# Python for (open) Neuroscience\n",
    "\n",
    "_Lecture 0.0_: Introduction to Python\n",
    "\n",
    "Luigi Petrucco"
   ]
  },
  {
   "cell_type": "markdown",
   "id": "3cfa89e7-b2c6-4e1c-9bfc-fd88c9345c89",
   "metadata": {},
   "source": [
    "## Course housekeeping\n",
    "\n",
    "- Lectures time and location\n",
    "- Material / platforms\n",
    "- Lectures organization\n",
    "- syllabus & bonus topics"
   ]
  },
  {
   "cell_type": "markdown",
   "id": "7f2385ea",
   "metadata": {},
   "source": [
    "# Time and location\n",
    "\n",
    "**Time**:\n",
    "\n",
    "- How is the current time? Should it /can it be shifted?"
   ]
  },
  {
   "cell_type": "markdown",
   "id": "7ebd7e83",
   "metadata": {},
   "source": [
    "**Location:**\n",
    "- This hall for all the frontal lectures\n",
    "- Maybe Manifattura for the \"office hours\"?"
   ]
  },
  {
   "cell_type": "markdown",
   "id": "ad9d1b9e",
   "metadata": {},
   "source": [
    "## Material and platforms\n",
    "\n",
    "- Material (lectures, exercises...) will always be accessible at https://github.com/vigji/python-cimec"
   ]
  },
  {
   "cell_type": "markdown",
   "id": "5874733e",
   "metadata": {},
   "source": [
    "**Platforms/IDE:**\n",
    "- **Google Colab** for the first part\n",
    "- **Local installation** for the second part"
   ]
  },
  {
   "cell_type": "markdown",
   "id": "385e7154",
   "metadata": {},
   "source": [
    "**Required accounts:**\n",
    "- **Google** account for Google Colab\n",
    "- **GitHub** account for exercises "
   ]
  },
  {
   "cell_type": "markdown",
   "id": "2401af6e",
   "metadata": {},
   "source": [
    "## Lecture organization\n",
    "\n",
    "- The course will be organized in four modules. \n",
    "- Each module: 3 x sessions (2h) and 1 x office hours \n",
    "- Each session: frontal lecture + hands-on peer coding"
   ]
  },
  {
   "cell_type": "markdown",
   "id": "bc560fc7",
   "metadata": {},
   "source": [
    "**Assignments**:\n",
    "- Short assignments at the end of each module\n",
    "- Short assingment: simple coding exercises\n",
    "- Final assingment: small real-world project using Python for your work"
   ]
  },
  {
   "cell_type": "markdown",
   "id": "00bef00f",
   "metadata": {},
   "source": [
    "## Syllabus"
   ]
  },
  {
   "cell_type": "markdown",
   "id": "9d1aa835",
   "metadata": {},
   "source": [
    "## Lectures organization"
   ]
  },
  {
   "cell_type": "markdown",
   "id": "acaa449c",
   "metadata": {},
   "source": [
    "What is Python?"
   ]
  },
  {
   "cell_type": "markdown",
   "id": "4d1c3512-f6a9-4e83-95f3-9122299dd9be",
   "metadata": {},
   "source": [
    "### A quote from fictive fiction\n",
    "\n",
    ">**[Me]** Can you write an introduction to Python in the style of David Foster Wallace?\n",
    "\n",
    "\n",
    "> **[ChatGPT]** Of course! Here's an attempt:\n",
    ">\n",
    "> Python, that slithery, supple language with its syntactical elegance and expressive power, can be an object of great fascination for the budding programmer. Its syntax is minimalist, yet invitingly pliable; its object-oriented paradigm allows for an almost metaphysical level of abstraction. And yet, despite its enigmatic allure, Python is not without its quirks and eccentricities.\n",
    ">\n",
    "> Understanding Python is to enter into a conversation with the language itself, to engage in a dance of code and abstraction. Python, like a capricious lover, may at times seem inscrutable, but with enough persistence and attention, its secrets can be unlocked...\n",
    "\n",
    "\n",
    "\n"
   ]
  },
  {
   "cell_type": "markdown",
   "id": "2f490e6e",
   "metadata": {},
   "source": [
    "### A real answer"
   ]
  },
  {
   "cell_type": "markdown",
   "id": "66f9b668",
   "metadata": {},
   "source": [
    " - general purpose, <span style=\"color:maroon\">high level</span> programming language  "
   ]
  },
  {
   "cell_type": "markdown",
   "id": "d447595d",
   "metadata": {},
   "source": [
    " - Named after the Monty Python's Flying Circus British TV show (not the animal)"
   ]
  },
  {
   "cell_type": "markdown",
   "id": "5ee8cc83-aba0-42f2-a00c-cac8e26b4f16",
   "metadata": {},
   "source": [
    "#### High level language"
   ]
  },
  {
   "cell_type": "markdown",
   "id": "41f08dd0",
   "metadata": {},
   "source": [
    "#### General purpose language\n",
    "\n",
    "- wide range of applications [examples here]\n",
    "- support object-oriented programming, but also functional programming\n",
    "- massive number of open-source libraries to do pretty much everything"
   ]
  },
  {
   "cell_type": "markdown",
   "id": "cefdc28b-21b7-4f38-bd4b-3a31f94637c9",
   "metadata": {},
   "source": [
    "Python and MATLAB"
   ]
  },
  {
   "cell_type": "markdown",
   "id": "9a445581-a68b-472b-b7ad-cffac1da3247",
   "metadata": {},
   "source": [
    "Python and R"
   ]
  },
  {
   "cell_type": "markdown",
   "id": "da46f405",
   "metadata": {},
   "source": [
    "### The phylosophy of Python"
   ]
  },
  {
   "cell_type": "code",
   "execution_count": null,
   "id": "69f7301a",
   "metadata": {},
   "outputs": [],
   "source": [
    "import this"
   ]
  },
  {
   "cell_type": "markdown",
   "id": "160270be",
   "metadata": {},
   "source": [
    "## Introduction to Python syntax"
   ]
  },
  {
   "cell_type": "code",
   "execution_count": null,
   "id": "40d6845c",
   "metadata": {},
   "outputs": [],
   "source": []
  },
  {
   "cell_type": "code",
   "execution_count": null,
   "id": "8e327dd8",
   "metadata": {},
   "outputs": [],
   "source": []
  },
  {
   "cell_type": "code",
   "execution_count": null,
   "id": "9332c4f1",
   "metadata": {},
   "outputs": [],
   "source": []
  },
  {
   "cell_type": "code",
   "execution_count": null,
   "id": "1cd67fd6",
   "metadata": {},
   "outputs": [],
   "source": []
  },
  {
   "cell_type": "code",
   "execution_count": null,
   "id": "5495fcfc",
   "metadata": {},
   "outputs": [],
   "source": []
  },
  {
   "cell_type": "code",
   "execution_count": null,
   "id": "fad1d2f4",
   "metadata": {},
   "outputs": [],
   "source": []
  },
  {
   "cell_type": "code",
   "execution_count": null,
   "id": "704e5fca-a127-4095-9289-3bd4f0f701ff",
   "metadata": {},
   "outputs": [],
   "source": [
    "print(\n",
    "    \"\\n\".join(\n",
    "        [\n",
    "            \"\".join(\n",
    "                [\n",
    "                    (\n",
    "                        \"UglyCode\"[(x - y) % 8]\n",
    "                        if ((x * 0.05) ** 2 + (y * 0.1) ** 2 - 1) ** 3\n",
    "                        - (x * 0.05) ** 2 * (y * 0.1) ** 3\n",
    "                        <= 0\n",
    "                        else \" \"\n",
    "                    )\n",
    "                    for x in range(-30, 30)\n",
    "                ]\n",
    "            )\n",
    "            for y in range(15, -15, -1)\n",
    "        ]\n",
    "    )\n",
    ")"
   ]
  },
  {
   "cell_type": "code",
   "execution_count": null,
   "id": "8ce36691-96dc-4944-b02d-db8ee8770fdc",
   "metadata": {},
   "outputs": [],
   "source": []
  },
  {
   "cell_type": "code",
   "execution_count": null,
   "id": "3a6d7d44-3216-494a-86ce-3ce32be4efe0",
   "metadata": {},
   "outputs": [],
   "source": [
    "from faker import Faker\n",
    "import pandas as pd\n",
    "\n",
    "n_people = 1000\n",
    "fake = Faker()\n",
    "fake_people = pd.DataFrame([fake.profile() for _ in range(n_people)])"
   ]
  },
  {
   "cell_type": "code",
   "execution_count": null,
   "id": "35187453",
   "metadata": {},
   "outputs": [],
   "source": [
    "# Show geek comics:\n",
    "import xkcd\n",
    "from imageio.v2 import imread\n",
    "from matplotlib import pyplot as plt\n",
    "\n",
    "link = xkcd.Comic(353).getImageLink()  # get image link from number\n",
    "plt.figure(figsize=(8, 8))\n",
    "plt.imshow(imread(link), cmap=\"gray\")  # plot image\n",
    "plt.show()"
   ]
  },
  {
   "cell_type": "code",
   "execution_count": null,
   "id": "371884b8-237a-4500-a0f6-f59d2dd2bbd7",
   "metadata": {},
   "outputs": [],
   "source": []
  },
  {
   "cell_type": "code",
   "execution_count": null,
   "id": "f1724334",
   "metadata": {},
   "outputs": [],
   "source": [
    "# example code:\n",
    "i = 0\n",
    "print"
   ]
  },
  {
   "cell_type": "code",
   "execution_count": null,
   "id": "5c006b4a",
   "metadata": {},
   "outputs": [],
   "source": []
  },
  {
   "cell_type": "code",
   "execution_count": null,
   "id": "42a3d759",
   "metadata": {},
   "outputs": [],
   "source": []
  }
 ],
 "metadata": {
  "celltoolbar": "Slideshow",
  "kernelspec": {
   "display_name": "Python 3 (ipykernel)",
   "language": "python",
   "name": "python3"
  },
  "language_info": {
   "codemirror_mode": {
    "name": "ipython",
    "version": 3
   },
   "file_extension": ".py",
   "mimetype": "text/x-python",
   "name": "python",
   "nbconvert_exporter": "python",
   "pygments_lexer": "ipython3"
  }
 },
 "nbformat": 4,
 "nbformat_minor": 5
}
