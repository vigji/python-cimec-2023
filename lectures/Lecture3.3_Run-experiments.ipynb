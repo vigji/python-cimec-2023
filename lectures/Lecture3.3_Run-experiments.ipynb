{
 "cells": [
  {
   "cell_type": "markdown",
   "id": "b03ee3a1",
   "metadata": {},
   "source": [
    "# Python for (open) Neuroscience\n",
    "\n",
    "_Lecture 3.3_ - Running experiments\n",
    "\n",
    "Luigi Petrucco\n",
    "\n",
    "Jean-Charles Mariani\n",
    "\n",
    "[![Open In Colab](https://colab.research.google.com/assets/colab-badge.svg)](https://colab.research.google.com/github/vigji/python-cimec/blob/main/lectures/Lecture3.3_Run-experiments.ipynb)"
   ]
  },
  {
   "cell_type": "markdown",
   "id": "7bdb8fd8",
   "metadata": {},
   "source": [
    "## Outline\n",
    "\n",
    " - The basics:\n",
    "     - timing\n",
    "     - APIs\n",
    " - Acquiring data:\n",
    "     - cameras\n",
    "     - Arduino\n",
    "     - Other devices\n",
    " - Generating stimuli:\n",
    "     - Psychopy"
   ]
  },
  {
   "cell_type": "markdown",
   "id": "18fb82c2",
   "metadata": {},
   "source": [
    "## The basics: the idea of a live application"
   ]
  },
  {
   "cell_type": "markdown",
   "id": "febf6df5",
   "metadata": {},
   "source": [
    "When we are analysing data, we have a script that just runs once (ideally, as fast as possible)."
   ]
  },
  {
   "cell_type": "markdown",
   "id": "9c8b5a70",
   "metadata": {},
   "source": [
    "For both acquiring data and control stimuli, we need a live application: something that keeps running until we shut it down or the experiment is finished"
   ]
  },
  {
   "cell_type": "markdown",
   "id": "ba7ce75c",
   "metadata": {},
   "source": [
    "### The event loop"
   ]
  },
  {
   "cell_type": "markdown",
   "id": "2f2f8de5",
   "metadata": {},
   "source": [
    "To keep the program running, often we define an <span style=\"color:indianred\">event loop</span>! Something that might look like:"
   ]
  },
  {
   "cell_type": "code",
   "execution_count": null,
   "id": "25f30338",
   "metadata": {},
   "outputs": [],
   "source": [
    "while True:\n",
    "    pass"
   ]
  },
  {
   "cell_type": "markdown",
   "id": "6773d6ac",
   "metadata": {},
   "source": [
    "### `time` in Python"
   ]
  },
  {
   "cell_type": "markdown",
   "id": "ee53d891",
   "metadata": {},
   "source": [
    "To control more precisely what happens in event loops we need tools to check timing of the application."
   ]
  },
  {
   "cell_type": "markdown",
   "id": "60de1fcb",
   "metadata": {},
   "source": [
    "The `time` module (from the standard library) offers such tools!"
   ]
  },
  {
   "cell_type": "code",
   "execution_count": null,
   "id": "e762676d",
   "metadata": {},
   "outputs": [],
   "source": [
    "import time\n",
    "time.time()  # returns a float, seconds since January 1, 1970, 00:00:00 (\"Unix epoch\")"
   ]
  },
  {
   "cell_type": "code",
   "execution_count": null,
   "id": "20a5c957",
   "metadata": {},
   "outputs": [],
   "source": [
    "TOTAL_TIME = 3\n",
    "\n",
    "print(\"Program starts\")\n",
    "start_time = time.time()  \n",
    "while time.time() - start_time < TOTAL_TIME:\n",
    "    pass\n",
    "\n",
    "print(\"Program ends\")"
   ]
  },
  {
   "cell_type": "markdown",
   "id": "e39c2459",
   "metadata": {},
   "source": [
    "Now we control time, but there's an undefined amount of iterations in our program:"
   ]
  },
  {
   "cell_type": "code",
   "execution_count": null,
   "id": "2c21c526",
   "metadata": {},
   "outputs": [],
   "source": [
    "TOTAL_TIME = 1\n",
    "N_REPS_TEST = 3\n",
    "\n",
    "for _ in range(N_REPS_TEST):\n",
    "    counter = 0\n",
    "    start_time = time.time() \n",
    "    \n",
    "    while time.time() - start_time < TOTAL_TIME:\n",
    "        counter += 1\n",
    "\n",
    "    print(f\"Program ends, after {counter} iterations (avg. {TOTAL_TIME*10**9/(counter+1)} ns/iteration)\")"
   ]
  },
  {
   "cell_type": "markdown",
   "id": "471927e1",
   "metadata": {},
   "source": [
    "The execution speed can fluctuate a lot. It depends on both the Python code we write and the availability of cpu resources!"
   ]
  },
  {
   "cell_type": "markdown",
   "id": "fee71eeb",
   "metadata": {},
   "source": [
    "We can control more precisely the loop event timing using `sleep` to pause the program in a controlled fashon:"
   ]
  },
  {
   "cell_type": "code",
   "execution_count": null,
   "id": "a55ac07e",
   "metadata": {},
   "outputs": [],
   "source": [
    "PAUSE_S = 0.001\n",
    "\n",
    "for _ in range(N_REPS_TEST):\n",
    "    counter = 0\n",
    "    start_time = time.time() \n",
    "    \n",
    "    while time.time() - start_time < TOTAL_TIME:\n",
    "        time.sleep(PAUSE_S)\n",
    "        counter += 1\n",
    "\n",
    "    print(f\"Program ends, after {counter} iterations (avg. {TOTAL_TIME*10**3/(counter+1)} ms/iteration)\")"
   ]
  },
  {
   "cell_type": "markdown",
   "id": "c2c5ec8a",
   "metadata": {},
   "source": [
    "Small time intervals with `sleep` are not crazy good! \n",
    " - OS dependent - should always be tested\n",
    " - reliable down to tens of ms, below more fluctuations expected\n",
    " - If you need sub-ms accuracy in your application maybe Python is not the way to go!"
   ]
  },
  {
   "cell_type": "markdown",
   "id": "3d284638",
   "metadata": {},
   "source": [
    "There are some tricks that can be used to control more tightly access to the cpu, resulting in better timing. \n",
    "\n",
    "E.g., `psychopy` `wait()` function:"
   ]
  },
  {
   "cell_type": "code",
   "execution_count": null,
   "id": "3826e8d1",
   "metadata": {},
   "outputs": [],
   "source": [
    "from psychopy import clock\n",
    "\n",
    "PAUSE_S = 0.001\n",
    "\n",
    "for _ in range(N_REPS_TEST):\n",
    "    counter = 0\n",
    "    start_time = time.time() \n",
    "    \n",
    "    while time.time() - start_time < TOTAL_TIME:\n",
    "        clock.wait(PAUSE_S)\n",
    "        counter += 1\n",
    "\n",
    "    print(f\"Program ends, after {counter} iterations (avg. {TOTAL_TIME*10**3/(counter+1)} ms/iteration)\")"
   ]
  },
  {
   "cell_type": "markdown",
   "id": "a41e5d5c",
   "metadata": {},
   "source": [
    "## Measure time"
   ]
  },
  {
   "cell_type": "markdown",
   "id": "6f74c5e6",
   "metadata": {},
   "source": [
    "We can also use `time()` to measure elapsed time (e.g., a reaction time):"
   ]
  },
  {
   "cell_type": "code",
   "execution_count": null,
   "id": "3545e43c",
   "metadata": {},
   "outputs": [],
   "source": [
    "time.sleep(1)  # pause 1 second before starting the task\n",
    "start = time.time()\n",
    "_ = input(\"Press enter!\")  # a new function to pass inputs to a script! \n",
    "end = time.time()\n",
    "print(f\"Reaction time: {end - start} s\") "
   ]
  },
  {
   "cell_type": "markdown",
   "id": "b11bfcfb",
   "metadata": {},
   "source": [
    "## The basics: APIs"
   ]
  },
  {
   "cell_type": "markdown",
   "id": "0d7fcd16",
   "metadata": {},
   "source": [
    "Many pieces of hardware come with their Python Application Programming Interface (API)."
   ]
  },
  {
   "cell_type": "markdown",
   "id": "dba78c5f",
   "metadata": {},
   "source": [
    "The API of a piece of harwardare is a package that we pip install and we can use to control the hardware"
   ]
  },
  {
   "cell_type": "markdown",
   "id": "7872024f",
   "metadata": {},
   "source": [
    "Usually an object-oriented interface! The piece of hardware is represented very naturally with an object."
   ]
  },
  {
   "cell_type": "markdown",
   "id": "e03e3028",
   "metadata": {},
   "source": [
    "## Acquiring data"
   ]
  },
  {
   "cell_type": "markdown",
   "id": "fc86a395",
   "metadata": {},
   "source": [
    "### Example: cameras"
   ]
  },
  {
   "cell_type": "code",
   "execution_count": null,
   "id": "754814ce",
   "metadata": {},
   "outputs": [],
   "source": [
    "# pip install python-opencv to use:\n",
    "import cv2\n",
    "from matplotlib import pyplot as plt\n",
    " \n",
    "# Instantiate a video capture object (camera):\n",
    "vid = cv2.VideoCapture(0)"
   ]
  },
  {
   "cell_type": "code",
   "execution_count": null,
   "id": "b8313542",
   "metadata": {},
   "outputs": [],
   "source": [
    "state, frame = vid.read()  # read method to capture frame"
   ]
  },
  {
   "cell_type": "code",
   "execution_count": null,
   "id": "104185af",
   "metadata": {},
   "outputs": [],
   "source": [
    "frame.shape"
   ]
  },
  {
   "cell_type": "code",
   "execution_count": null,
   "id": "513144fe",
   "metadata": {},
   "outputs": [],
   "source": [
    "plt.figure(figsize=(3, 3))\n",
    "plt.imshow(frame[:, :, [2,1,0]])  # Frame is BGR instead of RGB, swap colors to plot"
   ]
  },
  {
   "cell_type": "markdown",
   "id": "a57093b4",
   "metadata": {},
   "source": [
    "After we're done with a piece of hardware, it is always good to shut it off:"
   ]
  },
  {
   "cell_type": "code",
   "execution_count": null,
   "id": "7b221a42",
   "metadata": {},
   "outputs": [],
   "source": [
    "vid.release()  # close the camera reader and free to camera"
   ]
  },
  {
   "cell_type": "markdown",
   "id": "7b85acaa",
   "metadata": {},
   "source": [
    "Many cameras from many different vendors offer APIs!"
   ]
  },
  {
   "cell_type": "markdown",
   "id": "052f1183",
   "metadata": {},
   "source": [
    "(Practical 3.3.0)"
   ]
  },
  {
   "cell_type": "markdown",
   "id": "15c60e3c",
   "metadata": {},
   "source": [
    "## Something on electronics"
   ]
  },
  {
   "cell_type": "markdown",
   "id": "713a3771",
   "metadata": {},
   "source": [
    "We read data and control hardware mostly using:\n",
    " - digital signals\n",
    " - analog signals"
   ]
  },
  {
   "cell_type": "markdown",
   "id": "4422bc3f",
   "metadata": {},
   "source": [
    "### Analog signals\n",
    "\n",
    "A continuous voltage in a range (usually 0-5 V or 0-10 V) maps some continuous variable.\n",
    "\n",
    "Analog signals are acquired and generated by specialized hardware - your computer can't talk analog with any kind of device!\n",
    "\n",
    "That's part of the reason why we use Arduinos, NI boards, digitizers, etc."
   ]
  },
  {
   "cell_type": "markdown",
   "id": "a2e562c6",
   "metadata": {},
   "source": [
    "### Digital signals\n",
    "\n",
    "Discrete signals - ON or OFF (usually 0/3.3 V or 0/5 V, depending on the device)\n",
    "\n",
    "Much more robust to noise! Those are the signals that digital devices such as the computer use\n",
    "\n",
    "As fast as analog signals, but with very small bandwidth (two states, ON/OFF)"
   ]
  },
  {
   "cell_type": "markdown",
   "id": "0d79651f",
   "metadata": {},
   "source": [
    "### Serial communication\n",
    "\n",
    "Digital signals can be used to transmit bits of information through time!\n",
    "\n",
    "- This requires the sender and the receiver to agree on time (baud rate)\n"
   ]
  },
  {
   "cell_type": "code",
   "execution_count": null,
   "id": "1a48d2a8",
   "metadata": {},
   "outputs": [],
   "source": []
  },
  {
   "cell_type": "markdown",
   "id": "319c8c5e",
   "metadata": {},
   "source": [
    "# Arduino"
   ]
  },
  {
   "cell_type": "markdown",
   "id": "dee84cb8",
   "metadata": {},
   "source": [
    "- Open-source microcontroller\n",
    "- Has digital/analogic input and output channels"
   ]
  },
  {
   "cell_type": "markdown",
   "id": "ead83034",
   "metadata": {},
   "source": [
    "## What is an Arduino"
   ]
  },
  {
   "cell_type": "code",
   "execution_count": null,
   "id": "e90d2ee6",
   "metadata": {},
   "outputs": [],
   "source": []
  },
  {
   "cell_type": "markdown",
   "id": "503fdf67",
   "metadata": {},
   "source": [
    "### Arduino code"
   ]
  },
  {
   "cell_type": "markdown",
   "id": "16ddfdd2",
   "metadata": {},
   "source": [
    "### Serial communication"
   ]
  },
  {
   "cell_type": "markdown",
   "id": "3fac6d3b",
   "metadata": {},
   "source": [
    "### Firmata language"
   ]
  },
  {
   "cell_type": "code",
   "execution_count": null,
   "id": "04b0abd0",
   "metadata": {},
   "outputs": [],
   "source": []
  },
  {
   "cell_type": "markdown",
   "id": "83e7cfe7",
   "metadata": {},
   "source": [
    "## Acquiring digital and analogic signals"
   ]
  },
  {
   "cell_type": "markdown",
   "id": "ce28cc93",
   "metadata": {},
   "source": [
    "## Producing digital and analogic signals"
   ]
  },
  {
   "cell_type": "markdown",
   "id": "cb02634e",
   "metadata": {},
   "source": [
    "## Running experiments in Python"
   ]
  },
  {
   "cell_type": "markdown",
   "id": "a23e966a",
   "metadata": {},
   "source": [
    "**Pros**\n",
    "\n",
    "- Jack-of-all-trades: we need to remember only one language for experiments, preprocessing, stats, etc.\n",
    "- We can save and load data with the same libraries\n",
    "- Thousands of available libraries\n",
    "- Thousands of available APIs"
   ]
  },
  {
   "cell_type": "markdown",
   "id": "4a19bcb9",
   "metadata": {},
   "source": [
    "**Cons**\n",
    "\n",
    "- Execution time becomes unreliable at the ms/sub-ms scale (unless we use specialized hardware)\n",
    "- Concurrency issues"
   ]
  },
  {
   "cell_type": "code",
   "execution_count": null,
   "id": "c17d1a69",
   "metadata": {},
   "outputs": [],
   "source": []
  },
  {
   "cell_type": "markdown",
   "id": "a1c0b360",
   "metadata": {},
   "source": [
    "## Timing events"
   ]
  },
  {
   "cell_type": "code",
   "execution_count": null,
   "id": "38cd6ac7",
   "metadata": {},
   "outputs": [],
   "source": []
  },
  {
   "cell_type": "code",
   "execution_count": null,
   "id": "81085b84",
   "metadata": {},
   "outputs": [],
   "source": []
  },
  {
   "cell_type": "markdown",
   "id": "1c162cd2",
   "metadata": {},
   "source": [
    "# Saving sata"
   ]
  },
  {
   "cell_type": "code",
   "execution_count": null,
   "id": "060c5f74",
   "metadata": {},
   "outputs": [],
   "source": []
  },
  {
   "cell_type": "code",
   "execution_count": null,
   "id": "4f275f52",
   "metadata": {},
   "outputs": [],
   "source": []
  }
 ],
 "metadata": {
  "celltoolbar": "Slideshow",
  "kernelspec": {
   "display_name": "Python [conda env:course_env]",
   "language": "python",
   "name": "conda-env-course_env-py"
  },
  "language_info": {
   "codemirror_mode": {
    "name": "ipython",
    "version": 3
   },
   "file_extension": ".py",
   "mimetype": "text/x-python",
   "name": "python",
   "nbconvert_exporter": "python",
   "pygments_lexer": "ipython3"
  }
 },
 "nbformat": 4,
 "nbformat_minor": 5
}
