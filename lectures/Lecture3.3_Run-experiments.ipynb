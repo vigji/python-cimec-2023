{
 "cells": [
  {
   "cell_type": "markdown",
   "id": "67ee2cb1",
   "metadata": {},
   "source": [
    "# Python for (open) Neuroscience\n",
    "\n",
    "_Lecture 3.3_ - Running experiments\n",
    "\n",
    "Luigi Petrucco\n",
    "\n",
    "Jean-Charles Mariani\n",
    "\n",
    "[![Open In Colab](https://colab.research.google.com/assets/colab-badge.svg)](https://colab.research.google.com/github/vigji/python-cimec/blob/main/lectures/Lecture3.3_Run-experiments.ipynb)"
   ]
  },
  {
   "cell_type": "markdown",
   "id": "aba51080",
   "metadata": {},
   "source": [
    "## Outline\n",
    "\n",
    " - The basics:\n",
    "     - timing\n",
    "     - APIs\n",
    " - Acquiring data:\n",
    "     - cameras\n",
    "     - Arduino\n",
    "     - Other devices\n",
    " - Generating stimuli:\n",
    "     - Psychopy"
   ]
  },
  {
   "cell_type": "markdown",
   "id": "3c2c4712",
   "metadata": {},
   "source": [
    "## The basics: live applications"
   ]
  },
  {
   "cell_type": "markdown",
   "id": "9a76a3d7",
   "metadata": {},
   "source": [
    "When we are analysing data, we have a script that just runs once (ideally, as fast as possible)."
   ]
  },
  {
   "cell_type": "markdown",
   "id": "5d1f2efe",
   "metadata": {},
   "source": [
    "For both acquiring data and control stimuli, we need a live application: something that keeps running until we shut it down or the experiment is finished"
   ]
  },
  {
   "cell_type": "markdown",
   "id": "3a2c7010",
   "metadata": {},
   "source": [
    "### The event loop"
   ]
  },
  {
   "cell_type": "markdown",
   "id": "a14f62f8",
   "metadata": {},
   "source": [
    "To keep the program running, often we define an <span style=\"color:indianred\">event loop</span>! Something that might look like:"
   ]
  },
  {
   "cell_type": "code",
   "execution_count": null,
   "id": "822630cd",
   "metadata": {},
   "outputs": [],
   "source": [
    "while True:\n",
    "    pass"
   ]
  },
  {
   "cell_type": "markdown",
   "id": "351785e7",
   "metadata": {},
   "source": [
    "### `time` in Python"
   ]
  },
  {
   "cell_type": "markdown",
   "id": "f5ce43ac",
   "metadata": {},
   "source": [
    "To control more precisely what happens in event loops we need tools to check timing of the application."
   ]
  },
  {
   "cell_type": "markdown",
   "id": "24b98418",
   "metadata": {},
   "source": [
    "The `time` module (from the standard library) offers such tools!"
   ]
  },
  {
   "cell_type": "code",
   "execution_count": null,
   "id": "d37cdc39",
   "metadata": {},
   "outputs": [],
   "source": [
    "import time\n",
    "time.time()  # returns a float, seconds since January 1, 1970, 00:00:00 (\"Unix epoch\")"
   ]
  },
  {
   "cell_type": "code",
   "execution_count": null,
   "id": "7f74e0c5",
   "metadata": {},
   "outputs": [],
   "source": [
    "TOTAL_TIME = 3\n",
    "\n",
    "print(\"Program starts\")\n",
    "start_time = time.time()  \n",
    "while time.time() - start_time < TOTAL_TIME:\n",
    "    pass\n",
    "\n",
    "print(\"Program ends\")"
   ]
  },
  {
   "cell_type": "markdown",
   "id": "7a275a0e",
   "metadata": {},
   "source": [
    "Now we control time, but there's an undefined amount of iterations in our program:"
   ]
  },
  {
   "cell_type": "code",
   "execution_count": null,
   "id": "010a85b0",
   "metadata": {},
   "outputs": [],
   "source": [
    "TOTAL_TIME = 1\n",
    "N_REPS_TEST = 3\n",
    "\n",
    "for _ in range(N_REPS_TEST):\n",
    "    counter = 0\n",
    "    start_time = time.time() \n",
    "    \n",
    "    while time.time() - start_time < TOTAL_TIME:\n",
    "        counter += 1\n",
    "\n",
    "    print(f\"Program ends, after {counter} iterations (avg. {TOTAL_TIME*10**9/(counter+1)} ns/iteration)\")"
   ]
  },
  {
   "cell_type": "markdown",
   "id": "76162200",
   "metadata": {},
   "source": [
    "The execution speed can fluctuate a lot. It depends on both the Python code we write and the availability of cpu resources!"
   ]
  },
  {
   "cell_type": "markdown",
   "id": "78b4636d",
   "metadata": {},
   "source": [
    "We can control more precisely the loop event timing using `sleep` to pause the program in a controlled fashon:"
   ]
  },
  {
   "cell_type": "code",
   "execution_count": null,
   "id": "feb18282",
   "metadata": {},
   "outputs": [],
   "source": [
    "PAUSE_S = 0.001\n",
    "\n",
    "for _ in range(N_REPS_TEST):\n",
    "    counter = 0\n",
    "    start_time = time.time() \n",
    "    \n",
    "    while time.time() - start_time < TOTAL_TIME:\n",
    "        time.sleep(PAUSE_S)\n",
    "        counter += 1\n",
    "\n",
    "    print(f\"Program ends, after {counter} iterations (avg. {TOTAL_TIME*10**3/(counter+1)} ms/iteration)\")"
   ]
  },
  {
   "cell_type": "markdown",
   "id": "b448856e",
   "metadata": {},
   "source": [
    "Small time intervals with `sleep` are not crazy good! \n",
    " - OS dependent - should always be tested\n",
    " - reliable down to tens of ms, below more fluctuations expected\n",
    " - If you need sub-ms accuracy in your application maybe Python is not the way to go!"
   ]
  },
  {
   "cell_type": "markdown",
   "id": "5d2b0a1c",
   "metadata": {},
   "source": [
    "There are some tricks that can be used to control more tightly access to the cpu, resulting in better timing. \n",
    "\n",
    "E.g., `psychopy` `wait()` function:"
   ]
  },
  {
   "cell_type": "code",
   "execution_count": null,
   "id": "c7a3f6f1",
   "metadata": {},
   "outputs": [],
   "source": [
    "from psychopy import clock\n",
    "\n",
    "PAUSE_S = 0.001\n",
    "\n",
    "for _ in range(N_REPS_TEST):\n",
    "    counter = 0\n",
    "    start_time = time.time() \n",
    "    \n",
    "    while time.time() - start_time < TOTAL_TIME:\n",
    "        clock.wait(PAUSE_S)\n",
    "        counter += 1\n",
    "\n",
    "    print(f\"Program ends, after {counter} iterations (avg. {TOTAL_TIME*10**3/(counter+1)} ms/iteration)\")"
   ]
  },
  {
   "cell_type": "markdown",
   "id": "cefc0d03",
   "metadata": {},
   "source": [
    "## Measure time"
   ]
  },
  {
   "cell_type": "markdown",
   "id": "ac12d6b5",
   "metadata": {},
   "source": [
    "We can also use `time()` to measure elapsed time (e.g., a reaction time):"
   ]
  },
  {
   "cell_type": "code",
   "execution_count": null,
   "id": "7d8966ad",
   "metadata": {},
   "outputs": [],
   "source": [
    "time.sleep(1)  # pause 1 second before starting the task\n",
    "start = time.time()\n",
    "_ = input(\"Press enter!\")  # a new function to pass inputs to a script! \n",
    "end = time.time()\n",
    "print(f\"Reaction time: {end - start} s\") "
   ]
  },
  {
   "cell_type": "markdown",
   "id": "d094499a",
   "metadata": {},
   "source": [
    "### The single flow issue"
   ]
  },
  {
   "cell_type": "markdown",
   "id": "4459d719",
   "metadata": {},
   "source": [
    "Note that in Python we give instructions one by one to the interpreter. This can be a problem for handling multiple event streams!"
   ]
  },
  {
   "cell_type": "markdown",
   "id": "c569dc95",
   "metadata": {},
   "source": [
    "Imagine you are showing a stimulus changing every second and you want to acquire an input from the user. \n",
    "\n",
    "In general, you have two options"
   ]
  },
  {
   "cell_type": "markdown",
   "id": "9e5c8c61",
   "metadata": {},
   "source": [
    "- 1. Handle the concurrency with timeouts"
   ]
  },
  {
   "cell_type": "code",
   "execution_count": null,
   "id": "ee89f688",
   "metadata": {},
   "outputs": [],
   "source": [
    "# Pseudocode for concurrency with timeouts:\n",
    "\n",
    "while timer() < experiment_duration:\n",
    "    user_input = read_input(timeout=0.005)\n",
    "    update_stimulus()"
   ]
  },
  {
   "cell_type": "markdown",
   "id": "97c9aa23",
   "metadata": {},
   "source": [
    "Stimuli on a screen are usually refreshed every approx. 16 ms, so there's plenty of time to do other things between frames!"
   ]
  },
  {
   "cell_type": "markdown",
   "id": "9ea18720",
   "metadata": {},
   "source": [
    "- Start using multi-threading (to have different tasks running in parallel)"
   ]
  },
  {
   "cell_type": "code",
   "execution_count": null,
   "id": "34eae44b",
   "metadata": {},
   "outputs": [],
   "source": [
    "# Pseudocode for multi-threading - in reality is more painful!\n",
    "class UserReader:\n",
    "    # Code to read user input\n",
    "    pass\n",
    "\n",
    "class StimulusUpdater:\n",
    "    # Code to update stimulus\n",
    "    pass\n",
    "    \n",
    "reader, updater = UserReader(), StimulusUpdater()\n",
    "\n",
    "reader.start()\n",
    "updater.start()\n",
    "...\n",
    "reader.stop()\n",
    "updater.stop()"
   ]
  },
  {
   "cell_type": "markdown",
   "id": "2e4e6e32",
   "metadata": {},
   "source": [
    "## The basics: APIs"
   ]
  },
  {
   "cell_type": "markdown",
   "id": "b243318d",
   "metadata": {},
   "source": [
    "Many pieces of hardware come with their Python <span style=\"color:indianred\">Application Programming Interface (API)</span>."
   ]
  },
  {
   "cell_type": "markdown",
   "id": "9caffe24",
   "metadata": {},
   "source": [
    "The API of a piece of harwardare is a package that we `pip install` and we can use to control the hardware."
   ]
  },
  {
   "cell_type": "markdown",
   "id": "da011904",
   "metadata": {},
   "source": [
    "Usually object-oriented! The hardware object is represented very neatly with a virtual object."
   ]
  },
  {
   "cell_type": "markdown",
   "id": "bb401e2b",
   "metadata": {},
   "source": [
    "## Acquiring data"
   ]
  },
  {
   "cell_type": "markdown",
   "id": "8aaa96cb",
   "metadata": {},
   "source": [
    "### Example: cameras"
   ]
  },
  {
   "cell_type": "code",
   "execution_count": null,
   "id": "3fbff4d1",
   "metadata": {},
   "outputs": [],
   "source": [
    "# pip install python-opencv to use cv2:\n",
    "import cv2\n",
    "from matplotlib import pyplot as plt\n",
    " \n",
    "# Instantiate a video capture object (camera):\n",
    "vid = cv2.VideoCapture(0)"
   ]
  },
  {
   "cell_type": "code",
   "execution_count": null,
   "id": "e40b9088",
   "metadata": {},
   "outputs": [],
   "source": [
    "state, frame = vid.read()  # read method to capture frame"
   ]
  },
  {
   "cell_type": "code",
   "execution_count": null,
   "id": "ecfa4b4c",
   "metadata": {},
   "outputs": [],
   "source": [
    "frame.shape"
   ]
  },
  {
   "cell_type": "code",
   "execution_count": null,
   "id": "ce8cc273",
   "metadata": {},
   "outputs": [],
   "source": [
    "plt.figure(figsize=(3, 3))\n",
    "plt.imshow(frame[:, :, [2,1,0]])  # Frame is BGR instead of RGB, swap colors to plot"
   ]
  },
  {
   "cell_type": "markdown",
   "id": "00facb8c",
   "metadata": {},
   "source": [
    "After we're done with a piece of hardware, it is always good to shut it off:"
   ]
  },
  {
   "cell_type": "code",
   "execution_count": null,
   "id": "9e74fc5f",
   "metadata": {},
   "outputs": [],
   "source": [
    "vid.release()  # close the camera reader and free to camera"
   ]
  },
  {
   "cell_type": "markdown",
   "id": "7a1c2267",
   "metadata": {},
   "source": [
    "Many cameras from many different vendors offer APIs!"
   ]
  },
  {
   "cell_type": "markdown",
   "id": "7df8d49e",
   "metadata": {},
   "source": [
    "(Practical 3.3.0)"
   ]
  },
  {
   "cell_type": "markdown",
   "id": "7db65eda",
   "metadata": {},
   "source": [
    "## Something on electronics"
   ]
  },
  {
   "cell_type": "markdown",
   "id": "21048642",
   "metadata": {},
   "source": [
    "We read data and control hardware mostly using:\n",
    " - digital signals\n",
    " - analog signals"
   ]
  },
  {
   "cell_type": "markdown",
   "id": "422b2be8",
   "metadata": {},
   "source": [
    "### Analog signals"
   ]
  },
  {
   "cell_type": "markdown",
   "id": "a6645575",
   "metadata": {},
   "source": [
    "A continuous voltage in a range (usually 0-5 V or 0-10 V) maps some continuous variable.\n",
    "\n",
    "Analog signals are acquired and generated by specialized hardware - your computer can't talk analog with any kind of device!\n",
    "\n",
    "That's part of the reason why we use Arduinos, NI boards, digitizers, etc."
   ]
  },
  {
   "cell_type": "markdown",
   "id": "e16b87ff",
   "metadata": {},
   "source": [
    "Many recording devices produce analog signals (e.g., microphones), but then such signals have to be digitized. This requires chunking in time and approximation in the resolution."
   ]
  },
  {
   "cell_type": "markdown",
   "id": "18d9e6ea",
   "metadata": {},
   "source": [
    "### Digital signals"
   ]
  },
  {
   "cell_type": "markdown",
   "id": "4e8472b4",
   "metadata": {},
   "source": [
    "Discrete signals - ON or OFF (usually 0/3.3 V or 0/5 V, depending on the device)\n",
    "\n",
    "Much more robust to noise! Those are the signals that digital devices such as the computer use\n",
    "\n",
    "As fast as analog signals, but with very small bandwidth (two states, ON/OFF)"
   ]
  },
  {
   "cell_type": "markdown",
   "id": "c5b3159b",
   "metadata": {},
   "source": [
    "### Serial communication"
   ]
  },
  {
   "cell_type": "markdown",
   "id": "1c8b3713",
   "metadata": {},
   "source": [
    "Digital signals can be used to transmit bits of information through time!\n",
    "\n",
    "- This requires the sender and the receiver to agree on time (baud rate)\n",
    "- Reasonable bandwidth and resistend to noise\n",
    "\n",
    "All devices we connect to the computer are <span style=\"color:indianred\">serial devices</span> (USB: Universal Serial Bus)\n"
   ]
  },
  {
   "cell_type": "markdown",
   "id": "60d966f5",
   "metadata": {},
   "source": [
    "### Communication with serial devices"
   ]
  },
  {
   "cell_type": "markdown",
   "id": "ab16f90a",
   "metadata": {},
   "source": [
    "The python `Serial` library gives us a way to speak with digital devices"
   ]
  },
  {
   "cell_type": "code",
   "execution_count": null,
   "id": "5263a5b7",
   "metadata": {},
   "outputs": [],
   "source": [
    "import serial\n",
    "\n",
    "port = serial.Serial('COM3', baudrate=9600) # Configure the serial port creating an object\n",
    "\n",
    "# Send data to the device:\n",
    "command = b'dosomething\\n'\n",
    "port.write(command)\n",
    "\n",
    "# Read response from the device:\n",
    "response = port.readline()\n",
    "\n",
    "port.close()  # Always shut down communication with a device"
   ]
  },
  {
   "cell_type": "markdown",
   "id": "e52ae3dd",
   "metadata": {},
   "source": [
    "# Arduino"
   ]
  },
  {
   "cell_type": "markdown",
   "id": "7b1288c3",
   "metadata": {},
   "source": [
    "- Open-source microcontroller\n",
    "- Digital/analogic input and output channels\n",
    "- We can use it just as an interface to deal with those signals...\n",
    "- ...or as a controller if we need very precise timing"
   ]
  },
  {
   "cell_type": "markdown",
   "id": "4e8c07d4",
   "metadata": {},
   "source": [
    "### Interfacing hardware"
   ]
  },
  {
   "cell_type": "markdown",
   "id": "58485bc3",
   "metadata": {},
   "source": [
    "Arduino is a great interface for hardware..."
   ]
  },
  {
   "cell_type": "markdown",
   "id": "e583230f",
   "metadata": {},
   "source": [
    "...reading sensors of any kind:\n",
    "- light (eg photodiode)\n",
    "- temperature\n",
    "- pressure\n",
    "- conductance\n",
    "- ..."
   ]
  },
  {
   "cell_type": "markdown",
   "id": "2e0b793c",
   "metadata": {},
   "source": [
    "...and controlling hardware:\n",
    "- LEDs\n",
    "- motors / actuators\n",
    "- valves\n",
    "- resistances \n",
    "- buzzers (sounds)\n",
    "- ..."
   ]
  },
  {
   "cell_type": "markdown",
   "id": "8da66a57",
   "metadata": {},
   "source": [
    "### Arduino code"
   ]
  },
  {
   "cell_type": "markdown",
   "id": "e039d447",
   "metadata": {},
   "source": [
    "The arduino processor is constantly executing some C code that we load on the board. \n",
    "\n",
    "Arduino has its own event loop!"
   ]
  },
  {
   "cell_type": "markdown",
   "id": "f3f81891",
   "metadata": {},
   "source": [
    "```C\n",
    "void setup() {\n",
    "  pinMode(13, INPUT);  // configure pin 13 to be an input\n",
    "  Serial.begin(9600);  // configure serial port baud rate to match the computer's\n",
    "}\n",
    "\n",
    "void loop() {  // The code inside here runs continuously\n",
    "  int value = analogRead(pin);  // read the state of the port (0/1)\n",
    "  Serial.println(value);  // print value on the serial port\n",
    "  delay(100);  // wait 100 ms\n",
    "}\n",
    "```"
   ]
  },
  {
   "cell_type": "markdown",
   "id": "d56f45bc",
   "metadata": {},
   "source": [
    "## Firmata library"
   ]
  },
  {
   "cell_type": "markdown",
   "id": "c35b53fe",
   "metadata": {},
   "source": [
    "If we do not care about controlling things from the Arduino, we can load on the Arduino some default code called Firmata. In this way, we can directly write and read the Arduino pins from Python with the `pyfirmata` library:"
   ]
  },
  {
   "cell_type": "code",
   "execution_count": null,
   "id": "bbf1c7d7",
   "metadata": {},
   "outputs": [],
   "source": [
    "from pyfirmata import Arduino, util\n",
    "\n",
    "board = Arduino('COM3')  # create the board object\n",
    "\n",
    "# Configure the pin:\n",
    "pin = board.get_pin('d:2:i')  # a pin object representing the second pin in input mode\n",
    "\n",
    "# Read and print the pin state\n",
    "print(\"Pin state:\", pin.read())\n",
    "\n",
    "board.exit()  # Close the connection"
   ]
  },
  {
   "cell_type": "markdown",
   "id": "02f0ea69",
   "metadata": {},
   "source": [
    "### Other boards\n",
    "\n",
    "There are many other boards we can use for handling digital and analog signals, eg:\n",
    "- National Instruments boards\n",
    "- Labjack boards\n",
    "\n",
    "They come with higher prices and higher performances compared to Arduino!"
   ]
  },
  {
   "cell_type": "markdown",
   "id": "b949b1b0",
   "metadata": {},
   "source": [
    "- Raspberry py\n",
    "\n",
    "Basically a minicomputer - runs Python!"
   ]
  },
  {
   "cell_type": "markdown",
   "id": "c5780411",
   "metadata": {},
   "source": [
    "## Controlling stimuli"
   ]
  },
  {
   "cell_type": "markdown",
   "id": "8dc3287c",
   "metadata": {},
   "source": [
    "Many times we need to control stimuli to present to the experimental subject:"
   ]
  },
  {
   "cell_type": "markdown",
   "id": "4ecba8ce",
   "metadata": {},
   "source": [
    "- visual\n",
    "- auditory\n",
    "- mechanical\n",
    "- ..."
   ]
  },
  {
   "cell_type": "markdown",
   "id": "4597aa3e",
   "metadata": {},
   "source": [
    "### The `psychopy` library"
   ]
  },
  {
   "cell_type": "markdown",
   "id": "0eaf88c8",
   "metadata": {},
   "source": [
    "For many kind of stimuli, exp. visual and auditory, we can use the `psychopy` library!\n",
    "\n",
    "(It also comes with a GUI - we won't be covering the GUI here though)"
   ]
  },
  {
   "cell_type": "markdown",
   "id": "0777b9d6",
   "metadata": {},
   "source": [
    "In `psychopy` there's many modules!\n",
    " - any sort of visual stimulus\n",
    " - sound card control for sound stimuli\n",
    " - timers and clocks\n",
    " - logs, for data saving\n",
    " - inputs from mouse and keyboard\n",
    " - input from cameras\n",
    " - input from external hardware (EEG, eye tracking...)\n",
    " - ..."
   ]
  },
  {
   "cell_type": "markdown",
   "id": "270f3593",
   "metadata": {},
   "source": [
    "### Running `psychopy` scripts"
   ]
  },
  {
   "cell_type": "markdown",
   "id": "14253668",
   "metadata": {},
   "source": [
    "`psychopy` experiments are encoded in scripts that import code from the `psychopy` library."
   ]
  },
  {
   "cell_type": "markdown",
   "id": "a012fc34",
   "metadata": {},
   "source": [
    "Note that the `psychopy` GUI runs it's own Python (yes, yet another Python on your computer!)"
   ]
  },
  {
   "cell_type": "markdown",
   "id": "8fd4607d",
   "metadata": {},
   "source": [
    "## Data saving"
   ]
  },
  {
   "cell_type": "markdown",
   "id": "c05511a9",
   "metadata": {},
   "source": [
    "Keep track of as many data as possible using code!\n",
    "- You can enforce the required inputs\n",
    "- You're guaranteed consistent formatting"
   ]
  },
  {
   "cell_type": "code",
   "execution_count": null,
   "id": "a0653afd",
   "metadata": {},
   "outputs": [],
   "source": []
  },
  {
   "cell_type": "code",
   "execution_count": null,
   "id": "5766465c",
   "metadata": {},
   "outputs": [],
   "source": []
  },
  {
   "cell_type": "markdown",
   "id": "c0111f61",
   "metadata": {},
   "source": [
    "## Wrapup: running experiments in Python"
   ]
  },
  {
   "cell_type": "markdown",
   "id": "7f6d24bd",
   "metadata": {},
   "source": [
    "**Pros**\n",
    "\n",
    "- Jack-of-all-trades: we need to remember only one language for experiments, preprocessing, stats, etc.\n",
    "- We can save and load data with the same libraries\n",
    "- Thousands of available libraries\n",
    "- Thousands of available APIs"
   ]
  },
  {
   "cell_type": "markdown",
   "id": "73ae7036",
   "metadata": {},
   "source": [
    "**Cons**\n",
    "\n",
    "- Execution time becomes unreliable at the ms/sub-ms scale (unless we use specialized hardware)\n",
    "- Concurrency issues"
   ]
  },
  {
   "cell_type": "markdown",
   "id": "0ef720e2",
   "metadata": {},
   "source": [
    "(Practical 3.3.1)"
   ]
  },
  {
   "cell_type": "code",
   "execution_count": null,
   "id": "af288ccc",
   "metadata": {},
   "outputs": [],
   "source": []
  }
 ],
 "metadata": {
  "celltoolbar": "Slideshow",
  "kernelspec": {
   "display_name": "Python [conda env:course_env]",
   "language": "python",
   "name": "conda-env-course_env-py"
  },
  "language_info": {
   "codemirror_mode": {
    "name": "ipython",
    "version": 3
   },
   "file_extension": ".py",
   "mimetype": "text/x-python",
   "name": "python",
   "nbconvert_exporter": "python",
   "pygments_lexer": "ipython3"
  }
 },
 "nbformat": 4,
 "nbformat_minor": 5
}
