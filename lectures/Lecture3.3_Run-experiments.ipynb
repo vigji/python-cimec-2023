{
 "cells": [
  {
   "cell_type": "markdown",
   "id": "592546d4",
   "metadata": {},
   "source": [
    "# Python for (open) Neuroscience\n",
    "\n",
    "_Lecture 3.3_ - Running experiments\n",
    "\n",
    "Luigi Petrucco\n",
    "\n",
    "Jean-Charles Mariani\n",
    "\n",
    "[![Open In Colab](https://colab.research.google.com/assets/colab-badge.svg)](https://colab.research.google.com/github/vigji/python-cimec/blob/main/lectures/Lecture3.3_Run-experiments.ipynb)"
   ]
  },
  {
   "cell_type": "markdown",
   "id": "5a9ce3e4",
   "metadata": {},
   "source": [
    "## Outline\n",
    "\n",
    " - The basics:\n",
    "     - live applications\n",
    "     - timing\n",
    "     - APIs\n",
    " - Interacting with hardware:\n",
    "     - cameras\n",
    "     - Arduino\n",
    " - Generating stimuli and experimental sequences:\n",
    "     - `psychopy`"
   ]
  },
  {
   "cell_type": "markdown",
   "id": "b80282ef",
   "metadata": {},
   "source": [
    "## The basics: live applications"
   ]
  },
  {
   "cell_type": "markdown",
   "id": "77e08997",
   "metadata": {},
   "source": [
    "When we are analysing data, we have a script that just runs once (ideally, as fast as possible)."
   ]
  },
  {
   "cell_type": "markdown",
   "id": "37be22bc",
   "metadata": {},
   "source": [
    "For both acquiring data and control stimuli, we need a live application: something that keeps running until we shut it down or the experiment is finished"
   ]
  },
  {
   "cell_type": "markdown",
   "id": "efdb0cbf",
   "metadata": {},
   "source": [
    "### The event loop"
   ]
  },
  {
   "cell_type": "markdown",
   "id": "045f4b4f",
   "metadata": {},
   "source": [
    "To keep the program running, often we define an <span style=\"color:indianred\">event loop</span>! Something that might look like:"
   ]
  },
  {
   "cell_type": "code",
   "execution_count": null,
   "id": "f0879a70",
   "metadata": {},
   "outputs": [],
   "source": [
    "while True:  # a minimal event loop that keeps a program online\n",
    "    pass"
   ]
  },
  {
   "cell_type": "markdown",
   "id": "a40bb520",
   "metadata": {},
   "source": [
    "### `time` in Python"
   ]
  },
  {
   "cell_type": "markdown",
   "id": "59d699b3",
   "metadata": {},
   "source": [
    "To control more precisely what happens in event loops we need tools to check timing of the application."
   ]
  },
  {
   "cell_type": "markdown",
   "id": "28452456",
   "metadata": {},
   "source": [
    "The `time` module (from the standard library) offers such tools!"
   ]
  },
  {
   "cell_type": "code",
   "execution_count": null,
   "id": "10c9bb0d",
   "metadata": {},
   "outputs": [],
   "source": [
    "import time\n",
    "time.time()  # returns a float, seconds since January 1, 1970, 00:00:00 (\"Unix epoch\")"
   ]
  },
  {
   "cell_type": "code",
   "execution_count": null,
   "id": "20098231",
   "metadata": {},
   "outputs": [],
   "source": [
    "TOTAL_TIME = 3\n",
    "\n",
    "print(\"Program starts\")\n",
    "start_time = time.time()  \n",
    "while time.time() - start_time < TOTAL_TIME:\n",
    "    pass\n",
    "\n",
    "print(\"Program ends\")"
   ]
  },
  {
   "cell_type": "markdown",
   "id": "d8ac72fb",
   "metadata": {},
   "source": [
    "Now we control time, but there's an undefined amount of iterations in our program:"
   ]
  },
  {
   "cell_type": "code",
   "execution_count": null,
   "id": "2ef145d1",
   "metadata": {},
   "outputs": [],
   "source": [
    "TOTAL_TIME = 1\n",
    "N_REPS_TEST = 5\n",
    "\n",
    "for _ in range(N_REPS_TEST):\n",
    "    counter = 0\n",
    "    start_time = time.time() \n",
    "    \n",
    "    while time.time() - start_time < TOTAL_TIME:\n",
    "        counter += 1\n",
    "\n",
    "    print(f\"Program ends, after {counter} iterations (avg. {TOTAL_TIME*10**9/(counter+1)} ns/iteration)\")"
   ]
  },
  {
   "cell_type": "markdown",
   "id": "c5ec8255",
   "metadata": {},
   "source": [
    "The execution speed can fluctuate a lot. It depends on both the Python code we write and the availability of cpu resources!"
   ]
  },
  {
   "cell_type": "markdown",
   "id": "f3cfc2b3",
   "metadata": {},
   "source": [
    "We can control more precisely the loop event timing using `sleep` to pause the program in a controlled fashon:"
   ]
  },
  {
   "cell_type": "code",
   "execution_count": null,
   "id": "b4e31bca",
   "metadata": {},
   "outputs": [],
   "source": [
    "PAUSE_S = 0.001\n",
    "\n",
    "for _ in range(N_REPS_TEST):\n",
    "    counter = 0\n",
    "    start_time = time.time() \n",
    "    \n",
    "    while time.time() - start_time < TOTAL_TIME:\n",
    "        time.sleep(PAUSE_S)\n",
    "        counter += 1\n",
    "\n",
    "    print(f\"Program ends, after {counter} iterations \\\n",
    "            (avg. {TOTAL_TIME*10**3/(counter+1)} ms/iteration)\")"
   ]
  },
  {
   "cell_type": "markdown",
   "id": "1b46d488",
   "metadata": {},
   "source": [
    "Small time intervals with `sleep` are not crazy good! \n",
    " - OS dependent - should always be tested\n",
    " - reliable down to tens of ms, below more fluctuations expected\n",
    " - If you need sub-ms accuracy in your application maybe Python is not the way to go!"
   ]
  },
  {
   "cell_type": "markdown",
   "id": "6c53056c",
   "metadata": {},
   "source": [
    "There are some hardcore tricks that can be used to control more tightly access to the cpu, resulting in better timing. \n",
    "\n",
    "E.g., `psychopy` `wait()` function implements them!"
   ]
  },
  {
   "cell_type": "code",
   "execution_count": null,
   "id": "1cf43579",
   "metadata": {},
   "outputs": [],
   "source": [
    "from psychopy.core import wait, getTime\n",
    "\n",
    "PAUSE_S = 0.001\n",
    "\n",
    "for _ in range(N_REPS_TEST):\n",
    "    counter = 0\n",
    "    start_time = getTime()\n",
    "    while getTime() - start_time < TOTAL_TIME:\n",
    "        wait(PAUSE_S)\n",
    "        counter += 1\n",
    "\n",
    "    print(f\"Program ends, after {counter} iterations (avg. {TOTAL_TIME*10**3/(counter+1)} ms/iteration)\")"
   ]
  },
  {
   "cell_type": "markdown",
   "id": "cacb783c",
   "metadata": {},
   "source": [
    "## Measure time"
   ]
  },
  {
   "cell_type": "markdown",
   "id": "abfc720e",
   "metadata": {},
   "source": [
    "We can also use `time()` to measure elapsed time (e.g., a reaction time):"
   ]
  },
  {
   "cell_type": "code",
   "execution_count": null,
   "id": "690e2dee",
   "metadata": {},
   "outputs": [],
   "source": [
    "time.sleep(1)  # pause 1 second before starting the task\n",
    "start = time.time()\n",
    "_ = input(\"Press enter!\")  # a new function to pass inputs to a script! \n",
    "end = time.time()\n",
    "print(f\"Reaction time: {end - start} s\") "
   ]
  },
  {
   "cell_type": "markdown",
   "id": "8a074265",
   "metadata": {},
   "source": [
    "### The single thread issue"
   ]
  },
  {
   "cell_type": "markdown",
   "id": "3814432e",
   "metadata": {},
   "source": [
    "Note that in Python we give instructions one by one to the interpreter. This can be a problem for handling multiple event streams!"
   ]
  },
  {
   "cell_type": "markdown",
   "id": "f1a01e45",
   "metadata": {},
   "source": [
    "Imagine you are showing a stimulus changing constantly and you want to acquire an input from the user. You want to simultaneously run the code lines that wait for the user input, and the code lines that wait for the input.\n",
    "\n",
    "In general, you have two options:"
   ]
  },
  {
   "cell_type": "markdown",
   "id": "99b50e85",
   "metadata": {},
   "source": [
    " 1. Handle the concurrency with timeouts"
   ]
  },
  {
   "cell_type": "markdown",
   "id": "a8d5c818",
   "metadata": {},
   "source": [
    " 2. Start using multi-threading (to have different tasks running in parallel)"
   ]
  },
  {
   "cell_type": "markdown",
   "id": "c8c4f177",
   "metadata": {},
   "source": [
    "### Timeouts"
   ]
  },
  {
   "cell_type": "code",
   "execution_count": null,
   "id": "35e1dc42",
   "metadata": {},
   "outputs": [],
   "source": [
    "# Pseudocode for concurrency with timeouts:\n",
    "\n",
    "while timer() < experiment_duration:\n",
    "    user_input = read_input(timeout=0.005)\n",
    "    update_stimulus()"
   ]
  },
  {
   "cell_type": "markdown",
   "id": "2c286e52",
   "metadata": {},
   "source": [
    "Stimuli on a screen are usually refreshed every approx. 16 ms, so there's plenty of time to do other things between frames!"
   ]
  },
  {
   "cell_type": "markdown",
   "id": "df0f9dcd",
   "metadata": {},
   "source": [
    "### Multi-threading"
   ]
  },
  {
   "cell_type": "code",
   "execution_count": null,
   "id": "5a0c2ad0",
   "metadata": {},
   "outputs": [],
   "source": [
    "# Pseudocode for multi-threading - in reality is more painful!\n",
    "class UserReader: # Class to read user input\n",
    "    pass\n",
    "\n",
    "class StimulusUpdater: # Class to update stimulus\n",
    "    pass\n",
    "    \n",
    "reader, updater = UserReader(), StimulusUpdater()\n",
    "\n",
    "reader.start()\n",
    "updater.start()\n",
    "...\n",
    "reader.stop()\n",
    "updater.stop()"
   ]
  },
  {
   "cell_type": "markdown",
   "id": "024a12a8",
   "metadata": {},
   "source": [
    "## APIs"
   ]
  },
  {
   "cell_type": "markdown",
   "id": "0fb43152",
   "metadata": {},
   "source": [
    "Many pieces of hardware come with their Python <span style=\"color:indianred\">Application Programming Interface (API)</span>."
   ]
  },
  {
   "cell_type": "markdown",
   "id": "101849c8",
   "metadata": {},
   "source": [
    "The API of a piece of harwardare is a package that we `pip install` and we can use to control the hardware."
   ]
  },
  {
   "cell_type": "markdown",
   "id": "e8401276",
   "metadata": {},
   "source": [
    "Usually object-oriented! The hardware object is represented very neatly with a virtual object."
   ]
  },
  {
   "cell_type": "markdown",
   "id": "65fd48af",
   "metadata": {},
   "source": [
    "## Acquiring data"
   ]
  },
  {
   "cell_type": "markdown",
   "id": "d6c6658f",
   "metadata": {},
   "source": [
    "### Cameras (and their APIs)"
   ]
  },
  {
   "cell_type": "markdown",
   "id": "6367173e",
   "metadata": {},
   "source": [
    "Cameras APIs give us classes and methods to:\n",
    "- Initialize Camera objects\n",
    "- grab frames from cameras\n",
    "- change camera parameters\n",
    "- shut down cameras"
   ]
  },
  {
   "cell_type": "markdown",
   "id": "7a7dcd69",
   "metadata": {},
   "source": [
    "Let's have a look at a very common one: `opencv`"
   ]
  },
  {
   "cell_type": "code",
   "execution_count": null,
   "id": "276060d8",
   "metadata": {},
   "outputs": [],
   "source": [
    "# pip install python-opencv to use cv2:\n",
    "import cv2\n",
    "from matplotlib import pyplot as plt\n",
    " \n",
    "# Instantiate a video capture object (camera):\n",
    "vid = cv2.VideoCapture(0)"
   ]
  },
  {
   "cell_type": "markdown",
   "id": "79305513",
   "metadata": {},
   "source": [
    "To grab frames, `.read()` method"
   ]
  },
  {
   "cell_type": "code",
   "execution_count": null,
   "id": "6e9abd07",
   "metadata": {},
   "outputs": [],
   "source": [
    "state, frame = vid.read()  # read method to capture frame"
   ]
  },
  {
   "cell_type": "code",
   "execution_count": null,
   "id": "efe40f01",
   "metadata": {},
   "outputs": [],
   "source": [
    "frame.shape"
   ]
  },
  {
   "cell_type": "code",
   "execution_count": null,
   "id": "cde893bf",
   "metadata": {},
   "outputs": [],
   "source": [
    "plt.figure(figsize=(3, 3))\n",
    "plt.imshow(frame[:, :, [2,1,0]])  # Frame is BGR instead of RGB, swap colors to plot"
   ]
  },
  {
   "cell_type": "markdown",
   "id": "a35534df",
   "metadata": {},
   "source": [
    "After we're done with a piece of hardware, it is always good to shut it off:"
   ]
  },
  {
   "cell_type": "code",
   "execution_count": null,
   "id": "f965bb8e",
   "metadata": {},
   "outputs": [],
   "source": [
    "vid.release()  # close the camera reader and free to camera"
   ]
  },
  {
   "cell_type": "markdown",
   "id": "bdbb1b67",
   "metadata": {},
   "source": [
    "Cameras from any vendor offer APIs, and a great majority have Python APIs!"
   ]
  },
  {
   "cell_type": "markdown",
   "id": "c8faf78e",
   "metadata": {},
   "source": [
    "(Practical 3.3.0)"
   ]
  },
  {
   "cell_type": "markdown",
   "id": "5de4acf0",
   "metadata": {},
   "source": [
    "## Something on electronics"
   ]
  },
  {
   "cell_type": "markdown",
   "id": "9eea0681",
   "metadata": {},
   "source": [
    "We read data and control hardware mostly using:\n",
    " - digital signals\n",
    " - analog signals"
   ]
  },
  {
   "cell_type": "markdown",
   "id": "d78bb10d",
   "metadata": {},
   "source": [
    "### Analog signals"
   ]
  },
  {
   "cell_type": "markdown",
   "id": "33198810",
   "metadata": {},
   "source": [
    "A continuous voltage in a range (usually 0-5 V or 0-10 V) maps some continuous variable.\n",
    "\n",
    "Analog signals are acquired and generated by specialized hardware - your computer can't talk analog with any kind of device!\n",
    "\n",
    "That's part of the reason why we use Arduinos, NI boards, digitizers, etc."
   ]
  },
  {
   "cell_type": "markdown",
   "id": "85a59007",
   "metadata": {},
   "source": [
    "Many recording devices produce analog signals (e.g., microphones), but then such signals have to be digitized. This requires chunking in time and approximation in the resolution."
   ]
  },
  {
   "cell_type": "markdown",
   "id": "583f15d9",
   "metadata": {},
   "source": [
    "### Digital signals"
   ]
  },
  {
   "cell_type": "markdown",
   "id": "e311b0ad",
   "metadata": {},
   "source": [
    "Discrete signals - ON or OFF (usually 0/3.3 V or 0/5 V, depending on the device)\n",
    "\n",
    "Much more robust to noise! Those are the signals that digital devices such as the computer use\n",
    "\n",
    "As fast as analog signals, but with very small bandwidth (two states, ON/OFF)"
   ]
  },
  {
   "cell_type": "markdown",
   "id": "7ca45274",
   "metadata": {},
   "source": [
    "### Serial communication"
   ]
  },
  {
   "cell_type": "markdown",
   "id": "a78f87e0",
   "metadata": {},
   "source": [
    "Digital signals can be used to transmit bits of information through time!\n",
    "\n",
    "- This requires the sender and the receiver to agree on time (baud rate)\n",
    "- Reasonable bandwidth and resistend to noise\n",
    "\n",
    "All devices we connect to the computer are <span style=\"color:indianred\">serial devices</span> (USB: Universal Serial Bus)\n"
   ]
  },
  {
   "cell_type": "markdown",
   "id": "1b73b516",
   "metadata": {},
   "source": [
    "### Communication with serial devices"
   ]
  },
  {
   "cell_type": "markdown",
   "id": "113f6011",
   "metadata": {},
   "source": [
    "The python `Serial` library gives us a way to speak with digital devices"
   ]
  },
  {
   "cell_type": "code",
   "execution_count": null,
   "id": "fc50c875",
   "metadata": {},
   "outputs": [],
   "source": [
    "import serial\n",
    "\n",
    "port = serial.Serial('COM3', baudrate=9600) # Configure the serial port creating an object\n",
    "\n",
    "# Send data to the device:\n",
    "command = b'dosomething\\n'\n",
    "port.write(command)\n",
    "\n",
    "# Read response from the device:\n",
    "response = port.readline()\n",
    "\n",
    "port.close()  # Always shut down communication with a device"
   ]
  },
  {
   "cell_type": "markdown",
   "id": "e6f569cb",
   "metadata": {},
   "source": [
    "# Arduino"
   ]
  },
  {
   "cell_type": "markdown",
   "id": "f4f05abe",
   "metadata": {},
   "source": [
    "- Open-source microcontroller\n",
    "- Digital/analogic input and output channels\n",
    "- We can use it just as an interface to deal with those signals...\n",
    "- ...or as a controller if we need very precise timing"
   ]
  },
  {
   "cell_type": "markdown",
   "id": "7d78bfe1",
   "metadata": {},
   "source": [
    "### Interfacing hardware"
   ]
  },
  {
   "cell_type": "markdown",
   "id": "5889d06a",
   "metadata": {},
   "source": [
    "Arduino is a great interface for hardware..."
   ]
  },
  {
   "cell_type": "markdown",
   "id": "9b3589f8",
   "metadata": {},
   "source": [
    "...reading sensors of any kind:\n",
    "- light (eg photodiode)\n",
    "- temperature\n",
    "- pressure\n",
    "- conductance\n",
    "- ..."
   ]
  },
  {
   "cell_type": "markdown",
   "id": "9171b575",
   "metadata": {},
   "source": [
    "...and controlling hardware:\n",
    "- LEDs\n",
    "- motors / actuators\n",
    "- valves\n",
    "- resistances \n",
    "- buzzers (sounds)\n",
    "- ..."
   ]
  },
  {
   "cell_type": "markdown",
   "id": "8c8fef07",
   "metadata": {},
   "source": [
    "### Arduino code"
   ]
  },
  {
   "cell_type": "markdown",
   "id": "40213db8",
   "metadata": {},
   "source": [
    "The arduino processor is constantly executing some C code that we load on the board. "
   ]
  },
  {
   "cell_type": "markdown",
   "id": "bcda519c",
   "metadata": {},
   "source": [
    "Arduino has its own event loop!"
   ]
  },
  {
   "cell_type": "code",
   "execution_count": null,
   "id": "c6128aac",
   "metadata": {},
   "outputs": [],
   "source": [
    "###>> The code here is C/Arduino code, not Python!\n",
    "void setup() {\n",
    "  pinMode(13, INPUT);               // configure pin 13 to be an input\n",
    "  Serial.begin(9600);               // configure baud rate to match the computer's\n",
    "}\n",
    "\n",
    "void loop() {                       // The code inside here runs continuously\n",
    "  int value = analogRead(pin);      // read the state of the port (0/1)\n",
    "  Serial.println(value);            // print value on the serial port\n",
    "  delay(100);                       // wait 100 ms\n",
    "}\n",
    "###>>"
   ]
  },
  {
   "cell_type": "markdown",
   "id": "3b45fb0b",
   "metadata": {},
   "source": [
    "## Firmata library"
   ]
  },
  {
   "cell_type": "markdown",
   "id": "3bfff5f9",
   "metadata": {},
   "source": [
    "If we do not care about controlling things from the Arduino, we can load on the Arduino some default code called Firmata. In this way, we can directly write and read the Arduino pins from Python with the `pyfirmata` library:"
   ]
  },
  {
   "cell_type": "code",
   "execution_count": null,
   "id": "8e406190",
   "metadata": {},
   "outputs": [],
   "source": [
    "from pyfirmata import Arduino, util\n",
    "\n",
    "board = Arduino('COM3')  # create the board object\n",
    "\n",
    "# Configure the pin:\n",
    "pin = board.get_pin('d:2:i')  # a pin object representing the second pin in input mode\n",
    "\n",
    "# Read and print the pin state\n",
    "print(\"Pin state:\", pin.read())\n",
    "\n",
    "board.exit()  # Close the connection"
   ]
  },
  {
   "cell_type": "markdown",
   "id": "d40ce7ae",
   "metadata": {},
   "source": [
    "### Other boards\n",
    "\n",
    "There are many other boards we can use for handling digital and analog signals, eg:\n",
    "- National Instruments boards\n",
    "- Labjack boards\n",
    "\n",
    "They come with higher prices and higher performances compared to Arduino!"
   ]
  },
  {
   "cell_type": "markdown",
   "id": "e989b3c2",
   "metadata": {},
   "source": [
    "- Raspberry py\n",
    "\n",
    "Basically a minicomputer - runs Python!"
   ]
  },
  {
   "cell_type": "markdown",
   "id": "25162b4a",
   "metadata": {},
   "source": [
    "## Controlling stimuli"
   ]
  },
  {
   "cell_type": "markdown",
   "id": "e5fa1465",
   "metadata": {},
   "source": [
    "Many times we need to control stimuli to present to the experimental subject:"
   ]
  },
  {
   "cell_type": "markdown",
   "id": "57dfacb3",
   "metadata": {},
   "source": [
    "- visual\n",
    "- auditory\n",
    "- mechanical\n",
    "- ..."
   ]
  },
  {
   "cell_type": "markdown",
   "id": "17b7a3e7",
   "metadata": {},
   "source": [
    "### The `psychopy` library"
   ]
  },
  {
   "cell_type": "markdown",
   "id": "b23d15b0",
   "metadata": {},
   "source": [
    "(not a super expert...)"
   ]
  },
  {
   "cell_type": "markdown",
   "id": "6315d3bb",
   "metadata": {},
   "source": [
    "For many kind of stimuli, exp. visual and auditory, we can use the `psychopy` library!\n",
    "\n",
    "(It also comes with a GUI - we won't be covering the GUI here though! It is quite ugly...)"
   ]
  },
  {
   "cell_type": "markdown",
   "id": "6420e195",
   "metadata": {},
   "source": [
    "In `psychopy` there's many modules!\n",
    " - any sort of visual stimulus\n",
    " - sound card control for sound stimuli\n",
    " - timers and clocks\n",
    " - logs, for data saving\n",
    " - inputs from mouse and keyboard\n",
    " - input from cameras\n",
    " - input from external hardware (EEG, eye tracking...)\n",
    " - ..."
   ]
  },
  {
   "cell_type": "markdown",
   "id": "2686f9e1",
   "metadata": {},
   "source": [
    "### Running `psychopy` scripts"
   ]
  },
  {
   "cell_type": "markdown",
   "id": "ad7c2610",
   "metadata": {},
   "source": [
    "`psychopy` experiments are encoded in scripts that import code from the `psychopy` library."
   ]
  },
  {
   "cell_type": "markdown",
   "id": "f3190da4",
   "metadata": {},
   "source": [
    "Note that the `psychopy` GUI generates .py scripts and runs its own Python (yes, yet another Python on your computer...)"
   ]
  },
  {
   "cell_type": "markdown",
   "id": "cb1b1463",
   "metadata": {},
   "source": [
    "(Showcase `psychopy` scripts)"
   ]
  },
  {
   "cell_type": "markdown",
   "id": "054d4e7c",
   "metadata": {},
   "source": [
    "## Data saving"
   ]
  },
  {
   "cell_type": "markdown",
   "id": "96240225",
   "metadata": {},
   "source": [
    "Keep track of as many data as possible using code!\n",
    "- You can enforce the required inputs\n",
    "- You're guaranteed consistent formatting\n",
    "\n",
    "The less you require to be added manually by the experimenter, the better! (e.g., never ask for date/hour...)"
   ]
  },
  {
   "cell_type": "markdown",
   "id": "88c19d1b",
   "metadata": {},
   "source": [
    "### Formats"
   ]
  },
  {
   "cell_type": "markdown",
   "id": "866918ec",
   "metadata": {},
   "source": [
    "`.json` files are light, compatible, textual files for (hierarchical) metadata dictionaries"
   ]
  },
  {
   "cell_type": "markdown",
   "id": "21f534fd",
   "metadata": {},
   "source": [
    "`.csv` files can be great for tabular data that can be accomodated in a `pandas` dataframe!"
   ]
  },
  {
   "cell_type": "markdown",
   "id": "aea51f02",
   "metadata": {},
   "source": [
    "For large data (e.g., frames or data with high sampling freq.), numpy binary files `.npy` using the `np.save(data_ndarray)` function."
   ]
  },
  {
   "cell_type": "markdown",
   "id": "2883933e",
   "metadata": {},
   "source": [
    "## Wrapup: running experiments in Python"
   ]
  },
  {
   "cell_type": "markdown",
   "id": "3555838f",
   "metadata": {},
   "source": [
    "**Pros**\n",
    "\n",
    "- Jack-of-all-trades: we need to remember only one language for experiments, preprocessing, stats, etc.\n",
    "- We can save and load data with the same libraries\n",
    "- Thousands of available libraries\n",
    "- Thousands of available APIs"
   ]
  },
  {
   "cell_type": "markdown",
   "id": "097773ba",
   "metadata": {},
   "source": [
    "**Cons**\n",
    "\n",
    "- Execution time becomes unreliable at the ms/sub-ms scale (unless we use specialized hardware)\n",
    "- Concurrency issues"
   ]
  },
  {
   "cell_type": "markdown",
   "id": "630d2314",
   "metadata": {},
   "source": [
    "(Practical 3.3.1)"
   ]
  }
 ],
 "metadata": {
  "celltoolbar": "Slideshow",
  "kernelspec": {
   "display_name": "Python [conda env:course_env]",
   "language": "python",
   "name": "conda-env-course_env-py"
  },
  "language_info": {
   "codemirror_mode": {
    "name": "ipython",
    "version": 3
   },
   "file_extension": ".py",
   "mimetype": "text/x-python",
   "name": "python",
   "nbconvert_exporter": "python",
   "pygments_lexer": "ipython3"
  }
 },
 "nbformat": 4,
 "nbformat_minor": 5
}
