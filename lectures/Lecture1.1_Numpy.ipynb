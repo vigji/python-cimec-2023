{
 "cells": [
  {
   "cell_type": "markdown",
   "id": "3ca811a3",
   "metadata": {},
   "source": [
    "# Python for (open) Neuroscience\n",
    "\n",
    "_Lecture 1.1_ - More on `numpy`\n",
    "\n",
    "Luigi Petrucco\n",
    "\n",
    "Jean-Charles Mariani\n",
    "\n",
    "[![Open In Colab](https://colab.research.google.com/assets/colab-badge.svg)](https://colab.research.google.com/github/vigji/python-cimec/blob/main/lectures/Lecture1.1_Numpy.ipynb)"
   ]
  },
  {
   "cell_type": "markdown",
   "id": "75cd41ae",
   "metadata": {},
   "source": [
    "## More on `numpy` functions"
   ]
  },
  {
   "cell_type": "markdown",
   "id": "aaeb616a",
   "metadata": {},
   "source": [
    "### `np.mean()` / `np.nanmean()`"
   ]
  },
  {
   "cell_type": "markdown",
   "id": "bd1c500d",
   "metadata": {},
   "source": [
    "Calculate the average of an array, either global or along some axis:"
   ]
  },
  {
   "cell_type": "code",
   "execution_count": null,
   "id": "9ae4da63",
   "metadata": {},
   "outputs": [],
   "source": [
    "import numpy as np\n",
    "arr = np.random.randint(0, 255, (5, 6))\n",
    "print(f\"{arr};\\nmean: {np.mean(arr)}\")"
   ]
  },
  {
   "cell_type": "markdown",
   "id": "83b93581",
   "metadata": {},
   "source": [
    "If we want to take the average along a specific dimension, we can pass the axis as a parameter:"
   ]
  },
  {
   "cell_type": "code",
   "execution_count": null,
   "id": "5378d984",
   "metadata": {},
   "outputs": [],
   "source": [
    "import numpy as np\n",
    "arr = np.random.randint(0, 255, (5, 6))\n",
    "arr_mean = np.mean(arr, axis=0)  # we specify one axis\n",
    "print(f\"{arr};\\nmean: {mn}\")"
   ]
  },
  {
   "cell_type": "markdown",
   "id": "4d05dd28",
   "metadata": {},
   "source": [
    "If there are nan values around, we have to use `np.nanmean()`:"
   ]
  },
  {
   "cell_type": "code",
   "execution_count": null,
   "id": "2379ab64",
   "metadata": {},
   "outputs": [],
   "source": [
    "import numpy as np\n",
    "arr = np.random.randint(0, 255, (5, 6)).astype(float)  # we need a float dtype to use nan values!\n",
    "arr[0, 0] = np.nan\n",
    "arr_mean = np.mean(arr)  # regular mean\n",
    "arr_nan_mean = np.nanmean(arr)  # use nanmean\n",
    "print(f\"{arr};\\nregular mean: {arr_mean}\\nnanmean: {arr_nan_mean}\")"
   ]
  },
  {
   "cell_type": "markdown",
   "id": "371e7b51",
   "metadata": {},
   "source": [
    "Many of the functions we're about to see behave in this way - assume they have a nan-dealing equivalent!\n",
    "\n",
    " - `np.std()` / `np.nanstd()`\n",
    " - `np.percentile()` / `np.nanpercentile()`\n",
    " - `np.max()` / `np.nanmax()`\n",
    " - ..."
   ]
  },
  {
   "cell_type": "markdown",
   "id": "41a2bb00",
   "metadata": {},
   "source": [
    "### `np.std()` / `np.nanstd()`"
   ]
  },
  {
   "cell_type": "markdown",
   "id": "bb00055f",
   "metadata": {},
   "source": [
    "Calculate the standard deviation of an array, either global or along some axis:"
   ]
  },
  {
   "cell_type": "code",
   "execution_count": null,
   "id": "5bb73245",
   "metadata": {},
   "outputs": [],
   "source": [
    "arr = np.random.normal(0, 3, 1000)\n",
    "np.std(arr)"
   ]
  },
  {
   "cell_type": "markdown",
   "id": "11095118",
   "metadata": {},
   "source": [
    "### `np.median()` / `np.nanmedian()`"
   ]
  },
  {
   "cell_type": "markdown",
   "id": "8d0a144a",
   "metadata": {},
   "source": [
    "Calculate the median of an array, either global or along some axis:"
   ]
  },
  {
   "cell_type": "code",
   "execution_count": null,
   "id": "e2942579",
   "metadata": {},
   "outputs": [],
   "source": [
    "arr = np.random.randint(0, 100, 1000)\n",
    "np.median(arr)"
   ]
  },
  {
   "cell_type": "markdown",
   "id": "1b81aa46",
   "metadata": {},
   "source": [
    "### `np.max()` / `np.min()`"
   ]
  },
  {
   "cell_type": "markdown",
   "id": "11f5abf6",
   "metadata": {},
   "source": [
    "Calculate the minimum or maximum of an array, either global or along some axis:"
   ]
  },
  {
   "cell_type": "code",
   "execution_count": null,
   "id": "a3089679",
   "metadata": {},
   "outputs": [],
   "source": [
    "arr = np.random.randint(0, 100, 1000)\n",
    "\n",
    "np.min(arr), np.max(arr)  # print min and max together"
   ]
  },
  {
   "cell_type": "markdown",
   "id": "9147b2a1",
   "metadata": {},
   "source": [
    "### `np.percentile()`"
   ]
  },
  {
   "cell_type": "markdown",
   "id": "16f4b233",
   "metadata": {},
   "source": [
    "Calculate a given percentile of an array, either global or along some axis:"
   ]
  },
  {
   "cell_type": "code",
   "execution_count": null,
   "id": "f5d53f52",
   "metadata": {},
   "outputs": [],
   "source": [
    "arr = np.random.randint(0, 1000, 10000)\n",
    "\n",
    "np.percentile(arr, 75)  # print min and max together"
   ]
  },
  {
   "cell_type": "markdown",
   "id": "60053dea",
   "metadata": {},
   "source": [
    "### `np.unique()`"
   ]
  },
  {
   "cell_type": "markdown",
   "id": "60b998dc",
   "metadata": {},
   "source": [
    "Return unique values of an array, and if asked their counts"
   ]
  },
  {
   "cell_type": "code",
   "execution_count": null,
   "id": "dfb089f0",
   "metadata": {},
   "outputs": [],
   "source": [
    "np.unique([1,2,2,3])"
   ]
  },
  {
   "cell_type": "code",
   "execution_count": null,
   "id": "449e3117",
   "metadata": {},
   "outputs": [],
   "source": [
    "# If we ask we can get counts as well\n",
    "np.unique([1,2,2,3], return_counts=True) "
   ]
  },
  {
   "cell_type": "code",
   "execution_count": null,
   "id": "7b43c026",
   "metadata": {},
   "outputs": [],
   "source": [
    "arr = np.random.normal(0, 1, 1000000)"
   ]
  },
  {
   "cell_type": "markdown",
   "id": "74a6f0db",
   "metadata": {},
   "source": [
    "### `np.diff()` / `np.cumsum()`  "
   ]
  },
  {
   "cell_type": "markdown",
   "id": "533724a0",
   "metadata": {},
   "source": [
    "We can compute cumulative sums (integrals) of an array with `np.cumsum()`:"
   ]
  },
  {
   "cell_type": "code",
   "execution_count": null,
   "id": "46bab8ce",
   "metadata": {},
   "outputs": [],
   "source": [
    "my_arr = np.array([1,2,3,4])\n",
    "np.cumsum(my_arr)"
   ]
  },
  {
   "cell_type": "markdown",
   "id": "42eac3ae",
   "metadata": {},
   "source": [
    "We can compute differences between consecutive elements of an array using `np.diff()`:"
   ]
  },
  {
   "cell_type": "code",
   "execution_count": null,
   "id": "88f6719f",
   "metadata": {},
   "outputs": [],
   "source": [
    "my_arr = np.array([1,2,3,4])\n",
    "np.diff(my_arr)"
   ]
  },
  {
   "cell_type": "markdown",
   "id": "4c9af68d",
   "metadata": {},
   "source": [
    "### Write code the `numpy` way"
   ]
  },
  {
   "cell_type": "markdown",
   "id": "58014c7d",
   "metadata": {},
   "source": [
    "When operating with matrices, you should always aim at writing <span style=\"color:indianred\">vectorized</span> code"
   ]
  },
  {
   "cell_type": "markdown",
   "id": "3fe563f6",
   "metadata": {},
   "source": [
    "Vectorized code: code where for loops are replaced by operations over matrix dimensions"
   ]
  },
  {
   "cell_type": "markdown",
   "id": "2af65e86",
   "metadata": {},
   "source": [
    "An very simple example: vectors multiplication"
   ]
  },
  {
   "cell_type": "code",
   "execution_count": null,
   "id": "5c86633d",
   "metadata": {},
   "outputs": [],
   "source": [
    "vector_1 = np.random.normal(0, 1, (10000000,))\n",
    "vector_2 = np.random.normal(0, 1, (10000000,))"
   ]
  },
  {
   "cell_type": "code",
   "execution_count": null,
   "id": "4e110f01",
   "metadata": {},
   "outputs": [],
   "source": [
    "%%timeit\n",
    "product = np.zeros(vector_1.shape)  # initialize empty result vector\n",
    "\n",
    "# Compute the multiplication in a loop:\n",
    "for i in range(vector_1.shape[0]):\n",
    "    product[i] = vector_1[i] * vector_2[i]"
   ]
  },
  {
   "cell_type": "code",
   "execution_count": null,
   "id": "e107c511",
   "metadata": {},
   "outputs": [],
   "source": [
    "%%timeit\n",
    "product = vector_1 * vector_2"
   ]
  },
  {
   "cell_type": "markdown",
   "id": "372460b4",
   "metadata": {},
   "source": [
    "Another example: Z-score the rows of a matrix:"
   ]
  },
  {
   "cell_type": "code",
   "execution_count": null,
   "id": "47b5f978",
   "metadata": {},
   "outputs": [],
   "source": [
    "data_matrix = np.random.randint(0, 255, (100000, 100))"
   ]
  },
  {
   "cell_type": "code",
   "execution_count": null,
   "id": "8dfdb4d8",
   "metadata": {},
   "outputs": [],
   "source": [
    "%%timeit\n",
    "normalized_matrix = np.zeros(data_matrix.shape)  # start an empty matrix of matching shape \n",
    "\n",
    "# Loop over rows (first dimension), take mean and std, subtract and divide:\n",
    "for i in range(data_matrix.shape[0]):\n",
    "    row_mean = np.mean(data_matrix[i, :])\n",
    "    row_std = np.std(data_matrix[i, :])\n",
    "    \n",
    "    normalized_matrix[i, :] = (data_matrix[i, :] - row_mean) / row_std"
   ]
  },
  {
   "cell_type": "code",
   "execution_count": null,
   "id": "57a84d6a",
   "metadata": {},
   "outputs": [],
   "source": [
    "%%timeit\n",
    "rows_mean = np.mean(data_matrix, axis=1)  # vectorized mean\n",
    "rows_std = np.std(data_matrix, axis=1)  # vectorized std\n",
    "\n",
    "# Write the normalization as a vector operation.\n",
    "# Note how we use broadcasting to make sure the right dimensions are propagated!\n",
    "\n",
    "normalized_matrix = data_matrix - rows_mean[:, np.newaxis] / rows_std[:, np.newaxis]"
   ]
  },
  {
   "cell_type": "markdown",
   "id": "c2dc7434",
   "metadata": {},
   "source": [
    "## Search indexes"
   ]
  },
  {
   "cell_type": "markdown",
   "id": "1f1acb9e",
   "metadata": {},
   "source": [
    "Some functions can be used to find indexes of some elements:"
   ]
  },
  {
   "cell_type": "markdown",
   "id": "b17f4c74",
   "metadata": {},
   "source": [
    "### `np.argmin()` / `np.argmax()` "
   ]
  },
  {
   "cell_type": "markdown",
   "id": "2d7bd030",
   "metadata": {},
   "source": [
    "Find the position of the maximum or the minimum of an array"
   ]
  },
  {
   "cell_type": "code",
   "execution_count": null,
   "id": "1c76d588",
   "metadata": {},
   "outputs": [],
   "source": [
    "arr = np.array([5, 0, 2, 9, 6,])\n",
    "\n",
    "np.argmin(arr)  # give index of smallest element"
   ]
  },
  {
   "cell_type": "code",
   "execution_count": null,
   "id": "0dc0f933",
   "metadata": {},
   "outputs": [],
   "source": [
    "np.argmax(arr)  # give index of biggest element"
   ]
  },
  {
   "cell_type": "markdown",
   "id": "ce8f4181",
   "metadata": {},
   "source": [
    "For a multi-dimensional array:"
   ]
  },
  {
   "cell_type": "code",
   "execution_count": null,
   "id": "30e7f38d",
   "metadata": {},
   "outputs": [],
   "source": [
    "arr = np.array([[5, 1, 2], [3, 0, 4]])\n",
    "print(arr)\n",
    "np.argmin(arr)"
   ]
  },
  {
   "cell_type": "markdown",
   "id": "58fa84a4",
   "metadata": {},
   "source": [
    "### Index raveling / unraveling"
   ]
  },
  {
   "cell_type": "markdown",
   "id": "2544625b",
   "metadata": {},
   "source": [
    "What is this 4? "
   ]
  },
  {
   "cell_type": "code",
   "execution_count": null,
   "id": "be964cd8",
   "metadata": {},
   "outputs": [],
   "source": [
    "np.unravel_index(4)"
   ]
  },
  {
   "cell_type": "code",
   "execution_count": null,
   "id": "08d216f7",
   "metadata": {},
   "outputs": [],
   "source": [
    "np.ravel_multi_index"
   ]
  },
  {
   "cell_type": "markdown",
   "id": "b593d103",
   "metadata": {},
   "source": [
    "### `np.nonzero()` / `np.argwhere()`"
   ]
  },
  {
   "cell_type": "code",
   "execution_count": null,
   "id": "f8575e1c",
   "metadata": {},
   "outputs": [],
   "source": [
    "arr = np.array([1,2,3,4,5])\n",
    "print(arr)\n",
    "\n",
    "#match_idxs = np.argwhere(arr > 3)\n",
    "arr[np.nonzero(arr > 3)]"
   ]
  }
 ],
 "metadata": {
  "celltoolbar": "Slideshow",
  "kernelspec": {
   "display_name": "Python 3 (ipykernel)",
   "language": "python",
   "name": "python3"
  },
  "language_info": {
   "codemirror_mode": {
    "name": "ipython",
    "version": 3
   },
   "file_extension": ".py",
   "mimetype": "text/x-python",
   "name": "python",
   "nbconvert_exporter": "python",
   "pygments_lexer": "ipython3"
  }
 },
 "nbformat": 4,
 "nbformat_minor": 5
}
