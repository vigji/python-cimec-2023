{
 "cells": [
  {
   "cell_type": "markdown",
   "id": "3ca811a3",
   "metadata": {
    "slideshow": {
     "slide_type": "slide"
    }
   },
   "source": [
    "# Python for (open) Neuroscience\n",
    "\n",
    "_Lecture 1.1_ - More on `numpy`\n",
    "\n",
    "Luigi Petrucco\n",
    "\n",
    "Jean-Charles Mariani\n",
    "\n",
    "[![Open In Colab](https://colab.research.google.com/assets/colab-badge.svg)](https://colab.research.google.com/github/vigji/python-cimec/blob/main/lectures/Lecture1.1_Numpy.ipynb)"
   ]
  },
  {
   "cell_type": "markdown",
   "id": "75cd41ae",
   "metadata": {
    "slideshow": {
     "slide_type": "slide"
    }
   },
   "source": [
    "## More on `numpy` functions"
   ]
  },
  {
   "cell_type": "markdown",
   "id": "aaeb616a",
   "metadata": {
    "slideshow": {
     "slide_type": "slide"
    }
   },
   "source": [
    "### `np.mean()` / `np.nanmean()`"
   ]
  },
  {
   "cell_type": "markdown",
   "id": "bd1c500d",
   "metadata": {
    "slideshow": {
     "slide_type": "fragment"
    }
   },
   "source": [
    "Calculate the average of an array, either global or along some axis:"
   ]
  },
  {
   "cell_type": "code",
   "execution_count": 152,
   "id": "9ae4da63",
   "metadata": {
    "slideshow": {
     "slide_type": "-"
    }
   },
   "outputs": [
    {
     "name": "stdout",
     "output_type": "stream",
     "text": [
      "[[ 48 170  87 127  88  92]\n",
      " [126  85 182 253 219  67]\n",
      " [179 117 230 149 114 213]\n",
      " [ 59 169 190 128  57  91]\n",
      " [ 17  78 184 143 249 174]];\n",
      "mean: 136.16666666666666\n"
     ]
    }
   ],
   "source": [
    "import numpy as np\n",
    "arr = np.random.randint(0, 255, (5, 6))\n",
    "mean = np.mean(arr)  # compute the mean of the whole array\n",
    "\n",
    "print(f\"{arr};\\nmean: {mean}\")"
   ]
  },
  {
   "cell_type": "markdown",
   "id": "83b93581",
   "metadata": {
    "slideshow": {
     "slide_type": "subslide"
    }
   },
   "source": [
    "If we want to take the average along a specific dimension, we can pass the axis as a parameter:"
   ]
  },
  {
   "cell_type": "code",
   "execution_count": 153,
   "id": "5378d984",
   "metadata": {},
   "outputs": [
    {
     "name": "stdout",
     "output_type": "stream",
     "text": [
      "[[115 113 217 184  32  17]\n",
      " [176 185  35 109  93 150]\n",
      " [192 247 125  95 170  70]\n",
      " [166 212 141 105 182 143]\n",
      " [ 20 213   7  80 189  32]];\n",
      "mean: [133.8 194.  105.  114.6 133.2  82.4]\n"
     ]
    }
   ],
   "source": [
    "import numpy as np\n",
    "arr = np.random.randint(0, 255, (5, 6))\n",
    "arr_mean = np.mean(arr, axis=0)  # we specify one axis along which to mean\n",
    "\n",
    "print(f\"{arr};\\nmean: {arr_mean}\")"
   ]
  },
  {
   "cell_type": "markdown",
   "id": "4d05dd28",
   "metadata": {
    "slideshow": {
     "slide_type": "subslide"
    }
   },
   "source": [
    "If there are nan values around, we have to use `np.nanmean()`:"
   ]
  },
  {
   "cell_type": "code",
   "execution_count": 154,
   "id": "167a3073",
   "metadata": {},
   "outputs": [
    {
     "name": "stdout",
     "output_type": "stream",
     "text": [
      "[[ nan  88. 227.  96. 128. 145.]\n",
      " [143. 199.  86. 221.  50.  14.]\n",
      " [195.  15. 189. 184.  31. 133.]\n",
      " [ 21. 194.  83. 185.  35. 218.]\n",
      " [143. 237. 100. 168.  56.  82.]];\n",
      "regular mean: nan\n",
      "nanmean: 126.41379310344827\n"
     ]
    }
   ],
   "source": [
    "import numpy as np\n",
    "\n",
    "# we need a float dtype to use nan values:\n",
    "arr = np.random.randint(0, 255, (5, 6)).astype(float) \n",
    "\n",
    "arr[0, 0] = np.nan\n",
    "arr_mean = np.mean(arr)  # regular mean\n",
    "arr_nan_mean = np.nanmean(arr)  # use nanmean\n",
    "\n",
    "print(f\"{arr};\\nregular mean: {arr_mean}\\nnanmean: {arr_nan_mean}\")"
   ]
  },
  {
   "cell_type": "markdown",
   "id": "371e7b51",
   "metadata": {
    "slideshow": {
     "slide_type": "subslide"
    }
   },
   "source": [
    "Many of the functions we're about to see behave in this way - assume they have a nan-dealing equivalent!\n",
    "\n",
    " - `np.std()` / `np.nanstd()`\n",
    " - `np.percentile()` / `np.nanpercentile()`\n",
    " - `np.max()` / `np.nanmax()`\n",
    " - ..."
   ]
  },
  {
   "cell_type": "markdown",
   "id": "41a2bb00",
   "metadata": {
    "slideshow": {
     "slide_type": "subslide"
    }
   },
   "source": [
    "### `np.std()` / `np.nanstd()`"
   ]
  },
  {
   "cell_type": "markdown",
   "id": "bb00055f",
   "metadata": {
    "slideshow": {
     "slide_type": "-"
    }
   },
   "source": [
    "Calculate the standard deviation of an array, either global or along some axis:"
   ]
  },
  {
   "cell_type": "code",
   "execution_count": 23,
   "id": "5bb73245",
   "metadata": {},
   "outputs": [
    {
     "data": {
      "text/plain": [
       "2.9911940005367863"
      ]
     },
     "execution_count": 23,
     "metadata": {},
     "output_type": "execute_result"
    }
   ],
   "source": [
    "arr = np.random.normal(0, 3, 1000)\n",
    "np.std(arr)"
   ]
  },
  {
   "cell_type": "markdown",
   "id": "11095118",
   "metadata": {
    "slideshow": {
     "slide_type": "subslide"
    }
   },
   "source": [
    "### `np.median()` / `np.nanmedian()`"
   ]
  },
  {
   "cell_type": "markdown",
   "id": "8d0a144a",
   "metadata": {},
   "source": [
    "Calculate the median of an array, either global or along some axis:"
   ]
  },
  {
   "cell_type": "code",
   "execution_count": 27,
   "id": "e2942579",
   "metadata": {},
   "outputs": [
    {
     "data": {
      "text/plain": [
       "array([51., 49., 49., 49., 51., 50., 49., 47., 49., 53.])"
      ]
     },
     "execution_count": 27,
     "metadata": {},
     "output_type": "execute_result"
    }
   ],
   "source": [
    "arr = np.random.randint(0, 100, (1000, 10))\n",
    "np.median(arr, axis=0)"
   ]
  },
  {
   "cell_type": "markdown",
   "id": "1b81aa46",
   "metadata": {
    "slideshow": {
     "slide_type": "subslide"
    }
   },
   "source": [
    "### `np.max()` / `np.min()`"
   ]
  },
  {
   "cell_type": "markdown",
   "id": "11f5abf6",
   "metadata": {},
   "source": [
    "Calculate the minimum or maximum of an array, either global or along some axis:"
   ]
  },
  {
   "cell_type": "code",
   "execution_count": 28,
   "id": "a3089679",
   "metadata": {},
   "outputs": [
    {
     "data": {
      "text/plain": [
       "(0, 99)"
      ]
     },
     "execution_count": 28,
     "metadata": {},
     "output_type": "execute_result"
    }
   ],
   "source": [
    "arr = np.random.randint(0, 100, 1000)\n",
    "\n",
    "np.min(arr), np.max(arr)  # print min and max together"
   ]
  },
  {
   "cell_type": "markdown",
   "id": "9147b2a1",
   "metadata": {
    "slideshow": {
     "slide_type": "subslide"
    }
   },
   "source": [
    "### `np.percentile()`"
   ]
  },
  {
   "cell_type": "markdown",
   "id": "16f4b233",
   "metadata": {
    "slideshow": {
     "slide_type": "fragment"
    }
   },
   "source": [
    "Calculate a given percentile of an array, either global or along some axis:"
   ]
  },
  {
   "cell_type": "code",
   "execution_count": 29,
   "id": "f5d53f52",
   "metadata": {},
   "outputs": [
    {
     "data": {
      "text/plain": [
       "756.0"
      ]
     },
     "execution_count": 29,
     "metadata": {},
     "output_type": "execute_result"
    }
   ],
   "source": [
    "arr = np.random.randint(0, 1000, 10000)\n",
    "\n",
    "np.percentile(arr, 75)  # print min and max together"
   ]
  },
  {
   "cell_type": "markdown",
   "id": "f6011b04",
   "metadata": {
    "slideshow": {
     "slide_type": "subslide"
    }
   },
   "source": [
    "### `np.unique()`"
   ]
  },
  {
   "cell_type": "markdown",
   "id": "cd5e886f",
   "metadata": {
    "slideshow": {
     "slide_type": "-"
    }
   },
   "source": [
    "Return unique values of an array, and if asked their counts"
   ]
  },
  {
   "cell_type": "code",
   "execution_count": 33,
   "id": "18f5d49d",
   "metadata": {},
   "outputs": [
    {
     "data": {
      "text/plain": [
       "array([1, 2, 3])"
      ]
     },
     "execution_count": 33,
     "metadata": {},
     "output_type": "execute_result"
    }
   ],
   "source": [
    "np.unique(np.array([1, 2, 2, 3, 3, 3]))"
   ]
  },
  {
   "cell_type": "code",
   "execution_count": 35,
   "id": "04f0b5c7",
   "metadata": {
    "slideshow": {
     "slide_type": "subslide"
    }
   },
   "outputs": [
    {
     "name": "stdout",
     "output_type": "stream",
     "text": [
      "unique: [1 2 3]\n",
      "counts: [1 2 1]\n"
     ]
    }
   ],
   "source": [
    "# If we ask we can get counts as well\n",
    "unique_values, counts = np.unique([1,2,2,3], return_counts=True) \n",
    "\n",
    "print(\"unique:\", unique_values)\n",
    "\n",
    "print(\"counts:\", counts)"
   ]
  },
  {
   "cell_type": "code",
   "execution_count": 36,
   "id": "cf8e5801",
   "metadata": {},
   "outputs": [],
   "source": [
    "arr = np.random.normal(0, 1, 1000000)"
   ]
  },
  {
   "cell_type": "markdown",
   "id": "83074349",
   "metadata": {
    "slideshow": {
     "slide_type": "subslide"
    }
   },
   "source": [
    "### `np.diff()` / `np.cumsum()`  "
   ]
  },
  {
   "cell_type": "markdown",
   "id": "8c95f375",
   "metadata": {},
   "source": [
    "We can compute cumulative sums (integrals) of an array with `np.cumsum()`:"
   ]
  },
  {
   "cell_type": "code",
   "execution_count": 39,
   "id": "497b903b",
   "metadata": {},
   "outputs": [
    {
     "data": {
      "text/plain": [
       "array([[1, 2, 3, 4],\n",
       "       [2, 4, 7, 9]])"
      ]
     },
     "execution_count": 39,
     "metadata": {},
     "output_type": "execute_result"
    }
   ],
   "source": [
    "my_arr = np.array([[1,2,3,4],[1,2,4,5]])\n",
    "np.cumsum(my_arr, axis=0)"
   ]
  },
  {
   "cell_type": "markdown",
   "id": "1458d783",
   "metadata": {},
   "source": [
    "We can compute differences between consecutive elements of an array using `np.diff()`:"
   ]
  },
  {
   "cell_type": "code",
   "execution_count": 40,
   "id": "ab5a2e82",
   "metadata": {
    "slideshow": {
     "slide_type": "subslide"
    }
   },
   "outputs": [
    {
     "data": {
      "text/plain": [
       "array([1, 1, 1])"
      ]
     },
     "execution_count": 40,
     "metadata": {},
     "output_type": "execute_result"
    }
   ],
   "source": [
    "my_arr = np.array([1,2,3,4])\n",
    "np.diff(my_arr)"
   ]
  },
  {
   "cell_type": "markdown",
   "id": "3b5f3cca",
   "metadata": {
    "slideshow": {
     "slide_type": "slide"
    }
   },
   "source": [
    "(Practicals 1.1.0)"
   ]
  },
  {
   "cell_type": "markdown",
   "id": "4c9af68d",
   "metadata": {
    "slideshow": {
     "slide_type": "slide"
    }
   },
   "source": [
    "### Write code the `numpy` way"
   ]
  },
  {
   "cell_type": "markdown",
   "id": "58014c7d",
   "metadata": {},
   "source": [
    "When operating with matrices, you should always aim at writing <span style=\"color:indianred\">vectorized</span> code"
   ]
  },
  {
   "cell_type": "markdown",
   "id": "3fe563f6",
   "metadata": {},
   "source": [
    "Vectorized code: code where for loops are replaced by operations over matrix dimensions"
   ]
  },
  {
   "cell_type": "markdown",
   "id": "2af65e86",
   "metadata": {},
   "source": [
    "An very simple example: vectors multiplication"
   ]
  },
  {
   "cell_type": "code",
   "execution_count": 41,
   "id": "5c86633d",
   "metadata": {
    "slideshow": {
     "slide_type": "subslide"
    }
   },
   "outputs": [],
   "source": [
    "vector_1 = np.random.normal(0, 1, (10000000,))\n",
    "vector_2 = np.random.normal(0, 1, (10000000,))"
   ]
  },
  {
   "cell_type": "code",
   "execution_count": 42,
   "id": "4e110f01",
   "metadata": {},
   "outputs": [
    {
     "name": "stdout",
     "output_type": "stream",
     "text": [
      "1.54 s ± 26.6 ms per loop (mean ± std. dev. of 7 runs, 1 loop each)\n"
     ]
    }
   ],
   "source": [
    "%%timeit\n",
    "product = np.zeros(vector_1.shape)  # initialize empty result vector\n",
    "\n",
    "# Compute the multiplication in a loop:\n",
    "for i in range(vector_1.shape[0]):\n",
    "    product[i] = vector_1[i] * vector_2[i]"
   ]
  },
  {
   "cell_type": "code",
   "execution_count": 43,
   "id": "e107c511",
   "metadata": {
    "cell_style": "center",
    "slideshow": {
     "slide_type": "subslide"
    }
   },
   "outputs": [
    {
     "name": "stdout",
     "output_type": "stream",
     "text": [
      "7.77 ms ± 21.9 µs per loop (mean ± std. dev. of 7 runs, 100 loops each)\n"
     ]
    }
   ],
   "source": [
    "%%timeit\n",
    "product = vector_1 * vector_2"
   ]
  },
  {
   "cell_type": "markdown",
   "id": "372460b4",
   "metadata": {
    "slideshow": {
     "slide_type": "subslide"
    }
   },
   "source": [
    "Another example: Z-score the rows of a matrix:"
   ]
  },
  {
   "cell_type": "code",
   "execution_count": 44,
   "id": "47b5f978",
   "metadata": {},
   "outputs": [],
   "source": [
    "data_matrix = np.random.randint(0, 255, (100000, 100))"
   ]
  },
  {
   "cell_type": "code",
   "execution_count": 45,
   "id": "8dfdb4d8",
   "metadata": {},
   "outputs": [
    {
     "name": "stdout",
     "output_type": "stream",
     "text": [
      "1.38 s ± 5.46 ms per loop (mean ± std. dev. of 7 runs, 1 loop each)\n"
     ]
    }
   ],
   "source": [
    "%%timeit\n",
    "normalized_matrix = np.zeros(data_matrix.shape)  # start an empty matrix of matching shape \n",
    "\n",
    "# Loop over rows (first dimension), take mean and std, subtract and divide:\n",
    "for i in range(data_matrix.shape[0]):\n",
    "    row_mean = np.mean(data_matrix[i, :])\n",
    "    row_std = np.std(data_matrix[i, :])\n",
    "    \n",
    "    normalized_matrix[i, :] = (data_matrix[i, :] - row_mean) / row_std"
   ]
  },
  {
   "cell_type": "code",
   "execution_count": 48,
   "id": "57a84d6a",
   "metadata": {
    "slideshow": {
     "slide_type": "subslide"
    }
   },
   "outputs": [],
   "source": [
    "%%timeit\n",
    "rows_mean = np.mean(data_matrix, axis=1)  # vectorized mean\n",
    "rows_std = np.std(data_matrix, axis=1)  # vectorized std\n",
    "\n",
    "# Write the normalization as a vector operation.\n",
    "# Note how we use broadcasting to make sure the right dimensions are propagated!\n",
    "\n",
    "normalized_matrix = data_matrix - rows_mean[:, np.newaxis] / rows_std[:, np.newaxis]"
   ]
  },
  {
   "cell_type": "code",
   "execution_count": 59,
   "id": "a54b3b9b",
   "metadata": {},
   "outputs": [
    {
     "data": {
      "text/plain": [
       "array([[135.01, 125.87, 126.52, ..., 122.23, 130.12, 123.72]])"
      ]
     },
     "execution_count": 59,
     "metadata": {},
     "output_type": "execute_result"
    }
   ],
   "source": [
    "rows_mean[:, None].T"
   ]
  },
  {
   "cell_type": "code",
   "execution_count": 49,
   "id": "6dde3ed0",
   "metadata": {},
   "outputs": [
    {
     "data": {
      "text/plain": [
       "(100000,)"
      ]
     },
     "execution_count": 49,
     "metadata": {},
     "output_type": "execute_result"
    }
   ],
   "source": [
    "rows_mean.shape"
   ]
  },
  {
   "cell_type": "markdown",
   "id": "c2dc7434",
   "metadata": {
    "slideshow": {
     "slide_type": "slide"
    }
   },
   "source": [
    "## Search indexes"
   ]
  },
  {
   "cell_type": "markdown",
   "id": "1f1acb9e",
   "metadata": {},
   "source": [
    "Some functions find indexes of the elements of an array that match some criterion."
   ]
  },
  {
   "cell_type": "markdown",
   "id": "b17f4c74",
   "metadata": {
    "slideshow": {
     "slide_type": "subslide"
    }
   },
   "source": [
    "### `np.argmin()` / `np.argmax()` "
   ]
  },
  {
   "cell_type": "markdown",
   "id": "2d7bd030",
   "metadata": {
    "slideshow": {
     "slide_type": "fragment"
    }
   },
   "source": [
    "Find the position of the maximum or the minimum of an array"
   ]
  },
  {
   "cell_type": "code",
   "execution_count": 60,
   "id": "1c76d588",
   "metadata": {},
   "outputs": [
    {
     "data": {
      "text/plain": [
       "1"
      ]
     },
     "execution_count": 60,
     "metadata": {},
     "output_type": "execute_result"
    }
   ],
   "source": [
    "arr = np.array([5,  0, 2, 9, 6,])\n",
    "\n",
    "np.argmin(arr)  # give index of smallest element"
   ]
  },
  {
   "cell_type": "code",
   "execution_count": 61,
   "id": "0dc0f933",
   "metadata": {
    "slideshow": {
     "slide_type": "fragment"
    }
   },
   "outputs": [
    {
     "data": {
      "text/plain": [
       "3"
      ]
     },
     "execution_count": 61,
     "metadata": {},
     "output_type": "execute_result"
    }
   ],
   "source": [
    "np.argmax(arr)  # give index of biggest element"
   ]
  },
  {
   "cell_type": "markdown",
   "id": "ce8f4181",
   "metadata": {
    "slideshow": {
     "slide_type": "subslide"
    }
   },
   "source": [
    "For a multi-dimensional array:"
   ]
  },
  {
   "cell_type": "code",
   "execution_count": 90,
   "id": "30e7f38d",
   "metadata": {},
   "outputs": [
    {
     "name": "stdout",
     "output_type": "stream",
     "text": [
      "[[5 1 2]\n",
      " [3 0 4]]\n"
     ]
    },
    {
     "data": {
      "text/plain": [
       "4"
      ]
     },
     "execution_count": 90,
     "metadata": {},
     "output_type": "execute_result"
    }
   ],
   "source": [
    "arr = np.array([[5, 1, 2], \n",
    "                [3, 0, 4]])\n",
    "print(arr)\n",
    "np.argmin(arr)"
   ]
  },
  {
   "cell_type": "markdown",
   "id": "3fb147a3",
   "metadata": {},
   "source": [
    "What is this number 4?"
   ]
  },
  {
   "cell_type": "markdown",
   "id": "a05d63b8",
   "metadata": {
    "slideshow": {
     "slide_type": "subslide"
    }
   },
   "source": [
    "## Flat indexing"
   ]
  },
  {
   "cell_type": "markdown",
   "id": "555f19b9",
   "metadata": {},
   "source": [
    "When you have a multi-dimensional array, you can always index it in two ways:\n",
    " - the standard, multi-dimensional indexing (e.g., `my_array[3,4]`)\n",
    " - with **flat indexing**: we index the array after flattening it out in a single dimension"
   ]
  },
  {
   "cell_type": "code",
   "execution_count": 4,
   "id": "9aff7e93",
   "metadata": {},
   "outputs": [
    {
     "data": {
      "text/plain": [
       "array([[8, 3, 1],\n",
       "       [8, 2, 9],\n",
       "       [9, 1, 1],\n",
       "       [5, 5, 8]])"
      ]
     },
     "execution_count": 4,
     "metadata": {},
     "output_type": "execute_result"
    }
   ],
   "source": [
    "# Example:\n",
    "my_arr = np.random.randint(0, 10, (4, 3))\n",
    "my_arr"
   ]
  },
  {
   "cell_type": "markdown",
   "id": "c784ddcf",
   "metadata": {
    "slideshow": {
     "slide_type": "subslide"
    }
   },
   "source": [
    "There is a flatten representation of this array that we can look at with `.flatten()` method we saw in the last lecture:"
   ]
  },
  {
   "cell_type": "code",
   "execution_count": 10,
   "id": "5d3ca744",
   "metadata": {
    "scrolled": true
   },
   "outputs": [
    {
     "name": "stdout",
     "output_type": "stream",
     "text": [
      "[[8 3 1]\n",
      " [8 2 9]\n",
      " [9 1 1]\n",
      " [5 5 8]]\n",
      "2\n"
     ]
    },
    {
     "data": {
      "text/plain": [
       "1"
      ]
     },
     "execution_count": 10,
     "metadata": {},
     "output_type": "execute_result"
    }
   ],
   "source": [
    "import numpy as np\n",
    "# When we flatten, we concatenate all values of the matrix in a single dimension.\n",
    "# We keep the order of the dimensions of the matrix (the first 3 elements are the first row, that\n",
    "# is, the first dimension):\n",
    "print(my_arr)\n",
    "min_idx = np.argmin(my_arr)\n",
    "print(min_idx)\n",
    "my_arr.flatten()[min_idx]\n"
   ]
  },
  {
   "cell_type": "markdown",
   "id": "1c5c4848",
   "metadata": {
    "slideshow": {
     "slide_type": "subslide"
    }
   },
   "source": [
    "The number we got from `np.argmax()` is the number we would need to use over the flattened representation of the array to get the maximum value!"
   ]
  },
  {
   "cell_type": "code",
   "execution_count": 118,
   "id": "1fe2d615",
   "metadata": {},
   "outputs": [
    {
     "name": "stdout",
     "output_type": "stream",
     "text": [
      "2\n"
     ]
    },
    {
     "data": {
      "text/plain": [
       "7"
      ]
     },
     "execution_count": 118,
     "metadata": {},
     "output_type": "execute_result"
    }
   ],
   "source": [
    "max_idx = np.argmax(my_arr)  # get max index\n",
    "print(max_idx)\n",
    "\n",
    "flat_array = my_arr.flatten()  # create a flattened array\n",
    "flat_array[max_idx]"
   ]
  },
  {
   "cell_type": "markdown",
   "id": "8eb3804e",
   "metadata": {
    "slideshow": {
     "slide_type": "subslide"
    }
   },
   "source": [
    "One last thing. it is obviously annoying having to create a new flattened array to use the index. Also, we create a duplicated array in memory - not good.\n",
    "\n",
    "The best way to use this indexing it through the `.flat` representation of the matrix:"
   ]
  },
  {
   "cell_type": "code",
   "execution_count": 117,
   "id": "f9f17b1d",
   "metadata": {},
   "outputs": [
    {
     "data": {
      "text/plain": [
       "7"
      ]
     },
     "execution_count": 117,
     "metadata": {},
     "output_type": "execute_result"
    }
   ],
   "source": [
    "my_arr.flat[max_idx]"
   ]
  },
  {
   "cell_type": "markdown",
   "id": "4dfe416a",
   "metadata": {
    "slideshow": {
     "slide_type": "subslide"
    }
   },
   "source": [
    "### Index raveling / unraveling"
   ]
  },
  {
   "cell_type": "markdown",
   "id": "2544625b",
   "metadata": {},
   "source": [
    "To convert the flat index to a tuple of matrix indexes, we can use `np.unravel_index()`:"
   ]
  },
  {
   "cell_type": "code",
   "execution_count": 124,
   "id": "be964cd8",
   "metadata": {},
   "outputs": [
    {
     "data": {
      "text/plain": [
       "(1, 2)"
      ]
     },
     "execution_count": 124,
     "metadata": {},
     "output_type": "execute_result"
    }
   ],
   "source": [
    "arr = np.array([[5, 1, 2], [3, 3, 0]])\n",
    "idx = np.argmin(arr)\n",
    "\n",
    "# unravel index takes an index of the flattened array, and the shape of the matrix,\n",
    "# and give us the tuple of ordinary indexes that correspond to that flat index.\n",
    "np.unravel_index(idx, arr.shape)  "
   ]
  },
  {
   "cell_type": "markdown",
   "id": "516b05d5",
   "metadata": {
    "slideshow": {
     "slide_type": "subslide"
    }
   },
   "source": [
    "This is an illustration of what happens. Flat indexes (_left_) are converted to tuple indexes (_right_):\n",
    "(there is a bug in the image, last value should be 11!)\n",
    "\n",
    "![unravel illustration](https://i.stack.imgur.com/sxwBU.png)"
   ]
  },
  {
   "cell_type": "markdown",
   "id": "31153fd2",
   "metadata": {
    "slideshow": {
     "slide_type": "subslide"
    }
   },
   "source": [
    "The converse operation, called unravel, can be done with `np.ravel_multi_index()`, and it goes from the right representation to the left one:"
   ]
  },
  {
   "cell_type": "code",
   "execution_count": 125,
   "id": "08d216f7",
   "metadata": {},
   "outputs": [
    {
     "data": {
      "text/plain": [
       "4"
      ]
     },
     "execution_count": 125,
     "metadata": {},
     "output_type": "execute_result"
    }
   ],
   "source": [
    "np.ravel_multi_index((1, 1), arr.shape)"
   ]
  },
  {
   "cell_type": "markdown",
   "id": "b593d103",
   "metadata": {
    "slideshow": {
     "slide_type": "subslide"
    }
   },
   "source": [
    "### `np.nonzero()` / `np.argwhere()`"
   ]
  },
  {
   "cell_type": "markdown",
   "id": "79f4cce6",
   "metadata": {},
   "source": [
    "There are functions that allow us to get the index of all True elements in an array. In this way, we can set a condition (_e.g._, values above a threshold), and find the index of all elements satisfying it!"
   ]
  },
  {
   "cell_type": "markdown",
   "id": "dffa0fb0",
   "metadata": {},
   "source": [
    "#### `np.argwhere()`"
   ]
  },
  {
   "cell_type": "markdown",
   "id": "9898ac57",
   "metadata": {
    "slideshow": {
     "slide_type": "subslide"
    }
   },
   "source": [
    "`np.argwhere()` find `True` elements and gives us a `(n_pts, n_matrix_dims)` shaped array of indexes:"
   ]
  },
  {
   "cell_type": "code",
   "execution_count": 12,
   "id": "96c7cda4",
   "metadata": {},
   "outputs": [
    {
     "name": "stdout",
     "output_type": "stream",
     "text": [
      "Original array:\n",
      "[[1 2 3 4 5]\n",
      " [0 5 0 3 1]\n",
      " [0 6 7 4 1]]\n",
      "\n",
      "Boolean array:\n",
      "[[False False  True  True  True]\n",
      " [False  True False  True False]\n",
      " [False  True  True  True False]]\n"
     ]
    }
   ],
   "source": [
    "arr = np.array([[1, 2, 3, 4, 5], \n",
    "                [0, 5, 0, 3, 1],\n",
    "                [0, 6, 7, 4, 1]])  # define an array\n",
    "boolean_vals = arr > 2  # boolean condition\n",
    "print(\"Original array:\")\n",
    "\n",
    "print(arr)\n",
    "print(\"\\nBoolean array:\")\n",
    "print(boolean_vals)"
   ]
  },
  {
   "cell_type": "code",
   "execution_count": 13,
   "id": "caaa8ae7",
   "metadata": {
    "scrolled": true,
    "slideshow": {
     "slide_type": "subslide"
    }
   },
   "outputs": [
    {
     "name": "stdout",
     "output_type": "stream",
     "text": [
      "\n",
      "True elements indexes:\n",
      "[[0 2]\n",
      " [0 3]\n",
      " [0 4]\n",
      " [1 1]\n",
      " [1 3]\n",
      " [2 1]\n",
      " [2 2]\n",
      " [2 3]]\n"
     ]
    }
   ],
   "source": [
    "indexes = np.argwhere(boolean_vals)\n",
    "print(\"\\nTrue elements indexes:\")\n",
    "print(indexes)"
   ]
  },
  {
   "cell_type": "markdown",
   "id": "08074f07",
   "metadata": {},
   "source": [
    "The indexes matrix has one row for every True value, and each column represents the position of that value on the boolean matrix."
   ]
  },
  {
   "cell_type": "markdown",
   "id": "164b960b",
   "metadata": {
    "slideshow": {
     "slide_type": "subslide"
    }
   },
   "source": [
    "#### `np.nonzero()`"
   ]
  },
  {
   "cell_type": "markdown",
   "id": "0016a8e6",
   "metadata": {},
   "source": [
    "`np.nonzero()` is very similar to `np.argwhere()`, but instead of a single matrix of indexes (with each column representing the indexes over one dimension for all points), it returns us a tuple of arrays. \n",
    "\n",
    "That is to say, each one of those arrays corresponds to a column of the indexes array returned by `np.argwhere()`."
   ]
  },
  {
   "cell_type": "code",
   "execution_count": 14,
   "id": "f8575e1c",
   "metadata": {},
   "outputs": [
    {
     "name": "stdout",
     "output_type": "stream",
     "text": [
      "(array([0, 0, 0, 1, 1, 2, 2, 2]), array([2, 3, 4, 1, 3, 1, 2, 3]))\n"
     ]
    }
   ],
   "source": [
    "# print(\"\\nBoolean array:\")\n",
    "#print(boolean_vals)\n",
    "\n",
    "indexes_tuple = np.nonzero(boolean_vals)\n",
    "# print(\"\\nTrue elements indexes:\")\n",
    "print(indexes_tuple)"
   ]
  },
  {
   "cell_type": "markdown",
   "id": "64c57ee0",
   "metadata": {
    "slideshow": {
     "slide_type": "subslide"
    }
   },
   "source": [
    "indexes_tuples is a tuple of arrays; each one of thise array corresponds to a column in the indexes matrix above!"
   ]
  },
  {
   "cell_type": "code",
   "execution_count": 141,
   "id": "e1489ec4",
   "metadata": {},
   "outputs": [
    {
     "data": {
      "text/plain": [
       "array([ True,  True,  True,  True,  True,  True,  True,  True])"
      ]
     },
     "execution_count": 141,
     "metadata": {},
     "output_type": "execute_result"
    }
   ],
   "source": [
    "indexes_tuple[0] == indexes[:, 0]"
   ]
  },
  {
   "cell_type": "markdown",
   "id": "a4515297",
   "metadata": {},
   "source": [
    "Why is it useful to return a tuple of arrays?"
   ]
  },
  {
   "cell_type": "markdown",
   "id": "77577ab1",
   "metadata": {
    "slideshow": {
     "slide_type": "subslide"
    }
   },
   "source": [
    "### Array indexes are tuples!"
   ]
  },
  {
   "cell_type": "markdown",
   "id": "e3dfb5f3",
   "metadata": {},
   "source": [
    "Whenever you are writing something like:"
   ]
  },
  {
   "cell_type": "code",
   "execution_count": 142,
   "id": "38d0e3b2",
   "metadata": {},
   "outputs": [
    {
     "data": {
      "text/plain": [
       "2"
      ]
     },
     "execution_count": 142,
     "metadata": {},
     "output_type": "execute_result"
    }
   ],
   "source": [
    "arr[0, 1]"
   ]
  },
  {
   "cell_type": "markdown",
   "id": "08d8acaa",
   "metadata": {},
   "source": [
    "You are actually passing a tuple into the square brackets! If you remember, in python, comma separated\n",
    "values with no brakets are automatically put together in a tuple:"
   ]
  },
  {
   "cell_type": "code",
   "execution_count": 143,
   "id": "147fd252",
   "metadata": {},
   "outputs": [
    {
     "data": {
      "text/plain": [
       "tuple"
      ]
     },
     "execution_count": 143,
     "metadata": {},
     "output_type": "execute_result"
    }
   ],
   "source": [
    "a = 1, 2\n",
    "type(a)"
   ]
  },
  {
   "cell_type": "markdown",
   "id": "7c23e51e",
   "metadata": {},
   "source": [
    "So, writing `arr[0, 1]` is literally the same as writing `arr[(0, 1)]`:"
   ]
  },
  {
   "cell_type": "code",
   "execution_count": 144,
   "id": "39d7d393",
   "metadata": {},
   "outputs": [
    {
     "data": {
      "text/plain": [
       "2"
      ]
     },
     "execution_count": 144,
     "metadata": {},
     "output_type": "execute_result"
    }
   ],
   "source": [
    "arr[(0, 1)]"
   ]
  },
  {
   "cell_type": "markdown",
   "id": "199bef5c",
   "metadata": {},
   "source": [
    "If you remember, you can pass arrays instead of single numbers for indexing:"
   ]
  },
  {
   "cell_type": "code",
   "execution_count": 150,
   "id": "c7bcc7ce",
   "metadata": {},
   "outputs": [
    {
     "name": "stdout",
     "output_type": "stream",
     "text": [
      "[[1 2 3 4 5]\n",
      " [0 5 0 3 1]\n",
      " [0 6 7 4 1]]\n",
      "\n",
      "Selected items:\n"
     ]
    },
    {
     "data": {
      "text/plain": [
       "array([3, 3, 5])"
      ]
     },
     "execution_count": 150,
     "metadata": {},
     "output_type": "execute_result"
    }
   ],
   "source": [
    "# This code will retrieve three elements from arr:\n",
    "#   - the element in (0, 2)\n",
    "#   - the element in (1, 3)\n",
    "#   - the element in (1, 1)\n",
    "\n",
    "print(arr)\n",
    "print(\"\\nSelected items:\")\n",
    "arr[np.array([0, 1, 1]), np.array([2, 3, 1])]"
   ]
  },
  {
   "cell_type": "markdown",
   "id": "67dbd27b",
   "metadata": {},
   "source": [
    "Therefore, we can directly use the indexes arrays tuple we get from `np.nonzero()` to retrieve all elements of the original matrix that matched the boolean condition!"
   ]
  },
  {
   "cell_type": "code",
   "execution_count": 16,
   "id": "3c2d902b",
   "metadata": {},
   "outputs": [
    {
     "name": "stdout",
     "output_type": "stream",
     "text": [
      "Original array:\n",
      "[[1 2 3 4 5]\n",
      " [0 5 0 3 1]\n",
      " [0 6 7 4 1]]\n",
      "\n",
      "Boolean array:\n",
      "[[False False  True  True  True]\n",
      " [False  True False  True False]\n",
      " [False  True  True  True False]]\n"
     ]
    },
    {
     "data": {
      "text/plain": [
       "(array([0, 0, 0, 1, 1, 2, 2, 2]), array([2, 3, 4, 1, 3, 1, 2, 3]))"
      ]
     },
     "execution_count": 16,
     "metadata": {},
     "output_type": "execute_result"
    }
   ],
   "source": [
    "arr = np.array([[1, 2, 3, 4, 5], \n",
    "                [0, 5, 0, 3, 1],\n",
    "                [0, 6, 7, 4, 1]])\n",
    "boolean_vals = arr > 2\n",
    "print(\"Original array:\")\n",
    "print(arr)\n",
    "print(\"\\nBoolean array:\")\n",
    "print(boolean_vals)\n",
    "\n",
    "indexes_tuple = np.nonzero(boolean_vals)\n",
    "indexes_tuple"
   ]
  },
  {
   "cell_type": "code",
   "execution_count": 17,
   "id": "40714eda",
   "metadata": {},
   "outputs": [
    {
     "name": "stdout",
     "output_type": "stream",
     "text": [
      "\n",
      "Elements bigger than 2:\n",
      "[3 4 5 5 3 6 7 4]\n"
     ]
    }
   ],
   "source": [
    "filtered_values = arr[indexes_tuple]  # here we directly use the tuple to index the array!\n",
    "print(\"\\nElements bigger than 2:\")\n",
    "print(filtered_values)"
   ]
  },
  {
   "cell_type": "markdown",
   "id": "4334a9fb",
   "metadata": {
    "slideshow": {
     "slide_type": "subslide"
    }
   },
   "source": [
    "(Practicals 1.1.1)"
   ]
  },
  {
   "cell_type": "code",
   "execution_count": null,
   "id": "88f7b033",
   "metadata": {},
   "outputs": [],
   "source": []
  }
 ],
 "metadata": {
  "celltoolbar": "Slideshow",
  "kernelspec": {
   "display_name": "Python [conda env:course_env]",
   "language": "python",
   "name": "conda-env-course_env-py"
  },
  "language_info": {
   "codemirror_mode": {
    "name": "ipython",
    "version": 3
   },
   "file_extension": ".py",
   "mimetype": "text/x-python",
   "name": "python",
   "nbconvert_exporter": "python",
   "pygments_lexer": "ipython3",
   "version": "3.9.16"
  }
 },
 "nbformat": 4,
 "nbformat_minor": 5
}
