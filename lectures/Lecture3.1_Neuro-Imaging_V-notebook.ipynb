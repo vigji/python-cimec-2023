{
 "cells": [
  {
   "cell_type": "code",
   "execution_count": null,
   "id": "319b34d5-f86b-4080-a6ed-20316a672f1b",
   "metadata": {},
   "outputs": [],
   "source": [
    "import numpy as np\n",
    "import nibabel as nib\n",
    "import matplotlib.pyplot as plt"
   ]
  },
  {
   "cell_type": "markdown",
   "id": "30568703-85a9-41c4-9ad3-7061e3dbdfd1",
   "metadata": {},
   "source": [
    "# Loads the image"
   ]
  },
  {
   "cell_type": "code",
   "execution_count": null,
   "id": "00f3bb72-5ce8-4569-bc16-39908429d9a4",
   "metadata": {},
   "outputs": [],
   "source": [
    "def read_nifti(file_name, labels = ['X', 'Y', 'Z', 'T']):\n",
    "    \n",
    "    img = nib.load(file_name)\n",
    "    \n",
    "    return img, img.shape"
   ]
  },
  {
   "cell_type": "code",
   "execution_count": null,
   "id": "cfa3fc7e-41e9-40f7-9aed-104c2fa373df",
   "metadata": {},
   "outputs": [],
   "source": [
    "# open image\n",
    "\n",
    "file_name = '/home/lenkeiuser/Documents/JC/1_DATA/2023-06-14_python-course/hungary/sub-Kremes/ses-CtrlH/func/sub-Kremes_ses-CtrlH_task-stim_run-01_pd2dt.nii.gz'\n",
    "\n",
    "img, [X,Y,Z,T] = read_nifti(file_name)\n",
    "\n",
    "print(f'Image loaded\\nX: {X}, Y: {Y}, Z: {Z}, T:{T}')"
   ]
  },
  {
   "cell_type": "code",
   "execution_count": null,
   "id": "1cef01fe-6f4c-4ae9-a8bd-cabb89b688eb",
   "metadata": {},
   "outputs": [],
   "source": [
    "# open mask\n",
    "\n",
    "mask_name = '/home/lenkeiuser/Documents/JC/1_DATA/2023-06-14_python-course/hungary/sub-Kremes/ses-CtrlH/func/sub-Kremes_ses-CtrlH_task-stim_run-01_mask.nii.gz'\n",
    "\n",
    "mask_img, [X,Y,Z] = read_nifti(mask_name)\n",
    "\n",
    "print(f'Mask loaded\\nX: {X}, Y: {Y}, Z: {Z}')"
   ]
  },
  {
   "cell_type": "code",
   "execution_count": null,
   "id": "f080c9fc-2c18-4207-abb2-86bae5a63b13",
   "metadata": {},
   "outputs": [],
   "source": [
    "# Checks header\n",
    "\n",
    "for field in img.header:\n",
    "    \n",
    "    print(f'{field:<18} : {img.header[field]}')"
   ]
  },
  {
   "cell_type": "code",
   "execution_count": null,
   "id": "2da00d6a-d567-4547-93bb-a6d45f00aae3",
   "metadata": {},
   "outputs": [],
   "source": [
    "# Just the fields of interest\n",
    "\n",
    "fields_of_interest = ['dim', 'pixdim', 'srow_x', 'srow_y', 'srow_z']\n",
    "\n",
    "for field in fields_of_interest:\n",
    "    \n",
    "    print(f'{field:<18} : {img.header[field]}')"
   ]
  },
  {
   "cell_type": "code",
   "execution_count": null,
   "id": "eeef969e-2932-4d97-ae13-ba5488767653",
   "metadata": {},
   "outputs": [],
   "source": [
    "# Check the affine\n",
    "\n",
    "print(img.affine)"
   ]
  },
  {
   "cell_type": "code",
   "execution_count": null,
   "id": "09a0347b-3622-4fcd-922a-1de59320729f",
   "metadata": {},
   "outputs": [],
   "source": [
    "# Check the shapes\n",
    "\n",
    "print(f'image: {img.header[\"dim\"]}\\nmask: {mask_img.header[\"dim\"]}')"
   ]
  },
  {
   "cell_type": "code",
   "execution_count": null,
   "id": "3af4d1bd-3ad9-419a-9029-139744231411",
   "metadata": {},
   "outputs": [],
   "source": [
    "# Compare the affines\n",
    "\n",
    "print(f'image: \\n{img.affine}\\nmask: \\n{mask_img.affine}')"
   ]
  },
  {
   "cell_type": "markdown",
   "id": "24bf2afd-fd9f-41c1-883e-a498e6b1741f",
   "metadata": {},
   "source": [
    "# Orientation"
   ]
  },
  {
   "cell_type": "code",
   "execution_count": null,
   "id": "2a894688-5e3c-425e-bf42-9cc5e52dd5d0",
   "metadata": {},
   "outputs": [],
   "source": [
    "# proper display\n",
    "\n",
    "from nilearn.plotting import plot_anat\n",
    "from nilearn.image import mean_img, math_img\n",
    "\n",
    "display = plot_anat(mean_img(img))\n",
    "display.add_overlay(mask_img, alpha = 0.5)\n"
   ]
  },
  {
   "cell_type": "code",
   "execution_count": null,
   "id": "f475b38c-5956-4350-be55-c8f97bd9633a",
   "metadata": {},
   "outputs": [],
   "source": [
    "# Custom display\n",
    "\n",
    "# get images to display\n",
    "\n",
    "img_data = img.get_fdata()\n",
    "mask_data = mask_img.get_fdata()\n",
    "\n",
    "with np.errstate(divide = 'ignore', invalid = 'ignore'):\n",
    "    img_0 = np.log10(img_data.squeeze().mean(2))\n",
    "img_1 = mask_data.squeeze()"
   ]
  },
  {
   "cell_type": "code",
   "execution_count": null,
   "id": "8ac666e0-6ae3-4d42-9d52-a0e13e293632",
   "metadata": {},
   "outputs": [],
   "source": [
    "# Displays with matplotlib\n",
    "\n",
    "plt.imshow(np.rot90(img_0), cmap = 'Greys_r', aspect = 0.1/0.11, vmin = 0.6)\n",
    "plt.imshow(np.rot90(img_1), cmap = 'Greys_r', alpha = 0.5, aspect = 0.1/0.11)\n",
    "\n",
    "plt.axis('off')"
   ]
  },
  {
   "cell_type": "code",
   "execution_count": null,
   "id": "3d85dec0-89a8-4438-9580-8998d99d6967",
   "metadata": {},
   "outputs": [],
   "source": [
    "# Is rotating the solution\n",
    "\n",
    "plt.imshow(np.rot90(img_0,3), cmap = 'Greys_r', aspect = 0.1/0.11, vmin = 0.6)\n",
    "plt.imshow(np.rot90(img_1,3), cmap = 'Greys_r', alpha = 0.5, aspect = 0.1/0.11)\n",
    "\n",
    "plt.axis('off')"
   ]
  },
  {
   "cell_type": "code",
   "execution_count": null,
   "id": "833d194a-eb66-47d0-9417-f8e7c0aeec86",
   "metadata": {},
   "outputs": [],
   "source": [
    "# It is different from a flip\n",
    "\n",
    "plt.imshow(np.rot90(np.flip(img_0,1)), cmap = 'Greys_r', aspect = 0.1/0.11, vmin = 0.6)\n",
    "plt.imshow(np.rot90(np.flip(img_1,1)), cmap = 'Greys_r', alpha = 0.5, aspect = 0.1/0.11)\n",
    "\n",
    "plt.axis('off')"
   ]
  },
  {
   "cell_type": "code",
   "execution_count": null,
   "id": "97cc0fe7-a0b8-483e-aabf-d88bbbb4bd5a",
   "metadata": {},
   "outputs": [],
   "source": [
    "# Never mess with the affine\n",
    "\n",
    "affine = mask_img.affine\n",
    "affine[2,2] = 0.1\n",
    "flipped_mask = nib.Nifti1Image(\n",
    "    mask_img.get_fdata(), \n",
    "    affine = affine, \n",
    "    header = mask_img.header\n",
    ")\n",
    "\n",
    "flipped_mask.affine"
   ]
  },
  {
   "cell_type": "code",
   "execution_count": null,
   "id": "1486bca2-fa4a-4f55-8456-9c5baec287c0",
   "metadata": {},
   "outputs": [],
   "source": [
    "# Changing the affine is changing the world representation\n",
    "\n",
    "display = plot_anat(mean_img(img))\n",
    "display.add_overlay(flipped_mask, alpha = 0.5)"
   ]
  },
  {
   "cell_type": "code",
   "execution_count": null,
   "id": "77f3b5b7-b94a-4e81-b006-d53f328242e5",
   "metadata": {},
   "outputs": [],
   "source": [
    "# Modifying the affine requires geometrical processing\n",
    "\n",
    "affine = mask_img.affine\n",
    "affine[2,2] = 0.1\n",
    "affine[2,3] = -Z*0.1\n",
    "flipped_mask = nib.Nifti1Image(\n",
    "    mask_img.get_fdata(), \n",
    "    affine = affine, \n",
    "    header = mask_img.header\n",
    ")\n",
    "\n",
    "flipped_mask.affine"
   ]
  },
  {
   "cell_type": "code",
   "execution_count": null,
   "id": "2db22fb7-2fdd-46b4-8ab2-e89ab84b45fc",
   "metadata": {},
   "outputs": [],
   "source": [
    "display = plot_anat(mean_img(img))\n",
    "display.add_overlay(flipped_mask, alpha = 0.5)"
   ]
  },
  {
   "cell_type": "code",
   "execution_count": null,
   "id": "ac8c4598-f810-49e9-a002-870bc4dbda15",
   "metadata": {},
   "outputs": [],
   "source": [
    "# Practicals 2.3.0"
   ]
  },
  {
   "cell_type": "markdown",
   "id": "547bdef3-7979-4d8b-ac22-79115976df17",
   "metadata": {},
   "source": [
    "# Correlation analysis"
   ]
  },
  {
   "cell_type": "code",
   "execution_count": null,
   "id": "fc6c4757-e5a3-4e02-b4c2-98d24c733fa7",
   "metadata": {},
   "outputs": [],
   "source": [
    "# open image\n",
    "\n",
    "file_name = '/home/lenkeiuser/Documents/JC/1_DATA/2023-06-14_python-course/hungary/sub-Kremes/ses-CtrlH/func/sub-Kremes_ses-CtrlH_task-stim_run-01_pd2dt.nii.gz'\n",
    "mask_name = '/home/lenkeiuser/Documents/JC/1_DATA/2023-06-14_python-course/hungary/sub-Kremes/ses-CtrlH/func/sub-Kremes_ses-CtrlH_task-stim_run-01_mask.nii.gz'\n",
    "\n",
    "img, [X,Y,Z,T] = read_nifti(file_name)\n",
    "\n",
    "print(f'Image loaded\\nX: {X}, Y: {Y}, Z: {Z}, T:{T}')\n",
    "\n",
    "mask_img, [X,Y,Z] = read_nifti(mask_name)\n",
    "\n",
    "print(f'Mask loaded\\nX: {X}, Y: {Y}, Z: {Z}')"
   ]
  },
  {
   "cell_type": "code",
   "execution_count": null,
   "id": "abbdc401-b43a-4902-ab34-28a2b4c3eaab",
   "metadata": {},
   "outputs": [],
   "source": [
    "# Display proper\n",
    "\n",
    "from nilearn.plotting import plot_carpet\n",
    "\n",
    "_ = plot_carpet(img, mask_img = mask_img, t_r = 0.4)"
   ]
  },
  {
   "cell_type": "code",
   "execution_count": null,
   "id": "e853f2c1-e0e2-490d-98d9-60386aa24c90",
   "metadata": {},
   "outputs": [],
   "source": [
    "# Custom display\n",
    "\n",
    "from nilearn.masking import apply_mask, unmask\n",
    "\n",
    "signals = apply_mask(img, mask_img)\n",
    "\n",
    "print(signals.shape)"
   ]
  },
  {
   "cell_type": "code",
   "execution_count": null,
   "id": "de628589-e1f6-4ab2-a8fa-0772b0628b06",
   "metadata": {},
   "outputs": [],
   "source": [
    "# Weird\n",
    "\n",
    "plt.imshow(np.rot90(signals), interpolation = 'none', cmap = 'Greys_r', aspect = 'auto')"
   ]
  },
  {
   "cell_type": "code",
   "execution_count": null,
   "id": "007f7777-4bf2-4db5-8096-d134df130fdc",
   "metadata": {},
   "outputs": [],
   "source": [
    "# Normalise\n",
    "\n",
    "signals_norm = (signals-signals.mean(0))/signals.std(0)"
   ]
  },
  {
   "cell_type": "code",
   "execution_count": null,
   "id": "8f666dfa-1227-4c62-8f36-e26a0349cd32",
   "metadata": {},
   "outputs": [],
   "source": [
    "# smooth custom\n",
    "\n",
    "plt.imshow(\n",
    "    np.rot90(signals_norm), \n",
    "    cmap = 'Greys_r', \n",
    "    aspect = 'auto', \n",
    "    vmin = -2, \n",
    "    vmax = 2\n",
    ")"
   ]
  },
  {
   "cell_type": "code",
   "execution_count": null,
   "id": "4b232c30-4ed5-4977-b0f1-ef10b745a9eb",
   "metadata": {},
   "outputs": [],
   "source": [
    "# Proper is not always that proper\n",
    "\n",
    "plt.imshow(\n",
    "    np.rot90(signals_norm_clean), \n",
    "    cmap = 'Greys_r', \n",
    "    aspect = 'auto', \n",
    "    interpolation = 'none',\n",
    "    vmin = -2, \n",
    "    vmax = 2\n",
    ")"
   ]
  },
  {
   "cell_type": "code",
   "execution_count": null,
   "id": "92ddc6bc-efdf-4c15-9d3f-96624ec90db4",
   "metadata": {},
   "outputs": [],
   "source": [
    "# Looking at global signal\n",
    "\n",
    "plt.plot(signals_norm.mean(1))"
   ]
  },
  {
   "cell_type": "code",
   "execution_count": null,
   "id": "48944011-56c0-4cef-af4b-da09727524d3",
   "metadata": {},
   "outputs": [],
   "source": [
    "# proper detrend\n",
    "\n",
    "from scipy.signal import detrend\n",
    "\n",
    "signals_detrend = detrend(signals_norm, type = 'linear', axis = 0)"
   ]
  },
  {
   "cell_type": "code",
   "execution_count": null,
   "id": "b81b7266-b580-488a-82a6-8a6c8e468ec2",
   "metadata": {},
   "outputs": [],
   "source": [
    "# not so proper\n",
    "\n",
    "plt.plot(signals_detrend.mean(1))"
   ]
  },
  {
   "cell_type": "code",
   "execution_count": null,
   "id": "62997b03-0110-4739-b0b8-cafd253a36c9",
   "metadata": {},
   "outputs": [],
   "source": [
    "# Custom detrend\n",
    "\n",
    "def detrend_poly(signals, deg = 3):\n",
    "    \n",
    "    [T,nb_vox] = signals.shape\n",
    "    x = np.linspace(-1, 1, T)\n",
    "\n",
    "    p = np.polyfit(x, signals, deg)\n",
    "    poly_fit = np.array([np.polyval(p_i, x) for p_i in p.T]).T\n",
    "    \n",
    "    return signals-poly_fit\n",
    "\n",
    "\n",
    "signals_detrend = detrend_poly(signals_norm)"
   ]
  },
  {
   "cell_type": "code",
   "execution_count": null,
   "id": "096b26a8-5252-48cd-9571-8acfe10e78a2",
   "metadata": {},
   "outputs": [],
   "source": [
    "# detrended signal\n",
    "\n",
    "plt.plot(signals_detrend.mean(1))"
   ]
  },
  {
   "cell_type": "code",
   "execution_count": null,
   "id": "35b40cc8-8449-47c3-81af-b2a62e7a1452",
   "metadata": {},
   "outputs": [],
   "source": [
    "# Lets go back to images\n",
    "\n",
    "img_norm = unmask(signals_norm, mask_img)\n",
    "img_detrend = unmask(signals_detrend, mask_img)"
   ]
  },
  {
   "cell_type": "code",
   "execution_count": null,
   "id": "cd61388f-f9f9-47ec-ab42-5c6eb625368e",
   "metadata": {},
   "outputs": [],
   "source": [
    "# Custom display\n",
    "\n",
    "def display_fus_img(img, fig = None, ax = None):\n",
    "    \n",
    "    if not fig:\n",
    "        \n",
    "        fig = plt.figure(figsize = (6,5), dpi = 200)\n",
    "        \n",
    "    if not ax:\n",
    "        \n",
    "        ax = fig.gca()        \n",
    "    \n",
    "    img_0 = np.flip(img.get_fdata().squeeze().mean(2), 1)\n",
    "        \n",
    "    ax.imshow(np.rot90(img_0), cmap = 'Greys_r')\n",
    "    ax.axis('off')\n",
    "    \n",
    "    return fig, ax\n",
    "    \n",
    "# Normalised\n",
    "\n",
    "_ = display_fus_img(img_norm)"
   ]
  },
  {
   "cell_type": "code",
   "execution_count": null,
   "id": "03792e67-91e9-4d92-a688-8263f0c7bf52",
   "metadata": {},
   "outputs": [],
   "source": [
    "# Detrended\n",
    "\n",
    "_ = display_fus_img(img_detrend)"
   ]
  },
  {
   "cell_type": "code",
   "execution_count": null,
   "id": "293690a5-2be6-4aec-bde8-9d39b58a6ce8",
   "metadata": {},
   "outputs": [],
   "source": [
    "# Lindquist 2018"
   ]
  },
  {
   "cell_type": "markdown",
   "id": "4e833e4d-1383-475d-82e0-38bc4304f283",
   "metadata": {},
   "source": [
    "# Getting the stim"
   ]
  },
  {
   "cell_type": "code",
   "execution_count": null,
   "id": "4e853bd7-e2d6-4c91-ba22-fc0ba307d01d",
   "metadata": {},
   "outputs": [],
   "source": [
    "# Reading events file\n",
    "\n",
    "from pandas import read_csv\n",
    "\n",
    "fs = 2.5\n",
    "\n",
    "csv_name = file_name = '/home/lenkeiuser/Documents/JC/1_DATA/2023-06-14_python-course/hungary/sub-Kremes/ses-CtrlH/func/sub-Kremes_ses-CtrlH_task-stim_run-01_events.tsv'\n",
    "\n",
    "events = read_csv(csv_name, delimiter = '\\t')\n",
    "events"
   ]
  },
  {
   "cell_type": "code",
   "execution_count": null,
   "id": "ad2bcf48-2a25-472a-9e88-0f068595bc55",
   "metadata": {},
   "outputs": [],
   "source": [
    "# Building event regressor\n",
    "\n",
    "event_signal = np.zeros(T)\n",
    "for row in events.iterrows():\n",
    "    \n",
    "    if row[1].trial_type == 'active':\n",
    "\n",
    "        event_signal[int(row[1].onset*fs):int(row[1].onset*fs)+int(row[1].duration*fs)] = 1"
   ]
  },
  {
   "cell_type": "code",
   "execution_count": null,
   "id": "9988d0e6-3a7d-47d2-9b55-538b23cba5f7",
   "metadata": {},
   "outputs": [],
   "source": [
    "# plotting the stim\n",
    "\n",
    "plt.plot(event_signal)"
   ]
  },
  {
   "cell_type": "markdown",
   "id": "c1bdda6b-baec-4451-b7f7-acdcf68ca7e1",
   "metadata": {},
   "source": [
    "# Correlation map"
   ]
  },
  {
   "cell_type": "code",
   "execution_count": null,
   "id": "65152535-f73d-42a2-a303-9a0df5c4869d",
   "metadata": {},
   "outputs": [],
   "source": [
    "# Computes correlation\n",
    "\n",
    "cor_raw = [np.corrcoef(x, event_signal)[0,1] for x in signals.T]\n",
    "cor_detrend = [np.corrcoef(x, event_signal)[0,1] for x in signals_detrend.T]"
   ]
  },
  {
   "cell_type": "code",
   "execution_count": null,
   "id": "3adcffbd-4dfb-4818-8fe2-737516aaaa0b",
   "metadata": {},
   "outputs": [],
   "source": [
    "# Goes to images\n",
    "\n",
    "amap_raw = unmask(cor_raw, mask_img).get_fdata().squeeze()\n",
    "amap_detrend = unmask(cor_detrend, mask_img).get_fdata().squeeze()"
   ]
  },
  {
   "cell_type": "code",
   "execution_count": null,
   "id": "91dad371-7be2-4f6c-a658-e9e4315982a2",
   "metadata": {},
   "outputs": [],
   "source": [
    "# Fancy display => Colorcet is life \n",
    "\n",
    "import colorcet as cc\n",
    "\n",
    "nb_col = 3\n",
    "nb_lin = 1\n",
    "\n",
    "fig, ax = plt.subplots(nb_lin, nb_col, figsize = (nb_col*6, nb_lin*5))\n",
    "\n",
    "ax[0].imshow(np.rot90(amap_raw,3), cmap = cc.cm['CET_D1'], vmin = -0.5, vmax = 0.5)\n",
    "ax[0].axis('off')\n",
    "\n",
    "ax[1].imshow(np.rot90(amap_detrend,3), cmap = cc.cm['CET_D1'], vmin = -0.5, vmax = 0.5)\n",
    "ax[1].axis('off')\n",
    "\n",
    "ax[2].imshow(np.rot90(amap_detrend-amap_raw,3), cmap = cc.cm['CET_D1'], vmin = -0.5, vmax = 0.5)\n",
    "ax[2].axis('off')"
   ]
  },
  {
   "cell_type": "code",
   "execution_count": null,
   "id": "1345d187-7c9e-43c0-8ec7-a7a17b8fe487",
   "metadata": {},
   "outputs": [],
   "source": [
    "# A bit of stats\n",
    "\n",
    "_ = plt.hist(cor_detrend, 100)\n",
    "\n",
    "plt.axvline(np.percentile(cor_detrend, 95), c = 'k')"
   ]
  },
  {
   "cell_type": "code",
   "execution_count": null,
   "id": "1e4c4e21-866d-4e82-9895-728b2671b17f",
   "metadata": {},
   "outputs": [],
   "source": [
    "# Lets get an active zone\n",
    "\n",
    "mask_active = np.zeros(len(cor_detrend))\n",
    "mask_active[np.array(cor_detrend) > np.percentile(cor_detrend, 98)] = 1\n",
    "\n",
    "img_mask_active = unmask(mask_active, mask_img)"
   ]
  },
  {
   "cell_type": "code",
   "execution_count": null,
   "id": "95cb4766-b1b6-4ff4-87a0-197ca05461b2",
   "metadata": {},
   "outputs": [],
   "source": [
    "# What does the zone look like\n",
    "\n",
    "plt.imshow(np.rot90(amap_raw,3), cmap = cc.cm['CET_D1'], vmin = -0.5, vmax = 0.5)\n",
    "\n",
    "img_1 = img_mask_active.get_fdata().squeeze()\n",
    "\n",
    "plt.imshow(np.rot90(img_1,3), cmap = 'Greys', alpha = 0.2)\n",
    "plt.axis('off')"
   ]
  },
  {
   "cell_type": "code",
   "execution_count": null,
   "id": "a8decd61-cb2a-4dff-a374-ad761c1424a1",
   "metadata": {},
   "outputs": [],
   "source": [
    "# some timeseries\n",
    "\n",
    "active_signals = apply_mask(img_detrend, img_mask_active)\n",
    "\n",
    "plt.plot(active_signals.mean(1))"
   ]
  },
  {
   "cell_type": "code",
   "execution_count": null,
   "id": "e9b31896-090e-4fe1-92d0-90d1dfcfc8a8",
   "metadata": {},
   "outputs": [],
   "source": [
    "# Practicals 2.3.1"
   ]
  },
  {
   "cell_type": "markdown",
   "id": "d655b348-5e1f-4dd9-a696-7e28e5a23005",
   "metadata": {},
   "source": [
    "# Clean image"
   ]
  },
  {
   "cell_type": "code",
   "execution_count": null,
   "id": "0a663122-c8b6-4f46-a9ce-451950651f8c",
   "metadata": {},
   "outputs": [],
   "source": [
    "# all at once\n",
    "\n",
    "from nilearn.image import smooth_img, high_variance_confounds\n",
    "\n",
    "# confounds = high_variance_confounds(img, n_confounds=5, percentile=2.0, detrend=True, mask_img=mask_img)\n",
    "\n",
    "img_cleaned = clean_img(\n",
    "    smooth_img(img, fwhm=0.2), \n",
    "    mask_img = mask_img, \n",
    "    standardize = True,\n",
    "    detrend = True,\n",
    "    high_pass = 0.01,\n",
    "    t_r = 1/fs\n",
    ")\n",
    "\n",
    "signals_clean = apply_mask(img_cleaned, mask_img)\n",
    "cor_clean = [np.corrcoef(x, event_signal)[0,1] for x in signals_clean.T]\n",
    "amap_clean = unmask(cor_clean, mask_img).get_fdata().squeeze()"
   ]
  },
  {
   "cell_type": "code",
   "execution_count": null,
   "id": "94e44824-e081-4fa1-9bed-79e8bfe3d912",
   "metadata": {},
   "outputs": [],
   "source": [
    "# might be slightly over processed\n",
    "\n",
    "import colorcet as cc\n",
    "\n",
    "nb_col = 3\n",
    "nb_lin = 1\n",
    "\n",
    "fig, ax = plt.subplots(nb_lin, nb_col, figsize = (nb_col*6, nb_lin*5))\n",
    "\n",
    "ax[0].imshow(np.rot90(amap_raw,3), cmap = cc.cm['CET_D1'], vmin = -0.5, vmax = 0.5)\n",
    "ax[0].axis('off')\n",
    "\n",
    "ax[1].imshow(np.rot90(amap_clean,3), cmap = cc.cm['CET_D1'], vmin = -0.5, vmax = 0.5)\n",
    "ax[1].axis('off')\n",
    "\n",
    "ax[2].imshow(np.rot90(amap_clean-amap_raw,3), cmap = cc.cm['CET_D1'], vmin = -0.5, vmax = 0.5)\n",
    "ax[2].axis('off')"
   ]
  },
  {
   "cell_type": "markdown",
   "id": "a73673ad-168c-4063-b911-3551f9b778e3",
   "metadata": {},
   "source": [
    "# GLM"
   ]
  },
  {
   "cell_type": "markdown",
   "id": "c41bbf97-2d18-4749-8509-eb3165feb9ec",
   "metadata": {},
   "source": [
    "Adapted from nilearn tutorials"
   ]
  },
  {
   "cell_type": "code",
   "execution_count": null,
   "id": "8e151592-ac68-4bda-b757-5025cf2ce1c9",
   "metadata": {},
   "outputs": [],
   "source": [
    "# Load data\n",
    "\n",
    "from nilearn.datasets import fetch_spm_auditory\n",
    "\n",
    "subject_data = fetch_spm_auditory()\n",
    "subject_data.func "
   ]
  },
  {
   "cell_type": "code",
   "execution_count": null,
   "id": "968f5384-5bc1-48e9-9979-b1af143639ab",
   "metadata": {},
   "outputs": [],
   "source": [
    "# Display\n",
    "\n",
    "from nilearn.plotting import plot_anat, plot_img, plot_stat_map\n",
    "\n",
    "plot_img(subject_data.func[0], colorbar=True, cbar_tick_format=\"%i\")\n",
    "plot_anat(subject_data.anat, colorbar=True, cbar_tick_format=\"%i\")"
   ]
  },
  {
   "cell_type": "code",
   "execution_count": null,
   "id": "6936cb60-d2f0-4422-80f7-45e877a3a668",
   "metadata": {},
   "outputs": [],
   "source": [
    "# Builds stim pattern\n",
    "\n",
    "from nilearn.image import concat_imgs, mean_img\n",
    "import pandas as pd\n",
    "\n",
    "# Creates 4D image\n",
    "\n",
    "fmri_img = concat_imgs(subject_data.func)\n",
    "mean_img = mean_img(fmri_img)\n",
    "\n",
    "# extracts stimulation pattern\n",
    "\n",
    "events = pd.read_table(subject_data[\"events\"])\n",
    "events"
   ]
  },
  {
   "cell_type": "code",
   "execution_count": null,
   "id": "8e52c756-0afa-48ea-b766-d8c7b2f5b295",
   "metadata": {},
   "outputs": [],
   "source": [
    "# creates and fit the model\n",
    "\n",
    "from nilearn.glm.first_level import FirstLevelModel\n",
    "\n",
    "fmri_glm = FirstLevelModel(\n",
    "    t_r=7,\n",
    "    noise_model=\"ar1\",\n",
    "    standardize=False,\n",
    "    hrf_model=\"spm\",\n",
    "    drift_model=\"cosine\",\n",
    "    high_pass=0.01,\n",
    ")\n",
    "\n",
    "fmri_glm = fmri_glm.fit(fmri_img, events)"
   ]
  },
  {
   "cell_type": "code",
   "execution_count": null,
   "id": "8fb1d224-cac3-4479-be93-4f5149c2a3a9",
   "metadata": {},
   "outputs": [],
   "source": [
    "# Checking the model\n",
    "\n",
    "from nilearn.plotting import plot_design_matrix\n",
    "\n",
    "design_matrix = fmri_glm.design_matrices_[0]\n",
    "\n",
    "plot_design_matrix(design_matrix)\n",
    "\n",
    "plt.show()"
   ]
  },
  {
   "cell_type": "code",
   "execution_count": null,
   "id": "94456780-4085-4d3a-baf2-d05946d6f9fe",
   "metadata": {},
   "outputs": [],
   "source": [
    "# does the stats\n",
    "\n",
    "import numpy as np\n",
    "\n",
    "conditions = {\"active\": np.zeros(16), \"rest\": np.zeros(16)}\n",
    "conditions[\"active\"][0] = 1\n",
    "conditions[\"rest\"][1] = 1\n",
    "\n",
    "active_minus_rest = conditions[\"active\"] - conditions[\"rest\"]\n",
    "\n",
    "eff_map = fmri_glm.compute_contrast(\n",
    "    active_minus_rest, output_type=\"effect_size\"\n",
    ")\n",
    "\n",
    "z_map = fmri_glm.compute_contrast(active_minus_rest, output_type=\"z_score\")"
   ]
  },
  {
   "cell_type": "code",
   "execution_count": null,
   "id": "56f0f43f-d512-43f0-879c-0cca5ace82d6",
   "metadata": {},
   "outputs": [],
   "source": [
    "# plots the stats\n",
    "\n",
    "plot_stat_map(\n",
    "    z_map,\n",
    "    bg_img=mean_img,\n",
    "    threshold=3.0,\n",
    "    display_mode=\"z\",\n",
    "    cut_coords=3,\n",
    "    black_bg=True,\n",
    "    title=\"Active minus Rest (Z>3)\",\n",
    ")\n",
    "plt.show()"
   ]
  },
  {
   "cell_type": "code",
   "execution_count": null,
   "id": "5c3dddeb-3382-4345-a6bc-3a676baba158",
   "metadata": {},
   "outputs": [],
   "source": [
    "# Practicals 2.3.2"
   ]
  }
 ],
 "metadata": {
  "kernelspec": {
   "display_name": "Python [conda env:course_env]",
   "language": "python",
   "name": "conda-env-course_env-py"
  },
  "language_info": {
   "codemirror_mode": {
    "name": "ipython",
    "version": 3
   },
   "file_extension": ".py",
   "mimetype": "text/x-python",
   "name": "python",
   "nbconvert_exporter": "python",
   "pygments_lexer": "ipython3"
  }
 },
 "nbformat": 4,
 "nbformat_minor": 5
}
