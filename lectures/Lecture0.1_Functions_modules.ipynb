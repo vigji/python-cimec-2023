{
 "cells": [
  {
   "cell_type": "markdown",
   "id": "5eee34f5",
   "metadata": {},
   "source": [
    "# Functions and modules\n",
    "\n",
    "Start organizing code in Python"
   ]
  },
  {
   "cell_type": "markdown",
   "id": "5b3bdbf7",
   "metadata": {},
   "source": [
    "## Functions\n",
    "\n",
    "Ways of keeping together code for a specific goal"
   ]
  },
  {
   "cell_type": "code",
   "execution_count": null,
   "id": "220a5e39",
   "metadata": {},
   "outputs": [],
   "source": [
    "# Example: chunk text in a list of words and their counts"
   ]
  }
 ],
 "metadata": {
  "kernelspec": {
   "display_name": "Python 3 (ipykernel)",
   "language": "python",
   "name": "python3"
  },
  "language_info": {
   "codemirror_mode": {
    "name": "ipython",
    "version": 3
   },
   "file_extension": ".py",
   "mimetype": "text/x-python",
   "name": "python",
   "nbconvert_exporter": "python",
   "pygments_lexer": "ipython3",
   "version": "3.9.13"
  }
 },
 "nbformat": 4,
 "nbformat_minor": 5
}
