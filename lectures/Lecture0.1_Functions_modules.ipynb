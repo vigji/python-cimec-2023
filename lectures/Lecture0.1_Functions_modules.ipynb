{
 "cells": [
  {
   "cell_type": "markdown",
   "id": "5eee34f5",
   "metadata": {},
   "source": [
    "# Functions and modules\n",
    "\n",
    "Start organizing code in Python"
   ]
  },
  {
   "cell_type": "markdown",
   "id": "5b3bdbf7",
   "metadata": {},
   "source": [
    "## Functions\n",
    "\n",
    "Ways of keeping together code for a specific goal"
   ]
  },
  {
   "cell_type": "code",
   "execution_count": null,
   "id": "220a5e39",
   "metadata": {},
   "outputs": [],
   "source": [
    "# Example: chunk text in a list of words and their counts"
   ]
  },
  {
   "cell_type": "markdown",
   "id": "fab10bc9",
   "metadata": {},
   "source": [
    "### Arguments of a function"
   ]
  },
  {
   "cell_type": "code",
   "execution_count": null,
   "id": "246ed19e",
   "metadata": {},
   "outputs": [],
   "source": []
  },
  {
   "cell_type": "markdown",
   "id": "21585590",
   "metadata": {},
   "source": [
    "### Arguments by position"
   ]
  },
  {
   "cell_type": "code",
   "execution_count": null,
   "id": "f1fc3487",
   "metadata": {},
   "outputs": [],
   "source": []
  },
  {
   "cell_type": "markdown",
   "id": "c6a5a193",
   "metadata": {},
   "source": [
    "### Arguments by keyword"
   ]
  },
  {
   "cell_type": "code",
   "execution_count": null,
   "id": "f04ebc0f",
   "metadata": {},
   "outputs": [],
   "source": []
  },
  {
   "cell_type": "markdown",
   "id": "2e99b7ab",
   "metadata": {},
   "source": [
    "### Returned values"
   ]
  },
  {
   "cell_type": "code",
   "execution_count": null,
   "id": "abbc3803",
   "metadata": {},
   "outputs": [],
   "source": []
  },
  {
   "cell_type": "markdown",
   "id": "10815676",
   "metadata": {},
   "source": [
    "### The scope of a variable"
   ]
  },
  {
   "cell_type": "code",
   "execution_count": null,
   "id": "0ace6798",
   "metadata": {},
   "outputs": [],
   "source": []
  },
  {
   "cell_type": "markdown",
   "id": "12f1b910",
   "metadata": {},
   "source": [
    "### Passing functions to functions"
   ]
  },
  {
   "cell_type": "code",
   "execution_count": null,
   "id": "a66b82b6",
   "metadata": {},
   "outputs": [],
   "source": []
  },
  {
   "cell_type": "markdown",
   "id": "e98d8ad3",
   "metadata": {},
   "source": [
    "## Python modules"
   ]
  },
  {
   "cell_type": "markdown",
   "id": "abfe66bc",
   "metadata": {},
   "source": [
    "### What is a module"
   ]
  },
  {
   "cell_type": "code",
   "execution_count": null,
   "id": "5f0580b2",
   "metadata": {},
   "outputs": [],
   "source": []
  },
  {
   "cell_type": "markdown",
   "id": "0a1a0d77",
   "metadata": {},
   "source": [
    "### Import a full module"
   ]
  },
  {
   "cell_type": "code",
   "execution_count": null,
   "id": "95601092",
   "metadata": {},
   "outputs": [],
   "source": []
  },
  {
   "cell_type": "markdown",
   "id": "412474e8",
   "metadata": {},
   "source": [
    "### Import code from a module"
   ]
  },
  {
   "cell_type": "code",
   "execution_count": null,
   "id": "111cf7be",
   "metadata": {},
   "outputs": [],
   "source": []
  },
  {
   "cell_type": "markdown",
   "id": "a980cfdb",
   "metadata": {},
   "source": [
    "### Native modules"
   ]
  },
  {
   "cell_type": "code",
   "execution_count": null,
   "id": "fecc2fc0",
   "metadata": {},
   "outputs": [],
   "source": []
  },
  {
   "cell_type": "markdown",
   "id": "26a9a3d7",
   "metadata": {},
   "source": [
    "### Installing a new Python module"
   ]
  },
  {
   "cell_type": "code",
   "execution_count": null,
   "id": "3776a559",
   "metadata": {},
   "outputs": [],
   "source": []
  },
  {
   "cell_type": "markdown",
   "id": "547e5bbe",
   "metadata": {},
   "source": [
    "### What happens when we install modules?"
   ]
  },
  {
   "cell_type": "markdown",
   "id": "ea96b782",
   "metadata": {},
   "source": [
    "PyPI"
   ]
  },
  {
   "cell_type": "code",
   "execution_count": null,
   "id": "78d71834",
   "metadata": {},
   "outputs": [],
   "source": []
  },
  {
   "cell_type": "code",
   "execution_count": null,
   "id": "a6fe040e",
   "metadata": {},
   "outputs": [],
   "source": []
  },
  {
   "cell_type": "code",
   "execution_count": null,
   "id": "a9b011b7",
   "metadata": {},
   "outputs": [],
   "source": []
  },
  {
   "cell_type": "code",
   "execution_count": null,
   "id": "91e9b548",
   "metadata": {},
   "outputs": [],
   "source": []
  },
  {
   "cell_type": "code",
   "execution_count": null,
   "id": "cbb08380",
   "metadata": {},
   "outputs": [],
   "source": []
  },
  {
   "cell_type": "code",
   "execution_count": null,
   "id": "094f3119",
   "metadata": {},
   "outputs": [],
   "source": []
  },
  {
   "cell_type": "code",
   "execution_count": null,
   "id": "8d1a955e",
   "metadata": {},
   "outputs": [],
   "source": []
  },
  {
   "cell_type": "code",
   "execution_count": null,
   "id": "96caab54",
   "metadata": {},
   "outputs": [],
   "source": []
  },
  {
   "cell_type": "code",
   "execution_count": null,
   "id": "d46e68d7",
   "metadata": {},
   "outputs": [],
   "source": []
  },
  {
   "cell_type": "code",
   "execution_count": null,
   "id": "4b13b1c6",
   "metadata": {},
   "outputs": [],
   "source": []
  }
 ],
 "metadata": {
  "kernelspec": {
   "display_name": "Python 3 (ipykernel)",
   "language": "python",
   "name": "python3"
  },
  "language_info": {
   "codemirror_mode": {
    "name": "ipython",
    "version": 3
   },
   "file_extension": ".py",
   "mimetype": "text/x-python",
   "name": "python",
   "nbconvert_exporter": "python",
   "pygments_lexer": "ipython3",
   "version": "3.9.13"
  }
 },
 "nbformat": 4,
 "nbformat_minor": 5
}
