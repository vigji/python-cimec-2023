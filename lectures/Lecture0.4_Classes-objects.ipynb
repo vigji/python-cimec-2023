{
 "cells": [
  {
   "cell_type": "markdown",
   "id": "3ca811a3",
   "metadata": {},
   "source": [
    "# Python for (open) Neuroscience\n",
    "\n",
    "_Lecture 0.4_ - Classes and objects\n",
    "\n",
    "Luigi Petrucco\n",
    "\n",
    "Jean-Charles Mariani\n",
    "\n",
    "[![Open In Colab](https://colab.research.google.com/assets/colab-badge.svg)](https://colab.research.google.com/github/vigji/python-cimec/blob/main/lectures/Lecture0.4_Classes-objects.ipynb)"
   ]
  },
  {
   "cell_type": "markdown",
   "id": "7220db85",
   "metadata": {},
   "source": [
    "## Classes and objects\n",
    "\n",
    "Deep down the rabbit (Python) hole..."
   ]
  },
  {
   "cell_type": "markdown",
   "id": "9d8f8fae",
   "metadata": {},
   "source": [
    "## Object-oriented programming (OOP)"
   ]
  },
  {
   "cell_type": "markdown",
   "id": "0e08d04a",
   "metadata": {},
   "source": [
    "OOP is a programming paradigm based on the concept of <span style=\"color:indianred\">objects</span>, which _bind together data and code_."
   ]
  },
  {
   "cell_type": "markdown",
   "id": "7c26d16b",
   "metadata": {},
   "source": [
    "**Disclaimer 0:** \n",
    "\n",
    "OOP can be confusing at first. You're entering the realm of True Programming Problems! Some concepts might feel a bit metaphysical."
   ]
  },
  {
   "cell_type": "markdown",
   "id": "e3df9290",
   "metadata": {},
   "source": [
    "**Disclaimer 1:**\n",
    "\n",
    "This lecture is aimed more at understanding/reading existing code than at implementation. You won't probably write a lot of classes right now, but the concepts are essential in Python!"
   ]
  },
  {
   "cell_type": "markdown",
   "id": "493e5711",
   "metadata": {},
   "source": [
    "**Disclaimer 1:**\n",
    "\n",
    "OOP is not intrinsically good (or bad). It can be a very good solution for some coding subtasks, and in Python can be effectively combined with functional programming!"
   ]
  },
  {
   "cell_type": "markdown",
   "id": "d82bee46",
   "metadata": {},
   "source": [
    "Let's start with an example..."
   ]
  },
  {
   "cell_type": "markdown",
   "id": "b2952947",
   "metadata": {},
   "source": [
    "Imagine the following scenario:\n",
    "\n",
    " - You have an experiment, containing data, info on subjects, details on experimental stimulus, etc.\n",
    " - You want to implement some functions that operate on this dataset\n",
    " "
   ]
  },
  {
   "cell_type": "markdown",
   "id": "e6cf2e85",
   "metadata": {},
   "source": [
    "First option: one entity -> many variables, many functions:"
   ]
  },
  {
   "cell_type": "code",
   "execution_count": null,
   "id": "7bd0054d",
   "metadata": {},
   "outputs": [],
   "source": [
    "# A bunch of variables referring to the same experiment:\n",
    "def load(data_path):\n",
    "    ...\n",
    "\n",
    "\n",
    "sampling_frequency, imaging_data, stimulus_data = load(data_path)\n",
    "\n",
    "\n",
    "def resample(imaging_data, sampling_frequency, new_frequency=...):\n",
    "    ...\n",
    "\n",
    "\n",
    "def crop_on_stimulus(imaging_data, stimulus_data, sampling_frequency, padding=...):\n",
    "    ...\n",
    "\n",
    "\n",
    "resample(imaging_data, sampling_frequency, new_frequency=...)\n",
    "crop_on_stimulus(imaging_data, stimulus_data, sampling_frequency, padding=...)"
   ]
  },
  {
   "cell_type": "markdown",
   "id": "a40c0582",
   "metadata": {},
   "source": [
    "But: many variables around, not nested in a single entity"
   ]
  },
  {
   "cell_type": "markdown",
   "id": "df8fc516",
   "metadata": {},
   "source": [
    "Second option: one entity -> one variable, many functions:"
   ]
  },
  {
   "cell_type": "code",
   "execution_count": null,
   "id": "ec1f64b7",
   "metadata": {},
   "outputs": [],
   "source": [
    "# A bunch of variables referring to the same experiment:\n",
    "data_dictionary = load(data_path)\n",
    "\n",
    "\n",
    "def resample(data_dictionary, new_frequency=...):\n",
    "    data_dictionary[\"imaging_data\"]\n",
    "    data_dictionary[\"sampling_frequency\"]\n",
    "    ...\n",
    "\n",
    "\n",
    "def crop_on_stimulus(data_dictionary, padding=...):\n",
    "    data_dictionary[\"imaging_data\"]\n",
    "    data_dictionary[\"stimulus_data\"]\n",
    "    data_dictionary[\"sampling_frequency\"]\n",
    "    ...\n",
    "\n",
    "\n",
    "resample(data_dictionary, new_frequency=...)\n",
    "crop_on_stimulus(data_dictionary, padding=...)\n",
    "..."
   ]
  },
  {
   "cell_type": "markdown",
   "id": "91763842",
   "metadata": {},
   "source": [
    "But: the definition of the dictionary and the usage of keywords linger around in many places"
   ]
  },
  {
   "cell_type": "markdown",
   "id": "2f51a222",
   "metadata": {},
   "source": [
    "It would be very useful to represent together data that refer to some entity, and operations that we can do on them!"
   ]
  },
  {
   "cell_type": "markdown",
   "id": "20f2eb51",
   "metadata": {},
   "source": [
    "## \\*Enter objects\\*"
   ]
  },
  {
   "cell_type": "markdown",
   "id": "19d90171",
   "metadata": {},
   "source": [
    "Objects are entities that keep together:"
   ]
  },
  {
   "cell_type": "markdown",
   "id": "13789edb",
   "metadata": {},
   "source": [
    " - <span style=\"color:indianred\">Attributes</span>: similar to variables, kept together in an object as they would be in a dictionary"
   ]
  },
  {
   "cell_type": "markdown",
   "id": "6fa873ef",
   "metadata": {},
   "source": [
    " - <span style=\"color:indianred\">Methods</span>: similar to functions, but operating on all the attributes of an object (potentially taking more inputs)"
   ]
  },
  {
   "cell_type": "markdown",
   "id": "06356c4d",
   "metadata": {},
   "source": [
    "Third option: one entity, one class object with attributes and methods:"
   ]
  },
  {
   "cell_type": "code",
   "execution_count": null,
   "id": "1f841421",
   "metadata": {},
   "outputs": [],
   "source": [
    "class ExperimentData():\n",
    "    ...\n",
    "    def __init__(self, data_path):\n",
    "        self.imaging_data = ...\n",
    "        self.stimulus_data = ...\n",
    "        \n",
    "    def resample(self, new_frequency=):\n",
    "        ...\n",
    "    \n",
    "    def crop_on_stimulus(self, padding=):\n",
    "        ...\n",
    "        \n",
    "exp_data = ExperimentData(data_path)\n",
    "\n",
    "exp_data.imaging_data  # access an object's attribute\n",
    "exp_data.stimulus_data  # access an object's attribute\n",
    "\n",
    "exp_data.resample(new_frequency=...)  # call an object's method\n",
    "exp_data.crop_on_stimulus(padding=...)  # call an object's method\n"
   ]
  },
  {
   "cell_type": "markdown",
   "id": "802fcc45",
   "metadata": {},
   "source": [
    "Advantages of OOP:\n",
    "\n",
    " - represent together data and procedures operating on them\n",
    " - flexible data interface (\"A dictionary on steroids\")\n",
    " - nicely define what to expose and what to keep private (abstraction - more on this at the end)"
   ]
  },
  {
   "cell_type": "markdown",
   "id": "1e419111",
   "metadata": {},
   "source": [
    "### Platonic coding\n",
    "\n",
    "To use objects, we first have to define classes."
   ]
  },
  {
   "cell_type": "markdown",
   "id": "ed94fbe0",
   "metadata": {},
   "source": [
    "- classes are the abstract definition of categories from which we create specific instances"
   ]
  },
  {
   "cell_type": "markdown",
   "id": "2ac72df1",
   "metadata": {},
   "source": [
    "- individual, separate objects are then created from a class"
   ]
  },
  {
   "cell_type": "markdown",
   "id": "efb4e4c1",
   "metadata": {},
   "source": [
    "- classes are to objects what Ideas are to real world objects for Plato (if that can help at all)"
   ]
  },
  {
   "cell_type": "markdown",
   "id": "ae2cd982",
   "metadata": {},
   "source": [
    "An example for the more pragmatically minded:"
   ]
  },
  {
   "cell_type": "code",
   "execution_count": null,
   "id": "d415e2b2",
   "metadata": {},
   "outputs": [],
   "source": [
    "# define void Horse class and make instances:\n",
    "class Horse:\n",
    "    pass\n",
    "\n",
    "\n",
    "my_horse = Horse()\n",
    "your_horse = Horse()"
   ]
  },
  {
   "cell_type": "markdown",
   "id": "c7a3fb17",
   "metadata": {},
   "source": [
    "## Anatomy of a class"
   ]
  },
  {
   "cell_type": "markdown",
   "id": "fa8559f1",
   "metadata": {},
   "source": [
    "What do we need to define a class?"
   ]
  },
  {
   "cell_type": "code",
   "execution_count": null,
   "id": "db809db0",
   "metadata": {},
   "outputs": [],
   "source": [
    "class TestClass:\n",
    "    \"\"\"Showcase the definition of a class.\"\"\"\n",
    "\n",
    "    def __init__(self):\n",
    "        self.an_attribute = 1  # attributes defined IN THE INIT!\n",
    "        self.another_attibute = {\"a\": 2}\n",
    "\n",
    "    def a_method(self):\n",
    "        ..."
   ]
  },
  {
   "cell_type": "markdown",
   "id": "55a0afbd",
   "metadata": {},
   "source": [
    "  - a <span style=\"color:indianred\">name</span> that describes it. To <span style=\"color:indianred\">istantiate</span> (_i.e_ to make) objects, we use name followed by `()`. CamelCase formatting\n",
    "  - <span style=\"color:indianred\">attributes</span>, variables that are attributed to the object (or to the class - see later)\n",
    "  -  <span style=\"color:indianred\">methods</span>, functions that operate on the attributes (and other arguments)\n",
    "  - (optional but strongly recommended): a <span style=\"color:indianred\">docstring</span> (a documentation string)"
   ]
  },
  {
   "cell_type": "markdown",
   "id": "79034ba3",
   "metadata": {},
   "source": [
    "Let's make one!"
   ]
  },
  {
   "cell_type": "code",
   "execution_count": null,
   "id": "4c6faef4",
   "metadata": {},
   "outputs": [],
   "source": [
    "# put some content in a Horse class:\n",
    "\n",
    "\n",
    "class Horse:\n",
    "    def __init__(self, name):\n",
    "        self.name = name\n",
    "        self.color = \"black\"\n",
    "\n",
    "    def run(self):\n",
    "        print(\"I'm running very fast\")\n",
    "\n",
    "\n",
    "my_horse = Horse(\"John\")\n",
    "my_horse.name"
   ]
  },
  {
   "cell_type": "markdown",
   "id": "4a58d92d",
   "metadata": {},
   "source": [
    "### Inspect objects with `dir()`"
   ]
  },
  {
   "cell_type": "markdown",
   "id": "8355f829",
   "metadata": {},
   "source": [
    "We can check out attributes and methods of a class with the base Python function `dir`"
   ]
  },
  {
   "cell_type": "code",
   "execution_count": null,
   "id": "96cd905f",
   "metadata": {},
   "outputs": [],
   "source": [
    "my_horse = Horse(\"Bob\")\n",
    "\n",
    "dir(my_horse)"
   ]
  },
  {
   "cell_type": "markdown",
   "id": "68a9f3d0",
   "metadata": {},
   "source": [
    "### Look at attributes"
   ]
  },
  {
   "cell_type": "markdown",
   "id": "4d32d3bb",
   "metadata": {},
   "source": [
    "To get an attribute, we can use the `obj.attribute` syntax..."
   ]
  },
  {
   "cell_type": "code",
   "execution_count": null,
   "id": "f5c271bc",
   "metadata": {},
   "outputs": [],
   "source": [
    "all_attributes = dir(my_horse)"
   ]
  },
  {
   "cell_type": "markdown",
   "id": "5ea59e59",
   "metadata": {},
   "source": [
    "...or the `getattr(obj, attribute)` function:"
   ]
  },
  {
   "cell_type": "code",
   "execution_count": null,
   "id": "f9e10a9c",
   "metadata": {},
   "outputs": [],
   "source": [
    "attribute_that_we_want = all_attributes[-2]\n",
    "getattr(my_horse, attribute_that_we_want)"
   ]
  },
  {
   "cell_type": "markdown",
   "id": "63d1e4e1",
   "metadata": {},
   "source": [
    "## Call methods"
   ]
  },
  {
   "cell_type": "markdown",
   "id": "08e7b13d",
   "metadata": {},
   "source": [
    "A method is just a callable attribute! We can access it in the same ways as we do with attributes."
   ]
  },
  {
   "cell_type": "code",
   "execution_count": null,
   "id": "1071611a",
   "metadata": {},
   "outputs": [],
   "source": [
    "my_horse.run()"
   ]
  },
  {
   "cell_type": "markdown",
   "id": "bb5540fb",
   "metadata": {},
   "source": [
    "Or, after using `getattr ()`:"
   ]
  },
  {
   "cell_type": "code",
   "execution_count": null,
   "id": "d650e010",
   "metadata": {},
   "outputs": [],
   "source": [
    "the_run_method = getattr(my_horse, \"run\")\n",
    "the_run_method()"
   ]
  },
  {
   "cell_type": "markdown",
   "id": "b1971ea5",
   "metadata": {},
   "source": [
    "### `callable()`"
   ]
  },
  {
   "cell_type": "markdown",
   "id": "883500a2",
   "metadata": {},
   "source": [
    "We can verify what is callable and what is not using the `callable()` function:"
   ]
  },
  {
   "cell_type": "code",
   "execution_count": null,
   "id": "46e3ddff",
   "metadata": {},
   "outputs": [],
   "source": [
    "the_run_method = getattr(my_horse, \"run\")\n",
    "print(\"run method: \", callable(the_run_method))\n",
    "\n",
    "the_name_attribute = getattr(my_horse, \"name\")\n",
    "print(\"name attribute: \", callable(the_name_attribute))"
   ]
  },
  {
   "cell_type": "markdown",
   "id": "75a4db93",
   "metadata": {},
   "source": [
    "You should get along with objects, because in Python objects are quite common!"
   ]
  },
  {
   "cell_type": "markdown",
   "id": "afc67390",
   "metadata": {},
   "source": [
    "Strings are objects..."
   ]
  },
  {
   "cell_type": "code",
   "execution_count": null,
   "id": "12051e98",
   "metadata": {},
   "outputs": [],
   "source": [
    "a_string = \"some text\"\n",
    "a_string.lower()"
   ]
  },
  {
   "cell_type": "markdown",
   "id": "96dbbdd0",
   "metadata": {},
   "source": [
    "...but also all other variables are objects..."
   ]
  },
  {
   "cell_type": "code",
   "execution_count": null,
   "id": "8601b7c6",
   "metadata": {},
   "outputs": [],
   "source": [
    "an_integer = 1\n",
    "print(dir(an_integer))\n",
    "an_integer.imag"
   ]
  },
  {
   "cell_type": "markdown",
   "id": "25cd2aa3",
   "metadata": {},
   "source": [
    "...modules that you import are objects..."
   ]
  },
  {
   "cell_type": "code",
   "execution_count": null,
   "id": "6e26aaff",
   "metadata": {},
   "outputs": [],
   "source": [
    "import random\n",
    "\n",
    "random.randint  # functions from imported modules are used as methods of a module object!"
   ]
  },
  {
   "cell_type": "markdown",
   "id": "c4b47da2",
   "metadata": {},
   "source": [
    "...functions are objects... 😦"
   ]
  },
  {
   "cell_type": "code",
   "execution_count": null,
   "id": "ba1222e7",
   "metadata": {},
   "outputs": [],
   "source": [
    "def an_empty_function():\n",
    "    \"\"\"A doctstring.\"\"\"\n",
    "    pass\n",
    "\n",
    "\n",
    "an_empty_function.__doc__  # Docstring of the function referenced as an attribute of the function object"
   ]
  },
  {
   "cell_type": "markdown",
   "id": "d2a25683",
   "metadata": {},
   "source": [
    "...classes are objects! 🤯"
   ]
  },
  {
   "cell_type": "code",
   "execution_count": null,
   "id": "233e01e8",
   "metadata": {},
   "outputs": [],
   "source": [
    "class AClass:\n",
    "    \"\"\"Test class.\"\"\"\n",
    "\n",
    "    pass\n",
    "\n",
    "\n",
    "print(dir(AClass))\n",
    "print(\n",
    "    AClass.__doc__\n",
    ")  # Docstring of the class referenced as an attribute of the class object"
   ]
  },
  {
   "cell_type": "markdown",
   "id": "1ea5f99b",
   "metadata": {},
   "source": [
    "(Practical 0.4.0)"
   ]
  },
  {
   "cell_type": "markdown",
   "id": "354a3f4f",
   "metadata": {},
   "source": [
    "## Defining new classes"
   ]
  },
  {
   "cell_type": "markdown",
   "id": "5d871bb0",
   "metadata": {},
   "source": [
    "We can create our own new custom classes! Sweet, isn't it?"
   ]
  },
  {
   "cell_type": "markdown",
   "id": "a03d70d3",
   "metadata": {},
   "source": [
    "### The `.__init__()` method"
   ]
  },
  {
   "cell_type": "markdown",
   "id": "5031d8ec",
   "metadata": {},
   "source": [
    "Each time we istantiate a new object from a class, the `.__init__()` method is called:"
   ]
  },
  {
   "cell_type": "code",
   "execution_count": null,
   "id": "42498d37",
   "metadata": {},
   "outputs": [],
   "source": [
    "class Horse:\n",
    "    def __init__(self, name, color):\n",
    "        print(\"I'm creating a horse object\")\n",
    "        self.name = name\n",
    "        self.color = color\n",
    "\n",
    "\n",
    "my_horse = Horse(\"Bob\", \"white\")"
   ]
  },
  {
   "cell_type": "markdown",
   "id": "e0c8a77f",
   "metadata": {},
   "source": [
    "We can pass arguments to the `.__init__()` method as we would do for any other function!"
   ]
  },
  {
   "cell_type": "code",
   "execution_count": null,
   "id": "175f83bc",
   "metadata": {},
   "outputs": [],
   "source": [
    "# Define function with default values / pass by position or keyword\n",
    "\n",
    "\n",
    "class Horse:\n",
    "    def __init__(self, name, color=\"brown\"):\n",
    "        print(\"I'm creating a horse object\")\n",
    "        self.name = name\n",
    "        self.color = color\n",
    "\n",
    "\n",
    "my_horse = Horse(name=\"Bob\", color=\"pink\")\n",
    "my_horse.color"
   ]
  },
  {
   "cell_type": "markdown",
   "id": "ca449a39",
   "metadata": {},
   "source": [
    "### Why all those underscores?"
   ]
  },
  {
   "cell_type": "markdown",
   "id": "8146b8a7",
   "metadata": {},
   "source": [
    "The `__xxxxx__()` name of a method distinguishes it graphically as a <span style=\"color:indianred\">default method</span>.\n",
    "\n",
    "There is a number of others!"
   ]
  },
  {
   "cell_type": "markdown",
   "id": "ef623b5c",
   "metadata": {},
   "source": [
    "Other examples:\n",
    " - `__repr__()` and `__str__()` change how an object is shown/printed:"
   ]
  },
  {
   "cell_type": "code",
   "execution_count": null,
   "id": "3139edb8",
   "metadata": {},
   "outputs": [],
   "source": [
    "class Horse:\n",
    "    def __str__(self):\n",
    "        return \"A string that I choose\"\n",
    "\n",
    "    def __repr__(self):\n",
    "        return \"Another string\"\n",
    "\n",
    "\n",
    "Horse()"
   ]
  },
  {
   "cell_type": "markdown",
   "id": "503d812d",
   "metadata": {},
   "source": [
    "- `__eq__(self, other)` changes how the object is compared with an `other` object:"
   ]
  },
  {
   "cell_type": "code",
   "execution_count": null,
   "id": "f3af6341",
   "metadata": {},
   "outputs": [],
   "source": [
    "class ShopList:\n",
    "    def __init__(self, items):\n",
    "        self.items = items\n",
    "\n",
    "    def __eq__(self, the_other_element_in_the_comparison):\n",
    "        return set(self.items) == set(the_other_element_in_the_comparison.items)\n",
    "\n",
    "\n",
    "a_shop_list = ShopList([\"bread\", \"salt\"])\n",
    "another_shop_list = ShopList([\"salt\", \"bread\"])\n",
    "a_third_shop_list = ShopList([\"salt\", \"bread\", \"coffee\"])\n",
    "\n",
    "a_shop_list == another_shop_list"
   ]
  },
  {
   "cell_type": "markdown",
   "id": "88181186",
   "metadata": {},
   "source": [
    "- `__getitem__(self, item)` allow us to index the object with square brackets, making it <span style=\"color:indianred\">subscriptable</span> (as lists are!)"
   ]
  },
  {
   "cell_type": "code",
   "execution_count": null,
   "id": "048151ba",
   "metadata": {},
   "outputs": [],
   "source": [
    "class MATLABList:\n",
    "    def __init__(self, items):\n",
    "        self.items = items\n",
    "\n",
    "    def __getitem__(self, item_idx):\n",
    "        return self.items[item_idx - 1]\n",
    "\n",
    "\n",
    "shop_list = MATLABList([\"bread\", \"salt\"])\n",
    "a = shop_list[2]\n",
    "print(a)"
   ]
  },
  {
   "cell_type": "markdown",
   "id": "df055594",
   "metadata": {},
   "source": [
    "Working with those special methods can be very powerful! There is almost nothing in core Python that we cannot use/emulate/modify in the behavior of our new classes!"
   ]
  },
  {
   "cell_type": "markdown",
   "id": "5f26e183",
   "metadata": {},
   "source": [
    "### Add custom methods to the class"
   ]
  },
  {
   "cell_type": "markdown",
   "id": "17396148",
   "metadata": {},
   "source": [
    "We can create our custom methods in the class:"
   ]
  },
  {
   "cell_type": "code",
   "execution_count": null,
   "id": "db43d626",
   "metadata": {},
   "outputs": [],
   "source": [
    "# a running horse:\n",
    "class Horse:\n",
    "    def __init__(self, velocity=10):\n",
    "        self.position = 0\n",
    "        self.velocity = 10\n",
    "\n",
    "    def run_for_n_hours(self, hours):\n",
    "        self.position += hours * self.velocity\n",
    "\n",
    "\n",
    "a_horse = Horse()\n",
    "print(a_horse.position)\n",
    "a_horse.run_for_n_hours(3)\n",
    "print(a_horse.position)"
   ]
  },
  {
   "cell_type": "markdown",
   "id": "137a4818",
   "metadata": {},
   "source": [
    "Apart from taking self as the first argument, a method is then just a simple function! It can have positional or keyword values, default values, should be annotated in the same way, etc."
   ]
  },
  {
   "cell_type": "code",
   "execution_count": null,
   "id": "c4cb0f06",
   "metadata": {},
   "outputs": [],
   "source": [
    "# a running horse:\n",
    "class Horse:\n",
    "    def __init__(self, velocity=10):\n",
    "        self.position = 0\n",
    "        self.velocity = 10\n",
    "\n",
    "    def run_for_n_hours(self, hours):\n",
    "        self.position += hours * self.velocity"
   ]
  },
  {
   "cell_type": "code",
   "execution_count": null,
   "id": "f0cb9c24",
   "metadata": {},
   "outputs": [],
   "source": [
    "a_horse = Horse()\n",
    "print(a_horse.position)\n",
    "a_horse.run_for_n_hours(5)\n",
    "print(a_horse.position)"
   ]
  },
  {
   "cell_type": "markdown",
   "id": "8adbb760",
   "metadata": {},
   "source": [
    "### A class and its `self`"
   ]
  },
  {
   "cell_type": "markdown",
   "id": "9bf0913e",
   "metadata": {},
   "source": [
    "    ⚠️ Confusion legit here! ⚠️\n",
    "    \n",
    "`self.` is the way in which the specific object instance is referenced to inside the class. this is why we are passing it always to every method - so that it can operate on the value of the object"
   ]
  },
  {
   "cell_type": "code",
   "execution_count": null,
   "id": "256cc10f",
   "metadata": {},
   "outputs": [],
   "source": [
    "class IntrospectiveClass:\n",
    "    def introspect(self):\n",
    "        print(f\"Who am I? I seem to be: {self}\")\n",
    "\n",
    "\n",
    "an_instance = IntrospectiveClass()\n",
    "an_instance.introspect()\n",
    "\n",
    "another_instance = IntrospectiveClass()\n",
    "another_instance.introspect()"
   ]
  },
  {
   "cell_type": "markdown",
   "id": "421efb03",
   "metadata": {},
   "source": [
    "The source of a funny bug, the lack of a self:"
   ]
  },
  {
   "cell_type": "code",
   "execution_count": null,
   "id": "c29be0e0",
   "metadata": {},
   "outputs": [],
   "source": [
    "introspective_obj_wrong = (\n",
    "    IntrospectiveClass  # here we forgot to use the round brackets!\n",
    ")\n",
    "introspective_obj_wrong.introspect()  # therefore, this has no self and will crash"
   ]
  },
  {
   "cell_type": "markdown",
   "id": "604a6b8d",
   "metadata": {},
   "source": [
    "(Practical 0.4.1)"
   ]
  },
  {
   "cell_type": "markdown",
   "id": "122e2972",
   "metadata": {},
   "source": [
    "## Inheritance"
   ]
  },
  {
   "cell_type": "markdown",
   "id": "3a5991df",
   "metadata": {},
   "source": [
    "An important feature of objects is the concept of <span style=\"color:indianred\">inheritance</span>"
   ]
  },
  {
   "cell_type": "markdown",
   "id": "eeeae2c0",
   "metadata": {},
   "source": [
    "After we have defined a general class, we can build on it in <span style=\"color:indianred\">children classes</span> or <span style=\"color:indianred\">subclasses</span> to define subtypologies of that entity "
   ]
  },
  {
   "cell_type": "markdown",
   "id": "aab1ca77",
   "metadata": {},
   "source": [
    "An example:"
   ]
  },
  {
   "cell_type": "code",
   "execution_count": null,
   "id": "e4c54067",
   "metadata": {},
   "outputs": [],
   "source": [
    "class Animal:  # Main class or parent class\n",
    "    def __init__(self, name):\n",
    "        self.name = name\n",
    "\n",
    "    def greetings(self):\n",
    "        print(f\"Hi there! I'm {self.name}\")\n",
    "\n",
    "\n",
    "an = Animal(\"Bob\")\n",
    "an.greetings()"
   ]
  },
  {
   "cell_type": "code",
   "execution_count": null,
   "id": "a2a043d4",
   "metadata": {},
   "outputs": [],
   "source": [
    "class Horse(Animal):  # Subclass Animal and add a method\n",
    "    def do_the_horse(self):\n",
    "        print(\"I am an horse!\")"
   ]
  },
  {
   "cell_type": "code",
   "execution_count": null,
   "id": "5d43bb24",
   "metadata": {},
   "outputs": [],
   "source": [
    "# This will have all the attributes and methods of the parent\n",
    "\n",
    "my_horse = Horse(name=\"John\")\n",
    "my_horse.greetings()"
   ]
  },
  {
   "cell_type": "markdown",
   "id": "54358abc",
   "metadata": {},
   "source": [
    "We can overwrite attributes and methods of the parent class:"
   ]
  },
  {
   "cell_type": "code",
   "execution_count": null,
   "id": "d5575545",
   "metadata": {},
   "outputs": [],
   "source": [
    "class Horse(Animal):  # Subclass Animal\n",
    "    def greetings(self):\n",
    "        # this will overwrite the parent's method:\n",
    "        print(f\"I am {self.name} the horse!\")\n",
    "\n",
    "\n",
    "my_horse = Horse(name=\"John\")\n",
    "my_horse.greetings()"
   ]
  },
  {
   "cell_type": "markdown",
   "id": "7892510c",
   "metadata": {},
   "source": [
    "Or we can mix the parent methods with some new functionality. To invoke the methods of the parent class we use the `super()` syntax:"
   ]
  },
  {
   "cell_type": "code",
   "execution_count": null,
   "id": "831dc286",
   "metadata": {},
   "outputs": [],
   "source": [
    "class Horse(Animal):  # Subclass Animal and add new methods\n",
    "    def greetings(self):\n",
    "        super().greetings()\n",
    "        print(\"I am an horse!\")\n",
    "\n",
    "\n",
    "my_horse = Horse(name=\"John\")\n",
    "my_horse.greetings()  # this will print both the parent and the new message now:"
   ]
  },
  {
   "cell_type": "markdown",
   "id": "2cc1ff48",
   "metadata": {},
   "source": [
    "For example, we can also redesign the `__init__` method to take more arguments, but we have to make sure we pass all the arguments the parent class needs!"
   ]
  },
  {
   "cell_type": "code",
   "execution_count": null,
   "id": "ef3a8d90",
   "metadata": {},
   "outputs": [],
   "source": [
    "class Horse(Animal):  # Subclass Animal\n",
    "    # now take color as a possible input:\n",
    "    def __init__(self, name, color):\n",
    "        super().__init__(name=name)  # pass name to the parent\n",
    "        self.color = color  # additional attribute\n",
    "\n",
    "\n",
    "my_horse = Horse(\"Jaimie\", \"Blue\")\n",
    "print(f\"Color: {my_horse.color}, name: {my_horse.name}\")"
   ]
  },
  {
   "cell_type": "markdown",
   "id": "8d50302f",
   "metadata": {},
   "source": [
    "(Practical 0.4.2)"
   ]
  },
  {
   "cell_type": "markdown",
   "id": "693426d9",
   "metadata": {},
   "source": [
    "### The `*args` `**kwargs` syntax"
   ]
  },
  {
   "cell_type": "markdown",
   "id": "437352a2",
   "metadata": {},
   "source": [
    "    ⚠️ Confusion legit here! ⚠️\n",
    "    \n",
    "With the `*args`, `**kwargs` trick we can pass to the parent class method all the arguments passed to the `__init__()` method by position or by keyword without having to specify them."
   ]
  },
  {
   "cell_type": "markdown",
   "id": "ed9ae6f5",
   "metadata": {},
   "source": [
    "Brace yourself! Expect non-trivial behavior if you venture into this syntax usage! "
   ]
  },
  {
   "cell_type": "markdown",
   "id": "a53d88d4",
   "metadata": {},
   "source": [
    "The `*args` trick works as a \"catch-all\" placeholder that gets all positional arguments that are not explicitely defined in a single tuple:"
   ]
  },
  {
   "cell_type": "code",
   "execution_count": null,
   "id": "f05dc360",
   "metadata": {},
   "outputs": [],
   "source": [
    "def arbitrary_inputs_function(first_argument, *args):\n",
    "    print(f\"Captured argument: {first_argument}\")\n",
    "    print(type(args), args)\n",
    "\n",
    "\n",
    "arbitrary_inputs_function(1, 2, 3)"
   ]
  },
  {
   "cell_type": "markdown",
   "id": "333c480c",
   "metadata": {},
   "source": [
    "The `**kwargs` works in the same way: a \"catch-all\" placeholder that gets all keyword arguments in a single dictionary:"
   ]
  },
  {
   "cell_type": "code",
   "execution_count": null,
   "id": "453266c6",
   "metadata": {},
   "outputs": [],
   "source": [
    "def arbitrary_inputs_function(first_argument, *args, **kwargs):\n",
    "    print(f\"Captured argument: {first_argument}\")\n",
    "    print(f\"args ({type(args)}): {args}\")\n",
    "    print(f\"kwargs ({type(kwargs)}): {kwargs}\")\n",
    "\n",
    "\n",
    "arbitrary_inputs_function(1, 2, 3, random_kwarg=5)"
   ]
  },
  {
   "cell_type": "markdown",
   "id": "5a6fe03a",
   "metadata": {},
   "source": [
    "Using them in a class:"
   ]
  },
  {
   "cell_type": "code",
   "execution_count": null,
   "id": "8f4fa070",
   "metadata": {},
   "outputs": [],
   "source": [
    "class Horse(Animal):  # Subclass Animal\n",
    "    def __init__(self, *args, color=\"black\"):\n",
    "        super().__init__(*args)\n",
    "\n",
    "        self.color = color\n",
    "\n",
    "    def greetings(self):\n",
    "        print(self.color, \"name\", self.name)\n",
    "\n",
    "\n",
    "h = Horse(\"bob\", color=\"white\")\n",
    "h.greetings()"
   ]
  },
  {
   "cell_type": "markdown",
   "id": "b0bfc7d2",
   "metadata": {},
   "source": [
    "### Class attributes"
   ]
  },
  {
   "cell_type": "markdown",
   "id": "9d537111",
   "metadata": {},
   "source": [
    "We can specify attributes at the level of the class - _i.e._ out of the init, and without referencing the self"
   ]
  },
  {
   "cell_type": "code",
   "execution_count": null,
   "id": "0bc75f03",
   "metadata": {},
   "outputs": [],
   "source": [
    "class ClassWithClassAttributes:\n",
    "    class_attribute = []\n",
    "\n",
    "    def __init__(self):\n",
    "        self.object_attribute = []\n",
    "\n",
    "\n",
    "an_obj = ClassWithClassAttributes()\n",
    "another_obj = ClassWithClassAttributes()\n",
    "\n",
    "another_obj.object_attribute.append(1)  # this will modify only the object\n",
    "\n",
    "print(\n",
    "    f\"Object attributes after changing one: {an_obj.object_attribute}, {another_obj.object_attribute} \"\n",
    ")\n",
    "\n",
    "another_obj.class_attribute.append(\n",
    "    1\n",
    ")  # this will modify the list in all instances of the class\n",
    "print(\n",
    "    f\"Class attributes after changing one: {an_obj.class_attribute},  {another_obj.class_attribute}\"\n",
    ")"
   ]
  },
  {
   "cell_type": "markdown",
   "id": "5b34ced5",
   "metadata": {},
   "source": [
    "### Keeping class business private"
   ]
  },
  {
   "cell_type": "markdown",
   "id": "b1138dd3",
   "metadata": {},
   "source": [
    "There is a convention for classes to define attributes and methods that are only accessed internally with a leading `_`. This is just a convention, and will not change the behavior of such attributes and methods!"
   ]
  },
  {
   "cell_type": "code",
   "execution_count": null,
   "id": "2b88de04",
   "metadata": {},
   "outputs": [],
   "source": [
    "class TestUnderscores:\n",
    "    def __init__(self):\n",
    "        self._private_var = 1\n",
    "\n",
    "    def _update_private_var(self):\n",
    "        self._private_var\n",
    "\n",
    "\n",
    "TestUnderscores()._private_var"
   ]
  },
  {
   "cell_type": "markdown",
   "id": "d3261cf7",
   "metadata": {},
   "source": [
    "With this syntax, you know that if you are accessing that value from the outside you are using the class out of the intended ways."
   ]
  },
  {
   "cell_type": "markdown",
   "id": "a10e21c9",
   "metadata": {},
   "source": [
    "### Enforcing privacy"
   ]
  },
  {
   "cell_type": "markdown",
   "id": "c3aac319",
   "metadata": {},
   "source": [
    "If you want something to be really not reachable from the outside, you can use double leading `__` (called dunder)."
   ]
  },
  {
   "cell_type": "code",
   "execution_count": null,
   "id": "3d6d6333",
   "metadata": {},
   "outputs": [],
   "source": [
    "class TestUnderscores:\n",
    "    def __init__(self):\n",
    "        self.__private_var = 0\n",
    "\n",
    "    def update_private_var(self):\n",
    "        # this is called from inside the function so it is fine!\n",
    "        self.__private_var = 1\n",
    "\n",
    "\n",
    "TestUnderscores().update_private_var()"
   ]
  },
  {
   "cell_type": "markdown",
   "id": "4fbcfd62",
   "metadata": {},
   "source": [
    "But, this is not really private! Python is just hiding it from us...If we use the dir() function we can se what is happening!"
   ]
  },
  {
   "cell_type": "code",
   "execution_count": null,
   "id": "a05f797d",
   "metadata": {},
   "outputs": [],
   "source": [
    "dir(TestUnderscores())"
   ]
  }
 ],
 "metadata": {
  "celltoolbar": "Slideshow",
  "kernelspec": {
   "display_name": "Python 3 (ipykernel)",
   "language": "python",
   "name": "python3"
  },
  "language_info": {
   "codemirror_mode": {
    "name": "ipython",
    "version": 3
   },
   "file_extension": ".py",
   "mimetype": "text/x-python",
   "name": "python",
   "nbconvert_exporter": "python",
   "pygments_lexer": "ipython3"
  }
 },
 "nbformat": 4,
 "nbformat_minor": 5
}
