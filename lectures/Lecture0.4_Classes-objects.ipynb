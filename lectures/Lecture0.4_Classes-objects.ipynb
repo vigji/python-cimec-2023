{
 "cells": [
  {
   "cell_type": "markdown",
   "id": "3ca811a3",
   "metadata": {},
   "source": [
    "# Python for (open) Neuroscience\n",
    "\n",
    "_Lecture 0.4_ - Classes and objects\n",
    "\n",
    "Luigi Petrucco\n",
    "\n",
    "Jean-Charles Mariani"
   ]
  },
  {
   "cell_type": "markdown",
   "id": "9d8f8fae",
   "metadata": {},
   "source": [
    "## Object-oriented programming (OOP)"
   ]
  },
  {
   "cell_type": "markdown",
   "id": "0e08d04a",
   "metadata": {},
   "source": [
    "OOP is a programming paradigm based on the concept of <span style=\"color:indianred\">objects</span>, which _bind together data and code_."
   ]
  },
  {
   "cell_type": "markdown",
   "id": "7c26d16b",
   "metadata": {},
   "source": [
    "**Disclaimer 0:** \n",
    "\n",
    "OOP can be confusing at first. You're entering the realm of True Programming Problems! Some concepts might feel a bit metaphysical."
   ]
  },
  {
   "cell_type": "markdown",
   "id": "493e5711",
   "metadata": {},
   "source": [
    "**Disclaimer 1:**\n",
    "\n",
    "OOP is not intrinsically good (or bad). It can be a very good solution for some coding subtasks, and in Python can be effectively combined with functional programming!"
   ]
  },
  {
   "cell_type": "markdown",
   "id": "b2952947",
   "metadata": {},
   "source": [
    "Imagine the following scenario:\n",
    "\n",
    " - You have an fMRI experiment, containing data, info on subjects, details on experimental task, etc.\n",
    " - You want to implement some functions that operate on this dataset\n",
    " "
   ]
  },
  {
   "cell_type": "markdown",
   "id": "e6cf2e85",
   "metadata": {},
   "source": [
    "First option: one entity -> many variables, many functions:"
   ]
  },
  {
   "cell_type": "code",
   "execution_count": null,
   "id": "7bd0054d",
   "metadata": {},
   "outputs": [],
   "source": [
    "# A bunch of variables referring to the same experiment:\n",
    "def load(data_path):\n",
    "    ... \n",
    "    \n",
    "sampling_frequency, imaging_data, stimulus_data = load(data_path)\n",
    "\n",
    "def resample(imaging_data, sampling_frequency, new_frequency=...):\n",
    "    ...\n",
    "\n",
    "def crop_on_stimulus(imaging_data, stimulus_data, sampling_frequency, padding=...):\n",
    "    ...\n",
    "\n",
    "resample(imaging_data, sampling_frequency, new_frequency=...)\n",
    "crop_on_stimulus(imaging_data, stimulus_data, sampling_frequency, padding=...)"
   ]
  },
  {
   "cell_type": "code",
   "execution_count": null,
   "id": "c39642b1",
   "metadata": {},
   "outputs": [],
   "source": []
  },
  {
   "cell_type": "markdown",
   "id": "df8fc516",
   "metadata": {},
   "source": [
    "Second option: one entity -> one variable, many functions:"
   ]
  },
  {
   "cell_type": "code",
   "execution_count": null,
   "id": "ec1f64b7",
   "metadata": {},
   "outputs": [],
   "source": [
    "# A bunch of variables referring to the same experiment:\n",
    "data_dictionary = load(data_path)\n",
    "\n",
    "def resample(data_dictionary, new_frequency=...):\n",
    "    data_dictionary[\"imaging_data\"]\n",
    "    data_dictionary[\"sampling_frequency\"]\n",
    "    ...\n",
    "\n",
    "def crop_on_stimulus(imaging_data, stimulus_data, sampling_frequency, padding=...):\n",
    "    data_dictionary[\"imaging_data\"]\n",
    "    data_dictionary[\"stimulus_data\"]\n",
    "    data_dictionary[\"sampling_frequency\"]\n",
    "    ...\n",
    "\n",
    "resample(data_dictionary, new_frequency=...)\n",
    "crop_on_stimulus(data_dictionary, padding=...)\n",
    "..."
   ]
  },
  {
   "cell_type": "code",
   "execution_count": null,
   "id": "6e94eab6",
   "metadata": {},
   "outputs": [],
   "source": []
  },
  {
   "cell_type": "markdown",
   "id": "2f51a222",
   "metadata": {},
   "source": [
    "It would be very useful to represent together data that refer to some entity, and operations that we can do on them!"
   ]
  },
  {
   "cell_type": "markdown",
   "id": "20f2eb51",
   "metadata": {},
   "source": [
    "## \\*Enter objects\\*"
   ]
  },
  {
   "cell_type": "markdown",
   "id": "19d90171",
   "metadata": {},
   "source": [
    "Objects are entities that keep together:"
   ]
  },
  {
   "cell_type": "markdown",
   "id": "13789edb",
   "metadata": {},
   "source": [
    " - <span style=\"color:indianred\">Attributes</span>: similar to variables, kept together in an object as they would be in a dictionary"
   ]
  },
  {
   "cell_type": "markdown",
   "id": "6fa873ef",
   "metadata": {},
   "source": [
    " - <span style=\"color:indianred\">Methods</span>: similar to functions, but operating on all the attributes of an object (potentially taking more inputs)"
   ]
  },
  {
   "cell_type": "markdown",
   "id": "06356c4d",
   "metadata": {},
   "source": [
    "Third option: one entity, one class object with attributes and methods:"
   ]
  },
  {
   "cell_type": "code",
   "execution_count": null,
   "id": "1f841421",
   "metadata": {},
   "outputs": [],
   "source": [
    "class ExperimentData():\n",
    "    ...\n",
    "    def __init__(self, data_path):\n",
    "        self.imaging_data = ...\n",
    "        self.stimulus_data = ...\n",
    "        \n",
    "    def resample(self, new_frequency=):\n",
    "        ...\n",
    "    \n",
    "    def crop_on_stimulus(self, padding=):\n",
    "        ...\n",
    "        \n",
    "exp_data = ExperimentData(data_path)\n",
    "\n",
    "exp_data.imaging_data  # access an object's attribute\n",
    "exp_data.stimulus_data  # access an object's attribute\n",
    "\n",
    "exp_data.resample(new_frequency=...)  # call an object's method\n",
    "exp_data.crop_on_stimulus(padding=...)  # call an object's method\n"
   ]
  },
  {
   "cell_type": "code",
   "execution_count": null,
   "id": "58ee0f9f",
   "metadata": {},
   "outputs": [],
   "source": []
  },
  {
   "cell_type": "markdown",
   "id": "802fcc45",
   "metadata": {},
   "source": [
    "Advantages of OOP:\n",
    "\n",
    " - represent together data and procedures operating on them\n",
    " - flexible data interface (\"A dictionary on steroids\")"
   ]
  },
  {
   "cell_type": "markdown",
   "id": "1e419111",
   "metadata": {},
   "source": [
    "### Platonic coding\n",
    "\n",
    "- To use objects, we first have do define classes."
   ]
  },
  {
   "cell_type": "markdown",
   "id": "ed94fbe0",
   "metadata": {},
   "source": [
    "- classes are the abstract definition of categories from which we create specific instances"
   ]
  },
  {
   "cell_type": "markdown",
   "id": "2ac72df1",
   "metadata": {},
   "source": [
    "- individual, separate objects are then instantiated from a single class"
   ]
  },
  {
   "cell_type": "markdown",
   "id": "efb4e4c1",
   "metadata": {},
   "source": [
    "- Classes are to objects what in Ideas are to real world objects for Plato (if that can help at all)"
   ]
  },
  {
   "cell_type": "markdown",
   "id": "ae2cd982",
   "metadata": {},
   "source": [
    "An example for the more pragmatically minded:"
   ]
  },
  {
   "cell_type": "code",
   "execution_count": null,
   "id": "d415e2b2",
   "metadata": {},
   "outputs": [],
   "source": [
    "# define void Horse class and make instances:\n"
   ]
  },
  {
   "cell_type": "markdown",
   "id": "c7a3fb17",
   "metadata": {},
   "source": [
    "## Anatomy of a class"
   ]
  },
  {
   "cell_type": "code",
   "execution_count": null,
   "id": "db809db0",
   "metadata": {},
   "outputs": [],
   "source": [
    "class TestClass:\n",
    "    \"\"\"Showcase the definition of a class.\"\"\"\n",
    "    a_class_attribute = ...\n",
    "    \n",
    "    def __init__(self):\n",
    "        self.an_attribute = ...\n",
    "        self.another_attribute = ...\n",
    "        \n",
    "    def a_method(self):\n",
    "        pass"
   ]
  },
  {
   "cell_type": "markdown",
   "id": "55a0afbd",
   "metadata": {},
   "source": [
    "**A class definition has**:\n",
    "  - a <span style=\"color:indianred\">name</span> that describes it. To <span style=\"color:indianred\">istantiate</span> (_i.e_ to make) objects, we use name followed by `()`.\n",
    "  - <span style=\"color:indianred\">attributes</span>, variables that are attributed to the object (or to the class - see later)\n",
    "  -  <span style=\"color:indianred\">methods</span>, functions that operate on the attributes (and other arguments)\n",
    "  - (optional but strongly recommended): a <span style=\"color:indianred\">docstring</span> (a docuentation string)"
   ]
  },
  {
   "cell_type": "markdown",
   "id": "4a58d92d",
   "metadata": {},
   "source": [
    "### Inspect objects with `dir()`"
   ]
  },
  {
   "cell_type": "markdown",
   "id": "8355f829",
   "metadata": {},
   "source": [
    "We can check out attributes and methods of a class with the base Python function `dir`"
   ]
  },
  {
   "cell_type": "code",
   "execution_count": null,
   "id": "96cd905f",
   "metadata": {},
   "outputs": [],
   "source": [
    "an_obj = TestClass()\n",
    "..."
   ]
  },
  {
   "cell_type": "markdown",
   "id": "68a9f3d0",
   "metadata": {},
   "source": [
    "### Look at attributes"
   ]
  },
  {
   "cell_type": "markdown",
   "id": "4d32d3bb",
   "metadata": {},
   "source": [
    "To get an attribute, we can use the `obj.attribute` syntax..."
   ]
  },
  {
   "cell_type": "code",
   "execution_count": null,
   "id": "f5c271bc",
   "metadata": {},
   "outputs": [],
   "source": []
  },
  {
   "cell_type": "markdown",
   "id": "5ea59e59",
   "metadata": {},
   "source": [
    "...or the `getattr(obj, attribute)` function:"
   ]
  },
  {
   "cell_type": "code",
   "execution_count": null,
   "id": "f9e10a9c",
   "metadata": {},
   "outputs": [],
   "source": [
    "getattr(an_obj, \"an_attribute\")"
   ]
  },
  {
   "cell_type": "markdown",
   "id": "63d1e4e1",
   "metadata": {},
   "source": [
    "## Call methods"
   ]
  },
  {
   "cell_type": "markdown",
   "id": "08e7b13d",
   "metadata": {},
   "source": [
    "A method is just a callable attribute! We can access it in the same ways as we do with attributes."
   ]
  },
  {
   "cell_type": "code",
   "execution_count": null,
   "id": "1071611a",
   "metadata": {},
   "outputs": [],
   "source": []
  },
  {
   "cell_type": "code",
   "execution_count": null,
   "id": "d650e010",
   "metadata": {},
   "outputs": [],
   "source": [
    "# Here, remember that we can assign a function to a variable!"
   ]
  },
  {
   "cell_type": "markdown",
   "id": "b1971ea5",
   "metadata": {},
   "source": [
    "### `callable()`"
   ]
  },
  {
   "cell_type": "markdown",
   "id": "883500a2",
   "metadata": {},
   "source": [
    "We can verify what is callable and what is not using the `callable()` function:"
   ]
  },
  {
   "cell_type": "code",
   "execution_count": null,
   "id": "46e3ddff",
   "metadata": {},
   "outputs": [],
   "source": []
  },
  {
   "cell_type": "markdown",
   "id": "75a4db93",
   "metadata": {},
   "source": [
    "Whether you use objects or not you should know them, because in Python objects are quite common!"
   ]
  },
  {
   "cell_type": "markdown",
   "id": "afc67390",
   "metadata": {},
   "source": [
    "Strings are objects..."
   ]
  },
  {
   "cell_type": "code",
   "execution_count": null,
   "id": "12051e98",
   "metadata": {},
   "outputs": [],
   "source": []
  },
  {
   "cell_type": "markdown",
   "id": "96dbbdd0",
   "metadata": {},
   "source": [
    "...but also all other variables are objects..."
   ]
  },
  {
   "cell_type": "code",
   "execution_count": null,
   "id": "8601b7c6",
   "metadata": {},
   "outputs": [],
   "source": []
  },
  {
   "cell_type": "markdown",
   "id": "25cd2aa3",
   "metadata": {},
   "source": [
    "...modules that you import are objects..."
   ]
  },
  {
   "cell_type": "code",
   "execution_count": null,
   "id": "6e26aaff",
   "metadata": {},
   "outputs": [],
   "source": []
  },
  {
   "cell_type": "markdown",
   "id": "c4b47da2",
   "metadata": {},
   "source": [
    "...functions are objects... 😦"
   ]
  },
  {
   "cell_type": "code",
   "execution_count": null,
   "id": "ba1222e7",
   "metadata": {},
   "outputs": [],
   "source": []
  },
  {
   "cell_type": "markdown",
   "id": "d2a25683",
   "metadata": {},
   "source": [
    "...classes are object! 🤯"
   ]
  },
  {
   "cell_type": "code",
   "execution_count": null,
   "id": "233e01e8",
   "metadata": {},
   "outputs": [],
   "source": []
  },
  {
   "cell_type": "markdown",
   "id": "1ea5f99b",
   "metadata": {},
   "source": [
    "(Practical 0.4.0)"
   ]
  },
  {
   "cell_type": "markdown",
   "id": "354a3f4f",
   "metadata": {},
   "source": [
    "## Defining new classes"
   ]
  },
  {
   "cell_type": "markdown",
   "id": "5d871bb0",
   "metadata": {},
   "source": [
    "We can create our own new custom classes! Sweet, isn't it?"
   ]
  },
  {
   "cell_type": "markdown",
   "id": "a03d70d3",
   "metadata": {},
   "source": [
    "### The `.__init__()` method"
   ]
  },
  {
   "cell_type": "markdown",
   "id": "5031d8ec",
   "metadata": {},
   "source": [
    "Each time we istantiate a new object from a class, the `.__init__()` method is called:"
   ]
  },
  {
   "cell_type": "code",
   "execution_count": null,
   "id": "42498d37",
   "metadata": {},
   "outputs": [],
   "source": [
    "class Horse:\n",
    "    ..."
   ]
  },
  {
   "cell_type": "markdown",
   "id": "e0c8a77f",
   "metadata": {},
   "source": [
    "We can pass arguments to the `.__init__()` method as we would do for a normal class!"
   ]
  },
  {
   "cell_type": "code",
   "execution_count": null,
   "id": "175f83bc",
   "metadata": {},
   "outputs": [],
   "source": []
  },
  {
   "cell_type": "markdown",
   "id": "ca449a39",
   "metadata": {},
   "source": [
    "### Why all those underscores?"
   ]
  },
  {
   "cell_type": "markdown",
   "id": "8146b8a7",
   "metadata": {},
   "source": [
    "The `__xxxxx__()` name of the method distinguishes it graphically as a default method.\n",
    "\n",
    "This is the same for a number of others!"
   ]
  },
  {
   "cell_type": "markdown",
   "id": "ef623b5c",
   "metadata": {},
   "source": [
    "Other examples:\n",
    " - `__repr__()` and `__str__()` change how an object is shown/printed:"
   ]
  },
  {
   "cell_type": "code",
   "execution_count": null,
   "id": "3139edb8",
   "metadata": {},
   "outputs": [],
   "source": [
    "class Horse:\n",
    "    pass\n",
    "\n",
    "Horse()"
   ]
  },
  {
   "cell_type": "markdown",
   "id": "503d812d",
   "metadata": {},
   "source": [
    "- `__eq__(self, other)` changes how the object is compared with the `other` object:"
   ]
  },
  {
   "cell_type": "code",
   "execution_count": null,
   "id": "f3af6341",
   "metadata": {},
   "outputs": [],
   "source": [
    "class ShopList:\n",
    "    def __init__(self, items):\n",
    "        self.items = items\n",
    "        \n",
    "shop_list1 = ShopList([\"bread\", \"salt\"])\n",
    "shop_list2 = ShopList([\"bread\", \"salt\"])\n",
    "\n",
    "shop_list1 == shop_list2"
   ]
  },
  {
   "cell_type": "markdown",
   "id": "88181186",
   "metadata": {},
   "source": [
    "- `__getitem__(self, item)` allow us to index the object with square brackets, making it <span style=\"color:indianred\">subscriptable</span> (as if it was a list!)"
   ]
  },
  {
   "cell_type": "code",
   "execution_count": null,
   "id": "048151ba",
   "metadata": {},
   "outputs": [],
   "source": [
    "class ShopList:\n",
    "    def __init__(self, items):\n",
    "        self.items = items\n",
    "        \n",
    "shop_list = ShopList([\"bread\", \"salt\"])\n",
    "shop_list[0]"
   ]
  },
  {
   "cell_type": "markdown",
   "id": "df055594",
   "metadata": {},
   "source": [
    "Working with those special methods there is very powerful! There is almost nothing in core Python that we cannot use/emulate/modify in the behavior of our new classes!"
   ]
  },
  {
   "cell_type": "markdown",
   "id": "a6a1d690",
   "metadata": {},
   "source": [
    "You probably will not be using them a lot, but those concepts are at the core of the implementation of powerful libraries such as `numpy` and `pandas`, were we will be defining new versatile data types"
   ]
  },
  {
   "cell_type": "markdown",
   "id": "5f26e183",
   "metadata": {},
   "source": [
    "### Add custom methods to the class"
   ]
  },
  {
   "cell_type": "markdown",
   "id": "17396148",
   "metadata": {},
   "source": [
    "We can also create our custom methods in the class:"
   ]
  },
  {
   "cell_type": "code",
   "execution_count": null,
   "id": "db43d626",
   "metadata": {},
   "outputs": [],
   "source": [
    "# a running horse:\n",
    "class Horse:\n",
    "    def __init__(self, velocity=10):\n",
    "        self.position = 0\n",
    "        self.velocity = 10\n",
    "        \n",
    "    def run_for_n_hours(self, hours):\n",
    "        self.position += hours * self.velocity\n",
    "        \n",
    "a_horse = Horse()\n",
    "print(a_horse.position)\n",
    "a_horse.run_for_n_hours(3)\n",
    "print(a_horse.position)"
   ]
  },
  {
   "cell_type": "markdown",
   "id": "137a4818",
   "metadata": {},
   "source": [
    "Apart from taking self as the first argument, a method is then just a simple function! It can have positional or keyword values, default values, should be annotated in the same way, etc."
   ]
  },
  {
   "cell_type": "code",
   "execution_count": null,
   "id": "c4cb0f06",
   "metadata": {},
   "outputs": [],
   "source": [
    "# a running horse:\n",
    "class Horse:\n",
    "    def __init__(self, velocity=10):\n",
    "        self.position = 0\n",
    "        self.velocity = 10\n",
    "        \n",
    "    def run_for_n_hours(self, hours):\n",
    "        self.position += hours * self.velocity"
   ]
  },
  {
   "cell_type": "markdown",
   "id": "8adbb760",
   "metadata": {},
   "source": [
    "### A class and its `self`"
   ]
  },
  {
   "cell_type": "markdown",
   "id": "9bf0913e",
   "metadata": {},
   "source": [
    "    ⚠️ Confusion legit here! ⚠️\n",
    "    \n",
    "`self.` is the way in which the specific object instance is referenced to inside the class. this is why we are passing it always to every method - so that it can operate on the value of the object"
   ]
  },
  {
   "cell_type": "markdown",
   "id": "604a6b8d",
   "metadata": {},
   "source": [
    "(Practical 0.4.1)"
   ]
  },
  {
   "cell_type": "markdown",
   "id": "122e2972",
   "metadata": {},
   "source": [
    "## Inheritance"
   ]
  },
  {
   "cell_type": "markdown",
   "id": "d271e9cb",
   "metadata": {},
   "source": [
    "An important feature of OOP is the concept of <span style=\"color:indianred\">inheritance</span>"
   ]
  },
  {
   "cell_type": "markdown",
   "id": "32c18017",
   "metadata": {},
   "source": [
    "After we have defined a general class, we can build on it in <span style=\"color:indianred\">children classes</span> or <span style=\"color:indianred\">subclasses</span> to define sub typologies of that entity "
   ]
  },
  {
   "cell_type": "markdown",
   "id": "c71f3037",
   "metadata": {},
   "source": [
    "An example:"
   ]
  },
  {
   "cell_type": "code",
   "execution_count": null,
   "id": "7f4020a7",
   "metadata": {},
   "outputs": [],
   "source": [
    "class Animal:  # Main class or parent class\n",
    "    def __init__(self, name):\n",
    "        self.name = name\n",
    "        \n",
    "    def greetings(self):\n",
    "        print(f\"Hi there! I'm {self.name}\")\n",
    "        \n",
    "an = Animal(\"Bob\")\n",
    "an.greetings()"
   ]
  },
  {
   "cell_type": "code",
   "execution_count": null,
   "id": "d0b1bd05",
   "metadata": {},
   "outputs": [],
   "source": [
    "class Horse(Animal):  # Subclass Animal:\n",
    "    ..."
   ]
  },
  {
   "cell_type": "markdown",
   "id": "721f1080",
   "metadata": {},
   "source": [
    "We can overwrite attributes and methods of the parent class:"
   ]
  },
  {
   "cell_type": "code",
   "execution_count": null,
   "id": "60848ef6",
   "metadata": {},
   "outputs": [],
   "source": [
    "class Horse(Animal):  # Subclass Animal\n",
    "    ..."
   ]
  },
  {
   "cell_type": "markdown",
   "id": "06aa5c7b",
   "metadata": {},
   "source": [
    "Or we can mix the parent methods with some new functionality:"
   ]
  },
  {
   "cell_type": "code",
   "execution_count": null,
   "id": "1c97da3a",
   "metadata": {},
   "outputs": [],
   "source": [
    "class Horse(Animal):  # Subclass Animal\n",
    "    ..."
   ]
  },
  {
   "cell_type": "markdown",
   "id": "a83e0e55",
   "metadata": {},
   "source": [
    "For example, we can also redesign the `__init__` method to take more arguments, but we have to make sure we pass all the arguments the parent class needs!"
   ]
  },
  {
   "cell_type": "code",
   "execution_count": null,
   "id": "a138b467",
   "metadata": {},
   "outputs": [],
   "source": [
    "class Horse(Animal):  # Subclass Animal\n",
    "    # now take color as a possible input:\n",
    "    ..."
   ]
  },
  {
   "cell_type": "markdown",
   "id": "701c76e6",
   "metadata": {},
   "source": [
    "(Practical 0.4.2)"
   ]
  },
  {
   "cell_type": "markdown",
   "id": "4667c8fb",
   "metadata": {},
   "source": [
    "### The `*args` `**kwargs` syntax"
   ]
  },
  {
   "cell_type": "markdown",
   "id": "d03648f9",
   "metadata": {},
   "source": [
    "    ⚠️ Confusion legit here! ⚠️\n",
    "    \n",
    "With the `*args`, `**kwargs` trick we can pass to the parent class method all the arguments passed to the `__init__()` method by position or by keyword without having to specify them."
   ]
  },
  {
   "cell_type": "markdown",
   "id": "ed056f6a",
   "metadata": {},
   "source": [
    "Brace yourself! Expect non-trivial behavior if you venture into this syntax usage! "
   ]
  },
  {
   "cell_type": "markdown",
   "id": "3d48015a",
   "metadata": {},
   "source": [
    "The `*args` trick works as a \"catch-all\" placeholder that gets all positional arguments that are not explicitely defined in a single tuple:"
   ]
  },
  {
   "cell_type": "code",
   "execution_count": null,
   "id": "88cadcae",
   "metadata": {},
   "outputs": [],
   "source": [
    "def arbitrary_inputs_function(first_argument, *args):\n",
    "    print(f\"Captured argument: {first_argument}\")\n",
    "    print(type(args), args)\n",
    "    \n",
    "arbitrary_inputs_function(1, 2, 3)"
   ]
  },
  {
   "cell_type": "markdown",
   "id": "8978429f",
   "metadata": {},
   "source": [
    "The `**kwargs` works in the same way: a \"catch-all\" placeholder that gets all keyword arguments in a single dictionary:"
   ]
  },
  {
   "cell_type": "code",
   "execution_count": null,
   "id": "f5adb880",
   "metadata": {},
   "outputs": [],
   "source": [
    "def arbitrary_inputs_function(first_argument, *args, **kwargs):\n",
    "    print(f\"Captured argument: {first_argument}\")\n",
    "    print(f\"args ({type(args)}): {args}\")\n",
    "    print(f\"kwargs ({type(kwargs)}): {kwargs}\")\n",
    "    \n",
    "arbitrary_inputs_function(1, 2, 3, random_kwarg=5)"
   ]
  },
  {
   "cell_type": "markdown",
   "id": "045c6909",
   "metadata": {},
   "source": [
    "Using them in a class:"
   ]
  },
  {
   "cell_type": "code",
   "execution_count": null,
   "id": "e67b855c",
   "metadata": {},
   "outputs": [],
   "source": [
    "class Horse(Animal):  # Subclass Animal\n",
    "    def __init__(self, *args, color=\"black\"):\n",
    "        super().__init__(*args)\n",
    "        \n",
    "        self.color = color\n",
    "        \n",
    "    def greetings(self):\n",
    "        print(self.color, \"name\", self.name)\n",
    "\n",
    "h = Horse(\"bob\", color=\"white\")\n",
    "h.greetings()"
   ]
  },
  {
   "cell_type": "markdown",
   "id": "9b5a38f3",
   "metadata": {},
   "source": [
    "### Keeping class business private"
   ]
  },
  {
   "cell_type": "markdown",
   "id": "cbcd9f1f",
   "metadata": {},
   "source": [
    "There is a convention for classes to define attributes and methods that are only accessed internally with a leading `_`. This is just a convention, and will not change the behavior of such attributes and methods!"
   ]
  },
  {
   "cell_type": "code",
   "execution_count": null,
   "id": "31119547",
   "metadata": {},
   "outputs": [],
   "source": [
    "class TestUnderscores:\n",
    "    def __init__(self):\n",
    "        self._private_var = 1\n",
    "        \n",
    "    def _update_private_var(self):\n",
    "        self._private_var\n",
    "        \n",
    "TestUnderscores()._private_var"
   ]
  },
  {
   "cell_type": "markdown",
   "id": "4407925c",
   "metadata": {},
   "source": [
    "With this syntax, you know that if you are accessing that value from the outside you are using the class out of the intended ways."
   ]
  },
  {
   "cell_type": "markdown",
   "id": "23423d8e",
   "metadata": {},
   "source": [
    "### Enforcing privacy"
   ]
  },
  {
   "cell_type": "markdown",
   "id": "4e3a9ffb",
   "metadata": {},
   "source": [
    "If you want something to be really not reachable from the outside, you can use double leading `__` (called dunder)."
   ]
  },
  {
   "cell_type": "code",
   "execution_count": null,
   "id": "4b4f21c1",
   "metadata": {},
   "outputs": [],
   "source": [
    "class TestUnderscores:\n",
    "    def __init__(self):\n",
    "        self.__private_var = 0        \n",
    "        \n",
    "    def update_private_var(self):\n",
    "        # this is called from inside the function so it is fine!\n",
    "        self.__private_var = 1\n",
    "        \n",
    "TestUnderscores().update_private_var()"
   ]
  },
  {
   "cell_type": "markdown",
   "id": "dba1be27",
   "metadata": {},
   "source": [
    "But, this is not really private! Python is just hiding it from us...If we use the dir() function we can se what is happening!"
   ]
  },
  {
   "cell_type": "code",
   "execution_count": null,
   "id": "9798019d",
   "metadata": {},
   "outputs": [],
   "source": [
    "dir(TestUnderscores())"
   ]
  },
  {
   "cell_type": "code",
   "execution_count": null,
   "id": "accd4448",
   "metadata": {},
   "outputs": [],
   "source": []
  }
 ],
 "metadata": {
  "celltoolbar": "Slideshow",
  "kernelspec": {
   "display_name": "Python 3 (ipykernel)",
   "language": "python",
   "name": "python3"
  },
  "language_info": {
   "codemirror_mode": {
    "name": "ipython",
    "version": 3
   },
   "file_extension": ".py",
   "mimetype": "text/x-python",
   "name": "python",
   "nbconvert_exporter": "python",
   "pygments_lexer": "ipython3"
  }
 },
 "nbformat": 4,
 "nbformat_minor": 5
}
