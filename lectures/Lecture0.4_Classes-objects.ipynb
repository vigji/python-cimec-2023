{
 "cells": [
  {
   "cell_type": "markdown",
   "id": "3ca811a3",
   "metadata": {},
   "source": [
    "# Python for (open) Neuroscience\n",
    "\n",
    "_Lecture 0.4_ - Classes and objects\n",
    "\n",
    "Luigi Petrucco\n",
    "\n",
    "Jean-Charles Mariani"
   ]
  },
  {
   "cell_type": "markdown",
   "id": "e94c97cc",
   "metadata": {},
   "source": [
    "### Object-oriented programming (OOP)"
   ]
  },
  {
   "cell_type": "markdown",
   "id": "60495ad3",
   "metadata": {},
   "source": [
    "OOP is a programming paradigm based on the concept of <span style=\"color:indianred\">objects</span>, which _bind together data and code_."
   ]
  },
  {
   "cell_type": "markdown",
   "id": "20e5a5ed",
   "metadata": {},
   "source": [
    "Imagine the following scenario:\n",
    "\n",
    " - You have an fMRI experiment, containing large data volumes, info on subjects, details on experimental task, etc.\n",
    " "
   ]
  },
  {
   "cell_type": "markdown",
   "id": "aa513231",
   "metadata": {},
   "source": [
    " - You want a simple interface to access data from the experiment, making sure they are all kept together for a subject"
   ]
  },
  {
   "cell_type": "markdown",
   "id": "6cf1d495",
   "metadata": {},
   "source": [
    "Like, a dictionary?"
   ]
  },
  {
   "cell_type": "code",
   "execution_count": null,
   "id": "7effb73f",
   "metadata": {},
   "outputs": [],
   "source": [
    "data_dict = {\"experiment_metadata\": {\"subject\": ..., \"date\": ...},\n",
    "             \"behavior_data\": {\"stimuli\": ..., \"button_pressed\": ...},\n",
    "             \"imaging_data\": {\"data\": ..., \"acquisition_metadata\": ...}}"
   ]
  },
  {
   "cell_type": "markdown",
   "id": "aa74b002",
   "metadata": {},
   "source": [
    "Then, to do operations on the dictionary, you will either:"
   ]
  },
  {
   "cell_type": "markdown",
   "id": "ddc33430",
   "metadata": {},
   "source": [
    "Define operations on the "
   ]
  },
  {
   "cell_type": "code",
   "execution_count": null,
   "id": "2d4f7f18",
   "metadata": {},
   "outputs": [],
   "source": []
  },
  {
   "cell_type": "code",
   "execution_count": null,
   "id": "05843757",
   "metadata": {},
   "outputs": [],
   "source": []
  },
  {
   "cell_type": "markdown",
   "id": "d8ce3740",
   "metadata": {},
   "source": [
    "## Platonic coding"
   ]
  },
  {
   "cell_type": "markdown",
   "id": "7a468577",
   "metadata": {},
   "source": [
    "Classes and objects map very well to the concept of platonic ideas"
   ]
  },
  {
   "cell_type": "code",
   "execution_count": null,
   "id": "39444d91",
   "metadata": {},
   "outputs": [],
   "source": [
    "a = class"
   ]
  },
  {
   "cell_type": "code",
   "execution_count": null,
   "id": "b8eeced1",
   "metadata": {},
   "outputs": [],
   "source": [
    "a = 1\n",
    "\n",
    "dir(a)"
   ]
  },
  {
   "cell_type": "code",
   "execution_count": null,
   "id": "8ab2d032",
   "metadata": {},
   "outputs": [],
   "source": []
  },
  {
   "cell_type": "code",
   "execution_count": null,
   "id": "99ba878f",
   "metadata": {},
   "outputs": [],
   "source": []
  },
  {
   "cell_type": "code",
   "execution_count": null,
   "id": "10ed5a8b",
   "metadata": {},
   "outputs": [],
   "source": []
  },
  {
   "cell_type": "code",
   "execution_count": null,
   "id": "66f67ffd",
   "metadata": {},
   "outputs": [],
   "source": []
  },
  {
   "cell_type": "code",
   "execution_count": null,
   "id": "b2a624b1",
   "metadata": {},
   "outputs": [],
   "source": []
  },
  {
   "cell_type": "markdown",
   "id": "3f44180f",
   "metadata": {},
   "source": [
    "Some clarifications for `True`/`False` boolean operations"
   ]
  }
 ],
 "metadata": {
  "celltoolbar": "Slideshow",
  "kernelspec": {
   "display_name": "Python 3 (ipykernel)",
   "language": "python",
   "name": "python3"
  },
  "language_info": {
   "codemirror_mode": {
    "name": "ipython",
    "version": 3
   },
   "file_extension": ".py",
   "mimetype": "text/x-python",
   "name": "python",
   "nbconvert_exporter": "python",
   "pygments_lexer": "ipython3"
  }
 },
 "nbformat": 4,
 "nbformat_minor": 5
}
