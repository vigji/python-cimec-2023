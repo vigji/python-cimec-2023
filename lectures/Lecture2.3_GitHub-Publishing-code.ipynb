{
 "cells": [
  {
   "cell_type": "markdown",
   "id": "3ca811a3",
   "metadata": {
    "slideshow": {
     "slide_type": "slide"
    }
   },
   "source": [
    "# Python for (open) Neuroscience\n",
    "\n",
    "_Lecture 2.3_ - GitHub and publishing code\n",
    "\n",
    "Luigi Petrucco\n",
    "\n",
    "Jean-Charles Mariani\n",
    "\n",
    "[![Open In Colab](https://colab.research.google.com/assets/colab-badge.svg)](https://colab.research.google.com/github/vigji/python-cimec/blob/main/lectures/Lecture2.0_Real-world-Python.ipynb)"
   ]
  },
  {
   "cell_type": "markdown",
   "id": "84f06bdc-58ad-40db-b566-7f5db29b582a",
   "metadata": {},
   "source": [
    "# Git and GitHub"
   ]
  },
  {
   "cell_type": "markdown",
   "id": "8fcef6c1-6512-4b60-8aec-c6f93d559934",
   "metadata": {},
   "source": [
    "## Git"
   ]
  },
  {
   "cell_type": "markdown",
   "id": "0f08be0c-2077-425d-81d1-bc5fead5746e",
   "metadata": {},
   "source": [
    "Git is a software for code versioning."
   ]
  },
  {
   "cell_type": "markdown",
   "id": "22ac6dd9-0fb4-4555-861b-580fc4d72105",
   "metadata": {},
   "source": [
    "Code versioning is a way to avoid a scripts folder that looks like:\n",
    "\n",
    " - `final_script.py`\n",
    " - `final_script_final.py`\n",
    " - `final_script_final_afterrevision0304.py`\n",
    " - `final_script_final_afterrevision0304_isweartogodthisisthelastone.py`"
   ]
  },
  {
   "cell_type": "markdown",
   "id": "f4134a17-6e6d-479e-a4e3-17401ef405ac",
   "metadata": {},
   "source": [
    "The concept is simple: as source code files are small (it's just text after all), we can keep every version of them stored and accessible on demand!"
   ]
  },
  {
   "cell_type": "markdown",
   "id": "37aab085-7ee5-454b-b206-380b0483809a",
   "metadata": {},
   "source": [
    "The core concept of Git is the one of repository (or repo).\n",
    "\n",
    "A repository is a folder that contains a project that we want to use version control on.\n",
    "\n"
   ]
  },
  {
   "cell_type": "markdown",
   "id": "8a32e78f-53fa-4e6e-8cf7-17d61eebdac0",
   "metadata": {},
   "source": [
    "When we work in a repository, every now and then (as we would do with file saving), we can `stage` all our changes, and `commit` them.\n",
    "\n",
    "This creates a snapshot of the state of the repository we can go back to every time we need it!"
   ]
  },
  {
   "cell_type": "markdown",
   "id": "9634d20b-2995-4b9f-8ca3-33b22af1bbea",
   "metadata": {},
   "source": [
    "All those snapshots just live locally, in the `.git` folder you will find in the project. GitHub offer a very straightforward way of keeping it safe online, and work on it from different machines!"
   ]
  },
  {
   "cell_type": "markdown",
   "id": "5d46826e-b107-4011-a9d6-4374dbb261db",
   "metadata": {},
   "source": [
    "## The GitHub flow"
   ]
  },
  {
   "cell_type": "markdown",
   "id": "112362df-09b0-413d-aa49-17be7b192744",
   "metadata": {},
   "source": [
    "With GitHub, we can synch our local repository with a remote twin repository that lives in GitHub's servers (there's other options for hosting, we won't see them here)"
   ]
  },
  {
   "cell_type": "markdown",
   "id": "eef1ba45-9bf4-4dbf-a596-b4de514abafb",
   "metadata": {},
   "source": [
    "- `push` code to a remote repository: every time we make local changes, we can then `push` them to the remote repository to save them in the cloud."
   ]
  },
  {
   "cell_type": "markdown",
   "id": "0a373829-11bb-4b75-88f5-eb5f03ea0f8b",
   "metadata": {},
   "source": [
    "- `pull` if we edit files of the repository online, or we have changed code and `push`ed it to the GitHub repository, we can `pull` the changes to update our local project version."
   ]
  },
  {
   "cell_type": "markdown",
   "id": "beafb2c8-73bb-4cb2-bc29-2bdc5726f583",
   "metadata": {},
   "source": [
    "## Sounds cool, but how do I start all this?"
   ]
  },
  {
   "cell_type": "markdown",
   "id": "72dddfd1-2514-4467-a3cc-787044c1efc6",
   "metadata": {},
   "source": [
    "Let's create an actual repository and use it!"
   ]
  },
  {
   "cell_type": "markdown",
   "id": "0df2b99a-e93e-45bd-bcbb-ee2f0fac591f",
   "metadata": {},
   "source": [
    "From GitHub, top right plus sign, let's create a new repository."
   ]
  },
  {
   "cell_type": "markdown",
   "id": "d856a81f-a29a-4bd5-a84b-d4b694326e01",
   "metadata": {},
   "source": [
    "### `clone`"
   ]
  },
  {
   "cell_type": "markdown",
   "id": "66f9670c-bac8-404c-9cd0-c210e4d64651",
   "metadata": {},
   "source": [
    "Now, to make a local version of a remote repo, we need to `clone` it."
   ]
  },
  {
   "cell_type": "markdown",
   "id": "83baead2-79c9-4fea-ae83-c94befd31eba",
   "metadata": {},
   "source": [
    "To do this, and use all the other Git/GitHub commands, we need to use a Git interface:\n",
    "\n",
    "- The most basic and straightforward interface is the command line tool\n",
    "- There are graphical interfaces (such as GitHub Desktop or Fork) that can be useful to visualize the project history\n",
    "- Some development environments like VSCode, PyCharm or JupyterLab directly embed Git tools"
   ]
  },
  {
   "cell_type": "markdown",
   "id": "ac51c708-d734-4e00-9344-f1e05f99adc0",
   "metadata": {},
   "source": [
    "To `clone` a repository:\n",
    "- From the command line, you can use:\n",
    "\n",
    "```shell\n",
    "> git clone url_of_repository\n",
    "```"
   ]
  },
  {
   "cell_type": "markdown",
   "id": "18dcdfb4-5c20-420e-ac6c-667815f2b3d0",
   "metadata": {},
   "source": [
    "Otherwise, you can do it with GitHub Desktop."
   ]
  },
  {
   "cell_type": "markdown",
   "id": "0860f172-9afb-436b-ac42-c4f54bb2f4b3",
   "metadata": {},
   "source": [
    "If you are trying to use the terminal, make sure you then write\n",
    "```shell\n",
    "cd repo_name\n",
    "``` \n",
    "To make the repository the working directory of the terminal!"
   ]
  },
  {
   "cell_type": "markdown",
   "id": "f2954f67-0767-4b1b-9e7a-2c1778c569b8",
   "metadata": {},
   "source": [
    "### `add`"
   ]
  },
  {
   "cell_type": "markdown",
   "id": "82456f04-d96a-4f40-a8bf-93de1f4d7b1e",
   "metadata": {},
   "source": [
    "Let's now make some changes to the repository! For example, add a small `.py` file with code that just prints `\"Hello World\"` in it."
   ]
  },
  {
   "cell_type": "markdown",
   "id": "5010283f-5542-473b-8b38-f687e3fec83f",
   "metadata": {},
   "source": [
    "Then, let's `stage`/`add` this change:\n",
    "- from the terminal, we can just say:\n",
    "```shell\n",
    "> git add *\n",
    "```\n",
    "\n",
    "This will stage all the change we made (we could do it for a single file by specifying the filename instead of *). Otherwise, we could have staged it from GitHub Desktop."
   ]
  },
  {
   "cell_type": "markdown",
   "id": "9e425f48-4134-4250-8e60-6c2b286a1832",
   "metadata": {},
   "source": [
    "### `commit`\n",
    "\n",
    "To save all the changes that we staged, we need one last step: commiting the changes, with a message specifying what we just changed in the code.\n",
    "\n",
    "From the terminal, we can:\n",
    "```shell\n",
    "> git commit -m \"Added test.py file\"\n",
    "```\n",
    "\n",
    "(Or commit from GitHub Desktop)"
   ]
  },
  {
   "cell_type": "markdown",
   "id": "66752ffe-b989-4a64-9228-efc82b2a681e",
   "metadata": {},
   "source": [
    "### `push`"
   ]
  },
  {
   "cell_type": "markdown",
   "id": "11f412a7-19ba-4f01-b619-1becb4f9d6a9",
   "metadata": {},
   "source": [
    "Finally, we can push our changes to the remote repository to save them forever. To do so, from the terminal, we just\n",
    "\n",
    "```shell\n",
    "> git push\n",
    "```\n",
    "\n",
    "(Or push from GitHub Desktop)"
   ]
  },
  {
   "cell_type": "markdown",
   "id": "1e754339-5790-4162-b511-61f97a301b82",
   "metadata": {},
   "source": [
    "### `pull` remote changes"
   ]
  },
  {
   "cell_type": "markdown",
   "id": "0e9cf0d7-0047-4d05-9682-77dd9e2009e2",
   "metadata": {},
   "source": [
    "Let's now go on GitHub and add some changes to our `README.md` file! (which is super-cool and you should write on it, by the way)."
   ]
  },
  {
   "cell_type": "markdown",
   "id": "180ff55f-40ae-49ad-a625-0f72bc727513",
   "metadata": {},
   "source": [
    "After saving the change by committing it directly from GitHub, we can go to our terminal (or GitHub Desktop), and (from inside the repository):\n",
    "\n",
    "```bash\n",
    "> git pull\n",
    "```"
   ]
  },
  {
   "cell_type": "markdown",
   "id": "be30f406-3bdd-4955-8663-6006807c6341",
   "metadata": {},
   "source": [
    "## More advanced Git/GitHub features:"
   ]
  },
  {
   "cell_type": "markdown",
   "id": "4695e93b-bc08-467c-8cca-6b702590c548",
   "metadata": {},
   "source": [
    "There are more advanced features of GitHub you might want to explore, in particular:\n",
    "\n",
    "- `branches`: we can work on different variants of the same project where we explore different ideas. We can fork our project with a different `branch`, and `merge` it to the main branch only when we are happy with it."
   ]
  },
  {
   "cell_type": "markdown",
   "id": "66b5d4fb-7562-4b9f-a58a-bc91d2b08574",
   "metadata": {},
   "source": [
    "- Collaborative code using `pull requests`: GitHub offers smart ways of working collaboratively with people. Each developer can work on their own versions, or `forks`, of the project, and then asking for pulling code to the main project via `pull requests`."
   ]
  },
  {
   "cell_type": "markdown",
   "id": "486a7744-7c12-4117-a657-6185dca34e34",
   "metadata": {},
   "source": [
    "# Publishing code"
   ]
  },
  {
   "cell_type": "markdown",
   "id": "47553da6-6393-4289-a484-2561e93e89a0",
   "metadata": {},
   "source": [
    "Why publish code? Two occurrences:\n",
    "\n",
    "- Software tools that we want to give to the community\n",
    "- Code associated with a paper\n"
   ]
  },
  {
   "cell_type": "markdown",
   "id": "8a780a88-b5db-42af-ba60-a2c99d3ba648",
   "metadata": {},
   "source": [
    "## Software tools for the community\n",
    "\n",
    "We won't we covering this section. Publishing and mantaining user-oriented software is worth an entire course by itself!"
   ]
  },
  {
   "cell_type": "markdown",
   "id": "08cfb450-ac12-4b32-854f-d71b4bba08f2",
   "metadata": {},
   "source": [
    "## Code associated with a paper\n",
    "\n",
    "This one's easy! You should ALWAYS do it!"
   ]
  },
  {
   "cell_type": "markdown",
   "id": "aff593e9-b2be-46f1-ad2b-0435a4d53f24",
   "metadata": {},
   "source": [
    "## Why publishing code\n",
    "\n",
    "As papers become more and more dependent on computer analysis, your code is your best Methods section!"
   ]
  },
  {
   "cell_type": "markdown",
   "id": "f8fb5165-83fa-4dfa-b980-ec23ed1480fd",
   "metadata": {},
   "source": [
    "From experimental paradigms to every step of an analysis, the flow from raw data to a figure on a paper is almost entirely code-driven."
   ]
  },
  {
   "cell_type": "markdown",
   "id": "c02c3770-6bb3-4d6f-ac57-712b44ca3158",
   "metadata": {},
   "source": [
    "Publishing code incentives us to keep manual steps of an analysis to the minimum!"
   ]
  },
  {
   "cell_type": "markdown",
   "id": "ce2fa509-2cad-44ae-8477-b9be6ae7c485",
   "metadata": {},
   "source": [
    "## When not to publish code?"
   ]
  },
  {
   "cell_type": "markdown",
   "id": "ca9a5c21-5ecf-43c5-be1d-d450563b4ec2",
   "metadata": {},
   "source": [
    "Never!"
   ]
  },
  {
   "cell_type": "markdown",
   "id": "d345e556-8989-40a4-9d80-b283def47267",
   "metadata": {},
   "source": [
    "The main reasons people don't publish code in 2023 are:\n",
    "- They have not been told how good publishing code is\n",
    "- They feel ashamed by putting out ugly code\n",
    "- They feel they would need to spend a loot of time to make code publishable\n",
    "\n",
    "Not true! And nothing to be ashamed of!"
   ]
  },
  {
   "cell_type": "markdown",
   "id": "8bfce42e-c6ac-41c3-8aa8-e3e89e0e92f1",
   "metadata": {},
   "source": [
    "Ugly code is better than no code (also, if you don't publish your code one can only assume the code was ugly)"
   ]
  },
  {
   "cell_type": "markdown",
   "id": "c385b790-499a-40ce-9a97-d44676605144",
   "metadata": {},
   "source": [
    "## Publishing code is simple\n",
    "\n",
    "The fundamental requirements for publishing code are:\n",
    "- a repository with the project's code\n",
    "- A `README.md` stating:\n",
    "    - what is the content of the repository\n",
    "    - which scripts are the most important ones to replicate\n",
    "    - what are the software requirements (Python/MATLAB version, libraries, etc)\n",
    "- A license, even if you think no one will ever use your code\n",
    "- A DOI!!! "
   ]
  },
  {
   "cell_type": "markdown",
   "id": "3b4a7c42-9b5b-487c-a9e6-fbd335350a26",
   "metadata": {},
   "source": [
    "## DOIs"
   ]
  },
  {
   "cell_type": "markdown",
   "id": "c53a446b-1201-4866-bc3b-52fe41fb3ebe",
   "metadata": {},
   "source": [
    "Digital Objects Identifiers; they are the only way to ensure that something we put on the internet will stay there for a while.\n",
    "\n",
    "Websites that give us DOIs (such as journals or other agents) ensure that the corresponding address will be active and reachable for some number of years."
   ]
  },
  {
   "cell_type": "markdown",
   "id": "37c36dc7-6b02-424a-82dc-3017570e271e",
   "metadata": {},
   "source": [
    "## GitHub does not mint DOIs"
   ]
  },
  {
   "cell_type": "markdown",
   "id": "a5f6e5be-e96d-4079-b457-98b42b0f0bba",
   "metadata": {},
   "source": [
    "For publishing your code, GitHub is not a good place! The address of a repository is not permanent, the repository can be deleted or made private! "
   ]
  },
  {
   "cell_type": "markdown",
   "id": "31e57718-3d02-4936-8e21-a40fd7434c05",
   "metadata": {},
   "source": [
    "NEVER use GitHub to publish your paper-associated code!"
   ]
  },
  {
   "cell_type": "markdown",
   "id": "558ee867-0dea-4694-934f-74d435ca3f8d",
   "metadata": {},
   "source": [
    "Give a GitHub link in a paper only if you want to refer to the project/developer community associated with it"
   ]
  },
  {
   "cell_type": "markdown",
   "id": "2b69a52f-41e8-49fb-8745-e3dba9ef9aff",
   "metadata": {},
   "source": [
    "## Servers for publishing code\n",
    "\n",
    "There are nice servers that give you the possibility of publishing code directly from a GitHub repo,  for example:\n",
    "- Zenodo\n",
    "- FigShare\n",
    "\n",
    "Those websites will give you a DOI that you can use to mention your code in a paper.\n",
    "\n",
    "You can find on their websites nice instructions to put your code there."
   ]
  },
  {
   "cell_type": "markdown",
   "id": "5afeb40a-57f2-4de8-90dc-0f3897bbe73c",
   "metadata": {},
   "source": [
    "# Publishing data\n",
    "\n",
    "Ideally, the more data you can share together with your code, the better!\n",
    "\n",
    "If size is a problem, you can think about sharing some partially processed version of the data."
   ]
  },
  {
   "cell_type": "markdown",
   "id": "407bcf39-ccbc-4d9b-a394-d730e685ed45",
   "metadata": {},
   "source": [
    "Published datasets are likely to become increasingly important and citable in the future!"
   ]
  },
  {
   "cell_type": "markdown",
   "id": "fa97020f-0ecd-4729-a6b2-e9095ef0ca3b",
   "metadata": {},
   "source": [
    "For very computationally heavy projects, I would recommend always to share at least a small toy dataset that can be used to reproduce your analyses!"
   ]
  },
  {
   "cell_type": "markdown",
   "id": "ec22214a-31ff-4f2d-81a6-1eed7ed93ee6",
   "metadata": {},
   "source": [
    "**Note**: Always keep your data separate from code! You do not want to put data in a GitHub repository, remember!"
   ]
  },
  {
   "cell_type": "markdown",
   "id": "8c6e654f-0519-4284-b844-c944ee184d23",
   "metadata": {},
   "source": [
    "### Where to publish data\n",
    "\n",
    "For datasets there are hosting services that can store tens or hundreds of Gigabytes of data and give us a DOI!\n",
    "- FigShare\n",
    "- Zenodo\n",
    "- Dandi\n",
    "- OpenNeuro\n",
    "- ...\n",
    "\n",
    "Make sure you always mint a DOI if you want to publish data!"
   ]
  },
  {
   "cell_type": "code",
   "execution_count": null,
   "id": "5dcd5fa5-aed9-4d65-b190-98445e8b7bc2",
   "metadata": {},
   "outputs": [],
   "source": []
  },
  {
   "cell_type": "code",
   "execution_count": null,
   "id": "effb83d1-cca8-4742-94c8-45669fbb46c4",
   "metadata": {},
   "outputs": [],
   "source": []
  },
  {
   "cell_type": "code",
   "execution_count": null,
   "id": "ddb71d53-3a2d-4b60-be20-5176bd859ed4",
   "metadata": {},
   "outputs": [],
   "source": []
  },
  {
   "cell_type": "code",
   "execution_count": null,
   "id": "288218ef-4e51-48de-8e72-bbec65a25ab8",
   "metadata": {},
   "outputs": [],
   "source": []
  },
  {
   "cell_type": "code",
   "execution_count": null,
   "id": "fa53b69b-814f-4f01-b8b8-1e059ff1e2da",
   "metadata": {},
   "outputs": [],
   "source": []
  },
  {
   "cell_type": "code",
   "execution_count": null,
   "id": "d16ded82-83f0-46e6-b1d5-1a4622ca23ee",
   "metadata": {},
   "outputs": [],
   "source": []
  },
  {
   "cell_type": "markdown",
   "id": "5d1fd20e-f2e8-4519-95c1-ff5964da881e",
   "metadata": {},
   "source": []
  }
 ],
 "metadata": {
  "celltoolbar": "Slideshow",
  "kernelspec": {
   "display_name": "Python [conda env:course_env]",
   "language": "python",
   "name": "conda-env-course_env-py"
  },
  "language_info": {
   "codemirror_mode": {
    "name": "ipython",
    "version": 3
   },
   "file_extension": ".py",
   "mimetype": "text/x-python",
   "name": "python",
   "nbconvert_exporter": "python",
   "pygments_lexer": "ipython3",
   "version": "3.9.16"
  }
 },
 "nbformat": 4,
 "nbformat_minor": 5
}
