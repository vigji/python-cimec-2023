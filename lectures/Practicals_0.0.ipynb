{
 "cells": [
  {
   "cell_type": "markdown",
   "id": "03a44e75",
   "metadata": {},
   "source": [
    "# Practicals for lecture 0.0"
   ]
  },
  {
   "cell_type": "markdown",
   "id": "76cf1318",
   "metadata": {},
   "source": [
    "Partially adapted from material from Mateusz Kostecki, Ula Włodkowska,, Łucja Doradzińska, Andrew Want, Kasia Skowrońska"
   ]
  },
  {
   "cell_type": "markdown",
   "id": "1b2a9c8a",
   "metadata": {},
   "source": [
    "## Basic notebook usage"
   ]
  },
  {
   "cell_type": "markdown",
   "id": "28220626",
   "metadata": {},
   "source": [
    "## Types"
   ]
  },
  {
   "cell_type": "markdown",
   "id": "9ce5ba5d",
   "metadata": {},
   "source": [
    "#### Basic maths"
   ]
  },
  {
   "cell_type": "code",
   "execution_count": null,
   "id": "245bc454",
   "metadata": {},
   "outputs": [],
   "source": [
    "# Calculate the mean of these numbers, and assign it to a variable: 346, 23, 116, 89, 150.4, 12\n",
    "\n"
   ]
  },
  {
   "cell_type": "code",
   "execution_count": null,
   "id": "70b8c4fe",
   "metadata": {},
   "outputs": [],
   "source": [
    "# Calculate the mean cubed and add 1280000, then calculate the square root, and assign it to a variable\n",
    "\n"
   ]
  },
  {
   "cell_type": "code",
   "execution_count": null,
   "id": "01db7346",
   "metadata": {},
   "outputs": [],
   "source": [
    "# Determine the integer and remainder from the following calculation, and assign to variables: 12 divided by 5\n",
    "\n"
   ]
  },
  {
   "cell_type": "code",
   "execution_count": null,
   "id": "cebd3818",
   "metadata": {},
   "outputs": [],
   "source": []
  },
  {
   "cell_type": "markdown",
   "id": "31d0ec9e",
   "metadata": {},
   "source": [
    "#### Strings"
   ]
  },
  {
   "cell_type": "code",
   "execution_count": null,
   "id": "c557f71a",
   "metadata": {},
   "outputs": [],
   "source": [
    "# Create a variable with 5 repeats of the word \"mouse\"\n",
    "mouse = \"mouse\"\n",
    "\n",
    "\n",
    "# Repeat the above, but incorporate spaces between the repeats\n",
    "\n",
    "\n"
   ]
  },
  {
   "cell_type": "code",
   "execution_count": null,
   "id": "6e7e4dc6",
   "metadata": {},
   "outputs": [],
   "source": []
  },
  {
   "cell_type": "code",
   "execution_count": null,
   "id": "fa0b4774",
   "metadata": {},
   "outputs": [],
   "source": []
  }
 ],
 "metadata": {
  "kernelspec": {
   "display_name": "Python 3 (ipykernel)",
   "language": "python",
   "name": "python3"
  },
  "language_info": {
   "codemirror_mode": {
    "name": "ipython",
    "version": 3
   },
   "file_extension": ".py",
   "mimetype": "text/x-python",
   "name": "python",
   "nbconvert_exporter": "python",
   "pygments_lexer": "ipython3",
   "version": "3.9.13"
  }
 },
 "nbformat": 4,
 "nbformat_minor": 5
}
