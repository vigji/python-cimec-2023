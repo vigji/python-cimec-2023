{
 "cells": [
  {
   "cell_type": "markdown",
   "id": "3ca811a3",
   "metadata": {
    "slideshow": {
     "slide_type": "slide"
    }
   },
   "source": [
    "# Python for (open) Neuroscience\n",
    "\n",
    "_Lecture 0.0_: Introduction to Python (comments, variables, types)\n",
    "\n",
    "Luigi Petrucco\n",
    "\n",
    "Jean-Charles René Pasquin Mariani"
   ]
  },
  {
   "cell_type": "markdown",
   "id": "080ed674",
   "metadata": {
    "slideshow": {
     "slide_type": "slide"
    }
   },
   "source": [
    "## Introduction to Python syntax"
   ]
  },
  {
   "cell_type": "markdown",
   "id": "91449a81",
   "metadata": {
    "slideshow": {
     "slide_type": "subslide"
    }
   },
   "source": [
    "- A Python program constists of written instructions given to a Python interpreter (sometimes called kernel)"
   ]
  },
  {
   "cell_type": "code",
   "execution_count": 1,
   "id": "0582e20d",
   "metadata": {
    "slideshow": {
     "slide_type": "-"
    }
   },
   "outputs": [
    {
     "name": "stdout",
     "output_type": "stream",
     "text": [
      "Hello World\n"
     ]
    }
   ],
   "source": [
    "print(\"Hello World\")"
   ]
  },
  {
   "cell_type": "markdown",
   "id": "da4331f7",
   "metadata": {
    "slideshow": {
     "slide_type": "fragment"
    }
   },
   "source": [
    "- Comments that have no effect on the program can be introduced"
   ]
  },
  {
   "cell_type": "code",
   "execution_count": 2,
   "id": "3a2932ac",
   "metadata": {
    "slideshow": {
     "slide_type": "-"
    }
   },
   "outputs": [
    {
     "name": "stdout",
     "output_type": "stream",
     "text": [
      "Hello World\n"
     ]
    }
   ],
   "source": [
    "# Print Hello World:\n",
    "print(\"Hello World\")"
   ]
  },
  {
   "cell_type": "markdown",
   "id": "56bc3f42",
   "metadata": {
    "slideshow": {
     "slide_type": "slide"
    }
   },
   "source": [
    "### Python code layout"
   ]
  },
  {
   "cell_type": "markdown",
   "id": "e1f87b6b",
   "metadata": {
    "slideshow": {
     "slide_type": "fragment"
    }
   },
   "source": [
    "- New line separates instructions sent to Python (`statements`)"
   ]
  },
  {
   "cell_type": "code",
   "execution_count": 3,
   "id": "5779c700",
   "metadata": {
    "slideshow": {
     "slide_type": "-"
    }
   },
   "outputs": [
    {
     "name": "stdout",
     "output_type": "stream",
     "text": [
      "We are adding numbers\n",
      "3\n"
     ]
    }
   ],
   "source": [
    "print(\"We are adding numbers\")\n",
    "a_sum = 1 + 2\n",
    "print(a_sum)  # another statement"
   ]
  },
  {
   "cell_type": "markdown",
   "id": "2cec2728",
   "metadata": {
    "slideshow": {
     "slide_type": "fragment"
    }
   },
   "source": [
    "- Indentation counts to segregate logical blocks"
   ]
  },
  {
   "cell_type": "code",
   "execution_count": 4,
   "id": "8e0bbb38",
   "metadata": {},
   "outputs": [
    {
     "name": "stdout",
     "output_type": "stream",
     "text": [
      "0\n",
      "1\n",
      "2\n",
      "Hello world!\n"
     ]
    }
   ],
   "source": [
    "for i in range(3):\n",
    "    print(i)  # everything that is indented at this level happend inside the loop\n",
    "print(\"Hello world!\")"
   ]
  },
  {
   "cell_type": "markdown",
   "id": "bcd935fc",
   "metadata": {
    "slideshow": {
     "slide_type": "slide"
    }
   },
   "source": [
    "## Variables"
   ]
  },
  {
   "cell_type": "markdown",
   "id": "d6662d46",
   "metadata": {
    "slideshow": {
     "slide_type": "fragment"
    }
   },
   "source": [
    "- we assign values to variables when we want to remember them, or refer to them elsewhere in our program. "
   ]
  },
  {
   "cell_type": "markdown",
   "id": "e38a226a",
   "metadata": {
    "slideshow": {
     "slide_type": "fragment"
    }
   },
   "source": [
    "- We define variables by using a single `=` sign. This tells Python that we want it to use a specific name to refer to a particular thing."
   ]
  },
  {
   "cell_type": "code",
   "execution_count": 5,
   "id": "488b5e54",
   "metadata": {
    "slideshow": {
     "slide_type": "fragment"
    }
   },
   "outputs": [
    {
     "name": "stdout",
     "output_type": "stream",
     "text": [
      "1\n"
     ]
    }
   ],
   "source": [
    "an_int = 1\n",
    "\n",
    "print(an_int)"
   ]
  },
  {
   "cell_type": "markdown",
   "id": "6acf4727",
   "metadata": {
    "slideshow": {
     "slide_type": "subslide"
    }
   },
   "source": [
    "Variables:\n",
    "\n",
    "- cannot contain spaces\n",
    "- cannot start with a number\n",
    "- cannot contain `$`, `@`, `#`, `\\`, \n",
    "- could contain unicode characters, but ASCII are recommended\n",
    "- cannot be named as `reserved keywords`:"
   ]
  },
  {
   "cell_type": "code",
   "execution_count": 6,
   "id": "3b44be10",
   "metadata": {
    "slideshow": {
     "slide_type": "fragment"
    }
   },
   "outputs": [
    {
     "name": "stdout",
     "output_type": "stream",
     "text": [
      "\n",
      "Here is a list of the Python keywords.  Enter any keyword to get more help.\n",
      "\n",
      "False               break               for                 not\n",
      "None                class               from                or\n",
      "True                continue            global              pass\n",
      "__peg_parser__      def                 if                  raise\n",
      "and                 del                 import              return\n",
      "as                  elif                in                  try\n",
      "assert              else                is                  while\n",
      "async               except              lambda              with\n",
      "await               finally             nonlocal            yield\n",
      "\n"
     ]
    }
   ],
   "source": [
    "help(\"keywords\")"
   ]
  },
  {
   "cell_type": "markdown",
   "id": "facf7963",
   "metadata": {
    "slideshow": {
     "slide_type": "subslide"
    }
   },
   "source": [
    "### What is a variable?"
   ]
  },
  {
   "cell_type": "markdown",
   "id": "3988a838",
   "metadata": {
    "slideshow": {
     "slide_type": "fragment"
    }
   },
   "source": [
    "Representation inside the program of a location in memory"
   ]
  },
  {
   "cell_type": "markdown",
   "id": "bc73702e",
   "metadata": {
    "slideshow": {
     "slide_type": "fragment"
    }
   },
   "source": [
    "Any variable requires the `allocation` of some `computer memory` to be stored"
   ]
  },
  {
   "cell_type": "markdown",
   "id": "1e0b3866",
   "metadata": {},
   "source": [
    "### What is a variable? -2"
   ]
  },
  {
   "cell_type": "markdown",
   "id": "a5771792",
   "metadata": {
    "slideshow": {
     "slide_type": "fragment"
    }
   },
   "source": [
    "In memory variables are encoded as binary numbers and stored as sequences of bits"
   ]
  },
  {
   "cell_type": "code",
   "execution_count": 7,
   "id": "d39d0dd1",
   "metadata": {},
   "outputs": [
    {
     "data": {
      "text/plain": [
       "28"
      ]
     },
     "execution_count": 7,
     "metadata": {},
     "output_type": "execute_result"
    }
   ],
   "source": [
    "a = True\n",
    "import sys\n",
    "sys.getsizeof(a)"
   ]
  },
  {
   "cell_type": "code",
   "execution_count": 8,
   "id": "a128528d",
   "metadata": {},
   "outputs": [
    {
     "data": {
      "text/plain": [
       "9223372036.854776"
      ]
     },
     "execution_count": 8,
     "metadata": {},
     "output_type": "execute_result"
    }
   ],
   "source": [
    "sys.maxsize / 1000000000"
   ]
  },
  {
   "cell_type": "markdown",
   "id": "39d3f1ed",
   "metadata": {
    "slideshow": {
     "slide_type": "fragment"
    }
   },
   "source": [
    "- Characters are stored as ASCII (or Unicode) numbers\n",
    "- More bits makes variables more expressive, but take larger memory"
   ]
  },
  {
   "cell_type": "markdown",
   "id": "b83ea2ee",
   "metadata": {
    "slideshow": {
     "slide_type": "fragment"
    }
   },
   "source": [
    "We will be caring more about this when we will start moving a lot of numbers!"
   ]
  },
  {
   "cell_type": "markdown",
   "id": "368bfaa1",
   "metadata": {
    "slideshow": {
     "slide_type": "slide"
    }
   },
   "source": [
    "## Types"
   ]
  },
  {
   "cell_type": "markdown",
   "id": "496366d7",
   "metadata": {},
   "source": [
    "Variables can have different types. The most basic are `str`, `int`, `float`, `bool`"
   ]
  },
  {
   "cell_type": "code",
   "execution_count": 9,
   "id": "15b769b2",
   "metadata": {},
   "outputs": [
    {
     "name": "stdout",
     "output_type": "stream",
     "text": [
      "True <class 'str'>\n",
      "1 <class 'int'>\n",
      "1.0 <class 'float'>\n",
      "True <class 'bool'>\n"
     ]
    }
   ],
   "source": [
    "print(\"True\", type(\"True\"))\n",
    "print(1, type(1))\n",
    "print(1.0, type(1.0))\n",
    "print(True, type(True))"
   ]
  },
  {
   "cell_type": "markdown",
   "id": "274be00e",
   "metadata": {
    "slideshow": {
     "slide_type": "subslide"
    }
   },
   "source": [
    "**Note**: `print()`, `type()` are functions that we call by passing them arguments inside the parenteses:\n",
    "\n",
    "```\n",
    "function_name(argument)\n",
    "```\n",
    "\n",
    "We will see more about functions in the next lecture!\n",
    "\n",
    "---\n",
    "\n",
    "**Warning**: `type` or `print` are special terms that we should be cautious about when assigning variables. If you call a variable `type`, Python will overwrite it with whatever you say, and this function won't work anymore!"
   ]
  },
  {
   "cell_type": "markdown",
   "id": "a791ea6e",
   "metadata": {
    "slideshow": {
     "slide_type": "subslide"
    }
   },
   "source": [
    "### `int`"
   ]
  },
  {
   "cell_type": "markdown",
   "id": "10d15ace",
   "metadata": {
    "slideshow": {
     "slide_type": "fragment"
    }
   },
   "source": [
    "- Describe integer numbers, positive or negative"
   ]
  },
  {
   "cell_type": "code",
   "execution_count": 10,
   "id": "24365b83",
   "metadata": {},
   "outputs": [],
   "source": [
    "an_integer = 1"
   ]
  },
  {
   "cell_type": "markdown",
   "id": "78cd0d48",
   "metadata": {},
   "source": [
    "Aritmetical operators are quite intuitive:\n",
    " - `+`, `-`, `*`, `/`; \n",
    " - `**` power, `//` integer division, `%` module"
   ]
  },
  {
   "cell_type": "code",
   "execution_count": 11,
   "id": "9ecb562f",
   "metadata": {},
   "outputs": [
    {
     "data": {
      "text/plain": [
       "1"
      ]
     },
     "execution_count": 11,
     "metadata": {},
     "output_type": "execute_result"
    }
   ],
   "source": [
    "a = 3\n",
    "a % 2"
   ]
  },
  {
   "cell_type": "markdown",
   "id": "9929923e",
   "metadata": {
    "slideshow": {
     "slide_type": "subslide"
    }
   },
   "source": [
    "### `float`"
   ]
  },
  {
   "cell_type": "markdown",
   "id": "32fc5f0d",
   "metadata": {
    "slideshow": {
     "slide_type": "fragment"
    }
   },
   "source": [
    "The result of the division is `float`, not `int`!"
   ]
  },
  {
   "cell_type": "code",
   "execution_count": 12,
   "id": "b8eca93a",
   "metadata": {},
   "outputs": [
    {
     "data": {
      "text/plain": [
       "float"
      ]
     },
     "execution_count": 12,
     "metadata": {},
     "output_type": "execute_result"
    }
   ],
   "source": [
    "type(2/1)"
   ]
  },
  {
   "cell_type": "markdown",
   "id": "1ddd4c2f",
   "metadata": {},
   "source": [
    "Floats describe rational numbers"
   ]
  },
  {
   "cell_type": "code",
   "execution_count": null,
   "id": "ee15154f",
   "metadata": {
    "slideshow": {
     "slide_type": "fragment"
    }
   },
   "outputs": [],
   "source": []
  },
  {
   "cell_type": "markdown",
   "id": "ca807290",
   "metadata": {
    "slideshow": {
     "slide_type": "subslide"
    }
   },
   "source": [
    "### `bool`"
   ]
  },
  {
   "cell_type": "markdown",
   "id": "c209664c",
   "metadata": {
    "slideshow": {
     "slide_type": "fragment"
    }
   },
   "source": [
    "Describe logical (truth) values"
   ]
  },
  {
   "cell_type": "code",
   "execution_count": 13,
   "id": "27e16e89",
   "metadata": {},
   "outputs": [],
   "source": [
    "a = True\n",
    "b = False\n"
   ]
  },
  {
   "cell_type": "markdown",
   "id": "9ec2c1ae",
   "metadata": {
    "slideshow": {
     "slide_type": "fragment"
    }
   },
   "source": [
    " - Result from comparisons:\n",
    "     - `>`  `<`: bigger, smaller (excluding extremes)\n",
    "     - `>=`  `<=`: bigger, smaller (including extremes)\n",
    "     - `==`: equal\n",
    "     - `!=`: different"
   ]
  },
  {
   "cell_type": "code",
   "execution_count": 14,
   "id": "af74b984",
   "metadata": {},
   "outputs": [
    {
     "data": {
      "text/plain": [
       "True"
      ]
     },
     "execution_count": 14,
     "metadata": {},
     "output_type": "execute_result"
    }
   ],
   "source": [
    "a_result = 4 >= 3\n",
    "another_result = 5 < 8\n",
    "a_result and another_result"
   ]
  },
  {
   "cell_type": "markdown",
   "id": "749aac1f",
   "metadata": {
    "slideshow": {
     "slide_type": "subslide"
    }
   },
   "source": [
    "### `str` ret"
   ]
  },
  {
   "cell_type": "markdown",
   "id": "49279b6d",
   "metadata": {
    "slideshow": {
     "slide_type": "fragment"
    }
   },
   "source": [
    "A variable type to represent text (of any length!);\n",
    "\n",
    "Delimited by either `\"` or `'` (try to be consistent)"
   ]
  },
  {
   "cell_type": "code",
   "execution_count": 15,
   "id": "38cebaef",
   "metadata": {},
   "outputs": [
    {
     "data": {
      "text/plain": [
       "str"
      ]
     },
     "execution_count": 15,
     "metadata": {},
     "output_type": "execute_result"
    }
   ],
   "source": [
    "type(\"s\")"
   ]
  },
  {
   "cell_type": "markdown",
   "id": "4024b0bd",
   "metadata": {
    "slideshow": {
     "slide_type": "fragment"
    }
   },
   "source": [
    " - some operators can be used on strings: \n",
    "   - `+` (with another string)\n",
    "   - `*` (with an `int`)"
   ]
  },
  {
   "cell_type": "code",
   "execution_count": 16,
   "id": "4080b5ba",
   "metadata": {},
   "outputs": [
    {
     "name": "stdout",
     "output_type": "stream",
     "text": [
      "aaaaaaaaaa\n",
      "abbiocco\n"
     ]
    }
   ],
   "source": [
    "print(\"a\" * 10)\n",
    "print(\"ab\" + \"biocco\")"
   ]
  },
  {
   "cell_type": "markdown",
   "id": "212f083f",
   "metadata": {
    "slideshow": {
     "slide_type": "subslide"
    }
   },
   "source": [
    "Strings can incorporate variables with the `f\"{a_variable}\"` syntax:"
   ]
  },
  {
   "cell_type": "code",
   "execution_count": 17,
   "id": "e912269d",
   "metadata": {},
   "outputs": [
    {
     "data": {
      "text/plain": [
       "\"The 'a' variable's value is: 2\""
      ]
     },
     "execution_count": 17,
     "metadata": {},
     "output_type": "execute_result"
    }
   ],
   "source": [
    "a = 2\n",
    "f\"The 'a' variable's value is: {2}\""
   ]
  },
  {
   "cell_type": "markdown",
   "id": "a23f31cf",
   "metadata": {
    "slideshow": {
     "slide_type": "subslide"
    }
   },
   "source": [
    "### Indexing"
   ]
  },
  {
   "cell_type": "markdown",
   "id": "0c7a4803",
   "metadata": {
    "slideshow": {
     "slide_type": "fragment"
    }
   },
   "source": [
    " - Strings can be indexed using integer numbers to get single characters:"
   ]
  },
  {
   "cell_type": "code",
   "execution_count": 18,
   "id": "3516ae5a",
   "metadata": {},
   "outputs": [
    {
     "data": {
      "text/plain": [
       "'o'"
      ]
     },
     "execution_count": 18,
     "metadata": {},
     "output_type": "execute_result"
    }
   ],
   "source": [
    "a_long_string = \"Some long string of any kind\"\n",
    "a_long_string[1]"
   ]
  },
  {
   "cell_type": "markdown",
   "id": "34f95767",
   "metadata": {
    "slideshow": {
     "slide_type": "subslide"
    }
   },
   "source": [
    " - We can also index longer parts using the colons syntax:\n",
    " \n",
    "   `start_index : end_index : step`"
   ]
  },
  {
   "cell_type": "code",
   "execution_count": 19,
   "id": "447a0334",
   "metadata": {},
   "outputs": [
    {
     "data": {
      "text/plain": [
       "'ome long '"
      ]
     },
     "execution_count": 19,
     "metadata": {},
     "output_type": "execute_result"
    }
   ],
   "source": [
    "a_long_string[1:10:1]"
   ]
  },
  {
   "cell_type": "markdown",
   "id": "52614a4a",
   "metadata": {
    "slideshow": {
     "slide_type": "slide"
    }
   },
   "source": [
    "(First practical)"
   ]
  },
  {
   "cell_type": "markdown",
   "id": "b9ef6814",
   "metadata": {
    "slideshow": {
     "slide_type": "slide"
    }
   },
   "source": [
    "## Data containers\n",
    "\n",
    "We can store multiple values in a single variable.\n",
    "\n",
    "Built-in types:\n",
    " - `list`\n",
    " - `tuple`\n",
    " - `dictionary`\n",
    "\n",
    "From common libraries (we'll have a look at those later):\n",
    " - `numpy.array`\n",
    " - `pandas.DataSet`"
   ]
  },
  {
   "cell_type": "markdown",
   "id": "7e36da63",
   "metadata": {
    "slideshow": {
     "slide_type": "subslide"
    }
   },
   "source": [
    "### `list`"
   ]
  },
  {
   "cell_type": "markdown",
   "id": "3409456b",
   "metadata": {
    "slideshow": {
     "slide_type": "fragment"
    }
   },
   "source": [
    " A ordered list of values of any type."
   ]
  },
  {
   "cell_type": "markdown",
   "id": "57448fd5",
   "metadata": {
    "slideshow": {
     "slide_type": "subslide"
    }
   },
   "source": [
    "### `tuple`"
   ]
  },
  {
   "cell_type": "code",
   "execution_count": 20,
   "id": "c3f0c85e",
   "metadata": {},
   "outputs": [
    {
     "name": "stdout",
     "output_type": "stream",
     "text": [
      "[1, True, 'something', 3.14]\n",
      "4\n"
     ]
    }
   ],
   "source": [
    "a_list = [1, True, \"something\", 3.14]\n",
    "print(a_list)\n",
    "print(len(a_list))"
   ]
  },
  {
   "cell_type": "markdown",
   "id": "8e11325b",
   "metadata": {
    "slideshow": {
     "slide_type": "fragment"
    }
   },
   "source": [
    "Values are then retrieved with numerical indexing (**Note:** Numerical indexes start from 0!!!)"
   ]
  },
  {
   "cell_type": "code",
   "execution_count": 21,
   "id": "5374572b",
   "metadata": {
    "scrolled": true
   },
   "outputs": [
    {
     "data": {
      "text/plain": [
       "'something'"
      ]
     },
     "execution_count": 21,
     "metadata": {},
     "output_type": "execute_result"
    }
   ],
   "source": [
    "# Index list:\n",
    "a_list[2]"
   ]
  },
  {
   "cell_type": "markdown",
   "id": "8acfabfd",
   "metadata": {
    "slideshow": {
     "slide_type": "subslide"
    }
   },
   "source": [
    "The content of a list can be modified:"
   ]
  },
  {
   "cell_type": "code",
   "execution_count": null,
   "id": "53121c00",
   "metadata": {},
   "outputs": [],
   "source": []
  },
  {
   "cell_type": "markdown",
   "id": "90816696",
   "metadata": {
    "slideshow": {
     "slide_type": "subslide"
    }
   },
   "source": [
    "Lists are not bounded in length and can be extended...:"
   ]
  },
  {
   "cell_type": "code",
   "execution_count": 22,
   "id": "a67ee44f",
   "metadata": {},
   "outputs": [
    {
     "name": "stdout",
     "output_type": "stream",
     "text": [
      "[1, True, 'something', True, 3.14, 'Something new']\n"
     ]
    }
   ],
   "source": [
    "# Append:\n",
    "a_list = [1, True, \"something\", True, 3.14]\n",
    "a_list.append(\"Something new\")\n",
    "print(a_list)"
   ]
  },
  {
   "cell_type": "markdown",
   "id": "689f0de0",
   "metadata": {},
   "source": [
    "...or shortened:"
   ]
  },
  {
   "cell_type": "code",
   "execution_count": 23,
   "id": "96d3d672",
   "metadata": {},
   "outputs": [
    {
     "name": "stdout",
     "output_type": "stream",
     "text": [
      "After popping out 1, the list is [True, 'something', True, 3.14]\n"
     ]
    }
   ],
   "source": [
    "a_list = [1, True, \"something\", True, 3.14]\n",
    "pop = a_list.pop(0)\n",
    "print(f\"After popping out {pop}, the list is {a_list}\")"
   ]
  },
  {
   "cell_type": "markdown",
   "id": "148d62ad",
   "metadata": {
    "slideshow": {
     "slide_type": "subslide"
    }
   },
   "source": [
    "### `dictionary`"
   ]
  },
  {
   "cell_type": "markdown",
   "id": "a0cb7e1b",
   "metadata": {
    "slideshow": {
     "slide_type": "fragment"
    }
   },
   "source": [
    "A structure where values are associated with a key (and not with a position)"
   ]
  },
  {
   "cell_type": "code",
   "execution_count": 24,
   "id": "ad0eb8b6",
   "metadata": {},
   "outputs": [
    {
     "data": {
      "text/plain": [
       "1"
      ]
     },
     "execution_count": 24,
     "metadata": {},
     "output_type": "execute_result"
    }
   ],
   "source": [
    "a_dict = {\"item_a\": 1, \"item_b\": 2}\n",
    "same_dict = dict(item_a=1, item_b=2)\n",
    "\n",
    "a_dict[\"item_a\"]"
   ]
  },
  {
   "cell_type": "markdown",
   "id": "95abdb81",
   "metadata": {
    "slideshow": {
     "slide_type": "fragment"
    }
   },
   "source": [
    "Values are then retrieved with a key; keys are usually strings but they do not have to"
   ]
  },
  {
   "cell_type": "code",
   "execution_count": 25,
   "id": "c28b5db6",
   "metadata": {},
   "outputs": [
    {
     "data": {
      "text/plain": [
       "{0: False, 2: True}"
      ]
     },
     "execution_count": 25,
     "metadata": {},
     "output_type": "execute_result"
    }
   ],
   "source": [
    "{0: False, 2: True}"
   ]
  },
  {
   "cell_type": "markdown",
   "id": "707e64c8",
   "metadata": {
    "slideshow": {
     "slide_type": "subslide"
    }
   },
   "source": [
    "Like a list, dictionary can be modified in its values:"
   ]
  },
  {
   "cell_type": "code",
   "execution_count": 26,
   "id": "62379f19",
   "metadata": {},
   "outputs": [
    {
     "data": {
      "text/plain": [
       "{'item_a': 5, 'item_b': 1}"
      ]
     },
     "execution_count": 26,
     "metadata": {},
     "output_type": "execute_result"
    }
   ],
   "source": [
    "a_dict = dict(item_a=0, item_b=1)\n",
    "a_dict[\"item_a\"] = 5\n",
    "a_dict"
   ]
  },
  {
   "cell_type": "markdown",
   "id": "d219ded4",
   "metadata": {
    "slideshow": {
     "slide_type": "subslide"
    }
   },
   "source": [
    "Like a list, a dictionary can be extended..."
   ]
  },
  {
   "cell_type": "code",
   "execution_count": 27,
   "id": "311d34fb",
   "metadata": {},
   "outputs": [
    {
     "data": {
      "text/plain": [
       "{'item_a': 0, 'item_b': 1, 'new_item': 5}"
      ]
     },
     "execution_count": 27,
     "metadata": {},
     "output_type": "execute_result"
    }
   ],
   "source": [
    "a_dict = dict(item_a=0, item_b=1)\n",
    "a_dict[\"new_item\"] = 5\n",
    "a_dict"
   ]
  },
  {
   "cell_type": "markdown",
   "id": "9f0b2bdb",
   "metadata": {
    "slideshow": {
     "slide_type": "fragment"
    }
   },
   "source": [
    "...or shortened:"
   ]
  },
  {
   "cell_type": "code",
   "execution_count": 28,
   "id": "e1cdddae",
   "metadata": {},
   "outputs": [
    {
     "data": {
      "text/plain": [
       "{'item_b': 1}"
      ]
     },
     "execution_count": 28,
     "metadata": {},
     "output_type": "execute_result"
    }
   ],
   "source": [
    "a_dict = dict(item_a=0, item_b=1)\n",
    "a_dict.pop(\"item_a\")\n",
    "a_dict"
   ]
  },
  {
   "cell_type": "markdown",
   "id": "3d2033d2",
   "metadata": {
    "slideshow": {
     "slide_type": "subslide"
    }
   },
   "source": [
    "### `tuple`"
   ]
  },
  {
   "cell_type": "markdown",
   "id": "63cbff44",
   "metadata": {
    "slideshow": {
     "slide_type": "fragment"
    }
   },
   "source": [
    "Tuples are ordered collections, similar to lists, but **unchangeable** in length and content:"
   ]
  },
  {
   "cell_type": "code",
   "execution_count": 29,
   "id": "92edbba9",
   "metadata": {},
   "outputs": [],
   "source": [
    "a_tuple = (1, 2, 3)"
   ]
  },
  {
   "cell_type": "markdown",
   "id": "018d7111",
   "metadata": {
    "slideshow": {
     "slide_type": "subslide"
    }
   },
   "source": [
    "### `set`"
   ]
  },
  {
   "cell_type": "markdown",
   "id": "72e74fef",
   "metadata": {
    "slideshow": {
     "slide_type": "fragment"
    }
   },
   "source": [
    "Unordered collection of items; useful when precise order does not matter"
   ]
  },
  {
   "cell_type": "code",
   "execution_count": 30,
   "id": "be467f9a",
   "metadata": {},
   "outputs": [
    {
     "name": "stdout",
     "output_type": "stream",
     "text": [
      "False\n",
      "True\n"
     ]
    }
   ],
   "source": [
    "print([1, 2, 3] == [1, 3, 2])\n",
    "print({1, 2, 3} == {1, 3, 2})"
   ]
  },
  {
   "cell_type": "markdown",
   "id": "18e8c851",
   "metadata": {},
   "source": [
    "New items can be added or removed:"
   ]
  },
  {
   "cell_type": "code",
   "execution_count": 31,
   "id": "5a07156a",
   "metadata": {},
   "outputs": [
    {
     "data": {
      "text/plain": [
       "{'b', 'c', 'd', 'e'}"
      ]
     },
     "execution_count": 31,
     "metadata": {},
     "output_type": "execute_result"
    }
   ],
   "source": [
    "a_set = {\"a\", \"b\", \"c\", \"d\"}\n",
    "a_set.remove(\"a\")\n",
    "a_set.add(\"e\")\n",
    "a_set"
   ]
  },
  {
   "cell_type": "markdown",
   "id": "724f2c52",
   "metadata": {
    "slideshow": {
     "slide_type": "slide"
    }
   },
   "source": [
    "(Second practical)"
   ]
  },
  {
   "cell_type": "markdown",
   "id": "9793fe35",
   "metadata": {
    "slideshow": {
     "slide_type": "slide"
    }
   },
   "source": [
    "## What can we do with variables?"
   ]
  },
  {
   "cell_type": "markdown",
   "id": "c2f9ba40",
   "metadata": {
    "slideshow": {
     "slide_type": "fragment"
    }
   },
   "source": [
    "operations on variables and the flow of the program are managed with control structures:\n",
    " - `if` / `elif` / `else`\n",
    " - `for`\n",
    " - `while`"
   ]
  },
  {
   "cell_type": "markdown",
   "id": "5a462a1f",
   "metadata": {
    "slideshow": {
     "slide_type": "subslide"
    }
   },
   "source": [
    "### `if` / `elif` / `else`"
   ]
  },
  {
   "cell_type": "markdown",
   "id": "86e5e978",
   "metadata": {},
   "source": [
    "With a `if` statement we can make the execution of some lines of code optional:"
   ]
  },
  {
   "cell_type": "code",
   "execution_count": 32,
   "id": "5a225215",
   "metadata": {},
   "outputs": [
    {
     "name": "stdout",
     "output_type": "stream",
     "text": [
      "neither 5 nor 10\n"
     ]
    }
   ],
   "source": [
    "a = 1\n",
    "if a == 10:\n",
    "    print(\"equal 10\")\n",
    "elif a == 5:  # optional\n",
    "    print(\"equal 5\")\n",
    "else:  # optional\n",
    "    print(\"neither 5 nor 10\")"
   ]
  },
  {
   "cell_type": "markdown",
   "id": "b093bb99",
   "metadata": {},
   "source": [
    "We can set multiple conditions:"
   ]
  },
  {
   "cell_type": "code",
   "execution_count": 33,
   "id": "051255bb",
   "metadata": {},
   "outputs": [
    {
     "name": "stdout",
     "output_type": "stream",
     "text": [
      "2 8\n"
     ]
    }
   ],
   "source": [
    "a, b = 2, 8\n",
    "if a > 1 and b < 10:\n",
    "    print(a, b)"
   ]
  },
  {
   "cell_type": "markdown",
   "id": "02536d0d",
   "metadata": {
    "slideshow": {
     "slide_type": "subslide"
    }
   },
   "source": [
    "### `for`"
   ]
  },
  {
   "cell_type": "markdown",
   "id": "ecf329a2",
   "metadata": {
    "slideshow": {
     "slide_type": "fragment"
    }
   },
   "source": [
    "With a `for` loop we can easily repeat many times the same code lines:"
   ]
  },
  {
   "cell_type": "code",
   "execution_count": 34,
   "id": "2593c6d4",
   "metadata": {},
   "outputs": [
    {
     "name": "stdout",
     "output_type": "stream",
     "text": [
      "0\n",
      "1\n",
      "2\n"
     ]
    }
   ],
   "source": [
    "for i in range(3):\n",
    "    print(i)"
   ]
  },
  {
   "cell_type": "markdown",
   "id": "8b0d0c8e",
   "metadata": {
    "slideshow": {
     "slide_type": "fragment"
    }
   },
   "source": [
    "With `for` loops we can easily go through lists:"
   ]
  },
  {
   "cell_type": "code",
   "execution_count": 35,
   "id": "1422301d",
   "metadata": {},
   "outputs": [
    {
     "name": "stdout",
     "output_type": "stream",
     "text": [
      "a\n",
      "simple\n",
      "list\n"
     ]
    }
   ],
   "source": [
    "a_list = [\"a\", \"simple\", \"list\"]\n",
    "\n",
    "for word in a_list:\n",
    "    print(word)"
   ]
  },
  {
   "cell_type": "markdown",
   "id": "f15b1d1a",
   "metadata": {
    "slideshow": {
     "slide_type": "subslide"
    }
   },
   "source": [
    "We can iterate with `for` loops over anything that is iterable: lists, tuples, but also dictionaries given the correct method:"
   ]
  },
  {
   "cell_type": "code",
   "execution_count": 36,
   "id": "6a02ae6f",
   "metadata": {},
   "outputs": [
    {
     "name": "stdout",
     "output_type": "stream",
     "text": [
      "sam\n",
      "lisa\n",
      "joe\n"
     ]
    }
   ],
   "source": [
    "a_dict = dict(sam=3, lisa=1, joe=0)\n",
    "\n",
    "for key in a_dict.keys():\n",
    "    print(key)"
   ]
  },
  {
   "cell_type": "code",
   "execution_count": 37,
   "id": "973c75f9",
   "metadata": {
    "slideshow": {
     "slide_type": "fragment"
    }
   },
   "outputs": [
    {
     "name": "stdout",
     "output_type": "stream",
     "text": [
      "3\n",
      "1\n",
      "0\n"
     ]
    }
   ],
   "source": [
    "a_dict = dict(sam=3, lisa=1, joe=0)\n",
    "\n",
    "for val in a_dict.values():\n",
    "    print(val)"
   ]
  },
  {
   "cell_type": "markdown",
   "id": "940d70c6",
   "metadata": {
    "slideshow": {
     "slide_type": "subslide"
    }
   },
   "source": [
    "We can loop over lists while having also indexes with `enumerate`:"
   ]
  },
  {
   "cell_type": "code",
   "execution_count": 38,
   "id": "5eea4b65",
   "metadata": {},
   "outputs": [
    {
     "name": "stdout",
     "output_type": "stream",
     "text": [
      "0 a\n",
      "1 simple\n",
      "2 list\n"
     ]
    }
   ],
   "source": [
    "for idx, word in enumerate(a_list):\n",
    "    print(idx, word)"
   ]
  },
  {
   "cell_type": "markdown",
   "id": "ab886a67",
   "metadata": {
    "slideshow": {
     "slide_type": "fragment"
    }
   },
   "source": [
    "Finally, we can iterate through multiple things at the same time with `zip`:\n"
   ]
  },
  {
   "cell_type": "code",
   "execution_count": 39,
   "id": "dd2342d3",
   "metadata": {},
   "outputs": [
    {
     "name": "stdout",
     "output_type": "stream",
     "text": [
      "sam, a\n",
      "lisa, simple\n",
      "joe, list\n"
     ]
    }
   ],
   "source": [
    "for student, word in zip(a_dict.keys(), a_list):\n",
    "    print(f\"{student}, {word}\")"
   ]
  },
  {
   "cell_type": "markdown",
   "id": "e45cc61f",
   "metadata": {
    "slideshow": {
     "slide_type": "subslide"
    }
   },
   "source": [
    "### `while`"
   ]
  },
  {
   "cell_type": "markdown",
   "id": "6fba628a",
   "metadata": {},
   "source": [
    "With `while` we can keep repeating code until one condition is met instead of a fixed number of times, as when using `for`)"
   ]
  },
  {
   "cell_type": "code",
   "execution_count": 40,
   "id": "127153bc",
   "metadata": {},
   "outputs": [
    {
     "name": "stdout",
     "output_type": "stream",
     "text": [
      "Draw n. 0; result: 0\n",
      "Draw n. 1; result: 0\n",
      "Draw n. 2; result: 0\n",
      "Draw n. 3; result: 0\n",
      "Draw n. 4; result: 1\n"
     ]
    }
   ],
   "source": [
    "import random\n",
    "coin_flip = 0\n",
    "n_draw = 0\n",
    "while coin_flip != 1:\n",
    "    coin_flip = random.choice([0, 1])\n",
    "    print(f\"Draw n. {n_draw}; result: {coin_flip}\")\n",
    "    \n",
    "    n_draw += 1"
   ]
  },
  {
   "cell_type": "markdown",
   "id": "12fe3058",
   "metadata": {
    "slideshow": {
     "slide_type": "subslide"
    }
   },
   "source": [
    "### Bonus construct: `try` / `except`"
   ]
  },
  {
   "cell_type": "markdown",
   "id": "b4385a45",
   "metadata": {
    "slideshow": {
     "slide_type": "fragment"
    }
   },
   "source": [
    "In Python, it's better to ask forgiveness than permission! Sometimes, we want to try executing some code and fail gracefully if something (not entirely unexpected) happens:\n",
    "\n",
    "```python\n",
    "try:\n",
    "    do_something_dangerous()\n",
    "except SomeException:\n",
    "    handle_the_error()\n",
    "```"
   ]
  }
 ],
 "metadata": {
  "celltoolbar": "Slideshow",
  "kernelspec": {
   "display_name": "Python 3 (ipykernel)",
   "language": "python",
   "name": "python3"
  },
  "language_info": {
   "codemirror_mode": {
    "name": "ipython",
    "version": 3
   },
   "file_extension": ".py",
   "mimetype": "text/x-python",
   "name": "python",
   "nbconvert_exporter": "python",
   "pygments_lexer": "ipython3",
   "version": "3.9.13"
  }
 },
 "nbformat": 4,
 "nbformat_minor": 5
}
