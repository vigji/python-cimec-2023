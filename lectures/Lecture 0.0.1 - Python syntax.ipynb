{
 "cells": [
  {
   "cell_type": "markdown",
   "id": "3ca811a3",
   "metadata": {
    "slideshow": {
     "slide_type": "slide"
    }
   },
   "source": [
    "# Python for (open) Neuroscience\n",
    "\n",
    "_Lecture 0.0_: Introduction to Python (comments, variables, types)\n",
    "\n",
    "Luigi Petrucco\n",
    "\n",
    "Jean-Charles René Pasquin Mariani"
   ]
  },
  {
   "cell_type": "markdown",
   "id": "080ed674",
   "metadata": {
    "slideshow": {
     "slide_type": "slide"
    }
   },
   "source": [
    "## Introduction to Python syntax"
   ]
  },
  {
   "cell_type": "markdown",
   "id": "91449a81",
   "metadata": {
    "slideshow": {
     "slide_type": "subslide"
    }
   },
   "source": [
    "- A Python program constists of written instructions given to a Python interpreter (sometimes called kernel)"
   ]
  },
  {
   "cell_type": "code",
   "execution_count": 23,
   "id": "0582e20d",
   "metadata": {
    "slideshow": {
     "slide_type": "-"
    }
   },
   "outputs": [
    {
     "name": "stdout",
     "output_type": "stream",
     "text": [
      "Hello World\n"
     ]
    }
   ],
   "source": [
    "print(\"Hello World\")"
   ]
  },
  {
   "cell_type": "markdown",
   "id": "da4331f7",
   "metadata": {
    "slideshow": {
     "slide_type": "fragment"
    }
   },
   "source": [
    "- Comments that have no effect on the program can be introduced"
   ]
  },
  {
   "cell_type": "code",
   "execution_count": 25,
   "id": "3a2932ac",
   "metadata": {
    "slideshow": {
     "slide_type": "-"
    }
   },
   "outputs": [
    {
     "name": "stdout",
     "output_type": "stream",
     "text": [
      "Hello World\n"
     ]
    }
   ],
   "source": [
    "# Print Hello World:\n",
    "print(\"Hello World\")"
   ]
  },
  {
   "cell_type": "markdown",
   "id": "56bc3f42",
   "metadata": {
    "slideshow": {
     "slide_type": "slide"
    }
   },
   "source": [
    "### Python code layout"
   ]
  },
  {
   "cell_type": "markdown",
   "id": "44c14d6d",
   "metadata": {
    "slideshow": {
     "slide_type": "fragment"
    }
   },
   "source": [
    "- New line separates instructions sent to Python (`statements`)"
   ]
  },
  {
   "cell_type": "code",
   "execution_count": 32,
   "id": "5779c700",
   "metadata": {
    "slideshow": {
     "slide_type": "-"
    }
   },
   "outputs": [
    {
     "name": "stdout",
     "output_type": "stream",
     "text": [
      "We are adding numbers\n",
      "3\n"
     ]
    }
   ],
   "source": [
    "print(\"We are adding numbers\")\n",
    "a_sum = 1 + 2\n",
    "print(a_sum)  # another statement"
   ]
  },
  {
   "cell_type": "markdown",
   "id": "2cec2728",
   "metadata": {
    "slideshow": {
     "slide_type": "fragment"
    }
   },
   "source": [
    "- Indentation counts to segregate logical blocks"
   ]
  },
  {
   "cell_type": "code",
   "execution_count": 33,
   "id": "8e0bbb38",
   "metadata": {},
   "outputs": [
    {
     "name": "stdout",
     "output_type": "stream",
     "text": [
      "0\n",
      "1\n",
      "2\n",
      "Hello world!\n"
     ]
    }
   ],
   "source": [
    "for i in range(3):\n",
    "    print(i)  # everything that is indented at this level happend inside the loop\n",
    "print(\"Hello world!\")"
   ]
  },
  {
   "cell_type": "markdown",
   "id": "bcd935fc",
   "metadata": {
    "slideshow": {
     "slide_type": "slide"
    }
   },
   "source": [
    "## Variables"
   ]
  },
  {
   "cell_type": "markdown",
   "id": "08fe6d7c",
   "metadata": {
    "slideshow": {
     "slide_type": "fragment"
    }
   },
   "source": [
    "- we assign values to variables when we want to remember them, or refer to them elsewhere in our program. "
   ]
  },
  {
   "cell_type": "markdown",
   "id": "e38a226a",
   "metadata": {
    "slideshow": {
     "slide_type": "fragment"
    }
   },
   "source": [
    "- We define variables by using a single `=` sign. This tells Python that we want it to use a specific name to refer to a particular thing."
   ]
  },
  {
   "cell_type": "code",
   "execution_count": 41,
   "id": "488b5e54",
   "metadata": {
    "slideshow": {
     "slide_type": "fragment"
    }
   },
   "outputs": [
    {
     "name": "stdout",
     "output_type": "stream",
     "text": [
      "1\n"
     ]
    }
   ],
   "source": [
    "an_int = 1\n",
    "\n",
    "print(an_int)"
   ]
  },
  {
   "cell_type": "markdown",
   "id": "6acf4727",
   "metadata": {
    "slideshow": {
     "slide_type": "subslide"
    }
   },
   "source": [
    "Variables:\n",
    "\n",
    "- cannot contain spaces\n",
    "- cannot start with a number\n",
    "- cannot contain `$`, `@`, `#`, `\\`, \n",
    "- could contain unicode characters, but ASCII are recommended\n",
    "- cannot be named as `reserved keywords`:"
   ]
  },
  {
   "cell_type": "code",
   "execution_count": 40,
   "id": "3b44be10",
   "metadata": {
    "slideshow": {
     "slide_type": "fragment"
    }
   },
   "outputs": [
    {
     "name": "stdout",
     "output_type": "stream",
     "text": [
      "\n",
      "Here is a list of the Python keywords.  Enter any keyword to get more help.\n",
      "\n",
      "False               break               for                 not\n",
      "None                class               from                or\n",
      "True                continue            global              pass\n",
      "__peg_parser__      def                 if                  raise\n",
      "and                 del                 import              return\n",
      "as                  elif                in                  try\n",
      "assert              else                is                  while\n",
      "async               except              lambda              with\n",
      "await               finally             nonlocal            yield\n",
      "\n"
     ]
    }
   ],
   "source": [
    "help(\"keywords\")"
   ]
  },
  {
   "cell_type": "markdown",
   "id": "6e928104",
   "metadata": {
    "slideshow": {
     "slide_type": "subslide"
    }
   },
   "source": [
    "### What is a variable?"
   ]
  },
  {
   "cell_type": "markdown",
   "id": "475d1022",
   "metadata": {
    "slideshow": {
     "slide_type": "fragment"
    }
   },
   "source": [
    "Representation inside the program of a location in memory"
   ]
  },
  {
   "cell_type": "markdown",
   "id": "394b5f85",
   "metadata": {
    "slideshow": {
     "slide_type": "fragment"
    }
   },
   "source": [
    "Any variable requires the `allocation` of some `computer memory` to be stored"
   ]
  },
  {
   "cell_type": "markdown",
   "id": "bbb1eb41",
   "metadata": {},
   "source": [
    "### What is a variable? -2"
   ]
  },
  {
   "cell_type": "markdown",
   "id": "399bc077",
   "metadata": {
    "slideshow": {
     "slide_type": "fragment"
    }
   },
   "source": [
    "- In memory variables are encoded as binary numbers and stored as sequences of bits"
   ]
  },
  {
   "cell_type": "code",
   "execution_count": 30,
   "id": "48e5545d",
   "metadata": {},
   "outputs": [
    {
     "data": {
      "text/plain": [
       "28"
      ]
     },
     "execution_count": 30,
     "metadata": {},
     "output_type": "execute_result"
    }
   ],
   "source": [
    "a = True\n",
    "import sys\n",
    "sys.getsizeof(a)"
   ]
  },
  {
   "cell_type": "code",
   "execution_count": 32,
   "id": "55f1d2aa",
   "metadata": {},
   "outputs": [
    {
     "data": {
      "text/plain": [
       "9223372036.854776"
      ]
     },
     "execution_count": 32,
     "metadata": {},
     "output_type": "execute_result"
    }
   ],
   "source": [
    "sys.maxsize / 1000000000"
   ]
  },
  {
   "cell_type": "code",
   "execution_count": 14,
   "id": "2d06fb8f",
   "metadata": {},
   "outputs": [
    {
     "ename": "SyntaxError",
     "evalue": "invalid syntax (2727166516.py, line 1)",
     "output_type": "error",
     "traceback": [
      "\u001b[0;36m  Input \u001b[0;32mIn [14]\u001b[0;36m\u001b[0m\n\u001b[0;31m    - Characters are stored as ASCII (or Unicode) numbers\u001b[0m\n\u001b[0m                 ^\u001b[0m\n\u001b[0;31mSyntaxError\u001b[0m\u001b[0;31m:\u001b[0m invalid syntax\n"
     ]
    }
   ],
   "source": [
    "- Characters are stored as ASCII (or Unicode) numbers\n",
    "- More bits makes variables more expressive, but take larger memory"
   ]
  },
  {
   "cell_type": "markdown",
   "id": "bd0510ce",
   "metadata": {
    "slideshow": {
     "slide_type": "fragment"
    }
   },
   "source": [
    "We will be caring more about this when we will start moving a lot of numbers!"
   ]
  },
  {
   "cell_type": "markdown",
   "id": "368bfaa1",
   "metadata": {
    "slideshow": {
     "slide_type": "slide"
    }
   },
   "source": [
    "## Types"
   ]
  },
  {
   "cell_type": "markdown",
   "id": "496366d7",
   "metadata": {},
   "source": [
    "Variables can have different types. The most basic are `str`, `int`, `float`, `bool`"
   ]
  },
  {
   "cell_type": "code",
   "execution_count": 44,
   "id": "15b769b2",
   "metadata": {},
   "outputs": [
    {
     "name": "stdout",
     "output_type": "stream",
     "text": [
      "True <class 'str'>\n",
      "1 <class 'int'>\n",
      "1.0 <class 'float'>\n",
      "True <class 'bool'>\n"
     ]
    }
   ],
   "source": [
    "print(\"True\", type(\"True\"))\n",
    "print(1, type(1))\n",
    "print(1.0, type(1.0))\n",
    "print(True, type(True))"
   ]
  },
  {
   "cell_type": "markdown",
   "id": "8ff9f615",
   "metadata": {},
   "source": [
    "**Note**\n",
    "\n",
    "`print()`, `type()` are functions that we call by passing them arguments inside the parenteses:\n",
    "\n",
    "```\n",
    "function_name(argument)\n",
    "```\n",
    "\n",
    "We will see more about functions in the next lecture!"
   ]
  },
  {
   "cell_type": "markdown",
   "id": "f2563732",
   "metadata": {
    "slideshow": {
     "slide_type": "subslide"
    }
   },
   "source": [
    "### `int`"
   ]
  },
  {
   "cell_type": "markdown",
   "id": "90b8674f",
   "metadata": {
    "slideshow": {
     "slide_type": "fragment"
    }
   },
   "source": [
    "- Describe integer numbers, positive or negative"
   ]
  },
  {
   "cell_type": "code",
   "execution_count": null,
   "id": "39e16133",
   "metadata": {},
   "outputs": [],
   "source": []
  },
  {
   "cell_type": "markdown",
   "id": "7f8658fe",
   "metadata": {},
   "source": [
    "Aritmetical operators are quite intuitive:\n",
    " - `+`, `-`, `*`, `/`; \n",
    " - `**` power, `//` integer division, `%` module"
   ]
  },
  {
   "cell_type": "code",
   "execution_count": null,
   "id": "71d0d019",
   "metadata": {},
   "outputs": [],
   "source": []
  },
  {
   "cell_type": "markdown",
   "id": "5eb13b51",
   "metadata": {
    "slideshow": {
     "slide_type": "subslide"
    }
   },
   "source": [
    "### `float`"
   ]
  },
  {
   "cell_type": "markdown",
   "id": "c4b42566",
   "metadata": {
    "slideshow": {
     "slide_type": "fragment"
    }
   },
   "source": [
    "- Result of the division is `float`, not `int`!"
   ]
  },
  {
   "cell_type": "code",
   "execution_count": 94,
   "id": "62d9faa1",
   "metadata": {},
   "outputs": [
    {
     "data": {
      "text/plain": [
       "float"
      ]
     },
     "execution_count": 94,
     "metadata": {},
     "output_type": "execute_result"
    }
   ],
   "source": [
    "type(2/1)"
   ]
  },
  {
   "cell_type": "markdown",
   "id": "b2d53ed2",
   "metadata": {},
   "source": [
    "- Floats describe rational numbers"
   ]
  },
  {
   "cell_type": "markdown",
   "id": "a3e9817c",
   "metadata": {
    "slideshow": {
     "slide_type": "fragment"
    }
   },
   "source": [
    "Floats: variable "
   ]
  },
  {
   "cell_type": "markdown",
   "id": "f5c55111",
   "metadata": {
    "slideshow": {
     "slide_type": "subslide"
    }
   },
   "source": [
    "### `bool`"
   ]
  },
  {
   "cell_type": "markdown",
   "id": "1926427c",
   "metadata": {
    "slideshow": {
     "slide_type": "fragment"
    }
   },
   "source": [
    " - Logical values"
   ]
  },
  {
   "cell_type": "code",
   "execution_count": 104,
   "id": "59cf6792",
   "metadata": {},
   "outputs": [
    {
     "data": {
      "text/plain": [
       "3"
      ]
     },
     "execution_count": 104,
     "metadata": {},
     "output_type": "execute_result"
    }
   ],
   "source": [
    "a = True\n",
    "b = False\n"
   ]
  },
  {
   "cell_type": "markdown",
   "id": "7c95e49b",
   "metadata": {
    "slideshow": {
     "slide_type": "fragment"
    }
   },
   "source": [
    " - Result from comparisons:\n",
    "     - `>`, `<`: bigger, smaller (excluding extremes)\n",
    "     - `>=`, `<=`: bigger, smaller (including extremes)\n",
    "     - `==`: equal\n",
    "     - `!=`: different"
   ]
  },
  {
   "cell_type": "code",
   "execution_count": 108,
   "id": "60bb2dab",
   "metadata": {},
   "outputs": [
    {
     "data": {
      "text/plain": [
       "True"
      ]
     },
     "execution_count": 108,
     "metadata": {},
     "output_type": "execute_result"
    }
   ],
   "source": [
    "a_result = 4 >= 3\n",
    "another_result = 5 < 8\n",
    "a_result and another_result"
   ]
  },
  {
   "cell_type": "markdown",
   "id": "c8290e96",
   "metadata": {
    "slideshow": {
     "slide_type": "subslide"
    }
   },
   "source": [
    "### `str`"
   ]
  },
  {
   "cell_type": "markdown",
   "id": "6a03135b",
   "metadata": {
    "slideshow": {
     "slide_type": "fragment"
    }
   },
   "source": [
    " - A variable type to represent text (of any length!)"
   ]
  },
  {
   "cell_type": "code",
   "execution_count": 110,
   "id": "30a1a3b7",
   "metadata": {},
   "outputs": [
    {
     "data": {
      "text/plain": [
       "str"
      ]
     },
     "execution_count": 110,
     "metadata": {},
     "output_type": "execute_result"
    }
   ],
   "source": [
    "type(\"s\")"
   ]
  },
  {
   "cell_type": "markdown",
   "id": "81ffeb5d",
   "metadata": {
    "slideshow": {
     "slide_type": "fragment"
    }
   },
   "source": [
    " - some operators can be used on strings: \n",
    "   - `+` (with another string)\n",
    "   - `*` (with an `int`)"
   ]
  },
  {
   "cell_type": "markdown",
   "id": "56b17a01",
   "metadata": {},
   "source": []
  },
  {
   "cell_type": "markdown",
   "id": "44d61e02",
   "metadata": {
    "slideshow": {
     "slide_type": "subslide"
    }
   },
   "source": [
    "### `str` - 2"
   ]
  },
  {
   "cell_type": "markdown",
   "id": "f5a7e75d",
   "metadata": {
    "slideshow": {
     "slide_type": "fragment"
    }
   },
   "source": [
    " - Strings can incorporate variables with the `f\"{a_variable}\"` syntax:"
   ]
  },
  {
   "cell_type": "code",
   "execution_count": null,
   "id": "ba6dfa8d",
   "metadata": {},
   "outputs": [],
   "source": []
  },
  {
   "cell_type": "markdown",
   "id": "19d1e523",
   "metadata": {},
   "source": [
    " - Strings can be indexed!"
   ]
  },
  {
   "cell_type": "code",
   "execution_count": 80,
   "id": "56250df2",
   "metadata": {},
   "outputs": [
    {
     "data": {
      "text/plain": [
       "False"
      ]
     },
     "execution_count": 80,
     "metadata": {},
     "output_type": "execute_result"
    }
   ],
   "source": [
    "2**1023 - 1 == v"
   ]
  },
  {
   "cell_type": "markdown",
   "id": "b2caeae0",
   "metadata": {},
   "source": [
    "**Warning**: `type` or `print` are special terms that we should be cautious about when assigning variables. If you call a variable `type`, Python will overwrite it with whatever you say, and this function won't work anymore!"
   ]
  },
  {
   "cell_type": "code",
   "execution_count": null,
   "id": "b53b5c84",
   "metadata": {},
   "outputs": [],
   "source": []
  },
  {
   "cell_type": "markdown",
   "id": "b9ef6814",
   "metadata": {
    "slideshow": {
     "slide_type": "slide"
    }
   },
   "source": [
    "## Data containers\n",
    "\n",
    "We can store multiple values in a single variable.\n",
    "\n",
    "Built-in types:\n",
    " - `list`\n",
    " - `tuple`\n",
    " - `dictionary`\n",
    "\n",
    "From common libraries (we'll have a look at those later):\n",
    " - `numpy.array`\n",
    " - `pandas.DataSet`"
   ]
  },
  {
   "cell_type": "markdown",
   "id": "82349895",
   "metadata": {
    "slideshow": {
     "slide_type": "subslide"
    }
   },
   "source": [
    "### `list`"
   ]
  },
  {
   "cell_type": "markdown",
   "id": "a893fa14",
   "metadata": {
    "slideshow": {
     "slide_type": "fragment"
    }
   },
   "source": [
    " - A ordered list of variables of any type."
   ]
  },
  {
   "cell_type": "code",
   "execution_count": 70,
   "id": "d6067a1f",
   "metadata": {},
   "outputs": [
    {
     "name": "stdout",
     "output_type": "stream",
     "text": [
      "[1, True, 'something', 3.14]\n"
     ]
    }
   ],
   "source": [
    "a_list = [1, True, \"something\", 3.14]\n",
    "print(a_list)\n",
    "print(len(a_list))"
   ]
  },
  {
   "cell_type": "markdown",
   "id": "6187a109",
   "metadata": {
    "slideshow": {
     "slide_type": "fragment"
    }
   },
   "source": [
    " - Values are then retrieved with numerical indexing (**Note:** Numerical indexes start from 0!!!)"
   ]
  },
  {
   "cell_type": "code",
   "execution_count": 69,
   "id": "99c5b0b5",
   "metadata": {
    "scrolled": true
   },
   "outputs": [
    {
     "data": {
      "text/plain": [
       "'something'"
      ]
     },
     "execution_count": 69,
     "metadata": {},
     "output_type": "execute_result"
    }
   ],
   "source": [
    "# Index list:\n",
    "a_list[2]"
   ]
  },
  {
   "cell_type": "markdown",
   "id": "74411699",
   "metadata": {
    "slideshow": {
     "slide_type": "subslide"
    }
   },
   "source": [
    "### `list` - 2"
   ]
  },
  {
   "cell_type": "markdown",
   "id": "05ec4656",
   "metadata": {
    "slideshow": {
     "slide_type": "-"
    }
   },
   "source": [
    " - lists are not bounded in length and can be extended:"
   ]
  },
  {
   "cell_type": "code",
   "execution_count": 67,
   "id": "22815ad6",
   "metadata": {},
   "outputs": [
    {
     "name": "stdout",
     "output_type": "stream",
     "text": [
      "[1, True, 'something', True, 3.14, 'Something new']\n"
     ]
    }
   ],
   "source": [
    "# Append:\n",
    "a_list = [1, True, \"something\", True, 3.14]\n",
    "a_list.append(\"Something new\")\n",
    "print(a_list)"
   ]
  },
  {
   "cell_type": "markdown",
   "id": "cf6fb3bf",
   "metadata": {},
   "source": [
    " - or shortened:"
   ]
  },
  {
   "cell_type": "code",
   "execution_count": 71,
   "id": "de71116d",
   "metadata": {},
   "outputs": [],
   "source": [
    "# Pop:"
   ]
  },
  {
   "cell_type": "markdown",
   "id": "4bef6e6c",
   "metadata": {
    "slideshow": {
     "slide_type": "subslide"
    }
   },
   "source": [
    "### `dictionary`"
   ]
  },
  {
   "cell_type": "markdown",
   "id": "6ee468dd",
   "metadata": {
    "slideshow": {
     "slide_type": "fragment"
    }
   },
   "source": [
    " - A structure where values are associated with a key (and not with a position)"
   ]
  },
  {
   "cell_type": "code",
   "execution_count": null,
   "id": "98c47af0",
   "metadata": {},
   "outputs": [],
   "source": []
  },
  {
   "cell_type": "markdown",
   "id": "bc851d67",
   "metadata": {
    "slideshow": {
     "slide_type": "fragment"
    }
   },
   "source": [
    " - Values are then retrieved with a key; keys are usually strings but they do not have to"
   ]
  },
  {
   "cell_type": "code",
   "execution_count": 75,
   "id": "60f5a331",
   "metadata": {},
   "outputs": [
    {
     "data": {
      "text/plain": [
       "{0: False, 2: True}"
      ]
     },
     "execution_count": 75,
     "metadata": {},
     "output_type": "execute_result"
    }
   ],
   "source": [
    "{0: False, 2: True}"
   ]
  },
  {
   "cell_type": "markdown",
   "id": "f166257e",
   "metadata": {
    "slideshow": {
     "slide_type": "subslide"
    }
   },
   "source": [
    "### `dictionary` - 2"
   ]
  },
  {
   "cell_type": "markdown",
   "id": "0e8385c4",
   "metadata": {},
   "source": [
    " - like a list, a dictionary can be extended or shortened"
   ]
  },
  {
   "cell_type": "markdown",
   "id": "88b822d3",
   "metadata": {
    "slideshow": {
     "slide_type": "subslide"
    }
   },
   "source": [
    "### `tuple`"
   ]
  },
  {
   "cell_type": "markdown",
   "id": "7d476f4a",
   "metadata": {
    "slideshow": {
     "slide_type": "slide"
    }
   },
   "source": [
    "## What can we do with variables?"
   ]
  },
  {
   "cell_type": "markdown",
   "id": "3268c548",
   "metadata": {
    "slideshow": {
     "slide_type": "fragment"
    }
   },
   "source": [
    "operations on variables and the flow of the program are managed with control structures:\n",
    " - for\n",
    " - if\n",
    " - while"
   ]
  },
  {
   "cell_type": "code",
   "execution_count": null,
   "id": "b7a0d44c",
   "metadata": {},
   "outputs": [],
   "source": []
  },
  {
   "cell_type": "markdown",
   "id": "d32aba12",
   "metadata": {},
   "source": []
  },
  {
   "cell_type": "code",
   "execution_count": null,
   "id": "c28d19a4",
   "metadata": {},
   "outputs": [],
   "source": []
  }
 ],
 "metadata": {
  "celltoolbar": "Slideshow",
  "kernelspec": {
   "display_name": "Python 3 (ipykernel)",
   "language": "python",
   "name": "python3"
  },
  "language_info": {
   "codemirror_mode": {
    "name": "ipython",
    "version": 3
   },
   "file_extension": ".py",
   "mimetype": "text/x-python",
   "name": "python",
   "nbconvert_exporter": "python",
   "pygments_lexer": "ipython3",
   "version": "3.9.13"
  }
 },
 "nbformat": 4,
 "nbformat_minor": 5
}
