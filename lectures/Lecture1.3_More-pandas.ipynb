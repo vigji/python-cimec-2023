{
 "cells": [
  {
   "cell_type": "markdown",
   "id": "3ca811a3",
   "metadata": {},
   "source": [
    "# Python for (open) Neuroscience\n",
    "\n",
    "_Lecture 1.3_ - More on `pandas`\n",
    "\n",
    "Luigi Petrucco\n",
    "\n",
    "Jean-Charles Mariani\n",
    "\n",
    "[![Open In Colab](https://colab.research.google.com/assets/colab-badge.svg)](https://colab.research.google.com/github/vigji/python-cimec/blob/main/lectures/Lecture1.3_More-pandas.ipynb)"
   ]
  },
  {
   "cell_type": "markdown",
   "id": "2df49239",
   "metadata": {},
   "source": [
    "## Announcements\n",
    "\n",
    "- Next week we'll be setting up local Python installations, tutorial soon!\n",
    "- There will be a second assignment, but not a third one - start thinking to a project though!\n",
    "- Related: still looking for datasets!\n",
    "- Questionnaire soon"
   ]
  },
  {
   "cell_type": "markdown",
   "id": "af122f3a",
   "metadata": {},
   "source": [
    "### More `pandas`"
   ]
  },
  {
   "cell_type": "code",
   "execution_count": null,
   "id": "d035e4cd",
   "metadata": {},
   "outputs": [],
   "source": [
    "import pandas as pd\n",
    "import numpy as np"
   ]
  },
  {
   "cell_type": "markdown",
   "id": "b9951b5d",
   "metadata": {},
   "source": [
    "## Organize data in a dataframe"
   ]
  },
  {
   "cell_type": "code",
   "execution_count": null,
   "id": "e6ee6884",
   "metadata": {},
   "outputs": [],
   "source": [
    "# Imagine we have 4 experimental subjects; to each one we show a stimulus 3 times; over each repetition \n",
    "# we measure 2 variables.\n",
    "n_subjects = 4\n",
    "n_repetitions = 3\n",
    "\n",
    "# We could represent the data for each stimulus as a dictionary:\n",
    "stimulus = dict(var_1=np.random.rand(), var_2=np.random.rand())\n",
    "stimulus"
   ]
  },
  {
   "cell_type": "code",
   "execution_count": null,
   "id": "397b35d2",
   "metadata": {},
   "outputs": [],
   "source": [
    "# And the data for each subject as a list of dictionaries:\n",
    "subject_data = [dict(var_1=np.random.rand(), var_2=np.random.rand()) for _ in range(n_repetitions)]\n",
    "subject_data"
   ]
  },
  {
   "cell_type": "code",
   "execution_count": null,
   "id": "3b0babb2",
   "metadata": {},
   "outputs": [],
   "source": [
    "# And the data for all subjects as a dictionary of lists of dictionaries:\n",
    "all_subjects_data = dict()\n",
    "\n",
    "for i in range(n_subjects):\n",
    "    all_subjects_data[f\"subj_{i}\"] = \\\n",
    "        [dict(var_1=np.random.rand(), var_2=np.random.rand()) for _ in range(n_repetitions)]\n",
    "all_subjects_data"
   ]
  },
  {
   "cell_type": "markdown",
   "id": "ffc78732",
   "metadata": {},
   "source": [
    "This is now organized but very nested! it is not easy to perform statistics on it."
   ]
  },
  {
   "cell_type": "code",
   "execution_count": null,
   "id": "22c78cda",
   "metadata": {},
   "outputs": [],
   "source": [
    "# Imagine we want to average the results across all subjects for variable_1:\n",
    "means = []\n",
    "for subject_results in all_subjects_data.values():\n",
    "    for result in subject_results:\n",
    "        means.append(result[\"var_1\"])\n",
    "np.mean(means)"
   ]
  },
  {
   "cell_type": "markdown",
   "id": "4a571bf1",
   "metadata": {},
   "source": [
    "Instead, we can represent the data in a dataframe, **keeping it as flat as possible**!"
   ]
  },
  {
   "cell_type": "markdown",
   "id": "5229a0c2",
   "metadata": {},
   "source": [
    "Remember!\n",
    "\n",
    "\n",
    "    🪷 The Zen of Python 🪷\n",
    "        \n",
    "        Flat is better than nested"
   ]
  },
  {
   "cell_type": "code",
   "execution_count": null,
   "id": "72104d5d",
   "metadata": {},
   "outputs": [],
   "source": [
    "# We can turn the data into a dataframe (does not matter how we do it here! this is just an ugly example)\n",
    "trials_df = pd.DataFrame([dict(subject=i, repetition=j, **all_subjects_data[i][j])\n",
    "                             for i in all_subjects_data.keys()\n",
    "                             for j in range(n_repetitions)])\n",
    "\n",
    "trials_df"
   ]
  },
  {
   "cell_type": "markdown",
   "id": "b557ff7f",
   "metadata": {},
   "source": [
    "We can now easily perform statistics on the data:"
   ]
  },
  {
   "cell_type": "code",
   "execution_count": null,
   "id": "5a1429cb",
   "metadata": {},
   "outputs": [],
   "source": [
    "var1_mean = trials_df[\"var_1\"].mean()"
   ]
  },
  {
   "cell_type": "markdown",
   "id": "6a72e4d0",
   "metadata": {},
   "source": [
    "### Principles for pandas dataframes"
   ]
  },
  {
   "cell_type": "markdown",
   "id": "43e4eca3",
   "metadata": {},
   "source": [
    "Keep in the same dataset all the data of the same type you have across groups (such as subjects). If you load lists of dataframes concatenate before working on them!"
   ]
  },
  {
   "cell_type": "markdown",
   "id": "f7496d15",
   "metadata": {},
   "source": [
    "Consider having multiple dataframes to describe different aspects of your experiment. For example:\n",
    "- a \"subject\" dataset with the info on your subjects\n",
    "- a \"trials\" dataset with the trial responses across subjects\n",
    "\n",
    "And keep consistent ids to easily work over both!"
   ]
  },
  {
   "cell_type": "markdown",
   "id": "dd1cd03f",
   "metadata": {},
   "source": [
    "Example:"
   ]
  },
  {
   "cell_type": "code",
   "execution_count": null,
   "id": "64b52e12",
   "metadata": {},
   "outputs": [],
   "source": [
    "# Let's build a subjects dataframe for the experiment above:\n",
    "np.random.seed(42)\n",
    "subjects_df = pd.DataFrame(dict(sex=np.random.choice([\"F\", \"M\"], size=n_subjects),\n",
    "                                handedness=np.random.choice([\"left\", \"right\"], size=n_subjects),\n",
    "                                age=np.random.randint(20, 40, size=n_subjects)),\n",
    "                          index=[f\"subj_{i}\" for i in range(n_subjects)])\n",
    "subjects_df"
   ]
  },
  {
   "cell_type": "markdown",
   "id": "25de0bac",
   "metadata": {},
   "source": [
    "We can now easily filter the subjects we want to work on based on categories:"
   ]
  },
  {
   "cell_type": "code",
   "execution_count": null,
   "id": "9f79700f",
   "metadata": {},
   "outputs": [],
   "source": [
    "selected_subjects_df = subjects_df[(subjects_df[\"sex\"] == \"F\") & (subjects_df[\"age\"] >=30)]\n",
    "selected_subjects_df"
   ]
  },
  {
   "cell_type": "code",
   "execution_count": null,
   "id": "fc61a867",
   "metadata": {},
   "outputs": [],
   "source": [
    "selected_subjects_df.index"
   ]
  },
  {
   "cell_type": "markdown",
   "id": "540f23b2",
   "metadata": {},
   "source": [
    "And restrain our analysis of the `trials_df` to these subjects :"
   ]
  },
  {
   "cell_type": "code",
   "execution_count": null,
   "id": "3f225728",
   "metadata": {},
   "outputs": [],
   "source": []
  },
  {
   "cell_type": "markdown",
   "id": "1f875ef9",
   "metadata": {},
   "source": [
    "## Aggregate statistics"
   ]
  },
  {
   "cell_type": "markdown",
   "id": "6e7d4eda",
   "metadata": {},
   "source": [
    "It can be useful to aggregate statistics based on the values of a column."
   ]
  },
  {
   "cell_type": "markdown",
   "id": "abb2accf",
   "metadata": {},
   "source": [
    "Imagine we want to quickly compute the mean of the values across trials for each subject.\n",
    "\n"
   ]
  },
  {
   "cell_type": "markdown",
   "id": "058ff74a",
   "metadata": {},
   "source": [
    "### `.groupby()`"
   ]
  },
  {
   "cell_type": "markdown",
   "id": "d124808d",
   "metadata": {},
   "source": [
    "We have a handy syntax to average within each category with `.groupby()`.\n",
    "\n",
    "The sintax is :\n",
    "```python\n",
    "df.groupby(\"name_of_the_category_column\").operation()\n",
    "```"
   ]
  },
  {
   "cell_type": "code",
   "execution_count": null,
   "id": "e9f6310b",
   "metadata": {},
   "outputs": [],
   "source": [
    "df"
   ]
  },
  {
   "cell_type": "code",
   "execution_count": null,
   "id": "8591cf08",
   "metadata": {},
   "outputs": [],
   "source": [
    "# In this case, the operation is `mean()`.\n",
    "# Note how the result wil have the variable we group by as index:\n",
    "\n",
    "df.groupby(\"subject\").mean()"
   ]
  },
  {
   "cell_type": "markdown",
   "id": "21579a47",
   "metadata": {},
   "source": [
    "By the way, this is a reason why methods are better than functions in this case: they can be chained with a clearer syntax!"
   ]
  },
  {
   "cell_type": "markdown",
   "id": "0f7a320e",
   "metadata": {},
   "source": [
    "# Index broadcasting in `pandas`"
   ]
  },
  {
   "cell_type": "code",
   "execution_count": null,
   "id": "7f60b18e",
   "metadata": {},
   "outputs": [],
   "source": []
  },
  {
   "cell_type": "markdown",
   "id": "4a83dc66",
   "metadata": {},
   "source": [
    "## Groupby over time with .rolling()"
   ]
  },
  {
   "cell_type": "markdown",
   "id": "f0113fee",
   "metadata": {},
   "source": [
    "Imagine we have a time series of data, and we want to compute the mean over a window of time (e.g., for smoothing)."
   ]
  },
  {
   "cell_type": "markdown",
   "id": "36819d10",
   "metadata": {},
   "source": [
    "We  could easily do it if we had a way of grouping the data by the index"
   ]
  },
  {
   "cell_type": "code",
   "execution_count": null,
   "id": "f7dacf7b",
   "metadata": {},
   "outputs": [],
   "source": [
    "# Let's create a time series\n",
    "\n",
    "time_series = pd.Series(np.random.rand(100),\n",
    "                        index=pd.date_range(\"2021-01-01\", periods=100, freq=\"1D\"))"
   ]
  },
  {
   "cell_type": "code",
   "execution_count": null,
   "id": "2f62c490",
   "metadata": {},
   "outputs": [],
   "source": [
    "time_series.plot()\n",
    "time_series.rolling(10, center=True).mean().plot()\n",
    "time_series.rolling(10, center=True).std()"
   ]
  },
  {
   "cell_type": "code",
   "execution_count": null,
   "id": "f11d8eef",
   "metadata": {},
   "outputs": [],
   "source": []
  },
  {
   "cell_type": "markdown",
   "id": "c72dc763",
   "metadata": {},
   "source": []
  }
 ],
 "metadata": {
  "celltoolbar": "Slideshow",
  "kernelspec": {
   "display_name": "Python [conda env:course_env]",
   "language": "python",
   "name": "conda-env-course_env-py"
  },
  "language_info": {
   "codemirror_mode": {
    "name": "ipython",
    "version": 3
   },
   "file_extension": ".py",
   "mimetype": "text/x-python",
   "name": "python",
   "nbconvert_exporter": "python",
   "pygments_lexer": "ipython3"
  }
 },
 "nbformat": 4,
 "nbformat_minor": 5
}
