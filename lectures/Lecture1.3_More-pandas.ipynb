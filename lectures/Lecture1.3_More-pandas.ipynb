{
 "cells": [
  {
   "cell_type": "markdown",
   "id": "3ca811a3",
   "metadata": {},
   "source": [
    "# Python for (open) Neuroscience\n",
    "\n",
    "_Lecture 1.3_ - More on `pandas`\n",
    "\n",
    "Luigi Petrucco\n",
    "\n",
    "Jean-Charles Mariani\n",
    "\n",
    "[![Open In Colab](https://colab.research.google.com/assets/colab-badge.svg)](https://colab.research.google.com/github/vigji/python-cimec/blob/main/lectures/Lecture1.3_More-pandas.ipynb)"
   ]
  },
  {
   "cell_type": "markdown",
   "id": "83e645e0",
   "metadata": {},
   "source": [
    "## Announcements\n",
    "\n",
    "- Next week we'll be setting up local Python installations, tutorial soon!\n",
    "- There will be a second assignment, but not a third one - start thinking to a project though!\n",
    "- Related: still looking for datasets!\n",
    "- Questionnaire soon"
   ]
  },
  {
   "cell_type": "markdown",
   "id": "cda9defe",
   "metadata": {},
   "source": [
    "### More `pandas`"
   ]
  },
  {
   "cell_type": "code",
   "execution_count": null,
   "id": "d035e4cd",
   "metadata": {},
   "outputs": [],
   "source": [
    "import pandas as pd\n",
    "import numpy as np"
   ]
  },
  {
   "cell_type": "markdown",
   "id": "ff73d3f1",
   "metadata": {},
   "source": [
    "## Organize data in a dataframe"
   ]
  },
  {
   "cell_type": "code",
   "execution_count": null,
   "id": "2960ae17",
   "metadata": {},
   "outputs": [],
   "source": [
    "# Imagine we have 4 experimental subjects; to each one we show a stimulus 3 times; over each repetition \n",
    "# we measure 2 variables.\n",
    "n_subjects = 4\n",
    "n_repetitions = 3\n",
    "\n",
    "# We could represent the data for each stimulus as a dictionary, \n",
    "# and the data for each subject as a list of dictionaries:\n",
    "subject_data = [dict(var_1=np.random.rand(), var_2=np.random.rand()) for _ in range(n_repetitions)]\n",
    "subject_data"
   ]
  },
  {
   "cell_type": "code",
   "execution_count": null,
   "id": "244f445d",
   "metadata": {},
   "outputs": [],
   "source": [
    "# And the data for all subjects as a dictionary of lists of dictionaries:\n",
    "all_subjects_data = dict()\n",
    "\n",
    "for i in range(n_subjects):\n",
    "    all_subjects_data[f\"subj_{i}\"] = \\\n",
    "        [dict(var_1=np.random.rand(), var_2=np.random.rand()) for _ in range(n_repetitions)]\n",
    "all_subjects_data"
   ]
  },
  {
   "cell_type": "markdown",
   "id": "39a9e366",
   "metadata": {},
   "source": [
    "This is now organized but very nested! it is not easy to perform statistics on it."
   ]
  },
  {
   "cell_type": "code",
   "execution_count": null,
   "id": "9f45f79b",
   "metadata": {},
   "outputs": [],
   "source": [
    "# Imagine we want to average the results across all subjects for variable_1:\n",
    "means = []\n",
    "for subject_results in all_subjects_data.values():\n",
    "    for result in subject_results:\n",
    "        means.append(result[\"var_1\"])\n",
    "np.mean(means)"
   ]
  },
  {
   "cell_type": "markdown",
   "id": "53461887",
   "metadata": {},
   "source": [
    "Instead, we can represent the data in a dataframe, **keeping it as flat as possible**!"
   ]
  },
  {
   "cell_type": "markdown",
   "id": "51fcfcd5",
   "metadata": {},
   "source": [
    "Remember!\n",
    "\n",
    "\n",
    "    🪷 The Zen of Python 🪷\n",
    "        \n",
    "        Flat is better than nested"
   ]
  },
  {
   "cell_type": "code",
   "execution_count": null,
   "id": "5acc18f1",
   "metadata": {},
   "outputs": [],
   "source": [
    "# We can turn the data into a dataframe (does not matter how we do it here! this is just an ugly example)\n",
    "trials_df = pd.DataFrame([dict(subject=i, repetition=j, **all_subjects_data[i][j])\n",
    "                             for i in all_subjects_data.keys()\n",
    "                             for j in range(n_repetitions)])\n",
    "\n",
    "trials_df"
   ]
  },
  {
   "cell_type": "markdown",
   "id": "856d5cde",
   "metadata": {},
   "source": [
    "We can now easily perform statistics on the data:"
   ]
  },
  {
   "cell_type": "code",
   "execution_count": null,
   "id": "89072c52",
   "metadata": {},
   "outputs": [],
   "source": [
    "var1_mean = trials_df[\"var_1\"].mean()"
   ]
  },
  {
   "cell_type": "markdown",
   "id": "b509f8dd",
   "metadata": {},
   "source": [
    "You do not always need pandas dataframes!!"
   ]
  },
  {
   "cell_type": "markdown",
   "id": "b190a379",
   "metadata": {},
   "source": [
    "Not efficient with many columns!"
   ]
  },
  {
   "cell_type": "markdown",
   "id": "4d8fd311",
   "metadata": {},
   "source": [
    "Many times your raw data (ephys, imaging...) can live in numpy array and you put in pandas derived quantities."
   ]
  },
  {
   "cell_type": "markdown",
   "id": "b19d2ec1",
   "metadata": {},
   "source": [
    "### Principles for organizing `pandas` dataframes"
   ]
  },
  {
   "cell_type": "markdown",
   "id": "1cadd8b2",
   "metadata": {},
   "source": [
    "Keep in the same dataset all the data of the same type you have across groups (such as subjects). \n",
    "\n",
    "If you load lists of dataframes concatenate before working on them!"
   ]
  },
  {
   "cell_type": "markdown",
   "id": "8f140a22",
   "metadata": {},
   "source": [
    "Consider having multiple dataframes to describe different aspects of your experiment. For example:\n",
    "- a `subject` dataset with the info on your subjects\n",
    "- a `trials` dataset with the trial responses across subjects"
   ]
  },
  {
   "cell_type": "markdown",
   "id": "6bb5f28b",
   "metadata": {},
   "source": [
    "And keep consistent ids / nomenclature to easily work over both!"
   ]
  },
  {
   "cell_type": "markdown",
   "id": "198bbe81",
   "metadata": {},
   "source": [
    "Example:"
   ]
  },
  {
   "cell_type": "code",
   "execution_count": null,
   "id": "b4e920f8",
   "metadata": {},
   "outputs": [],
   "source": [
    "# Let's build a subjects dataframe for the experiment above:\n",
    "np.random.seed(42)\n",
    "subjects_df = pd.DataFrame(dict(sex=np.random.choice([\"F\", \"M\"], size=n_subjects),\n",
    "                                handedness=np.random.choice([\"left\", \"right\"], size=n_subjects),\n",
    "                                age=np.random.randint(20, 40, size=n_subjects)),\n",
    "                          index=[f\"subj_{i}\" for i in range(n_subjects)])\n",
    "subjects_df"
   ]
  },
  {
   "cell_type": "markdown",
   "id": "3d49d005",
   "metadata": {},
   "source": [
    "We can now easily filter the subjects we want to work on based on categories:"
   ]
  },
  {
   "cell_type": "code",
   "execution_count": null,
   "id": "8da57d10",
   "metadata": {},
   "outputs": [],
   "source": [
    "selected_subjects_df = subjects_df[(subjects_df[\"sex\"] == \"F\") & (subjects_df[\"age\"] >=30)]\n",
    "selected_subjects_df"
   ]
  },
  {
   "cell_type": "code",
   "execution_count": null,
   "id": "d5449c00",
   "metadata": {},
   "outputs": [],
   "source": [
    "selected_subjects_df.index"
   ]
  },
  {
   "cell_type": "markdown",
   "id": "5d81a2b0",
   "metadata": {},
   "source": [
    "And restrain our analysis of the `trials_df` to these subjects :"
   ]
  },
  {
   "cell_type": "code",
   "execution_count": null,
   "id": "d56f25bc",
   "metadata": {},
   "outputs": [],
   "source": [
    "# Here, we'll use another handy pandas method: `isin()`:\n",
    "selection = trials_df[\"subject\"].isin(selected_subjects_df.index)\n",
    "selection"
   ]
  },
  {
   "cell_type": "code",
   "execution_count": null,
   "id": "edc6d278",
   "metadata": {},
   "outputs": [],
   "source": [
    "trials_df.loc[selection, \"var_1\"].mean()"
   ]
  },
  {
   "cell_type": "markdown",
   "id": "df95e6be",
   "metadata": {},
   "source": [
    "(Practicals 1.3.0)"
   ]
  },
  {
   "cell_type": "markdown",
   "id": "1f875ef9",
   "metadata": {},
   "source": [
    "## Aggregate statistics"
   ]
  },
  {
   "cell_type": "markdown",
   "id": "6e7d4eda",
   "metadata": {},
   "source": [
    "It can be useful to aggregate statistics based on the values of a column."
   ]
  },
  {
   "cell_type": "markdown",
   "id": "075b97b1",
   "metadata": {},
   "source": [
    "Imagine we want to quickly compute the mean of the values across trials for each subject.\n",
    "\n"
   ]
  },
  {
   "cell_type": "markdown",
   "id": "058ff74a",
   "metadata": {},
   "source": [
    "### `.groupby()`"
   ]
  },
  {
   "cell_type": "markdown",
   "id": "d124808d",
   "metadata": {},
   "source": [
    "We have a handy syntax to average within each category with `.groupby()`.\n",
    "\n",
    "The sintax is :\n",
    "```python\n",
    "df.groupby(\"name_of_the_category_column\").operation()\n",
    "```"
   ]
  },
  {
   "cell_type": "markdown",
   "id": "16b71f02",
   "metadata": {},
   "source": [
    "Now, we want to compute average for every subject:"
   ]
  },
  {
   "cell_type": "code",
   "execution_count": null,
   "id": "65eb39d9",
   "metadata": {},
   "outputs": [],
   "source": [
    "df.head(3)"
   ]
  },
  {
   "cell_type": "code",
   "execution_count": null,
   "id": "8591cf08",
   "metadata": {},
   "outputs": [],
   "source": [
    "# In this case, the operation is `mean()`.\n",
    "# Note how the result will have the variable we group by as index:\n",
    "\n",
    "subj_means_df = df.groupby(\"subject\").mean()\n",
    "subj_means_df"
   ]
  },
  {
   "cell_type": "markdown",
   "id": "21579a47",
   "metadata": {},
   "source": [
    "By the way, this is a reason why methods are better than functions in this case: they can be chained with a clearer syntax!"
   ]
  },
  {
   "cell_type": "markdown",
   "id": "14439677",
   "metadata": {},
   "source": [
    "# Index broadcasting in `pandas`"
   ]
  },
  {
   "cell_type": "markdown",
   "id": "a0e0b400",
   "metadata": {},
   "source": [
    "Let's subtract from each subject the mean for each variable."
   ]
  },
  {
   "cell_type": "code",
   "execution_count": null,
   "id": "5309dd6b",
   "metadata": {},
   "outputs": [],
   "source": [
    "trials_df.head(3)"
   ]
  },
  {
   "cell_type": "code",
   "execution_count": null,
   "id": "2153245c",
   "metadata": {},
   "outputs": [],
   "source": [
    "subj_means_df.head(3)"
   ]
  },
  {
   "cell_type": "markdown",
   "id": "3510231a",
   "metadata": {},
   "source": [
    "The shapes obviously don't match:"
   ]
  },
  {
   "cell_type": "code",
   "execution_count": null,
   "id": "bdd6b960",
   "metadata": {},
   "outputs": [],
   "source": [
    "print(trials_df.shape)\n",
    "print(subj_means_df.shape)"
   ]
  },
  {
   "cell_type": "code",
   "execution_count": null,
   "id": "2a3161b4",
   "metadata": {},
   "outputs": [],
   "source": [
    "trials_df - subj_means_df  # this is obviously funny:"
   ]
  },
  {
   "cell_type": "markdown",
   "id": "81895d65",
   "metadata": {},
   "source": [
    "But pandas will broadcast values using indices if we make them consistent!"
   ]
  },
  {
   "cell_type": "code",
   "execution_count": null,
   "id": "92931152",
   "metadata": {},
   "outputs": [],
   "source": [
    "trials_df = trials_df.set_index(\"subject\")\n",
    "trials_df.head()"
   ]
  },
  {
   "cell_type": "markdown",
   "id": "669f6e9b",
   "metadata": {},
   "source": [
    "So now we can write:"
   ]
  },
  {
   "cell_type": "code",
   "execution_count": null,
   "id": "28d512f5",
   "metadata": {},
   "outputs": [],
   "source": [
    "normalized = trials_df - subj_means_df\n",
    "normalized.head()"
   ]
  },
  {
   "cell_type": "markdown",
   "id": "287fbf96",
   "metadata": {},
   "source": [
    "This broadcasting is super powerful! Give us very expressive and concise syntax to work with aggregated data without using loops."
   ]
  },
  {
   "cell_type": "markdown",
   "id": "e41250db",
   "metadata": {},
   "source": [
    "(Practicals 1.3.1)"
   ]
  },
  {
   "cell_type": "markdown",
   "id": "4a83dc66",
   "metadata": {},
   "source": [
    "## Rolling functions with `.rolling()`"
   ]
  },
  {
   "cell_type": "markdown",
   "id": "f0113fee",
   "metadata": {},
   "source": [
    "Imagine we have a time series of data, and we want to compute the mean over a window of time (e.g., for smoothing)."
   ]
  },
  {
   "cell_type": "code",
   "execution_count": null,
   "id": "f7dacf7b",
   "metadata": {},
   "outputs": [],
   "source": [
    "# Let's create a time series:\n",
    "time_series = pd.Series(np.random.rand(100))"
   ]
  },
  {
   "cell_type": "code",
   "execution_count": null,
   "id": "b98ea9a2",
   "metadata": {},
   "outputs": [],
   "source": [
    "# This will compute the mean in a rolling window - ie, smoothing it!\n",
    "rolling_wnd_size = 10\n",
    "smoothed = time_series.rolling(rolling_wnd_size, center=True).mean()"
   ]
  },
  {
   "cell_type": "code",
   "execution_count": null,
   "id": "2f62c490",
   "metadata": {},
   "outputs": [],
   "source": [
    "time_series.plot()\n",
    "smoothed.plot()"
   ]
  },
  {
   "cell_type": "markdown",
   "id": "2aeaf309",
   "metadata": {},
   "source": [
    "When done with averaging, same results as other smoothing tools"
   ]
  },
  {
   "cell_type": "markdown",
   "id": "c72dc763",
   "metadata": {},
   "source": [
    "But now we can use arbitrary functions! (standard deviation, significance tests, etc)"
   ]
  },
  {
   "cell_type": "code",
   "execution_count": null,
   "id": "91e78d96",
   "metadata": {},
   "outputs": [],
   "source": []
  }
 ],
 "metadata": {
  "celltoolbar": "Slideshow",
  "kernelspec": {
   "display_name": "Python [conda env:course_env]",
   "language": "python",
   "name": "conda-env-course_env-py"
  },
  "language_info": {
   "codemirror_mode": {
    "name": "ipython",
    "version": 3
   },
   "file_extension": ".py",
   "mimetype": "text/x-python",
   "name": "python",
   "nbconvert_exporter": "python",
   "pygments_lexer": "ipython3"
  }
 },
 "nbformat": 4,
 "nbformat_minor": 5
}
