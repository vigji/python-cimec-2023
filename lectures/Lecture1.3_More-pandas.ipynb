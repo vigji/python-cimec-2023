{
 "cells": [
  {
   "cell_type": "markdown",
   "id": "3ca811a3",
   "metadata": {
    "slideshow": {
     "slide_type": "slide"
    }
   },
   "source": [
    "# Python for (open) Neuroscience\n",
    "\n",
    "_Lecture 1.3_ - More on `pandas`\n",
    "\n",
    "Luigi Petrucco\n",
    "\n",
    "Jean-Charles Mariani\n",
    "\n",
    "[![Open In Colab](https://colab.research.google.com/assets/colab-badge.svg)](https://colab.research.google.com/github/vigji/python-cimec/blob/main/lectures/Lecture1.3_More-pandas.ipynb)"
   ]
  },
  {
   "cell_type": "markdown",
   "id": "a71f1416",
   "metadata": {
    "slideshow": {
     "slide_type": "subslide"
    }
   },
   "source": [
    "## Aggregate over columns"
   ]
  },
  {
   "cell_type": "markdown",
   "id": "b8712bdb",
   "metadata": {},
   "source": [
    "It can be useful to aggregate statistics based on the values of a column."
   ]
  },
  {
   "cell_type": "code",
   "execution_count": null,
   "id": "7f1a63c1",
   "metadata": {
    "ExecuteTime": {
     "end_time": "2023-05-14T22:56:45.018484Z",
     "start_time": "2023-05-14T22:56:44.906839Z"
    },
    "jupyter": {
     "outputs_hidden": false
    }
   },
   "outputs": [],
   "source": [
    "# In this dataset, a column represent a category, either \"a\" or \"b\"\n",
    "df = pd.DataFrame(dict(labels=[\"a\", \"a\", \"b\", \"b\"], values=[1, 2, 3, 4]))\n",
    "df"
   ]
  },
  {
   "cell_type": "code",
   "execution_count": null,
   "id": "cd5ad899",
   "metadata": {},
   "outputs": [],
   "source": []
  },
  {
   "cell_type": "markdown",
   "id": "9b2214be",
   "metadata": {
    "slideshow": {
     "slide_type": "subslide"
    }
   },
   "source": [
    "### `.groupby()`"
   ]
  },
  {
   "cell_type": "markdown",
   "id": "e85ee332",
   "metadata": {},
   "source": [
    "We have a handy syntax to average within each category with `.groupby()`.\n",
    "\n",
    "The sintax is :\n",
    "```python\n",
    "df.groupby(\"name_of_the_category_column\").operation()\n",
    "```"
   ]
  },
  {
   "cell_type": "code",
   "execution_count": null,
   "id": "ec3bdddd",
   "metadata": {
    "jupyter": {
     "outputs_hidden": false
    }
   },
   "outputs": [],
   "source": [
    "# In this case, the operation is mean()\n",
    "\n",
    "df.groupby(\"labels\").mean()"
   ]
  },
  {
   "cell_type": "markdown",
   "id": "37b9bb11",
   "metadata": {
    "slideshow": {
     "slide_type": "subslide"
    }
   },
   "source": [
    "## Organize data in a dataframe"
   ]
  },
  {
   "cell_type": "code",
   "execution_count": null,
   "id": "4554e413",
   "metadata": {
    "ExecuteTime": {
     "end_time": "2023-05-14T23:15:54.094599Z",
     "start_time": "2023-05-14T23:15:54.087195Z"
    },
    "jupyter": {
     "outputs_hidden": false
    }
   },
   "outputs": [],
   "source": [
    "# Imagine we have 4 experimental subjects; to each one we show a stimulus 3 times; over each repetition we measure 2 variables.\n",
    "\n",
    "# We could represent the data for each stimulus as a dictionary:\n",
    "stimulus = dict(variable_1=np.random.rand(), variable_2=np.random.rand())"
   ]
  },
  {
   "cell_type": "code",
   "execution_count": null,
   "id": "eae38abc",
   "metadata": {
    "ExecuteTime": {
     "end_time": "2023-05-14T23:15:54.392861Z",
     "start_time": "2023-05-14T23:15:54.386838Z"
    },
    "jupyter": {
     "outputs_hidden": false
    }
   },
   "outputs": [],
   "source": [
    "# And the data for each subject as a list of dictionaries:\n",
    "subject_data = [dict(variable_1=np.random.rand(), variable_2=np.random.rand()) for _ in range(3)]"
   ]
  },
  {
   "cell_type": "code",
   "execution_count": null,
   "id": "be1ab136",
   "metadata": {
    "ExecuteTime": {
     "end_time": "2023-05-14T23:15:54.890336Z",
     "start_time": "2023-05-14T23:15:54.885520Z"
    },
    "jupyter": {
     "outputs_hidden": false
    }
   },
   "outputs": [],
   "source": [
    "# And the data for all subjects as a dictionary of lists of dictionaries:\n",
    "all_subjects = dict()\n",
    "\n",
    "for i in range(4):\n",
    "    all_subjects[f\"subject_{i}\"] = [dict(variable_1=np.random.rand(), variable_2=np.random.rand()) for _ in range(3)]\n",
    "all_subjects"
   ]
  },
  {
   "cell_type": "markdown",
   "id": "9e628137",
   "metadata": {
    "slideshow": {
     "slide_type": "subslide"
    }
   },
   "source": [
    "This is now clean and tidy (?), but being so nested, it is not easy to perform statistics on it."
   ]
  },
  {
   "cell_type": "code",
   "execution_count": null,
   "id": "f5d27a9b",
   "metadata": {
    "ExecuteTime": {
     "end_time": "2023-05-14T23:15:57.532766Z",
     "start_time": "2023-05-14T23:15:57.505654Z"
    },
    "jupyter": {
     "outputs_hidden": false
    }
   },
   "outputs": [],
   "source": [
    "# Imagine we want to average the results across all subjects for variable_1:\n",
    "means = []\n",
    "for subject_results in all_subjects.values():\n",
    "    for result in subject_results:\n",
    "        means.append(result[\"variable_1\"])\n",
    "np.mean(means)"
   ]
  },
  {
   "cell_type": "markdown",
   "id": "b9f3c2eb",
   "metadata": {
    "slideshow": {
     "slide_type": "subslide"
    }
   },
   "source": [
    "Instead, we can represent the data in a dataframe, **keeping it as flat as possible**!"
   ]
  },
  {
   "cell_type": "markdown",
   "id": "1b56d945",
   "metadata": {},
   "source": [
    "Remember!\n",
    "\n",
    "\n",
    "    🪷 The Zen of Python 🪷\n",
    "        \n",
    "        Flat is better than nested"
   ]
  },
  {
   "cell_type": "code",
   "execution_count": null,
   "id": "633e00c4",
   "metadata": {
    "ExecuteTime": {
     "end_time": "2023-05-14T23:19:21.885102Z",
     "start_time": "2023-05-14T23:19:21.879108Z"
    },
    "jupyter": {
     "outputs_hidden": false
    }
   },
   "outputs": [],
   "source": [
    "# We can turn the data into a dataframe (does not matter how we do it here!!! - this is just an ugly example)\n",
    "df = pd.DataFrame([dict(subject=i, repetition=j, **all_subjects[i][j].copy())\n",
    "                             for i in all_subjects.keys()\n",
    "                             for j in range(len(all_subjects[i]))])\n",
    "\n",
    "df"
   ]
  },
  {
   "cell_type": "code",
   "execution_count": null,
   "id": "1e61e231",
   "metadata": {
    "ExecuteTime": {
     "end_time": "2023-05-14T23:19:24.552726Z",
     "start_time": "2023-05-14T23:19:24.540353Z"
    },
    "jupyter": {
     "outputs_hidden": false
    }
   },
   "outputs": [],
   "source": [
    "# We can now easily perform statistics on the data, aggregating over the repetitions or subjects using groupby:"
   ]
  },
  {
   "cell_type": "code",
   "execution_count": null,
   "id": "7236a17a",
   "metadata": {
    "ExecuteTime": {
     "end_time": "2023-05-14T23:21:03.976381Z",
     "start_time": "2023-05-14T23:21:03.973145Z"
    },
    "jupyter": {
     "outputs_hidden": false
    }
   },
   "outputs": [],
   "source": [
    "group_means = df.groupby(\"subject\").mean()\n",
    "group_means.drop(columns=[\"repetition\"])  # subtract the mean for each group"
   ]
  },
  {
   "cell_type": "code",
   "execution_count": null,
   "id": "757ecd29",
   "metadata": {},
   "outputs": [],
   "source": []
  },
  {
   "cell_type": "markdown",
   "id": "1875a20e",
   "metadata": {
    "slideshow": {
     "slide_type": "subslide"
    }
   },
   "source": [
    "### `.groupby()`"
   ]
  },
  {
   "cell_type": "markdown",
   "id": "91a304b0",
   "metadata": {},
   "source": [
    "We have a handy syntax to average within each category with `.groupby()`.\n",
    "\n",
    "The sintax is :\n",
    "```python\n",
    "df.groupby(\"name_of_the_category_column\").operation()\n",
    "```"
   ]
  },
  {
   "cell_type": "code",
   "execution_count": null,
   "id": "b17eecae",
   "metadata": {
    "jupyter": {
     "outputs_hidden": false
    }
   },
   "outputs": [],
   "source": [
    "# In this case, the operation is mean()\n",
    "\n",
    "df.groupby(\"labels\").mean()"
   ]
  },
  {
   "cell_type": "markdown",
   "id": "da12c108",
   "metadata": {
    "slideshow": {
     "slide_type": "subslide"
    }
   },
   "source": [
    "## Organize data in a dataframe"
   ]
  },
  {
   "cell_type": "code",
   "execution_count": null,
   "id": "89ec5c41",
   "metadata": {
    "ExecuteTime": {
     "end_time": "2023-05-14T23:15:54.094599Z",
     "start_time": "2023-05-14T23:15:54.087195Z"
    },
    "jupyter": {
     "outputs_hidden": false
    }
   },
   "outputs": [],
   "source": [
    "# Imagine we have 4 experimental subjects; to each one we show a stimulus 3 times; over each repetition we measure 2 variables.\n",
    "\n",
    "# We could represent the data for each stimulus as a dictionary:\n",
    "stimulus = dict(variable_1=np.random.rand(), variable_2=np.random.rand())"
   ]
  },
  {
   "cell_type": "code",
   "execution_count": null,
   "id": "994c9b76",
   "metadata": {
    "ExecuteTime": {
     "end_time": "2023-05-14T23:15:54.392861Z",
     "start_time": "2023-05-14T23:15:54.386838Z"
    },
    "jupyter": {
     "outputs_hidden": false
    }
   },
   "outputs": [],
   "source": [
    "# And the data for each subject as a list of dictionaries:\n",
    "subject_data = [dict(variable_1=np.random.rand(), variable_2=np.random.rand()) for _ in range(3)]"
   ]
  },
  {
   "cell_type": "code",
   "execution_count": null,
   "id": "4852a018",
   "metadata": {
    "ExecuteTime": {
     "end_time": "2023-05-14T23:15:54.890336Z",
     "start_time": "2023-05-14T23:15:54.885520Z"
    },
    "jupyter": {
     "outputs_hidden": false
    }
   },
   "outputs": [],
   "source": [
    "# And the data for all subjects as a dictionary of lists of dictionaries:\n",
    "all_subjects = dict()\n",
    "\n",
    "for i in range(4):\n",
    "    all_subjects[f\"subject_{i}\"] = [dict(variable_1=np.random.rand(), variable_2=np.random.rand()) for _ in range(3)]\n",
    "all_subjects"
   ]
  },
  {
   "cell_type": "markdown",
   "id": "663028ba",
   "metadata": {
    "slideshow": {
     "slide_type": "subslide"
    }
   },
   "source": [
    "This is now clean and tidy (?), but being so nested, it is not easy to perform statistics on it."
   ]
  },
  {
   "cell_type": "code",
   "execution_count": null,
   "id": "22c805ce",
   "metadata": {
    "ExecuteTime": {
     "end_time": "2023-05-14T23:15:57.532766Z",
     "start_time": "2023-05-14T23:15:57.505654Z"
    },
    "jupyter": {
     "outputs_hidden": false
    }
   },
   "outputs": [],
   "source": [
    "# Imagine we want to average the results across all subjects for variable_1:\n",
    "means = []\n",
    "for subject_results in all_subjects.values():\n",
    "    for result in subject_results:\n",
    "        means.append(result[\"variable_1\"])\n",
    "np.mean(means)"
   ]
  },
  {
   "cell_type": "markdown",
   "id": "09d16ba4",
   "metadata": {
    "slideshow": {
     "slide_type": "subslide"
    }
   },
   "source": [
    "Instead, we can represent the data in a dataframe, **keeping it as flat as possible**!"
   ]
  },
  {
   "cell_type": "markdown",
   "id": "2fc6bc75",
   "metadata": {},
   "source": [
    "Remember!\n",
    "\n",
    "\n",
    "    🪷 The Zen of Python 🪷\n",
    "        \n",
    "        Flat is better than nested"
   ]
  },
  {
   "cell_type": "code",
   "execution_count": null,
   "id": "14d48d55",
   "metadata": {
    "ExecuteTime": {
     "end_time": "2023-05-14T23:19:21.885102Z",
     "start_time": "2023-05-14T23:19:21.879108Z"
    },
    "jupyter": {
     "outputs_hidden": false
    }
   },
   "outputs": [],
   "source": [
    "# We can turn the data into a dataframe (does not matter how we do it here!!! - this is just an ugly example)\n",
    "df = pd.DataFrame([dict(subject=i, repetition=j, **all_subjects[i][j].copy())\n",
    "                             for i in all_subjects.keys()\n",
    "                             for j in range(len(all_subjects[i]))])\n",
    "\n",
    "df"
   ]
  },
  {
   "cell_type": "code",
   "execution_count": null,
   "id": "86c10a0f",
   "metadata": {
    "ExecuteTime": {
     "end_time": "2023-05-14T23:19:24.552726Z",
     "start_time": "2023-05-14T23:19:24.540353Z"
    },
    "jupyter": {
     "outputs_hidden": false
    }
   },
   "outputs": [],
   "source": [
    "# We can now easily perform statistics on the data, aggregating over the repetitions or subjects using groupby:"
   ]
  },
  {
   "cell_type": "code",
   "execution_count": null,
   "id": "eb958fe0",
   "metadata": {
    "ExecuteTime": {
     "end_time": "2023-05-14T23:21:03.976381Z",
     "start_time": "2023-05-14T23:21:03.973145Z"
    },
    "jupyter": {
     "outputs_hidden": false
    }
   },
   "outputs": [],
   "source": [
    "group_means = df.groupby(\"subject\").mean()\n",
    "group_means.drop(columns=[\"repetition\"])  # subtract the mean for each group"
   ]
  },
  {
   "cell_type": "markdown",
   "id": "d9fbc68f",
   "metadata": {},
   "source": [
    "## Advanced pandas"
   ]
  },
  {
   "cell_type": "markdown",
   "id": "8a27d919",
   "metadata": {},
   "source": [
    "### `.rolling()`"
   ]
  },
  {
   "cell_type": "code",
   "execution_count": null,
   "id": "79f17af5",
   "metadata": {},
   "outputs": [],
   "source": []
  },
  {
   "cell_type": "markdown",
   "id": "c72dc763",
   "metadata": {},
   "source": [
    "### `.groupby()`"
   ]
  }
 ],
 "metadata": {
  "celltoolbar": "Slideshow",
  "kernelspec": {
   "display_name": "Python [conda env:course_env]",
   "language": "python",
   "name": "conda-env-course_env-py"
  },
  "language_info": {
   "codemirror_mode": {
    "name": "ipython",
    "version": 3
   },
   "file_extension": ".py",
   "mimetype": "text/x-python",
   "name": "python",
   "nbconvert_exporter": "python",
   "pygments_lexer": "ipython3",
   "version": "3.9.16"
  }
 },
 "nbformat": 4,
 "nbformat_minor": 5
}
