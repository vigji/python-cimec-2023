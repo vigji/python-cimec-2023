{
 "cells": [
  {
   "cell_type": "markdown",
   "id": "3ca811a3",
   "metadata": {},
   "source": [
    "# Python for (open) Neuroscience\n",
    "\n",
    "_Lecture 1.0_ - Introduction to `numpy`\n",
    "\n",
    "Luigi Petrucco\n",
    "\n",
    "Jean-Charles Mariani\n",
    "\n",
    "[![Open In Colab](https://colab.research.google.com/assets/colab-badge.svg)](https://colab.research.google.com/github/vigji/python-cimec/blob/main/lectures/Lecture1.0_Numpy-intro.ipynb)"
   ]
  },
  {
   "cell_type": "markdown",
   "id": "3bb937a0",
   "metadata": {},
   "source": [
    "## A note on searching info"
   ]
  },
  {
   "cell_type": "markdown",
   "id": "fd6b2618",
   "metadata": {},
   "source": [
    "Google every doubt that you have! [stackoverflow](https://stackoverflow.com) is a great source of information"
   ]
  },
  {
   "cell_type": "markdown",
   "id": "d70f9f87",
   "metadata": {},
   "source": [
    "For simple doubts and introductory explanations on `numpy` ChatGPT can be an excellent source! "
   ]
  },
  {
   "cell_type": "markdown",
   "id": "675a5de0",
   "metadata": {},
   "source": [
    "## Working with libraries (/packages/modules)"
   ]
  },
  {
   "cell_type": "markdown",
   "id": "bbb8cdbc",
   "metadata": {},
   "source": [
    "We can import external libraries using `import`:"
   ]
  },
  {
   "cell_type": "code",
   "execution_count": null,
   "id": "a4765f8f",
   "metadata": {},
   "outputs": [],
   "source": [
    "import numpy\n",
    "numpy.array"
   ]
  },
  {
   "cell_type": "markdown",
   "id": "b48e2ada",
   "metadata": {},
   "source": [
    "We can give aliases to the library we import for the sake of brevity:"
   ]
  },
  {
   "cell_type": "code",
   "execution_count": null,
   "id": "672eb10a",
   "metadata": {},
   "outputs": [],
   "source": [
    "import numpy as np\n",
    "np.array"
   ]
  },
  {
   "cell_type": "markdown",
   "id": "86a06e74",
   "metadata": {},
   "source": [
    "We can also import specific functions (or classes) from a library with this syntax:"
   ]
  },
  {
   "cell_type": "code",
   "execution_count": null,
   "id": "374999a1",
   "metadata": {},
   "outputs": [],
   "source": [
    "from numpy import array\n",
    "array"
   ]
  },
  {
   "cell_type": "markdown",
   "id": "7220db85",
   "metadata": {},
   "source": [
    "## The `numpy` library"
   ]
  },
  {
   "cell_type": "markdown",
   "id": "cfd35672",
   "metadata": {},
   "source": [
    "High performance number crunching with Python "
   ]
  },
  {
   "cell_type": "markdown",
   "id": "e201c381",
   "metadata": {},
   "source": [
    "C-compiled libraries make it very efficient"
   ]
  },
  {
   "cell_type": "code",
   "execution_count": null,
   "id": "11b430f1",
   "metadata": {},
   "outputs": [],
   "source": [
    "N_ELEMENTS = 1000000"
   ]
  },
  {
   "cell_type": "code",
   "execution_count": null,
   "id": "b6f173b1",
   "metadata": {},
   "outputs": [],
   "source": [
    "%%timeit\n",
    "a_list = list(range(N_ELEMENTS))\n",
    "mean = sum(a_list) / len(a_list)  # mean\n",
    "\n",
    "mean_subtracted = [element - mean for element in a_list]  # subtract mean"
   ]
  },
  {
   "cell_type": "code",
   "execution_count": null,
   "id": "c3d50f29",
   "metadata": {},
   "outputs": [],
   "source": [
    "import numpy as np"
   ]
  },
  {
   "cell_type": "code",
   "execution_count": null,
   "id": "703f66f8",
   "metadata": {},
   "outputs": [],
   "source": [
    "\n",
    "%%timeit\n",
    "an_array = np.arange(N_ELEMENTS)\n",
    "mean = np.mean(an_array)  # mean\n",
    "\n",
    "mean_subtracted = an_array - mean  # subtract mean"
   ]
  },
  {
   "cell_type": "markdown",
   "id": "2ac5b7eb",
   "metadata": {},
   "source": [
    "### A small note on credit & citations"
   ]
  },
  {
   "cell_type": "markdown",
   "id": "153fd9c3",
   "metadata": {},
   "source": [
    "Many forget to do so, but remember: there's scientists behind many open-source tools, and citations are the way we can reward them in academic currency!"
   ]
  },
  {
   "cell_type": "markdown",
   "id": "a244d341",
   "metadata": {},
   "source": [
    "    Harris, C.R., Millman, K.J., van der Walt, S.J. et al. Array programming with NumPy. Nature 585, 357–362 (2020). DOI: 10.1038/s41586-020-2649-2"
   ]
  },
  {
   "cell_type": "markdown",
   "id": "d040df72",
   "metadata": {},
   "source": [
    "Let's import the library!"
   ]
  },
  {
   "cell_type": "code",
   "execution_count": null,
   "id": "f08a99d7",
   "metadata": {},
   "outputs": [],
   "source": [
    "import numpy as np"
   ]
  },
  {
   "cell_type": "markdown",
   "id": "e7ef3f90",
   "metadata": {},
   "source": [
    "## `np.ndarray`"
   ]
  },
  {
   "cell_type": "markdown",
   "id": "d1e4f825",
   "metadata": {},
   "source": [
    "Data type representing N-dimensional arrays"
   ]
  },
  {
   "cell_type": "markdown",
   "id": "36b9d61c",
   "metadata": {},
   "source": [
    "Workhorse of scientific computing!"
   ]
  },
  {
   "cell_type": "markdown",
   "id": "c9f8c53b",
   "metadata": {},
   "source": [
    "A note on language: when we say `array` we do not imply any number of dimensions:\n",
    "- <span style=\"color:indianred\">vectors</span> will be 1D arrays\n",
    "- <span style=\"color:indianred\">matrices</span> will be 2D arrays\n",
    "- for an array with n_dims>2, I will use <span style=\"color:indianred\">n-dimensional matrix</span>, or <span style=\"color:indianred\">stack</span> (if we talk about imaging data/other kind of stacked data); some people might call it <span style=\"color:indianred\">tensor</span>"
   ]
  },
  {
   "cell_type": "markdown",
   "id": "fd7d3f21",
   "metadata": {},
   "source": [
    "Related note: there is a `np.matrix` class in `numpy`, but you **should not** use it; it has not been adopted much and  it might be removed soon!"
   ]
  },
  {
   "cell_type": "markdown",
   "id": "0f8d645d",
   "metadata": {},
   "source": [
    "`np.ndarray` is a powerful data storing structure:"
   ]
  },
  {
   "cell_type": "markdown",
   "id": "f8266d94",
   "metadata": {},
   "source": [
    "- it addresses memory allocation efficiency issues"
   ]
  },
  {
   "cell_type": "markdown",
   "id": "d8e97eb1",
   "metadata": {},
   "source": [
    "- it gives powerful indexing functionalities"
   ]
  },
  {
   "cell_type": "markdown",
   "id": "cf785c08",
   "metadata": {},
   "source": [
    "- implements vectors/matrices algebric operations"
   ]
  },
  {
   "cell_type": "markdown",
   "id": "dde2a7b1",
   "metadata": {},
   "source": [
    "## creating arrays"
   ]
  },
  {
   "cell_type": "markdown",
   "id": "5b0ce913",
   "metadata": {},
   "source": [
    "### Initialize empty arrays"
   ]
  },
  {
   "cell_type": "markdown",
   "id": "c42d5a3b",
   "metadata": {},
   "source": [
    "We can create a simple array of zeros using the `np.zeros` function, and passing it:\n"
   ]
  },
  {
   "cell_type": "markdown",
   "id": "79052049",
   "metadata": {},
   "source": [
    "A single integer n to create a 1D vector of length n:"
   ]
  },
  {
   "cell_type": "code",
   "execution_count": null,
   "id": "e7474a19",
   "metadata": {},
   "outputs": [],
   "source": [
    "np.zeros(3)  # we pass a single integer for a 1D array"
   ]
  },
  {
   "cell_type": "markdown",
   "id": "2fc0222e",
   "metadata": {},
   "source": [
    "A tuple of numbers indicating the size for every dimension for more dimensions"
   ]
  },
  {
   "cell_type": "code",
   "execution_count": null,
   "id": "9e751a5d",
   "metadata": {},
   "outputs": [],
   "source": [
    "np.zeros((3,2))  # we pass the tuple (3, 2) to have a 3 x 2 matrix"
   ]
  },
  {
   "cell_type": "markdown",
   "id": "ac46b4f8",
   "metadata": {},
   "source": [
    "The `np.ones` function works in the same way but creates a matrix of ones:"
   ]
  },
  {
   "cell_type": "code",
   "execution_count": null,
   "id": "5be13ba2",
   "metadata": {},
   "outputs": [],
   "source": [
    "np.ones((3,2))"
   ]
  },
  {
   "cell_type": "markdown",
   "id": "c69bdd24",
   "metadata": {},
   "source": [
    "We can inizialize a matrix with arbitrary values using `np.full`:"
   ]
  },
  {
   "cell_type": "code",
   "execution_count": null,
   "id": "4091bf3e",
   "metadata": {},
   "outputs": [],
   "source": [
    "np.full((2,3), 20)"
   ]
  },
  {
   "cell_type": "markdown",
   "id": "766593fa",
   "metadata": {},
   "source": [
    "In numpy arrays, **all elements must be of the same type**! (This is important to make arrays efficient)"
   ]
  },
  {
   "cell_type": "markdown",
   "id": "b95059c3",
   "metadata": {},
   "source": [
    "By default, `np.nparray`s will be initialized with `float` values:"
   ]
  },
  {
   "cell_type": "code",
   "execution_count": null,
   "id": "0173cb56",
   "metadata": {},
   "outputs": [],
   "source": [
    "np.ones((2,3))"
   ]
  },
  {
   "cell_type": "markdown",
   "id": "0271d145",
   "metadata": {},
   "source": [
    "To specify the data type of our array, we can pass the `dtype` argument (for data type). For example, we can make it `int`:"
   ]
  },
  {
   "cell_type": "code",
   "execution_count": null,
   "id": "17d960a7",
   "metadata": {},
   "outputs": [],
   "source": [
    "np.ones((2,3), dtype=int)"
   ]
  },
  {
   "cell_type": "markdown",
   "id": "c25bf585",
   "metadata": {},
   "source": [
    "To change the data type of an existing array, we can use the `.asdtype(new_type)` method:"
   ]
  },
  {
   "cell_type": "code",
   "execution_count": null,
   "id": "0235128a",
   "metadata": {},
   "outputs": [],
   "source": [
    "my_arr = np.full((2,3), 1)\n",
    "my_arr.astype(int)"
   ]
  },
  {
   "cell_type": "markdown",
   "id": "657f9b5f",
   "metadata": {},
   "source": [
    "We can also use some special data type from numpy, for memory saving purposes:\n",
    " - `np.uint8` (numbers from 0 to 255)\n",
    " - `np.int8` (numbers from -128 to 127)\n",
    " - `np.uint16` (numbers from 0 to 65535)\n",
    " - `np.int16` (numbers from -32768 to 32767)\n",
    " \n",
    "The number (8 or 16) represents the number of **bits** used for every entry in the array!"
   ]
  },
  {
   "cell_type": "code",
   "execution_count": null,
   "id": "e0b5ce04",
   "metadata": {},
   "outputs": [],
   "source": [
    "import sys\n",
    "a_python_int_array = np.ones((200, 300), dtype=int)\n",
    "\n",
    "sys.getsizeof(a_python_int_array)  # we ask for the size of the array in memory"
   ]
  },
  {
   "cell_type": "code",
   "execution_count": null,
   "id": "d565f5cb",
   "metadata": {},
   "outputs": [],
   "source": [
    "a_uint8_array = np.ones((200, 300), dtype=np.uint8)\n",
    "\n",
    "sys.getsizeof(a_uint8_array)  # the np.uint8 type is much more efficient!"
   ]
  },
  {
   "cell_type": "markdown",
   "id": "ba90b04d",
   "metadata": {},
   "source": [
    "We can also make arrays of text! in this case, the dtype will be `'<U[n]'` (U for Unicode, and n will be the number of characters in the longest entry in the matrix):"
   ]
  },
  {
   "cell_type": "code",
   "execution_count": null,
   "id": "b096ccab",
   "metadata": {},
   "outputs": [],
   "source": [
    "txt = np.full((300,2000), \"some text\")\n",
    "\n",
    "txt  # look at the dtype! the number will be the number of characters:"
   ]
  },
  {
   "cell_type": "markdown",
   "id": "1a5cff36",
   "metadata": {},
   "source": [
    "### Useful attributes of `np.ndarray` objects"
   ]
  },
  {
   "cell_type": "markdown",
   "id": "25249f55",
   "metadata": {},
   "source": [
    "Being objects, `np.ndarray`s have attributes that can be useful to check out their properties."
   ]
  },
  {
   "cell_type": "markdown",
   "id": "0cb5ff62",
   "metadata": {},
   "source": [
    "### `.shape`"
   ]
  },
  {
   "cell_type": "markdown",
   "id": "6ba3fca0",
   "metadata": {},
   "source": [
    "The `.shape` attribute gives us the shape (the number of elements along each dimension of the array):"
   ]
  },
  {
   "cell_type": "code",
   "execution_count": null,
   "id": "3e344e12",
   "metadata": {},
   "outputs": [],
   "source": [
    "my_array = np.zeros((4,3))\n",
    "\n",
    "my_array.shape"
   ]
  },
  {
   "cell_type": "markdown",
   "id": "d911ff8c",
   "metadata": {},
   "source": [
    "### `.dtype`"
   ]
  },
  {
   "cell_type": "markdown",
   "id": "6f2d686e",
   "metadata": {},
   "source": [
    "The `.dtype` attribute gives the type of the elements in the array:"
   ]
  },
  {
   "cell_type": "code",
   "execution_count": null,
   "id": "b9d2a6ef",
   "metadata": {},
   "outputs": [],
   "source": [
    "my_array = np.full((4,3,5), \"a string\")\n",
    "my_array.dtype"
   ]
  },
  {
   "cell_type": "markdown",
   "id": "2146f10c",
   "metadata": {},
   "source": [
    "### `.size`"
   ]
  },
  {
   "cell_type": "markdown",
   "id": "bb82739b",
   "metadata": {},
   "source": [
    "Do not confuse `.shape` with `.size`! `.size` gives the numbers of elements in the whole matrix:"
   ]
  },
  {
   "cell_type": "code",
   "execution_count": null,
   "id": "556efcc0",
   "metadata": {},
   "outputs": [],
   "source": [
    "my_array = np.full((4,3), 3)\n",
    "my_array.size"
   ]
  },
  {
   "cell_type": "markdown",
   "id": "58bfd10b",
   "metadata": {},
   "source": [
    "### Convert lists to arrays"
   ]
  },
  {
   "cell_type": "markdown",
   "id": "6ff12d12",
   "metadata": {},
   "source": [
    "One way of creating an array is to convert an existing list into an array with the `np.array()` function:"
   ]
  },
  {
   "cell_type": "code",
   "execution_count": null,
   "id": "1c810d05",
   "metadata": {},
   "outputs": [],
   "source": [
    "my_list = [1,2,3,4]\n",
    "np.array(my_list).shape"
   ]
  },
  {
   "cell_type": "markdown",
   "id": "d1096bea",
   "metadata": {},
   "source": [
    "Converting lists of lists will add more dimensions:"
   ]
  },
  {
   "cell_type": "code",
   "execution_count": null,
   "id": "c9c71f62",
   "metadata": {},
   "outputs": [],
   "source": [
    "my_list = [[1,2,3,4], [2,3,4,5]]\n",
    "np.array(my_list)"
   ]
  },
  {
   "cell_type": "code",
   "execution_count": null,
   "id": "2834c53e",
   "metadata": {},
   "outputs": [],
   "source": [
    "# Beware! if we initialize the np.ndarray with lists of different lengths, we will create\n",
    "# an array of lists - with a funny dtype (object), and one dimensional.\n",
    "# You generally want to avoid it! Luckily, we get a warning:\n",
    "\n",
    "my_list = [[1,2,3,4], [2,3,4,5], [1,2]]\n",
    "np.array(my_list)"
   ]
  },
  {
   "cell_type": "markdown",
   "id": "b8bfbbed",
   "metadata": {},
   "source": [
    "### Ordered sequences"
   ]
  },
  {
   "cell_type": "markdown",
   "id": "ed7b8c11",
   "metadata": {},
   "source": [
    "We can create ordered sequences of numbers using `np.arange()`:"
   ]
  },
  {
   "cell_type": "code",
   "execution_count": null,
   "id": "588557e6",
   "metadata": {},
   "outputs": [],
   "source": [
    "np.arange(10)  # numbers from 0 to 9"
   ]
  },
  {
   "cell_type": "markdown",
   "id": "7623410a",
   "metadata": {},
   "source": [
    "We can optionally specify start, end, and step of the sequence (start and steps are optional):"
   ]
  },
  {
   "cell_type": "code",
   "execution_count": null,
   "id": "4c769391",
   "metadata": {},
   "outputs": [],
   "source": [
    "np.arange(1, 10, 2)  # numbers from 1 to 10 in steps of 2:"
   ]
  },
  {
   "cell_type": "markdown",
   "id": "a6c21540",
   "metadata": {},
   "source": [
    "Alternatively, we can use `np.linspace()` to generate `num` equally spaced numbers in a specified range:"
   ]
  },
  {
   "cell_type": "code",
   "execution_count": null,
   "id": "a059c273",
   "metadata": {},
   "outputs": [],
   "source": [
    "np.arange(0, 10, 5)"
   ]
  },
  {
   "cell_type": "code",
   "execution_count": null,
   "id": "0be75f75",
   "metadata": {},
   "outputs": [],
   "source": [
    "np.linspace(0, 10, num=5)"
   ]
  },
  {
   "cell_type": "markdown",
   "id": "6c43ec0f",
   "metadata": {},
   "source": [
    "### Random arrays"
   ]
  },
  {
   "cell_type": "markdown",
   "id": "9d385427",
   "metadata": {},
   "source": [
    "We can use the `np.random` module to create random arrays. For example:"
   ]
  },
  {
   "cell_type": "code",
   "execution_count": null,
   "id": "8fcadd6b",
   "metadata": {},
   "outputs": [],
   "source": [
    "?np.ones"
   ]
  },
  {
   "cell_type": "code",
   "execution_count": null,
   "id": "872b2819",
   "metadata": {},
   "outputs": [],
   "source": [
    "np.ones((3, 2))"
   ]
  },
  {
   "cell_type": "code",
   "execution_count": null,
   "id": "71bdfe61",
   "metadata": {},
   "outputs": [],
   "source": [
    "np.random.randint(0, 2, (3,2))  # we pass min, max, and desired shape of the random array"
   ]
  },
  {
   "cell_type": "markdown",
   "id": "f682a745",
   "metadata": {},
   "source": [
    "(Practicals 1.0.0)"
   ]
  },
  {
   "cell_type": "markdown",
   "id": "8d4d13ee",
   "metadata": {},
   "source": [
    "## Visualize arrays and matrices"
   ]
  },
  {
   "cell_type": "markdown",
   "id": "109f2de7",
   "metadata": {},
   "source": [
    "We can visualize arrays and matrices using the `matplotlib.pyplot` library."
   ]
  },
  {
   "cell_type": "code",
   "execution_count": null,
   "id": "7fc90ed0",
   "metadata": {},
   "outputs": [],
   "source": [
    "from matplotlib import pyplot as plt  # code you'll write many times in Python..."
   ]
  },
  {
   "cell_type": "markdown",
   "id": "f002725a",
   "metadata": {},
   "source": [
    "We can plot 1D arrays (or lists!) using `plt.plot()`:"
   ]
  },
  {
   "cell_type": "code",
   "execution_count": null,
   "id": "c69f516d",
   "metadata": {},
   "outputs": [],
   "source": [
    "random_vect = np.random.randint(0, 100, (3, 2))\n",
    "plt.plot(random_vect)"
   ]
  },
  {
   "cell_type": "markdown",
   "id": "275fc44d",
   "metadata": {},
   "source": [
    "We can visualize 2D matrices with `plt.matshow()`"
   ]
  },
  {
   "cell_type": "code",
   "execution_count": null,
   "id": "74f5f7ab",
   "metadata": {},
   "outputs": [],
   "source": [
    "random_mat = np.random.randint(0, 255, (100, 200))\n",
    "\n",
    "plt.matshow(random_mat)\n",
    "plt.colorbar()"
   ]
  },
  {
   "cell_type": "markdown",
   "id": "1dd57e10",
   "metadata": {},
   "source": [
    "There's much more to the matplotlib library, we'll discover more things as we go!"
   ]
  },
  {
   "cell_type": "markdown",
   "id": "d75a5b6a",
   "metadata": {},
   "source": [
    "## Indexing arrays"
   ]
  },
  {
   "cell_type": "markdown",
   "id": "0815bbdc",
   "metadata": {},
   "source": [
    "We can index (\"slice\") arrays as we were doing with lists."
   ]
  },
  {
   "cell_type": "markdown",
   "id": "880a37e3",
   "metadata": {},
   "source": [
    "For a 1D array:"
   ]
  },
  {
   "cell_type": "code",
   "execution_count": null,
   "id": "6f91139e",
   "metadata": {},
   "outputs": [],
   "source": [
    "my_vect = np.arange(0, 10)\n",
    "print(my_vect[:5])  # first 5\n",
    "print(my_vect[-3:])  # last 3\n",
    "print(my_vect[:6:2])  # first 6, one every two"
   ]
  },
  {
   "cell_type": "markdown",
   "id": "546a29c3",
   "metadata": {},
   "source": [
    "But! With `np.ndarray`s we have more flexibility than with lists!"
   ]
  },
  {
   "cell_type": "markdown",
   "id": "09b4fd21",
   "metadata": {},
   "source": [
    "### Indexing by index numbers"
   ]
  },
  {
   "cell_type": "markdown",
   "id": "ce824fe8",
   "metadata": {},
   "source": [
    "We can index passing an array (or a list) of the index values that we want to retrieve!"
   ]
  },
  {
   "cell_type": "code",
   "execution_count": null,
   "id": "b919ba08",
   "metadata": {},
   "outputs": [],
   "source": [
    "my_vect = np.random.normal(0, 10, 4)\n",
    "my_vect[[0, 1]]"
   ]
  },
  {
   "cell_type": "markdown",
   "id": "c2a79972",
   "metadata": {},
   "source": [
    "### Boolean indexing"
   ]
  },
  {
   "cell_type": "markdown",
   "id": "4c68931b",
   "metadata": {},
   "source": [
    "Alternatively, we can use arrays of boolean values (with the same shape of the `np.array`)"
   ]
  },
  {
   "cell_type": "code",
   "execution_count": null,
   "id": "0ff5256c",
   "metadata": {},
   "outputs": [],
   "source": [
    "my_vect = np.random.normal(0, 10, (10))\n",
    "thr = 5\n",
    "boolean_selector = my_vect > thr\n",
    "\n",
    "\n",
    "my_vect[boolean_selector]  # will select only values above 5"
   ]
  },
  {
   "cell_type": "markdown",
   "id": "ac025c36",
   "metadata": {},
   "source": [
    "### Indexing for multiple dimensions"
   ]
  },
  {
   "cell_type": "markdown",
   "id": "ccbd5b3c",
   "metadata": {},
   "source": [
    "We can index over multiple dimensions specifying **comma-separated** indexes along each dimension:"
   ]
  },
  {
   "cell_type": "code",
   "execution_count": null,
   "id": "8c388453",
   "metadata": {},
   "outputs": [],
   "source": [
    "my_mat = np.array([[1,   2,  3,  4, 5],\n",
    "                   [6,   7,  8,  9, 10],\n",
    "                   [11, 12, 13, 14, 15]])\n",
    "\n",
    "my_mat[2, :] \n",
    "\n",
    "my_mat[2]  # the same as writing my_mat[2, :], but discouraged!"
   ]
  },
  {
   "cell_type": "markdown",
   "id": "3cb1dadb",
   "metadata": {},
   "source": [
    "We can use boolean selectors for an axis, as long as the dimension matches:"
   ]
  },
  {
   "cell_type": "code",
   "execution_count": null,
   "id": "5e4c3330",
   "metadata": {},
   "outputs": [],
   "source": [
    "my_mat.shape"
   ]
  },
  {
   "cell_type": "code",
   "execution_count": null,
   "id": "ebfe84fa",
   "metadata": {},
   "outputs": [],
   "source": [
    "selector = np.array([True, False, False])\n",
    "my_mat[selector, :]"
   ]
  },
  {
   "cell_type": "markdown",
   "id": "8c2653aa",
   "metadata": {},
   "source": [
    "In this way, we can check for boolean conditions on the matrix:"
   ]
  },
  {
   "cell_type": "code",
   "execution_count": null,
   "id": "b0d127aa",
   "metadata": {},
   "outputs": [],
   "source": [
    "my_mat = np.array([[1,   2,  3,  4, 5],\n",
    "                   [6,   7,  8,  9, 10],\n",
    "                   [11, 12, 13, 14, 15]])\n",
    "\n",
    "my_mat[my_mat > 5]"
   ]
  },
  {
   "cell_type": "markdown",
   "id": "235c14f0",
   "metadata": {},
   "source": [
    "this will change the shape of the output!"
   ]
  },
  {
   "cell_type": "markdown",
   "id": "25ecf9c7",
   "metadata": {},
   "source": [
    "### Mind singleton dimensions!"
   ]
  },
  {
   "cell_type": "markdown",
   "id": "97a686ec",
   "metadata": {},
   "source": [
    "Arrays can have singleton dimensions - _i.e._ dimensions along which there is a single entry:"
   ]
  },
  {
   "cell_type": "code",
   "execution_count": null,
   "id": "5568dca5",
   "metadata": {},
   "outputs": [],
   "source": [
    "my_arr = np.zeros(4)  # this is a 1D array\n",
    "\n",
    "print(f\"{my_arr}; shape: {my_arr.shape}\")"
   ]
  },
  {
   "cell_type": "code",
   "execution_count": null,
   "id": "dffa006c",
   "metadata": {},
   "outputs": [],
   "source": [
    "my_arr_1 = np.zeros((1,4))  # this is a 2D array with a singleton dimension!\n",
    "print(f\"{my_arr}; shape: {my_arr.shape}\")"
   ]
  },
  {
   "cell_type": "markdown",
   "id": "43480c19",
   "metadata": {},
   "source": [
    "Sometimes, it can be useful to quickly add a singleton dimension:"
   ]
  },
  {
   "cell_type": "code",
   "execution_count": null,
   "id": "009690b0",
   "metadata": {},
   "outputs": [],
   "source": [
    "my_arr = np.zeros(4)  # 1D array\n",
    "\n",
    "# With this special indexing, we artificially add a singleton dimension on first dim:\n",
    "my_arr = my_arr[:, np.newaxis]  \n",
    "\n",
    "print(f\"{my_arr}; shape: {my_arr.shape}\")"
   ]
  },
  {
   "cell_type": "markdown",
   "id": "c9218f50",
   "metadata": {},
   "source": [
    "An alternative way of achieving the same with a function is `np.expand_dims()`:"
   ]
  },
  {
   "cell_type": "code",
   "execution_count": null,
   "id": "3956692e",
   "metadata": {},
   "outputs": [],
   "source": [
    "import numpy as np\n",
    "my_arr = np.zeros(4)  # 1D array\n",
    "\n",
    "my_arr = np.expand_dims(my_arr, 0)\n",
    "\n",
    "print(f\"{my_arr}; shape: {my_arr.shape}\")"
   ]
  },
  {
   "cell_type": "markdown",
   "id": "23367af6",
   "metadata": {},
   "source": [
    "## array views"
   ]
  },
  {
   "cell_type": "markdown",
   "id": "8f1f1960",
   "metadata": {},
   "source": [
    "Indexing operations return views on the original arrays, NOT COPIES! Changing values in the slice we will also alter the original array!"
   ]
  },
  {
   "cell_type": "code",
   "execution_count": null,
   "id": "1d84b0fc",
   "metadata": {},
   "outputs": [],
   "source": [
    "my_mat = np.array([[1,   2,  3,  4, 5],\n",
    "                   [6,   7,  8,  9, 10],\n",
    "                   [11, 12, 13, 14, 15]])\n",
    "\n",
    "a_slice = my_mat[2, :]\n",
    "\n",
    "a_slice[0] = 2000  # change the entry unless we use the .copy()\n"
   ]
  },
  {
   "cell_type": "markdown",
   "id": "9e5895f8",
   "metadata": {},
   "source": [
    "(Practicals 1.0.1)"
   ]
  },
  {
   "cell_type": "markdown",
   "id": "25af4d78",
   "metadata": {},
   "source": [
    "## Transforming and combining arrays"
   ]
  },
  {
   "cell_type": "markdown",
   "id": "c13fc91a",
   "metadata": {},
   "source": [
    "### `.T`"
   ]
  },
  {
   "cell_type": "markdown",
   "id": "f6eba3f5",
   "metadata": {},
   "source": [
    "We can have a transposed view of a matrix with the `.T` attribute (this will reverse the dimensions order if `n_dims>2`):"
   ]
  },
  {
   "cell_type": "code",
   "execution_count": null,
   "id": "3f81260f",
   "metadata": {},
   "outputs": [],
   "source": [
    "m = np.ones((3,2))\n",
    "m_t = m.T\n",
    "\n",
    "print(m.shape, m_t.shape)"
   ]
  },
  {
   "cell_type": "markdown",
   "id": "2abd3f73",
   "metadata": {},
   "source": [
    "### `.flatten()`"
   ]
  },
  {
   "cell_type": "markdown",
   "id": "a8eece46",
   "metadata": {},
   "source": [
    "We can flatten all values of an N-dimensional array into a 1D array with the `.flatten()` syntax. This will make a copy of the array!"
   ]
  },
  {
   "cell_type": "code",
   "execution_count": null,
   "id": "17f26b2c",
   "metadata": {},
   "outputs": [],
   "source": [
    "m = np.ones((3,2,3))\n",
    "m_flat = m.flatten()\n",
    "\n",
    "print(m.shape, m_flat.shape)\n",
    "m_flat"
   ]
  },
  {
   "cell_type": "markdown",
   "id": "6f895b43",
   "metadata": {},
   "source": [
    "### `np.concatenate()`"
   ]
  },
  {
   "cell_type": "markdown",
   "id": "cf796918",
   "metadata": {},
   "source": [
    "We can concatenate arrays along any dimension by putting them in a list and pass the list to the `np.concatenate()` function:"
   ]
  },
  {
   "cell_type": "code",
   "execution_count": null,
   "id": "d000d326",
   "metadata": {},
   "outputs": [],
   "source": [
    "arr_list = [np.zeros(3), np.ones(3)]\n",
    "\n",
    "np.concatenate(arr_list) "
   ]
  },
  {
   "cell_type": "markdown",
   "id": "2cf30e5c",
   "metadata": {},
   "source": [
    "By default, we concatenate over the first dimension:"
   ]
  },
  {
   "cell_type": "code",
   "execution_count": null,
   "id": "0ad897fe",
   "metadata": {},
   "outputs": [],
   "source": [
    "arr_list = [np.zeros((3,2)), np.ones((3,2))]\n",
    "arr_list\n",
    "\n",
    "np.concatenate(arr_list)  # if ndims > 1 by default we concatenate over the first dimension"
   ]
  },
  {
   "cell_type": "markdown",
   "id": "afcf316a",
   "metadata": {},
   "source": [
    "but we can pass an `axis` argument to change the default behavior:"
   ]
  },
  {
   "cell_type": "code",
   "execution_count": null,
   "id": "0cffde82",
   "metadata": {},
   "outputs": [],
   "source": [
    "arr_list = [np.zeros((3,2)), np.ones((3,2))]\n",
    "\n",
    "np.concatenate(arr_list, axis=1) "
   ]
  },
  {
   "cell_type": "markdown",
   "id": "ec1b45ef",
   "metadata": {},
   "source": [
    "### `np.stack()`"
   ]
  },
  {
   "cell_type": "markdown",
   "id": "fd09cca0",
   "metadata": {},
   "source": [
    "We can pile up arrays over a new dimension with  `np.stack()`:"
   ]
  },
  {
   "cell_type": "code",
   "execution_count": null,
   "id": "5c079461",
   "metadata": {},
   "outputs": [],
   "source": [
    "arr_list = [np.zeros((3, 2)), np.ones((3, 2))]\n",
    "\n",
    "np.stack(arr_list).shape"
   ]
  },
  {
   "cell_type": "markdown",
   "id": "0ac9540d",
   "metadata": {},
   "source": [
    "## Array operations"
   ]
  },
  {
   "cell_type": "markdown",
   "id": "3347af5c",
   "metadata": {},
   "source": [
    "We obviously want to do some operations with those arrays!"
   ]
  },
  {
   "cell_type": "markdown",
   "id": "9f174807",
   "metadata": {},
   "source": [
    "### Operations with numbers"
   ]
  },
  {
   "cell_type": "markdown",
   "id": "8f022018",
   "metadata": {},
   "source": [
    "Operations with arrays are **by default element-wise**!"
   ]
  },
  {
   "cell_type": "markdown",
   "id": "621cdca1",
   "metadata": {},
   "source": [
    "Sum / subtraction / multiplication / division apply to individual entries of the array:"
   ]
  },
  {
   "cell_type": "code",
   "execution_count": null,
   "id": "235c1b07",
   "metadata": {},
   "outputs": [],
   "source": [
    "np.ones(3) + 1"
   ]
  },
  {
   "cell_type": "code",
   "execution_count": null,
   "id": "47cea6e6",
   "metadata": {},
   "outputs": [],
   "source": [
    "my_arr = np.ones((4,3))\n",
    "my_arr[0, :] *= 100\n",
    "my_arr"
   ]
  },
  {
   "cell_type": "markdown",
   "id": "c8a487de",
   "metadata": {},
   "source": [
    "Exponentiation also works element-wise:"
   ]
  },
  {
   "cell_type": "code",
   "execution_count": null,
   "id": "3527a015",
   "metadata": {},
   "outputs": [],
   "source": [
    "np.array((1,2,3))**3"
   ]
  },
  {
   "cell_type": "markdown",
   "id": "962c5c09",
   "metadata": {},
   "source": [
    "### Operations between arrays"
   ]
  },
  {
   "cell_type": "markdown",
   "id": "fe14e1fc",
   "metadata": {},
   "source": [
    "`numpy` works element-wise also when operating between arrays:"
   ]
  },
  {
   "cell_type": "code",
   "execution_count": null,
   "id": "41326888",
   "metadata": {},
   "outputs": [],
   "source": [
    "arr_1 = np.array([[1,2],\n",
    "                  [3,4]])\n",
    "\n",
    "arr_2 = np.array([[0,0],\n",
    "                  [0,2]])\n",
    "\n",
    "arr_1 * arr_2"
   ]
  },
  {
   "cell_type": "code",
   "execution_count": null,
   "id": "bff59d1a",
   "metadata": {},
   "outputs": [],
   "source": [
    "arr_1 ** arr_2"
   ]
  },
  {
   "cell_type": "markdown",
   "id": "c9335267",
   "metadata": {},
   "source": [
    "Therefore, we normally expect arrays of matching shapes, or we get a `ValueError`!"
   ]
  },
  {
   "cell_type": "code",
   "execution_count": null,
   "id": "a32540cf",
   "metadata": {},
   "outputs": [],
   "source": [
    "np.ones((2, 3)) * np.ones((4, 5))"
   ]
  },
  {
   "cell_type": "markdown",
   "id": "13fd963f",
   "metadata": {},
   "source": [
    "### Broadcasting"
   ]
  },
  {
   "cell_type": "markdown",
   "id": "692edac2",
   "metadata": {},
   "source": [
    "`numpy` has a smart way of dealing with some scenarios of non-matching dimensions, and we should use it!"
   ]
  },
  {
   "cell_type": "markdown",
   "id": "67687757",
   "metadata": {},
   "source": [
    "Can be a bit tricky at the beginning, but it is very important: we can write very efficient and readable code with it!"
   ]
  },
  {
   "cell_type": "code",
   "execution_count": null,
   "id": "0a63614f",
   "metadata": {},
   "outputs": [],
   "source": [
    "# Assume we have a matrix of data:\n",
    "a = np.array([[ 0.0,  0.0,  0.0],\n",
    "               [10.0, 10.0, 10.0],\n",
    "               [20.0, 20.0, 20.0],\n",
    "               [30.0, 30.0, 30.0]])\n",
    "\n",
    "a.shape"
   ]
  },
  {
   "cell_type": "code",
   "execution_count": null,
   "id": "d26f1a29",
   "metadata": {},
   "outputs": [],
   "source": [
    "b = np.array([1.0, 2.0, 3.0])  # we want to add an offset from each column\n",
    "b + a"
   ]
  },
  {
   "cell_type": "markdown",
   "id": "4dc85980",
   "metadata": {},
   "source": [
    "### What is happening?"
   ]
  },
  {
   "cell_type": "markdown",
   "id": "04b925c2",
   "metadata": {},
   "source": [
    "Numpy automatically infer missing values to create arrays of matching shape, where it can the operate element-wise!"
   ]
  },
  {
   "cell_type": "markdown",
   "id": "ebe2bb1c",
   "metadata": {},
   "source": [
    "![Alt Text](https://numpy.org/doc/stable/_images/broadcasting_2.png)"
   ]
  },
  {
   "cell_type": "markdown",
   "id": "c03397ad",
   "metadata": {},
   "source": [
    "## How does broadcasting work"
   ]
  },
  {
   "cell_type": "markdown",
   "id": "70f356d3",
   "metadata": {},
   "source": [
    "When operating on two arrays, NumPy compares their shapes. It starts **with the trailing** (i.e. rightmost) dimension and works its way left. \n",
    "\n",
    "Two dimensions are compatible when:\n",
    "\n",
    " - they are equal, or\n",
    " - one of them is 1."
   ]
  },
  {
   "cell_type": "markdown",
   "id": "17bb7075",
   "metadata": {},
   "source": [
    "![Alt Text](https://i0.wp.com/andrewm4894.com/wp-content/uploads/2020/10/Annotation-2020-10-15-133235.jpg?w=486&ssl=1)"
   ]
  },
  {
   "cell_type": "markdown",
   "id": "a5e5dd20",
   "metadata": {},
   "source": [
    "In our case:"
   ]
  },
  {
   "cell_type": "code",
   "execution_count": null,
   "id": "ea8e1c7a",
   "metadata": {},
   "outputs": [],
   "source": [
    "print(f\"shape a: {a.shape}\")\n",
    "print(f\"shape b: {b.shape}\")"
   ]
  },
  {
   "cell_type": "markdown",
   "id": "129e59f5",
   "metadata": {},
   "source": [
    "Shape b matches shape a over the last dimension, and is propagated over the rest of the dimensions"
   ]
  },
  {
   "cell_type": "markdown",
   "id": "8449c080",
   "metadata": {},
   "source": [
    "For example, this operation will not work!"
   ]
  },
  {
   "cell_type": "code",
   "execution_count": null,
   "id": "a4324f0c",
   "metadata": {},
   "outputs": [],
   "source": [
    "a = np.ones((5,4,3))\n",
    "\n",
    "b = np.ones((4,3))"
   ]
  },
  {
   "cell_type": "markdown",
   "id": "cece27c9",
   "metadata": {},
   "source": [
    "Practicals 1.0.2"
   ]
  },
  {
   "cell_type": "code",
   "execution_count": null,
   "id": "71cb9877",
   "metadata": {},
   "outputs": [],
   "source": []
  }
 ],
 "metadata": {
  "celltoolbar": "Slideshow",
  "kernelspec": {
   "display_name": "Python 3 (ipykernel)",
   "language": "python",
   "name": "python3"
  },
  "language_info": {
   "codemirror_mode": {
    "name": "ipython",
    "version": 3
   },
   "file_extension": ".py",
   "mimetype": "text/x-python",
   "name": "python",
   "nbconvert_exporter": "python",
   "pygments_lexer": "ipython3"
  }
 },
 "nbformat": 4,
 "nbformat_minor": 5
}
