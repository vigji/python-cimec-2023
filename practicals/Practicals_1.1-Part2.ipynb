{
 "cells": [
  {
   "cell_type": "markdown",
   "id": "03a44e75",
   "metadata": {},
   "source": [
    "# Practicals for lecture 1.1 - Part2\n",
    "\n",
    "[![Open In Colab](https://colab.research.google.com/assets/colab-badge.svg)](https://colab.research.google.com/github/vigji/python-cimec/blob/main/practicals/Practicals_1.1-Part2.ipynb)"
   ]
  },
  {
   "cell_type": "markdown",
   "id": "2d2a4f38",
   "metadata": {},
   "source": [
    "## More on `numpy`"
   ]
  },
  {
   "cell_type": "code",
   "execution_count": null,
   "id": "8fd90380",
   "metadata": {},
   "outputs": [],
   "source": [
    "from matplotlib import pyplot as plt\n",
    "import numpy as np"
   ]
  },
  {
   "cell_type": "markdown",
   "id": "3f899850",
   "metadata": {},
   "source": [
    "#### 1.1.1 Vectorizations and indexing"
   ]
  },
  {
   "cell_type": "code",
   "execution_count": null,
   "id": "085aecbf",
   "metadata": {},
   "outputs": [],
   "source": [
    "import requests\n",
    "import json\n",
    "\n",
    "def download_meteo_data(start_date=\"2022-01-01\", end_date=\"2022-12-31\",\n",
    "                        latitude=\"45.88204\", longitude=\"11.03647\",\n",
    "                        data=\"temperature_2m\"):\n",
    "    \"\"\"Download meteo historical data from open-meteo.com.\n",
    "    \n",
    "    Parameters\n",
    "    ----------\n",
    "        start_date : str\n",
    "            Beginning of time series.\n",
    "            \n",
    "        end_date : str\n",
    "            End of time series.\n",
    "            \n",
    "        latitude : float\n",
    "            Latitude of the time series.\n",
    "            \n",
    "        longitude : float\n",
    "            Longitude of the time series.\n",
    "            \n",
    "        data : str\n",
    "            Data to download. One of \"temperature_2m\", \"relativehumidity_2m\",\n",
    "            \"precipitation\", \"snowfall\", \"windspeed_10m\".\n",
    "            \n",
    "    Returns\n",
    "    -------\n",
    "        np.array\n",
    "            1D array of timestamps\n",
    "        np.array\n",
    "            1D array of data, sampled every hour (24 points per day)\n",
    "\n",
    "    \"\"\"\n",
    "    BASE_URL = \"https://archive-api.open-meteo.com/v1/\"\n",
    "    query = f\"archive?latitude={latitude}&longitude={longitude}&start_date={start_date}&end_date={end_date}&hourly={data}\"\n",
    "\n",
    "    r = requests.get(BASE_URL + query)\n",
    "    json_dict = json.loads(r.text)\n",
    "    \n",
    "    if \"hourly\" not in json_dict.keys():\n",
    "        print(json_dict)\n",
    "        return None, None\n",
    "    else:\n",
    "        return (np.array(json_dict[\"hourly\"][k]) for k in [\"time\", data])\n",
    "\n",
    "\n",
    "tststamps_array, temp_array = download_meteo_data()\n",
    "# Reshape the array to be a matrix of shape (n_days, n_hours). \n",
    "n_days = 365\n",
    "n_hours = 24\n",
    "\n",
    "temp_matrix = np.reshape(temp_array, (n_days, n_hours))"
   ]
  },
  {
   "cell_type": "code",
   "execution_count": null,
   "id": "b9f1f2f9",
   "metadata": {},
   "outputs": [],
   "source": [
    "# Let's have a look at daily excursions instead of absolute temperatures!\n",
    "\n",
    "# Write a function that takes as input a matrix and subtracts from each row \n",
    "# the minimum value of that row, in a loop. \n",
    "# Make sure you do not change the original matrix when running the function!\n"
   ]
  },
  {
   "cell_type": "code",
   "execution_count": null,
   "id": "c530fb9b",
   "metadata": {},
   "outputs": [],
   "source": [
    "# Now, write a second function that does the same in a single vector operation:\n"
   ]
  },
  {
   "cell_type": "code",
   "execution_count": null,
   "id": "0a6b7dc4",
   "metadata": {},
   "outputs": [],
   "source": [
    "# Then, test it over the temperature data matrix. Use plt.matshow to visualize it before and after\n",
    "# the offset subtraction:\n"
   ]
  },
  {
   "cell_type": "code",
   "execution_count": null,
   "id": "e47745cd",
   "metadata": {},
   "outputs": [],
   "source": [
    "# use np.argmax over temp_matrix to find the index of the warmest hour of 2022.\n",
    "# Then, unravel the index to know which day and which hour of the day it was!\n"
   ]
  },
  {
   "cell_type": "code",
   "execution_count": null,
   "id": "a5b6b635",
   "metadata": {},
   "outputs": [],
   "source": [
    "# We can use the index we find over one array to index a different array.\n",
    "\n",
    "# Use argmax to find the index of the warmest hour in the (non-reshaped) temp_array.\n",
    "# Then, use the index over tststamps_array to read out the corresponding timestamp.\n",
    "# check that it matches your result from the previous exercise!\n"
   ]
  },
  {
   "cell_type": "code",
   "execution_count": null,
   "id": "3cc443c1",
   "metadata": {},
   "outputs": [],
   "source": [
    "# (Optional: we did not do this in class!)\n",
    "# We can use the np.argsort() function to produce the indexes array required to\n",
    "# order an array in ascending or descending values.\n",
    "\n",
    "# For example:\n",
    "random_arr = np.array([0.1, 5, 3.4, 2.3])\n",
    "ordering_idxs = np.argsort(random_arr)\n",
    "random_arr[ordering_idxs]  # with this index, this is now ordered!"
   ]
  },
  {
   "cell_type": "code",
   "execution_count": null,
   "id": "962079b2",
   "metadata": {},
   "outputs": [],
   "source": [
    "# Let's make a ranking of the 5 warmest hours of 2022! \n",
    "# Sort the (non-reshaped) temperature array using the indexes produced by np.argsort.\n",
    "# so that the first elements are the highest temperatures.\n",
    "# Then sort the imestamps array with the same indexes, and take the first 5.\n",
    "#\n",
    "# Double check you with the result that you have got in the exercises above!\n",
    "\n"
   ]
  },
  {
   "cell_type": "code",
   "execution_count": null,
   "id": "420e25ea",
   "metadata": {},
   "outputs": [],
   "source": []
  }
 ],
 "metadata": {
  "kernelspec": {
   "display_name": "Python 3 (ipykernel)",
   "language": "python",
   "name": "python3"
  },
  "language_info": {
   "codemirror_mode": {
    "name": "ipython",
    "version": 3
   },
   "file_extension": ".py",
   "mimetype": "text/x-python",
   "name": "python",
   "nbconvert_exporter": "python",
   "pygments_lexer": "ipython3"
  }
 },
 "nbformat": 4,
 "nbformat_minor": 5
}
