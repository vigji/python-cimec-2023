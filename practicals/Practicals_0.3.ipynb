{
 "cells": [
  {
   "cell_type": "markdown",
   "id": "03a44e75",
   "metadata": {},
   "source": [
    "# Practicals for lecture 0.3\n",
    "\n",
    "[![Open In Colab](https://colab.research.google.com/assets/colab-badge.svg)](https://colab.research.google.com/github/vigji/python-cimec/blob/main/practicals/Practicals_0.3.ipynb)"
   ]
  },
  {
   "cell_type": "markdown",
   "id": "2d2a4f38",
   "metadata": {},
   "source": [
    "## Control structures"
   ]
  },
  {
   "cell_type": "markdown",
   "id": "99d801e0",
   "metadata": {},
   "source": [
    "#### 0.3.0 Boolean logic / Try - except"
   ]
  },
  {
   "cell_type": "code",
   "execution_count": null,
   "id": "e35ad03a",
   "metadata": {},
   "outputs": [],
   "source": [
    "# Consider the following expression:\n",
    "a = 0.5\n",
    "b = False\n",
    "print(a > 1 and b)\n",
    "\n",
    "# Make sure you understand the execution order. Can you make the result True just by adding brackets\n",
    "# to change the execution order?\n",
    "print(a > (1 and b))"
   ]
  },
  {
   "cell_type": "code",
   "execution_count": null,
   "id": "9e190e94",
   "metadata": {},
   "outputs": [],
   "source": [
    "# Use a try-except statement that takes an input_string, makes it uppercase, and assign the result\n",
    "# to a new variable uppercase_string.\n",
    "\n",
    "# If something happens (e.g. the input variable is an int), make the uppercase_string variable a None.\n",
    "\n",
    "# Finally, if uppercase_string is not None, print out \"Everything went smoothly!\"\n",
    "\n",
    "input_string = \"Some text\"\n",
    "\n",
    "try:\n",
    "    uppercase_string = input_string.upper()\n",
    "except AttributeError:\n",
    "    uppercase_string = None\n",
    "\n",
    "if uppercase_string is not None:\n",
    "    print(\"Everything went smoothly!\")"
   ]
  },
  {
   "cell_type": "markdown",
   "id": "290245a9",
   "metadata": {},
   "source": [
    "#### 0.3.1 Functions"
   ]
  },
  {
   "cell_type": "code",
   "execution_count": null,
   "id": "a1e0f179",
   "metadata": {},
   "outputs": [],
   "source": [
    "# Write a function that calculates the perimeter of an arbitrary polygon!\n",
    "# We can describe any polygon with a list of the coordinates of its vertices.\n",
    "\n",
    "# Write a function that takes as input a list of coordinates (each element\n",
    "# should be a list - or tuple! - containing two numbers, position over x and y),\n",
    "# and returns the perimeter of the polygon described by those vertices!\n",
    "\n",
    "# Test it on a simple shape like a square to check if the solution is correct.\n",
    "\n",
    "coordinates = [(0, 0), (1, 0), (1, 1), (0, 1), (0, 0)]\n",
    "\n",
    "\n",
    "def pairwise_distance(point1, point2):\n",
    "    \"\"\"Compute the distance between pairs of 2D coordinates.\"\"\"\n",
    "    distance = ((point1[0] - point2[0]) ** 2 + (point1[1] - point2[1]) ** 2) ** (1 / 2)\n",
    "\n",
    "    return distance\n",
    "\n",
    "\n",
    "def polygon_perimeter(coordinates):\n",
    "    \"\"\"Compute the perimeter of a polygon.\"\"\"\n",
    "    pairwise_distances = []\n",
    "    for p1, p2 in zip(coordinates[:-1], coordinates[1:]):\n",
    "        pairwise_distances.append(pairwise_distance(p1, p2))\n",
    "\n",
    "    return sum(pairwise_distances)\n",
    "\n",
    "\n",
    "polygon_perimeter(coordinates)"
   ]
  },
  {
   "cell_type": "code",
   "execution_count": null,
   "id": "25918a37",
   "metadata": {},
   "outputs": [],
   "source": [
    "# Write a function that takes as input a list, and returnes a Z-scored version of it\n",
    "# (z-scoring means trasforming so to have mean 0 and standard dev. 1).\n",
    "# Do not import functions from modules! Instead, feel free to split your code over multiple functions if\n",
    "# you think it can help:\n",
    "\n",
    "data_list = [2.1, 1.3, 4, 0.5, 2.7, 3.1]\n",
    "\n",
    "\n",
    "def mean(a_list):\n",
    "    \"\"\"Compute the mean of a list.\"\"\"\n",
    "    return sum(a_list) / len(a_list)\n",
    "\n",
    "\n",
    "def std(a_list):\n",
    "    \"\"\"Compute the standard dev of a list.\"\"\"\n",
    "    list_mean = mean(a_list)\n",
    "    return (sum([(element - list_mean) ** 2 for element in a_list]) / len(a_list)) ** (\n",
    "        1 / 2\n",
    "    )\n",
    "\n",
    "\n",
    "def z_score(a_list):\n",
    "    \"\"\"Z-score a list.\"\"\"\n",
    "    list_mean = mean(a_list)\n",
    "\n",
    "    centered_list = [element - list_mean for element in a_list]\n",
    "\n",
    "    list_std = std(a_list)\n",
    "\n",
    "    return [element / list_std for element in centered_list]\n",
    "\n",
    "\n",
    "z_score(data_list)"
   ]
  },
  {
   "cell_type": "code",
   "execution_count": null,
   "id": "ab241ffd",
   "metadata": {},
   "outputs": [],
   "source": [
    "# Write a function that takes a string as an argument, and returns a new list\n",
    "# where all words that are longer than 6 characters are replaced with \"###\".\n",
    "# Hint: remember what we did in the practical 0.1.4 to preprocess the string!\n",
    "\n",
    "# !! Important: make sure you do not change the original string when calling the function!\n",
    "\n",
    "example_input = \"Like the entomologist in search of colorful butterflies, my attention has chased in the gardens of the grey matter cells with delicate and elegant shapes, the mysterious butterflies of the soul, whose beating of wings may one day reveal to us the secrets of the mind.\"\n",
    "\n",
    "\n",
    "def redact_long_words(text):\n",
    "    \"\"\"Redact long words out of a piece of text.\n",
    "\n",
    "    Parameters:\n",
    "        text : str\n",
    "            The text to redact\n",
    "\n",
    "    Returns:\n",
    "        str : tThe redacted text\n",
    "\n",
    "    \"\"\"\n",
    "    for char_to_replace in [\" \", \"'\", \",\"]:\n",
    "        no_whitesp_text = text.replace(char_to_replace, \"\")\n",
    "\n",
    "    words_to_redact = [word for word in no_whitesp_text.split(\" \") if len(word) > 6]\n",
    "\n",
    "    redacted_text = text\n",
    "    for word in words_to_redact:\n",
    "        redacted_text = redacted_text.replace(word, \"###\")\n",
    "\n",
    "    return redacted_text\n",
    "\n",
    "\n",
    "print(f\"Original:\\n{example_input}\\nRedacted:\\n{redact_long_words(example_input)}\")"
   ]
  },
  {
   "cell_type": "code",
   "execution_count": null,
   "id": "8d1d81fa",
   "metadata": {},
   "outputs": [],
   "source": [
    "# Encapsulate the Netflix session generator from last practical (just the code to simulate a single session)\n",
    "# inside a function that takes as arguments all the parameters (probability, n. of episodes, etc)\n",
    "# and returns the number of watched episodes:\n",
    "import random\n",
    "\n",
    "\n",
    "def netflix_simulator(\n",
    "    episodes_n=15, max_score=10, crappiness_threshold=3, cliffhanger_prob=0.2\n",
    "):\n",
    "    \"\"\"Simulate a session of Netflix binging.\n",
    "\n",
    "    Parameters:\n",
    "        episodes_n : int (default=15)\n",
    "            Number of episodes in the series\n",
    "        max_score : int (default=15)\n",
    "            Max score for the episode rating\n",
    "        crappiness_threshold : int (default=15)\n",
    "            Rating threshold below which we just give up\n",
    "        cliffhanger_prob : float (default=0.2)\n",
    "            Probability of a cliffhanger\n",
    "\n",
    "    Returns:\n",
    "        int : The number of watched episodes\n",
    "\n",
    "    \"\"\"\n",
    "\n",
    "    current_episode = 0\n",
    "\n",
    "    while current_episode < episodes_n - 1:\n",
    "        cliffhanger = random.uniform(0, 1) < cliffhanger_prob\n",
    "        score = random.randint(1, max_score)\n",
    "\n",
    "        if score < crappiness_threshold and not cliffhanger:\n",
    "            break\n",
    "\n",
    "        current_episode += 1\n",
    "\n",
    "    return current_episode + 1\n",
    "\n",
    "\n",
    "netflix_simulator()"
   ]
  },
  {
   "cell_type": "code",
   "execution_count": null,
   "id": "58e9ce9d",
   "metadata": {},
   "outputs": [],
   "source": [
    "# Go over all the previously defined functions an make sure they stick to the principles we have\n",
    "# been introducing:\n",
    "#  - meaningful variable names\n",
    "#  - no magic numbers\n",
    "#  - non-duplicated, readable code\n",
    "#\n",
    "# Make also sure all functions have an informative docstring that describes parameters and output!"
   ]
  }
 ],
 "metadata": {
  "kernelspec": {
   "display_name": "Python 3 (ipykernel)",
   "language": "python",
   "name": "python3"
  },
  "language_info": {
   "codemirror_mode": {
    "name": "ipython",
    "version": 3
   },
   "file_extension": ".py",
   "mimetype": "text/x-python",
   "name": "python",
   "nbconvert_exporter": "python",
   "pygments_lexer": "ipython3"
  }
 },
 "nbformat": 4,
 "nbformat_minor": 5
}
