{
 "cells": [
  {
   "cell_type": "markdown",
   "id": "03a44e75",
   "metadata": {},
   "source": [
    "# Practicals for lecture 0.2\n",
    "\n",
    "[![Open In Colab](https://colab.research.google.com/assets/colab-badge.svg)](https://colab.research.google.com/github/vigji/python-cimec/blob/main/practicals/Practicals_0.2.ipynb)"
   ]
  },
  {
   "cell_type": "markdown",
   "id": "2d2a4f38",
   "metadata": {},
   "source": [
    "## Control structures"
   ]
  },
  {
   "cell_type": "markdown",
   "id": "99d801e0",
   "metadata": {},
   "source": [
    "#### 0.2.2 Try - except"
   ]
  },
  {
   "cell_type": "code",
   "execution_count": null,
   "id": "9e190e94",
   "metadata": {},
   "outputs": [],
   "source": [
    "# Define a simple try-except statement that takes input_string, makes it uppercase, and assign the result\n",
    "# to a new variable uppercase_string.\n",
    "\n",
    "# If something happens, e.g. the input variable is an int make the variable uppercase_string a None. \n",
    "\n",
    "# Finally, if uppercase_string is not None, print out \"Everything went smoothly!\"\n",
    "\n"
   ]
  },
  {
   "cell_type": "markdown",
   "id": "290245a9",
   "metadata": {},
   "source": [
    "#### 0.2.3 Functions"
   ]
  },
  {
   "cell_type": "code",
   "execution_count": null,
   "id": "8d1d81fa",
   "metadata": {},
   "outputs": [],
   "source": [
    "# Encapsulate the Netflix session generator (just the code to simulate a single session) \n",
    "# inside a function that takes as arguments all the parameters (probability, n. of episodes, etc)\n",
    "# and returns the number of watched episodes:\n",
    "\n"
   ]
  },
  {
   "cell_type": "code",
   "execution_count": null,
   "id": "58e9ce9d",
   "metadata": {},
   "outputs": [],
   "source": []
  }
 ],
 "metadata": {
  "kernelspec": {
   "display_name": "Python 3 (ipykernel)",
   "language": "python",
   "name": "python3"
  },
  "language_info": {
   "codemirror_mode": {
    "name": "ipython",
    "version": 3
   },
   "file_extension": ".py",
   "mimetype": "text/x-python",
   "name": "python",
   "nbconvert_exporter": "python",
   "pygments_lexer": "ipython3"
  }
 },
 "nbformat": 4,
 "nbformat_minor": 5
}
