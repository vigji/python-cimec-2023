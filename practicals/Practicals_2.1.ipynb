{
 "cells": [
  {
   "cell_type": "markdown",
   "id": "03a44e75",
   "metadata": {},
   "source": [
    "# Practicals for lecture 2.1\n",
    "\n",
    "Download this practicals file on your computer and fill it out using your local Python installation!"
   ]
  },
  {
   "cell_type": "markdown",
   "id": "2d2a4f38",
   "metadata": {},
   "source": [
    "## The `pathlib` library"
   ]
  },
  {
   "cell_type": "code",
   "execution_count": 2,
   "id": "ff2b1efb",
   "metadata": {},
   "outputs": [],
   "source": [
    "from pathlib import Path"
   ]
  },
  {
   "cell_type": "code",
   "execution_count": 4,
   "id": "7b724afc",
   "metadata": {},
   "outputs": [],
   "source": [
    "# Download the data from () and unzip it. Then, find its location on the filesystem\n",
    "# and create a Path object representing its location.\n"
   ]
  },
  {
   "cell_type": "code",
   "execution_count": 5,
   "id": "4346ba71",
   "metadata": {},
   "outputs": [],
   "source": [
    "# use Path class rglob method to create a check how many sessions you have in the dataset.\n",
    "# Create a list with all the sessions paths!\n"
   ]
  },
  {
   "cell_type": "code",
   "execution_count": 6,
   "id": "a1c6cf71",
   "metadata": {},
   "outputs": [],
   "source": [
    "# Check the number of sessions labeled ses-1:\n"
   ]
  },
  {
   "cell_type": "code",
   "execution_count": null,
   "id": "9314cdb1",
   "metadata": {},
   "outputs": [],
   "source": [
    "# Find the path of all imaging data files that are in the dataset! \n",
    "# Imaging data files have extension \".nii.gz\"\n"
   ]
  },
  {
   "cell_type": "code",
   "execution_count": null,
   "id": "48536bb1",
   "metadata": {},
   "outputs": [],
   "source": [
    "# The filename of the imaging file ends with the type of acquisition\n",
    "# in penultimate position.\n",
    "# For example, for the file \"sub-001_ses-1_acq-RARE_T2w.nii.gz\", the acquisition type is \"acq-RARE\".\n",
    "\n",
    "# Using split and sets, identify how many aquisition types are in the dataset:\n"
   ]
  },
  {
   "cell_type": "code",
   "execution_count": null,
   "id": "e9e66031",
   "metadata": {},
   "outputs": [],
   "source": [
    "# We want to create an imaging sessions DataFrame that contains a catalog of files"
   ]
  },
  {
   "cell_type": "markdown",
   "id": "9e30f3ad",
   "metadata": {},
   "source": [
    "## Imaging data"
   ]
  },
  {
   "cell_type": "code",
   "execution_count": null,
   "id": "074c324d",
   "metadata": {},
   "outputs": [],
   "source": [
    "# pip install the nibabel library.\n",
    "\n",
    "# Then, open an imaging file from the dataset using the nibabel.load function.\n",
    "# What is the type of the object you get from the function?\n",
    "\n"
   ]
  },
  {
   "cell_type": "code",
   "execution_count": 7,
   "id": "d8ead9ac",
   "metadata": {},
   "outputs": [],
   "source": [
    "# You can look at the image metadata by printing the img.header attribute.\n",
    "# Check that out!\n"
   ]
  },
  {
   "cell_type": "code",
   "execution_count": null,
   "id": "2b265e24",
   "metadata": {},
   "outputs": [],
   "source": [
    "# If we want to see the raw imaging data as a numpy array, we can use the \n",
    "# get_fdata() method of the image object. Try it out!\n"
   ]
  },
  {
   "cell_type": "code",
   "execution_count": null,
   "id": "5006cbb5",
   "metadata": {},
   "outputs": [],
   "source": [
    "# The volume has a shape of (120, 120, 48). \n",
    "# - The first dimension is the (left, right) axis\n",
    "# - the second dimension is the (anterior, posterior) axis\n",
    "# the third dimension is the (superior, inferior) axis.\n",
    "\n",
    "# Use indexing on the volume to obtain a coronal section\n",
    "# (a coronal section is a slice over the antero-posterior axis).\n",
    "# Then plot it using plt.imshow, and write in the plot the axes names!\n"
   ]
  },
  {
   "cell_type": "code",
   "execution_count": null,
   "id": "6265b33a",
   "metadata": {},
   "outputs": [],
   "source": [
    "# Use subplots and a for loop to display in the same image multiple\n",
    "# slices from the data:\n"
   ]
  }
 ],
 "metadata": {
  "kernelspec": {
   "display_name": "Python [conda env:course_env]",
   "language": "python",
   "name": "conda-env-course_env-py"
  },
  "language_info": {
   "codemirror_mode": {
    "name": "ipython",
    "version": 3
   },
   "file_extension": ".py",
   "mimetype": "text/x-python",
   "name": "python",
   "nbconvert_exporter": "python",
   "pygments_lexer": "ipython3",
   "version": "3.9.16"
  }
 },
 "nbformat": 4,
 "nbformat_minor": 5
}
