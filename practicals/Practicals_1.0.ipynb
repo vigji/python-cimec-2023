{
 "cells": [
  {
   "cell_type": "markdown",
   "id": "03a44e75",
   "metadata": {},
   "source": [
    "# Practicals for lecture 1.0\n",
    "\n",
    "[![Open In Colab](https://colab.research.google.com/assets/colab-badge.svg)](https://colab.research.google.com/github/vigji/python-cimec/blob/main/practicals/Practicals_1.0.ipynb)"
   ]
  },
  {
   "cell_type": "markdown",
   "id": "2d2a4f38",
   "metadata": {},
   "source": [
    "## Introduction to `numpy`"
   ]
  },
  {
   "cell_type": "markdown",
   "id": "99d801e0",
   "metadata": {},
   "source": [
    "#### 1.0.0 Creating numpy arrays"
   ]
  },
  {
   "cell_type": "code",
   "execution_count": null,
   "id": "004b10f6",
   "metadata": {},
   "outputs": [],
   "source": [
    "import numpy as np"
   ]
  },
  {
   "cell_type": "code",
   "execution_count": null,
   "id": "e2fe7ec1",
   "metadata": {},
   "outputs": [],
   "source": [
    "# Create a numpy array from this list:\n",
    "\n",
    "\n",
    "my_list = [3,2,4,5,6,1]"
   ]
  },
  {
   "cell_type": "code",
   "execution_count": null,
   "id": "3f63ea74",
   "metadata": {},
   "outputs": [],
   "source": [
    "# Initialize a numpy array full of zeros of shape (3, 2, 10) with np.zeros. \n",
    "# Check its `shape` attribute to make sure it is correct!\n"
   ]
  },
  {
   "cell_type": "code",
   "execution_count": null,
   "id": "8521d1e4",
   "metadata": {},
   "outputs": [],
   "source": [
    "# Initialize a numpy array full of ones of shape (3, 2, 10) with np.ones. Make it of data type np.uint16!\n"
   ]
  },
  {
   "cell_type": "code",
   "execution_count": null,
   "id": "297da17b",
   "metadata": {},
   "outputs": [],
   "source": [
    "# Initialize an array of shape (3, 2, 10) full of nans with np.full\n"
   ]
  },
  {
   "cell_type": "code",
   "execution_count": null,
   "id": "c9533e9e",
   "metadata": {},
   "outputs": [],
   "source": [
    "# Initialize an array containing all even numbers from 0 to 100\n"
   ]
  },
  {
   "cell_type": "code",
   "execution_count": null,
   "id": "784cfecb",
   "metadata": {},
   "outputs": [],
   "source": [
    "# Google (or ask chatGPT) how to use np.random to generate normally distributed values. \n",
    "# Then, create an array of normally distributed values and shape (4,5,2) called random_matrix.\n",
    "\n",
    "np.random.seed(42)  # keeping this line, we make sure the result is random but always the same when we run!\n",
    "\n",
    "random_matrix = ..."
   ]
  },
  {
   "cell_type": "markdown",
   "id": "49f6a46b",
   "metadata": {},
   "source": [
    "#### 1.0.1 Indexing and plotting"
   ]
  },
  {
   "cell_type": "code",
   "execution_count": null,
   "id": "d69d5805",
   "metadata": {},
   "outputs": [],
   "source": [
    "# use numpy indexing to address the element (0, 1) (first row, second column) from random_matrix above:\n"
   ]
  },
  {
   "cell_type": "code",
   "execution_count": null,
   "id": "5ef7da3e",
   "metadata": {},
   "outputs": [],
   "source": [
    "# use numpy indexing to select all values in the second row from random_matrix above:\n"
   ]
  },
  {
   "cell_type": "code",
   "execution_count": null,
   "id": "28c7cb46",
   "metadata": {},
   "outputs": [],
   "source": [
    "# Set to np.nan all the negative entries of the matrix below:\n",
    "np.random.seed(42)\n",
    "random_matrix = np.random.normal(0, 1, (3,2))"
   ]
  },
  {
   "cell_type": "code",
   "execution_count": null,
   "id": "887ee8a4",
   "metadata": {},
   "outputs": [],
   "source": [
    "# Images are just matrices! This is one of the reasons working with matrices is so important!\n",
    "# (Usually images are H x W x 3 arrays, with the third dimension storing the values\n",
    "# for each of the RGB channels. Here the image will be grayscale and only 2D).\n",
    "\n",
    "# Use the function below to download an image, and print the shape of the array to know the number of pixels. \n",
    "# Then, use plt.matshow to visualize it.\n",
    "\n",
    "def fetch_image():\n",
    "    \"\"\"Fetch exercise data from github repo. \n",
    "    \n",
    "    Returns:\n",
    "        np.ndarray\n",
    "            Array with the exercise data.\n",
    "    \n",
    "    \"\"\"\n",
    "    \n",
    "    # You should never import stuff in a function! I'm doing it here\n",
    "    # just to keep together all the code that you don't really need to read now.\n",
    "    import numpy as np\n",
    "    import requests\n",
    "    from io import BytesIO\n",
    "\n",
    "    # URL of the .npy file on GitHub:\n",
    "    URL = \"https://github.com/vigji/python-cimec/raw/main/practicals/data/corrupted_img.npy\"\n",
    "\n",
    "    response = requests.get(URL)\n",
    "    \n",
    "    return np.load(io.BytesIO(response.content))\n",
    "\n",
    "\n",
    "# Tip 1: remember to import matplotlib.pyplot first - and give it an alias! (\"import ... as ...\")\n",
    "# Tip 2: to make the image grayscale, you can pass the cmap=\"gray\" argument to the matshow() function!\n"
   ]
  },
  {
   "cell_type": "code",
   "execution_count": null,
   "id": "990166f6",
   "metadata": {},
   "outputs": [],
   "source": [
    "# It looks like the image got corrupted with some noise! \n",
    "# To understand the noise pattern, you can try to look closer to it.\n",
    "# Zoom in the image: plot it again, but selecting a small region using indexing \n",
    "# (e.g., im_corr[10:80, 70:130])\n"
   ]
  },
  {
   "cell_type": "code",
   "execution_count": null,
   "id": "7257dac4",
   "metadata": {},
   "outputs": [],
   "source": [
    "# Can you understand what is going on? Can you think of an indexing strategy \n",
    "# that would filter out the noise? (e.g., excluding some entries...)\n",
    "# Try to retrieve the uncorrupted image with an indexing operation, and plot it!\n"
   ]
  },
  {
   "cell_type": "code",
   "execution_count": null,
   "id": "51334bba",
   "metadata": {},
   "outputs": [],
   "source": []
  },
  {
   "cell_type": "markdown",
   "id": "16bc606c",
   "metadata": {},
   "source": [
    "#### 1.0.2 Operations with arrays"
   ]
  },
  {
   "cell_type": "code",
   "execution_count": null,
   "id": "f99ff9b6",
   "metadata": {},
   "outputs": [],
   "source": [
    "# Create an array with a range of numbers from 1 to 10 (not from 0 to 9!), \n",
    "# then elevate each element to the power of 2:\n"
   ]
  },
  {
   "cell_type": "code",
   "execution_count": null,
   "id": "83effdbf",
   "metadata": {},
   "outputs": [],
   "source": [
    "# Use np.stack to create a 10*10 matrix with rows of identical values going from 0 to 9, in this way:\n",
    "\n",
    "# final_matrix = [[0,0,0,0,0,...],\n",
    "#                 [1,1,1,1,1,...],\n",
    "#                 [2,2,2,2,2,...],\n",
    "#                 [...]         ]\n",
    "\n",
    "# Hint: you can use a list comprehension to create the list of arrays to pass to np.stack!\n",
    "\n",
    "np.stack([np.ones(10)*i for i in range(9)])"
   ]
  },
  {
   "cell_type": "code",
   "execution_count": null,
   "id": "b40a36db",
   "metadata": {},
   "outputs": [],
   "source": [
    "# Try to add the following arrays of different dimensions. Can they be broadcasted?\n",
    "\n",
    "arr_a = np.array([[1,2,3], [4,5,6]])\n",
    "arr_b = np.array([2, 5])\n"
   ]
  },
  {
   "cell_type": "code",
   "execution_count": null,
   "id": "b57435ae",
   "metadata": {},
   "outputs": [],
   "source": [
    "# We can fix this!\n",
    "# Remember, to match arrays we need to have either matching dimension size, OR a dimension size of 1.\n",
    "# Currently, numpy is comparing second dimension of arr_a with first dimension of arr_b, and they do not match.\n",
    "\n",
    "# Use the syntax we have seen to add new singleton dimensions to convert arr_b to an array\n",
    "# of shape (2, 1), and then use it to try the operation again!"
   ]
  },
  {
   "cell_type": "code",
   "execution_count": null,
   "id": "6e89d0d3",
   "metadata": {},
   "outputs": [],
   "source": [
    "# Start from the matrix you downloaded with the fetch_image() function above.\n",
    "# Now use np.concatenate to repeat the matrix 2 times vertically, and 3 times horizontally.\n",
    "\n",
    "# Hint: you will have to call np.concatenate twice to do it!\n",
    "\n",
    "# Use plt.matshow() to check the result\n"
   ]
  },
  {
   "cell_type": "code",
   "execution_count": null,
   "id": "06075b65",
   "metadata": {},
   "outputs": [],
   "source": [
    "# Google (or chatGPT) how to use the np.tile function to perform the same tiling using only one operation!\n",
    "\n"
   ]
  }
 ],
 "metadata": {
  "kernelspec": {
   "display_name": "Python 3 (ipykernel)",
   "language": "python",
   "name": "python3"
  },
  "language_info": {
   "codemirror_mode": {
    "name": "ipython",
    "version": 3
   },
   "file_extension": ".py",
   "mimetype": "text/x-python",
   "name": "python",
   "nbconvert_exporter": "python",
   "pygments_lexer": "ipython3"
  }
 },
 "nbformat": 4,
 "nbformat_minor": 5
}
