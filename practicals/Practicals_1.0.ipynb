{
 "cells": [
  {
   "cell_type": "markdown",
   "id": "03a44e75",
   "metadata": {},
   "source": [
    "# Practicals for lecture 1.0\n",
    "\n",
    "[![Open In Colab](https://colab.research.google.com/assets/colab-badge.svg)](https://colab.research.google.com/github/vigji/python-cimec/blob/main/practicals/Practicals_1.0.ipynb)"
   ]
  },
  {
   "cell_type": "markdown",
   "id": "2d2a4f38",
   "metadata": {},
   "source": [
    "## Introducing `numpy`"
   ]
  },
  {
   "cell_type": "markdown",
   "id": "99d801e0",
   "metadata": {},
   "source": [
    "#### 1.0.0 Creating numpy arrays"
   ]
  },
  {
   "cell_type": "code",
   "execution_count": null,
   "id": "0054ced1",
   "metadata": {},
   "outputs": [],
   "source": [
    "import numpy as np"
   ]
  },
  {
   "cell_type": "code",
   "execution_count": null,
   "id": "f9aa18c7",
   "metadata": {},
   "outputs": [],
   "source": [
    "# Create a numpy array from this list:\n",
    "\n",
    "\n",
    "my_list = [3,2,4,5,6,1]"
   ]
  },
  {
   "cell_type": "code",
   "execution_count": null,
   "id": "f35b4128",
   "metadata": {},
   "outputs": [],
   "source": [
    "# Initialize a numpy array full of zeros of shape (3, 2, 10) with np.zeros. \n",
    "# Check its `shape` attribute to make sure it is correct!\n"
   ]
  },
  {
   "cell_type": "code",
   "execution_count": null,
   "id": "582fca8e",
   "metadata": {},
   "outputs": [],
   "source": [
    "# Initialize a numpy array full of ones of shape (3, 2, 10) with np.ones\n"
   ]
  },
  {
   "cell_type": "code",
   "execution_count": null,
   "id": "2d7fe398",
   "metadata": {},
   "outputs": [],
   "source": [
    "# Initialize an array of shape (3, 2, 10) full of nans with np.full\n"
   ]
  },
  {
   "cell_type": "code",
   "execution_count": null,
   "id": "5161ae52",
   "metadata": {},
   "outputs": [],
   "source": [
    "# Initialize an identity matrix of shape (4, 4) (1s on the diagonal, 0s outside)\n"
   ]
  },
  {
   "cell_type": "code",
   "execution_count": null,
   "id": "9218f11c",
   "metadata": {},
   "outputs": [],
   "source": [
    "# Create a random array full of integers between 0 and 3 and shape (3,4) using np.random.randint \n",
    "# and assign it to a variable called random_matrix.\n",
    "# Remember that you can check out out the documentation for this function using ?np.random.randint\n",
    "\n",
    "np.random.seed(42)  # keeping this line, we make sure the result is random but always the same when we run!\n",
    "\n",
    "random_matrix = ..."
   ]
  },
  {
   "cell_type": "markdown",
   "id": "9d492eab",
   "metadata": {},
   "source": [
    "#### 1.0.1 Indexing and plotting"
   ]
  },
  {
   "cell_type": "code",
   "execution_count": null,
   "id": "35b5a3b2",
   "metadata": {},
   "outputs": [],
   "source": [
    "# use numpy indexing to address the element (0, 1) (first row, second column) from random_matrix above:\n"
   ]
  },
  {
   "cell_type": "code",
   "execution_count": null,
   "id": "0a5cc9a6",
   "metadata": {},
   "outputs": [],
   "source": [
    "# Images are just matrices! This is one of the reasons working with matrices is so important.\n",
    "# Use the function below to download an image, and print the shape of the matrix to know the number of pixels. \n",
    "# Then, use plt.imshow to visualize it \n",
    "\n",
    "# Tip 1: remember to import matplotlib.pyplot first - and give it an alias! (\"import ... as ...\")\n",
    "# Tip 2: to make the image grayscale, you can pass the cmap=\"gray\" argument to the matshow() function!"
   ]
  },
  {
   "cell_type": "code",
   "execution_count": null,
   "id": "ed5ddf80",
   "metadata": {},
   "outputs": [],
   "source": [
    "# It looks like the image got corrupted! To understand the pattern, you can try\n",
    "# to zoom in in the image by selecting a region to plot using indexing (e.g., plt.matshow(im_corr[40:80, 70:130]))"
   ]
  },
  {
   "cell_type": "code",
   "execution_count": null,
   "id": "98022485",
   "metadata": {},
   "outputs": [],
   "source": [
    "# Can you understand what is going on? Can you think of an indexing that would fix the issue?"
   ]
  },
  {
   "cell_type": "code",
   "execution_count": null,
   "id": "fc4a5131",
   "metadata": {},
   "outputs": [],
   "source": []
  },
  {
   "cell_type": "code",
   "execution_count": null,
   "id": "50fbefda",
   "metadata": {},
   "outputs": [],
   "source": []
  },
  {
   "cell_type": "code",
   "execution_count": null,
   "id": "d46de1b9",
   "metadata": {},
   "outputs": [],
   "source": [
    "import requests\n",
    "\n",
    "im = requests.get(\"https://www.famefocus.com/wp-content/uploads/2017/05/conclusion-of-empire.jpeg\")"
   ]
  },
  {
   "cell_type": "code",
   "execution_count": null,
   "id": "8bbb32ff",
   "metadata": {},
   "outputs": [],
   "source": [
    "import requests\n",
    "from PIL import Image\n",
    "from io import BytesIO\n",
    "\n",
    "# URL of the image to download\n",
    "url = \"https://www.famefocus.com/wp-content/uploads/2017/05/conclusion-of-empire.jpeg\"\n",
    "\n",
    "# Download the image\n",
    "response = requests.get(url)\n",
    "\n",
    "# Open the image using Pillow\n",
    "img = Image.open(BytesIO(response.content))\n",
    "\n",
    "# Display the image\n",
    "im = np.array(img).mean(2).astype(np.uint8)[::3, 100:-200:3]"
   ]
  },
  {
   "cell_type": "code",
   "execution_count": null,
   "id": "1ebe3a53",
   "metadata": {},
   "outputs": [],
   "source": [
    "im_corr = np.random.randint(0, 100, [s*i for s, i in zip(im.shape, [1,2])])\n",
    "im_corr[::1, ::2] = im"
   ]
  },
  {
   "cell_type": "code",
   "execution_count": null,
   "id": "9482ccb6",
   "metadata": {},
   "outputs": [],
   "source": [
    "from matplotlib import pyplot as plt\n",
    "\n",
    "f = plt.matshow(im_corr) #[40:80, 70:130])"
   ]
  },
  {
   "cell_type": "code",
   "execution_count": null,
   "id": "3324fb9f",
   "metadata": {},
   "outputs": [],
   "source": [
    "np.save(im_corr, \".\")"
   ]
  }
 ],
 "metadata": {
  "kernelspec": {
   "display_name": "Python 3 (ipykernel)",
   "language": "python",
   "name": "python3"
  },
  "language_info": {
   "codemirror_mode": {
    "name": "ipython",
    "version": 3
   },
   "file_extension": ".py",
   "mimetype": "text/x-python",
   "name": "python",
   "nbconvert_exporter": "python",
   "pygments_lexer": "ipython3"
  }
 },
 "nbformat": 4,
 "nbformat_minor": 5
}
