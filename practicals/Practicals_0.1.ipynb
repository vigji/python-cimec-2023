{
 "cells": [
  {
   "cell_type": "markdown",
   "id": "03a44e75",
   "metadata": {},
   "source": [
    "# Practicals for lecture 0.1\n",
    "\n",
    "[![Open In Colab](https://colab.research.google.com/assets/colab-badge.svg)](https://colab.research.google.com/github/vigji/python-cimec/blob/main/practicals/Practicals_0.1.ipynb)"
   ]
  },
  {
   "cell_type": "markdown",
   "id": "5333bf92",
   "metadata": {},
   "source": [
    "## Data containers"
   ]
  },
  {
   "cell_type": "markdown",
   "id": "cefcbc31",
   "metadata": {},
   "source": [
    "#### 0.1.0 Lists"
   ]
  },
  {
   "cell_type": "code",
   "execution_count": null,
   "id": "d36921d1",
   "metadata": {},
   "outputs": [],
   "source": [
    "# Use the .split() method to create a list of words from this string:\n",
    "a_string = \"The brain is a world consisting of a number of unexplored continents and great stretches of unknown territory.\"\n",
    "\n",
    "word_list = a_string.split()\n",
    "\n",
    "# Using indexing, take one every two of the first 10 elements from this list:\n",
    "selected_elements = word_list[:10:2]\n",
    "selected_elements"
   ]
  },
  {
   "cell_type": "code",
   "execution_count": null,
   "id": "3751c1c3",
   "metadata": {},
   "outputs": [],
   "source": [
    "# Then, replace the first element of the `selected_elements` list with a new string of your choice:\n",
    "selected_elements[0] = \"new_string\""
   ]
  },
  {
   "cell_type": "code",
   "execution_count": null,
   "id": "0b479eb3",
   "metadata": {},
   "outputs": [],
   "source": [
    "# Use the .append() method to join one additional string of your choice to `selected_elements`:\n",
    "\n",
    "selected_elements.append(\"appended_string\")"
   ]
  },
  {
   "cell_type": "code",
   "execution_count": null,
   "id": "1e33e3d5",
   "metadata": {},
   "outputs": [],
   "source": [
    "# What happens if you try to .append() a list of values instead of a single value? try!\n",
    "\n",
    "# We will add a single entry in the list that is a list itself!"
   ]
  },
  {
   "cell_type": "code",
   "execution_count": null,
   "id": "4e6f5e1c",
   "metadata": {},
   "outputs": [],
   "source": [
    "# Use the correct operator to add a list of three new strings to the selected_elements list:\n",
    "\n",
    "selected_elements = selected_elements + [\"a\", \"b\", \"c\"]\n",
    "selected_elements"
   ]
  },
  {
   "cell_type": "markdown",
   "id": "d44e8874",
   "metadata": {},
   "source": [
    "#### 0.1.1 Dictionaries"
   ]
  },
  {
   "cell_type": "code",
   "execution_count": null,
   "id": "614e9c24",
   "metadata": {},
   "outputs": [],
   "source": [
    "# Take the first three elements of the word list word_list that we defined above.\n",
    "# Create a dictionary that has three entries: each entry has one of the strings in the list as key, and \n",
    "# the length of the string (calculate it with `len()`).\n",
    "# (You can use loops of you already know them - otherwise, define all entries manually)\n",
    "\n",
    "len_dict = dict()\n",
    "for word in word_list[:3]:\n",
    "    len_dict[word] = len(word)\n",
    "len_dict"
   ]
  },
  {
   "cell_type": "markdown",
   "id": "e0c52ebb",
   "metadata": {},
   "source": [
    "#### 0.1.2 Tuples"
   ]
  },
  {
   "cell_type": "code",
   "execution_count": null,
   "id": "61ae9855",
   "metadata": {},
   "outputs": [],
   "source": [
    "# Convert to a tuple the word list `word_list` defined above. \n",
    "a_tuple = tuple(word_list)\n",
    "\n",
    "# Can you change the first element of the queue? Try!\n",
    "\n",
    "a_tuple[0] = \"a\"  # will give error as tuples are not mutable!"
   ]
  },
  {
   "cell_type": "markdown",
   "id": "c7a1589a",
   "metadata": {},
   "source": [
    "#### 0.1.3 Sets"
   ]
  },
  {
   "cell_type": "code",
   "execution_count": null,
   "id": "f215b3a8",
   "metadata": {},
   "outputs": [],
   "source": [
    "# We want to know if two lists of values contain the same items. \n",
    "\n",
    "items_list1 = [20, 19, 32, 1, 3, 45, 2, 5, 4, 12, 7]\n",
    "items_list2 = [45, 2, 12, 19, 32, 4, 7, 3,  5, 1, 20]\n",
    "\n",
    "# Can we just check if the lists are the same with a `==` operation? If no, why?\n",
    "# No, as the order changes!\n",
    "\n",
    "# Try then to compare them to set before performing the comparison:\n",
    "set(items_list1) == set(items_list2)"
   ]
  },
  {
   "cell_type": "code",
   "execution_count": null,
   "id": "885efb60",
   "metadata": {},
   "outputs": [],
   "source": [
    "# Use sets operations to find the a place that might fit the preferences of Mark, Melissa and Mattew: \n",
    "mark_top_three = [\"Putipù\", \"Pizzangolo\", \"Christian\"]\n",
    "melissa_top_three = [\"Dogali\", \"Christian\", \"River\"]\n",
    "mattew_top_three = [\"Christian\", \"Putipù\", \"Pizzangolo\"]\n",
    "\n",
    "# First, convert all the lists in sets:\n",
    "mark_top_three_set = set(mark_top_three)\n",
    "melissa_top_three_set = set(melissa_top_three)\n",
    "mattew_top_three_set = set(mattew_top_three)\n",
    "\n",
    "# Then, think about the correct set operation that will give you their overlapping choices:\n",
    "\n",
    "mattew_top_three_set.intersection(melissa_top_three_set, mark_top_three_set)"
   ]
  },
  {
   "cell_type": "markdown",
   "id": "2d2a4f38",
   "metadata": {},
   "source": [
    "## Control structures"
   ]
  },
  {
   "cell_type": "markdown",
   "id": "5066fd11",
   "metadata": {},
   "source": [
    "#### 0.1.4 Conditionals with if"
   ]
  },
  {
   "cell_type": "code",
   "execution_count": null,
   "id": "01da4096",
   "metadata": {},
   "outputs": [],
   "source": [
    "# Write a program that prints if a given number is even or odd:\n",
    "\n",
    "number_to_test = 31  # change the value of this variable to test other cases\n"
   ]
  },
  {
   "cell_type": "code",
   "execution_count": null,
   "id": "7c86051e",
   "metadata": {},
   "outputs": [],
   "source": [
    "# Write a program to assign grades given a score. If the score is out of range, print an error. \n",
    "# If the score is between 0.0 and 1.0, print a grade using the following table:\n",
    "# Score Grade\n",
    "# >= 0.9 A\n",
    "# >= 0.8 B\n",
    "# >= 0.7 C\n",
    "# >= 0.6 D\n",
    "# < 0.6 F\n",
    "# If the user enters a value out of range, print a suitable error message and exit.\n",
    "\n",
    "score = 0.8  # change the value of this variable to test other cases\n"
   ]
  },
  {
   "cell_type": "code",
   "execution_count": null,
   "id": "4b06c8e4",
   "metadata": {},
   "outputs": [],
   "source": [
    "# Write code that checks out if a string is a palindrome, and if it is, prints \"{word} is palindrome!\"\n",
    "# Hint: you can revert a word with an indexing operation specifying negative steps: `[::-1]`\n",
    "\n",
    "word = \"kayak\"\n",
    "\n",
    "\n",
    "# bonus question: check out the palindromy of full sentences.\n",
    "# Remember to make them lowercase and to first remove the whitespaces.\n",
    "#         You can do this by replacing whitespaces (\" \") with no character (\"\"), \n",
    "#         using the string.replace()\n",
    "\n",
    "sentence = \"Madam in Eden, I'm Adam\"\n",
    "no_whitesp_sentence = ...\n",
    "\n",
    "if ...:"
   ]
  },
  {
   "cell_type": "markdown",
   "id": "8bc85d05",
   "metadata": {},
   "source": [
    "#### 0.1.5 Iterations with for"
   ]
  },
  {
   "cell_type": "code",
   "execution_count": null,
   "id": "1e1d414f",
   "metadata": {},
   "outputs": [],
   "source": [
    "# Create an empty list. Then, write a for loop to fill the list (using .append()) with numbers from 0 to 9\n",
    "# Make sure that the final list has 10 elements!\n",
    "a_list = ...\n",
    "\n",
    "# Can you do the same operation in one line with a list comprehension?\n",
    "\n",
    "a_list = [...]"
   ]
  },
  {
   "cell_type": "code",
   "execution_count": null,
   "id": "b9d71cae",
   "metadata": {},
   "outputs": [],
   "source": [
    "# Create an empty list.\n",
    "# Then, write a for loop where you iterate 3 times with the variable j, and in each iteration you \n",
    "# add to the empty list a list of 10 elements with numbers from 0 to 9 + 10*j.\n",
    "# The final result should be a list looking like this:\n",
    "# ```\n",
    "# a_list = [[0, 1, 2, ...],\n",
    "#           [10, 11, 12, ...],\n",
    "#           [20, 21, 22, ...]]\n",
    "# ```\n",
    "list_of_lists = []\n",
    "\n",
    "for j in ...:\n",
    "    ...\n",
    "\n",
    "\n",
    "\n",
    "# Then, using a for loop, compute the sum of each of the three sub-lists and append the results to a list.\n",
    "# The results list should have length 3. To sum, you can use the `sum()` function over a list.\n",
    "sums_list = []\n",
    "\n",
    "for j in ...:\n",
    "    ...\n",
    "\n",
    "\n",
    "# Can you do the same sum operations in one line using a list comprehension?\n",
    "\n"
   ]
  },
  {
   "cell_type": "code",
   "execution_count": null,
   "id": "491d3ed6",
   "metadata": {},
   "outputs": [],
   "source": [
    "# Use `enumerate()` to loop over the sums_list you just calculated, and print index and value of every element:\n",
    "\n",
    "\n",
    "# Use `zip()` to loop simultaneously over list_of_lists and sums_list, and print each of the 10-elements list\n",
    "# and their sum:\n"
   ]
  },
  {
   "cell_type": "code",
   "execution_count": null,
   "id": "b92a303f",
   "metadata": {},
   "outputs": [],
   "source": [
    "# Start from the list of words defined in the previous exercises. \n",
    "# Create again a dictionary where each word is the key, and the length of that word is the length,\n",
    "# but now in a smart way, with a for loop:\n",
    "a_dict = ...\n",
    "\n",
    "for ... in ...:\n",
    "    ...\n",
    "\n",
    "\n",
    "# Can you do it in one line with a dictionary comprehension?\n",
    "a_dict = ...\n",
    "\n"
   ]
  },
  {
   "cell_type": "code",
   "execution_count": null,
   "id": "4c07bebf",
   "metadata": {},
   "outputs": [],
   "source": [
    "# You can add a conditional inside a list/dictionary comprehension: \n",
    "# ```\n",
    "# filtered_values = [v for v in a_list if (a condition)]\n",
    "# ```\n",
    "\n",
    "# Knowing this, go through the list of word defined in Ex. 0.1 with the split, and add words to this\n",
    "# new list only if the word length is > 5:\n",
    "\n",
    "long_words = [... for ... in ... if ...]"
   ]
  }
 ],
 "metadata": {
  "kernelspec": {
   "display_name": "Python 3 (ipykernel)",
   "language": "python",
   "name": "python3"
  },
  "language_info": {
   "codemirror_mode": {
    "name": "ipython",
    "version": 3
   },
   "file_extension": ".py",
   "mimetype": "text/x-python",
   "name": "python",
   "nbconvert_exporter": "python",
   "pygments_lexer": "ipython3"
  }
 },
 "nbformat": 4,
 "nbformat_minor": 5
}
