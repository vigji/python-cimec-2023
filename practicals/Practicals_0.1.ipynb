{
 "cells": [
  {
   "cell_type": "markdown",
   "id": "03a44e75",
   "metadata": {},
   "source": [
    "# Practicals for lecture 0.1\n",
    "\n",
    "[![Open In Colab](https://colab.research.google.com/assets/colab-badge.svg)](https://colab.research.google.com/github/vigji/python-cimec/blob/main/practicals/Practicals_0.1.ipynb)"
   ]
  },
  {
   "cell_type": "markdown",
   "id": "5333bf92",
   "metadata": {},
   "source": [
    "## 0. Data containers"
   ]
  },
  {
   "cell_type": "markdown",
   "id": "cefcbc31",
   "metadata": {},
   "source": [
    "#### 0.0 Lists"
   ]
  },
  {
   "cell_type": "code",
   "execution_count": null,
   "id": "d36921d1",
   "metadata": {},
   "outputs": [],
   "source": [
    "# Use the .split() method to create a list of words from this string:\n",
    "a_string = \"The brain is a world consisting of a number of unexplored continents and great stretches of unknown territory.\"\n",
    "\n",
    "word_list = ...\n",
    "\n",
    "# Using indexing, take one every two of the first 10 elements from this list:\n",
    "selected_elements = ..."
   ]
  },
  {
   "cell_type": "code",
   "execution_count": null,
   "id": "3751c1c3",
   "metadata": {},
   "outputs": [],
   "source": [
    "# Then, replace the first element of the `selected_elements` list with a new string of your choice:\n"
   ]
  },
  {
   "cell_type": "code",
   "execution_count": null,
   "id": "0b479eb3",
   "metadata": {},
   "outputs": [],
   "source": [
    "# Use the .append() method to join one additional string of your choice to `selected_elements`:\n"
   ]
  },
  {
   "cell_type": "code",
   "execution_count": null,
   "id": "1e33e3d5",
   "metadata": {},
   "outputs": [],
   "source": [
    "# Finally, use the `.extend()` method to join 3 other strings of your choice to the list. \n",
    "# Tip: when we use `.append()`, we pass a single value to be added to the list; with `.extend()`, \n",
    "# we can pass a whole list of values!\n",
    "\n"
   ]
  },
  {
   "cell_type": "markdown",
   "id": "d44e8874",
   "metadata": {},
   "source": [
    "#### 0.1 Dictionaries"
   ]
  },
  {
   "cell_type": "code",
   "execution_count": null,
   "id": "614e9c24",
   "metadata": {},
   "outputs": [],
   "source": [
    "# Take the first three elements of the word list word_list that we defined above.\n",
    "# Create a dictionary that has three entries: each entry has one of the strings in the list as key, and \n",
    "# the length of the string (calculate it with `len()`).\n",
    "# (You can use loops of you already know them - otherwise, define all entries manually)"
   ]
  },
  {
   "cell_type": "markdown",
   "id": "e0c52ebb",
   "metadata": {},
   "source": [
    "#### 0.2 Tuples"
   ]
  },
  {
   "cell_type": "code",
   "execution_count": null,
   "id": "61ae9855",
   "metadata": {},
   "outputs": [],
   "source": [
    "# Convert to a tuple the word list `word_list` defined above. \n",
    "\n",
    "\n",
    "# Can you change the first element of the queue? Try!"
   ]
  },
  {
   "cell_type": "markdown",
   "id": "c7a1589a",
   "metadata": {},
   "source": [
    "#### 0.3 Sets"
   ]
  },
  {
   "cell_type": "code",
   "execution_count": null,
   "id": "f215b3a8",
   "metadata": {},
   "outputs": [],
   "source": [
    "# We want to know if two lists of values contain the same items. \n",
    "\n",
    "items_list1 = [20, 19, 32, 1, 3, 45, 2, 5, 4, 12, 7]\n",
    "items_list2 = [45, 2, 12, 19, 32, 4, 7, 3,  5, 1, 20]\n",
    "\n",
    "# Can we just check if the lists are the same with a `==` operation? If no, why?\n",
    "\n",
    "# Try then to compare them to set before performing the comparison:"
   ]
  },
  {
   "cell_type": "code",
   "execution_count": null,
   "id": "885efb60",
   "metadata": {},
   "outputs": [],
   "source": [
    "# Use sets operations to find the a place that might fit the preferences of Mark, Melissa and Mattew: \n",
    "mark_top_three = [\"Putipù\", \"Pizzangolo\", \"Christian\"]\n",
    "melissa_top_three = [\"Dogali\", \"Christian\", \"River\"]\n",
    "mattew_top_three = [\"Christian\", \"Putipù\", \"Pizzangolo\"]\n",
    "\n",
    "# First, convert all the lists in sets:\n",
    "\n",
    "\n",
    "# Then, think about the correct set operation that will give you their overlapping choices:\n",
    "\n"
   ]
  },
  {
   "cell_type": "markdown",
   "id": "2d2a4f38",
   "metadata": {},
   "source": [
    "## 1. Control structures"
   ]
  },
  {
   "cell_type": "markdown",
   "id": "5066fd11",
   "metadata": {},
   "source": [
    "#### 1.0 Conditionals with if"
   ]
  },
  {
   "cell_type": "code",
   "execution_count": null,
   "id": "7c86051e",
   "metadata": {},
   "outputs": [],
   "source": [
    "# Write a program to assign grades given a score. If the score is out of range, print an error. \n",
    "# If the score is between 0.0 and 1.0, print a grade using the following table:\n",
    "# Score Grade\n",
    "# >= 0.9 A\n",
    "# >= 0.8 B\n",
    "# >= 0.7 C\n",
    "# >= 0.6 D\n",
    "# < 0.6 F\n",
    "# If the user enters a value out of range, print a suitable error message and exit.\n",
    "\n",
    "score = 0.75  # change the value of this variable to test other cases\n",
    "\n"
   ]
  },
  {
   "cell_type": "code",
   "execution_count": null,
   "id": "63d9f498",
   "metadata": {},
   "outputs": [],
   "source": [
    "# Write a program that prints if a given number is even or odd:\n",
    "\n",
    "number_to_test = 31  # change the value of this variable to test other cases\n",
    "\n"
   ]
  },
  {
   "cell_type": "code",
   "execution_count": null,
   "id": "624c53ac",
   "metadata": {},
   "outputs": [],
   "source": [
    "# Write a program that prints if a word is a palindrome. \n",
    "# Hint: you can revert a word with an indexing operation specifying negative steps: `[::-1]`"
   ]
  },
  {
   "cell_type": "markdown",
   "id": "8bc85d05",
   "metadata": {},
   "source": [
    "#### 1.1 Iterations with for"
   ]
  },
  {
   "cell_type": "code",
   "execution_count": null,
   "id": "1e1d414f",
   "metadata": {},
   "outputs": [],
   "source": [
    "# Create an empty list. Then, write a for loop to fill the list (using .append()) with numbers from 0 to 9\n",
    "# Make sure that the final list has 10 elements!\n",
    "\n",
    "\n",
    "# Can you do the same operation in one line with a list comprehension?\n",
    "\n"
   ]
  },
  {
   "cell_type": "code",
   "execution_count": null,
   "id": "ed972cec",
   "metadata": {},
   "outputs": [],
   "source": [
    "[[j*10+i for i in range(10)] for j in range(3)]"
   ]
  },
  {
   "cell_type": "code",
   "execution_count": null,
   "id": "b9d71cae",
   "metadata": {},
   "outputs": [],
   "source": [
    "# Create an empty list.\n",
    "# Then, write a for loop where you iterate 3 times with the variable j, and in each iteration you \n",
    "# add to the empty list a list of 10 elements with numbers from 0 to 9 + 10*j.\n",
    "# The final result should be a list looking like this:\n",
    "# ```\n",
    "# a_list = [[0, 1, 2, ...],\n",
    "#           [10, 11, 12, ...],\n",
    "#           [20, 21, 22, ...]]\n",
    "# ```\n",
    "a_list = []\n",
    "\n",
    "for j in ...:\n",
    "    ...\n",
    "\n",
    "\n",
    "\n",
    "# Then, using a for loop, compute the sum of each of the three sub-lists and append the results to a list.\n",
    "# The results list should have length 3. To sum, you can use the `sum()` function over a list.\n",
    "\n",
    "\n",
    "# Can you do the same sum operations in one line using a list comprehension?"
   ]
  },
  {
   "cell_type": "code",
   "execution_count": null,
   "id": "b92a303f",
   "metadata": {},
   "outputs": [],
   "source": [
    "# Start from the list of words defined in the previous exercises. \n",
    "# Create again a dictionary where each word is the key, and the length of that word is the length,\n",
    "# but now in a smart way, with a for loop:\n",
    "a_dict = ...\n",
    "\n",
    "for ... in ...:\n",
    "    ...\n",
    "\n",
    "\n",
    "# Can you do it in one line with a dictionary comprehension?\n",
    "a_dict = ...\n",
    "\n"
   ]
  },
  {
   "cell_type": "code",
   "execution_count": null,
   "id": "4c07bebf",
   "metadata": {},
   "outputs": [],
   "source": [
    "# You can add a conditional inside a list/dictionary comprehension: \n",
    "# ```\n",
    "# filtered_values = [v for v in a_list if (a condition)]\n",
    "# ```\n",
    "\n",
    "# Knowing this, go through the list of word defined in Ex. 0.1 with the split, and add words to this\n",
    "# new list only if the word length is > 5:\n",
    "\n",
    "long_words = [... for ... in ... if ...]"
   ]
  },
  {
   "cell_type": "markdown",
   "id": "58874096",
   "metadata": {},
   "source": [
    "#### 1.2 Iterations with while"
   ]
  },
  {
   "cell_type": "code",
   "execution_count": null,
   "id": "5672c982",
   "metadata": {},
   "outputs": [],
   "source": [
    "# For the next exercise, we will need to generate random numbers. You can create random numbers with the \n",
    "# `random` library, after importing it (we will see import in details in the future).\n",
    "import random\n",
    "\n",
    "# To generate random integers between min_val and max_val, we can write:\n",
    "min_val = 2  # number will be >= than min\n",
    "max_val = 10  # number will be <= than max\n",
    "\n",
    "random_int = random.randint(min_val, max_val)\n",
    "print(random_int)\n",
    "\n",
    "# To generate random floats between min_val and max_val, we can write:\n",
    "random_float = random.uniform(min_val, max_val)\n",
    "print(random_float)"
   ]
  },
  {
   "cell_type": "code",
   "execution_count": null,
   "id": "d0c106bb",
   "metadata": {},
   "outputs": [],
   "source": [
    "# Try to generate a random number with uniform distribution between 0 and 1.\n",
    "# Then, use this number in a comparison so that the outcome of the comparison is True 1 every 5 times:\n",
    "random_val = ...\n",
    "\n",
    "outcome = ...  # assign to outcome the result of a comparison"
   ]
  },
  {
   "cell_type": "code",
   "execution_count": null,
   "id": "899b5706",
   "metadata": {},
   "outputs": [],
   "source": [
    "# Create a Netflix session simulator using a while loop and conditionals.\n",
    "\n",
    "# While you are in the binging stream, you \n",
    "#   1) start watching a new episode! Assign it a random rating from 1 to 10 with random.randint\n",
    "#   2) you remain in the binging loop unless it is a really crappy episode (score < 3 out of 10)\n",
    "#   3) if the episode is really crappy, but there's an big cliffhanger \n",
    "#      (probability of a cliffhanger: 1 out of 5), you keep watching anyway! \n",
    "#       Define a cliffhanger variable that is True with probability 1/5. \n",
    "#   4) You also leave the loop if you finish the series (15 episodes)\n",
    "\n",
    "# At the end, print out the number of episodes watched in a session!\n",
    "\n",
    "max_episodes = 15\n",
    "cliffhanger_prob = 1 / 5\n",
    "max_rating = 10\n",
    "crappiness_threshold = 3\n",
    "\n",
    "\n",
    "...\n",
    "\n"
   ]
  },
  {
   "cell_type": "code",
   "execution_count": null,
   "id": "64a1d43c",
   "metadata": {},
   "outputs": [],
   "source": [
    "# Use a for loop to run the simulator many times (like, 100? 1000?). \n",
    "# Each time, append to a list the result of the session (the number of episodes watched).\n",
    "\n",
    "n_simulations = 100  # increase if you like\n",
    "\n",
    "n_watched_episodes_list = []\n",
    "\n",
    "for session in range(n_simulations):\n",
    "    ...\n",
    "    \n",
    "    n_watched_episodes_list.append(...)\n",
    "    \n",
    "    \n",
    "# Then, use this results list to estimate the probability of watching \n",
    "# the whole series in one run (when watched_episodes == max_episodes)!"
   ]
  }
 ],
 "metadata": {
  "kernelspec": {
   "display_name": "Python 3 (ipykernel)",
   "language": "python",
   "name": "python3"
  },
  "language_info": {
   "codemirror_mode": {
    "name": "ipython",
    "version": 3
   },
   "file_extension": ".py",
   "mimetype": "text/x-python",
   "name": "python",
   "nbconvert_exporter": "python",
   "pygments_lexer": "ipython3"
  }
 },
 "nbformat": 4,
 "nbformat_minor": 5
}
