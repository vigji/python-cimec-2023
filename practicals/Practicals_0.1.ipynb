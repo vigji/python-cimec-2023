{
 "cells": [
  {
   "cell_type": "markdown",
   "id": "03a44e75",
   "metadata": {},
   "source": [
    "# Practicals for lecture 0.0\n",
    "\n",
    "[![Open In Colab](https://colab.research.google.com/assets/colab-badge.svg)](https://colab.research.google.com/github/vigji/python-cimec/blob/main/practicals/Practicals_0.1.ipynb)"
   ]
  },
  {
   "cell_type": "markdown",
   "id": "5333bf92",
   "metadata": {},
   "source": [
    "## Data containers"
   ]
  },
  {
   "cell_type": "markdown",
   "id": "cefcbc31",
   "metadata": {},
   "source": [
    "#### Lists"
   ]
  },
  {
   "cell_type": "code",
   "execution_count": null,
   "id": "d36921d1",
   "metadata": {},
   "outputs": [],
   "source": [
    "# Start from the list defined above.\n",
    "# Take one every two elements of the first 10 elements from that list:\n"
   ]
  },
  {
   "cell_type": "code",
   "execution_count": null,
   "id": "3751c1c3",
   "metadata": {},
   "outputs": [],
   "source": [
    "# Then, replace the first element of the list to a new string of your choice:\n"
   ]
  },
  {
   "cell_type": "code",
   "execution_count": null,
   "id": "0b479eb3",
   "metadata": {},
   "outputs": [],
   "source": [
    "# Use the .append() method to join an additional string of your choice to the list:\n"
   ]
  },
  {
   "cell_type": "code",
   "execution_count": 1,
   "id": "1e33e3d5",
   "metadata": {},
   "outputs": [],
   "source": [
    "# Finally, use the .extend() method to join 3 other strings of your choice to the list. \n",
    "# Tip: when we use .append(), we pass a single value to be added to the list; with .extend(), \n",
    "# we can pass a whole list of values!\n",
    "\n"
   ]
  },
  {
   "cell_type": "markdown",
   "id": "d44e8874",
   "metadata": {},
   "source": [
    "#### Dictionaries"
   ]
  },
  {
   "cell_type": "code",
   "execution_count": null,
   "id": "614e9c24",
   "metadata": {},
   "outputs": [],
   "source": [
    "# From the word list above create a dictionary that has as keys each one of the five words, \n",
    "# and as value the length of that word. Appreciate the uglyness of the resulting code, \n",
    "# so that you'll be more grateful for for loops when we'll get there."
   ]
  },
  {
   "cell_type": "markdown",
   "id": "e0c52ebb",
   "metadata": {},
   "source": [
    "#### Tuples"
   ]
  },
  {
   "cell_type": "code",
   "execution_count": null,
   "id": "61ae9855",
   "metadata": {},
   "outputs": [],
   "source": [
    "# Convert to a tuple the list defined above. Can you change the first element of the queue? Try!"
   ]
  },
  {
   "cell_type": "markdown",
   "id": "c7a1589a",
   "metadata": {},
   "source": [
    "#### Sets"
   ]
  },
  {
   "cell_type": "code",
   "execution_count": null,
   "id": "885efb60",
   "metadata": {},
   "outputs": [],
   "source": [
    "# Use sets operations to find the a place that might fit the preferences of Mark, Melissa and Mattew: \n",
    "mark_top_three = [\"Putipù\", \"Pizzangolo\", \"Christian\"]\n",
    "melissa_top_three = [\"Dogali\", \"Christian\", \"River\"]\n",
    "mattew_top_three = [\"Christian\", \"Putipù\", \"Pizzangolo\"]\n",
    "\n"
   ]
  },
  {
   "cell_type": "markdown",
   "id": "2d2a4f38",
   "metadata": {},
   "source": [
    "## Control structures"
   ]
  },
  {
   "cell_type": "markdown",
   "id": "5066fd11",
   "metadata": {},
   "source": [
    "#### Conditionals with if"
   ]
  },
  {
   "cell_type": "code",
   "execution_count": null,
   "id": "7c86051e",
   "metadata": {},
   "outputs": [],
   "source": [
    "# Initialize a new empty list, go through the list of word defined above with the split, and add words to this\n",
    "# new list only if the word length is > 5:\n",
    "\n"
   ]
  },
  {
   "cell_type": "code",
   "execution_count": null,
   "id": "63d9f498",
   "metadata": {},
   "outputs": [],
   "source": [
    "comparison_list = [1, 100, 5, 26, 12, 15, 6, 7, 8]\n",
    "# Using comparisons and a loop, show with booleans which values are:\n",
    "# - greater than 7\n",
    "# - less than 20\n",
    "# - equal to or less than 8\n",
    "# - equal to or more than 12.\n",
    "\n",
    "# no constraints on how to nest conditionals and loops but try be efficient!\n"
   ]
  },
  {
   "cell_type": "markdown",
   "id": "8bc85d05",
   "metadata": {},
   "source": [
    "#### Iterations with for"
   ]
  },
  {
   "cell_type": "code",
   "execution_count": null,
   "id": "b9d71cae",
   "metadata": {},
   "outputs": [],
   "source": [
    "# Using a nested for loop, create a list of 3 elements, where each element is a list of length 5\n",
    "# filled with numbers (a list of lists - can you see the similarity with a matrix?).\n",
    "# you can fill it generating random numbers between 0 and some specified number n using random.randint(0, n)\n",
    "\n",
    "# Then, using for loops, compute the sum of the nth elements across the three lists\n"
   ]
  },
  {
   "cell_type": "code",
   "execution_count": null,
   "id": "b92a303f",
   "metadata": {},
   "outputs": [],
   "source": [
    "# Start from the list of words defined in the previous exercises. \n",
    "# Create again a dictionary where each word is the key, and the length of that word is the length,\n",
    "# but now in a smart way. Do it in both a plain for loop and with a dictionary comprehension\n",
    "\n"
   ]
  },
  {
   "cell_type": "code",
   "execution_count": null,
   "id": "4c07bebf",
   "metadata": {},
   "outputs": [],
   "source": [
    "# You can add a conditional inside a list comprehension: \n",
    "# filtered_values = [v for v in a_list if (a condition)]\n",
    "\n",
    "# Knowing this, create a dictionary like in the previous exercise, but include only words with at least 6 letters"
   ]
  },
  {
   "cell_type": "markdown",
   "id": "58874096",
   "metadata": {},
   "source": [
    "#### Iterations with while"
   ]
  },
  {
   "cell_type": "code",
   "execution_count": null,
   "id": "899b5706",
   "metadata": {},
   "outputs": [],
   "source": [
    "# Create a Netflix session simulator using a while loop and conditionals.\n",
    "\n",
    "# While you are in the binging stream, you \n",
    "#   1) start watching a new episode! Assign it a random rating from 1 to 10 with random.randint\n",
    "#   2) you remain in the binging loop unless it is a really crappy episode (score < 3 out of 10)\n",
    "#   3) if the episode is really crappy, but there's an big cliffhanger \n",
    "#      (probability of a cliffhanger: 1 out of 5), you keep watching anyway\n",
    "#   4) You also leave the loop if you finish the series (15 episodes)\n",
    "\n",
    "# At the end, print out the number of episodes watched in a session!\n",
    "\n"
   ]
  },
  {
   "cell_type": "code",
   "execution_count": null,
   "id": "64a1d43c",
   "metadata": {},
   "outputs": [],
   "source": [
    "# Use a for loop to run the simulator many times, and estimate the probability of finishing the series in one run:\n",
    "\n"
   ]
  }
 ],
 "metadata": {
  "kernelspec": {
   "display_name": "Python 3 (ipykernel)",
   "language": "python",
   "name": "python3"
  },
  "language_info": {
   "codemirror_mode": {
    "name": "ipython",
    "version": 3
   },
   "file_extension": ".py",
   "mimetype": "text/x-python",
   "name": "python",
   "nbconvert_exporter": "python",
   "pygments_lexer": "ipython3",
   "version": "3.9.13"
  }
 },
 "nbformat": 4,
 "nbformat_minor": 5
}
