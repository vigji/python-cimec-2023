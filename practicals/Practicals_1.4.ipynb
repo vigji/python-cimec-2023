{
 "cells": [
  {
   "cell_type": "markdown",
   "id": "03a44e75",
   "metadata": {},
   "source": [
    "# Practicals for lecture 1.4\n",
    "\n",
    "[![Open In Colab](https://colab.research.google.com/assets/colab-badge.svg)](https://colab.research.google.com/github/vigji/python-cimec/blob/main/practicals/Practicals_1.4.ipynb)"
   ]
  },
  {
   "cell_type": "markdown",
   "id": "2d2a4f38",
   "metadata": {},
   "source": [
    "## More on `pandas`"
   ]
  },
  {
   "cell_type": "code",
   "execution_count": null,
   "id": "295a9775",
   "metadata": {},
   "outputs": [],
   "source": [
    "import numpy as np\n",
    "import pandas as pd\n",
    "from matplotlib import pyplot as plt"
   ]
  },
  {
   "cell_type": "markdown",
   "id": "f08e3124",
   "metadata": {},
   "source": [
    "#### 1.4.0 `.groupby()` and index broadcasting"
   ]
  },
  {
   "cell_type": "code",
   "execution_count": null,
   "id": "6e12fcc4",
   "metadata": {},
   "outputs": [],
   "source": [
    "# Take the meteo dataset using the function below\n",
    "def get_meteo_dataset():\n",
    "    \"\"\"Get the meteo dataset from the open-meteo API.\n",
    "    Note how easy it is to get data from the web with pandas! As long as we give the URL of the csv data, pandas can read it.\n",
    "    \"\"\"\n",
    "    np.random.seed(42)\n",
    "    URL = \"https://api.open-meteo.com/v1/forecast?latitude=52.52&longitude=13.41&hourly=temperature_2m,relativehumidity_2m,precipitation,windspeed_10m,winddirection_10m&start_date=2023-02-01&end_date=2023-05-28&format=csv\"\n",
    "    df = pd.read_csv(URL, skiprows=3)  # read the csv file, skipping the first 3 rows (a header)\n",
    "    df.columns = [col.split(\" \")[0] for col in df.columns]  # simplify column names\n",
    "    df[\"time\"] = pd.to_datetime(df[\"time\"])  # convert the time column to datetime\n",
    "    df[\"hour\"], df[\"dayofyear\"] = df[\"time\"].dt.hour, df[\"time\"].dt.dayofyear  # extract the hour and day of year\n",
    "\n",
    "    # Here we artificially corrupt some of the data to make it more interesting\n",
    "    missing_idx = np.random.choice(df.index[:1000], 100)\n",
    "    df.loc[missing_idx, :] = np.nan\n",
    "    return df\n",
    "\n",
    "# This new meteo dataset has columns for the day of the year, hour of the day, and day of the week.\n",
    "# Check out the data and make sure we don't have missing values!\n"
   ]
  },
  {
   "cell_type": "code",
   "execution_count": null,
   "id": "e6eebe25",
   "metadata": {},
   "outputs": [],
   "source": [
    "# Use the groupby method to compute the mean temperature for each hour of the day:\n"
   ]
  },
  {
   "cell_type": "code",
   "execution_count": null,
   "id": "b981630b",
   "metadata": {},
   "outputs": [],
   "source": [
    "# Using pandas index broadcasting, subtract from each day of the year the average temperature:\n"
   ]
  },
  {
   "cell_type": "markdown",
   "id": "89443646",
   "metadata": {},
   "source": [
    "#### 1.4.1 `.rolling()`"
   ]
  },
  {
   "cell_type": "code",
   "execution_count": null,
   "id": "d4cb9f4c",
   "metadata": {},
   "outputs": [],
   "source": [
    "# Use rolling to perform a moving average of the precipations in a window of 24 hours, and plot the result:\n"
   ]
  }
 ],
 "metadata": {
  "kernelspec": {
   "display_name": "Python [conda env:course_env]",
   "language": "python",
   "name": "conda-env-course_env-py"
  },
  "language_info": {
   "codemirror_mode": {
    "name": "ipython",
    "version": 3
   },
   "file_extension": ".py",
   "mimetype": "text/x-python",
   "name": "python",
   "nbconvert_exporter": "python",
   "pygments_lexer": "ipython3"
  }
 },
 "nbformat": 4,
 "nbformat_minor": 5
}
