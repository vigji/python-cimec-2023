{
 "cells": [
  {
   "cell_type": "markdown",
   "id": "03a44e75",
   "metadata": {},
   "source": [
    "# Practicals for lecture 1.4\n",
    "\n",
    "[![Open In Colab](https://colab.research.google.com/assets/colab-badge.svg)](https://colab.research.google.com/github/vigji/python-cimec/blob/main/practicals/Practicals_1.4.ipynb)"
   ]
  },
  {
   "cell_type": "markdown",
   "id": "2d2a4f38",
   "metadata": {},
   "source": [
    "## More on `pandas` and plotting"
   ]
  },
  {
   "cell_type": "code",
   "execution_count": 1,
   "id": "295a9775",
   "metadata": {
    "ExecuteTime": {
     "end_time": "2023-05-22T07:13:55.788175Z",
     "start_time": "2023-05-22T07:13:55.299395Z"
    }
   },
   "outputs": [],
   "source": [
    "import numpy as np\n",
    "import pandas as pd\n",
    "from matplotlib import pyplot as plt"
   ]
  },
  {
   "cell_type": "markdown",
   "id": "f08e3124",
   "metadata": {},
   "source": [
    "#### 1.4.0 `.groupby()` and index broadcasting"
   ]
  },
  {
   "cell_type": "code",
   "execution_count": 25,
   "id": "6e12fcc4",
   "metadata": {
    "ExecuteTime": {
     "end_time": "2023-05-22T07:35:32.752413Z",
     "start_time": "2023-05-22T07:35:32.296106Z"
    }
   },
   "outputs": [],
   "source": [
    "# Take the meteo dataset using the function below\n",
    "def get_meteo_dataset():\n",
    "    \"\"\"Get a meteo dataset from the open-meteo API using a fixed window.\n",
    "    Note how easy it is to get data from the web with pandas! As long as we give the URL of the csv data, pandas can read it.\n",
    "    \"\"\"\n",
    "    np.random.seed(42)\n",
    "    URL = \"https://api.open-meteo.com/v1/forecast?latitude=52.52&longitude=13.41&hourly=temperature_2m,relativehumidity_2m,precipitation,windspeed_10m,winddirection_10m&start_date=2023-02-10&end_date=2023-05-28&format=csv\"\n",
    "    df = pd.read_csv(URL, skiprows=3)  # read the csv file, skipping the first 3 rows (a header)\n",
    "    df.columns = [col.split(\" \")[0] for col in df.columns]  # simplify column names\n",
    "    df[\"time\"] = pd.to_datetime(df[\"time\"])  # convert the time column to datetime\n",
    "    df[\"hour\"], df[\"dayofyear\"] = df[\"time\"].dt.hour, df[\"time\"].dt.dayofyear  # extract the hour and day of year\n",
    "\n",
    "    # Here we artificially corrupt some of the data to make it more interesting\n",
    "    missing_idx = np.random.choice(df.index[:1000], 100)\n",
    "    df.loc[missing_idx, :] = np.nan\n",
    "    return df\n",
    "\n",
    "# This new meteo dataset has columns for the day of the year, hour of the day, and day of the week.\n",
    "# Check out the data and make sure we don't have missing values!\n",
    "ds = get_meteo_dataset()\n",
    "ds = ds.drop(\"time\", axis=1)\n",
    "ds = ds.interpolate()"
   ]
  },
  {
   "cell_type": "code",
   "execution_count": 26,
   "id": "fa4a9b31",
   "metadata": {},
   "outputs": [
    {
     "data": {
      "text/html": [
       "<div>\n",
       "<style scoped>\n",
       "    .dataframe tbody tr th:only-of-type {\n",
       "        vertical-align: middle;\n",
       "    }\n",
       "\n",
       "    .dataframe tbody tr th {\n",
       "        vertical-align: top;\n",
       "    }\n",
       "\n",
       "    .dataframe thead th {\n",
       "        text-align: right;\n",
       "    }\n",
       "</style>\n",
       "<table border=\"1\" class=\"dataframe\">\n",
       "  <thead>\n",
       "    <tr style=\"text-align: right;\">\n",
       "      <th></th>\n",
       "      <th>temperature_2m</th>\n",
       "      <th>relativehumidity_2m</th>\n",
       "      <th>precipitation</th>\n",
       "      <th>windspeed_10m</th>\n",
       "      <th>winddirection_10m</th>\n",
       "      <th>hour</th>\n",
       "      <th>dayofyear</th>\n",
       "    </tr>\n",
       "  </thead>\n",
       "  <tbody>\n",
       "    <tr>\n",
       "      <th>0</th>\n",
       "      <td>0.5</td>\n",
       "      <td>69.0</td>\n",
       "      <td>0.0</td>\n",
       "      <td>8.60</td>\n",
       "      <td>255.0</td>\n",
       "      <td>0.0</td>\n",
       "      <td>41.0</td>\n",
       "    </tr>\n",
       "    <tr>\n",
       "      <th>1</th>\n",
       "      <td>0.5</td>\n",
       "      <td>73.0</td>\n",
       "      <td>0.0</td>\n",
       "      <td>8.55</td>\n",
       "      <td>256.5</td>\n",
       "      <td>1.0</td>\n",
       "      <td>41.0</td>\n",
       "    </tr>\n",
       "    <tr>\n",
       "      <th>2</th>\n",
       "      <td>0.5</td>\n",
       "      <td>77.0</td>\n",
       "      <td>0.0</td>\n",
       "      <td>8.50</td>\n",
       "      <td>258.0</td>\n",
       "      <td>2.0</td>\n",
       "      <td>41.0</td>\n",
       "    </tr>\n",
       "    <tr>\n",
       "      <th>3</th>\n",
       "      <td>0.5</td>\n",
       "      <td>79.0</td>\n",
       "      <td>0.0</td>\n",
       "      <td>10.30</td>\n",
       "      <td>258.0</td>\n",
       "      <td>3.0</td>\n",
       "      <td>41.0</td>\n",
       "    </tr>\n",
       "    <tr>\n",
       "      <th>4</th>\n",
       "      <td>0.6</td>\n",
       "      <td>84.0</td>\n",
       "      <td>0.0</td>\n",
       "      <td>10.50</td>\n",
       "      <td>239.0</td>\n",
       "      <td>4.0</td>\n",
       "      <td>41.0</td>\n",
       "    </tr>\n",
       "    <tr>\n",
       "      <th>...</th>\n",
       "      <td>...</td>\n",
       "      <td>...</td>\n",
       "      <td>...</td>\n",
       "      <td>...</td>\n",
       "      <td>...</td>\n",
       "      <td>...</td>\n",
       "      <td>...</td>\n",
       "    </tr>\n",
       "    <tr>\n",
       "      <th>2587</th>\n",
       "      <td>22.5</td>\n",
       "      <td>39.0</td>\n",
       "      <td>0.0</td>\n",
       "      <td>5.20</td>\n",
       "      <td>196.0</td>\n",
       "      <td>19.0</td>\n",
       "      <td>148.0</td>\n",
       "    </tr>\n",
       "    <tr>\n",
       "      <th>2588</th>\n",
       "      <td>20.8</td>\n",
       "      <td>45.0</td>\n",
       "      <td>0.0</td>\n",
       "      <td>4.30</td>\n",
       "      <td>180.0</td>\n",
       "      <td>20.0</td>\n",
       "      <td>148.0</td>\n",
       "    </tr>\n",
       "    <tr>\n",
       "      <th>2589</th>\n",
       "      <td>19.1</td>\n",
       "      <td>50.0</td>\n",
       "      <td>0.0</td>\n",
       "      <td>3.80</td>\n",
       "      <td>163.0</td>\n",
       "      <td>21.0</td>\n",
       "      <td>148.0</td>\n",
       "    </tr>\n",
       "    <tr>\n",
       "      <th>2590</th>\n",
       "      <td>17.5</td>\n",
       "      <td>53.0</td>\n",
       "      <td>0.0</td>\n",
       "      <td>4.00</td>\n",
       "      <td>153.0</td>\n",
       "      <td>22.0</td>\n",
       "      <td>148.0</td>\n",
       "    </tr>\n",
       "    <tr>\n",
       "      <th>2591</th>\n",
       "      <td>15.9</td>\n",
       "      <td>54.0</td>\n",
       "      <td>0.0</td>\n",
       "      <td>4.30</td>\n",
       "      <td>156.0</td>\n",
       "      <td>23.0</td>\n",
       "      <td>148.0</td>\n",
       "    </tr>\n",
       "  </tbody>\n",
       "</table>\n",
       "<p>2592 rows × 7 columns</p>\n",
       "</div>"
      ],
      "text/plain": [
       "      temperature_2m  relativehumidity_2m  precipitation  windspeed_10m   \n",
       "0                0.5                 69.0            0.0           8.60  \\\n",
       "1                0.5                 73.0            0.0           8.55   \n",
       "2                0.5                 77.0            0.0           8.50   \n",
       "3                0.5                 79.0            0.0          10.30   \n",
       "4                0.6                 84.0            0.0          10.50   \n",
       "...              ...                  ...            ...            ...   \n",
       "2587            22.5                 39.0            0.0           5.20   \n",
       "2588            20.8                 45.0            0.0           4.30   \n",
       "2589            19.1                 50.0            0.0           3.80   \n",
       "2590            17.5                 53.0            0.0           4.00   \n",
       "2591            15.9                 54.0            0.0           4.30   \n",
       "\n",
       "      winddirection_10m  hour  dayofyear  \n",
       "0                 255.0   0.0       41.0  \n",
       "1                 256.5   1.0       41.0  \n",
       "2                 258.0   2.0       41.0  \n",
       "3                 258.0   3.0       41.0  \n",
       "4                 239.0   4.0       41.0  \n",
       "...                 ...   ...        ...  \n",
       "2587              196.0  19.0      148.0  \n",
       "2588              180.0  20.0      148.0  \n",
       "2589              163.0  21.0      148.0  \n",
       "2590              153.0  22.0      148.0  \n",
       "2591              156.0  23.0      148.0  \n",
       "\n",
       "[2592 rows x 7 columns]"
      ]
     },
     "execution_count": 26,
     "metadata": {},
     "output_type": "execute_result"
    }
   ],
   "source": [
    "ds"
   ]
  },
  {
   "cell_type": "code",
   "execution_count": 23,
   "id": "e6eebe25",
   "metadata": {
    "ExecuteTime": {
     "end_time": "2023-05-22T07:35:39.971697Z",
     "start_time": "2023-05-22T07:35:39.961574Z"
    }
   },
   "outputs": [
    {
     "data": {
      "text/plain": [
       "hour\n",
       "0.0      6.845714\n",
       "1.0      6.477451\n",
       "2.0      6.113208\n",
       "3.0      6.030612\n",
       "4.0      5.722857\n",
       "5.0      5.774286\n",
       "6.0      6.239216\n",
       "7.0      6.896190\n",
       "8.0      7.987619\n",
       "9.0      9.501980\n",
       "10.0    10.588235\n",
       "11.0    11.089623\n",
       "12.0    11.678846\n",
       "13.0    12.241748\n",
       "14.0    12.252885\n",
       "15.0    12.110577\n",
       "16.0    11.479245\n",
       "17.0    10.839252\n",
       "18.0    10.263208\n",
       "19.0     9.501942\n",
       "20.0     8.748077\n",
       "21.0     8.166667\n",
       "22.0     7.773077\n",
       "23.0     7.152830\n",
       "Name: temperature_2m, dtype: float64"
      ]
     },
     "execution_count": 23,
     "metadata": {},
     "output_type": "execute_result"
    }
   ],
   "source": [
    "# Use the .groupby() method to compute the mean temperature for each hour of the day:\n",
    "ds.groupby(\"hour\").mean()[\"temperature_2m\"]"
   ]
  },
  {
   "cell_type": "code",
   "execution_count": 31,
   "id": "b981630b",
   "metadata": {},
   "outputs": [
    {
     "data": {
      "text/plain": [
       "dayofyear\n",
       "41.0    -2.016667\n",
       "41.0    -2.016667\n",
       "41.0    -2.016667\n",
       "41.0    -2.016667\n",
       "41.0    -1.916667\n",
       "           ...   \n",
       "148.0    2.820833\n",
       "148.0    1.120833\n",
       "148.0   -0.579167\n",
       "148.0   -2.179167\n",
       "148.0   -3.779167\n",
       "Name: temperature_2m, Length: 2592, dtype: float64"
      ]
     },
     "execution_count": 31,
     "metadata": {},
     "output_type": "execute_result"
    }
   ],
   "source": [
    "# Using pandas index broadcasting, subtract from each day of the year its average temperature, and plot\n",
    "# the result to check if it makes sense.\n",
    "mean_temps = ds.groupby(\"dayofyear\").mean()[\"temperature_2m\"]\n",
    "\n",
    "ds.set_index(\"dayofyear\")[\"temperature_2m\"] - mean_temps"
   ]
  },
  {
   "cell_type": "markdown",
   "id": "89443646",
   "metadata": {},
   "source": [
    "#### 1.4.1 `.rolling()`"
   ]
  },
  {
   "cell_type": "code",
   "execution_count": 5,
   "id": "d4cb9f4c",
   "metadata": {
    "ExecuteTime": {
     "end_time": "2023-05-22T08:23:06.492706Z",
     "start_time": "2023-05-22T08:23:06.407328Z"
    }
   },
   "outputs": [],
   "source": [
    "# Compute the maximum and the minimum of the temperature using a rolling window of 24 samples.\n",
    "# Plot the original curve and the smoothed one to check what you did:\n",
    "\n"
   ]
  },
  {
   "cell_type": "markdown",
   "id": "f44bfe04",
   "metadata": {},
   "source": [
    "#### 1.4.2 Plotting with `matplotlib`\n"
   ]
  },
  {
   "cell_type": "code",
   "execution_count": null,
   "id": "36801c65",
   "metadata": {
    "ExecuteTime": {
     "end_time": "2023-05-22T07:47:41.732619Z",
     "start_time": "2023-05-22T07:47:41.653063Z"
    }
   },
   "outputs": [],
   "source": [
    "# Use matplotlib obj oriented interface to create a figure and some axes, and scatter the wind speed vs the relative humidity.\n",
    "# Specify an alpha value < 1 (transparency) to get a better sense of the density of the points.\n",
    "\n",
    "# Use methods of the axis object to set the axes names, and restrict the wind speed axis between 0 and 30 km/h\n"
   ]
  },
  {
   "cell_type": "code",
   "execution_count": 9,
   "id": "8cd71084",
   "metadata": {
    "ExecuteTime": {
     "end_time": "2023-05-22T07:56:17.962405Z",
     "start_time": "2023-05-22T07:56:17.956215Z"
    }
   },
   "outputs": [],
   "source": [
    "# Create two plots one on top of the other using matplotlib's subplots function.\n",
    "\n",
    "# In the top plot, show both the unsmoothed and the smoothed temperature series.\n",
    "\n",
    "# In the bottom plot, show the relative humidity series.\n",
    "\n",
    "# Hint: you can pass the sharex=True argument to the subplots function to make the two plots share the same x axis:\n",
    "\n"
   ]
  },
  {
   "cell_type": "code",
   "execution_count": null,
   "id": "8b283fcf",
   "metadata": {},
   "outputs": [],
   "source": [
    "# Create a 2 x 2 grid of plots using matplotlib's subplots function.\n",
    "\n",
    "# In each plot, we will show the correlation of some variables with the temperature. Temperature will always be on the x axis,\n",
    "# and the other variable on the y axis.\n",
    "\n",
    "# Top left should show the correlation of temperature with relative humidity, top right with wind speed,\n",
    "# bottom left with precipitation, bottom right with time of the day.\n",
    "\n",
    "# Try to use a for loop to iterate over the axes of the grid, and use the .scatter() method to plot the data!\n"
   ]
  }
 ],
 "metadata": {
  "kernelspec": {
   "display_name": "Python [conda env:course_env]",
   "language": "python",
   "name": "conda-env-course_env-py"
  },
  "language_info": {
   "codemirror_mode": {
    "name": "ipython",
    "version": 3
   },
   "file_extension": ".py",
   "mimetype": "text/x-python",
   "name": "python",
   "nbconvert_exporter": "python",
   "pygments_lexer": "ipython3",
   "version": "3.9.16"
  }
 },
 "nbformat": 4,
 "nbformat_minor": 5
}
