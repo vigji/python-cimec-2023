{
 "cells": [
  {
   "cell_type": "markdown",
   "id": "03a44e75",
   "metadata": {},
   "source": [
    "# Practicals for lecture 2.2\n",
    "\n",
    "Download this practicals file on your computer and fill it out using your local Python installation!"
   ]
  },
  {
   "cell_type": "markdown",
   "id": "9e30f3ad",
   "metadata": {},
   "source": [
    "## 2.2.0 Opening images and imaging data"
   ]
  },
  {
   "cell_type": "markdown",
   "id": "a42e667e",
   "metadata": {},
   "source": [
    "#### Simple images"
   ]
  },
  {
   "cell_type": "code",
   "execution_count": null,
   "id": "00a5970c",
   "metadata": {},
   "outputs": [],
   "source": [
    "# Install with conda/pip the Pillow library (try \"conda install -c conda-forge Pillow\", otherwise use pip). \n",
    "# Then, choose an image on you computer and load it using PIL!\n",
    "\n",
    "from PIL import Image\n",
    "img = Image.open(\"/Users/vigji/code/python-cimec/lectures/files/octopus.jpg\")"
   ]
  },
  {
   "cell_type": "code",
   "execution_count": null,
   "id": "25e50452",
   "metadata": {},
   "outputs": [],
   "source": [
    "import numpy as np\n",
    "from matplotlib import pyplot as plt\n",
    "# Convert the image to a numpy array and plot just the green channel:\n",
    "img_arr = np.array(img)\n",
    "\n",
    "plt.figure()\n",
    "plt.imshow(img_arr[:, :, 1])"
   ]
  },
  {
   "cell_type": "markdown",
   "id": "2939ace4",
   "metadata": {},
   "source": [
    "#### Imaging data"
   ]
  },
  {
   "cell_type": "code",
   "execution_count": null,
   "id": "5b52c025",
   "metadata": {},
   "outputs": [],
   "source": [
    "# Here we will be using the nifti library to deal with real imaging data.\n",
    "# The following exercises use the data we downloaded last time from GitHub! \n",
    "# (imaging files are the files with extension .nii.gz)\n"
   ]
  },
  {
   "cell_type": "code",
   "execution_count": null,
   "id": "bc9892a0",
   "metadata": {},
   "outputs": [],
   "source": [
    "import nibabel\n",
    "# conda/pip install the nibabel library (try \"conda install -c conda-forge nibabel\", if it does not work use pip)\n",
    "\n",
    "# Then, open any of the imaging files from the imagig-dataset using the nibabel.load function\n",
    "\n",
    "data = nibabel.load(\"/Users/vigji/exercise_data/sub-001/ses-1/anat/sub-001_ses-1_acq-RARE_T2w.nii.gz\")\n",
    "\n",
    "# What is the type of the object you get from the function?\n",
    "type(data)\n"
   ]
  },
  {
   "cell_type": "code",
   "execution_count": null,
   "id": "95137cfe",
   "metadata": {},
   "outputs": [],
   "source": [
    "# You can look at the image metadata by printing the img.header attribute.\n",
    "# Check that out!\n",
    "\n",
    "print(data.header)"
   ]
  },
  {
   "cell_type": "code",
   "execution_count": null,
   "id": "056fbc6b",
   "metadata": {},
   "outputs": [],
   "source": [
    "# If we want to see the raw imaging data as a numpy array, we can use the \n",
    "# get_fdata() method of the image object. Try it out!\n",
    "# - What is the shape of your image?\n",
    "# - What is the bit depth of your data?\n",
    "\n",
    "data_array = data.get_fdata()\n",
    "data_array.shape"
   ]
  },
  {
   "cell_type": "code",
   "execution_count": null,
   "id": "4d96048b",
   "metadata": {},
   "outputs": [],
   "source": [
    "data_array.dtype"
   ]
  },
  {
   "cell_type": "code",
   "execution_count": null,
   "id": "3f85cbbf",
   "metadata": {},
   "outputs": [],
   "source": [
    "# The volume data is 3D:\n",
    "# - The first dimension is the (left, right) axis\n",
    "# - the second dimension is the (anterior, posterior) axis\n",
    "# the third dimension is the (superior, inferior) axis.\n",
    "\n",
    "# Use indexing on the volume to obtain a coronal section\n",
    "# (a coronal section is a slice over the antero-posterior axis).\n",
    "# Then plot it using plt.imshow, and write in the plot the axes names!\n",
    "plt.figure()\n",
    "plt.imshow(data_array[:, 35, :])\n",
    "plt.xlabel(\"Vertical axis\")\n",
    "plt.ylabel(\"Left-right axis\")\n"
   ]
  },
  {
   "cell_type": "code",
   "execution_count": null,
   "id": "e94d089b",
   "metadata": {},
   "outputs": [],
   "source": [
    "# Show the histogram of the slice data:\n",
    "plt.figure()\n",
    "plt.hist(data_array[:, 35, :].flatten())\n",
    "plt.show()"
   ]
  },
  {
   "cell_type": "code",
   "execution_count": null,
   "id": "d3adf3f6",
   "metadata": {},
   "outputs": [],
   "source": [
    "sl_idx"
   ]
  },
  {
   "cell_type": "code",
   "execution_count": null,
   "id": "7ea0f67a",
   "metadata": {},
   "outputs": [],
   "source": [
    "# Use subplots and a for loop to display in the same image multiple\n",
    "# slices from the data:\n",
    "\n",
    "f, axs = plt.subplots(3, 3, figsize=(8, 4))\n",
    "\n",
    "for ax, sl_idx in zip(axs.flatten(), range(0, 90, 10)):\n",
    "    ax.imshow(data_array[:, sl_idx, :])"
   ]
  },
  {
   "cell_type": "code",
   "execution_count": null,
   "id": "fb26dac7",
   "metadata": {},
   "outputs": [],
   "source": [
    "# (Further reading)\n",
    "# If you want to know more about nibabel, you can check the documentation \n",
    "# to open nifti files at https://nipy.org/nibabel/gettingstarted.html\n",
    "# (Optional but recommended if you will use it in the future) \n",
    "\n",
    "# (Also optional... if you got guts) check the actual nifti header\n",
    "# specification at https://nifti.nimh.nih.gov/pub/dist/src/niftilib/nifti1.h"
   ]
  },
  {
   "cell_type": "markdown",
   "id": "6fac96b4",
   "metadata": {},
   "source": [
    "## 2.2.1 Generating images programmatically"
   ]
  },
  {
   "cell_type": "code",
   "execution_count": null,
   "id": "72f764d8",
   "metadata": {},
   "outputs": [],
   "source": [
    "# For an experiment, we need to generate images with certain features, one for every trial of the experiment.\n",
    "\n",
    "# The images consist of either a circle or a square of a certain size and color, placed at a given height\n",
    "# in the image. The features of the image for every trial are defined in a file we are given. Let's prepare\n",
    "# this experiment!\n",
    "\n",
    "# 1. The trial file is an excel file (God, who would ever do such thing?) that you can find on GitHub\n",
    "#    in the practicals/data folder.\n",
    "#    To load Excel files in pandas, we can use the openpyxl library. Pip-install the library,\n",
    "#    and load into a DataFrame the trial structure defined in visual-task-trials.xlsx\n",
    "#    using the pd.read_excel() function.\n",
    "import pandas as pd\n",
    "df = pd.read_excel(\"/Users/vigji/code/python-cimec/practicals/data/visual-task-trials.xlsx\", index_col=0)"
   ]
  },
  {
   "cell_type": "code",
   "execution_count": null,
   "id": "b22c2974",
   "metadata": {},
   "outputs": [],
   "source": [
    "df"
   ]
  },
  {
   "cell_type": "code",
   "execution_count": null,
   "id": "35996765",
   "metadata": {},
   "outputs": [],
   "source": [
    "# 2. Consider only the first trial. Use PIL to generate an image of size (300, 400) with the proper \n",
    "#    shape for that trial! Then, find a way to save images from PIL.\n",
    "shape = \"square\"\n",
    "color = \"blue\"\n",
    "size = 100\n",
    "horizontal_pos = 50\n",
    "vert_pos = 200\n",
    "\n",
    "from PIL import Image, ImageDraw\n",
    "\n",
    "img = Image.new( mode = \"RGB\", size=(300, 400))\n",
    "drawer = ImageDraw.Draw(img)\n",
    "\n",
    "colors_dict = dict(blue=(0, 0, 255),\n",
    "                   red=(255, 0, 0))\n",
    "\n",
    "if shape==\"triangle\":\n",
    "    drawer.polygon([(vert_pos, horizontal_pos), (vert_pos, horizontal_pos+size),\n",
    "                (vert_pos+size, horizontal_pos / 2)], fill=colors_dict[color])\n",
    "elif shape==\"square\":\n",
    "    drawer.rectangle((horizontal_pos, vert_pos, horizontal_pos+size, vert_pos+size), fill=(174, 48, 51))\n",
    "\n",
    "img   "
   ]
  },
  {
   "cell_type": "code",
   "execution_count": null,
   "id": "cbaeab2b",
   "metadata": {},
   "outputs": [],
   "source": [
    "# 4. Organize the code above as a function that takes as input the image features and a filename and creates\n",
    "#    and saves the image (no returned value is necessary as the output is the written file)\n",
    "\n",
    "def draw_shape(filename, shape = \"triangle\", color = \"blue\", size = 100, horizontal_pos =100, vert_pos = 200,\n",
    "               ):\n",
    "\n",
    "    img = Image.new( mode = \"RGB\", size=(300, 400))\n",
    "    drawer = ImageDraw.Draw(img)\n",
    "\n",
    "    colors_dict = dict(blue=(0, 0, 255),\n",
    "                       red=(255, 0, 0))\n",
    "\n",
    "    if shape==\"triangle\":\n",
    "        drawer.polygon([(vert_pos, horizontal_pos), (vert_pos, horizontal_pos+size),\n",
    "                    (vert_pos+size, horizontal_pos / 2)], fill=colors_dict[color])\n",
    "    elif shape==\"square\":\n",
    "        drawer.rectangle((horizontal_pos, vert_pos, horizontal_pos+size, vert_pos+size), fill=(174, 48, 51))\n",
    "\n",
    "    img.save(filename)\n",
    "    \n",
    "draw_shape(\"/Users/vigji/Desktop/testimg.png\")"
   ]
  },
  {
   "cell_type": "code",
   "execution_count": null,
   "id": "9e8e3fa6",
   "metadata": {},
   "outputs": [],
   "source": [
    "# 3. Use the pathlib library to create somewhere on your computer a new trial-imgs folder.\n",
    "#    Then, iterate over the trials DataFrame, and use the function you wrote above to create all the necessary\n",
    "#    images!\n"
   ]
  }
 ],
 "metadata": {
  "kernelspec": {
   "display_name": "Python [conda env:course_env]",
   "language": "python",
   "name": "conda-env-course_env-py"
  },
  "language_info": {
   "codemirror_mode": {
    "name": "ipython",
    "version": 3
   },
   "file_extension": ".py",
   "mimetype": "text/x-python",
   "name": "python",
   "nbconvert_exporter": "python",
   "pygments_lexer": "ipython3"
  }
 },
 "nbformat": 4,
 "nbformat_minor": 5
}
