{
 "cells": [
  {
   "cell_type": "markdown",
   "id": "03a44e75",
   "metadata": {},
   "source": [
    "# Practicals for lecture 2.2\n",
    "\n",
    "Download this practicals file on your computer and fill it out using your local Python installation!"
   ]
  },
  {
   "cell_type": "markdown",
   "id": "9e30f3ad",
   "metadata": {},
   "source": [
    "## 2.2.0 Imaging data"
   ]
  },
  {
   "cell_type": "code",
   "execution_count": null,
   "id": "5b52c025",
   "metadata": {},
   "outputs": [],
   "source": [
    "# Here we will be using the nifti library to deal with imaging data.\n",
    "\n",
    "# you can check the documentation  of nibabel to open nifti files at https://nipy.org/nibabel/gettingstarted.html\n",
    "# (Optional but recommended if you will use it in the future) \n",
    "# 2-b (Also optional... if you got guts) check the actual nifti header\n",
    "# specification at https://nifti.nimh.nih.gov/pub/dist/src/niftilib/nifti1.h\n"
   ]
  },
  {
   "cell_type": "code",
   "execution_count": null,
   "id": "bc9892a0",
   "metadata": {},
   "outputs": [],
   "source": [
    "# pip install the nibabel library.\n",
    "\n",
    "# Then, open an imaging file from the dataset using the nibabel.load function.\n",
    "# What is the type of the object you get from the function?\n",
    "\n"
   ]
  },
  {
   "cell_type": "code",
   "execution_count": null,
   "id": "95137cfe",
   "metadata": {},
   "outputs": [],
   "source": [
    "# You can look at the image metadata by printing the img.header attribute.\n",
    "# Check that out!\n"
   ]
  },
  {
   "cell_type": "code",
   "execution_count": null,
   "id": "056fbc6b",
   "metadata": {},
   "outputs": [],
   "source": [
    "# If we want to see the raw imaging data as a numpy array, we can use the \n",
    "# get_fdata() method of the image object. Try it out!\n"
   ]
  },
  {
   "cell_type": "code",
   "execution_count": null,
   "id": "3f85cbbf",
   "metadata": {},
   "outputs": [],
   "source": [
    "# The volume has a shape of (120, 120, 48)  - might be slightly different depending on the file you choose.\n",
    "# - The first dimension is the (left, right) axis\n",
    "# - the second dimension is the (anterior, posterior) axis\n",
    "# the third dimension is the (superior, inferior) axis.\n",
    "\n",
    "# Use indexing on the volume to obtain a coronal section\n",
    "# (a coronal section is a slice over the antero-posterior axis).\n",
    "# Then plot it using plt.imshow, and write in the plot the axes names!\n"
   ]
  },
  {
   "cell_type": "code",
   "execution_count": null,
   "id": "7ea0f67a",
   "metadata": {},
   "outputs": [],
   "source": [
    "# Use subplots and a for loop to display in the same image multiple\n",
    "# slices from the data:\n"
   ]
  }
 ],
 "metadata": {
  "kernelspec": {
   "display_name": "Python [conda env:course_env]",
   "language": "python",
   "name": "conda-env-course_env-py"
  },
  "language_info": {
   "codemirror_mode": {
    "name": "ipython",
    "version": 3
   },
   "file_extension": ".py",
   "mimetype": "text/x-python",
   "name": "python",
   "nbconvert_exporter": "python",
   "pygments_lexer": "ipython3"
  }
 },
 "nbformat": 4,
 "nbformat_minor": 5
}
