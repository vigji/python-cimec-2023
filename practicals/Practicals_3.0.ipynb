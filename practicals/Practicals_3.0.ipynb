{
 "cells": [
  {
   "cell_type": "markdown",
   "id": "17886266-8de0-498c-ba47-fc54677d7d61",
   "metadata": {},
   "source": [
    "# Practicals 2.3"
   ]
  },
  {
   "cell_type": "markdown",
   "id": "dc144cff-7ee9-4cd1-b16d-788e105490d7",
   "metadata": {},
   "source": [
    "## Practicals 2.3.0"
   ]
  },
  {
   "cell_type": "code",
   "execution_count": null,
   "id": "6b0ba386-bc6e-4ae8-9ed1-0d477beb573e",
   "metadata": {},
   "outputs": [],
   "source": [
    "import nibabel as nib\n",
    "\n",
    "fs = 2.5    # sampling freqiency in Hz"
   ]
  },
  {
   "cell_type": "code",
   "execution_count": null,
   "id": "5ef69a09-34df-4d5b-b624-f4b63ee39b64",
   "metadata": {},
   "outputs": [],
   "source": [
    "# 2.3.0.0\n",
    "\n",
    "file_name = 'path/to/file/sub-Kremes_ses-CtrlH_task-stim_run-01_pd2dt.nii.gz'\n",
    "\n",
    "# open the file \n",
    "# check the headers affine\n",
    "# display dat in both the voxel space and the image space"
   ]
  },
  {
   "cell_type": "code",
   "execution_count": null,
   "id": "119b3534-467d-4121-8fee-83058930b494",
   "metadata": {},
   "outputs": [],
   "source": [
    "# 2.3.0.1\n",
    "\n",
    "# Load messed_up mask (not too badly one)\n",
    "# apply flip and transpose to overlay mask and image in the voxel space\n",
    "# (Bonus) can you find the transform to get images aligned in image space for the badly damaged one ?"
   ]
  },
  {
   "cell_type": "markdown",
   "id": "149a86bd-b66b-4301-99ec-84fa5c9c2185",
   "metadata": {},
   "source": [
    "## Practicals 2.3.1"
   ]
  },
  {
   "cell_type": "code",
   "execution_count": null,
   "id": "80aecc4e-eaed-420b-a0c6-ea9294662ae3",
   "metadata": {},
   "outputs": [],
   "source": [
    "# 2.3.1.0\n",
    "\n",
    "# Redo the whisker stim analysis adding:\n",
    "# smoothing and confounds regression for the correlation analysis\n",
    "\n",
    "# Hints: check smooth_img and clean_img functions from nilearn"
   ]
  },
  {
   "cell_type": "markdown",
   "id": "5fa06816-edfb-43f0-8a02-7ad3029f8f02",
   "metadata": {},
   "source": [
    "## Practicals 2.3.3"
   ]
  },
  {
   "cell_type": "code",
   "execution_count": null,
   "id": "7c861293-bee0-4eb1-96f5-b4a42a19aa5f",
   "metadata": {},
   "outputs": [],
   "source": [
    "# 2.3.3.0\n",
    "\n",
    "# Performs the GLM analysis on the mice data"
   ]
  },
  {
   "cell_type": "code",
   "execution_count": null,
   "id": "f2d57810-df6d-4404-8c0c-47fe3f2e88a1",
   "metadata": {},
   "outputs": [],
   "source": [
    "# Bonus: Functional Seed based maps analysis is a glm where the regressor is a region of the brain.\n",
    "# Computes the zmap for the awak mouse in opioid folder\n",
    "\n",
    "# Processing must be more intense\n",
    "# filtering between [0.01, 0.1] Hz\n",
    "# Confound regression (global signal or high variance or any cool stuff)\n",
    "# Censoring (frames of too high instensity must be removed)"
   ]
  }
 ],
 "metadata": {
  "kernelspec": {
   "display_name": "Python [conda env:course_env]",
   "language": "python",
   "name": "conda-env-course_env-py"
  },
  "language_info": {
   "codemirror_mode": {
    "name": "ipython",
    "version": 3
   },
   "file_extension": ".py",
   "mimetype": "text/x-python",
   "name": "python",
   "nbconvert_exporter": "python",
   "pygments_lexer": "ipython3"
  }
 },
 "nbformat": 4,
 "nbformat_minor": 5
}
