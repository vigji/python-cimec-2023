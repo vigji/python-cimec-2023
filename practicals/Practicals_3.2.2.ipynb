{
 "cells": [
  {
   "cell_type": "markdown",
   "source": [
    "# Practicals 3.2\n"
   ],
   "metadata": {
    "collapsed": false
   }
  },
  {
   "cell_type": "markdown",
   "source": [
    "## Practicals 3.2.0"
   ],
   "metadata": {
    "collapsed": false
   }
  },
  {
   "cell_type": "code",
   "execution_count": null,
   "outputs": [],
   "source": [
    "# Use bootstrapping to verify that the probability of getting a falsely positive result is 5% when testing 1000 hypotheses with a p-value threshold of 0.05.\n",
    "\n"
   ],
   "metadata": {
    "collapsed": false
   }
  },
  {
   "cell_type": "code",
   "execution_count": null,
   "outputs": [],
   "source": [
    "# Let's try some p-hacking! Loop over multiple possible comparison tests (paired, non-paired, parametric, non parametric, etc.) and see if you can find a significant result!\n",
    "# Try to do everything in a single loop where you use a variable to which you assign the function you want to use.\n",
    "\n",
    "# Make a scatterplot of the dataset, and assign to the color the label of the data point.\n",
    "\n"
   ],
   "metadata": {
    "collapsed": false
   }
  },
  {
   "cell_type": "code",
   "execution_count": null,
   "outputs": [],
   "source": [],
   "metadata": {
    "collapsed": false
   }
  },
  {
   "cell_type": "markdown",
   "source": [
    "# Practicals 3.2.2"
   ],
   "metadata": {
    "collapsed": false
   }
  },
  {
   "cell_type": "code",
   "execution_count": null,
   "outputs": [],
   "source": [
    "# Create an histogram of the following data array:\n",
    "data = np.random.normal(0, 1, 1000)"
   ],
   "metadata": {
    "collapsed": false
   }
  },
  {
   "cell_type": "code",
   "execution_count": null,
   "outputs": [],
   "source": [
    "# Then, transform it to have mean 0 and standard deviation 1 using the scikit-learn transformer."
   ],
   "metadata": {
    "collapsed": false,
    "is_executing": true
   }
  },
  {
   "cell_type": "code",
   "execution_count": null,
   "outputs": [],
   "source": [
    "# Apply the same transformation over a new dataset:\n",
    "\n"
   ],
   "metadata": {
    "collapsed": false
   }
  },
  {
   "cell_type": "code",
   "execution_count": null,
   "outputs": [],
   "source": [
    "# Load the digit data set from sklearn.datasets.\n",
    "# The matrix you get is a 2D array of size (n_samples, n_features). Each row corresponds to a digit image of size 8x8 pixels. The target array contains the digit value for each image."
   ],
   "metadata": {
    "collapsed": false
   }
  }
 ],
 "metadata": {
  "kernelspec": {
   "display_name": "Python 3",
   "language": "python",
   "name": "python3"
  },
  "language_info": {
   "codemirror_mode": {
    "name": "ipython",
    "version": 2
   },
   "file_extension": ".py",
   "mimetype": "text/x-python",
   "name": "python",
   "nbconvert_exporter": "python",
   "pygments_lexer": "ipython2",
   "version": "2.7.6"
  }
 },
 "nbformat": 4,
 "nbformat_minor": 0
}
