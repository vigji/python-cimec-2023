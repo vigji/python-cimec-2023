{
 "cells": [
  {
   "cell_type": "markdown",
   "id": "03a44e75",
   "metadata": {},
   "source": [
    "# Practicals for lecture 1.1\n",
    "\n",
    "[![Open In Colab](https://colab.research.google.com/assets/colab-badge.svg)](https://colab.research.google.com/github/vigji/python-cimec/blob/main/practicals/Practicals_1.2.ipynb)"
   ]
  },
  {
   "cell_type": "markdown",
   "id": "2d2a4f38",
   "metadata": {},
   "source": [
    "## Introduction to `pandas`"
   ]
  },
  {
   "cell_type": "markdown",
   "id": "611a1587",
   "metadata": {},
   "source": [
    "Create and index dataframes"
   ]
  },
  {
   "cell_type": "code",
   "execution_count": null,
   "id": "371d3fd3",
   "metadata": {},
   "outputs": [],
   "source": [
    "import numpy as np\n",
    "from matplotlib import pyplot as plt\n",
    "import pandas as pd"
   ]
  },
  {
   "cell_type": "code",
   "execution_count": null,
   "id": "ee9404ad",
   "metadata": {},
   "outputs": [],
   "source": [
    "string_data = ['cabbage', 'artichoke', 'banana', 'avocado']\n",
    "int_data = [1, 2, 3, 4]\n",
    "float_data = [0.1, 0.2, 0.3, 0.4]\n",
    "\n",
    "# Put together the data above in a DataFrame.\n",
    "\n"
   ]
  },
  {
   "cell_type": "code",
   "execution_count": null,
   "id": "c8f56bb0",
   "metadata": {},
   "outputs": [],
   "source": [
    "# Using indexing, select the column of the dataframe containing the strings\n"
   ]
  },
  {
   "cell_type": "code",
   "execution_count": null,
   "id": "a81ddfd3",
   "metadata": {},
   "outputs": [],
   "source": [
    "# Using indexing, select the first row of the dataframe\n"
   ]
  },
  {
   "cell_type": "code",
   "execution_count": null,
   "id": "ba257c6d",
   "metadata": {},
   "outputs": [],
   "source": [
    "# Using indexing, select the raws of the dataframe so that the fload data is greater than 0.2\n"
   ]
  },
  {
   "cell_type": "markdown",
   "id": "fe5ddd12",
   "metadata": {},
   "source": [
    "#### Methods of `pandas` dataframes"
   ]
  },
  {
   "cell_type": "code",
   "execution_count": null,
   "id": "3440a59b",
   "metadata": {},
   "outputs": [],
   "source": [
    "# Here we create a fake dataframe containing the results of an psychological test with 30 subjects.\n",
    "# Subjects can be left-handed or right-handed.\n",
    "# The test has 2 measures (reaction time - RT, and accuracy)\n",
    "def create_data_df():\n",
    "    np.seed(42)\n",
    "    subject_ability = np.random.uniform(0, 1, 30)\n",
    "    df = pd.DataFrame({'subject': [f\"subject_{i}\" for i in range(30)],\n",
    "                       'handedness': np.random.choice(['left', 'right'], 30),\n",
    "                       'RT': subject_ability*100 + np.random.uniform(0, 50, 30),\n",
    "                       'accuracy': subject_ability + np.random.normal(0.8, 0.1, 30)})\n",
    "df"
   ]
  },
  {
   "cell_type": "code",
   "execution_count": null,
   "id": "e7e6dbf7",
   "metadata": {},
   "outputs": [],
   "source": [
    "# sort the dataframe by RT:\n"
   ]
  },
  {
   "cell_type": "code",
   "execution_count": null,
   "id": "360e7351",
   "metadata": {},
   "outputs": [],
   "source": [
    "# Compute the mean and standard deviation of the RT and accuracy across:\n"
   ]
  },
  {
   "cell_type": "code",
   "execution_count": null,
   "id": "3a29b505",
   "metadata": {},
   "outputs": [],
   "source": [
    "# Use indexing to select the RT of the left-handed subjects, and compute its 90% percentile:\n"
   ]
  },
  {
   "cell_type": "code",
   "execution_count": null,
   "id": "580f4ecf",
   "metadata": {},
   "outputs": [],
   "source": [
    "# Now use the percentile so select the accuracy for left-handed subjects with RT above the 90% percentile:\n"
   ]
  },
  {
   "cell_type": "code",
   "execution_count": null,
   "id": "27e94e2b",
   "metadata": {},
   "outputs": [],
   "source": [
    "# Create a scatter plot of RT vs accuracy for the right-handed subjects:\n"
   ]
  },
  {
   "cell_type": "markdown",
   "id": "51abe291",
   "metadata": {},
   "source": []
  },
  {
   "cell_type": "code",
   "execution_count": null,
   "id": "44de32ed",
   "metadata": {},
   "outputs": [],
   "source": []
  }
 ],
 "metadata": {
  "kernelspec": {
   "display_name": "Python 3 (ipykernel)",
   "language": "python",
   "name": "python3"
  },
  "language_info": {
   "codemirror_mode": {
    "name": "ipython",
    "version": 3
   },
   "file_extension": ".py",
   "mimetype": "text/x-python",
   "name": "python",
   "nbconvert_exporter": "python",
   "pygments_lexer": "ipython3"
  }
 },
 "nbformat": 4,
 "nbformat_minor": 5
}
