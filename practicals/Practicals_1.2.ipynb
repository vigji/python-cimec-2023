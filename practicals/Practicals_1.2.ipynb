{
 "cells": [
  {
   "cell_type": "markdown",
   "id": "03a44e75",
   "metadata": {},
   "source": [
    "# Practicals for lecture 1.2\n",
    "\n",
    "[![Open In Colab](https://colab.research.google.com/assets/colab-badge.svg)](https://colab.research.google.com/github/vigji/python-cimec/blob/main/practicals/Practicals_1.2.ipynb)"
   ]
  },
  {
   "cell_type": "markdown",
   "id": "2d2a4f38",
   "metadata": {},
   "source": [
    "## Introduction to `pandas`"
   ]
  },
  {
   "cell_type": "markdown",
   "id": "472faa0d",
   "metadata": {},
   "source": [
    "#### 1.2.0 Numpy bool; Create and index dataframes"
   ]
  },
  {
   "cell_type": "code",
   "execution_count": 21,
   "id": "371d3fd3",
   "metadata": {
    "is_executing": true
   },
   "outputs": [],
   "source": [
    "import numpy as np\n",
    "from matplotlib import pyplot as plt\n",
    "import pandas as pd"
   ]
  },
  {
   "cell_type": "code",
   "execution_count": 5,
   "id": "ecba7d85",
   "metadata": {},
   "outputs": [
    {
     "data": {
      "text/plain": [
       "array([6, 7, 6, 6, 7, 7, 7, 7, 0, 0, 6, 6, 6, 6, 7, 0, 7, 7, 6, 7, 7, 0,\n",
       "       6, 7, 0, 7, 7, 0, 7, 0, 6, 6, 7])"
      ]
     },
     "execution_count": 5,
     "metadata": {},
     "output_type": "execute_result"
    }
   ],
   "source": [
    "# Numpy bool operations\n",
    "# Take the array of integer numbers below. Use array boolean operations to filter out the numbers that \n",
    "# are greater than 5 AND less than 8, OR that are multiple of 7.\n",
    "np.random.seed(42)\n",
    "an_array = np.random.randint(0, 10, 100)\n",
    "\n",
    "an_array[((an_array > 5) & (an_array < 8)) | (an_array % 7 == 0)]"
   ]
  },
  {
   "cell_type": "code",
   "execution_count": 7,
   "id": "2d753478",
   "metadata": {
    "is_executing": true
   },
   "outputs": [],
   "source": [
    "string_data = ['cabbage', 'artichoke', 'banana', 'avocado', 'apple', 'orange']\n",
    "int_data = [1, 2, 3, 4, 5, 6]\n",
    "float_data = [0.1, 0.2, 0.3, 0.4, 0.5, 0.6]\n",
    "\n",
    "# Put together the data above in a DataFrame. What happens if you don't specify the index?\n",
    "\n",
    "df = pd.DataFrame(dict(string_data=string_data, int_data=int_data, float_data=float_data))"
   ]
  },
  {
   "cell_type": "code",
   "execution_count": 15,
   "id": "5446f27b",
   "metadata": {
    "is_executing": true
   },
   "outputs": [
    {
     "data": {
      "text/plain": [
       "0      cabbage\n",
       "1    artichoke\n",
       "2       banana\n",
       "3      avocado\n",
       "4        apple\n",
       "5       orange\n",
       "Name: string_data, dtype: object"
      ]
     },
     "execution_count": 15,
     "metadata": {},
     "output_type": "execute_result"
    }
   ],
   "source": [
    "# Select the column of the dataframe containing the strings using the name of the column\n",
    "\n",
    "df[\"string_data\"]"
   ]
  },
  {
   "cell_type": "code",
   "execution_count": 10,
   "id": "db398d8d",
   "metadata": {
    "is_executing": true
   },
   "outputs": [
    {
     "data": {
      "text/html": [
       "<div>\n",
       "<style scoped>\n",
       "    .dataframe tbody tr th:only-of-type {\n",
       "        vertical-align: middle;\n",
       "    }\n",
       "\n",
       "    .dataframe tbody tr th {\n",
       "        vertical-align: top;\n",
       "    }\n",
       "\n",
       "    .dataframe thead th {\n",
       "        text-align: right;\n",
       "    }\n",
       "</style>\n",
       "<table border=\"1\" class=\"dataframe\">\n",
       "  <thead>\n",
       "    <tr style=\"text-align: right;\">\n",
       "      <th></th>\n",
       "      <th>string_data</th>\n",
       "      <th>int_data</th>\n",
       "      <th>float_data</th>\n",
       "    </tr>\n",
       "  </thead>\n",
       "  <tbody>\n",
       "    <tr>\n",
       "      <th>0</th>\n",
       "      <td>cabbage</td>\n",
       "      <td>1</td>\n",
       "      <td>0.1</td>\n",
       "    </tr>\n",
       "    <tr>\n",
       "      <th>1</th>\n",
       "      <td>artichoke</td>\n",
       "      <td>2</td>\n",
       "      <td>0.2</td>\n",
       "    </tr>\n",
       "  </tbody>\n",
       "</table>\n",
       "</div>"
      ],
      "text/plain": [
       "  string_data  int_data  float_data\n",
       "0     cabbage         1         0.1\n",
       "1   artichoke         2         0.2"
      ]
     },
     "execution_count": 10,
     "metadata": {},
     "output_type": "execute_result"
    }
   ],
   "source": [
    "# Select the first two rows of the dataframe\n",
    "df.loc[:1]"
   ]
  },
  {
   "cell_type": "code",
   "execution_count": null,
   "id": "2acf9ddb",
   "metadata": {},
   "outputs": [],
   "source": []
  },
  {
   "cell_type": "code",
   "execution_count": 16,
   "id": "640df587",
   "metadata": {},
   "outputs": [
    {
     "data": {
      "text/plain": [
       "2     banana\n",
       "3    avocado\n",
       "4      apple\n",
       "5     orange\n",
       "Name: string_data, dtype: object"
      ]
     },
     "execution_count": 16,
     "metadata": {},
     "output_type": "execute_result"
    }
   ],
   "source": [
    "# Select the rows of the dataframe so that the float data is greater than 0.2\n",
    "\n",
    "df.loc[df[\"float_data\"] > 0.2, \"string_data\"]"
   ]
  },
  {
   "cell_type": "code",
   "execution_count": 17,
   "id": "269635a9",
   "metadata": {
    "is_executing": true
   },
   "outputs": [
    {
     "data": {
      "text/html": [
       "<div>\n",
       "<style scoped>\n",
       "    .dataframe tbody tr th:only-of-type {\n",
       "        vertical-align: middle;\n",
       "    }\n",
       "\n",
       "    .dataframe tbody tr th {\n",
       "        vertical-align: top;\n",
       "    }\n",
       "\n",
       "    .dataframe thead th {\n",
       "        text-align: right;\n",
       "    }\n",
       "</style>\n",
       "<table border=\"1\" class=\"dataframe\">\n",
       "  <thead>\n",
       "    <tr style=\"text-align: right;\">\n",
       "      <th></th>\n",
       "      <th>string_data</th>\n",
       "      <th>int_data</th>\n",
       "      <th>float_data</th>\n",
       "    </tr>\n",
       "  </thead>\n",
       "  <tbody>\n",
       "    <tr>\n",
       "      <th>2</th>\n",
       "      <td>banana</td>\n",
       "      <td>3</td>\n",
       "      <td>0.3</td>\n",
       "    </tr>\n",
       "    <tr>\n",
       "      <th>3</th>\n",
       "      <td>avocado</td>\n",
       "      <td>4</td>\n",
       "      <td>0.4</td>\n",
       "    </tr>\n",
       "  </tbody>\n",
       "</table>\n",
       "</div>"
      ],
      "text/plain": [
       "  string_data  int_data  float_data\n",
       "2      banana         3         0.3\n",
       "3     avocado         4         0.4"
      ]
     },
     "execution_count": 17,
     "metadata": {},
     "output_type": "execute_result"
    }
   ],
   "source": [
    "# Select the rows of the dataframe so that the float data is greater than 0.2 and the int data is less than 5\n",
    "df.loc[(df[\"float_data\"] > 0.2) & (df[\"int_data\"] < 5)]"
   ]
  },
  {
   "cell_type": "code",
   "execution_count": 18,
   "id": "a73b2dd8",
   "metadata": {
    "is_executing": true
   },
   "outputs": [
    {
     "data": {
      "text/plain": [
       "0.4"
      ]
     },
     "execution_count": 18,
     "metadata": {},
     "output_type": "execute_result"
    }
   ],
   "source": [
    "# use the .loc property to select the value of the float data in the row with index 3\n",
    "df.loc[3, \"float_data\"]"
   ]
  },
  {
   "cell_type": "code",
   "execution_count": 20,
   "id": "984af9d0",
   "metadata": {},
   "outputs": [
    {
     "data": {
      "text/html": [
       "<div>\n",
       "<style scoped>\n",
       "    .dataframe tbody tr th:only-of-type {\n",
       "        vertical-align: middle;\n",
       "    }\n",
       "\n",
       "    .dataframe tbody tr th {\n",
       "        vertical-align: top;\n",
       "    }\n",
       "\n",
       "    .dataframe thead th {\n",
       "        text-align: right;\n",
       "    }\n",
       "</style>\n",
       "<table border=\"1\" class=\"dataframe\">\n",
       "  <thead>\n",
       "    <tr style=\"text-align: right;\">\n",
       "      <th></th>\n",
       "      <th>string_data</th>\n",
       "      <th>int_data</th>\n",
       "      <th>float_data</th>\n",
       "      <th>new_col</th>\n",
       "    </tr>\n",
       "  </thead>\n",
       "  <tbody>\n",
       "    <tr>\n",
       "      <th>0</th>\n",
       "      <td>cabbage</td>\n",
       "      <td>1</td>\n",
       "      <td>0.1</td>\n",
       "      <td>500</td>\n",
       "    </tr>\n",
       "    <tr>\n",
       "      <th>1</th>\n",
       "      <td>artichoke</td>\n",
       "      <td>2</td>\n",
       "      <td>0.2</td>\n",
       "      <td>300</td>\n",
       "    </tr>\n",
       "    <tr>\n",
       "      <th>2</th>\n",
       "      <td>banana</td>\n",
       "      <td>3</td>\n",
       "      <td>0.3</td>\n",
       "      <td>200</td>\n",
       "    </tr>\n",
       "    <tr>\n",
       "      <th>3</th>\n",
       "      <td>avocado</td>\n",
       "      <td>4</td>\n",
       "      <td>0.4</td>\n",
       "      <td>400</td>\n",
       "    </tr>\n",
       "    <tr>\n",
       "      <th>4</th>\n",
       "      <td>apple</td>\n",
       "      <td>5</td>\n",
       "      <td>0.5</td>\n",
       "      <td>600</td>\n",
       "    </tr>\n",
       "    <tr>\n",
       "      <th>5</th>\n",
       "      <td>orange</td>\n",
       "      <td>6</td>\n",
       "      <td>0.6</td>\n",
       "      <td>500</td>\n",
       "    </tr>\n",
       "  </tbody>\n",
       "</table>\n",
       "</div>"
      ],
      "text/plain": [
       "  string_data  int_data  float_data  new_col\n",
       "0     cabbage         1         0.1      500\n",
       "1   artichoke         2         0.2      300\n",
       "2      banana         3         0.3      200\n",
       "3     avocado         4         0.4      400\n",
       "4       apple         5         0.5      600\n",
       "5      orange         6         0.6      500"
      ]
     },
     "execution_count": 20,
     "metadata": {},
     "output_type": "execute_result"
    }
   ],
   "source": [
    "# Add a new column to the dataframe containing the following data entries:\n",
    "new_data = [500, 300, 200, 400, 600, 500]\n",
    "\n",
    "df[\"new_col\"] = new_data\n",
    "df\n"
   ]
  },
  {
   "cell_type": "markdown",
   "id": "457f31e7",
   "metadata": {},
   "source": [
    "#### 1.2.1 Methods of `pandas` dataframes"
   ]
  },
  {
   "cell_type": "code",
   "execution_count": 22,
   "id": "c20a15d6",
   "metadata": {
    "is_executing": true
   },
   "outputs": [],
   "source": [
    "# Here we create a fake dataframe containing the results of an psychological test with 30 subjects.\n",
    "# Subjects can be left-handed or right-handed.\n",
    "# The test has 2 measures (reaction time - RT, and accuracy)\n",
    "def create_data_df():\n",
    "    np.random.seed(42)\n",
    "    subject_ability = np.random.uniform(0, 1, 30)\n",
    "    return pd.DataFrame({'subject': [f\"subject_{i}\" for i in range(30)],\n",
    "                       'handedness': np.random.choice(['left', 'right'], 30),\n",
    "                       'RT': subject_ability*100 + np.random.uniform(0, 50, 30),\n",
    "                       'accuracy': subject_ability + np.random.normal(0.8, 0.1, 30)})\n",
    "df = create_data_df()"
   ]
  },
  {
   "cell_type": "code",
   "execution_count": 29,
   "id": "deb115f8",
   "metadata": {
    "is_executing": true
   },
   "outputs": [],
   "source": [
    "# sort the dataframe by RT:\n"
   ]
  },
  {
   "cell_type": "code",
   "execution_count": 27,
   "id": "f400f63d",
   "metadata": {
    "is_executing": true
   },
   "outputs": [
    {
     "data": {
      "text/plain": [
       "RT          69.113435\n",
       "accuracy     1.252554\n",
       "dtype: float64"
      ]
     },
     "execution_count": 27,
     "metadata": {},
     "output_type": "execute_result"
    }
   ],
   "source": [
    "# Compute the mean and standard deviation of the RT and accuracy across:\n"
   ]
  },
  {
   "cell_type": "code",
   "execution_count": 28,
   "id": "9ba8c60e",
   "metadata": {
    "is_executing": true
   },
   "outputs": [],
   "source": [
    "# Use indexing to select the RT of the left-handed subjects, and compute its 90% percentile:\n",
    "\n"
   ]
  },
  {
   "cell_type": "code",
   "execution_count": null,
   "id": "5544450f",
   "metadata": {
    "is_executing": true
   },
   "outputs": [],
   "source": [
    "# Now use the percentile to select the accuracy for left-handed subjects with RT above the 90% percentile:\n"
   ]
  },
  {
   "cell_type": "code",
   "execution_count": null,
   "id": "23f238b4",
   "metadata": {
    "is_executing": true
   },
   "outputs": [],
   "source": [
    "# Create a scatter plot of RT vs accuracy for the right-handed subjects:\n"
   ]
  },
  {
   "cell_type": "code",
   "execution_count": null,
   "id": "291a2f1c",
   "metadata": {
    "is_executing": true
   },
   "outputs": [],
   "source": [
    "# Take the meteo dataset using the function below\n",
    "def get_meteo_dataset():\n",
    "    \"\"\"Get the meteo dataset from the open-meteo API.\n",
    "    Note how easy it is to get data from the web with pandas! As long as we give the URL of the csv data, pandas can read it.\n",
    "    \"\"\"\n",
    "    np.random.seed(42)\n",
    "    URL = \"https://api.open-meteo.com/v1/forecast?latitude=52.52&longitude=13.41&hourly=temperature_2m,relativehumidity_2m,precipitation,windspeed_10m,winddirection_10m&start_date=2023-02-01&end_date=2023-05-28&format=csv\"\n",
    "    df = pd.read_csv(URL, skiprows=3)  # read the csv file, skipping the first 3 rows (a header)\n",
    "    df.columns = [col.split(\" \")[0] for col in df.columns]  # simplify column names\n",
    "    df[\"time\"] = pd.to_datetime(df[\"time\"])  # convert the time column to datetime\n",
    "    df[\"hour\"], df[\"dayofyear\"] = df[\"time\"].dt.hour, df[\"time\"].dt.dayofyear  # extract the hour and day of year\n",
    "    df[\"weekdays\"] = df[\"time\"].dt.day_name()  # extract the day of the week\n",
    "\n",
    "    # Here we artificially corrupt some of the data to make it more interesting\n",
    "    missing_idx = np.random.choice(df.index[:1000], 100)\n",
    "    df.loc[missing_idx, :] = np.nan\n",
    "    return df\n",
    "\n"
   ]
  },
  {
   "cell_type": "code",
   "execution_count": null,
   "id": "c4c78a9b",
   "metadata": {
    "is_executing": true
   },
   "outputs": [],
   "source": [
    "# Plot the temperature and relative humidity for the first 1000 time points. Find points where there's missing data (interrupted line)."
   ]
  },
  {
   "cell_type": "code",
   "execution_count": null,
   "id": "599b76c3",
   "metadata": {},
   "outputs": [],
   "source": [
    "# Create a new interpolated temperature column by interpolating the temperature column of the dataframe:\n"
   ]
  },
  {
   "cell_type": "code",
   "execution_count": null,
   "id": "805126a9",
   "metadata": {},
   "outputs": [],
   "source": [
    "# Make a new plot with the interpolated temperature and the non-interpolated temperature \n",
    "# (plot the interpolated first!)\n"
   ]
  }
 ],
 "metadata": {
  "kernelspec": {
   "display_name": "Python [conda env:course_env]",
   "language": "python",
   "name": "conda-env-course_env-py"
  },
  "language_info": {
   "codemirror_mode": {
    "name": "ipython",
    "version": 3
   },
   "file_extension": ".py",
   "mimetype": "text/x-python",
   "name": "python",
   "nbconvert_exporter": "python",
   "pygments_lexer": "ipython3",
   "version": "3.9.16"
  }
 },
 "nbformat": 4,
 "nbformat_minor": 5
}
