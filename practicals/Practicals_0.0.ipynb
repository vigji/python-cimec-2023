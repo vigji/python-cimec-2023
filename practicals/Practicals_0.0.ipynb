{
 "cells": [
  {
   "cell_type": "markdown",
   "id": "03a44e75",
   "metadata": {},
   "source": [
    "# Practicals for lecture 0.0\n",
    "\n",
    "[![Open In Colab](https://colab.research.google.com/assets/colab-badge.svg)](https://colab.research.google.com/github/vigji/python-cimec/blob/main/practicals/Practicals_0.0.ipynb)"
   ]
  },
  {
   "cell_type": "markdown",
   "id": "1b2a9c8a",
   "metadata": {},
   "source": [
    "## Basic notebook usage"
   ]
  },
  {
   "cell_type": "code",
   "execution_count": null,
   "id": "0fa2575a",
   "metadata": {},
   "outputs": [],
   "source": [
    "# Explore the basic functionalities of a notebook. \n",
    "# Create a new comment cell, a new code cell, and try running some code in it.\n",
    "\n"
   ]
  },
  {
   "cell_type": "markdown",
   "id": "28220626",
   "metadata": {},
   "source": [
    "## Types"
   ]
  },
  {
   "cell_type": "markdown",
   "id": "9ce5ba5d",
   "metadata": {},
   "source": [
    "#### Basic maths"
   ]
  },
  {
   "cell_type": "code",
   "execution_count": null,
   "id": "8c099b85",
   "metadata": {},
   "outputs": [],
   "source": [
    "# Average those numbers: 49, 12, 86. then calculate the cube of the average and subtract 115885;\n",
    "# then calculate the square root, and assign it to a variable. Finally, convert it to an int and print it!\n",
    "\n",
    "result = (((49 + 12 + 86) / 3)**3 - 115885)**(1/2)\n",
    "\n",
    "result = int(result)\n",
    "print(result)"
   ]
  },
  {
   "cell_type": "code",
   "execution_count": null,
   "id": "8316e465",
   "metadata": {},
   "outputs": [],
   "source": [
    "# Determine the integer division and remainder from the following calculation, \n",
    "# and assign to variables: 12 divided by 5\n",
    "\n",
    "division_int = 12 // 5\n",
    "print(division_int)\n",
    "\n",
    "module = 12 % 5\n",
    "print(module)"
   ]
  },
  {
   "cell_type": "code",
   "execution_count": null,
   "id": "2c5c81d1",
   "metadata": {},
   "outputs": [],
   "source": [
    "# Consider a spinal motorneuron innervating the toe. If we scale the neuron up so that the soma get \n",
    "# to the diameter of a football ball, how long will the scaled axon be?\n",
    "# Ballpark all quantities and assign them to variables before using them in the calculation:\n",
    "soma_real_size = 50 * (10**-6)\n",
    "axon_real_size = 1\n",
    "\n",
    "soma_scaled_size = 0.3\n",
    "\n",
    "#  \n",
    "\n",
    "axon_scaled_size = (soma_scaled_size / soma_real_size) * axon_real_size\n",
    "axon_scaled_size"
   ]
  },
  {
   "cell_type": "code",
   "execution_count": null,
   "id": "7c574cdd",
   "metadata": {},
   "outputs": [],
   "source": [
    "# You can think of a camera as a device counting the photons that reach every pixel sensor during the exposure time.\n",
    "# If the maximum number of photons that reach a pixel is 50000, how many bits do you need to count them? \n",
    "# And how many bytes? \n",
    "# Is a Python int an efficient type for storing the information of a pixel of this device? \n",
    "# Remember, the Python int type uses at least 24 bytes, of which 8 bytes are used to store the number, \n",
    "# and the rest is overhead.\n",
    "\n",
    "2**16  # 16 bits, or 2 bytes"
   ]
  },
  {
   "cell_type": "markdown",
   "id": "31d0ec9e",
   "metadata": {},
   "source": [
    "#### Strings"
   ]
  },
  {
   "cell_type": "code",
   "execution_count": null,
   "id": "c557f71a",
   "metadata": {},
   "outputs": [],
   "source": [
    "# Create a Trump quote generator (https://www.youtube.com/watch?v=RDrfE9I8_hs) \n",
    "# by repeating 40 times the word \"China\". Start from the existing variable:\n",
    "quote = \"China\"\n",
    "\n",
    "# And remember what we have seen on matematical operations with strings!\n",
    "\n",
    "quote * 20"
   ]
  },
  {
   "cell_type": "code",
   "execution_count": null,
   "id": "b31d6cd9",
   "metadata": {},
   "outputs": [],
   "source": [
    "# Repeat the above, but incorporate spaces between the repeats \n",
    "# (keep using the variable defined above without redefining, and again remember math with strings!):\n",
    "\n",
    "(quote + \" \")*20"
   ]
  },
  {
   "cell_type": "code",
   "execution_count": null,
   "id": "ad114c2c",
   "metadata": {},
   "outputs": [],
   "source": [
    "# To complete the quote, format the result of the above operation in the following string:\n",
    "\n",
    "incipit = \"Let's say: {}!\"\n",
    "\n",
    "incipit.format((quote + \" \")*20)"
   ]
  },
  {
   "cell_type": "code",
   "execution_count": null,
   "id": "5e90532f",
   "metadata": {},
   "outputs": [],
   "source": [
    "# Split the following text in a list of individual words using the .split() method:\n",
    "\n",
    "text = \" Betty Botter bought some butter but, said she, the butter’s bitter. If I put it in my batter, it will make my batter bitter.\"\n",
    "\n",
    "text.split(\".\")"
   ]
  },
  {
   "cell_type": "code",
   "execution_count": null,
   "id": "a40782c6",
   "metadata": {},
   "outputs": [],
   "source": []
  }
 ],
 "metadata": {
  "kernelspec": {
   "display_name": "Python 3 (ipykernel)",
   "language": "python",
   "name": "python3"
  },
  "language_info": {
   "codemirror_mode": {
    "name": "ipython",
    "version": 3
   },
   "file_extension": ".py",
   "mimetype": "text/x-python",
   "name": "python",
   "nbconvert_exporter": "python",
   "pygments_lexer": "ipython3"
  }
 },
 "nbformat": 4,
 "nbformat_minor": 5
}
