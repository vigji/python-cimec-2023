{
 "cells": [
  {
   "cell_type": "markdown",
   "id": "03a44e75",
   "metadata": {},
   "source": [
    "# Practicals for lecture 0.0"
   ]
  },
  {
   "cell_type": "markdown",
   "id": "76cf1318",
   "metadata": {},
   "source": [
    "Partially adapted from material from Mateusz Kostecki, Ula Włodkowska,, Łucja Doradzińska, Andrew Want, Kasia Skowrońska"
   ]
  },
  {
   "cell_type": "markdown",
   "id": "1b2a9c8a",
   "metadata": {},
   "source": [
    "## Basic notebook usage"
   ]
  },
  {
   "cell_type": "code",
   "execution_count": null,
   "id": "0fa2575a",
   "metadata": {},
   "outputs": [],
   "source": [
    "# Explore the basic functionalities of a notebook. \n",
    "# Create a new comment cell, a new code cell, and try running some code in it."
   ]
  },
  {
   "cell_type": "markdown",
   "id": "28220626",
   "metadata": {},
   "source": [
    "## Types"
   ]
  },
  {
   "cell_type": "markdown",
   "id": "9ce5ba5d",
   "metadata": {},
   "source": [
    "#### Basic maths"
   ]
  },
  {
   "cell_type": "code",
   "execution_count": 33,
   "id": "8b93e16d",
   "metadata": {},
   "outputs": [
    {
     "data": {
      "text/plain": [
       "49.0"
      ]
     },
     "execution_count": 33,
     "metadata": {},
     "output_type": "execute_result"
    }
   ],
   "source": [
    "(49 + 12 + 86) / 3"
   ]
  },
  {
   "cell_type": "code",
   "execution_count": 40,
   "id": "55bcaffe",
   "metadata": {},
   "outputs": [
    {
     "data": {
      "text/plain": [
       "115885"
      ]
     },
     "execution_count": 40,
     "metadata": {},
     "output_type": "execute_result"
    }
   ],
   "source": [
    "49**3 - 42**2"
   ]
  },
  {
   "cell_type": "code",
   "execution_count": 41,
   "id": "7c646ce1",
   "metadata": {},
   "outputs": [
    {
     "data": {
      "text/plain": [
       "42.0"
      ]
     },
     "execution_count": 41,
     "metadata": {},
     "output_type": "execute_result"
    }
   ],
   "source": [
    "(49**3 - 115885)**(1/2)"
   ]
  },
  {
   "cell_type": "code",
   "execution_count": null,
   "id": "8c099b85",
   "metadata": {},
   "outputs": [],
   "source": [
    "# Average those numbers: 49, 12, 86. then calculate the cube of the mean and subtract 115885, \n",
    "# then calculate the square root, and assign it to a variable. If integer, convert to int. \n",
    "# Is it a reasonable result?\n",
    "\n"
   ]
  },
  {
   "cell_type": "code",
   "execution_count": null,
   "id": "8316e465",
   "metadata": {},
   "outputs": [],
   "source": [
    "# Determine the integer and remainder from the following calculation, and assign to variables: 12 divided by 5\n",
    "\n",
    "\n"
   ]
  },
  {
   "cell_type": "code",
   "execution_count": null,
   "id": "64019110",
   "metadata": {},
   "outputs": [],
   "source": [
    "# Write an expression to calculate the length of the axon of a spinal motorneuron innervating the toe,\n",
    "# if we were to scale its soma size to the diameter of a football ball. Ballpark all quantities and assign them \n",
    "# to variables before using them in the calculation:\n",
    "soma_real_size = ...\n",
    "axon_real_size = ...\n",
    "...\n",
    "\n",
    "scaled_size = ..."
   ]
  },
  {
   "cell_type": "code",
   "execution_count": null,
   "id": "245bc454",
   "metadata": {},
   "outputs": [],
   "source": [
    "# You can think of a camera as a device counting the photons that arrive at every pixel during the exposure time.\n",
    "# If the maximum number of photons that reach a pixel is 50000, how many bits do you need to count them? \n",
    "# And how many bytes? Is a Python int an efficient way of storing the information for a pixel for this camera? \n",
    "# (hint: use sys.getsizeof() if you don't remember the size of a python int in bytes)\n"
   ]
  },
  {
   "cell_type": "code",
   "execution_count": 28,
   "id": "82a2d86b",
   "metadata": {},
   "outputs": [
    {
     "data": {
      "text/plain": [
       "8"
      ]
     },
     "execution_count": 28,
     "metadata": {},
     "output_type": "execute_result"
    }
   ],
   "source": [
    "import sys\n",
    "n = 100000\n",
    "sys.getsizeof([1.,]*n) // n"
   ]
  },
  {
   "cell_type": "code",
   "execution_count": 10,
   "id": "cebd3818",
   "metadata": {},
   "outputs": [
    {
     "data": {
      "text/plain": [
       "16"
      ]
     },
     "execution_count": 10,
     "metadata": {},
     "output_type": "execute_result"
    }
   ],
   "source": [
    "# Google how much RAM you expect to have in a Google Colab session. Then, use the sys.getsizeof() function \n",
    "# to understand how memory allocation size changes as you make a list of 5, 10, 100, 100 float values. \n",
    "# Can you understand what is happening?\n",
    "# try to crash the session by using all available RAM creating the smallest list of floats \n",
    "# that does not fit in memory!\n",
    "from sys import getsizeof\n",
    "\n",
    "\n"
   ]
  },
  {
   "cell_type": "markdown",
   "id": "31d0ec9e",
   "metadata": {},
   "source": [
    "#### Strings"
   ]
  },
  {
   "cell_type": "code",
   "execution_count": 1,
   "id": "c557f71a",
   "metadata": {},
   "outputs": [],
   "source": [
    "# Create a Trump quote generator (https://www.youtube.com/watch?v=RDrfE9I8_hs) \n",
    "# by repeating 40 times the word \"China\". Start from the existing variable:\n",
    "quote = \"China\"\n",
    "\n"
   ]
  },
  {
   "cell_type": "code",
   "execution_count": 23,
   "id": "b31d6cd9",
   "metadata": {},
   "outputs": [
    {
     "data": {
      "text/plain": [
       "'China China China China China China China China China China China China China China China China China China China China '"
      ]
     },
     "execution_count": 23,
     "metadata": {},
     "output_type": "execute_result"
    }
   ],
   "source": [
    "# Repeat the above, but incorporate spaces between the repeats \n",
    "# (keep using the variable defined above without redefining):\n",
    "\n",
    "(quote + \" \") * 20"
   ]
  },
  {
   "cell_type": "code",
   "execution_count": 24,
   "id": "ad114c2c",
   "metadata": {},
   "outputs": [],
   "source": [
    "# To complete the quote, format the result of the above operation in the following string:\n",
    "\n",
    "incipit = \"Let's say: {}!\""
   ]
  },
  {
   "cell_type": "code",
   "execution_count": 26,
   "id": "5e90532f",
   "metadata": {},
   "outputs": [],
   "source": [
    "# Split the following text in a list of individual words:"
   ]
  },
  {
   "cell_type": "markdown",
   "id": "5333bf92",
   "metadata": {},
   "source": [
    "## Data containers"
   ]
  },
  {
   "cell_type": "markdown",
   "id": "cefcbc31",
   "metadata": {},
   "source": [
    "#### Lists"
   ]
  },
  {
   "cell_type": "code",
   "execution_count": 27,
   "id": "d36921d1",
   "metadata": {},
   "outputs": [],
   "source": [
    "# Start from the list defined above.\n",
    "# Take one every two elements of the first 10 elements from that list:\n"
   ]
  },
  {
   "cell_type": "code",
   "execution_count": 43,
   "id": "3751c1c3",
   "metadata": {},
   "outputs": [],
   "source": [
    "# Then, replace the first element of the list to a new string of your choice:\n"
   ]
  },
  {
   "cell_type": "code",
   "execution_count": 44,
   "id": "0b479eb3",
   "metadata": {},
   "outputs": [],
   "source": [
    "# Then, use the .append() method to join an additional string of your choice to the list:\n"
   ]
  },
  {
   "cell_type": "code",
   "execution_count": null,
   "id": "1e33e3d5",
   "metadata": {},
   "outputs": [],
   "source": [
    "# Finally, use the .extend() method to join 3 other strings of your choice to the list. \n",
    "# You can try to look for help using the ?list.extend command\n"
   ]
  },
  {
   "cell_type": "markdown",
   "id": "d44e8874",
   "metadata": {},
   "source": [
    "#### Dictionaries"
   ]
  },
  {
   "cell_type": "code",
   "execution_count": null,
   "id": "614e9c24",
   "metadata": {},
   "outputs": [],
   "source": [
    "# From the list above create a dictionary that has as keys each one of the five words, \n",
    "# and as value the length of that word. Appreciate the uglyness of the resulting code, \n",
    "# so that you'll be more grateful for for loops when we'll get there."
   ]
  },
  {
   "cell_type": "markdown",
   "id": "e0c52ebb",
   "metadata": {},
   "source": [
    "#### Tuples"
   ]
  },
  {
   "cell_type": "code",
   "execution_count": 20,
   "id": "61ae9855",
   "metadata": {},
   "outputs": [],
   "source": [
    "# Convert to a tuple the list defined above. Can you change the first element of the queue? Try!"
   ]
  },
  {
   "cell_type": "markdown",
   "id": "9fa0751d",
   "metadata": {},
   "source": [
    "#### Sets"
   ]
  },
  {
   "cell_type": "code",
   "execution_count": null,
   "id": "2323b9f7",
   "metadata": {},
   "outputs": [],
   "source": [
    "# Using sets, find all the elements of list 1 that are not in list 2:"
   ]
  },
  {
   "cell_type": "markdown",
   "id": "2d2a4f38",
   "metadata": {},
   "source": [
    "## Control structures"
   ]
  },
  {
   "cell_type": "markdown",
   "id": "5066fd11",
   "metadata": {},
   "source": [
    "#### Conditionals with if"
   ]
  },
  {
   "cell_type": "code",
   "execution_count": null,
   "id": "7c86051e",
   "metadata": {},
   "outputs": [],
   "source": [
    "# Initialize a new empty list, go through the list of word defined above, and add words to this\n",
    "# new list only if the word length is > 5"
   ]
  },
  {
   "cell_type": "code",
   "execution_count": 68,
   "id": "63d9f498",
   "metadata": {},
   "outputs": [],
   "source": [
    "comparison_list = [1, 100, 5, 26, 12, 15, 6, 7, 8]\n",
    "# Using comparisons and a loop, show with booleans which values are:\n",
    "# - greater than 7\n",
    "# - less than 20\n",
    "# - equal to or less than 8\n",
    "# - equal to or more than 12.\n",
    "\n",
    "# no constraints on how to nest conditionals and loops but try be efficient!\n"
   ]
  },
  {
   "cell_type": "markdown",
   "id": "8bc85d05",
   "metadata": {},
   "source": [
    "#### Iterations with for"
   ]
  },
  {
   "cell_type": "code",
   "execution_count": 42,
   "id": "b9d71cae",
   "metadata": {},
   "outputs": [
    {
     "data": {
      "text/plain": [
       "6"
      ]
     },
     "execution_count": 42,
     "metadata": {},
     "output_type": "execute_result"
    }
   ],
   "source": [
    "# Using a nested for loop, create a list of 3 elements, where each element is a list of length 2 \n",
    "# filled with numbers (yes, a list of lists - can you see the similarity with a matrix?).\n",
    "# you can fill it generating random numbers between 0 and some specified number n using random.randint(0, n)\n",
    "\n"
   ]
  },
  {
   "cell_type": "code",
   "execution_count": 2,
   "id": "b92a303f",
   "metadata": {},
   "outputs": [],
   "source": [
    "# Start from the list of words defined in the previous exercises. \n",
    "# Create again a dictionary where each word is the key, and the length of that word is the length,\n",
    "# but now in a smart way. Do it in both a plain for loop and with a dictionary comprehension\n",
    "\n"
   ]
  },
  {
   "cell_type": "markdown",
   "id": "58874096",
   "metadata": {},
   "source": [
    "#### Iterations with while"
   ]
  },
  {
   "cell_type": "code",
   "execution_count": 83,
   "id": "899b5706",
   "metadata": {},
   "outputs": [],
   "source": [
    "# Create a Netflix session simulator using a while loop and conditionals.\n",
    "\n",
    "# While you are in the binging stream, you \n",
    "#   1) start watching a new episode! Assign it a random rating from 1 to 10 with random.randint\n",
    "#   2) you remain in the binging loop unless it is a really crappy episode (score < 3 out of 10)\n",
    "#   3) if the episode is really crappy, but there's an big cliffhanger \n",
    "#      (probability of a cliffhanger: 1 out of 5), you keep watching anyway\n",
    "#   4) You also leave the loop if you finish the series (15 episodes)\n",
    "\n",
    "# At the end, print out the number of episodes watched in a session!\n",
    "\n"
   ]
  },
  {
   "cell_type": "code",
   "execution_count": null,
   "id": "64a1d43c",
   "metadata": {},
   "outputs": [],
   "source": [
    "# Use a for loop to run the simulator many times, and estimate the probability of finishing the series in one run:\n",
    "\n"
   ]
  }
 ],
 "metadata": {
  "kernelspec": {
   "display_name": "Python 3 (ipykernel)",
   "language": "python",
   "name": "python3"
  },
  "language_info": {
   "codemirror_mode": {
    "name": "ipython",
    "version": 3
   },
   "file_extension": ".py",
   "mimetype": "text/x-python",
   "name": "python",
   "nbconvert_exporter": "python",
   "pygments_lexer": "ipython3",
   "version": "3.9.13"
  }
 },
 "nbformat": 4,
 "nbformat_minor": 5
}
