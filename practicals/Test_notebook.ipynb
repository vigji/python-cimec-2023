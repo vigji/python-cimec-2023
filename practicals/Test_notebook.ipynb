{
 "cells": [
  {
   "cell_type": "markdown",
   "id": "0cb4b497",
   "metadata": {},
   "source": [
    "# Test notebook"
   ]
  },
  {
   "cell_type": "markdown",
   "id": "9f044ce9",
   "metadata": {},
   "source": [
    "This is just a test notebook. If you see it, you've come to the right place!"
   ]
  },
  {
   "cell_type": "markdown",
   "id": "693421e5",
   "metadata": {},
   "source": [
    "Can't wait to start? Try running your (first?) line of python code by pressing Ctrl+Enter on the following tab:"
   ]
  },
  {
   "cell_type": "code",
   "execution_count": 2,
   "id": "cf7f00cc",
   "metadata": {},
   "outputs": [],
   "source": [
    "import antigravity"
   ]
  },
  {
   "cell_type": "markdown",
   "id": "88392265",
   "metadata": {},
   "source": [
    "Magic, isn't it?\n",
    "\n",
    "See you soon!"
   ]
  }
 ],
 "metadata": {
  "kernelspec": {
   "display_name": "Python 3 (ipykernel)",
   "language": "python",
   "name": "python3"
  },
  "language_info": {
   "codemirror_mode": {
    "name": "ipython",
    "version": 3
   },
   "file_extension": ".py",
   "mimetype": "text/x-python",
   "name": "python",
   "nbconvert_exporter": "python",
   "pygments_lexer": "ipython3",
   "version": "3.9.13"
  }
 },
 "nbformat": 4,
 "nbformat_minor": 5
}
