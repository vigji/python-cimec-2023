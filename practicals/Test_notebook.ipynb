{
 "cells": [
  {
   "cell_type": "markdown",
   "id": "53f37b3e",
   "metadata": {},
   "source": [
    "# Test notebook"
   ]
  },
  {
   "cell_type": "markdown",
   "id": "adadd432",
   "metadata": {},
   "source": [
    "This is just a test notebook. If you see it, you've come to the right place!"
   ]
  },
  {
   "cell_type": "markdown",
   "id": "a13ce153",
   "metadata": {},
   "source": [
    "Can't wait to start? Try running your (first?) line of python code by pressing Ctrl+Enter on the following tab:"
   ]
  },
  {
   "cell_type": "code",
   "execution_count": null,
   "id": "c0903bd0",
   "metadata": {},
   "outputs": [],
   "source": [
    "import this"
   ]
  },
  {
   "cell_type": "markdown",
   "id": "dce3a148",
   "metadata": {},
   "source": [
    "Magic, isn't it?\n",
    "\n",
    "See you soon!"
   ]
  }
 ],
 "metadata": {
  "kernelspec": {
   "display_name": "Python 3 (ipykernel)",
   "language": "python",
   "name": "python3"
  },
  "language_info": {
   "codemirror_mode": {
    "name": "ipython",
    "version": 3
   },
   "file_extension": ".py",
   "mimetype": "text/x-python",
   "name": "python",
   "nbconvert_exporter": "python",
   "pygments_lexer": "ipython3",
   "version": "3.9.13"
  }
 },
 "nbformat": 4,
 "nbformat_minor": 5
}
