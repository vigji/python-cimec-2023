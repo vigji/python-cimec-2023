{
 "cells": [
  {
   "cell_type": "markdown",
   "metadata": {},
   "source": [
    "# Practicals 3.2\n"
   ]
  },
  {
   "cell_type": "markdown",
   "metadata": {},
   "source": [
    "## Practicals 3.2.0"
   ]
  },
  {
   "cell_type": "code",
   "execution_count": 11,
   "metadata": {},
   "outputs": [
    {
     "name": "stdout",
     "output_type": "stream",
     "text": [
      "4.9\n"
     ]
    }
   ],
   "source": [
    "import scipy.stats as stats\n",
    "import numpy as np\n",
    "# Use bootstrapping to verify that the probability of getting a \n",
    "# falsely positive result is 5% when testing 1000 hypotheses with a \n",
    "# p-value threshold of 0.05. To test this, generate in a loop pairs \n",
    "# of datasets of normally distributed values with the same mean and \n",
    "# standard deviation. Then, perform a t-test on each pair of datasets. \n",
    "# Count the number of times you get a p-value below 0.05. \n",
    "#Repeat this 1000 times and count the number of times you get a p-value below 0.05.\n",
    "\n",
    "N_TIMES = 1000\n",
    "N_SAMPLE = 100\n",
    "MEAN = 0\n",
    "STD = 1\n",
    "\n",
    "significant_count = 0\n",
    "for n in range(N_TIMES):\n",
    "    data1 = np.random.normal(MEAN, STD, N_SAMPLE)\n",
    "    data2 = np.random.normal(MEAN, STD, N_SAMPLE)    \n",
    "    \n",
    "    result = stats.ttest_ind(data1, data2)\n",
    "    \n",
    "    if result.pvalue <= 0.05:\n",
    "        significant_count += 1\n",
    "print((significant_count / N_TIMES)*100)"
   ]
  },
  {
   "cell_type": "code",
   "execution_count": 19,
   "metadata": {},
   "outputs": [
    {
     "data": {
      "text/plain": [
       "[8.261945608702617e-05, 6.825250486741652e-05]"
      ]
     },
     "execution_count": 19,
     "metadata": {},
     "output_type": "execute_result"
    }
   ],
   "source": [
    "np.random.seed(42)\n",
    "\n",
    "data1 = np.random.normal(0, 1, 50)\n",
    "data2 = np.random.normal(0.5, 1, 50)\n",
    "\n",
    "# Let's try some p-hacking! Loop over multiple possible comparison tests \n",
    "# (paired, non-paired, parametric, non parametric, etc.) and see if you can find \n",
    "# a significant result!\n",
    "# Try to do everything in a single loop where you use a variable to which \n",
    "# you assign the function you want to use.\n",
    "\n",
    "result_list = []\n",
    "for comparison_function in [stats.ttest_ind, stats.wilcoxon]:\n",
    "    results = comparison_function(data1, data2)\n",
    "    result_list.append(results.pvalue)\n",
    "result_list"
   ]
  },
  {
   "cell_type": "markdown",
   "metadata": {},
   "source": [
    "# Practicals 3.2.1"
   ]
  },
  {
   "cell_type": "code",
   "execution_count": null,
   "metadata": {
    "is_executing": true
   },
   "outputs": [],
   "source": [
    "import numpy as np\n",
    "# Create an histogram of the following data array:\n",
    "data = np.random.normal(0, 1, 1000)"
   ]
  },
  {
   "cell_type": "code",
   "execution_count": null,
   "metadata": {
    "is_executing": true
   },
   "outputs": [],
   "source": [
    "# Then, transform it to have mean 0 and standard deviation 1 using the scikit-learn transformer."
   ]
  },
  {
   "cell_type": "code",
   "execution_count": null,
   "metadata": {},
   "outputs": [],
   "source": [
    "# Apply the same transformation over a new dataset:\n",
    "data2 = np.random.normal(0, 1, 1000)\n",
    "\n"
   ]
  },
  {
   "cell_type": "code",
   "execution_count": null,
   "metadata": {},
   "outputs": [],
   "source": [
    "# Load the digit data set from sklearn.datasets.\n",
    "# The matrix you get is a 2D array of size (n_samples, n_features). Each row corresponds to a digit image of size 8x8 pixels. The target array contains the digit value for each image.\n",
    "\n",
    "from sklearn.datasets import load_digits\n",
    "\n",
    "data, labels = load_digits(return_X_y=True)"
   ]
  },
  {
   "cell_type": "code",
   "execution_count": null,
   "metadata": {},
   "outputs": [],
   "source": [
    "# Plot the first images of the dataset! To plot them, reshape the 64 dimensions (pixels) of a data point into a 8x8 image matrix to imshow."
   ]
  },
  {
   "cell_type": "code",
   "execution_count": null,
   "metadata": {},
   "outputs": [],
   "source": [
    "# It is difficult to visualize the distribution of those points! Use dimensionality reduction to project the data into 2 dimensions. Plot those new dimensions using the labels as color."
   ]
  },
  {
   "cell_type": "code",
   "execution_count": null,
   "metadata": {
    "is_executing": true
   },
   "outputs": [],
   "source": [
    "# Split the data into train and test set."
   ]
  },
  {
   "cell_type": "code",
   "execution_count": null,
   "metadata": {
    "is_executing": true
   },
   "outputs": [],
   "source": [
    "# Create a K-Nearest Neighbors classifier and train it on the train set."
   ]
  },
  {
   "cell_type": "code",
   "execution_count": null,
   "metadata": {},
   "outputs": [],
   "source": [
    "# Evaluate the accuracy of the classifier on the test set by creating a confounding matrix. Plot it and try to interpret it!"
   ]
  }
 ],
 "metadata": {
  "kernelspec": {
   "display_name": "Python [conda env:course_env]",
   "language": "python",
   "name": "conda-env-course_env-py"
  },
  "language_info": {
   "codemirror_mode": {
    "name": "ipython",
    "version": 3
   },
   "file_extension": ".py",
   "mimetype": "text/x-python",
   "name": "python",
   "nbconvert_exporter": "python",
   "pygments_lexer": "ipython3",
   "version": "3.9.16"
  }
 },
 "nbformat": 4,
 "nbformat_minor": 1
}
