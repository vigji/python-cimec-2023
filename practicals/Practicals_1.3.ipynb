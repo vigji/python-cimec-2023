{
 "cells": [
  {
   "cell_type": "markdown",
   "id": "03a44e75",
   "metadata": {},
   "source": [
    "# Practicals for lecture 1.3\n",
    "\n",
    "[![Open In Colab](https://colab.research.google.com/assets/colab-badge.svg)](https://colab.research.google.com/github/vigji/python-cimec/blob/main/practicals/Practicals_1.3.ipynb)"
   ]
  },
  {
   "cell_type": "markdown",
   "id": "2d2a4f38",
   "metadata": {},
   "source": [
    "## More on `pandas`"
   ]
  },
  {
   "cell_type": "markdown",
   "id": "e3aba48b",
   "metadata": {},
   "source": [
    "#### 1.2.2 Groupby"
   ]
  },
  {
   "cell_type": "code",
   "execution_count": null,
   "id": "6e12fcc4",
   "metadata": {
    "is_executing": true
   },
   "outputs": [],
   "source": [
    "# This new meteo dataset has columns for the day of the year, hour of the day, and day of the week.\n",
    "# Use the groupby method to compute the mean temperature for each day:\n"
   ]
  },
  {
   "cell_type": "code",
   "execution_count": null,
   "id": "e6eebe25",
   "metadata": {
    "is_executing": true
   },
   "outputs": [],
   "source": [
    "# Use the groupby method to compute the mean temperature for each hour of the day:\n"
   ]
  },
  {
   "cell_type": "code",
   "execution_count": null,
   "id": "b981630b",
   "metadata": {},
   "outputs": [],
   "source": [
    "# Use the groupby method to compute the cumulative precipitations for each day of the week:\n"
   ]
  },
  {
   "cell_type": "code",
   "execution_count": null,
   "id": "482e4d20",
   "metadata": {
    "is_executing": true
   },
   "outputs": [],
   "source": [
    "# Combine indexing and the groupby method to compute the mean temperature for each day of the week, but only in the first 12 hours of the day:\n"
   ]
  },
  {
   "cell_type": "code",
   "execution_count": null,
   "id": "8cc667be",
   "metadata": {},
   "outputs": [],
   "source": []
  }
 ],
 "metadata": {
  "kernelspec": {
   "display_name": "Python [conda env:course_env]",
   "language": "python",
   "name": "conda-env-course_env-py"
  },
  "language_info": {
   "codemirror_mode": {
    "name": "ipython",
    "version": 3
   },
   "file_extension": ".py",
   "mimetype": "text/x-python",
   "name": "python",
   "nbconvert_exporter": "python",
   "pygments_lexer": "ipython3",
   "version": "3.9.16"
  }
 },
 "nbformat": 4,
 "nbformat_minor": 5
}
