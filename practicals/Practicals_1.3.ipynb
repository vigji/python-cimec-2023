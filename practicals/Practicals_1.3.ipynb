{
 "cells": [
  {
   "cell_type": "markdown",
   "id": "03a44e75",
   "metadata": {},
   "source": [
    "# Practicals for lecture 1.3\n",
    "\n",
    "[![Open In Colab](https://colab.research.google.com/assets/colab-badge.svg)](https://colab.research.google.com/github/vigji/python-cimec/blob/main/practicals/Practicals_1.3.ipynb)"
   ]
  },
  {
   "cell_type": "markdown",
   "id": "2d2a4f38",
   "metadata": {},
   "source": [
    "## More on `pandas`"
   ]
  },
  {
   "cell_type": "code",
   "execution_count": null,
   "id": "295a9775",
   "metadata": {},
   "outputs": [],
   "source": [
    "import numpy as np\n",
    "import pandas as pd\n",
    "from matplotlib import pyplot as plt"
   ]
  },
  {
   "cell_type": "markdown",
   "id": "2260373b",
   "metadata": {},
   "source": [
    "#### 1.3.0 Organize a dataframe"
   ]
  },
  {
   "cell_type": "code",
   "execution_count": null,
   "id": "43071cc4",
   "metadata": {},
   "outputs": [],
   "source": [
    "# Let's have a look into how to organize data in a dataframe.\n",
    "\n",
    "# Take the following function that generates results for many subjects on\n",
    "# an experiment with experimental trials of different difficulty levels.\n",
    "\n",
    "def get_experiment_block_data(n_subjects=50, difficulty_levels=(1, 2, 3, 4, 5), n_repetitions=50):\n",
    "    \"\"\"Generate a dataframe with results from an experiment with experimental blocks.\n",
    "\n",
    "    Parameters\n",
    "    ----------\n",
    "    n_reps : int\n",
    "        Number of experimental blocks.\n",
    "    n_subjects : int\n",
    "        Number of subjects.\n",
    "    difficulty_levels : tuple\n",
    "        Difficulty levels of the experimental blocks.\n",
    "\n",
    "    Returns\n",
    "    -------\n",
    "    dict\n",
    "        A dictionary with the results of the experiment for each subject.\n",
    "\n",
    "\n",
    "    \"\"\"\n",
    "\n",
    "\n",
    "    np.random.seed(42)\n",
    "    subject_dict = dict()\n",
    "    for subject in range(n_subjects):\n",
    "        subject_ability = np.random.randint(1, 6)\n",
    "        difficulty_level_arr = np.random.choice(difficulty_levels, size=n_repetitions)\n",
    "        rt = np.random.normal(1000, 100, size=n_repetitions) * difficulty_level_arr / subject_ability\n",
    "        error = np.random.uniform(0, 1000*difficulty_level_arr / subject_ability, size=n_repetitions)\n",
    "\n",
    "        subject_dict[f\"subject_{subject}\"] = dict(\n",
    "            difficulty_level=difficulty_level_arr,\n",
    "            rt=rt,\n",
    "            error=error,\n",
    "        )\n",
    "\n",
    "    return subject_dict\n",
    "\n",
    "\n",
    "# Run the function to generate the data dictionary.\n",
    "# Every entry of the dictionary (a subject) contains arrays \n",
    "# for the trial difficulty level, reaction time, and error:\n",
    "data = get_experiment_block_data()\n",
    "\n",
    "# Convert the data to a dataframe:\n",
    "\n"
   ]
  },
  {
   "cell_type": "code",
   "execution_count": null,
   "id": "c01fd768",
   "metadata": {},
   "outputs": [],
   "source": [
    "# Select the data for subject 0, and plot the reaction time as a function of the trial difficulty level:\n"
   ]
  },
  {
   "cell_type": "code",
   "execution_count": null,
   "id": "77864f09",
   "metadata": {},
   "outputs": [],
   "source": [
    "# Load the subjects dataframe from the csv file at the url:\n",
    "# https://raw.githubusercontent.com/vigji/python-cimec/main/practicals/data/subjects_df.csv\n"
   ]
  },
  {
   "cell_type": "code",
   "execution_count": null,
   "id": "f5a1d632",
   "metadata": {},
   "outputs": [],
   "source": [
    "# Now use boolean indexing on the subject dataframe to include only left-handed males \n",
    "# above 30 years in the analysis.\n",
    "# Plot the reaction time as a function of the trial difficulty level for this subpopulation:\n",
    "\n"
   ]
  },
  {
   "cell_type": "markdown",
   "id": "e2ea8007",
   "metadata": {},
   "source": [
    "#### 1.3.1 `.groupby()` and index broadcasting"
   ]
  },
  {
   "cell_type": "code",
   "execution_count": null,
   "id": "6e12fcc4",
   "metadata": {},
   "outputs": [],
   "source": [
    "# Take the meteo dataset using the function below\n",
    "def get_meteo_dataset():\n",
    "    \"\"\"Get the meteo dataset from the open-meteo API.\n",
    "    Note how easy it is to get data from the web with pandas! As long as we give the URL of the csv data, pandas can read it.\n",
    "    \"\"\"\n",
    "    np.random.seed(42)\n",
    "    URL = \"https://api.open-meteo.com/v1/forecast?latitude=52.52&longitude=13.41&hourly=temperature_2m,relativehumidity_2m,precipitation,windspeed_10m,winddirection_10m&start_date=2023-02-01&end_date=2023-05-28&format=csv\"\n",
    "    df = pd.read_csv(URL, skiprows=3)  # read the csv file, skipping the first 3 rows (a header)\n",
    "    df.columns = [col.split(\" \")[0] for col in df.columns]  # simplify column names\n",
    "    df[\"time\"] = pd.to_datetime(df[\"time\"])  # convert the time column to datetime\n",
    "    df[\"hour\"], df[\"dayofyear\"] = df[\"time\"].dt.hour, df[\"time\"].dt.dayofyear  # extract the hour and day of year\n",
    "\n",
    "    # Here we artificially corrupt some of the data to make it more interesting\n",
    "    missing_idx = np.random.choice(df.index[:1000], 100)\n",
    "    df.loc[missing_idx, :] = np.nan\n",
    "    return df\n",
    "\n",
    "# This new meteo dataset has columns for the day of the year, hour of the day, and day of the week.\n",
    "# Check out the data and make sure we don't have missing values!"
   ]
  },
  {
   "cell_type": "code",
   "execution_count": null,
   "id": "e6eebe25",
   "metadata": {},
   "outputs": [],
   "source": [
    "# Use the groupby method to compute the mean temperature for each hour of the day:\n"
   ]
  },
  {
   "cell_type": "code",
   "execution_count": null,
   "id": "b981630b",
   "metadata": {},
   "outputs": [],
   "source": [
    "# Using pandas index broadcasting, subtract from each day of the year the average temperature:\n"
   ]
  },
  {
   "cell_type": "markdown",
   "id": "c25f1042",
   "metadata": {},
   "source": [
    "#### 1.3.2 `.rolling()`"
   ]
  },
  {
   "cell_type": "code",
   "execution_count": null,
   "id": "123170df",
   "metadata": {},
   "outputs": [],
   "source": [
    "# Use rolling to perform a moving average of the precipations in a window of 24 hours, and plot the result:\n"
   ]
  }
 ],
 "metadata": {
  "kernelspec": {
   "display_name": "Python [conda env:course_env]",
   "language": "python",
   "name": "conda-env-course_env-py"
  },
  "language_info": {
   "codemirror_mode": {
    "name": "ipython",
    "version": 3
   },
   "file_extension": ".py",
   "mimetype": "text/x-python",
   "name": "python",
   "nbconvert_exporter": "python",
   "pygments_lexer": "ipython3"
  }
 },
 "nbformat": 4,
 "nbformat_minor": 5
}
