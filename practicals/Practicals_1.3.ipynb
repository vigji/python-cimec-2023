{
 "cells": [
  {
   "cell_type": "markdown",
   "id": "03a44e75",
   "metadata": {},
   "source": [
    "# Practicals for lecture 1.3\n",
    "\n",
    "[![Open In Colab](https://colab.research.google.com/assets/colab-badge.svg)](https://colab.research.google.com/github/vigji/python-cimec/blob/main/practicals/Practicals_1.3.ipynb)"
   ]
  },
  {
   "cell_type": "markdown",
   "id": "2d2a4f38",
   "metadata": {},
   "source": [
    "## More on `pandas`"
   ]
  },
  {
   "cell_type": "code",
   "execution_count": null,
   "id": "295a9775",
   "metadata": {},
   "outputs": [],
   "source": [
    "import numpy as np\n",
    "import pandas as pd\n",
    "from matplotlib import pyplot as plt"
   ]
  },
  {
   "cell_type": "markdown",
   "id": "2260373b",
   "metadata": {},
   "source": [
    "#### 1.3.0 Organize a dataframe"
   ]
  },
  {
   "cell_type": "code",
   "execution_count": null,
   "id": "0f2f3e6e",
   "metadata": {},
   "outputs": [],
   "source": [
    "# Let's have a look into how to organize data in a dataframe.\n",
    "\n",
    "# Take the following function that generates results for many subjects on\n",
    "# an experiment with experimental trials of different difficulty levels.\n",
    "\n",
    "def get_experiment_block_data(n_subjects=50, difficulty_levels=(1, 2, 3, 4, 5), n_repetitions=50):\n",
    "    \"\"\"Generate a dataframe with results from an experiment with experimental blocks.\n",
    "\n",
    "    Parameters\n",
    "    ----------\n",
    "    n_reps : int\n",
    "        Number of experimental blocks.\n",
    "    n_subjects : int\n",
    "        Number of subjects.\n",
    "    difficulty_levels : tuple\n",
    "        Difficulty levels of the experimental blocks.\n",
    "\n",
    "    Returns\n",
    "    -------\n",
    "    dict\n",
    "        A dictionary with the results of the experiment for each subject.\n",
    "\n",
    "\n",
    "    \"\"\"\n",
    "\n",
    "\n",
    "    np.random.seed(42)\n",
    "    subject_dict = dict()\n",
    "    for subject in range(n_subjects):\n",
    "        subject_ability = np.random.randint(1, 6)\n",
    "        difficulty_level_arr = np.random.choice(difficulty_levels, size=n_repetitions)\n",
    "        rt = np.random.normal(1000, 100, size=n_repetitions) * difficulty_level_arr / subject_ability\n",
    "        error = np.random.uniform(0, 1000*difficulty_level_arr / subject_ability, size=n_repetitions)\n",
    "\n",
    "        subject_dict[f\"subject_{subject}\"] = dict(\n",
    "            difficulty_level=difficulty_level_arr,\n",
    "            rt=rt,\n",
    "            error=error,\n",
    "        )\n",
    "\n",
    "    return subject_dict\n",
    "\n",
    "\n",
    "# Run the function to generate the data dictionary.\n",
    "# Every entry of the dictionary (a subject) contains arrays \n",
    "# for the trial difficulty level, reaction time, and error:\n",
    "data = get_experiment_block_data()\n",
    "\n",
    "# Convert the data to a dataframe:\n",
    "\n"
   ]
  },
  {
   "cell_type": "code",
   "execution_count": null,
   "id": "83988d69",
   "metadata": {},
   "outputs": [],
   "source": [
    "dataframes_list = []\n",
    "\n",
    "for key, subject_data in data.items():\n",
    "    subject_df = pd.DataFrame(subject_data)\n",
    "    \n",
    "    subject_df[\"subject\"] = key\n",
    "    dataframes_list.append(subject_df)\n",
    "    \n",
    "trials_df = pd.concat(dataframes_list)\n",
    "trials_df = trials_df.reset_index()\n",
    "trials_df"
   ]
  },
  {
   "cell_type": "code",
   "execution_count": null,
   "id": "c01fd768",
   "metadata": {},
   "outputs": [],
   "source": [
    "# Select the data for subject 0, and plot the reaction time as a function of the trial difficulty level:\n",
    "subject_df = trials_df[trials_df[\"subject\"] == \"subject_0\"]\n",
    "# plt.figure()\n",
    "# plt.scatter(subject_df[\"difficulty_level\"], subject_df[\"rt\"])\n",
    "\n",
    "subject_df.plot(kind=\"scatter\", x=\"difficulty_level\", y=\"rt\")"
   ]
  },
  {
   "cell_type": "code",
   "execution_count": null,
   "id": "0de2ce21",
   "metadata": {},
   "outputs": [],
   "source": [
    "?pd.read_csv"
   ]
  },
  {
   "cell_type": "code",
   "execution_count": null,
   "id": "77864f09",
   "metadata": {},
   "outputs": [],
   "source": [
    "# Load the subjects dataframe from the csv file at the url:\n",
    "# https://raw.githubusercontent.com/vigji/python-cimec/main/practicals/data/subjects_df.csv\n",
    "\n",
    "subject_df = pd.read_csv(\"https://raw.githubusercontent.com/vigji/python-cimec/main/practicals/data/subjects_df.csv\",\n",
    "                         index_col=0)\n",
    "subject_df"
   ]
  },
  {
   "cell_type": "code",
   "execution_count": null,
   "id": "f5a1d632",
   "metadata": {},
   "outputs": [],
   "source": [
    "# Now use boolean indexing on the subject dataframe to include only left-handed males \n",
    "# above 30 years in the analysis.\n",
    "# Plot the reaction time as a function of the trial difficulty level for this subpopulation:\n",
    "selector = (subject_df[\"handedness\"] == \"left\") & (subject_df[\"sex\"] == \"M\") & (subject_df[\"age\"] > 30)\n",
    "\n",
    "included_subjects = subject_df[selector].index\n"
   ]
  },
  {
   "cell_type": "code",
   "execution_count": null,
   "id": "1ad5720b",
   "metadata": {},
   "outputs": [],
   "source": [
    "# Select the data for subject 0, and plot the reaction time as a function of the trial difficulty level:\n",
    "included_subjects_df = trials_df[trials_df[\"subject\"].isin(included_subjects)]\n",
    "\n",
    "included_subjects_df.plot(kind=\"scatter\", x=\"difficulty_level\", y=\"rt\")"
   ]
  }
 ],
 "metadata": {
  "kernelspec": {
   "display_name": "Python [conda env:course_env]",
   "language": "python",
   "name": "conda-env-course_env-py"
  },
  "language_info": {
   "codemirror_mode": {
    "name": "ipython",
    "version": 3
   },
   "file_extension": ".py",
   "mimetype": "text/x-python",
   "name": "python",
   "nbconvert_exporter": "python",
   "pygments_lexer": "ipython3"
  }
 },
 "nbformat": 4,
 "nbformat_minor": 5
}
