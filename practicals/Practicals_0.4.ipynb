{
 "cells": [
  {
   "cell_type": "markdown",
   "id": "03a44e75",
   "metadata": {},
   "source": [
    "# Practicals for lecture 0.4\n",
    "\n",
    "[![Open In Colab](https://colab.research.google.com/assets/colab-badge.svg)](https://colab.research.google.com/github/vigji/python-cimec/blob/main/practicals/Practicals_0.4.ipynb)"
   ]
  },
  {
   "cell_type": "markdown",
   "id": "2d2a4f38",
   "metadata": {},
   "source": [
    "## Classes and objects"
   ]
  },
  {
   "cell_type": "markdown",
   "id": "99d801e0",
   "metadata": {},
   "source": [
    "#### 0.4.0 Explore objects with `dir` and `getattr`"
   ]
  },
  {
   "cell_type": "code",
   "execution_count": null,
   "id": "a8c945b0",
   "metadata": {},
   "outputs": [],
   "source": [
    "# Use dir to make a list of all the attributes of a string variable:\n",
    "\n",
    "a_string = \"an innocent string\""
   ]
  },
  {
   "cell_type": "code",
   "execution_count": null,
   "id": "62b92d56",
   "metadata": {},
   "outputs": [],
   "source": [
    "# Now loop over this list and use getattr to get each attribute from the list:\n",
    "\n"
   ]
  },
  {
   "cell_type": "code",
   "execution_count": null,
   "id": "a0141fe8",
   "metadata": {},
   "outputs": [],
   "source": [
    "# Do the same loop defined above, but now use the callable function \n",
    "# to split the list of attributes into callable (i.e., methods) and non-callable attributes.\n"
   ]
  },
  {
   "cell_type": "markdown",
   "id": "ca39eab1",
   "metadata": {},
   "source": [
    "#### 0.4.1 Create a new class"
   ]
  },
  {
   "cell_type": "code",
   "execution_count": null,
   "id": "19c01631",
   "metadata": {},
   "outputs": [],
   "source": [
    "# Define a `Polygon` class that takes as inputs a list of coordinates \n",
    "# when it is created and keeps them in a `vertices` attribute:\n",
    "\n",
    "class Polygon:\n",
    "    ..."
   ]
  },
  {
   "cell_type": "code",
   "execution_count": null,
   "id": "a1ba02f8",
   "metadata": {},
   "outputs": [],
   "source": [
    "# Now add a `calculate_perimeter()` method in the class above to calculate\n",
    "# the perimeter from the vertices list (you can use code from the last practical!)\n"
   ]
  },
  {
   "cell_type": "code",
   "execution_count": null,
   "id": "0d3326dd",
   "metadata": {},
   "outputs": [],
   "source": [
    "# Overwrite the `__str__()` method to print all the vertices \n",
    "# when the class is `print`ed"
   ]
  },
  {
   "cell_type": "code",
   "execution_count": null,
   "id": "0a41c6be",
   "metadata": {},
   "outputs": [],
   "source": [
    "# Overwrite the `__eq__()` method so that two polygons with the same vertices are\n",
    "# considered the same"
   ]
  },
  {
   "cell_type": "markdown",
   "id": "40a2bb89",
   "metadata": {},
   "source": [
    "#### 0.4.2 Inheritance"
   ]
  },
  {
   "cell_type": "code",
   "execution_count": null,
   "id": "8e1fbb22",
   "metadata": {},
   "outputs": [],
   "source": [
    "# Define a new `Square` class by subclassing the `Polygon class. \n",
    "# # `Square` takes as inputs an origin and a side_length argument,\n",
    "# calculates all the vertices positions in the `__init__()`, and \n",
    "# calls the parent `__init__()` with this list of vertices.\n",
    "\n",
    "\n",
    "..."
   ]
  },
  {
   "cell_type": "code",
   "execution_count": null,
   "id": "30cf7c47",
   "metadata": {},
   "outputs": [],
   "source": [
    "# Overwrite the `calculate_perimeter()` method to compute the perimeter more efficiently!"
   ]
  },
  {
   "cell_type": "code",
   "execution_count": null,
   "id": "aef16d90",
   "metadata": {},
   "outputs": [],
   "source": [
    "# Define a new `area` method to compute the area of the square!"
   ]
  }
 ],
 "metadata": {
  "kernelspec": {
   "display_name": "Python 3 (ipykernel)",
   "language": "python",
   "name": "python3"
  },
  "language_info": {
   "codemirror_mode": {
    "name": "ipython",
    "version": 3
   },
   "file_extension": ".py",
   "mimetype": "text/x-python",
   "name": "python",
   "nbconvert_exporter": "python",
   "pygments_lexer": "ipython3"
  }
 },
 "nbformat": 4,
 "nbformat_minor": 5
}
