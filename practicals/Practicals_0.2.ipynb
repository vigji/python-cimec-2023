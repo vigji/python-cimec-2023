{
 "cells": [
  {
   "cell_type": "markdown",
   "id": "03a44e75",
   "metadata": {},
   "source": [
    "# Practicals for lecture 0.2\n",
    "\n",
    "[![Open In Colab](https://colab.research.google.com/assets/colab-badge.svg)](https://colab.research.google.com/github/vigji/python-cimec/blob/main/practicals/Practicals_0.2.ipynb)"
   ]
  },
  {
   "cell_type": "markdown",
   "id": "2d2a4f38",
   "metadata": {},
   "source": [
    "## Control structures"
   ]
  },
  {
   "cell_type": "markdown",
   "id": "2bd66929",
   "metadata": {},
   "source": [
    "#### 0.2.0 IDE tricks, the  `in` keyword"
   ]
  },
  {
   "cell_type": "code",
   "execution_count": null,
   "id": "e2987d48",
   "metadata": {},
   "outputs": [],
   "source": [
    "%%timeit\n",
    "# measure how long does it take for this code to run:\n",
    "# Remember that %%timeit should be at the very beginning of the cell - even before comments!\n",
    "\n",
    "a_list = []\n",
    "for i in range(100):\n",
    "    a_list.append([i**2 % 5 for i in range(1000)])"
   ]
  },
  {
   "cell_type": "code",
   "execution_count": null,
   "id": "445a2da3",
   "metadata": {},
   "outputs": [],
   "source": [
    "# Use the in statement to check if a_number is in a_list:\n",
    "a_number = 12\n",
    "a_list = [1, 3, 12, 14]\n",
    "\n",
    "print(a_number in a_list)\n",
    "\n",
    "# Can you guess a way to check if a_number is not in a_list?\n",
    "print(a_number not in a_list)\n"
   ]
  },
  {
   "cell_type": "code",
   "execution_count": null,
   "id": "738bf357",
   "metadata": {},
   "outputs": [],
   "source": [
    "# Use the in statement to check if a_key is in the dictionary keywords, and if a_value is in the dictionary values:\n",
    "a_keyword = \"python\"\n",
    "a_value = 100\n",
    "a_dict = dict(python=100, matlab=10, r=50)\n",
    "\n",
    "print(a_keyword in a_dict)\n",
    "print(a_value in a_dict.values())"
   ]
  },
  {
   "cell_type": "markdown",
   "id": "58874096",
   "metadata": {},
   "source": [
    "#### 0.2.1 Iterations with `while`"
   ]
  },
  {
   "cell_type": "code",
   "execution_count": null,
   "id": "ed1f16e6",
   "metadata": {},
   "outputs": [],
   "source": [
    "# Write a while loop over integer numbers that terminates when you encounter a multiple of both 10 and 12.\n",
    "\n"
   ]
  },
  {
   "cell_type": "code",
   "execution_count": null,
   "id": "5672c982",
   "metadata": {},
   "outputs": [],
   "source": [
    "# For the next exercise, we will need to generate random numbers. You can create random numbers with the \n",
    "# `random` library, after importing it (we will see `import` in details in the future).\n",
    "import random\n",
    "\n",
    "# To generate random integers between min_val and max_val, we can write:\n",
    "min_val = 2  # number will be >= than min\n",
    "max_val = 10  # number will be <= than max\n",
    "\n",
    "random_int = random.randint(min_val, max_val)\n",
    "print(f\"A random int: {random_int}\")"
   ]
  },
  {
   "cell_type": "code",
   "execution_count": null,
   "id": "88af1019",
   "metadata": {},
   "outputs": [],
   "source": [
    "# To generate random floats between min_val and max_val, we can write:\n",
    "random_float = random.uniform(min_val, max_val)\n",
    "print(f\"A random float: {random_float}\")"
   ]
  },
  {
   "cell_type": "code",
   "execution_count": null,
   "id": "d0c106bb",
   "metadata": {},
   "outputs": [],
   "source": [
    "# Try to generate a random number with uniform distribution between 0 and 1.\n",
    "# Then, use this number in a comparison so that the outcome of the comparison is True 1 every 5 times:\n",
    "random_val = ...\n",
    "\n",
    "outcome = ...  # assign to outcome the result of a comparison"
   ]
  },
  {
   "cell_type": "code",
   "execution_count": null,
   "id": "899b5706",
   "metadata": {},
   "outputs": [],
   "source": [
    "# Create a Netflix session simulator using a while loop and conditionals.\n",
    "\n",
    "# While you are in the binging stream, you \n",
    "#   1) start watching a new episode! Assign it a random rating from 1 to 10 with random.randint\n",
    "#   2) you remain in the binging loop unless it is a really crappy episode (score < 3 out of 10)\n",
    "#   4) You also leave the loop if you finish the series (15 episodes)\n",
    "\n",
    "# At the end, print out the number of episodes watched in a session!\n",
    "\n",
    "\n",
    "...\n",
    "\n"
   ]
  },
  {
   "cell_type": "code",
   "execution_count": null,
   "id": "aaf294bf",
   "metadata": {},
   "outputs": [],
   "source": [
    "# Now improve the simulator adding a cliffhanger effect.\n",
    "# if the episode is really crappy, but there's an big cliffhanger \n",
    "# (probability of a cliffhanger: 1 out of 5), you keep watching anyway! \n",
    "\n",
    "# Rewrite the while loop, but now define a cliffhanger variable \n",
    "# that is True with probability 1/5 and can make you stay in the loop:\n",
    "\n"
   ]
  },
  {
   "cell_type": "code",
   "execution_count": null,
   "id": "1b6d2135",
   "metadata": {},
   "outputs": [],
   "source": [
    "# Use a for loop to run the simulator many times (like, 100? 1000?). \n",
    "# Each time, append to a list the result of the session (the number of episodes watched).\n",
    "\n",
    "\n",
    "n_watched_episodes_list = []\n",
    "\n",
    "for session in ...:\n",
    "    ...\n",
    "    \n",
    "    n_watched_episodes_list.append(...)\n",
    "    \n",
    "    \n",
    "# Then, use this results list to estimate the probability of watching \n",
    "# the whole series in one run (when watched_episodes == max_episodes)!\n",
    "\n"
   ]
  },
  {
   "cell_type": "markdown",
   "id": "99d801e0",
   "metadata": {},
   "source": [
    "#### 0.2.2 Try - except"
   ]
  },
  {
   "cell_type": "code",
   "execution_count": null,
   "id": "9e190e94",
   "metadata": {},
   "outputs": [],
   "source": [
    "# Define a simple try-except statement that takes input_string, makes it uppercase, and assign the result\n",
    "# to a new variable uppercase_string.\n",
    "\n",
    "# If something happens, e.g. the input variable is an int make the variable uppercase_string a None. \n",
    "\n",
    "# Finally, if uppercase_string is not None, print out \"Everything went smoothly!\"\n",
    "\n"
   ]
  },
  {
   "cell_type": "markdown",
   "id": "290245a9",
   "metadata": {},
   "source": [
    "#### 0.2.3 Functions"
   ]
  },
  {
   "cell_type": "code",
   "execution_count": null,
   "id": "8d1d81fa",
   "metadata": {},
   "outputs": [],
   "source": [
    "# Encapsulate the Netflix session generator (just the code to simulate a single session) \n",
    "# inside a function that takes as arguments all the parameters (probability, n. of episodes, etc)\n",
    "# and returns the number of watched episodes:\n",
    "\n"
   ]
  },
  {
   "cell_type": "code",
   "execution_count": null,
   "id": "58e9ce9d",
   "metadata": {},
   "outputs": [],
   "source": []
  }
 ],
 "metadata": {
  "kernelspec": {
   "display_name": "Python 3 (ipykernel)",
   "language": "python",
   "name": "python3"
  },
  "language_info": {
   "codemirror_mode": {
    "name": "ipython",
    "version": 3
   },
   "file_extension": ".py",
   "mimetype": "text/x-python",
   "name": "python",
   "nbconvert_exporter": "python",
   "pygments_lexer": "ipython3"
  }
 },
 "nbformat": 4,
 "nbformat_minor": 5
}
