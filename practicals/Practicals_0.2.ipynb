{
 "cells": [
  {
   "cell_type": "markdown",
   "id": "03a44e75",
   "metadata": {},
   "source": [
    "# Practicals for lecture 0.2\n",
    "\n",
    "[![Open In Colab](https://colab.research.google.com/assets/colab-badge.svg)](https://colab.research.google.com/github/vigji/python-cimec/blob/main/practicals/Practicals_0.2.ipynb)"
   ]
  },
  {
   "cell_type": "markdown",
   "id": "2d2a4f38",
   "metadata": {},
   "source": [
    "## Control structures"
   ]
  },
  {
   "cell_type": "markdown",
   "id": "e148f1cf",
   "metadata": {},
   "source": [
    "#### 0.2.0 IDE tricks, the  `in` keyword"
   ]
  },
  {
   "cell_type": "code",
   "execution_count": null,
   "id": "98c0f5a1",
   "metadata": {},
   "outputs": [],
   "source": [
    "%%timeit\n",
    "# measure how long does it take for this code to run:\n",
    "# Remember that %%timeit should be at the very beginning of the cell - even before comments!\n",
    "\n",
    "a_list = []\n",
    "for i in range(100):\n",
    "    a_list.append([i**2 % 5 for i in range(1000)])"
   ]
  },
  {
   "cell_type": "code",
   "execution_count": null,
   "id": "5f3d7c4c",
   "metadata": {},
   "outputs": [],
   "source": [
    "# Use the in statement to check if a_number is in a_list:\n",
    "a_number = 12\n",
    "a_list = [1, 3, 12, 14]\n",
    "\n",
    "print(a_number in a_list)\n",
    "\n",
    "# Can you guess a way to check if a_number is not in a_list?\n",
    "print(a_number not in a_list)"
   ]
  },
  {
   "cell_type": "code",
   "execution_count": null,
   "id": "c7a66723",
   "metadata": {},
   "outputs": [],
   "source": [
    "# Use the in statement to check if a_key is in the dictionary keywords, and if a_value is in the dictionary values:\n",
    "a_keyword = \"python\"\n",
    "a_value = 100\n",
    "a_dict = dict(python=100, matlab=10, r=50)\n",
    "\n",
    "print(a_keyword in a_dict)\n",
    "print(a_value in a_dict.values())"
   ]
  },
  {
   "cell_type": "markdown",
   "id": "58874096",
   "metadata": {},
   "source": [
    "#### 0.2.1 Iterations with `while`"
   ]
  },
  {
   "cell_type": "code",
   "execution_count": null,
   "id": "2398af5f",
   "metadata": {},
   "outputs": [],
   "source": [
    "# Write a while loop over integer numbers that terminates when you encounter a multiple of both 10 and 12."
   ]
  },
  {
   "cell_type": "code",
   "execution_count": null,
   "id": "5672c982",
   "metadata": {},
   "outputs": [],
   "source": [
    "# For the next exercise, we will need to generate random numbers. You can create random numbers with the\n",
    "# `random` library, after importing it (we will see `import` in details in the future).\n",
    "import random\n",
    "\n",
    "# To generate random integers between min_val and max_val, we can write:\n",
    "min_val = 2  # number will be >= than min\n",
    "max_val = 10  # number will be <= than max\n",
    "\n",
    "random_int = random.randint(min_val, max_val)\n",
    "print(f\"A random int: {random_int}\")"
   ]
  },
  {
   "cell_type": "code",
   "execution_count": null,
   "id": "eca1662c",
   "metadata": {},
   "outputs": [],
   "source": [
    "# To generate random floats between min_val and max_val, we can write:\n",
    "random_float = random.uniform(min_val, max_val)\n",
    "print(f\"A random float: {random_float}\")"
   ]
  },
  {
   "cell_type": "code",
   "execution_count": null,
   "id": "d0c106bb",
   "metadata": {},
   "outputs": [],
   "source": [
    "# Try to generate a random number with uniform distribution between 0 and 1.\n",
    "# Then, use this number in a comparison so that the outcome of the comparison is True 1 every 5 times:\n",
    "PROBABILITY = 0.2\n",
    "random_val = random.uniform(0, 1)\n",
    "\n",
    "outcome = random_val < PROBABILITY  # assign to outcome the result of a comparison\n",
    "outcome"
   ]
  },
  {
   "cell_type": "code",
   "execution_count": null,
   "id": "899b5706",
   "metadata": {},
   "outputs": [],
   "source": [
    "# Create a Netflix session simulator using a while loop and conditionals.\n",
    "\n",
    "# While you are in the binging stream, you\n",
    "#   1) start watching a new episode! Assign it a random rating from 1 to 10 with random.randint\n",
    "#   2) you remain in the binging loop unless it is a really crappy episode (score < 3 out of 10)\n",
    "#   4) You also leave the loop if you finish the series (15 episodes)\n",
    "\n",
    "# At the end, print out the number of episodes watched in a session!\n",
    "\n",
    "episodes_n = 15\n",
    "crappiness_threshold = 3\n",
    "\n",
    "score = random.randint(1, 10)\n",
    "current_episode = 0\n",
    "\n",
    "while current_episode < episodes_n - 1 and score >= 3:\n",
    "\n",
    "    score = random.randint(0, 10)\n",
    "    current_episode += 1\n",
    "\n",
    "print(current_episode)"
   ]
  },
  {
   "cell_type": "code",
   "execution_count": null,
   "id": "35703d6b",
   "metadata": {},
   "outputs": [],
   "source": [
    "# Now improve the simulator adding a cliffhanger effect.\n",
    "# if the episode is really crappy, but there's an big cliffhanger\n",
    "# (probability of a cliffhanger: 1 out of 5), you keep watching anyway!\n",
    "\n",
    "episodes_n = 15\n",
    "max_score = 10\n",
    "crappiness_threshold = 3\n",
    "cliffhanger_prob = 0.2\n",
    "\n",
    "score = random.randint(0, 10)\n",
    "current_episode = 0\n",
    "cliffhanger = random.uniform(0, 1) < cliffhanger_prob\n",
    "\n",
    "while current_episode < episodes_n - 1:\n",
    "\n",
    "    score = random.randint(0, max_score)\n",
    "    current_episode += 1\n",
    "    cliffhanger = random.uniform(0, 1) < cliffhanger_prob\n",
    "\n",
    "    if score < crappiness_threshold and not cliffhanger:\n",
    "        break\n",
    "\n",
    "print(current_episode)\n",
    "\n",
    "# Rewrite the while loop, but now define a cliffhanger variable\n",
    "# that is True with probability 1/5 and can make you stay in the loop:"
   ]
  },
  {
   "cell_type": "code",
   "execution_count": null,
   "id": "cc41ec3f",
   "metadata": {},
   "outputs": [],
   "source": [
    "# Use a for loop to run the simulator many times (like, 100? 1000?).\n",
    "# Each time, append to a list the result of the session (the number of episodes watched).\n",
    "n_simulations = 100000\n",
    "\n",
    "n_watched_episodes_list = []\n",
    "\n",
    "\n",
    "for session in range(n_simulations):\n",
    "    current_episode = 0\n",
    "\n",
    "    while current_episode < episodes_n - 1:\n",
    "        cliffhanger = random.uniform(0, 1) < cliffhanger_prob\n",
    "        score = random.randint(1, max_score)\n",
    "\n",
    "        if score < crappiness_threshold and not cliffhanger:\n",
    "            break\n",
    "\n",
    "        current_episode += 1\n",
    "\n",
    "    n_watched_episodes_list.append(current_episode + 1)\n",
    "\n",
    "\n",
    "# Then, use this results list to estimate the probability of watching\n",
    "# the whole series in one run (when watched_episodes == max_episodes)!\n",
    "\n",
    "# Opt. 0 sum:\n",
    "n_watchthrough = sum([episodes == episodes_n for episodes in n_watched_episodes_list])\n",
    "\n",
    "# Opt. 1 len:\n",
    "n_watchthrough = len(\n",
    "    [episodes for episodes in n_watched_episodes_list if episodes == episodes_n]\n",
    ")\n",
    "\n",
    "# Opt. 2 counter:\n",
    "n_watchthrough = 0\n",
    "for episodes in n_watched_episodes_list:\n",
    "    if episodes == episodes_n:\n",
    "        n_watchthrough += 1\n",
    "\n",
    "n_watchthrough / n_simulations"
   ]
  },
  {
   "cell_type": "code",
   "execution_count": null,
   "id": "b829aff9",
   "metadata": {},
   "outputs": [],
   "source": [
    "# We can check this analytically: the probability to be out after every episode is the p of\n",
    "# an episode with score < 3 (2/10, 0.2) and no cliffhanger (0.8) that is, 0.16.\n",
    "# There are 14 new episode transitions, so p final of remaining will be:\n",
    "print(f\"Computed solution: {(1 - 0.16)**14}\")\n",
    "\n",
    "# if you calculated it on 15 possible transitions (1 transitions too much):\n",
    "print(f\"Computed solution with 15 transitions: {(1 - 0.16)**15}\")"
   ]
  },
  {
   "cell_type": "code",
   "execution_count": null,
   "id": "d84c121c",
   "metadata": {},
   "outputs": [],
   "source": []
  }
 ],
 "metadata": {
  "kernelspec": {
   "display_name": "Python 3 (ipykernel)",
   "language": "python",
   "name": "python3"
  },
  "language_info": {
   "codemirror_mode": {
    "name": "ipython",
    "version": 3
   },
   "file_extension": ".py",
   "mimetype": "text/x-python",
   "name": "python",
   "nbconvert_exporter": "python",
   "pygments_lexer": "ipython3"
  }
 },
 "nbformat": 4,
 "nbformat_minor": 5
}
