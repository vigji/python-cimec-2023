{
 "cells": [
  {
   "cell_type": "markdown",
   "metadata": {},
   "source": [
    "# Practicals 3.3\n"
   ]
  },
  {
   "cell_type": "markdown",
   "metadata": {},
   "source": [
    "## Practicals 3.3.0"
   ]
  },
  {
   "cell_type": "code",
   "execution_count": null,
   "metadata": {},
   "outputs": [],
   "source": [
    "# Write (outside the notebook! In a new .py script) a program that uses the opencv library to grab a frame\n",
    "# from the computer camera and display it. \n",
    "\n",
    "# To display the image, after you have grabbed a frame, you can use:\n",
    "\n",
    "# ```\n",
    "# cv2.imshow(\"Frame\", frame)\n",
    "# cv2.waitKey(0)\n",
    "# ```\n",
    "\n",
    "# This will wait indefinitively until any button is pressed; then, the window is closed.\n",
    "\n",
    "# Hint: it is possible that the first 1-10 frames acquired by the camera are black! If you see black frames,\n",
    "# grab a frame multiple times and discard it."
   ]
  },
  {
   "cell_type": "code",
   "execution_count": null,
   "metadata": {},
   "outputs": [],
   "source": [
    "# Let's write an event loop! Wrap the above code in a loop that runs for 5 seconds and streams \n",
    "# frames from your camera. \n",
    "\n",
    "# Hint: you have to keep the `cv2.waitKey()` call; but if you pass 0, it will again wait\n",
    "# indefinitively, blocking your loop...try to figure another input out!"
   ]
  },
  {
   "cell_type": "code",
   "execution_count": null,
   "metadata": {},
   "outputs": [],
   "source": [
    "# Finally, let's add some controls to our application! The cv2.waitKey function returns a number that corresponds\n",
    "# to the button that was pressed. Change your event loop to run indefinitively until the user presses\n",
    "# the button q!\n",
    "\n",
    "# (Optional, if you have been to fast): add another button that toggles something funny with the colors\n",
    "# of the image, or thresholds it."
   ]
  },
  {
   "cell_type": "markdown",
   "metadata": {},
   "source": [
    "## Practicals 3.3.1"
   ]
  },
  {
   "cell_type": "code",
   "execution_count": null,
   "metadata": {},
   "outputs": [],
   "source": []
  }
 ],
 "metadata": {
  "kernelspec": {
   "display_name": "Python [conda env:course_env]",
   "language": "python",
   "name": "conda-env-course_env-py"
  },
  "language_info": {
   "codemirror_mode": {
    "name": "ipython",
    "version": 3
   },
   "file_extension": ".py",
   "mimetype": "text/x-python",
   "name": "python",
   "nbconvert_exporter": "python",
   "pygments_lexer": "ipython3"
  }
 },
 "nbformat": 4,
 "nbformat_minor": 1
}
