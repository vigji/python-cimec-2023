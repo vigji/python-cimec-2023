{
 "cells": [
  {
   "cell_type": "markdown",
   "metadata": {},
   "source": [
    "# Practicals 3.3\n"
   ]
  },
  {
   "cell_type": "markdown",
   "metadata": {},
   "source": [
    "## Practicals 3.3.0"
   ]
  },
  {
   "cell_type": "code",
   "execution_count": null,
   "metadata": {},
   "outputs": [],
   "source": [
    "# Write (outside the notebook! In a new .py script) a program that uses the opencv library to grab a frame\n",
    "# from the computer camera and display it. \n",
    "\n",
    "# To display the image, after you have grabbed a frame, you can use:\n",
    "\n",
    "# ```\n",
    "# cv2.imshow(\"Frame\", frame)\n",
    "# cv2.waitKey(0)\n",
    "# ```\n",
    "\n",
    "# This will wait indefinitively until any button is pressed; then, the window is closed.\n",
    "\n",
    "# Hint: it is possible that the first 1-10 frames acquired by the camera are black! If you see black frames,\n",
    "# grab a frame multiple times and discard it."
   ]
  },
  {
   "cell_type": "code",
   "execution_count": null,
   "metadata": {},
   "outputs": [],
   "source": [
    "# Let's write an event loop! Wrap the above code in a loop that runs for 5 seconds and streams \n",
    "# frames from your camera. \n",
    "\n",
    "# Hint: you have to keep the `cv2.waitKey()` call; but if you pass 0, it will again wait\n",
    "# indefinitively, blocking your loop...try to figure another input out!"
   ]
  },
  {
   "cell_type": "code",
   "execution_count": null,
   "metadata": {},
   "outputs": [],
   "source": [
    "# Finally, let's add some controls to our application! The cv2.waitKey function returns a number that corresponds\n",
    "# to the button that was pressed. Change your event loop to run indefinitively until the user presses\n",
    "# the button q!\n",
    "\n",
    "# (Optional, if you have been to fast): add another button that toggles something funny with the colors\n",
    "# of the image, or thresholds it."
   ]
  },
  {
   "cell_type": "markdown",
   "metadata": {},
   "source": [
    "## Practicals 3.3.1"
   ]
  },
  {
   "cell_type": "code",
   "execution_count": null,
   "metadata": {},
   "outputs": [],
   "source": [
    "# (if you don't have psychopy installed / you are having troubles installing it): you can create a \n",
    "# program that does the same as described below just collecting info from the user with the `input` function!\n",
    "#\n",
    "# Write a psychopy script (.py! not a notebook!) that:\n",
    "# 0. Opens a GUI to collect some info about the experiment (eg ID age and sex). \n",
    "#    Keep track of the infos in a dictionary.\n",
    "#\n",
    "# 1. Initialize a window and a TestStim object.\n",
    "#\n",
    "# 2. Runs 5 trials. In each trial, you use a textual instruction to ask the user to press a specific letter\n",
    "# (randomize the letters if you want, or just create a list of possible letters).\n",
    "# To toggle the text stimulus on and off, you can use the stim.setText(new_text) method \n",
    "# and set it to empty string!\n",
    "#\n",
    "# 3. For every trials, keep track of the letter that was required by the trial, the letter that was pressed \n",
    "# by the user,  and the reaction time. If you use a Clock to measure the reaction rime, remember to .reset()\n",
    "# it at every trial!\n",
    "#\n",
    "# 4. Save a .json file with the metadata and a csv file (you can use pandas for this) \n",
    "# with all the answers that were given. \n",
    "# Use the timestamp library to add a timestamp to the filenames!"
   ]
  }
 ],
 "metadata": {
  "kernelspec": {
   "display_name": "Python [conda env:course_env]",
   "language": "python",
   "name": "conda-env-course_env-py"
  },
  "language_info": {
   "codemirror_mode": {
    "name": "ipython",
    "version": 3
   },
   "file_extension": ".py",
   "mimetype": "text/x-python",
   "name": "python",
   "nbconvert_exporter": "python",
   "pygments_lexer": "ipython3"
  }
 },
 "nbformat": 4,
 "nbformat_minor": 1
}
