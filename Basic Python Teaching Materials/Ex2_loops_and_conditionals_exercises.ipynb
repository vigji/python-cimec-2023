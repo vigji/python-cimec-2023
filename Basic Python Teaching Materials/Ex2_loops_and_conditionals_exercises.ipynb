{
 "cells": [
  {
   "cell_type": "code",
   "execution_count": null,
   "metadata": {
    "id": "niJKKPt0jx8P"
   },
   "outputs": [],
   "source": [
    "# Write a program to prompt for a score between 0.0 and 1.0. If the score is out of range, print an error. If the score is between 0.0 and 1.0, print a grade using the following table:\n",
    "# Score Grade\n",
    "# >= 0.9 A\n",
    "# >= 0.8 B\n",
    "# >= 0.7 C\n",
    "# >= 0.6 D\n",
    "# < 0.6 F\n",
    "# If the user enters a value out of range, print a suitable error message and exit.\n",
    "score = 0.75\n",
    "scores = [0.12, 0.45, 0.6, 0.75, 0.9, 0.55, 0.63]\n"
   ]
  },
  {
   "cell_type": "code",
   "execution_count": null,
   "metadata": {
    "id": "AyAj3CpYofvl"
   },
   "outputs": [],
   "source": [
    "# Write a program that prints the integers from 1 to 100. But for multiples of three print \"Fizz\" instead of the number, \n",
    "#and for the multiples of five print \"Buzz\". For numbers which are multiples of both three and five print \"FizzBuzz\".\n"
   ]
  },
  {
   "cell_type": "code",
   "execution_count": null,
   "metadata": {
    "id": "fQo9XaaBXMti"
   },
   "outputs": [],
   "source": [
    "# The program should build a list of words. For each word on each line check to see if the word is already in the list \n",
    "# and if not append it to the list. When the program completes, sort and print the resulting words in alphabetical order.\n",
    "\n",
    "text = '''But soft what light through yonder window breaks \\n\n",
    "It is the east and Juliet is the sun \\n\n",
    "Arise fair sun and kill the envious moon \\n\n",
    "Who is already sick and pale with grief'''\n"
   ]
  },
  {
   "cell_type": "code",
   "execution_count": null,
   "metadata": {
    "id": "orqoLNyGfi_y"
   },
   "outputs": [],
   "source": [
    "comparison_list = [1, 100, 5, 26, 12, 15, 6, 7, 8]\n",
    "# Using any method you know, show with booleans which values are:\n",
    "# greater than 7\n",
    "# less than 20\n",
    "# equal to or less than 8\n",
    "# equal to or more than 12\n",
    "# hint: if you've read ahead in the lecture notes, feel free to try looping\n",
    "# if you haven't or would like to wait until we cover it, then indexing the different elements is also fine\n",
    "\n"
   ]
  },
  {
   "cell_type": "code",
   "execution_count": null,
   "metadata": {
    "id": "KckePYB9jxLS"
   },
   "outputs": [],
   "source": [
    "# Write a program that repeatedly prompts a user for integer numbers until the user enters 'fin'. \n",
    "# Once 'fin' is entered, print out the largest and smallest of the numbers. \n",
    "# If the user enters anything other than a valid number catch it with a try/except and put out an appropriate message and ignore the number. \n",
    "# Enter 5, 1, andrew, 15, and 9 and match the output below.\n"
   ]
  },
  {
   "cell_type": "code",
   "execution_count": null,
   "metadata": {
    "id": "ttdYynXprhmM"
   },
   "outputs": [],
   "source": [
    "# Guessing game\n",
    "# Write a small program to create a guessing game. You need to select a number \n",
    "# between 1 and 100, and allow the user to guess, providing feedback on how \n",
    "# close they are to the correct number\n",
    "\n",
    "import random"
   ]
  }
 ],
 "metadata": {
  "colab": {
   "collapsed_sections": [],
   "name": "Ex2_loops_and_conditionals_exercises.ipynb",
   "provenance": [
    {
     "file_id": "1koy0bwH97t6uz32cHrkTnft0Qq9aAGpK",
     "timestamp": 1636354800966
    }
   ]
  },
  "kernelspec": {
   "display_name": "Python 3 (ipykernel)",
   "language": "python",
   "name": "python3"
  },
  "language_info": {
   "codemirror_mode": {
    "name": "ipython",
    "version": 3
   },
   "file_extension": ".py",
   "mimetype": "text/x-python",
   "name": "python",
   "nbconvert_exporter": "python",
   "pygments_lexer": "ipython3",
   "version": "3.9.13"
  }
 },
 "nbformat": 4,
 "nbformat_minor": 1
}
