{
 "cells": [
  {
   "cell_type": "code",
   "execution_count": null,
   "metadata": {
    "id": "ofEXnQmckDIy"
   },
   "outputs": [],
   "source": [
    "# Exercise 1 - basic maths\n",
    "\n",
    "# Calculate the mean of these numbers, and assign to a variable: 346, 23, 116, 89, 150.4, 12\n",
    "\n",
    "\n",
    "# Calculate the mean cubed and add 1280000, then calculate the square root, and assign to a variable\n",
    "\n",
    "\n",
    "# Determine the integer and remainder from the following calculation, and assign to variables: 12 divided by 5\n",
    "\n"
   ]
  },
  {
   "cell_type": "code",
   "execution_count": null,
   "metadata": {
    "id": "m2vsTjMOo2fN"
   },
   "outputs": [],
   "source": [
    "# Exercise 2 - string manipulation\n",
    "# Hints below\n",
    "\n",
    "example_string = \"This is an example string\"\n",
    "# Take the example string, find and extract the word example to a new variable (without just counting the characters manually)\n",
    "\n",
    "\n",
    "# Count the number of \"t\" characters\n",
    "\n",
    "\n",
    "# Create a list from the string, where each item in the list is a separate word\n",
    "\n",
    "\n",
    "# Complete the sentence by inserting a suitable string and assign to a new variable\n",
    "string_for_formatting = \"I am learning Python to {}\"\n",
    "\n",
    "\n",
    "# Modify the string below to round the floating point number as indicated\n",
    "rounded_float = \"This float: 1.3782684850068 is rounded to 4 decimal places: {}\"\n",
    "\n",
    "\n",
    "# Insert the following cell counts: 150000, 145000, 120000, 500000, in the form 1e5\n",
    "format_exponential = \"Cell counts = {}, {}, {}, {}\"\n",
    "\n",
    "\n",
    "# Create a variable with 5 repeats of the word \"mouse\"\n",
    "mouse = \"mouse\"\n",
    "\n",
    "\n",
    "# Repeat the above, but incorporate spaces between the repeats\n",
    "\n",
    "\n"
   ]
  },
  {
   "cell_type": "markdown",
   "metadata": {
    "id": "yoHsGTls-gp2"
   },
   "source": [
    "Exercise 2: Hints\n",
    "\n",
    "[Find the word example](https://docs.python.org/3/library/stdtypes.html#str.find)<br>\n",
    "[Count the t's](https://docs.python.org/3/library/stdtypes.html#str.count)<br>\n",
    "[Numbers in strings](https://docs.python.org/3/library/string.html#format-specification-mini-language)<br>\n",
    "\n"
   ]
  },
  {
   "cell_type": "code",
   "execution_count": null,
   "metadata": {
    "id": "CCr9m3xA-BFm"
   },
   "outputs": [],
   "source": [
    "# Exercise 3 - Boolean comparisons\n",
    "\n",
    "# Evaluate whether string1 matches the other variables, and print the results\n",
    "string1 = \"string1\"\n",
    "string2 = \"string1\"\n",
    "string3 = \"String1\"\n",
    "\n",
    "# Can you make string1 match string3?\n",
    "\n",
    "\n",
    "\n",
    "comparison_list = [1, 100, 5, 26, 12, 15, 6, 7, 8]\n",
    "# Using any method you know, show with booleans which values are:\n",
    "# greater than 7\n",
    "# less than 20\n",
    "# equal to or less than 8\n",
    "# equal to or more than 12\n",
    "# hint: if you've read ahead in the lecture notes, feel free to try looping\n",
    "# if you haven't or would like to wait until we cover it, then indexing the different elements is also fine\n",
    "\n",
    "\n"
   ]
  },
  {
   "cell_type": "code",
   "execution_count": null,
   "metadata": {
    "id": "pvhc_wFL9S-f"
   },
   "outputs": [],
   "source": [
    "# Exercise 4 - Methods\n",
    "# Remember! A method is just a function attached to an object\n",
    "\n",
    "test_string = \"This is a test string, it has almost everything you'd expect: CAPITAL LETTERS, p.u,n/c%tuation, some numbers... 1, 67, 128, 1000; as well as somewhere to insert something else: {}\"\n",
    "# Using dir, identify 3 string methods and apply them to the string above (ignore methods beginning with __ for now).\n",
    "# As an extra exercise, try to work out what you expect first, and then assign that to expected output\n",
    "# Then test your changed output with your expected (using ==) and see if you predicted correctly!\n",
    "\n",
    "# Methods we've talked about previously:\n",
    "# upper, lower, format, find, count, endswith, startswith\n",
    "# Other suggestions\n",
    "# split, rstrip (or lstrip)\n",
    "\n",
    "expected_output1 = \"\"\n",
    "\n",
    "\n",
    "\n",
    "\n",
    "expected_output2 = \"\"\n",
    "\n",
    "\n",
    "\n",
    "\n",
    "expected_output3 = \"\"\n",
    "\n",
    "\n",
    "\n",
    "\n"
   ]
  },
  {
   "cell_type": "code",
   "execution_count": null,
   "metadata": {
    "id": "E0nhRAPK-YLu"
   },
   "outputs": [],
   "source": [
    "# Exercise 4 - Methods 2; lists\n",
    "\n",
    "test_list = [1, 2, 3, 4, 100, 200, 300, 400, \"a\", \"b\", \"c\", \"d\", [], [], [], []]\n",
    "\n",
    "# run dir on the list, and pick 3 methods and try them out, again, try to think about what will happen first\n",
    "# Methods we've encountered previously:\n",
    "# count, append, extend, insert\n",
    "\n",
    "# Try adding some things to the inner lists (the last four elements in the list) and then indexing those\n",
    "# Try adding a multi-character string somewhere, and then indexing that within the list."
   ]
  },
  {
   "cell_type": "code",
   "execution_count": null,
   "metadata": {
    "id": "psijMNcqRqwB"
   },
   "outputs": [],
   "source": []
  },
  {
   "cell_type": "code",
   "execution_count": null,
   "metadata": {
    "id": "Cy3yZc69RuBN"
   },
   "outputs": [],
   "source": []
  }
 ],
 "metadata": {
  "colab": {
   "provenance": []
  },
  "kernelspec": {
   "display_name": "Python 3 (ipykernel)",
   "language": "python",
   "name": "python3"
  },
  "language_info": {
   "codemirror_mode": {
    "name": "ipython",
    "version": 3
   },
   "file_extension": ".py",
   "mimetype": "text/x-python",
   "name": "python",
   "nbconvert_exporter": "python",
   "pygments_lexer": "ipython3",
   "version": "3.9.13"
  }
 },
 "nbformat": 4,
 "nbformat_minor": 1
}
