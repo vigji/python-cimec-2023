{
 "cells": [
  {
   "cell_type": "markdown",
   "metadata": {
    "id": "F_sORSlFFDRE"
   },
   "source": [
    "# Nencki Open Lab Python Course\n",
    "## Basic Python Course\n"
   ]
  },
  {
   "cell_type": "markdown",
   "metadata": {
    "id": "Yih8CICccPm2"
   },
   "source": [
    "![image.png](data:image/png;base64,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)"
   ]
  },
  {
   "cell_type": "markdown",
   "metadata": {
    "id": "v8xkKdegbDPq"
   },
   "source": [
    "## Why Python?\n",
    "\n",
    "**Main features**\n",
    "\n",
    "*   Extremely popular language\n",
    "*   The main tool of modern scientific computing\n",
    "*   Very clear, natural syntax -> easy to learn!\n",
    "*   Interpreted language -> easy to write, hard to maintain\n",
    "*   Dynamic typing\n",
    "*   Rather slow, but can be easily integrated with low-level languages like C/C++ (NumPy, Pandas)\n",
    "*   Huge active community ->  many libraries and resources"
   ]
  },
  {
   "cell_type": "markdown",
   "metadata": {
    "id": "S-HpypDAbNRi"
   },
   "source": [
    "**Java**\n",
    "\n",
    "```class HelloWorldApp {\n",
    "    public static void main(String[] args) {\n",
    "        System.out.println(\"Hello World!\");\n",
    "    }\n",
    "}\n",
    "```\n",
    "\n",
    "**Python**\n",
    "```\n",
    "print(\"Hello World!\")\n",
    "```"
   ]
  },
  {
   "cell_type": "markdown",
   "metadata": {
    "id": "NuaYjc3WcdLg"
   },
   "source": [
    "## Data types"
   ]
  },
  {
   "cell_type": "markdown",
   "metadata": {
    "id": "xEI8soPsm2vt"
   },
   "source": [
    "Python uses a range of types to represent information within your programs. Within Python, these different types all allow their own specific behaviours and functionalities.\n",
    "Here, we're going to take you through some of the very simplest types in Python, and give you some understanding of how to work with them in the Python environment."
   ]
  },
  {
   "cell_type": "code",
   "execution_count": null,
   "metadata": {
    "id": "yGSSxIp7E-vW"
   },
   "outputs": [],
   "source": [
    "# This is a comment\n",
    "# You can write text that is ignored by the Python interpreter by putting the # symbol at the start of the line\n",
    "# if you lead the line with # symbols, then you can write anything you like, and it doesn't matter.\n",
    "######### you can also use any number of these symbols ##### in any order ## and it doesn't matter.\n"
   ]
  },
  {
   "cell_type": "markdown",
   "metadata": {
    "id": "u4id4WvuexAk"
   },
   "source": [
    "The first basic type we'll be talking about is the `int` type"
   ]
  },
  {
   "cell_type": "markdown",
   "metadata": {
    "id": "xx90hoITn6f0"
   },
   "source": [
    "## First a quick word about variables\n",
    "In Python, we assign values to variables when we want to remember them, or refer to them elsewhere in our program. We assign variables by using a single = sign. This tells Python that we want it to use a specific name to refer to a particular thing.\n",
    "\n",
    "*Warning* When you're writing Python code, there are certain words that you must avoid using when you're assigning variables, we'll mention those as we go."
   ]
  },
  {
   "cell_type": "markdown",
   "metadata": {
    "id": "lyDk9qR5FBsj"
   },
   "source": [
    "So, let's assign our first variable, the integer 1 to the label mouse_number:"
   ]
  },
  {
   "cell_type": "code",
   "execution_count": null,
   "metadata": {
    "id": "ZUqrM2mAohzk"
   },
   "outputs": [],
   "source": [
    "mouse_number = 1"
   ]
  },
  {
   "cell_type": "code",
   "execution_count": null,
   "metadata": {
    "colab": {
     "base_uri": "https://localhost:8080/"
    },
    "executionInfo": {
     "elapsed": 1094,
     "status": "ok",
     "timestamp": 1634546739374,
     "user": {
      "displayName": "Aleksander Zębrowski",
      "photoUrl": "https://lh3.googleusercontent.com/a-/AOh14Gjbuo853rQLLyVBAitmlzYTUsrdCrjTloHoqWZo=s64",
      "userId": "02533668295886954487"
     },
     "user_tz": -120
    },
    "id": "TZ_ibdrKpe4B",
    "outputId": "49c185bb-24a1-4a4a-8013-ad3fc0db25f9"
   },
   "outputs": [
    {
     "data": {
      "text/plain": [
       "1"
      ]
     },
     "execution_count": 2,
     "metadata": {},
     "output_type": "execute_result"
    }
   ],
   "source": [
    "mouse_number\n"
   ]
  },
  {
   "cell_type": "markdown",
   "metadata": {
    "id": "6GmIs8jvpT4p"
   },
   "source": [
    "Now, when we run the code, in the cell (shift+enter), the Python interpreter tells us what the variable `mouse_number` is. "
   ]
  },
  {
   "cell_type": "markdown",
   "metadata": {
    "id": "gAc8NzahqKID"
   },
   "source": [
    "**Note** Your variable names cannot contain spaces and cannot start with a number. Try it now, see what happens.<br>\n",
    "There are also some characters that you can't use in variable names:\n",
    "`$` `@` `#` `\\` and others."
   ]
  },
  {
   "cell_type": "code",
   "execution_count": null,
   "metadata": {
    "id": "R4ZOmg0V1hyt"
   },
   "outputs": [],
   "source": []
  },
  {
   "cell_type": "markdown",
   "metadata": {
    "id": "oljFgoYoqa70"
   },
   "source": [
    "Welcome to your first error message!\n",
    "\n",
    "Remember, error messages are all part of the fun, and you'll be seeing plenty more of these. So, what can we learn?\n",
    "\n",
    "`line 1` - this tells us where the error is (when you start writing more advanced stuff, there will be many many lines!!)\n",
    "\n",
    "`SyntaxError: invalid syntax` - ok, so this isn't so useful, but it's telling you that the syntax (the order/arrangement of items) doesn't make sense to the Python interpreter - it's not following the rules, so Python refuses to go any further."
   ]
  },
  {
   "cell_type": "markdown",
   "metadata": {
    "id": "pny-sI2DRPZM"
   },
   "source": [
    "When we already assigned the variable we can always change its value"
   ]
  },
  {
   "cell_type": "code",
   "execution_count": null,
   "metadata": {
    "colab": {
     "base_uri": "https://localhost:8080/"
    },
    "executionInfo": {
     "elapsed": 726,
     "status": "ok",
     "timestamp": 1634548945888,
     "user": {
      "displayName": "Aleksander Zębrowski",
      "photoUrl": "https://lh3.googleusercontent.com/a-/AOh14Gjbuo853rQLLyVBAitmlzYTUsrdCrjTloHoqWZo=s64",
      "userId": "02533668295886954487"
     },
     "user_tz": -120
    },
    "id": "sLC7oaM-wWID",
    "outputId": "aff1f8ec-75e7-40d4-af69-ddf6382cc096"
   },
   "outputs": [
    {
     "data": {
      "text/plain": [
       "5"
      ]
     },
     "execution_count": 2,
     "metadata": {},
     "output_type": "execute_result"
    }
   ],
   "source": [
    "mouse_number = 5\n",
    "mouse_number"
   ]
  },
  {
   "cell_type": "markdown",
   "metadata": {
    "id": "DECvptjIwZ2l"
   },
   "source": [
    "If you re-use variable names, then Python will use whatever you last assigned to that name, so be really cautious with re-use of names.\n",
    "\n",
    "Now, back to floats and the exciting `type` function!"
   ]
  },
  {
   "cell_type": "markdown",
   "metadata": {
    "id": "HGDWnY_CocSm"
   },
   "source": [
    "## Back to `int` land..."
   ]
  },
  {
   "cell_type": "markdown",
   "metadata": {
    "id": "l5wVI_q_oi5V"
   },
   "source": [
    "An `int` is the short term for an integer, or any whole number.\n",
    "\n",
    "like, 1 or 2, or 3. Or 123456789\n",
    "\n",
    "Or 0. And -6 too. You get the idea."
   ]
  },
  {
   "cell_type": "markdown",
   "metadata": {
    "id": "EeETBsYurBJ5"
   },
   "source": [
    "When we have integers, Python can be used as a *really* fancy calculator:"
   ]
  },
  {
   "cell_type": "code",
   "execution_count": null,
   "metadata": {
    "colab": {
     "base_uri": "https://localhost:8080/"
    },
    "executionInfo": {
     "elapsed": 24,
     "status": "ok",
     "timestamp": 1668367784838,
     "user": {
      "displayName": "Urszula Włodkowska",
      "userId": "16582544481953068770"
     },
     "user_tz": -60
    },
    "id": "6QHBR9GHqZM3",
    "outputId": "145a2b81-729d-404e-e9cd-ec7e151b1fd3"
   },
   "outputs": [
    {
     "data": {
      "text/plain": [
       "2"
      ]
     },
     "execution_count": 1,
     "metadata": {},
     "output_type": "execute_result"
    }
   ],
   "source": [
    "1 + 1"
   ]
  },
  {
   "cell_type": "code",
   "execution_count": null,
   "metadata": {
    "colab": {
     "base_uri": "https://localhost:8080/"
    },
    "executionInfo": {
     "elapsed": 21,
     "status": "ok",
     "timestamp": 1668367784840,
     "user": {
      "displayName": "Urszula Włodkowska",
      "userId": "16582544481953068770"
     },
     "user_tz": -60
    },
    "id": "dgvVge2E0EsV",
    "outputId": "6d2ef613-a594-4613-a355-419988ac0984"
   },
   "outputs": [
    {
     "data": {
      "text/plain": [
       "15"
      ]
     },
     "execution_count": 2,
     "metadata": {},
     "output_type": "execute_result"
    }
   ],
   "source": [
    "3 * 5"
   ]
  },
  {
   "cell_type": "code",
   "execution_count": null,
   "metadata": {
    "colab": {
     "base_uri": "https://localhost:8080/"
    },
    "executionInfo": {
     "elapsed": 20,
     "status": "ok",
     "timestamp": 1668367784841,
     "user": {
      "displayName": "Urszula Włodkowska",
      "userId": "16582544481953068770"
     },
     "user_tz": -60
    },
    "id": "weC3DvYB0E1C",
    "outputId": "d931bc05-065e-4247-ca1c-0f869dee0e73"
   },
   "outputs": [
    {
     "data": {
      "text/plain": [
       "2.0"
      ]
     },
     "execution_count": 3,
     "metadata": {},
     "output_type": "execute_result"
    }
   ],
   "source": [
    "12 / 6"
   ]
  },
  {
   "cell_type": "code",
   "execution_count": null,
   "metadata": {
    "colab": {
     "base_uri": "https://localhost:8080/"
    },
    "executionInfo": {
     "elapsed": 14,
     "status": "ok",
     "timestamp": 1668367784841,
     "user": {
      "displayName": "Urszula Włodkowska",
      "userId": "16582544481953068770"
     },
     "user_tz": -60
    },
    "id": "3yrDPt6Q0JaO",
    "outputId": "06eae4dd-bd19-4614-e36b-8e42e38af657"
   },
   "outputs": [
    {
     "data": {
      "text/plain": [
       "12.0"
      ]
     },
     "execution_count": 4,
     "metadata": {},
     "output_type": "execute_result"
    }
   ],
   "source": [
    "# and we can use brackets, as with any other mathematical process:\n",
    "\n",
    "((1 + 3) * 6) / 2"
   ]
  },
  {
   "cell_type": "markdown",
   "metadata": {
    "id": "tJ4XhgDz7nHD"
   },
   "source": [
    "If we want to store the outcome of an operation for later, we can assign it to a variable"
   ]
  },
  {
   "cell_type": "code",
   "execution_count": null,
   "metadata": {
    "id": "_EqTgAs27cjs"
   },
   "outputs": [],
   "source": [
    "sum_outcome = 4 + 15"
   ]
  },
  {
   "cell_type": "markdown",
   "metadata": {
    "id": "S1km0DfSvGq6"
   },
   "source": [
    "The long description of this is telling the Python interpreter to do everything on the right of the = and then assign it to the variable on the left. \n",
    "\n",
    "**Note** if you have some experience with R, that Python assignment only goes in one direction, as shown here.\n",
    "\n",
    "We can also do maths with variables and assign to new variables\n"
   ]
  },
  {
   "cell_type": "code",
   "execution_count": null,
   "metadata": {
    "colab": {
     "base_uri": "https://localhost:8080/",
     "height": 204
    },
    "executionInfo": {
     "elapsed": 18,
     "status": "error",
     "timestamp": 1668367785221,
     "user": {
      "displayName": "Urszula Włodkowska",
      "userId": "16582544481953068770"
     },
     "user_tz": -60
    },
    "id": "bzIckAiE7j6O",
    "outputId": "2fbb4de9-671b-4f67-f859-d485ec0f8deb"
   },
   "outputs": [
    {
     "ename": "NameError",
     "evalue": "ignored",
     "output_type": "error",
     "traceback": [
      "\u001b[0;31m---------------------------------------------------------------------------\u001b[0m",
      "\u001b[0;31mNameError\u001b[0m                                 Traceback (most recent call last)",
      "\u001b[0;32m<ipython-input-6-1ca268d03055>\u001b[0m in \u001b[0;36m<module>\u001b[0;34m\u001b[0m\n\u001b[0;32m----> 1\u001b[0;31m \u001b[0mnew_var\u001b[0m \u001b[0;34m=\u001b[0m \u001b[0;34m(\u001b[0m\u001b[0msum_outcome\u001b[0m \u001b[0;34m+\u001b[0m \u001b[0mexperiment_number\u001b[0m\u001b[0;34m)\u001b[0m \u001b[0;34m/\u001b[0m \u001b[0;36m2\u001b[0m\u001b[0;34m\u001b[0m\u001b[0;34m\u001b[0m\u001b[0m\n\u001b[0m\u001b[1;32m      2\u001b[0m \u001b[0mnew_var\u001b[0m\u001b[0;34m\u001b[0m\u001b[0;34m\u001b[0m\u001b[0m\n\u001b[1;32m      3\u001b[0m \u001b[0;36m1\u001b[0m\u001b[0;34m+\u001b[0m\u001b[0;36m1\u001b[0m\u001b[0;34m\u001b[0m\u001b[0;34m\u001b[0m\u001b[0m\n",
      "\u001b[0;31mNameError\u001b[0m: name 'experiment_number' is not defined"
     ]
    }
   ],
   "source": [
    "new_var = (sum_outcome + experiment_number) / 2\n",
    "new_var\n",
    "1+1"
   ]
  },
  {
   "cell_type": "markdown",
   "metadata": {
    "id": "8SNGDQZGre8p"
   },
   "source": [
    "### Introducing: your first function!\n",
    "\n",
    "`type`\n",
    "\n",
    "Functions are pieces of code that act like tools in a toolbox, if you want to do a specific job, then you use the appropriate function. `type` allows us to find out what kind of thing a variable is. It can be incredibly useful for troubleshooting, to check that the variable you have is what you think it is..."
   ]
  },
  {
   "cell_type": "code",
   "execution_count": null,
   "metadata": {
    "colab": {
     "base_uri": "https://localhost:8080/",
     "height": 169
    },
    "executionInfo": {
     "elapsed": 468,
     "status": "error",
     "timestamp": 1668367941849,
     "user": {
      "displayName": "Urszula Włodkowska",
      "userId": "16582544481953068770"
     },
     "user_tz": -60
    },
    "id": "-oLNz_Kcrkrp",
    "outputId": "2678a2b2-095c-4840-f980-1a9d2b6f052a"
   },
   "outputs": [
    {
     "ename": "NameError",
     "evalue": "ignored",
     "output_type": "error",
     "traceback": [
      "\u001b[0;31m---------------------------------------------------------------------------\u001b[0m",
      "\u001b[0;31mNameError\u001b[0m                                 Traceback (most recent call last)",
      "\u001b[0;32m<ipython-input-7-b152ec05ccbc>\u001b[0m in \u001b[0;36m<module>\u001b[0;34m\u001b[0m\n\u001b[0;32m----> 1\u001b[0;31m \u001b[0mtype\u001b[0m\u001b[0;34m(\u001b[0m\u001b[0ma\u001b[0m\u001b[0;34m)\u001b[0m\u001b[0;34m\u001b[0m\u001b[0;34m\u001b[0m\u001b[0m\n\u001b[0m",
      "\u001b[0;31mNameError\u001b[0m: name 'a' is not defined"
     ]
    }
   ],
   "source": [
    "type(a)"
   ]
  },
  {
   "cell_type": "markdown",
   "metadata": {
    "id": "sfdrmIofsCTL"
   },
   "source": [
    "This tells us that `a` is an `int` type. And this is the syntax of a function \"call\".\n",
    "\n",
    "`function_name(argument)`\n",
    "\n",
    "An argument is just the term for something you provide to the function to allow it to work. Sometimes it's the thing you want it to work on (in this case, we want the function to tell us what `a` is) and sometimes it's an additional thing for the function to use (more on that later). "
   ]
  },
  {
   "cell_type": "markdown",
   "metadata": {
    "id": "Qwn5AfczzaVf"
   },
   "source": [
    "The next useful function that we discover here is `print`. This function tells Python to print the value to the current console (it's the cell output below the code block). It can be vital for debugging, because it allows to check what value a particular variable is without disrupting the flow of the program. \n",
    "\n",
    "As with `type`, we \"call\" the function by\n",
    "\n",
    "`print(thing_i_want_to_print)`"
   ]
  },
  {
   "cell_type": "code",
   "execution_count": null,
   "metadata": {
    "colab": {
     "base_uri": "https://localhost:8080/",
     "height": 186
    },
    "executionInfo": {
     "elapsed": 24,
     "status": "error",
     "timestamp": 1668367941852,
     "user": {
      "displayName": "Urszula Włodkowska",
      "userId": "16582544481953068770"
     },
     "user_tz": -60
    },
    "id": "evp9rusZz_Ey",
    "outputId": "29b9ab95-a55f-4dc3-ea51-7c003da63da9"
   },
   "outputs": [
    {
     "ename": "NameError",
     "evalue": "ignored",
     "output_type": "error",
     "traceback": [
      "\u001b[0;31m---------------------------------------------------------------------------\u001b[0m",
      "\u001b[0;31mNameError\u001b[0m                                 Traceback (most recent call last)",
      "\u001b[0;32m<ipython-input-8-9b29267de7d8>\u001b[0m in \u001b[0;36m<module>\u001b[0;34m\u001b[0m\n\u001b[0;32m----> 1\u001b[0;31m \u001b[0mprint\u001b[0m\u001b[0;34m(\u001b[0m\u001b[0ma\u001b[0m\u001b[0;34m)\u001b[0m\u001b[0;34m\u001b[0m\u001b[0;34m\u001b[0m\u001b[0m\n\u001b[0m\u001b[1;32m      2\u001b[0m \u001b[0mprint\u001b[0m\u001b[0;34m(\u001b[0m\u001b[0mexperiment_number\u001b[0m\u001b[0;34m)\u001b[0m\u001b[0;34m\u001b[0m\u001b[0;34m\u001b[0m\u001b[0m\n",
      "\u001b[0;31mNameError\u001b[0m: name 'a' is not defined"
     ]
    }
   ],
   "source": [
    "print(a)\n",
    "print(experiment_number)"
   ]
  },
  {
   "cell_type": "markdown",
   "metadata": {
    "id": "6U9808Wtu2OD"
   },
   "source": [
    "## **Big warning**\n",
    "`type` or `print` are of those special terms that we should be cautious about when assigning variables. If you call a variable `type`, Python will overwrite it with whatever you say, and this function won't work anymore.\n",
    "\n"
   ]
  },
  {
   "cell_type": "code",
   "execution_count": null,
   "metadata": {
    "id": "eZI16orVs5e9"
   },
   "outputs": [],
   "source": [
    "type = 3"
   ]
  },
  {
   "cell_type": "code",
   "execution_count": null,
   "metadata": {
    "id": "OHOpd4eKs_mi"
   },
   "outputs": [],
   "source": []
  },
  {
   "cell_type": "markdown",
   "metadata": {
    "id": "ueXejm0CsqmP"
   },
   "source": [
    "## Floats\n",
    "The next basic type we encounter is the `float`. This is, simply, all numbers with a decimal point.\n",
    "(Notice that if you don't print, Python will only show you the last thing you did here in the code block below)"
   ]
  },
  {
   "cell_type": "code",
   "execution_count": null,
   "metadata": {
    "colab": {
     "base_uri": "https://localhost:8080/"
    },
    "executionInfo": {
     "elapsed": 729,
     "status": "ok",
     "timestamp": 1634549055145,
     "user": {
      "displayName": "Aleksander Zębrowski",
      "photoUrl": "https://lh3.googleusercontent.com/a-/AOh14Gjbuo853rQLLyVBAitmlzYTUsrdCrjTloHoqWZo=s64",
      "userId": "02533668295886954487"
     },
     "user_tz": -120
    },
    "id": "9fBn2RxXs3sc",
    "outputId": "7a1e9620-5b5d-4434-ba27-8abe0f6ff072"
   },
   "outputs": [
    {
     "data": {
      "text/plain": [
       "float"
      ]
     },
     "execution_count": 4,
     "metadata": {},
     "output_type": "execute_result"
    }
   ],
   "source": [
    "b = 1.1\n",
    "c = 2345.6\n",
    "d = -12.58\n",
    "type(b)"
   ]
  },
  {
   "cell_type": "markdown",
   "metadata": {
    "id": "-mfQOCVL69-s"
   },
   "source": [
    "And the reason we mention floats here, is because when we divide integers, sometimes we get floats. Here we'll assign the result of such calculation, to a variable"
   ]
  },
  {
   "cell_type": "code",
   "execution_count": null,
   "metadata": {
    "colab": {
     "base_uri": "https://localhost:8080/"
    },
    "executionInfo": {
     "elapsed": 337,
     "status": "ok",
     "timestamp": 1634549072986,
     "user": {
      "displayName": "Aleksander Zębrowski",
      "photoUrl": "https://lh3.googleusercontent.com/a-/AOh14Gjbuo853rQLLyVBAitmlzYTUsrdCrjTloHoqWZo=s64",
      "userId": "02533668295886954487"
     },
     "user_tz": -120
    },
    "id": "cniWB2mWvD6n",
    "outputId": "56348089-4caa-4a6a-821d-93a8b8dbd0f0"
   },
   "outputs": [
    {
     "data": {
      "text/plain": [
       "float"
      ]
     },
     "execution_count": 5,
     "metadata": {},
     "output_type": "execute_result"
    }
   ],
   "source": [
    "e = 6 / 4\n",
    "type(e)"
   ]
  },
  {
   "cell_type": "markdown",
   "metadata": {
    "id": "9qkT9PLqwyAP"
   },
   "source": [
    "\n",
    "So far, we've used integers and floats, and done some basic maths, which should be pretty familiar. At this point, we'll just show you the Python syntax for a couple of other operations:\n",
    "\n",
    "power (i.e. 2<sup>2</sup> or 10<sup>6</sup>)"
   ]
  },
  {
   "cell_type": "code",
   "execution_count": null,
   "metadata": {
    "id": "2PWE_eKkxjqc"
   },
   "outputs": [],
   "source": [
    "# two * symbols is the operator for a power relationship (there are other methods, which we won't go into detail just yet)\n",
    "2 ** 2\n",
    "10 ** 6\n",
    "# and with powers of 10, we can use the shorthand you're all familiar with from Excel, and other places\n",
    "1E4\n",
    "\n",
    "# And again, we can assign to variables\n",
    "\n",
    "g = 5 ** 3\n",
    "cell_count = 1.4e5"
   ]
  },
  {
   "cell_type": "code",
   "execution_count": null,
   "metadata": {
    "colab": {
     "base_uri": "https://localhost:8080/"
    },
    "executionInfo": {
     "elapsed": 452,
     "status": "ok",
     "timestamp": 1634549168095,
     "user": {
      "displayName": "Aleksander Zębrowski",
      "photoUrl": "https://lh3.googleusercontent.com/a-/AOh14Gjbuo853rQLLyVBAitmlzYTUsrdCrjTloHoqWZo=s64",
      "userId": "02533668295886954487"
     },
     "user_tz": -120
    },
    "id": "5USu6jtBuLSm",
    "outputId": "a92512c3-3671-4ef5-bad4-204fbc23a35f"
   },
   "outputs": [
    {
     "name": "stdout",
     "output_type": "stream",
     "text": [
      "125\n",
      "140000.0\n"
     ]
    }
   ],
   "source": [
    "print(g)\n",
    "print(cell_count)"
   ]
  },
  {
   "cell_type": "markdown",
   "metadata": {
    "id": "acVxEu8JytDi"
   },
   "source": [
    "Also, the modulo operator `%` can be very useful in certain circumstances:\n",
    "\n",
    "This does something similar to division, but instead of returning a float, returns the remainder, so:"
   ]
  },
  {
   "cell_type": "code",
   "execution_count": null,
   "metadata": {
    "colab": {
     "base_uri": "https://localhost:8080/"
    },
    "executionInfo": {
     "elapsed": 714,
     "status": "ok",
     "timestamp": 1634549205979,
     "user": {
      "displayName": "Aleksander Zębrowski",
      "photoUrl": "https://lh3.googleusercontent.com/a-/AOh14Gjbuo853rQLLyVBAitmlzYTUsrdCrjTloHoqWZo=s64",
      "userId": "02533668295886954487"
     },
     "user_tz": -120
    },
    "id": "nb0ITIYPy7rt",
    "outputId": "0193b911-b8ef-4364-9f3a-44712ad20245"
   },
   "outputs": [
    {
     "data": {
      "text/plain": [
       "5.0"
      ]
     },
     "execution_count": 8,
     "metadata": {},
     "output_type": "execute_result"
    }
   ],
   "source": [
    "15 / 3\n",
    "# gives us 5"
   ]
  },
  {
   "cell_type": "code",
   "execution_count": null,
   "metadata": {
    "colab": {
     "base_uri": "https://localhost:8080/"
    },
    "executionInfo": {
     "elapsed": 827,
     "status": "ok",
     "timestamp": 1634549212746,
     "user": {
      "displayName": "Aleksander Zębrowski",
      "photoUrl": "https://lh3.googleusercontent.com/a-/AOh14Gjbuo853rQLLyVBAitmlzYTUsrdCrjTloHoqWZo=s64",
      "userId": "02533668295886954487"
     },
     "user_tz": -120
    },
    "id": "PAlfsy0w4jx-",
    "outputId": "53f5c5e5-b5d9-4d2d-c442-9c6ac4498cdd"
   },
   "outputs": [
    {
     "data": {
      "text/plain": [
       "1"
      ]
     },
     "execution_count": 9,
     "metadata": {},
     "output_type": "execute_result"
    }
   ],
   "source": [
    "# however\n",
    "15 % 2---------------------------------------------------------+\n",
    "# gives us 1, which is the remainder of 15 / 2\n",
    "# this is a great tool for identifying if a number is even or odd"
   ]
  },
  {
   "cell_type": "markdown",
   "metadata": {
    "id": "KoJUfg4TyK_n"
   },
   "source": [
    "One of the big strengths of Python (depending on who you ask) is the flexible typing system. Unlike statically typed languages, you can modify the type of something whenever you like, by using the appropriate function (full disclosure, not all of these are functions - a distinction not to worry about right now)"
   ]
  },
  {
   "cell_type": "code",
   "execution_count": null,
   "metadata": {
    "colab": {
     "base_uri": "https://localhost:8080/"
    },
    "executionInfo": {
     "elapsed": 528,
     "status": "ok",
     "timestamp": 1634549289955,
     "user": {
      "displayName": "Aleksander Zębrowski",
      "photoUrl": "https://lh3.googleusercontent.com/a-/AOh14Gjbuo853rQLLyVBAitmlzYTUsrdCrjTloHoqWZo=s64",
      "userId": "02533668295886954487"
     },
     "user_tz": -120
    },
    "id": "ObhbfqLcyFWv",
    "outputId": "4a1f95ae-a992-48c9-cf23-44298ebece5e"
   },
   "outputs": [
    {
     "data": {
      "text/plain": [
       "2"
      ]
     },
     "execution_count": 12,
     "metadata": {},
     "output_type": "execute_result"
    }
   ],
   "source": [
    "h = float(4)\n",
    "i = int(2.0)\n",
    "i"
   ]
  },
  {
   "cell_type": "markdown",
   "metadata": {
    "id": "PsBptpA_0UeX"
   },
   "source": [
    "What do you think happens if you do `int(2.5)`? "
   ]
  },
  {
   "cell_type": "code",
   "execution_count": null,
   "metadata": {
    "colab": {
     "base_uri": "https://localhost:8080/"
    },
    "executionInfo": {
     "elapsed": 523,
     "status": "ok",
     "timestamp": 1634549318925,
     "user": {
      "displayName": "Aleksander Zębrowski",
      "photoUrl": "https://lh3.googleusercontent.com/a-/AOh14Gjbuo853rQLLyVBAitmlzYTUsrdCrjTloHoqWZo=s64",
      "userId": "02533668295886954487"
     },
     "user_tz": -120
    },
    "id": "nxaaKBDI0cPh",
    "outputId": "4c40be62-0b75-4a8a-e80a-ce27f0494046"
   },
   "outputs": [
    {
     "name": "stdout",
     "output_type": "stream",
     "text": [
      "2\n"
     ]
    }
   ],
   "source": [
    "print(int(2.7))"
   ]
  },
  {
   "cell_type": "markdown",
   "metadata": {
    "id": "0bFWiFes4OQL"
   },
   "source": [
    "## \"Booleans\""
   ]
  },
  {
   "cell_type": "markdown",
   "metadata": {
    "id": "iIHezLl50h2p"
   },
   "source": [
    "Another of the basic data types is `bool`, named after George Boole, and denotes either `True` or `False`, a \"boolean\" can only ever hold one of these states.\n",
    "\n"
   ]
  },
  {
   "cell_type": "markdown",
   "metadata": {
    "id": "Y5h1G8muLszA"
   },
   "source": [
    "Booleans are useful if we want to check whether a statement is true or not. For example whether variable `a` equals 1"
   ]
  },
  {
   "cell_type": "code",
   "execution_count": null,
   "metadata": {
    "colab": {
     "base_uri": "https://localhost:8080/",
     "height": 130
    },
    "executionInfo": {
     "elapsed": 537,
     "status": "error",
     "timestamp": 1634549419805,
     "user": {
      "displayName": "Aleksander Zębrowski",
      "photoUrl": "https://lh3.googleusercontent.com/a-/AOh14Gjbuo853rQLLyVBAitmlzYTUsrdCrjTloHoqWZo=s64",
      "userId": "02533668295886954487"
     },
     "user_tz": -120
    },
    "id": "pdA0uc7yNY82",
    "outputId": "9711b06e-0082-4b43-cea9-bdfb9df3cedb"
   },
   "outputs": [
    {
     "ename": "SyntaxError",
     "evalue": "ignored",
     "output_type": "error",
     "traceback": [
      "\u001b[0;36m  File \u001b[0;32m\"<ipython-input-17-4b6db8a6a511>\"\u001b[0;36m, line \u001b[0;32m1\u001b[0m\n\u001b[0;31m    3 = 1\u001b[0m\n\u001b[0m         ^\u001b[0m\n\u001b[0;31mSyntaxError\u001b[0m\u001b[0;31m:\u001b[0m can't assign to literal\n"
     ]
    }
   ],
   "source": [
    "3 == 1"
   ]
  },
  {
   "cell_type": "markdown",
   "metadata": {
    "id": "99Q7SmNcNfHc"
   },
   "source": [
    "Or whether it does not"
   ]
  },
  {
   "cell_type": "code",
   "execution_count": null,
   "metadata": {
    "colab": {
     "base_uri": "https://localhost:8080/"
    },
    "executionInfo": {
     "elapsed": 364,
     "status": "ok",
     "timestamp": 1634549466936,
     "user": {
      "displayName": "Aleksander Zębrowski",
      "photoUrl": "https://lh3.googleusercontent.com/a-/AOh14Gjbuo853rQLLyVBAitmlzYTUsrdCrjTloHoqWZo=s64",
      "userId": "02533668295886954487"
     },
     "user_tz": -120
    },
    "id": "n62xRrl_Neqh",
    "outputId": "2ad77edb-dd8e-4d59-d998-906aeb3edd5b"
   },
   "outputs": [
    {
     "data": {
      "text/plain": [
       "True"
      ]
     },
     "execution_count": 18,
     "metadata": {},
     "output_type": "execute_result"
    }
   ],
   "source": [
    "a != 1"
   ]
  },
  {
   "cell_type": "markdown",
   "metadata": {
    "id": "qiCmKRTYNQAF"
   },
   "source": [
    "It's the opposite comparison, and our boolean is opposite as well!\n",
    "\n",
    "Which is bigger 4 or 6?\n",
    "\n",
    "How do we test it?\n",
    "\n",
    "What about greater than or equal to?"
   ]
  },
  {
   "cell_type": "code",
   "execution_count": null,
   "metadata": {
    "colab": {
     "base_uri": "https://localhost:8080/"
    },
    "executionInfo": {
     "elapsed": 326,
     "status": "ok",
     "timestamp": 1634549509705,
     "user": {
      "displayName": "Aleksander Zębrowski",
      "photoUrl": "https://lh3.googleusercontent.com/a-/AOh14Gjbuo853rQLLyVBAitmlzYTUsrdCrjTloHoqWZo=s64",
      "userId": "02533668295886954487"
     },
     "user_tz": -120
    },
    "id": "F8SzPsgVL8Fj",
    "outputId": "9fbe0f3a-2d65-4825-af58-c46dbcf7ebce"
   },
   "outputs": [
    {
     "data": {
      "text/plain": [
       "False"
      ]
     },
     "execution_count": 21,
     "metadata": {},
     "output_type": "execute_result"
    }
   ],
   "source": [
    "3 >= 5"
   ]
  },
  {
   "cell_type": "markdown",
   "metadata": {
    "id": "5ZhP2s9zEbXP"
   },
   "source": [
    "What happens if you add `True + True`?\n",
    "\n",
    "What do you think happens if you try to use the `bool` function:\n",
    "\n",
    "`bool(35)`?\n",
    "`bool(0)`?\n",
    "`bool(-1)`?"
   ]
  },
  {
   "cell_type": "code",
   "execution_count": null,
   "metadata": {
    "colab": {
     "base_uri": "https://localhost:8080/"
    },
    "executionInfo": {
     "elapsed": 517,
     "status": "ok",
     "timestamp": 1634549649062,
     "user": {
      "displayName": "Aleksander Zębrowski",
      "photoUrl": "https://lh3.googleusercontent.com/a-/AOh14Gjbuo853rQLLyVBAitmlzYTUsrdCrjTloHoqWZo=s64",
      "userId": "02533668295886954487"
     },
     "user_tz": -120
    },
    "id": "-_b11EZzCgpP",
    "outputId": "aedd7754-a875-4e86-801a-d47c0a247a0b"
   },
   "outputs": [
    {
     "data": {
      "text/plain": [
       "True"
      ]
     },
     "execution_count": 25,
     "metadata": {},
     "output_type": "execute_result"
    }
   ],
   "source": [
    "True + False\n",
    "bool(-1)"
   ]
  },
  {
   "cell_type": "markdown",
   "metadata": {
    "id": "gjXJQYLO1Ap_"
   },
   "source": [
    "## Strings\n",
    "\n",
    "Last, but not least, of the basic data types is the string; `str` for short.\n",
    "\n",
    "A string is any sequence of letters, numbers or punctuation surrounded by quote marks:\n",
    "`'` or `\"`\n",
    "\n",
    "such as"
   ]
  },
  {
   "cell_type": "code",
   "execution_count": 1,
   "metadata": {
    "colab": {
     "base_uri": "https://localhost:8080/"
    },
    "executionInfo": {
     "elapsed": 12,
     "status": "ok",
     "timestamp": 1668963343016,
     "user": {
      "displayName": "Urszula Włodkowska",
      "userId": "16582544481953068770"
     },
     "user_tz": -60
    },
    "id": "6l4oTaQk1MF4",
    "outputId": "e14e14a5-85cb-43fd-f5fc-5938349f9a2c"
   },
   "outputs": [
    {
     "data": {
      "text/plain": [
       "str"
      ]
     },
     "execution_count": 1,
     "metadata": {},
     "output_type": "execute_result"
    }
   ],
   "source": [
    "\"andrew\"\n",
    "'Nencki Institute'\n",
    "\"I attended the Python course, it was amazing!!\"\n",
    "\"\"\n",
    "\n",
    "'And then he asked, \"what are you doing?\"'\n",
    "type(\"andrew\")"
   ]
  },
  {
   "cell_type": "markdown",
   "metadata": {
    "id": "x_fT5AAa2Orp"
   },
   "source": [
    "The key thing to remember is that the string is started and finished by a matching quote mark, if you start with a double, then the double ends it:<br>\n",
    "line 1 `\"andrew\"<br>\n",
    "or you can start with a single quote<br>\n",
    "line 2 'Nencki Institute'\n",
    "\n",
    "The use of single or double is mostly personal preference, and there are few strict rules.\n",
    "\n",
    "But Andrew, what if my string contains both? \n",
    "\n",
    "For this, we have what's called an \"escape character\", the backslash `\\`"
   ]
  },
  {
   "cell_type": "code",
   "execution_count": 2,
   "metadata": {
    "colab": {
     "base_uri": "https://localhost:8080/"
    },
    "executionInfo": {
     "elapsed": 642,
     "status": "ok",
     "timestamp": 1668963343650,
     "user": {
      "displayName": "Urszula Włodkowska",
      "userId": "16582544481953068770"
     },
     "user_tz": -60
    },
    "id": "rQUJ5g_F2-D2",
    "outputId": "57bdc082-e149-4154-d25c-60a465abca44"
   },
   "outputs": [
    {
     "name": "stdout",
     "output_type": "stream",
     "text": [
      "And then he asked, \"what's the time\"?\n"
     ]
    }
   ],
   "source": [
    "print(\"And then he asked, \\\"what's the time\\\"?\")"
   ]
  },
  {
   "cell_type": "markdown",
   "metadata": {
    "id": "eQ0J7L-s3Izz"
   },
   "source": [
    "The escape character tells Python to treat whatever immediately follows it as the character, and not to interpret it as a Python syntax element. You'll see these in a number of places, but it can be really useful to understand how they work, especially if you're working in a windows filesystem."
   ]
  },
  {
   "cell_type": "markdown",
   "metadata": {
    "id": "BJEQ8RfZ3oX2"
   },
   "source": [
    "Same as before, we can assign strings to variables"
   ]
  },
  {
   "cell_type": "code",
   "execution_count": 3,
   "metadata": {
    "colab": {
     "base_uri": "https://localhost:8080/",
     "height": 52
    },
    "executionInfo": {
     "elapsed": 45,
     "status": "ok",
     "timestamp": 1668963343651,
     "user": {
      "displayName": "Urszula Włodkowska",
      "userId": "16582544481953068770"
     },
     "user_tz": -60
    },
    "id": "bc_NNDMO3sFM",
    "outputId": "7d182f42-7ca1-4749-e8a9-10e1de8e9c9f"
   },
   "outputs": [
    {
     "name": "stdout",
     "output_type": "stream",
     "text": [
      "\n"
     ]
    },
    {
     "data": {
      "application/vnd.google.colaboratory.intrinsic+json": {
       "type": "string"
      },
      "text/plain": [
       "'Andrew'"
      ]
     },
     "execution_count": 3,
     "metadata": {},
     "output_type": "execute_result"
    }
   ],
   "source": [
    "first_name = \"Andrew\"\n",
    "last_name = \"Want\"\n",
    "# and if we want to print more than one thing at a time, we can separate arguments to `print` with commas (przecinki)\n",
    "print()\n",
    "first_name"
   ]
  },
  {
   "cell_type": "markdown",
   "metadata": {
    "id": "Y38w9I1g4Hbc"
   },
   "source": [
    "Separating arguments to functions with commas is everywhere in Python, anytime you want to provide more than one argument to a function. I'll try to flag it up whenever it happens."
   ]
  },
  {
   "cell_type": "code",
   "execution_count": 4,
   "metadata": {
    "colab": {
     "base_uri": "https://localhost:8080/",
     "height": 169
    },
    "executionInfo": {
     "elapsed": 30,
     "status": "error",
     "timestamp": 1668963343653,
     "user": {
      "displayName": "Urszula Włodkowska",
      "userId": "16582544481953068770"
     },
     "user_tz": -60
    },
    "id": "XlJqXOOO4D21",
    "outputId": "fb2220e3-13eb-42c7-cd71-2da6b2ac5082"
   },
   "outputs": [
    {
     "ename": "NameError",
     "evalue": "ignored",
     "output_type": "error",
     "traceback": [
      "\u001b[0;31m---------------------------------------------------------------------------\u001b[0m",
      "\u001b[0;31mNameError\u001b[0m                                 Traceback (most recent call last)",
      "\u001b[0;32m<ipython-input-4-eccb2ae72fd5>\u001b[0m in \u001b[0;36m<module>\u001b[0;34m\u001b[0m\n\u001b[0;32m----> 1\u001b[0;31m \u001b[0mprint\u001b[0m\u001b[0;34m(\u001b[0m\u001b[0mfirst_name\u001b[0m\u001b[0;34m,\u001b[0m \u001b[0mlast_name\u001b[0m\u001b[0;34m,\u001b[0m \u001b[0ma\u001b[0m\u001b[0;34m,\u001b[0m \u001b[0mb\u001b[0m\u001b[0;34m,\u001b[0m \u001b[0mc\u001b[0m\u001b[0;34m,\u001b[0m \u001b[0md\u001b[0m\u001b[0;34m,\u001b[0m \u001b[0me\u001b[0m\u001b[0;34m)\u001b[0m\u001b[0;34m\u001b[0m\u001b[0;34m\u001b[0m\u001b[0m\n\u001b[0m",
      "\u001b[0;31mNameError\u001b[0m: name 'a' is not defined"
     ]
    }
   ],
   "source": [
    "print(first_name, last_name, a, b, c, d, e)"
   ]
  },
  {
   "cell_type": "markdown",
   "metadata": {
    "id": "3io0KlABMhui"
   },
   "source": [
    "So, one thing to remember about strings, if the character in the string looks different, it **is** different.\n",
    "\n",
    "A is not a\n",
    "\n",
    "Let's look at comparisons, if we want to see if two things are the same, we use two equals signs:\n",
    "\n",
    "`\"a\" == \"A\"`"
   ]
  },
  {
   "cell_type": "code",
   "execution_count": null,
   "metadata": {
    "executionInfo": {
     "elapsed": 27,
     "status": "aborted",
     "timestamp": 1668963343654,
     "user": {
      "displayName": "Urszula Włodkowska",
      "userId": "16582544481953068770"
     },
     "user_tz": -60
    },
    "id": "3ZKGLa4AMr03"
   },
   "outputs": [],
   "source": [
    "\"a\" == \"A\""
   ]
  },
  {
   "cell_type": "markdown",
   "metadata": {
    "id": "2ITv8p-0MvJx"
   },
   "source": [
    "And look if it isn't George Boole, telling us that these characters are not the same. \n",
    "\n",
    "How about if we suspect they aren't the same?"
   ]
  },
  {
   "cell_type": "code",
   "execution_count": null,
   "metadata": {
    "executionInfo": {
     "elapsed": 27,
     "status": "aborted",
     "timestamp": 1668963343655,
     "user": {
      "displayName": "Urszula Włodkowska",
      "userId": "16582544481953068770"
     },
     "user_tz": -60
    },
    "id": "isrLk4YIMqxX"
   },
   "outputs": [],
   "source": []
  },
  {
   "cell_type": "markdown",
   "metadata": {
    "id": "zNPz_ZJ4UIVw"
   },
   "source": [
    "String variables can be also added together, however the result of such sum will be a bit different from the sum on numerical values"
   ]
  },
  {
   "cell_type": "code",
   "execution_count": null,
   "metadata": {
    "executionInfo": {
     "elapsed": 26,
     "status": "aborted",
     "timestamp": 1668963343656,
     "user": {
      "displayName": "Urszula Włodkowska",
      "userId": "16582544481953068770"
     },
     "user_tz": -60
    },
    "id": "vBNLam2KUaWR"
   },
   "outputs": [],
   "source": [
    "first_name + ' '+ last_name"
   ]
  },
  {
   "cell_type": "markdown",
   "metadata": {
    "id": "RcMPlIPD6eN_"
   },
   "source": [
    "It turns out, adding strings together is actually really useful in a whole range of different processes"
   ]
  },
  {
   "cell_type": "markdown",
   "metadata": {
    "id": "Z86p-0-q6s2a"
   },
   "source": [
    "Except, that's a bit clumsy isn't it?"
   ]
  },
  {
   "cell_type": "code",
   "execution_count": null,
   "metadata": {
    "executionInfo": {
     "elapsed": 27,
     "status": "aborted",
     "timestamp": 1668963343657,
     "user": {
      "displayName": "Urszula Włodkowska",
      "userId": "16582544481953068770"
     },
     "user_tz": -60
    },
    "id": "kHLehAwE6vc2"
   },
   "outputs": [],
   "source": [
    "# how can you \"fix it\"?"
   ]
  },
  {
   "cell_type": "markdown",
   "metadata": {
    "id": "iGDjCmKdUkK5"
   },
   "source": [
    "## If it walks like a duck and it quacks like a duck, then it must be a duck\n",
    "\n",
    "What would happen if we try to add a `str` to an `int`?"
   ]
  },
  {
   "cell_type": "code",
   "execution_count": null,
   "metadata": {
    "colab": {
     "base_uri": "https://localhost:8080/",
     "height": 35
    },
    "executionInfo": {
     "elapsed": 384,
     "status": "ok",
     "timestamp": 1662387168513,
     "user": {
      "displayName": "Urszula Włodkowska",
      "userId": "16582544481953068770"
     },
     "user_tz": -120
    },
    "id": "lPai96pR6adA",
    "outputId": "451adad1-88fd-4f14-fa4c-3a14271f8e0b"
   },
   "outputs": [
    {
     "data": {
      "application/vnd.google.colaboratory.intrinsic+json": {
       "type": "string"
      },
      "text/plain": [
       "'21'"
      ]
     },
     "execution_count": 11,
     "metadata": {},
     "output_type": "execute_result"
    }
   ],
   "source": [
    "# Now try adding \"1\" and 2\n",
    "str(2) + '1'"
   ]
  },
  {
   "cell_type": "markdown",
   "metadata": {
    "id": "YtUhV2m76LrL"
   },
   "source": [
    "Python applies \"duck typing\", which means that if you tell Python to add two things together, Python will check whether addition is allowed for those things, and then do it."
   ]
  },
  {
   "cell_type": "markdown",
   "metadata": {
    "id": "SvMBUdb24cwO"
   },
   "source": [
    "### The Python object model\n",
    "\n",
    "\n",
    "\n",
    "Everything in Python is an object.\n",
    "\n",
    "OK. So, what does this mean?\n",
    "\n",
    "In computer programming, an object is just the term used to describe something which has specific properties and information within your program. \n",
    "\n",
    "Above, the object `first_name` has data associated with it (the string \"Andrew\") and the variable name. It also has it's location in the computer memory and a unique ID that the Python interpreter uses to know what it is, and where to find it.\n",
    "\n",
    "In Python, all the integers are objects, all the strings, all the functions, everything.\n",
    "\n",
    "And one more crucial thing to remember about objects, is that they often come packaged with their own toolkits. The name for functions that are packaged with an object is `method`. We'll get into this shortly.\n",
    "\n",
    "In Python we do not specify the type of the variable. Thus to verify whether a particular object can be used for particular purpose Python checks whether this object has certain methods and properties. \n",
    "\n"
   ]
  },
  {
   "cell_type": "markdown",
   "metadata": {
    "id": "WSifxXr764vo"
   },
   "source": [
    "On to the next function:\n",
    "\n",
    "`dir`\n",
    "\n",
    "This allows us to learn a bit more about our objects. This function will tell us what kinds of things the object can do, and what kinds of data it might contain. Alternatively, `help` can also work well here:"
   ]
  },
  {
   "cell_type": "code",
   "execution_count": null,
   "metadata": {
    "colab": {
     "base_uri": "https://localhost:8080/"
    },
    "executionInfo": {
     "elapsed": 326,
     "status": "ok",
     "timestamp": 1662387204334,
     "user": {
      "displayName": "Urszula Włodkowska",
      "userId": "16582544481953068770"
     },
     "user_tz": -120
    },
    "id": "iPxSnASP7Hq_",
    "outputId": "3a154f9f-2152-408b-adcb-528803e0ebad"
   },
   "outputs": [
    {
     "data": {
      "text/plain": [
       "['__add__',\n",
       " '__class__',\n",
       " '__contains__',\n",
       " '__delattr__',\n",
       " '__dir__',\n",
       " '__doc__',\n",
       " '__eq__',\n",
       " '__format__',\n",
       " '__ge__',\n",
       " '__getattribute__',\n",
       " '__getitem__',\n",
       " '__getnewargs__',\n",
       " '__gt__',\n",
       " '__hash__',\n",
       " '__init__',\n",
       " '__init_subclass__',\n",
       " '__iter__',\n",
       " '__le__',\n",
       " '__len__',\n",
       " '__lt__',\n",
       " '__mod__',\n",
       " '__mul__',\n",
       " '__ne__',\n",
       " '__new__',\n",
       " '__reduce__',\n",
       " '__reduce_ex__',\n",
       " '__repr__',\n",
       " '__rmod__',\n",
       " '__rmul__',\n",
       " '__setattr__',\n",
       " '__sizeof__',\n",
       " '__str__',\n",
       " '__subclasshook__',\n",
       " 'capitalize',\n",
       " 'casefold',\n",
       " 'center',\n",
       " 'count',\n",
       " 'encode',\n",
       " 'endswith',\n",
       " 'expandtabs',\n",
       " 'find',\n",
       " 'format',\n",
       " 'format_map',\n",
       " 'index',\n",
       " 'isalnum',\n",
       " 'isalpha',\n",
       " 'isascii',\n",
       " 'isdecimal',\n",
       " 'isdigit',\n",
       " 'isidentifier',\n",
       " 'islower',\n",
       " 'isnumeric',\n",
       " 'isprintable',\n",
       " 'isspace',\n",
       " 'istitle',\n",
       " 'isupper',\n",
       " 'join',\n",
       " 'ljust',\n",
       " 'lower',\n",
       " 'lstrip',\n",
       " 'maketrans',\n",
       " 'partition',\n",
       " 'replace',\n",
       " 'rfind',\n",
       " 'rindex',\n",
       " 'rjust',\n",
       " 'rpartition',\n",
       " 'rsplit',\n",
       " 'rstrip',\n",
       " 'split',\n",
       " 'splitlines',\n",
       " 'startswith',\n",
       " 'strip',\n",
       " 'swapcase',\n",
       " 'title',\n",
       " 'translate',\n",
       " 'upper',\n",
       " 'zfill']"
      ]
     },
     "execution_count": 17,
     "metadata": {},
     "output_type": "execute_result"
    }
   ],
   "source": [
    "dir(first_name)"
   ]
  },
  {
   "cell_type": "code",
   "execution_count": null,
   "metadata": {
    "colab": {
     "base_uri": "https://localhost:8080/"
    },
    "executionInfo": {
     "elapsed": 20,
     "status": "ok",
     "timestamp": 1662387204966,
     "user": {
      "displayName": "Urszula Włodkowska",
      "userId": "16582544481953068770"
     },
     "user_tz": -120
    },
    "id": "sibRDKNPgWyn",
    "outputId": "5c4eeeff-6333-4f50-dd12-e555d9f3af30"
   },
   "outputs": [
    {
     "name": "stdout",
     "output_type": "stream",
     "text": [
      "True\n"
     ]
    }
   ],
   "source": [
    "string = \"test_filename.xlsx\"\n",
    "print(string.endswith(\".xlsx\"))"
   ]
  },
  {
   "cell_type": "code",
   "execution_count": null,
   "metadata": {
    "colab": {
     "base_uri": "https://localhost:8080/"
    },
    "executionInfo": {
     "elapsed": 17,
     "status": "ok",
     "timestamp": 1662387204968,
     "user": {
      "displayName": "Urszula Włodkowska",
      "userId": "16582544481953068770"
     },
     "user_tz": -120
    },
    "id": "mFypdCLH7JES",
    "outputId": "1435526b-1e4e-494a-bcfd-d1fc4c656644"
   },
   "outputs": [
    {
     "name": "stdout",
     "output_type": "stream",
     "text": [
      "Help on class str in module builtins:\n",
      "\n",
      "class str(object)\n",
      " |  str(object='') -> str\n",
      " |  str(bytes_or_buffer[, encoding[, errors]]) -> str\n",
      " |  \n",
      " |  Create a new string object from the given object. If encoding or\n",
      " |  errors is specified, then the object must expose a data buffer\n",
      " |  that will be decoded using the given encoding and error handler.\n",
      " |  Otherwise, returns the result of object.__str__() (if defined)\n",
      " |  or repr(object).\n",
      " |  encoding defaults to sys.getdefaultencoding().\n",
      " |  errors defaults to 'strict'.\n",
      " |  \n",
      " |  Methods defined here:\n",
      " |  \n",
      " |  __add__(self, value, /)\n",
      " |      Return self+value.\n",
      " |  \n",
      " |  __contains__(self, key, /)\n",
      " |      Return key in self.\n",
      " |  \n",
      " |  __eq__(self, value, /)\n",
      " |      Return self==value.\n",
      " |  \n",
      " |  __format__(self, format_spec, /)\n",
      " |      Return a formatted version of the string as described by format_spec.\n",
      " |  \n",
      " |  __ge__(self, value, /)\n",
      " |      Return self>=value.\n",
      " |  \n",
      " |  __getattribute__(self, name, /)\n",
      " |      Return getattr(self, name).\n",
      " |  \n",
      " |  __getitem__(self, key, /)\n",
      " |      Return self[key].\n",
      " |  \n",
      " |  __getnewargs__(...)\n",
      " |  \n",
      " |  __gt__(self, value, /)\n",
      " |      Return self>value.\n",
      " |  \n",
      " |  __hash__(self, /)\n",
      " |      Return hash(self).\n",
      " |  \n",
      " |  __iter__(self, /)\n",
      " |      Implement iter(self).\n",
      " |  \n",
      " |  __le__(self, value, /)\n",
      " |      Return self<=value.\n",
      " |  \n",
      " |  __len__(self, /)\n",
      " |      Return len(self).\n",
      " |  \n",
      " |  __lt__(self, value, /)\n",
      " |      Return self<value.\n",
      " |  \n",
      " |  __mod__(self, value, /)\n",
      " |      Return self%value.\n",
      " |  \n",
      " |  __mul__(self, value, /)\n",
      " |      Return self*value.\n",
      " |  \n",
      " |  __ne__(self, value, /)\n",
      " |      Return self!=value.\n",
      " |  \n",
      " |  __repr__(self, /)\n",
      " |      Return repr(self).\n",
      " |  \n",
      " |  __rmod__(self, value, /)\n",
      " |      Return value%self.\n",
      " |  \n",
      " |  __rmul__(self, value, /)\n",
      " |      Return value*self.\n",
      " |  \n",
      " |  __sizeof__(self, /)\n",
      " |      Return the size of the string in memory, in bytes.\n",
      " |  \n",
      " |  __str__(self, /)\n",
      " |      Return str(self).\n",
      " |  \n",
      " |  capitalize(self, /)\n",
      " |      Return a capitalized version of the string.\n",
      " |      \n",
      " |      More specifically, make the first character have upper case and the rest lower\n",
      " |      case.\n",
      " |  \n",
      " |  casefold(self, /)\n",
      " |      Return a version of the string suitable for caseless comparisons.\n",
      " |  \n",
      " |  center(self, width, fillchar=' ', /)\n",
      " |      Return a centered string of length width.\n",
      " |      \n",
      " |      Padding is done using the specified fill character (default is a space).\n",
      " |  \n",
      " |  count(...)\n",
      " |      S.count(sub[, start[, end]]) -> int\n",
      " |      \n",
      " |      Return the number of non-overlapping occurrences of substring sub in\n",
      " |      string S[start:end].  Optional arguments start and end are\n",
      " |      interpreted as in slice notation.\n",
      " |  \n",
      " |  encode(self, /, encoding='utf-8', errors='strict')\n",
      " |      Encode the string using the codec registered for encoding.\n",
      " |      \n",
      " |      encoding\n",
      " |        The encoding in which to encode the string.\n",
      " |      errors\n",
      " |        The error handling scheme to use for encoding errors.\n",
      " |        The default is 'strict' meaning that encoding errors raise a\n",
      " |        UnicodeEncodeError.  Other possible values are 'ignore', 'replace' and\n",
      " |        'xmlcharrefreplace' as well as any other name registered with\n",
      " |        codecs.register_error that can handle UnicodeEncodeErrors.\n",
      " |  \n",
      " |  endswith(...)\n",
      " |      S.endswith(suffix[, start[, end]]) -> bool\n",
      " |      \n",
      " |      Return True if S ends with the specified suffix, False otherwise.\n",
      " |      With optional start, test S beginning at that position.\n",
      " |      With optional end, stop comparing S at that position.\n",
      " |      suffix can also be a tuple of strings to try.\n",
      " |  \n",
      " |  expandtabs(self, /, tabsize=8)\n",
      " |      Return a copy where all tab characters are expanded using spaces.\n",
      " |      \n",
      " |      If tabsize is not given, a tab size of 8 characters is assumed.\n",
      " |  \n",
      " |  find(...)\n",
      " |      S.find(sub[, start[, end]]) -> int\n",
      " |      \n",
      " |      Return the lowest index in S where substring sub is found,\n",
      " |      such that sub is contained within S[start:end].  Optional\n",
      " |      arguments start and end are interpreted as in slice notation.\n",
      " |      \n",
      " |      Return -1 on failure.\n",
      " |  \n",
      " |  format(...)\n",
      " |      S.format(*args, **kwargs) -> str\n",
      " |      \n",
      " |      Return a formatted version of S, using substitutions from args and kwargs.\n",
      " |      The substitutions are identified by braces ('{' and '}').\n",
      " |  \n",
      " |  format_map(...)\n",
      " |      S.format_map(mapping) -> str\n",
      " |      \n",
      " |      Return a formatted version of S, using substitutions from mapping.\n",
      " |      The substitutions are identified by braces ('{' and '}').\n",
      " |  \n",
      " |  index(...)\n",
      " |      S.index(sub[, start[, end]]) -> int\n",
      " |      \n",
      " |      Return the lowest index in S where substring sub is found, \n",
      " |      such that sub is contained within S[start:end].  Optional\n",
      " |      arguments start and end are interpreted as in slice notation.\n",
      " |      \n",
      " |      Raises ValueError when the substring is not found.\n",
      " |  \n",
      " |  isalnum(self, /)\n",
      " |      Return True if the string is an alpha-numeric string, False otherwise.\n",
      " |      \n",
      " |      A string is alpha-numeric if all characters in the string are alpha-numeric and\n",
      " |      there is at least one character in the string.\n",
      " |  \n",
      " |  isalpha(self, /)\n",
      " |      Return True if the string is an alphabetic string, False otherwise.\n",
      " |      \n",
      " |      A string is alphabetic if all characters in the string are alphabetic and there\n",
      " |      is at least one character in the string.\n",
      " |  \n",
      " |  isascii(self, /)\n",
      " |      Return True if all characters in the string are ASCII, False otherwise.\n",
      " |      \n",
      " |      ASCII characters have code points in the range U+0000-U+007F.\n",
      " |      Empty string is ASCII too.\n",
      " |  \n",
      " |  isdecimal(self, /)\n",
      " |      Return True if the string is a decimal string, False otherwise.\n",
      " |      \n",
      " |      A string is a decimal string if all characters in the string are decimal and\n",
      " |      there is at least one character in the string.\n",
      " |  \n",
      " |  isdigit(self, /)\n",
      " |      Return True if the string is a digit string, False otherwise.\n",
      " |      \n",
      " |      A string is a digit string if all characters in the string are digits and there\n",
      " |      is at least one character in the string.\n",
      " |  \n",
      " |  isidentifier(self, /)\n",
      " |      Return True if the string is a valid Python identifier, False otherwise.\n",
      " |      \n",
      " |      Use keyword.iskeyword() to test for reserved identifiers such as \"def\" and\n",
      " |      \"class\".\n",
      " |  \n",
      " |  islower(self, /)\n",
      " |      Return True if the string is a lowercase string, False otherwise.\n",
      " |      \n",
      " |      A string is lowercase if all cased characters in the string are lowercase and\n",
      " |      there is at least one cased character in the string.\n",
      " |  \n",
      " |  isnumeric(self, /)\n",
      " |      Return True if the string is a numeric string, False otherwise.\n",
      " |      \n",
      " |      A string is numeric if all characters in the string are numeric and there is at\n",
      " |      least one character in the string.\n",
      " |  \n",
      " |  isprintable(self, /)\n",
      " |      Return True if the string is printable, False otherwise.\n",
      " |      \n",
      " |      A string is printable if all of its characters are considered printable in\n",
      " |      repr() or if it is empty.\n",
      " |  \n",
      " |  isspace(self, /)\n",
      " |      Return True if the string is a whitespace string, False otherwise.\n",
      " |      \n",
      " |      A string is whitespace if all characters in the string are whitespace and there\n",
      " |      is at least one character in the string.\n",
      " |  \n",
      " |  istitle(self, /)\n",
      " |      Return True if the string is a title-cased string, False otherwise.\n",
      " |      \n",
      " |      In a title-cased string, upper- and title-case characters may only\n",
      " |      follow uncased characters and lowercase characters only cased ones.\n",
      " |  \n",
      " |  isupper(self, /)\n",
      " |      Return True if the string is an uppercase string, False otherwise.\n",
      " |      \n",
      " |      A string is uppercase if all cased characters in the string are uppercase and\n",
      " |      there is at least one cased character in the string.\n",
      " |  \n",
      " |  join(self, iterable, /)\n",
      " |      Concatenate any number of strings.\n",
      " |      \n",
      " |      The string whose method is called is inserted in between each given string.\n",
      " |      The result is returned as a new string.\n",
      " |      \n",
      " |      Example: '.'.join(['ab', 'pq', 'rs']) -> 'ab.pq.rs'\n",
      " |  \n",
      " |  ljust(self, width, fillchar=' ', /)\n",
      " |      Return a left-justified string of length width.\n",
      " |      \n",
      " |      Padding is done using the specified fill character (default is a space).\n",
      " |  \n",
      " |  lower(self, /)\n",
      " |      Return a copy of the string converted to lowercase.\n",
      " |  \n",
      " |  lstrip(self, chars=None, /)\n",
      " |      Return a copy of the string with leading whitespace removed.\n",
      " |      \n",
      " |      If chars is given and not None, remove characters in chars instead.\n",
      " |  \n",
      " |  partition(self, sep, /)\n",
      " |      Partition the string into three parts using the given separator.\n",
      " |      \n",
      " |      This will search for the separator in the string.  If the separator is found,\n",
      " |      returns a 3-tuple containing the part before the separator, the separator\n",
      " |      itself, and the part after it.\n",
      " |      \n",
      " |      If the separator is not found, returns a 3-tuple containing the original string\n",
      " |      and two empty strings.\n",
      " |  \n",
      " |  replace(self, old, new, count=-1, /)\n",
      " |      Return a copy with all occurrences of substring old replaced by new.\n",
      " |      \n",
      " |        count\n",
      " |          Maximum number of occurrences to replace.\n",
      " |          -1 (the default value) means replace all occurrences.\n",
      " |      \n",
      " |      If the optional argument count is given, only the first count occurrences are\n",
      " |      replaced.\n",
      " |  \n",
      " |  rfind(...)\n",
      " |      S.rfind(sub[, start[, end]]) -> int\n",
      " |      \n",
      " |      Return the highest index in S where substring sub is found,\n",
      " |      such that sub is contained within S[start:end].  Optional\n",
      " |      arguments start and end are interpreted as in slice notation.\n",
      " |      \n",
      " |      Return -1 on failure.\n",
      " |  \n",
      " |  rindex(...)\n",
      " |      S.rindex(sub[, start[, end]]) -> int\n",
      " |      \n",
      " |      Return the highest index in S where substring sub is found,\n",
      " |      such that sub is contained within S[start:end].  Optional\n",
      " |      arguments start and end are interpreted as in slice notation.\n",
      " |      \n",
      " |      Raises ValueError when the substring is not found.\n",
      " |  \n",
      " |  rjust(self, width, fillchar=' ', /)\n",
      " |      Return a right-justified string of length width.\n",
      " |      \n",
      " |      Padding is done using the specified fill character (default is a space).\n",
      " |  \n",
      " |  rpartition(self, sep, /)\n",
      " |      Partition the string into three parts using the given separator.\n",
      " |      \n",
      " |      This will search for the separator in the string, starting at the end. If\n",
      " |      the separator is found, returns a 3-tuple containing the part before the\n",
      " |      separator, the separator itself, and the part after it.\n",
      " |      \n",
      " |      If the separator is not found, returns a 3-tuple containing two empty strings\n",
      " |      and the original string.\n",
      " |  \n",
      " |  rsplit(self, /, sep=None, maxsplit=-1)\n",
      " |      Return a list of the words in the string, using sep as the delimiter string.\n",
      " |      \n",
      " |        sep\n",
      " |          The delimiter according which to split the string.\n",
      " |          None (the default value) means split according to any whitespace,\n",
      " |          and discard empty strings from the result.\n",
      " |        maxsplit\n",
      " |          Maximum number of splits to do.\n",
      " |          -1 (the default value) means no limit.\n",
      " |      \n",
      " |      Splits are done starting at the end of the string and working to the front.\n",
      " |  \n",
      " |  rstrip(self, chars=None, /)\n",
      " |      Return a copy of the string with trailing whitespace removed.\n",
      " |      \n",
      " |      If chars is given and not None, remove characters in chars instead.\n",
      " |  \n",
      " |  split(self, /, sep=None, maxsplit=-1)\n",
      " |      Return a list of the words in the string, using sep as the delimiter string.\n",
      " |      \n",
      " |      sep\n",
      " |        The delimiter according which to split the string.\n",
      " |        None (the default value) means split according to any whitespace,\n",
      " |        and discard empty strings from the result.\n",
      " |      maxsplit\n",
      " |        Maximum number of splits to do.\n",
      " |        -1 (the default value) means no limit.\n",
      " |  \n",
      " |  splitlines(self, /, keepends=False)\n",
      " |      Return a list of the lines in the string, breaking at line boundaries.\n",
      " |      \n",
      " |      Line breaks are not included in the resulting list unless keepends is given and\n",
      " |      true.\n",
      " |  \n",
      " |  startswith(...)\n",
      " |      S.startswith(prefix[, start[, end]]) -> bool\n",
      " |      \n",
      " |      Return True if S starts with the specified prefix, False otherwise.\n",
      " |      With optional start, test S beginning at that position.\n",
      " |      With optional end, stop comparing S at that position.\n",
      " |      prefix can also be a tuple of strings to try.\n",
      " |  \n",
      " |  strip(self, chars=None, /)\n",
      " |      Return a copy of the string with leading and trailing whitespace removed.\n",
      " |      \n",
      " |      If chars is given and not None, remove characters in chars instead.\n",
      " |  \n",
      " |  swapcase(self, /)\n",
      " |      Convert uppercase characters to lowercase and lowercase characters to uppercase.\n",
      " |  \n",
      " |  title(self, /)\n",
      " |      Return a version of the string where each word is titlecased.\n",
      " |      \n",
      " |      More specifically, words start with uppercased characters and all remaining\n",
      " |      cased characters have lower case.\n",
      " |  \n",
      " |  translate(self, table, /)\n",
      " |      Replace each character in the string using the given translation table.\n",
      " |      \n",
      " |        table\n",
      " |          Translation table, which must be a mapping of Unicode ordinals to\n",
      " |          Unicode ordinals, strings, or None.\n",
      " |      \n",
      " |      The table must implement lookup/indexing via __getitem__, for instance a\n",
      " |      dictionary or list.  If this operation raises LookupError, the character is\n",
      " |      left untouched.  Characters mapped to None are deleted.\n",
      " |  \n",
      " |  upper(self, /)\n",
      " |      Return a copy of the string converted to uppercase.\n",
      " |  \n",
      " |  zfill(self, width, /)\n",
      " |      Pad a numeric string with zeros on the left, to fill a field of the given width.\n",
      " |      \n",
      " |      The string is never truncated.\n",
      " |  \n",
      " |  ----------------------------------------------------------------------\n",
      " |  Static methods defined here:\n",
      " |  \n",
      " |  __new__(*args, **kwargs) from builtins.type\n",
      " |      Create and return a new object.  See help(type) for accurate signature.\n",
      " |  \n",
      " |  maketrans(x, y=None, z=None, /)\n",
      " |      Return a translation table usable for str.translate().\n",
      " |      \n",
      " |      If there is only one argument, it must be a dictionary mapping Unicode\n",
      " |      ordinals (integers) or characters to Unicode ordinals, strings or None.\n",
      " |      Character keys will be then converted to ordinals.\n",
      " |      If there are two arguments, they must be strings of equal length, and\n",
      " |      in the resulting dictionary, each character in x will be mapped to the\n",
      " |      character at the same position in y. If there is a third argument, it\n",
      " |      must be a string, whose characters will be mapped to None in the result.\n",
      "\n"
     ]
    }
   ],
   "source": [
    "help(str)"
   ]
  },
  {
   "cell_type": "markdown",
   "metadata": {
    "id": "XM5XKWrd7XrC"
   },
   "source": [
    "As you might have guessed, `help` is a bit more helpful, but also quite verbose.\n",
    "\n"
   ]
  },
  {
   "cell_type": "code",
   "execution_count": null,
   "metadata": {
    "colab": {
     "base_uri": "https://localhost:8080/"
    },
    "executionInfo": {
     "elapsed": 15,
     "status": "ok",
     "timestamp": 1662387204970,
     "user": {
      "displayName": "Urszula Włodkowska",
      "userId": "16582544481953068770"
     },
     "user_tz": -120
    },
    "id": "631uuOaP1Xzs",
    "outputId": "b7553ea9-d1bb-45ae-a9cc-cf1922537ff3"
   },
   "outputs": [
    {
     "name": "stdout",
     "output_type": "stream",
     "text": [
      "AND\n",
      "AND\n",
      "AND\n",
      "AND\n"
     ]
    }
   ],
   "source": [
    "print(\"and\".upper())\n",
    "and_ = \"and\"\n",
    "print(and_.upper())\n",
    "print(and_.upper())\n",
    "AND = and_.upper()\n",
    "print(AND)\n",
    "\n"
   ]
  },
  {
   "cell_type": "markdown",
   "metadata": {
    "id": "-VMypJSN_c2x"
   },
   "source": [
    "### Back to strings...\n",
    "\n",
    "What do you think the `upper` method might do?\n",
    "\n",
    "And how about `startswith`?\n",
    "\n",
    "`replace`?\n",
    "\n",
    "Some of these methods will be used more than others, but they all have important uses, because you will be dealing with strings all the time (file names, data labels, text mining, etc.)\n",
    "\n",
    "Experiment with some strings and methods: is there anything strange you notice? Any methods don't do what you think they should?"
   ]
  },
  {
   "cell_type": "code",
   "execution_count": null,
   "metadata": {
    "colab": {
     "base_uri": "https://localhost:8080/"
    },
    "executionInfo": {
     "elapsed": 14,
     "status": "ok",
     "timestamp": 1662387168946,
     "user": {
      "displayName": "Urszula Włodkowska",
      "userId": "16582544481953068770"
     },
     "user_tz": -120
    },
    "id": "tZkNH8CjhpP3",
    "outputId": "4189bf6f-c247-4249-f7b1-8660a51d38fa"
   },
   "outputs": [
    {
     "name": "stdout",
     "output_type": "stream",
     "text": [
      "Help on method_descriptor:\n",
      "\n",
      "replace(self, old, new, count=-1, /)\n",
      "    Return a copy with all occurrences of substring old replaced by new.\n",
      "    \n",
      "      count\n",
      "        Maximum number of occurrences to replace.\n",
      "        -1 (the default value) means replace all occurrences.\n",
      "    \n",
      "    If the optional argument count is given, only the first count occurrences are\n",
      "    replaced.\n",
      "\n"
     ]
    }
   ],
   "source": [
    "help(str.replace)"
   ]
  },
  {
   "cell_type": "markdown",
   "metadata": {
    "id": "znZZU6mRAWtr"
   },
   "source": [
    "## Indexing\n",
    "\n",
    "Strings are what are described in Python as an `iterable`. That means it is a thing that can be iterated upon. In plain english, it just means that it's a sequence of things (characters in this case). \n",
    "\n",
    "Usually, the string itself has meaning, and that meaning comes from the sequence of characters.\n",
    "\n",
    "The Python syntax for selecting (`indexing`) a specific character in a string is to follow the string with square brackets `[1]` with a number in between indicating the number of the character.\n",
    "\n",
    "**Warning Python is 0-indexed. This means that all iterables are numbered from 0, not from 1!**"
   ]
  },
  {
   "cell_type": "code",
   "execution_count": null,
   "metadata": {
    "colab": {
     "base_uri": "https://localhost:8080/"
    },
    "executionInfo": {
     "elapsed": 420,
     "status": "ok",
     "timestamp": 1662388700759,
     "user": {
      "displayName": "Urszula Włodkowska",
      "userId": "16582544481953068770"
     },
     "user_tz": -120
    },
    "id": "cKwMzQtEBOvZ",
    "outputId": "9f357e2a-71d8-41a8-ccf4-efa903484905"
   },
   "outputs": [
    {
     "name": "stdout",
     "output_type": "stream",
     "text": [
      "A\n"
     ]
    }
   ],
   "source": [
    "print(first_name[0])"
   ]
  },
  {
   "cell_type": "markdown",
   "metadata": {
    "id": "SNu7sc7HBcMy"
   },
   "source": [
    "If you want to select a group of consecutive characters, you have to use the `index` of the first character, and the `index` of the one after the last one you want, separated by a colon `:`\n",
    "\n",
    "so if you want the first 2 characters of `first_name`, you need to select from 0 to (but not including) 2 (i.e. positions 0 and 1). It takes a bit of time to get used to it, and even now, sometimes I have to stop, check myself and count on my fingers.\n",
    "\n",
    "This is called \"slicing\""
   ]
  },
  {
   "cell_type": "code",
   "execution_count": null,
   "metadata": {
    "colab": {
     "base_uri": "https://localhost:8080/"
    },
    "executionInfo": {
     "elapsed": 51,
     "status": "ok",
     "timestamp": 1662388701287,
     "user": {
      "displayName": "Urszula Włodkowska",
      "userId": "16582544481953068770"
     },
     "user_tz": -120
    },
    "id": "XPxTojCnCLmF",
    "outputId": "57efbc7c-befb-4395-e570-c32f78c9d1dd"
   },
   "outputs": [
    {
     "name": "stdout",
     "output_type": "stream",
     "text": [
      "An\n",
      "An\n"
     ]
    }
   ],
   "source": [
    "print(first_name[0:2])\n",
    "# if you're starting at 0 is equivalent to:\n",
    "print(first_name[:2])"
   ]
  },
  {
   "cell_type": "markdown",
   "metadata": {
    "id": "6QLEwFr7CbWP"
   },
   "source": [
    "Once you've done some experimenting with indexing, there are two additions:\n",
    "\n",
    "#### negative indexing\n",
    "\n",
    "If you use a negative index, then you can start from the back: that last character is -1 (not -0 sadly).\n",
    "\n",
    "How do you slice off the last two characters?\n",
    "\n"
   ]
  },
  {
   "cell_type": "code",
   "execution_count": null,
   "metadata": {
    "id": "WNqyNmN5DB0M"
   },
   "outputs": [],
   "source": []
  },
  {
   "cell_type": "markdown",
   "metadata": {
    "id": "QhVtOEesDEgg"
   },
   "source": [
    "It's also possible to slice every other element in the sequence, for instance, taking the \"A\", \"d\" and \"e\" out of my `first_name`"
   ]
  },
  {
   "cell_type": "code",
   "execution_count": null,
   "metadata": {
    "colab": {
     "base_uri": "https://localhost:8080/"
    },
    "executionInfo": {
     "elapsed": 52,
     "status": "ok",
     "timestamp": 1662389383155,
     "user": {
      "displayName": "Urszula Włodkowska",
      "userId": "16582544481953068770"
     },
     "user_tz": -120
    },
    "id": "pV83YYllDVr4",
    "outputId": "ad8b28e0-fce0-47a1-f7d0-4d703b77e0d5"
   },
   "outputs": [
    {
     "name": "stdout",
     "output_type": "stream",
     "text": [
      "Ade\n"
     ]
    }
   ],
   "source": [
    "print(first_name[::2])"
   ]
  },
  {
   "cell_type": "markdown",
   "metadata": {
    "id": "8o-HjtcdDan9"
   },
   "source": [
    "Think of this syntax as being:\n",
    "\n",
    "`string_name[start:stop:step]`\n",
    "\n",
    "Where step indicates how big a jump you're making. If you leave entries blank, Python works out that you want to start at the start and end at the end.\n",
    "\n",
    "And finally... another useful function `slice`\n",
    "which allows us to index multiple strings in the same way, without having to retype the index information over and over (part of the reason we're doing this is to avoid more manual labour, right?)\n"
   ]
  },
  {
   "cell_type": "code",
   "execution_count": null,
   "metadata": {
    "colab": {
     "base_uri": "https://localhost:8080/",
     "height": 142
    },
    "executionInfo": {
     "elapsed": 44,
     "status": "ok",
     "timestamp": 1662389383157,
     "user": {
      "displayName": "Urszula Włodkowska",
      "userId": "16582544481953068770"
     },
     "user_tz": -120
    },
    "id": "Ltk1i4C0rcxY",
    "outputId": "86c5d23b-517f-4d06-a13f-7a9bcf3c77d1"
   },
   "outputs": [
    {
     "data": {
      "application/vnd.google.colaboratory.intrinsic+json": {
       "type": "string"
      },
      "text/plain": [
       "'dnA'"
      ]
     },
     "execution_count": 31,
     "metadata": {},
     "output_type": "execute_result"
    }
   ],
   "source": [
    "first_name = \"Andrew\"\n",
    "first_name[-4::-1]"
   ]
  },
  {
   "cell_type": "code",
   "execution_count": null,
   "metadata": {
    "colab": {
     "base_uri": "https://localhost:8080/"
    },
    "executionInfo": {
     "elapsed": 35,
     "status": "ok",
     "timestamp": 1662389383158,
     "user": {
      "displayName": "Urszula Włodkowska",
      "userId": "16582544481953068770"
     },
     "user_tz": -120
    },
    "id": "5jZv6FkoEGdl",
    "outputId": "8631d27f-f9c4-4f56-c11a-3cdded5fd9ff"
   },
   "outputs": [
    {
     "name": "stdout",
     "output_type": "stream",
     "text": [
      "nrwa\n"
     ]
    }
   ],
   "source": [
    "test_slice = slice(1, 8, 2)\n",
    "full_name = first_name + last_name\n",
    "print(full_name[test_slice])"
   ]
  },
  {
   "cell_type": "markdown",
   "metadata": {
    "id": "LZMc8y99syWl"
   },
   "source": [
    "Try this exercise - *and remember in many cases there are multiple ways of doing these things, right now what matters is the result*:<br>\n",
    "Take the string below and count the number of \"i\" characters, assign the number to a suitable variable name.<br>\n",
    "Now, count the total number of \"i\" and \"I\" characters and compare whether there are more \"i\" or \"I\".<br>\n",
    "What proportion of the total are lower case?<br>\n",
    "Find the location of the word \"Nencki\"<br>\n",
    "Assign the word \"Nencki\" to a suitable variable name.<br>\n",
    "Slice out every 4th letter from the string<br>\n"
   ]
  },
  {
   "cell_type": "code",
   "execution_count": null,
   "metadata": {
    "id": "0VPJFwI6EWfR"
   },
   "outputs": [],
   "source": [
    "test_string = \"This is the first incarnation of the Nencki Open Lab Python course, and I am having so much fun!\""
   ]
  },
  {
   "cell_type": "markdown",
   "metadata": {
    "id": "BBIAWGGovWq8"
   },
   "source": [
    "Sometimes, when you're dealing with strings, you want to modify the string dynamically - you might want different things in the string, depending on some specific criteria.<br>\n",
    "For example, you may want to insert mouse identification numbers, or some other feature for labelling a graph.<br>\n",
    "Python has two syntax elements for this:<br>\n",
    "`f-strings` from Python 3.6 onwards<br>\n",
    "`format` string method<br>\n",
    "\n",
    "These both provide a route to add things to strings during our analyses, through the use of `{}` within the string:"
   ]
  },
  {
   "cell_type": "code",
   "execution_count": null,
   "metadata": {
    "colab": {
     "base_uri": "https://localhost:8080/"
    },
    "executionInfo": {
     "elapsed": 28,
     "status": "ok",
     "timestamp": 1662389383161,
     "user": {
      "displayName": "Urszula Włodkowska",
      "userId": "16582544481953068770"
     },
     "user_tz": -120
    },
    "id": "ppk10dGPw3p3",
    "outputId": "eeba9fa3-87fd-404b-89bc-2fb3d0461892"
   },
   "outputs": [
    {
     "name": "stdout",
     "output_type": "stream",
     "text": [
      "I am going to insert a word here: Nencki\n",
      "I am going to insert a word here: Nencki\n",
      "I have worked at Nencki for 3 years\n",
      "I have worked at Nencki for 3 years\n",
      "mouse 1; mouse 2; mouse 3\n",
      "mouse 1; mouse 2; mouse 3\n",
      "mouse: {}; mouse: {}; mouse: {}; mouse: {}; mouse: {}; mouse: {}; mouse: {}; mouse: {}; mouse: {}; mouse: {}; \n",
      "mouse: 1; mouse: 2; mouse: 3; mouse: 4; mouse: 5; mouse: 6; mouse: 7; mouse: 8; mouse: 9; mouse: 10; \n"
     ]
    }
   ],
   "source": [
    "nencki_label = \"Nencki\"\n",
    "string_for_insertion = \"I am going to insert a word here: {}\"\n",
    "\n",
    "print(string_for_insertion.format(nencki_label))\n",
    "print(f\"I am going to insert a word here: {nencki_label}\")\n",
    "# notice the f preceding the string quotation marks\n",
    "\n",
    "# we can insert multiple elements by adding them to the method, separated by commas:\n",
    "work_statement = \"I have worked at {} for {} years\"\n",
    "print(work_statement.format(nencki_label, 3))\n",
    "# or\n",
    "print(f\"I have worked at {nencki_label} for {3} years\")\n",
    "\n",
    "# We can insert any number of elements easily\n",
    "target_string = \"mouse {}; mouse {}; mouse {}\"\n",
    "print(target_string.format(1, 2, 3))\n",
    "# or \n",
    "print(target_string.format(*\"123\"))\n",
    "mice = \"mouse: {}; \" * 10\n",
    "print(mice)\n",
    "print(mice.format(*range(1, 11)))"
   ]
  },
  {
   "cell_type": "markdown",
   "metadata": {
    "id": "LHkDke6_y4VL"
   },
   "source": [
    "The last item, using the `*` operator before the string, is an example of \"unpacking\". It works with any iterable, and tells Python to put each item from the iterable into the curly braces `{}` in sequential order from left to right.\n",
    "What happens if you try this:<br>\n",
    "`print(target_string.format(*\"1234\"))`"
   ]
  },
  {
   "cell_type": "code",
   "execution_count": null,
   "metadata": {
    "id": "p0CWxNPazR6M"
   },
   "outputs": [],
   "source": []
  },
  {
   "cell_type": "markdown",
   "metadata": {
    "id": "45s44lUe0piq"
   },
   "source": [
    "We can also modify the appearance of the insertion, according to specific rules, using a `:` symbol, using the [string formatting mini-language](https://docs.python.org/3/library/string.html#formatspec). One of the particular advantages of this is specifying the precision of floats in string reports."
   ]
  },
  {
   "cell_type": "code",
   "execution_count": null,
   "metadata": {
    "colab": {
     "base_uri": "https://localhost:8080/"
    },
    "executionInfo": {
     "elapsed": 24,
     "status": "ok",
     "timestamp": 1662389383162,
     "user": {
      "displayName": "Urszula Włodkowska",
      "userId": "16582544481953068770"
     },
     "user_tz": -120
    },
    "id": "NcFjLmEszZ3Y",
    "outputId": "333600ea-dd0b-452b-d0ba-a710dad69c8a"
   },
   "outputs": [
    {
     "name": "stdout",
     "output_type": "stream",
     "text": [
      "this is a string form of 0.3456789 to 3 decimal places: 0.346\n"
     ]
    }
   ],
   "source": [
    "print(\"this is a string form of 0.3456789 to 3 decimal places: {:.3f}\".format(0.3456789))\n",
    "# notice the : followed by .3 indicating 3 decimal places, and f indicating that the input is a float."
   ]
  },
  {
   "cell_type": "markdown",
   "metadata": {
    "id": "Zs5jszZd2yeI"
   },
   "source": [
    "Of course, strings also have their own function to convert things to string objects: `str`"
   ]
  },
  {
   "cell_type": "code",
   "execution_count": null,
   "metadata": {
    "colab": {
     "base_uri": "https://localhost:8080/"
    },
    "executionInfo": {
     "elapsed": 24,
     "status": "ok",
     "timestamp": 1662389383164,
     "user": {
      "displayName": "Urszula Włodkowska",
      "userId": "16582544481953068770"
     },
     "user_tz": -120
    },
    "id": "tLrUmXSK238b",
    "outputId": "e91abde9-bef2-4923-8399-ec228f68e028"
   },
   "outputs": [
    {
     "name": "stdout",
     "output_type": "stream",
     "text": [
      "<class 'int'>\n",
      "<class 'str'>\n",
      "1\n"
     ]
    }
   ],
   "source": [
    "aa = 1\n",
    "bb = str(1)\n",
    "print(type(aa))\n",
    "print(type(bb))\n",
    "print(bb)\n",
    "# note the quote marks around the output from the final print function, indicating that the output is a string"
   ]
  }
 ],
 "metadata": {
  "colab": {
   "provenance": []
  },
  "kernelspec": {
   "display_name": "Python 3 (ipykernel)",
   "language": "python",
   "name": "python3"
  },
  "language_info": {
   "codemirror_mode": {
    "name": "ipython",
    "version": 3
   },
   "file_extension": ".py",
   "mimetype": "text/x-python",
   "name": "python",
   "nbconvert_exporter": "python",
   "pygments_lexer": "ipython3",
   "version": "3.9.13"
  }
 },
 "nbformat": 4,
 "nbformat_minor": 1
}
