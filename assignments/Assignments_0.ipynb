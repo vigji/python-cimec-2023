{
 "cells": [
  {
   "cell_type": "markdown",
   "id": "f54dd50c",
   "metadata": {},
   "source": [
    "# Assignments - module 0\n",
    "\n",
    "[![Open In Colab](https://colab.research.google.com/assets/colab-badge.svg)](https://colab.research.google.com/github/vigji/python-cimec/blob/main/assignments/Assignments_0.ipynb)\n",
    "\n",
    "This notebook contains the assignments to complete for credits for the first module. Once you're happy with your solutions, send it to me in any form (email the file, share it through Colab/Google Drive, send me a link to your GitHub repo...).\n",
    "\n",
    "Deadline: still pending, together with the rest of the assignments - likely beginning of September.\n",
    "\n",
    "Try to keep in mind not only the goal of the exercise, but also all the coding best practices we have been considering in the lectures. Do your best, and feel free to ask for help! "
   ]
  },
  {
   "cell_type": "markdown",
   "id": "76b6380f",
   "metadata": {},
   "source": [
    "## 0. The Library of Babel"
   ]
  },
  {
   "cell_type": "markdown",
   "id": "a6561253",
   "metadata": {},
   "source": [
    "In [The Library of Babel](https://sites.evergreen.edu/politicalshakespeares/wp-content/uploads/sites/226/2015/12/Borges-The-Library-of-Babel.pdf), the Argentinian writer Jorge Louis Borges imagines a universe where people are born and live inside a giant library that contains an astronomical number of books. Each book:\n",
    "\n",
    "    ...contains four hundred ten pages; each page, forty lines; each line, approximately eighty black letters.   [...] all books, however different from one another they might be, consist of identical elements: the space, the period, the comma, and the twenty-two letters of the alphabet.\n",
    "\n",
    "\n",
    "Books in this library consist in all possible combinations of such symbols; as a consequence, the library contains: \n",
    "\n",
    "    ... All-the detailed history of the future, the autobiographies of the archangels, the faithful catalog of the Library, thousands and thousands of false catalogs, the proof of the falsity of those false catalogs, a proof of the falsity of the true catalog, the gnostic gospel of Basilides, the commentary upon that gospel, the commentary on the commentary on that gospel, the true story of your death, the translation of every book into every language, the interpolations of every book into all books, the treatise Bede could have written (but did not) on the mythology of the Saxon people, the lost books of Tacitus.\n",
    "\n"
   ]
  },
  {
   "cell_type": "markdown",
   "id": "11cf38cd",
   "metadata": {},
   "source": [
    "### Exercise 0.0\n",
    "In the library rests an enigmatic quantity: the number of books it contains.\n",
    "\n",
    "Let's calculate the number of books in the library! The formula is simple, but think beforehand: \n",
    "- Can we compute this number? Can you estimate a lower boundary for the space that the number would need in memory?\n",
    "- Can we represent the result with a float?\n",
    "- Can we represent it with an int? \n",
    "\n",
    "Try to calculate the number and assign it to a variable. Read its size with the sys.getsizeof() function. Was your estimate reasonable?\n",
    "\n",
    "(idle bonus question: do you think that your birth date, expressed as the sequence DDMMYY (day, month, shortened year), can be found somewhere in that sequence of numbers? If you're curious, try to find it!)"
   ]
  },
  {
   "cell_type": "code",
   "execution_count": null,
   "id": "6212085e",
   "metadata": {},
   "outputs": [],
   "source": [
    "import sys"
   ]
  },
  {
   "cell_type": "markdown",
   "id": "be4f1fbe",
   "metadata": {},
   "source": [
    "### Exercise 0.1\n",
    "\n",
    "Make a generator to create different books from the library every time it runs - ideally, in a randomic way. Then, make it a function!"
   ]
  },
  {
   "cell_type": "code",
   "execution_count": null,
   "id": "d1ad15b5",
   "metadata": {},
   "outputs": [],
   "source": [
    "import random"
   ]
  },
  {
   "cell_type": "markdown",
   "id": "a2c3a399",
   "metadata": {},
   "source": [
    "### Exercise 0.2\n",
    "\n",
    "Find in a given book all words / sequences of words that have a meaning in English. How many do you expect to find based on their length?"
   ]
  },
  {
   "cell_type": "code",
   "execution_count": null,
   "id": "462f88a1",
   "metadata": {},
   "outputs": [],
   "source": [
    "# To get a list of english words, you are given the following function:\n",
    "\n",
    "import requests\n",
    "\n",
    "def get_english_words_list():\n",
    "    \"\"\"Download a reasonably complete English dictionary.\n",
    "    \"\"\"\n",
    "    resp = requests.get(\"https://www.mit.edu/~ecprice/wordlist.10000\")\n",
    "    return resp.text.split(\"\\n\")\n",
    "\n",
    "# Call it and assign the resulting list to a variable!\n",
    "\n",
    "# Then, write a function to look up for words in a book, returning a list of the words that were found.\n"
   ]
  },
  {
   "cell_type": "code",
   "execution_count": null,
   "id": "d6a34d46",
   "metadata": {},
   "outputs": [],
   "source": []
  },
  {
   "cell_type": "markdown",
   "id": "76e100c3",
   "metadata": {},
   "source": [
    "#### Exercise 0.4\n",
    "\n",
    "Use the `%%timeit` special command to measure how long does it take to check for words in a book. How much time would you need to check the whole library?"
   ]
  },
  {
   "cell_type": "code",
   "execution_count": null,
   "id": "29015f29",
   "metadata": {},
   "outputs": [],
   "source": []
  },
  {
   "cell_type": "markdown",
   "id": "b525f519",
   "metadata": {},
   "source": [
    "## 1. Spotted UniTn"
   ]
  },
  {
   "cell_type": "markdown",
   "id": "db12042e",
   "metadata": {},
   "source": [
    "In this exercise, we'll be doing some stats on a dataset of all the people employed at UniTn scraped from the UniTn website.\n",
    "\n",
    "**Note**: We have not learned yet how to use arrays, matrices, and dataframes. Some of the analysis in this exercise will inevitabily look a bit cumbersome, because they are - with the tools we have now. They'll become a piece of cake with `pandas`!"
   ]
  },
  {
   "cell_type": "code",
   "execution_count": null,
   "id": "56ff6ba0",
   "metadata": {},
   "outputs": [],
   "source": [
    "import json\n",
    "import requests\n",
    "\n",
    "def get_unitn_hr_dataset():\n",
    "    \"\"\"Download all data about UniTn employees from their website.\n",
    "    \n",
    "    !!!Note: all information we are using here is made openly available from \n",
    "    the university. However, please do appreciate the power of similar data\n",
    "    scraping through any of the online platforms we're giving our data to,\n",
    "    were there some security holes! \n",
    "    This is no endorsment toward trying anything like that yourself, hacking \n",
    "    is bad. No seriously, it is. Also, copyright is good.\n",
    "    \n",
    "    Returns:\n",
    "    \n",
    "        list : A list of uni employees.\n",
    "    \n",
    "    \"\"\"\n",
    "    \n",
    "    # This string contains the address at which we'll find the dataset:\n",
    "    UNITN_PEOPLE_URL = \"https://dati.unitn.it/du/Person/en\"\n",
    "\n",
    "    # Get page response:\n",
    "    response = requests.get(UNITN_PEOPLE_URL)\n",
    "\n",
    "    # Parse a json from the page:\n",
    "    json_data = json.loads(response.text)\n",
    "\n",
    "    # Get actual data and return:\n",
    "    return json_data[\"value\"][\"data\"] \n"
   ]
  },
  {
   "cell_type": "code",
   "execution_count": null,
   "id": "ae543d19",
   "metadata": {},
   "outputs": [],
   "source": []
  },
  {
   "cell_type": "markdown",
   "id": "669c931b",
   "metadata": {},
   "source": [
    "#### Exercise 1.0\n",
    "\n",
    "Call the function and try to have a look at the result. How many people are employed at the university? How many at each department? Which is the deparment with the most professors?\n",
    "\n",
    "Make a nice `print` of all those results! (You'll see a lot of different departments. You can filter results for the ones with at least 10 people)\n",
    "\n",
    "- If people have multiple affiliations, count them in each one of them. Eg, if someone is listed under both  `\"Center for Mind/Brain Sciences - CIMeC\"` and `\"CeRiN - Center for Neurocognitive Rehabilitation\"`, put the person in the count for both departments.\n",
    "- If a person is listed with two different roles at the same department (e.g., as both `\"Graduate student\"` and `\"Research intern\"`) count that person only once for that department."
   ]
  },
  {
   "cell_type": "code",
   "execution_count": null,
   "id": "60e39898",
   "metadata": {},
   "outputs": [],
   "source": []
  },
  {
   "cell_type": "markdown",
   "id": "db624bbe",
   "metadata": {},
   "source": [
    "#### Exercise 1.1\n",
    "\n",
    "Imagine you want to call-bomb the `\"Department of Economics and Management\"` for a prank. You'll first need a list of all the phone numbers you can find in that department. Create that list!"
   ]
  },
  {
   "cell_type": "code",
   "execution_count": null,
   "id": "2f560dd1",
   "metadata": {},
   "outputs": [],
   "source": []
  },
  {
   "cell_type": "markdown",
   "id": "759cf40d",
   "metadata": {},
   "source": [
    "#### Exercise 1.2\n",
    "\n"
   ]
  },
  {
   "cell_type": "markdown",
   "id": "999a6f38",
   "metadata": {},
   "source": [
    "Use the function below to get a dictionary of Italian names divided by gender. \n",
    "\n",
    "Then, print out the gender ratio (how many women, how many men) for all the position roles that you can find in the dataset (filter out positions with less then 10 people). Then, jump to conclusions!\n",
    "\n",
    "- If a person has multiple roles count them for each of the roles they have\n",
    "- Yes, it can be erroneous to infer gender just from the name; here we assume potential errors will average out in the large numbers.\n",
    "- Yes, this will consider only Italian employees. You can print out how many names were left out (and which ones), and if you want try and improve the function by including international names in the list as well!"
   ]
  },
  {
   "cell_type": "code",
   "execution_count": null,
   "id": "cf71c38b",
   "metadata": {},
   "outputs": [],
   "source": [
    "import requests\n",
    "\n",
    "def get_names():\n",
    "    \"\"\"Download a list of italian names, divided by gender.\n",
    "    \n",
    "    Returns:\n",
    "    \n",
    "        dict : A dictionary of masculine and feminine names.\n",
    "        \n",
    "    \"\"\"\n",
    "    \n",
    "    # This string contains the address at which we'll find the names:\n",
    "    FIRST_NAMES_URL = \"https://gist.githubusercontent.com/metalelf0/a2ab283d0d5fd9b4b8a10d6427630627/raw/b848ffee70464fd39714a1a621f3a2eba6c3812e/italian_names.md\"\n",
    "\n",
    "    # Get page response:\n",
    "    response = requests.get(FIRST_NAMES_URL)\n",
    "    \n",
    "    # read the response as string:\n",
    "    raw_content = response.text \n",
    "    \n",
    "    # split lines and exclude fir header (# Male names):\n",
    "    full_names_list = raw_content.split(\"\\n\")[1:]\n",
    "    \n",
    "    # Look for the header \"# Female names\":\n",
    "    female_header_idx = full_names_list.index('# Female names')\n",
    "\n",
    "    # Names before header are male, after are female:\n",
    "    return dict(male=full_names_list[:female_header_idx],\n",
    "                female=full_names_list[female_header_idx + 1:])\n",
    "     "
   ]
  },
  {
   "cell_type": "markdown",
   "id": "d7b0a566",
   "metadata": {},
   "source": [
    "## 2. A Class `class`\n",
    "\n",
    "Here you will implement classes to represent students and a classroom. I give lists of possible attributes and methods that you can define on them, but feel free to interpret the instructions, or ignore them and add other methods and attributes of your making if you wish! \n",
    "\n",
    "To generate fake people, feel free to use either combinations of the above function and `random`,  or [the `faker` library](https://faker.readthedocs.io/en/master/) (funny library to know about! To install it, write in a cell of the notebook `!pip install Faker` and run it)"
   ]
  },
  {
   "cell_type": "markdown",
   "id": "4b020509",
   "metadata": {},
   "source": [
    "#### Exercise 2.0\n",
    "\n",
    "Define the class `Student` to represent a student. It may contain something along the following:\n",
    "\n",
    "Attributes:\n",
    "- a `name`\n",
    "- a `phone_number`\n",
    "- a `knowledge_score` in some range\n",
    "\n",
    "Methods:\n",
    "- a `learn` method that takes as input a number of hours and increases the `knowledge_score`.\n",
    "- a `undertake_exam` method that generates a test score in some range proportionally to the `knowledge_score` plus a random effect that you can incorporate with the `random` library\n",
    "\n",
    "Bonus:\n",
    "- implement the `__eq__()` special method to return `True` if two students have the same name and phone number\n",
    "- implement the `__repr__()` special method to show nicely info on the student when the variable is shown\n",
    "\n",
    "Implement the class with its docstrings, and write some code cells to show that it behaves properly.\n"
   ]
  },
  {
   "cell_type": "code",
   "execution_count": null,
   "id": "3485f682",
   "metadata": {},
   "outputs": [],
   "source": [
    "class Student:\n",
    "    ..."
   ]
  },
  {
   "cell_type": "markdown",
   "id": "daaa8a69",
   "metadata": {},
   "source": [
    "#### Exercise 2.1\n",
    "\n",
    "Define the class `Class`, that represents a classroom of students, document it and show how it can be used. It may contain something along the following:\n",
    "\n",
    "Attributes:\n",
    "\n",
    " - a list of students (use the `Student` object!)\n",
    " - a lectures counter\n",
    " - an exam logbook with all the exams taken; use the format that you find most suitable, but think about a reasonable and accessible way to keep track of all grades from all students\n",
    "\n",
    "Methods:\n",
    " - a method to add a new student to the class\n",
    " - a lecture method that increases the knowledge score of students (using the `Student` class methods)\n",
    " - a do test method that gets scores for a test for the whole classroom and store it in the log book (using the `Student` class methods)\n",
    " \n",
    "Bonus:\n",
    "- implement the `__eq__()` special method to return `True` if all students have the same names\n",
    "- implement the `__getitem__()` special method to get individual students from the classroom with the square brackets indexing\n",
    "- implement the `__repr__()` special method to show nicely info on the class\n",
    " \n",
    "\n",
    "Implement the class with its docstrings, and write some code cells to call the various methods and to show that it behaves properly."
   ]
  },
  {
   "cell_type": "code",
   "execution_count": null,
   "id": "6b25f918",
   "metadata": {},
   "outputs": [],
   "source": [
    "class Class:\n",
    "    ..."
   ]
  }
 ],
 "metadata": {
  "kernelspec": {
   "display_name": "Python 3 (ipykernel)",
   "language": "python",
   "name": "python3"
  },
  "language_info": {
   "codemirror_mode": {
    "name": "ipython",
    "version": 3
   },
   "file_extension": ".py",
   "mimetype": "text/x-python",
   "name": "python",
   "nbconvert_exporter": "python",
   "pygments_lexer": "ipython3"
  }
 },
 "nbformat": 4,
 "nbformat_minor": 5
}
