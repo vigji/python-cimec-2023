{
 "cells": [
  {
   "cell_type": "markdown",
   "id": "f54dd50c",
   "metadata": {},
   "source": [
    "# Assignments - module 1\n",
    "\n",
    "[![Open In Colab](https://colab.research.google.com/assets/colab-badge.svg)](https://colab.research.google.com/github/vigji/python-cimec/blob/main/assignments/Assignments_1.ipynb)\n",
    "\n",
    "This notebook contains the assignments to complete for credits for the first module. \n",
    "\n",
    "**Submission**: Once you're happy with your solutions, send it to me in any form (email the file, share it through Colab/Google Drive, send me a link to your GitHub repo...).\n",
    "\n",
    "**Deadline**: 15th of July 2023\n",
    "\n",
    "**Evaluation**: There is no grade, but I will pass assignments that showcase a reasonable degree of understanding og the covered topics. Do your best, and feel free to ask for help if you are struggling! \n",
    "\n",
    "(Also, try to keep in mind not only the goal of the exercise, but also all the coding best practices we have been considering in the lectures.)"
   ]
  },
  {
   "cell_type": "code",
   "execution_count": null,
   "id": "6c8c5771",
   "metadata": {},
   "outputs": [],
   "source": [
    "import numpy as np\n",
    "import pandas as pd\n",
    "from matplotlib import pyplot as plt"
   ]
  },
  {
   "cell_type": "markdown",
   "id": "f3c41f5f",
   "metadata": {},
   "source": [
    "## 0. Spike detection"
   ]
  },
  {
   "cell_type": "markdown",
   "id": "bb435bd7",
   "metadata": {},
   "source": [
    "In this exercise we will be playing around with some (dummy) electrophysiology recordings. Let's start by having a look at the raw data!"
   ]
  },
  {
   "cell_type": "code",
   "execution_count": null,
   "id": "070113ec",
   "metadata": {},
   "outputs": [],
   "source": [
    "def generate_spike_trace(trace_length=60, firing_rate=1, noise_sigma = 0.05):\n",
    "    \"\"\"Function to generate a fake extracellular recording.\n",
    "    \n",
    "    Parameters\n",
    "    ----------\n",
    "        trace_length : float\n",
    "            Duration of the recording in seconds.\n",
    "        \n",
    "        firing_rate : float\n",
    "            Average firing rate of the neuron in Hz.\n",
    "            \n",
    "        noise_sigma : float\n",
    "            Noise level.\n",
    "            \n",
    "            \n",
    "    Returns:\n",
    "    --------\n",
    "        np.array\n",
    "            Fake extracellular recording. \n",
    "    \n",
    "    \"\"\"\n",
    "    np.random.seed(42)\n",
    "    FS = 10000  # sampling frequency\n",
    "    n = int(trace_length * FS)  # number of samples\n",
    "    \n",
    "    # Generate spike shape template as a difference of Gaussians.\n",
    "    # A horrible bunch of magic numbers - do not imitate!\n",
    "    x = np.arange(30)\n",
    "    spike_template = np.exp(-(x - 10)**2/6) - np.exp(-(x - 12)**2/16)*0.8\n",
    "\n",
    "    # Generate spike times from a gaussian distribution:\n",
    "    spikes_times = np.random.poisson(firing_rate / FS, n)\n",
    "    \n",
    "    # Convolve dirac delta functions of spike times with spike template:\n",
    "    trace = np.convolve(spikes_times, spike_template)[:n]\n",
    "\n",
    "    # Add some gaussian noise:\n",
    "    trace += np.random.normal(0, noise_sigma, n)\n",
    "    \n",
    "    return trace"
   ]
  },
  {
   "cell_type": "markdown",
   "id": "b0250c76",
   "metadata": {},
   "source": [
    "### Exercise 0.0\n",
    "\n",
    "Run the function below to generate an synthetic extracellular recording for a neuron. Make a nice plot with the trace; the spikes are the peaks appearing above the noise! \n",
    "\n",
    "---\n",
    "\n",
    "(_Optional_) If you want to make a plot with exact x coordinates in seconds, you should know that the trace is sampled at 10000 Hz (10000 points per second)."
   ]
  },
  {
   "cell_type": "code",
   "execution_count": null,
   "id": "200e5634",
   "metadata": {},
   "outputs": [],
   "source": []
  },
  {
   "cell_type": "markdown",
   "id": "c4a209cd",
   "metadata": {},
   "source": [
    "### Exercise 0.1\n",
    "\n",
    "Write a function to detect spikes!\n",
    "The function should take the trace as input, and return the index of each spike as the output (as the index, you should take the position of the spike maximum)\n",
    "\n",
    "Hint: a good strategy to detect such events is to set a threshold, and look for elements above it. This will not be enough! each spike could have more than 1 point above the threshold, but you want to make sure you take only the spike peak! For this, you will probably need a loop.\n",
    "\n",
    "Hint: do not start from writing the function. First debug your code running it in a cell, then move it to a function.\n",
    "\n",
    "Hint: if you want, you can quickly check out the results you are getting by making a scatter plot of the detected spikes overimposed on the electrophysiology trace! (use as x of the dots the indexes of the spikes, and as y the hight of the trace at those indexes)"
   ]
  },
  {
   "cell_type": "code",
   "execution_count": null,
   "id": "907b1b2b",
   "metadata": {},
   "outputs": [],
   "source": []
  },
  {
   "cell_type": "markdown",
   "id": "4dd39c8d",
   "metadata": {},
   "source": [
    "### Exercise 0.2\n",
    "\n",
    "We now want to have a look at the shape of those spikes. For this, we will create a function that crops small chunks of the trace around each spike peak.\n",
    "\n",
    "Write a `crop_event()` function that takes as inputs:\n",
    "   - the recording array\n",
    "   - the spike indexes\n",
    "   - a `n_points_pad` variable specifying the number of points to include before and after the spike\n",
    "\n",
    "And returns a matrix of shape `(n_spikes, n_points*2)` containing the trace chunks cropped around spike events! \n",
    "\n",
    "Hint: A good strategy coult be initialize an empty matrix and then fill it in a loop with the trace around the spikes.\n",
    "\n",
    "**This function can be very useful in many contexts!** You can use it every time you want to crop a timeseries around events (e.g., EEG data or video kinematics data around some stimuli). So keep it at hand in the future!\n",
    "\n",
    "---\n",
    "\n",
    "(_Optional_) Pro challenge: Try to do it without for loops! if you construct a matrix with the indexes of the points you want to exctract from the trace, you can use it directly to index the trace!\n",
    "For indexing in this way, you want to build a matrix that looks like this:\n",
    "```\n",
    "array([[...t0-2, t0-1, t0, t0+1, t0+2...],\n",
    "       [...t1-2, t1-1, t1, t1+1, t1+2...],\n",
    "       [...t2-2, t2-1, t2, t2+1, t2+2...],])\n",
    "```\n",
    "Where `t0`, `t1`, `t2`... are the indexes of each spike, and you take as many points before and after as specified by the `n_points_pad` paramenter. \n",
    "\n",
    "Building this matrix without loops is not trivial but it can be done nicely with numpy broadcasting!"
   ]
  },
  {
   "cell_type": "code",
   "execution_count": null,
   "id": "3438baa7",
   "metadata": {},
   "outputs": [],
   "source": []
  },
  {
   "cell_type": "markdown",
   "id": "8319497b",
   "metadata": {},
   "source": [
    "### Exercise 0.3\n",
    "\n",
    "Finally, make two subplots one close to the other. On the left, use `plt.matshow` to show the spike matrix. On the right,\n",
    "plot each individual spike (rows of the matrix) using `plt.plot` with gray lines, and the average spike shape in red.\n",
    "\n",
    "(Optional) If you want you can try to normalize it by subtracting the average of each row as we were doing for the daily temperatures!"
   ]
  },
  {
   "cell_type": "code",
   "execution_count": null,
   "id": "fd0fd9ec",
   "metadata": {},
   "outputs": [],
   "source": []
  },
  {
   "cell_type": "markdown",
   "id": "f579b92a",
   "metadata": {},
   "source": [
    "## Extract signal from ROIs"
   ]
  },
  {
   "cell_type": "code",
   "execution_count": null,
   "id": "29efb400",
   "metadata": {},
   "outputs": [],
   "source": []
  },
  {
   "cell_type": "code",
   "execution_count": null,
   "id": "2662eeab",
   "metadata": {},
   "outputs": [],
   "source": []
  },
  {
   "cell_type": "code",
   "execution_count": null,
   "id": "d894e2fc",
   "metadata": {},
   "outputs": [],
   "source": []
  },
  {
   "cell_type": "code",
   "execution_count": null,
   "id": "630c7570",
   "metadata": {},
   "outputs": [],
   "source": []
  },
  {
   "cell_type": "code",
   "execution_count": null,
   "id": "d755c8c8",
   "metadata": {},
   "outputs": [],
   "source": []
  },
  {
   "cell_type": "code",
   "execution_count": null,
   "id": "c7266309",
   "metadata": {},
   "outputs": [],
   "source": []
  },
  {
   "cell_type": "code",
   "execution_count": null,
   "id": "7551291a",
   "metadata": {},
   "outputs": [],
   "source": []
  },
  {
   "cell_type": "code",
   "execution_count": null,
   "id": "ae143808",
   "metadata": {},
   "outputs": [],
   "source": []
  },
  {
   "cell_type": "markdown",
   "id": "e1a02dd7",
   "metadata": {},
   "source": []
  }
 ],
 "metadata": {
  "kernelspec": {
   "display_name": "Python [conda env:course_env]",
   "language": "python",
   "name": "conda-env-course_env-py"
  },
  "language_info": {
   "codemirror_mode": {
    "name": "ipython",
    "version": 3
   },
   "file_extension": ".py",
   "mimetype": "text/x-python",
   "name": "python",
   "nbconvert_exporter": "python",
   "pygments_lexer": "ipython3"
  }
 },
 "nbformat": 4,
 "nbformat_minor": 5
}
