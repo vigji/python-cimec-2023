{
 "cells": [
  {
   "cell_type": "markdown",
   "id": "76b6380f",
   "metadata": {},
   "source": [
    "## 0. The Library of Babel"
   ]
  },
  {
   "cell_type": "markdown",
   "id": "a6561253",
   "metadata": {},
   "source": [
    "In [The Library of Babel](https://sites.evergreen.edu/politicalshakespeares/wp-content/uploads/sites/226/2015/12/Borges-The-Library-of-Babel.pdf), the Argentinian writer Jorge Louis Borges imagines a universe where people are born and live inside a giant library that contains an astronomical number of books. Each book:\n",
    "\n",
    "    ...contains four hundred ten pages; each page, forty lines; each line, approximately eighty black letters.   [...] all books, however different from one another they might be, consist of identical elements: the space, the period, the comma, and the twenty-two letters of the alphabet.\n",
    "\n",
    "\n",
    "Books in this library consist in all possible combinations of such symbols; as a consequence, the library contains: \n",
    "\n",
    "    ... All-the detailed history of the future, the autobiographies of the archangels, the faithful catalog of the Library, thousands and thousands of false catalogs, the proof of the falsity of those false catalogs, a proof of the falsity of the true catalog, the gnostic gospel of Basilides, the commentary upon that gospel, the commentary on the commentary on that gospel, the true story of your death, the translation of every book into every language, the interpolations of every book into all books, the treatise Bede could have written (but did not) on the mythology of the Saxon people, the lost books of Tacitus.\n",
    "\n"
   ]
  },
  {
   "cell_type": "markdown",
   "id": "11cf38cd",
   "metadata": {},
   "source": [
    "### Exercise 0.1\n",
    "In the library rests an enigmatic quantity: the number of books it contains. Is this number calculable?\n",
    "\n",
    "Let's calculate the number of books in the library! The formula is simple, but think beforehand: \n",
    "- Can we compute this number? How much space would the calculation need in memory? \n",
    "- Can we represent the result with a float? \n",
    "- Can we represent it with an int? \n",
    "\n",
    "Try to calculate and write this number as a string on an output txt file; check its size and compare it with the required space in memory that you predicted; does it match?\n",
    "\n",
    "Bonus: do you think that your birth date, expressed as the sequence DDMMYY (day, month, year), can be found somewhere in that sequence of numbers? Try to find it!"
   ]
  },
  {
   "cell_type": "code",
   "execution_count": 2,
   "id": "0df8de5c",
   "metadata": {},
   "outputs": [
    {
     "data": {
      "text/plain": [
       "1312000"
      ]
     },
     "execution_count": 2,
     "metadata": {},
     "output_type": "execute_result"
    }
   ],
   "source": [
    "(40*80*410)"
   ]
  },
  {
   "cell_type": "code",
   "execution_count": 18,
   "id": "779a74b0",
   "metadata": {},
   "outputs": [],
   "source": [
    "a = 25**(40*80*410)"
   ]
  },
  {
   "cell_type": "code",
   "execution_count": 19,
   "id": "f8283f5c",
   "metadata": {
    "scrolled": false
   },
   "outputs": [],
   "source": [
    "str_repr = str(a)"
   ]
  },
  {
   "cell_type": "code",
   "execution_count": 33,
   "id": "028adcc8",
   "metadata": {},
   "outputs": [
    {
     "data": {
      "text/plain": [
       "812392"
      ]
     },
     "execution_count": 33,
     "metadata": {},
     "output_type": "execute_result"
    }
   ],
   "source": [
    "import sys\n",
    "sys.getsizeof(a)"
   ]
  },
  {
   "cell_type": "markdown",
   "id": "be4f1fbe",
   "metadata": {},
   "source": [
    "### Exercise 0.2\n",
    "\n",
    "Make a generator to create different books from the library every time it runs - ideally, in a randomic way. Then, make it a function!"
   ]
  },
  {
   "cell_type": "markdown",
   "id": "a2c3a399",
   "metadata": {},
   "source": [
    "### Exercise 0.3\n",
    "\n",
    "Find in a given book all words / sequences of words that have a meaning in English. How many do you expect to find based on their length?"
   ]
  },
  {
   "cell_type": "markdown",
   "id": "76e100c3",
   "metadata": {},
   "source": [
    "#### Exercise 0.4\n",
    "\n",
    "Use the %time special command to measure how long does it take to check for words in a book. How much time would you need to check the whole library?"
   ]
  },
  {
   "cell_type": "markdown",
   "id": "26c8e306",
   "metadata": {},
   "source": [
    "## 1. Subtitles search\n",
    "\n",
    "Subtitles search"
   ]
  },
  {
   "cell_type": "code",
   "execution_count": null,
   "id": "7850cb66",
   "metadata": {},
   "outputs": [],
   "source": []
  },
  {
   "cell_type": "code",
   "execution_count": null,
   "id": "9de396cc",
   "metadata": {},
   "outputs": [],
   "source": []
  },
  {
   "cell_type": "markdown",
   "id": "d7b0a566",
   "metadata": {},
   "source": [
    "## 2. Some data class"
   ]
  },
  {
   "cell_type": "code",
   "execution_count": null,
   "id": "6b25f918",
   "metadata": {},
   "outputs": [],
   "source": []
  }
 ],
 "metadata": {
  "kernelspec": {
   "display_name": "Python 3 (ipykernel)",
   "language": "python",
   "name": "python3"
  },
  "language_info": {
   "codemirror_mode": {
    "name": "ipython",
    "version": 3
   },
   "file_extension": ".py",
   "mimetype": "text/x-python",
   "name": "python",
   "nbconvert_exporter": "python",
   "pygments_lexer": "ipython3",
   "version": "3.9.13"
  }
 },
 "nbformat": 4,
 "nbformat_minor": 5
}
